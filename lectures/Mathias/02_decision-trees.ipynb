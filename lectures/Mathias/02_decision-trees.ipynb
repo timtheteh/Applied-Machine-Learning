{
 "cells": [
  {
   "cell_type": "markdown",
   "metadata": {
    "slideshow": {
     "slide_type": "slide"
    }
   },
   "source": [
    "![](../img/330-banner.png)"
   ]
  },
  {
   "cell_type": "markdown",
   "metadata": {
    "slideshow": {
     "slide_type": "-"
    }
   },
   "source": [
    "# Lecture 2: Terminology, Baselines, Decision Trees\n",
    "\n",
    "UBC 2022-23\n",
    "\n",
    "Instructor: Mathias Lécuyer"
   ]
  },
  {
   "cell_type": "markdown",
   "metadata": {
    "slideshow": {
     "slide_type": "skip"
    }
   },
   "source": [
    "## Imports"
   ]
  },
  {
   "cell_type": "code",
   "execution_count": 1,
   "metadata": {
    "slideshow": {
     "slide_type": "skip"
    }
   },
   "outputs": [],
   "source": [
    "%load_ext autoreload\n",
    "%autoreload 2\n",
    "\n",
    "import glob\n",
    "import os\n",
    "import re\n",
    "import sys\n",
    "from collections import Counter, defaultdict\n",
    "\n",
    "import matplotlib.pyplot as plt\n",
    "import numpy as np\n",
    "import pandas as pd\n",
    "\n",
    "sys.path.append(\"../code/.\")\n",
    "import graphviz\n",
    "import IPython\n",
    "from IPython.display import HTML, display\n",
    "from plotting_functions import *\n",
    "from sklearn.dummy import DummyClassifier\n",
    "from sklearn.feature_extraction.text import CountVectorizer\n",
    "from sklearn.linear_model import LinearRegression, LogisticRegression\n",
    "from sklearn.model_selection import train_test_split\n",
    "from sklearn.pipeline import Pipeline, make_pipeline\n",
    "from sklearn.tree import DecisionTreeClassifier, DecisionTreeRegressor, export_graphviz\n",
    "from utils import *\n",
    "\n",
    "plt.rcParams[\"font.size\"] = 16\n",
    "pd.set_option(\"display.max_colwidth\", 200)\n"
   ]
  },
  {
   "cell_type": "markdown",
   "metadata": {
    "slideshow": {
     "slide_type": "slide"
    }
   },
   "source": [
    "## Announcements \n",
    "\n",
    "- Reminder of first deliverables: \n",
    "    - Syllabus quiz: Jan 16, 11:59pm\n",
    "    - Homework 1 (hw1): Jan 16, 11:59pm \n",
    "- You can find the tentative due dates for all deliverables [here](https://github.com/UBC-CS/cpsc330-2022W2#lecture-schedule-tentative). \n",
    "- Please monitor [Piazza](https://piazza.com/class/lcgo6c2ncl06el) (especially pinned posts and instructor posts) for announcements.\n",
    "- Let's check your status: https://www.menti.com/alwcbyyjf26j\n"
   ]
  },
  {
   "cell_type": "markdown",
   "metadata": {
    "slideshow": {
     "slide_type": "slide"
    }
   },
   "source": [
    "### Quick recap: True or False?\n",
    "\n",
    "(Same menti as before: https://www.menti.com/alwcbyyjf26j)\n",
    "\n",
    "- There are different types of machine learning problems.\n",
    "- Predicting spam and predicting housing prices are both examples of supervised machine learning. \n",
    "- For problems such as spelling correction, translation, face recognition, spam identification, if you are a domain expert, it's usually faster and scalable to come up with a robust set of rules manually rather than building a machine learning model. \n",
    "- Google News is likely using machine learning to organize news. "
   ]
  },
  {
   "cell_type": "markdown",
   "metadata": {
    "slideshow": {
     "slide_type": "skip"
    }
   },
   "source": [
    "<br><br>"
   ]
  },
  {
   "cell_type": "markdown",
   "metadata": {
    "slideshow": {
     "slide_type": "slide"
    }
   },
   "source": [
    "## Learning outcomes \n",
    "From this lecture, you will be able to \n",
    "\n",
    "### Terminology [[video](https://youtu.be/YNT8n4cXu4A)]\n",
    "- identify whether a given problem could be solved using supervised machine learning or not; \n",
    "- differentiate between supervised and unsupervised machine learning;\n",
    "- explain machine learning terminology such as features, targets, predictions, training, and error;\n",
    "- differentiate between classification and regression problems;\n",
    "\n",
    "### Baselines [[video](https://youtu.be/6eT5cLL-2Vc)]\n",
    "- use `DummyClassifier` and `DummyRegressor` as baselines for machine learning problems;\n",
    "- explain the `fit` and `predict` paradigm and use `score` method of ML models; \n",
    "\n",
    "### Decision trees [[video](https://youtu.be/Hcf19Ij35rA)]\n",
    "- broadly describe how decision tree prediction works;\n",
    "- use `DecisionTreeClassifier` and `DecisionTreeRegressor` to build decision trees using `scikit-learn`; \n",
    "- visualize decision trees; \n",
    "\n",
    "### More terminology [[video](https://youtu.be/KEtsfXn4w2E)]\n",
    "- explain the difference between parameters and hyperparameters; \n",
    "- explain the concept of decision boundaries;\n",
    "- explain the relation between model complexity and decision boundaries."
   ]
  },
  {
   "cell_type": "markdown",
   "metadata": {},
   "source": [
    "<br><br>"
   ]
  },
  {
   "cell_type": "markdown",
   "metadata": {
    "slideshow": {
     "slide_type": "slide"
    }
   },
   "source": [
    "## Big picture and datasets"
   ]
  },
  {
   "cell_type": "markdown",
   "metadata": {},
   "source": [
    "In this lecture, we'll talk about our first machine learning model: Decision trees. We will also familiarize ourselves with some common terminology in supervised machine learning."
   ]
  },
  {
   "cell_type": "markdown",
   "metadata": {
    "slideshow": {
     "slide_type": "slide"
    }
   },
   "source": [
    "### Toy datasets \n",
    "Later in the course we will use larger datasets from Kaggle, for instance. But for our first couple of lectures, we will be working with the following three toy datasets:  \n",
    "\n",
    "- [Quiz2 grade prediction classification dataset](data/quiz2-grade-toy-classification.csv)\n",
    "- [Quiz2 grade prediction regression dataset](data/quiz2-grade-toy-regression.csv)\n",
    "- [Canada USA cities dataset](data/canada_usa_cities.csv)"
   ]
  },
  {
   "cell_type": "markdown",
   "metadata": {
    "slideshow": {
     "slide_type": "-"
    }
   },
   "source": [
    "***\n",
    "If it's not necessary for you to understand the code, it will be in one of the files under the `code` directory to avoid clutter in this notebook. For example, most of the plotting code is going to be in `code/plotting_functions.py`. \n",
    "***"
   ]
  },
  {
   "cell_type": "markdown",
   "metadata": {
    "slideshow": {
     "slide_type": "skip"
    }
   },
   "source": [
    "<br><br><br><br>"
   ]
  },
  {
   "cell_type": "markdown",
   "metadata": {
    "slideshow": {
     "slide_type": "slide"
    }
   },
   "source": [
    "## Terminology [[video](https://youtu.be/YNT8n4cXu4A)]\n",
    "\n",
    "You will see a lot of variable terminology in machine learning and statistics. Let's familiarize ourselves with some of the basic terminology used in ML. "
   ]
  },
  {
   "cell_type": "markdown",
   "metadata": {},
   "source": [
    "***\n",
    "Check out [the accompanying video](https://youtu.be/YNT8n4cXu4A) on this material. \n",
    "***"
   ]
  },
  {
   "cell_type": "markdown",
   "metadata": {
    "slideshow": {
     "slide_type": "slide"
    }
   },
   "source": [
    "We'll be using the following grade prediction toy dataset to demonstrate the terminology. Imagine that you are taking a course with four homework assignments and two quizzes. You and your friends are quite nervous about your quiz2 grades and you want to know how will you do based on your previous performance and some other attributes. So you decide to collect some data from your friends from last year and train a supervised machine learning model for quiz2 grade prediction. "
   ]
  },
  {
   "cell_type": "code",
   "execution_count": 2,
   "metadata": {},
   "outputs": [
    {
     "name": "stdout",
     "output_type": "stream",
     "text": [
      "(21, 8)\n"
     ]
    },
    {
     "data": {
      "text/html": [
       "<div>\n",
       "<style scoped>\n",
       "    .dataframe tbody tr th:only-of-type {\n",
       "        vertical-align: middle;\n",
       "    }\n",
       "\n",
       "    .dataframe tbody tr th {\n",
       "        vertical-align: top;\n",
       "    }\n",
       "\n",
       "    .dataframe thead th {\n",
       "        text-align: right;\n",
       "    }\n",
       "</style>\n",
       "<table border=\"1\" class=\"dataframe\">\n",
       "  <thead>\n",
       "    <tr style=\"text-align: right;\">\n",
       "      <th></th>\n",
       "      <th>ml_experience</th>\n",
       "      <th>class_attendance</th>\n",
       "      <th>lab1</th>\n",
       "      <th>lab2</th>\n",
       "      <th>lab3</th>\n",
       "      <th>lab4</th>\n",
       "      <th>quiz1</th>\n",
       "      <th>quiz2</th>\n",
       "    </tr>\n",
       "  </thead>\n",
       "  <tbody>\n",
       "    <tr>\n",
       "      <th>0</th>\n",
       "      <td>1</td>\n",
       "      <td>1</td>\n",
       "      <td>92</td>\n",
       "      <td>93</td>\n",
       "      <td>84</td>\n",
       "      <td>91</td>\n",
       "      <td>92</td>\n",
       "      <td>A+</td>\n",
       "    </tr>\n",
       "    <tr>\n",
       "      <th>1</th>\n",
       "      <td>1</td>\n",
       "      <td>0</td>\n",
       "      <td>94</td>\n",
       "      <td>90</td>\n",
       "      <td>80</td>\n",
       "      <td>83</td>\n",
       "      <td>91</td>\n",
       "      <td>not A+</td>\n",
       "    </tr>\n",
       "    <tr>\n",
       "      <th>2</th>\n",
       "      <td>0</td>\n",
       "      <td>0</td>\n",
       "      <td>78</td>\n",
       "      <td>85</td>\n",
       "      <td>83</td>\n",
       "      <td>80</td>\n",
       "      <td>80</td>\n",
       "      <td>not A+</td>\n",
       "    </tr>\n",
       "    <tr>\n",
       "      <th>3</th>\n",
       "      <td>0</td>\n",
       "      <td>1</td>\n",
       "      <td>91</td>\n",
       "      <td>94</td>\n",
       "      <td>92</td>\n",
       "      <td>91</td>\n",
       "      <td>89</td>\n",
       "      <td>A+</td>\n",
       "    </tr>\n",
       "    <tr>\n",
       "      <th>4</th>\n",
       "      <td>0</td>\n",
       "      <td>1</td>\n",
       "      <td>77</td>\n",
       "      <td>83</td>\n",
       "      <td>90</td>\n",
       "      <td>92</td>\n",
       "      <td>85</td>\n",
       "      <td>A+</td>\n",
       "    </tr>\n",
       "  </tbody>\n",
       "</table>\n",
       "</div>"
      ],
      "text/plain": [
       "   ml_experience  class_attendance  lab1  lab2  lab3  lab4  quiz1   quiz2\n",
       "0              1                 1    92    93    84    91     92      A+\n",
       "1              1                 0    94    90    80    83     91  not A+\n",
       "2              0                 0    78    85    83    80     80  not A+\n",
       "3              0                 1    91    94    92    91     89      A+\n",
       "4              0                 1    77    83    90    92     85      A+"
      ]
     },
     "execution_count": 2,
     "metadata": {},
     "output_type": "execute_result"
    }
   ],
   "source": [
    "classification_df = pd.read_csv(\"../data/quiz2-grade-toy-classification.csv\")\n",
    "print(classification_df.shape)\n",
    "classification_df.head()"
   ]
  },
  {
   "cell_type": "markdown",
   "metadata": {
    "slideshow": {
     "slide_type": "slide"
    }
   },
   "source": [
    "### Recap: Supervised machine learning\n",
    "\n",
    "![](../img/sup-learning.png)\n",
    "<!-- <img src=\"img/sup-learning.png\" height=\"800\" width=\"800\">  -->"
   ]
  },
  {
   "cell_type": "markdown",
   "metadata": {
    "slideshow": {
     "slide_type": "slide"
    }
   },
   "source": [
    "### Tabular data\n",
    "In supervised machine learning, the input data is typically organized in a **tabular** format, where rows are **examples** and columns are **features**. One of the columns is typically the **target**. \n",
    "\n",
    "![](../img/sup-ml-terminology.png)\n",
    "\n",
    "<!-- <img src=\"img/sup-ml-terminology.png\" height=\"1000\" width=\"1000\">  -->"
   ]
  },
  {
   "cell_type": "markdown",
   "metadata": {
    "slideshow": {
     "slide_type": "slide"
    }
   },
   "source": [
    "**Features** \n",
    ": Features are relevant characteristics of the problem, usually suggested by experts. Features are typically denoted by $X$ and the number of features is usually denoted by $d$.  \n",
    "\n",
    "**Target**\n",
    ": Target is the feature we want to predict (typically denoted by $y$). \n",
    "\n",
    "**Example** \n",
    ": A row of feature values. When people refer to an example, it may or may not include the target corresponding to the feature values, depending upon the context. The number of examples is usually denoted by $n$. \n",
    "\n",
    "**Training**\n",
    ": The process of learning the mapping between the features ($X$) and the target ($y$). "
   ]
  },
  {
   "cell_type": "markdown",
   "metadata": {
    "slideshow": {
     "slide_type": "slide"
    }
   },
   "source": [
    "#### Example: Tabular data for grade prediction\n",
    "\n",
    "The tabular data usually contains both: the features (`X`) and the target (`y`). "
   ]
  },
  {
   "cell_type": "code",
   "execution_count": 3,
   "metadata": {},
   "outputs": [
    {
     "data": {
      "text/html": [
       "<div>\n",
       "<style scoped>\n",
       "    .dataframe tbody tr th:only-of-type {\n",
       "        vertical-align: middle;\n",
       "    }\n",
       "\n",
       "    .dataframe tbody tr th {\n",
       "        vertical-align: top;\n",
       "    }\n",
       "\n",
       "    .dataframe thead th {\n",
       "        text-align: right;\n",
       "    }\n",
       "</style>\n",
       "<table border=\"1\" class=\"dataframe\">\n",
       "  <thead>\n",
       "    <tr style=\"text-align: right;\">\n",
       "      <th></th>\n",
       "      <th>ml_experience</th>\n",
       "      <th>class_attendance</th>\n",
       "      <th>lab1</th>\n",
       "      <th>lab2</th>\n",
       "      <th>lab3</th>\n",
       "      <th>lab4</th>\n",
       "      <th>quiz1</th>\n",
       "      <th>quiz2</th>\n",
       "    </tr>\n",
       "  </thead>\n",
       "  <tbody>\n",
       "    <tr>\n",
       "      <th>0</th>\n",
       "      <td>1</td>\n",
       "      <td>1</td>\n",
       "      <td>92</td>\n",
       "      <td>93</td>\n",
       "      <td>84</td>\n",
       "      <td>91</td>\n",
       "      <td>92</td>\n",
       "      <td>A+</td>\n",
       "    </tr>\n",
       "    <tr>\n",
       "      <th>1</th>\n",
       "      <td>1</td>\n",
       "      <td>0</td>\n",
       "      <td>94</td>\n",
       "      <td>90</td>\n",
       "      <td>80</td>\n",
       "      <td>83</td>\n",
       "      <td>91</td>\n",
       "      <td>not A+</td>\n",
       "    </tr>\n",
       "    <tr>\n",
       "      <th>2</th>\n",
       "      <td>0</td>\n",
       "      <td>0</td>\n",
       "      <td>78</td>\n",
       "      <td>85</td>\n",
       "      <td>83</td>\n",
       "      <td>80</td>\n",
       "      <td>80</td>\n",
       "      <td>not A+</td>\n",
       "    </tr>\n",
       "    <tr>\n",
       "      <th>3</th>\n",
       "      <td>0</td>\n",
       "      <td>1</td>\n",
       "      <td>91</td>\n",
       "      <td>94</td>\n",
       "      <td>92</td>\n",
       "      <td>91</td>\n",
       "      <td>89</td>\n",
       "      <td>A+</td>\n",
       "    </tr>\n",
       "    <tr>\n",
       "      <th>4</th>\n",
       "      <td>0</td>\n",
       "      <td>1</td>\n",
       "      <td>77</td>\n",
       "      <td>83</td>\n",
       "      <td>90</td>\n",
       "      <td>92</td>\n",
       "      <td>85</td>\n",
       "      <td>A+</td>\n",
       "    </tr>\n",
       "  </tbody>\n",
       "</table>\n",
       "</div>"
      ],
      "text/plain": [
       "   ml_experience  class_attendance  lab1  lab2  lab3  lab4  quiz1   quiz2\n",
       "0              1                 1    92    93    84    91     92      A+\n",
       "1              1                 0    94    90    80    83     91  not A+\n",
       "2              0                 0    78    85    83    80     80  not A+\n",
       "3              0                 1    91    94    92    91     89      A+\n",
       "4              0                 1    77    83    90    92     85      A+"
      ]
     },
     "execution_count": 3,
     "metadata": {},
     "output_type": "execute_result"
    }
   ],
   "source": [
    "classification_df = pd.read_csv(\"../data/quiz2-grade-toy-classification.csv\")\n",
    "classification_df.head()"
   ]
  },
  {
   "cell_type": "markdown",
   "metadata": {
    "slideshow": {
     "slide_type": "slide"
    }
   },
   "source": [
    "So the first step in training a supervised machine learning model is separating `X` and `y`. "
   ]
  },
  {
   "cell_type": "code",
   "execution_count": 4,
   "metadata": {
    "slideshow": {
     "slide_type": "-"
    }
   },
   "outputs": [
    {
     "data": {
      "text/html": [
       "<div>\n",
       "<style scoped>\n",
       "    .dataframe tbody tr th:only-of-type {\n",
       "        vertical-align: middle;\n",
       "    }\n",
       "\n",
       "    .dataframe tbody tr th {\n",
       "        vertical-align: top;\n",
       "    }\n",
       "\n",
       "    .dataframe thead th {\n",
       "        text-align: right;\n",
       "    }\n",
       "</style>\n",
       "<table border=\"1\" class=\"dataframe\">\n",
       "  <thead>\n",
       "    <tr style=\"text-align: right;\">\n",
       "      <th></th>\n",
       "      <th>ml_experience</th>\n",
       "      <th>class_attendance</th>\n",
       "      <th>lab1</th>\n",
       "      <th>lab2</th>\n",
       "      <th>lab3</th>\n",
       "      <th>lab4</th>\n",
       "      <th>quiz1</th>\n",
       "    </tr>\n",
       "  </thead>\n",
       "  <tbody>\n",
       "    <tr>\n",
       "      <th>0</th>\n",
       "      <td>1</td>\n",
       "      <td>1</td>\n",
       "      <td>92</td>\n",
       "      <td>93</td>\n",
       "      <td>84</td>\n",
       "      <td>91</td>\n",
       "      <td>92</td>\n",
       "    </tr>\n",
       "    <tr>\n",
       "      <th>1</th>\n",
       "      <td>1</td>\n",
       "      <td>0</td>\n",
       "      <td>94</td>\n",
       "      <td>90</td>\n",
       "      <td>80</td>\n",
       "      <td>83</td>\n",
       "      <td>91</td>\n",
       "    </tr>\n",
       "    <tr>\n",
       "      <th>2</th>\n",
       "      <td>0</td>\n",
       "      <td>0</td>\n",
       "      <td>78</td>\n",
       "      <td>85</td>\n",
       "      <td>83</td>\n",
       "      <td>80</td>\n",
       "      <td>80</td>\n",
       "    </tr>\n",
       "    <tr>\n",
       "      <th>3</th>\n",
       "      <td>0</td>\n",
       "      <td>1</td>\n",
       "      <td>91</td>\n",
       "      <td>94</td>\n",
       "      <td>92</td>\n",
       "      <td>91</td>\n",
       "      <td>89</td>\n",
       "    </tr>\n",
       "    <tr>\n",
       "      <th>4</th>\n",
       "      <td>0</td>\n",
       "      <td>1</td>\n",
       "      <td>77</td>\n",
       "      <td>83</td>\n",
       "      <td>90</td>\n",
       "      <td>92</td>\n",
       "      <td>85</td>\n",
       "    </tr>\n",
       "  </tbody>\n",
       "</table>\n",
       "</div>"
      ],
      "text/plain": [
       "   ml_experience  class_attendance  lab1  lab2  lab3  lab4  quiz1\n",
       "0              1                 1    92    93    84    91     92\n",
       "1              1                 0    94    90    80    83     91\n",
       "2              0                 0    78    85    83    80     80\n",
       "3              0                 1    91    94    92    91     89\n",
       "4              0                 1    77    83    90    92     85"
      ]
     },
     "execution_count": 4,
     "metadata": {},
     "output_type": "execute_result"
    }
   ],
   "source": [
    "X = classification_df.drop(columns=[\"quiz2\"])\n",
    "y = classification_df[\"quiz2\"]\n",
    "X.head()"
   ]
  },
  {
   "cell_type": "code",
   "execution_count": 5,
   "metadata": {},
   "outputs": [
    {
     "data": {
      "text/plain": [
       "0        A+\n",
       "1    not A+\n",
       "2    not A+\n",
       "3        A+\n",
       "4        A+\n",
       "Name: quiz2, dtype: object"
      ]
     },
     "execution_count": 5,
     "metadata": {},
     "output_type": "execute_result"
    }
   ],
   "source": [
    "y.head()"
   ]
  },
  {
   "cell_type": "code",
   "execution_count": 6,
   "metadata": {},
   "outputs": [
    {
     "data": {
      "text/plain": [
       "(21, 7)"
      ]
     },
     "execution_count": 6,
     "metadata": {},
     "output_type": "execute_result"
    }
   ],
   "source": [
    "X.shape"
   ]
  },
  {
   "cell_type": "markdown",
   "metadata": {
    "slideshow": {
     "slide_type": "skip"
    }
   },
   "source": [
    "#### Example: Tabular data for the housing price prediction\n",
    "\n",
    "Here is an example of tabular data for housing price prediction. You can download the data from [here](https://www.kaggle.com/harlfoxem/housesalesprediction). "
   ]
  },
  {
   "cell_type": "code",
   "execution_count": 7,
   "metadata": {
    "slideshow": {
     "slide_type": "skip"
    }
   },
   "outputs": [
    {
     "data": {
      "text/html": [
       "<table border=\"1\" class=\"dataframe\">\n",
       "  <thead>\n",
       "    <tr style=\"text-align: right;\">\n",
       "      <th>price</th>\n",
       "      <th>bedrooms</th>\n",
       "      <th>bathrooms</th>\n",
       "      <th>sqft_living</th>\n",
       "      <th>sqft_lot</th>\n",
       "      <th>floors</th>\n",
       "      <th>waterfront</th>\n",
       "      <th>view</th>\n",
       "      <th>condition</th>\n",
       "      <th>grade</th>\n",
       "      <th>sqft_above</th>\n",
       "      <th>sqft_basement</th>\n",
       "      <th>yr_built</th>\n",
       "      <th>yr_renovated</th>\n",
       "      <th>zipcode</th>\n",
       "      <th>lat</th>\n",
       "      <th>long</th>\n",
       "      <th>sqft_living15</th>\n",
       "      <th>sqft_lot15</th>\n",
       "    </tr>\n",
       "  </thead>\n",
       "  <tbody>\n",
       "    <tr>\n",
       "      <td>221900.0</td>\n",
       "      <td>3</td>\n",
       "      <td>1.00</td>\n",
       "      <td>1180</td>\n",
       "      <td>5650</td>\n",
       "      <td>1.0</td>\n",
       "      <td>0</td>\n",
       "      <td>0</td>\n",
       "      <td>3</td>\n",
       "      <td>7</td>\n",
       "      <td>1180</td>\n",
       "      <td>0</td>\n",
       "      <td>1955</td>\n",
       "      <td>0</td>\n",
       "      <td>98178</td>\n",
       "      <td>47.5112</td>\n",
       "      <td>-122.257</td>\n",
       "      <td>1340</td>\n",
       "      <td>5650</td>\n",
       "    </tr>\n",
       "    <tr>\n",
       "      <td>538000.0</td>\n",
       "      <td>3</td>\n",
       "      <td>2.25</td>\n",
       "      <td>2570</td>\n",
       "      <td>7242</td>\n",
       "      <td>2.0</td>\n",
       "      <td>0</td>\n",
       "      <td>0</td>\n",
       "      <td>3</td>\n",
       "      <td>7</td>\n",
       "      <td>2170</td>\n",
       "      <td>400</td>\n",
       "      <td>1951</td>\n",
       "      <td>1991</td>\n",
       "      <td>98125</td>\n",
       "      <td>47.7210</td>\n",
       "      <td>-122.319</td>\n",
       "      <td>1690</td>\n",
       "      <td>7639</td>\n",
       "    </tr>\n",
       "    <tr>\n",
       "      <td>180000.0</td>\n",
       "      <td>2</td>\n",
       "      <td>1.00</td>\n",
       "      <td>770</td>\n",
       "      <td>10000</td>\n",
       "      <td>1.0</td>\n",
       "      <td>0</td>\n",
       "      <td>0</td>\n",
       "      <td>3</td>\n",
       "      <td>6</td>\n",
       "      <td>770</td>\n",
       "      <td>0</td>\n",
       "      <td>1933</td>\n",
       "      <td>0</td>\n",
       "      <td>98028</td>\n",
       "      <td>47.7379</td>\n",
       "      <td>-122.233</td>\n",
       "      <td>2720</td>\n",
       "      <td>8062</td>\n",
       "    </tr>\n",
       "    <tr>\n",
       "      <td>604000.0</td>\n",
       "      <td>4</td>\n",
       "      <td>3.00</td>\n",
       "      <td>1960</td>\n",
       "      <td>5000</td>\n",
       "      <td>1.0</td>\n",
       "      <td>0</td>\n",
       "      <td>0</td>\n",
       "      <td>5</td>\n",
       "      <td>7</td>\n",
       "      <td>1050</td>\n",
       "      <td>910</td>\n",
       "      <td>1965</td>\n",
       "      <td>0</td>\n",
       "      <td>98136</td>\n",
       "      <td>47.5208</td>\n",
       "      <td>-122.393</td>\n",
       "      <td>1360</td>\n",
       "      <td>5000</td>\n",
       "    </tr>\n",
       "    <tr>\n",
       "      <td>510000.0</td>\n",
       "      <td>3</td>\n",
       "      <td>2.00</td>\n",
       "      <td>1680</td>\n",
       "      <td>8080</td>\n",
       "      <td>1.0</td>\n",
       "      <td>0</td>\n",
       "      <td>0</td>\n",
       "      <td>3</td>\n",
       "      <td>8</td>\n",
       "      <td>1680</td>\n",
       "      <td>0</td>\n",
       "      <td>1987</td>\n",
       "      <td>0</td>\n",
       "      <td>98074</td>\n",
       "      <td>47.6168</td>\n",
       "      <td>-122.045</td>\n",
       "      <td>1800</td>\n",
       "      <td>7503</td>\n",
       "    </tr>\n",
       "  </tbody>\n",
       "</table>"
      ],
      "text/plain": [
       "<IPython.core.display.HTML object>"
      ]
     },
     "execution_count": 7,
     "metadata": {},
     "output_type": "execute_result"
    }
   ],
   "source": [
    "housing_df = pd.read_csv(\"../data/kc_house_data.csv\")\n",
    "housing_df.drop([\"id\", \"date\"], axis=1, inplace=True)\n",
    "HTML(housing_df.head().to_html(index=False))"
   ]
  },
  {
   "cell_type": "code",
   "execution_count": 8,
   "metadata": {
    "slideshow": {
     "slide_type": "skip"
    }
   },
   "outputs": [
    {
     "data": {
      "text/html": [
       "<div>\n",
       "<style scoped>\n",
       "    .dataframe tbody tr th:only-of-type {\n",
       "        vertical-align: middle;\n",
       "    }\n",
       "\n",
       "    .dataframe tbody tr th {\n",
       "        vertical-align: top;\n",
       "    }\n",
       "\n",
       "    .dataframe thead th {\n",
       "        text-align: right;\n",
       "    }\n",
       "</style>\n",
       "<table border=\"1\" class=\"dataframe\">\n",
       "  <thead>\n",
       "    <tr style=\"text-align: right;\">\n",
       "      <th></th>\n",
       "      <th>bedrooms</th>\n",
       "      <th>bathrooms</th>\n",
       "      <th>sqft_living</th>\n",
       "      <th>sqft_lot</th>\n",
       "      <th>floors</th>\n",
       "      <th>waterfront</th>\n",
       "      <th>view</th>\n",
       "      <th>condition</th>\n",
       "      <th>grade</th>\n",
       "      <th>sqft_above</th>\n",
       "      <th>sqft_basement</th>\n",
       "      <th>yr_built</th>\n",
       "      <th>yr_renovated</th>\n",
       "      <th>zipcode</th>\n",
       "      <th>lat</th>\n",
       "      <th>long</th>\n",
       "      <th>sqft_living15</th>\n",
       "      <th>sqft_lot15</th>\n",
       "    </tr>\n",
       "  </thead>\n",
       "  <tbody>\n",
       "    <tr>\n",
       "      <th>0</th>\n",
       "      <td>3</td>\n",
       "      <td>1.00</td>\n",
       "      <td>1180</td>\n",
       "      <td>5650</td>\n",
       "      <td>1.0</td>\n",
       "      <td>0</td>\n",
       "      <td>0</td>\n",
       "      <td>3</td>\n",
       "      <td>7</td>\n",
       "      <td>1180</td>\n",
       "      <td>0</td>\n",
       "      <td>1955</td>\n",
       "      <td>0</td>\n",
       "      <td>98178</td>\n",
       "      <td>47.5112</td>\n",
       "      <td>-122.257</td>\n",
       "      <td>1340</td>\n",
       "      <td>5650</td>\n",
       "    </tr>\n",
       "    <tr>\n",
       "      <th>1</th>\n",
       "      <td>3</td>\n",
       "      <td>2.25</td>\n",
       "      <td>2570</td>\n",
       "      <td>7242</td>\n",
       "      <td>2.0</td>\n",
       "      <td>0</td>\n",
       "      <td>0</td>\n",
       "      <td>3</td>\n",
       "      <td>7</td>\n",
       "      <td>2170</td>\n",
       "      <td>400</td>\n",
       "      <td>1951</td>\n",
       "      <td>1991</td>\n",
       "      <td>98125</td>\n",
       "      <td>47.7210</td>\n",
       "      <td>-122.319</td>\n",
       "      <td>1690</td>\n",
       "      <td>7639</td>\n",
       "    </tr>\n",
       "    <tr>\n",
       "      <th>2</th>\n",
       "      <td>2</td>\n",
       "      <td>1.00</td>\n",
       "      <td>770</td>\n",
       "      <td>10000</td>\n",
       "      <td>1.0</td>\n",
       "      <td>0</td>\n",
       "      <td>0</td>\n",
       "      <td>3</td>\n",
       "      <td>6</td>\n",
       "      <td>770</td>\n",
       "      <td>0</td>\n",
       "      <td>1933</td>\n",
       "      <td>0</td>\n",
       "      <td>98028</td>\n",
       "      <td>47.7379</td>\n",
       "      <td>-122.233</td>\n",
       "      <td>2720</td>\n",
       "      <td>8062</td>\n",
       "    </tr>\n",
       "    <tr>\n",
       "      <th>3</th>\n",
       "      <td>4</td>\n",
       "      <td>3.00</td>\n",
       "      <td>1960</td>\n",
       "      <td>5000</td>\n",
       "      <td>1.0</td>\n",
       "      <td>0</td>\n",
       "      <td>0</td>\n",
       "      <td>5</td>\n",
       "      <td>7</td>\n",
       "      <td>1050</td>\n",
       "      <td>910</td>\n",
       "      <td>1965</td>\n",
       "      <td>0</td>\n",
       "      <td>98136</td>\n",
       "      <td>47.5208</td>\n",
       "      <td>-122.393</td>\n",
       "      <td>1360</td>\n",
       "      <td>5000</td>\n",
       "    </tr>\n",
       "    <tr>\n",
       "      <th>4</th>\n",
       "      <td>3</td>\n",
       "      <td>2.00</td>\n",
       "      <td>1680</td>\n",
       "      <td>8080</td>\n",
       "      <td>1.0</td>\n",
       "      <td>0</td>\n",
       "      <td>0</td>\n",
       "      <td>3</td>\n",
       "      <td>8</td>\n",
       "      <td>1680</td>\n",
       "      <td>0</td>\n",
       "      <td>1987</td>\n",
       "      <td>0</td>\n",
       "      <td>98074</td>\n",
       "      <td>47.6168</td>\n",
       "      <td>-122.045</td>\n",
       "      <td>1800</td>\n",
       "      <td>7503</td>\n",
       "    </tr>\n",
       "  </tbody>\n",
       "</table>\n",
       "</div>"
      ],
      "text/plain": [
       "   bedrooms  bathrooms  sqft_living  sqft_lot  floors  waterfront  view  \\\n",
       "0         3       1.00         1180      5650     1.0           0     0   \n",
       "1         3       2.25         2570      7242     2.0           0     0   \n",
       "2         2       1.00          770     10000     1.0           0     0   \n",
       "3         4       3.00         1960      5000     1.0           0     0   \n",
       "4         3       2.00         1680      8080     1.0           0     0   \n",
       "\n",
       "   condition  grade  sqft_above  sqft_basement  yr_built  yr_renovated  \\\n",
       "0          3      7        1180              0      1955             0   \n",
       "1          3      7        2170            400      1951          1991   \n",
       "2          3      6         770              0      1933             0   \n",
       "3          5      7        1050            910      1965             0   \n",
       "4          3      8        1680              0      1987             0   \n",
       "\n",
       "   zipcode      lat     long  sqft_living15  sqft_lot15  \n",
       "0    98178  47.5112 -122.257           1340        5650  \n",
       "1    98125  47.7210 -122.319           1690        7639  \n",
       "2    98028  47.7379 -122.233           2720        8062  \n",
       "3    98136  47.5208 -122.393           1360        5000  \n",
       "4    98074  47.6168 -122.045           1800        7503  "
      ]
     },
     "execution_count": 8,
     "metadata": {},
     "output_type": "execute_result"
    }
   ],
   "source": [
    "X = housing_df.drop(columns=[\"price\"])\n",
    "y = housing_df[\"price\"]\n",
    "X.head()"
   ]
  },
  {
   "cell_type": "code",
   "execution_count": 9,
   "metadata": {
    "slideshow": {
     "slide_type": "skip"
    }
   },
   "outputs": [
    {
     "data": {
      "text/plain": [
       "0    221900.0\n",
       "1    538000.0\n",
       "2    180000.0\n",
       "3    604000.0\n",
       "4    510000.0\n",
       "Name: price, dtype: float64"
      ]
     },
     "execution_count": 9,
     "metadata": {},
     "output_type": "execute_result"
    }
   ],
   "source": [
    "y.head()"
   ]
  },
  {
   "cell_type": "markdown",
   "metadata": {
    "slideshow": {
     "slide_type": "skip"
    }
   },
   "source": [
    "***\n",
    "To a machine, column names (features) have no meaning. Only feature values and how they vary across examples mean something. \n",
    "***"
   ]
  },
  {
   "cell_type": "markdown",
   "metadata": {},
   "source": [
    "<br><br>"
   ]
  },
  {
   "cell_type": "markdown",
   "metadata": {
    "slideshow": {
     "slide_type": "slide"
    }
   },
   "source": [
    "#### Alternative terminology for examples, features, targets, and training\n",
    "\n",
    "- **examples** = rows = samples = records = instances \n",
    "- **features** = inputs = predictors = explanatory variables = regressors = independent variables = covariates\n",
    "- **targets** = outputs = outcomes = response variable = dependent variable = labels (if categorical).\n",
    "- **training** = learning = fitting"
   ]
  },
  {
   "cell_type": "markdown",
   "metadata": {},
   "source": [
    "***\n",
    "Check out [the MDS terminology document](https://ubc-mds.github.io/resources_pages/terminology/). \n",
    "***"
   ]
  },
  {
   "cell_type": "markdown",
   "metadata": {},
   "source": [
    "<br><br>"
   ]
  },
  {
   "cell_type": "markdown",
   "metadata": {
    "slideshow": {
     "slide_type": "slide"
    }
   },
   "source": [
    "Let's pause our grades investigation for a second and think about the content of video [2.1](https://youtu.be/YNT8n4cXu4A). In this video, you learned about the differences between unsupervised and supervised learning, and between classification and regression. The following slides are a quick recap."
   ]
  },
  {
   "cell_type": "markdown",
   "metadata": {
    "slideshow": {
     "slide_type": "slide"
    }
   },
   "source": [
    "### Supervised learning vs. Unsupervised learning\n",
    "\n",
    "In **supervised learning**, training data comprises a set of features ($X$) and their corresponding targets ($y$). We wish to find a **model function $f$** that relates $X$ to $y$. Then use that model function **to predict the targets** of new examples. \n",
    "\n",
    "\n",
    "![](../img/sup-learning.png)\n",
    "\n",
    "<!-- <img src=\"img/sup-learning.png\" height=\"900\" width=\"900\"> -->\n"
   ]
  },
  {
   "cell_type": "markdown",
   "metadata": {
    "slideshow": {
     "slide_type": "slide"
    }
   },
   "source": [
    "In **unsupervised learning** training data consists of observations ($X$) **without any corresponding targets**. Unsupervised learning could be used to **group similar things together** in $X$ or to provide **concise summary** of the data. We'll learn more about this topic in later videos.\n",
    "\n",
    "![](../img/unsup-learning.png)\n",
    "\n",
    "<!-- <img src=\"img/unsup-learning.png\" alt=\"\" height=\"900\" width=\"900\"> -->"
   ]
  },
  {
   "cell_type": "markdown",
   "metadata": {},
   "source": [
    "Supervised machine learning is about function approximation, i.e., finding the mapping function between `X` and `y` whereas unsupervised machine learning is about concisely describing the data.   \n"
   ]
  },
  {
   "cell_type": "markdown",
   "metadata": {},
   "source": [
    "<br><br>"
   ]
  },
  {
   "cell_type": "markdown",
   "metadata": {
    "slideshow": {
     "slide_type": "slide"
    }
   },
   "source": [
    "### Classification vs. Regression \n",
    "In supervised machine learning, there are two main kinds of learning problems based on what they are trying to predict.\n",
    "- **Classification problem**: predicting among two or more discrete classes\n",
    "    - Example1: Predict whether a patient has a liver disease or not\n",
    "    - Example2: Predict whether a student would get an A+ or not in quiz2.  \n",
    "- **Regression problem**: predicting a continuous value\n",
    "    - Example1: Predict housing prices \n",
    "    - Example2: Predict a student's score in quiz2."
   ]
  },
  {
   "cell_type": "markdown",
   "metadata": {
    "slideshow": {
     "slide_type": "slide"
    }
   },
   "source": [
    "![](../img/classification-vs-regression.png)\n",
    "<!-- <img src=\"img/classification-vs-regression.png\" height=\"1500\" width=\"1500\">  -->"
   ]
  },
  {
   "cell_type": "code",
   "execution_count": 10,
   "metadata": {
    "slideshow": {
     "slide_type": "slide"
    }
   },
   "outputs": [
    {
     "data": {
      "text/html": [
       "<div>\n",
       "<style scoped>\n",
       "    .dataframe tbody tr th:only-of-type {\n",
       "        vertical-align: middle;\n",
       "    }\n",
       "\n",
       "    .dataframe tbody tr th {\n",
       "        vertical-align: top;\n",
       "    }\n",
       "\n",
       "    .dataframe thead th {\n",
       "        text-align: right;\n",
       "    }\n",
       "</style>\n",
       "<table border=\"1\" class=\"dataframe\">\n",
       "  <thead>\n",
       "    <tr style=\"text-align: right;\">\n",
       "      <th></th>\n",
       "      <th>ml_experience</th>\n",
       "      <th>class_attendance</th>\n",
       "      <th>lab1</th>\n",
       "      <th>lab2</th>\n",
       "      <th>lab3</th>\n",
       "      <th>lab4</th>\n",
       "      <th>quiz1</th>\n",
       "      <th>quiz2</th>\n",
       "    </tr>\n",
       "  </thead>\n",
       "  <tbody>\n",
       "    <tr>\n",
       "      <th>0</th>\n",
       "      <td>1</td>\n",
       "      <td>1</td>\n",
       "      <td>92</td>\n",
       "      <td>93</td>\n",
       "      <td>84</td>\n",
       "      <td>91</td>\n",
       "      <td>92</td>\n",
       "      <td>A+</td>\n",
       "    </tr>\n",
       "    <tr>\n",
       "      <th>1</th>\n",
       "      <td>1</td>\n",
       "      <td>0</td>\n",
       "      <td>94</td>\n",
       "      <td>90</td>\n",
       "      <td>80</td>\n",
       "      <td>83</td>\n",
       "      <td>91</td>\n",
       "      <td>not A+</td>\n",
       "    </tr>\n",
       "    <tr>\n",
       "      <th>2</th>\n",
       "      <td>0</td>\n",
       "      <td>0</td>\n",
       "      <td>78</td>\n",
       "      <td>85</td>\n",
       "      <td>83</td>\n",
       "      <td>80</td>\n",
       "      <td>80</td>\n",
       "      <td>not A+</td>\n",
       "    </tr>\n",
       "    <tr>\n",
       "      <th>3</th>\n",
       "      <td>0</td>\n",
       "      <td>1</td>\n",
       "      <td>91</td>\n",
       "      <td>94</td>\n",
       "      <td>92</td>\n",
       "      <td>91</td>\n",
       "      <td>89</td>\n",
       "      <td>A+</td>\n",
       "    </tr>\n",
       "  </tbody>\n",
       "</table>\n",
       "</div>"
      ],
      "text/plain": [
       "   ml_experience  class_attendance  lab1  lab2  lab3  lab4  quiz1   quiz2\n",
       "0              1                 1    92    93    84    91     92      A+\n",
       "1              1                 0    94    90    80    83     91  not A+\n",
       "2              0                 0    78    85    83    80     80  not A+\n",
       "3              0                 1    91    94    92    91     89      A+"
      ]
     },
     "execution_count": 10,
     "metadata": {},
     "output_type": "execute_result"
    }
   ],
   "source": [
    "# quiz2 classification toy data\n",
    "classification_df = pd.read_csv(\"../data/quiz2-grade-toy-classification.csv\")\n",
    "classification_df.head(4)"
   ]
  },
  {
   "cell_type": "code",
   "execution_count": 11,
   "metadata": {
    "slideshow": {
     "slide_type": "-"
    }
   },
   "outputs": [
    {
     "data": {
      "text/html": [
       "<div>\n",
       "<style scoped>\n",
       "    .dataframe tbody tr th:only-of-type {\n",
       "        vertical-align: middle;\n",
       "    }\n",
       "\n",
       "    .dataframe tbody tr th {\n",
       "        vertical-align: top;\n",
       "    }\n",
       "\n",
       "    .dataframe thead th {\n",
       "        text-align: right;\n",
       "    }\n",
       "</style>\n",
       "<table border=\"1\" class=\"dataframe\">\n",
       "  <thead>\n",
       "    <tr style=\"text-align: right;\">\n",
       "      <th></th>\n",
       "      <th>ml_experience</th>\n",
       "      <th>class_attendance</th>\n",
       "      <th>lab1</th>\n",
       "      <th>lab2</th>\n",
       "      <th>lab3</th>\n",
       "      <th>lab4</th>\n",
       "      <th>quiz1</th>\n",
       "      <th>quiz2</th>\n",
       "    </tr>\n",
       "  </thead>\n",
       "  <tbody>\n",
       "    <tr>\n",
       "      <th>0</th>\n",
       "      <td>1</td>\n",
       "      <td>1</td>\n",
       "      <td>92</td>\n",
       "      <td>93</td>\n",
       "      <td>84</td>\n",
       "      <td>91</td>\n",
       "      <td>92</td>\n",
       "      <td>90</td>\n",
       "    </tr>\n",
       "    <tr>\n",
       "      <th>1</th>\n",
       "      <td>1</td>\n",
       "      <td>0</td>\n",
       "      <td>94</td>\n",
       "      <td>90</td>\n",
       "      <td>80</td>\n",
       "      <td>83</td>\n",
       "      <td>91</td>\n",
       "      <td>84</td>\n",
       "    </tr>\n",
       "    <tr>\n",
       "      <th>2</th>\n",
       "      <td>0</td>\n",
       "      <td>0</td>\n",
       "      <td>78</td>\n",
       "      <td>85</td>\n",
       "      <td>83</td>\n",
       "      <td>80</td>\n",
       "      <td>80</td>\n",
       "      <td>82</td>\n",
       "    </tr>\n",
       "    <tr>\n",
       "      <th>3</th>\n",
       "      <td>0</td>\n",
       "      <td>1</td>\n",
       "      <td>91</td>\n",
       "      <td>94</td>\n",
       "      <td>92</td>\n",
       "      <td>91</td>\n",
       "      <td>89</td>\n",
       "      <td>92</td>\n",
       "    </tr>\n",
       "  </tbody>\n",
       "</table>\n",
       "</div>"
      ],
      "text/plain": [
       "   ml_experience  class_attendance  lab1  lab2  lab3  lab4  quiz1  quiz2\n",
       "0              1                 1    92    93    84    91     92     90\n",
       "1              1                 0    94    90    80    83     91     84\n",
       "2              0                 0    78    85    83    80     80     82\n",
       "3              0                 1    91    94    92    91     89     92"
      ]
     },
     "execution_count": 11,
     "metadata": {},
     "output_type": "execute_result"
    }
   ],
   "source": [
    "# quiz2 regression toy data\n",
    "regression_df = pd.read_csv(\"../data/quiz2-grade-toy-regression.csv\")\n",
    "regression_df.head(4)"
   ]
  },
  {
   "cell_type": "markdown",
   "metadata": {
    "slideshow": {
     "slide_type": "slide"
    }
   },
   "source": [
    "### ❓❓ Questions for you"
   ]
  },
  {
   "cell_type": "markdown",
   "metadata": {
    "slideshow": {
     "slide_type": "slide"
    }
   },
   "source": [
    "```\n",
    "Which of these are examples of supervised learning?\n",
    "\n",
    "1. Finding groups of similar properties in a real estate data set.\n",
    "2. Predicting real estate prices based on house features like number of rooms, learning from past sales as examples.\n",
    "3. Grouping articles on different topics from different news sources (something like the Google News app). \n",
    "4. Detecting credit card fraud based on examples of fraudulent and non-fraudulent transactions.\n",
    "```\n",
    "\n",
    "Let's answer here: https://www.menti.com/alf1tszig9pa"
   ]
  },
  {
   "cell_type": "markdown",
   "metadata": {
    "slideshow": {
     "slide_type": "skip"
    },
    "tags": []
   },
   "source": [
    "```{admonition} Exercise 2.2: V's Solutions!\n",
    ":class: tip, dropdown\n",
    "- 2 and 4 are examples of supervised machine learning \n",
    "```"
   ]
  },
  {
   "cell_type": "markdown",
   "metadata": {
    "slideshow": {
     "slide_type": "skip"
    }
   },
   "source": [
    "<br><br>"
   ]
  },
  {
   "cell_type": "markdown",
   "metadata": {
    "slideshow": {
     "slide_type": "slide"
    }
   },
   "source": [
    "```{admonition} Exercise 2.3: Classification vs. Regression\n",
    "\n",
    "Which of these are examples of classification and which ones are of regression?\n",
    "\n",
    "1. Predicting the price of a house based on features such as number of bedrooms and the year built.\n",
    "2. Predicting if a house will sell or not based on features like the price of the house, number of rooms, etc.\n",
    "3. Predicting percentage grade in CPSC 330 based on past grades.\n",
    "4. Predicting whether you should bicycle tomorrow or not based on the weather forecast.\n",
    "```\n",
    "\n",
    "Let's answer here: https://www.menti.com/alf1tszig9pa"
   ]
  },
  {
   "cell_type": "markdown",
   "metadata": {
    "slideshow": {
     "slide_type": "skip"
    },
    "tags": []
   },
   "source": [
    "```{admonition} Exercise 2.3: V's Solutions!\n",
    ":class: tip, dropdown\n",
    "- classification: 2, 4 \n",
    "- regression: 1, 3\n",
    "```"
   ]
  },
  {
   "cell_type": "markdown",
   "metadata": {},
   "source": [
    "<br><br>"
   ]
  },
  {
   "cell_type": "markdown",
   "metadata": {
    "slideshow": {
     "slide_type": "slide"
    }
   },
   "source": [
    "## Baselines [[video](https://youtu.be/6eT5cLL-2Vc)]"
   ]
  },
  {
   "cell_type": "markdown",
   "metadata": {},
   "source": [
    "***\n",
    "Check out [the accompanying video](https://youtu.be/6eT5cLL-2Vc) on this material. \n",
    "***"
   ]
  },
  {
   "cell_type": "markdown",
   "metadata": {
    "slideshow": {
     "slide_type": "slide"
    },
    "tags": []
   },
   "source": [
    "### Supervised learning (Reminder)\n",
    "\n",
    "- Training data $\\rightarrow$ Machine learning algorithm $\\rightarrow$ ML model \n",
    "- Unseen test data + ML model $\\rightarrow$ predictions\n",
    "![](../img/sup-learning.png)\n",
    "<!-- <img src=\"img/sup-learning.png\" height=\"1000\" width=\"1000\">  -->"
   ]
  },
  {
   "cell_type": "markdown",
   "metadata": {
    "slideshow": {
     "slide_type": "slide"
    }
   },
   "source": [
    "\n",
    "Let's build a very simple supervised machine learning model for quiz2 grade prediction problem. "
   ]
  },
  {
   "cell_type": "code",
   "execution_count": 12,
   "metadata": {
    "slideshow": {
     "slide_type": "-"
    }
   },
   "outputs": [
    {
     "data": {
      "text/html": [
       "<div>\n",
       "<style scoped>\n",
       "    .dataframe tbody tr th:only-of-type {\n",
       "        vertical-align: middle;\n",
       "    }\n",
       "\n",
       "    .dataframe tbody tr th {\n",
       "        vertical-align: top;\n",
       "    }\n",
       "\n",
       "    .dataframe thead th {\n",
       "        text-align: right;\n",
       "    }\n",
       "</style>\n",
       "<table border=\"1\" class=\"dataframe\">\n",
       "  <thead>\n",
       "    <tr style=\"text-align: right;\">\n",
       "      <th></th>\n",
       "      <th>ml_experience</th>\n",
       "      <th>class_attendance</th>\n",
       "      <th>lab1</th>\n",
       "      <th>lab2</th>\n",
       "      <th>lab3</th>\n",
       "      <th>lab4</th>\n",
       "      <th>quiz1</th>\n",
       "      <th>quiz2</th>\n",
       "    </tr>\n",
       "  </thead>\n",
       "  <tbody>\n",
       "    <tr>\n",
       "      <th>0</th>\n",
       "      <td>1</td>\n",
       "      <td>1</td>\n",
       "      <td>92</td>\n",
       "      <td>93</td>\n",
       "      <td>84</td>\n",
       "      <td>91</td>\n",
       "      <td>92</td>\n",
       "      <td>A+</td>\n",
       "    </tr>\n",
       "    <tr>\n",
       "      <th>1</th>\n",
       "      <td>1</td>\n",
       "      <td>0</td>\n",
       "      <td>94</td>\n",
       "      <td>90</td>\n",
       "      <td>80</td>\n",
       "      <td>83</td>\n",
       "      <td>91</td>\n",
       "      <td>not A+</td>\n",
       "    </tr>\n",
       "    <tr>\n",
       "      <th>2</th>\n",
       "      <td>0</td>\n",
       "      <td>0</td>\n",
       "      <td>78</td>\n",
       "      <td>85</td>\n",
       "      <td>83</td>\n",
       "      <td>80</td>\n",
       "      <td>80</td>\n",
       "      <td>not A+</td>\n",
       "    </tr>\n",
       "    <tr>\n",
       "      <th>3</th>\n",
       "      <td>0</td>\n",
       "      <td>1</td>\n",
       "      <td>91</td>\n",
       "      <td>94</td>\n",
       "      <td>92</td>\n",
       "      <td>91</td>\n",
       "      <td>89</td>\n",
       "      <td>A+</td>\n",
       "    </tr>\n",
       "    <tr>\n",
       "      <th>4</th>\n",
       "      <td>0</td>\n",
       "      <td>1</td>\n",
       "      <td>77</td>\n",
       "      <td>83</td>\n",
       "      <td>90</td>\n",
       "      <td>92</td>\n",
       "      <td>85</td>\n",
       "      <td>A+</td>\n",
       "    </tr>\n",
       "  </tbody>\n",
       "</table>\n",
       "</div>"
      ],
      "text/plain": [
       "   ml_experience  class_attendance  lab1  lab2  lab3  lab4  quiz1   quiz2\n",
       "0              1                 1    92    93    84    91     92      A+\n",
       "1              1                 0    94    90    80    83     91  not A+\n",
       "2              0                 0    78    85    83    80     80  not A+\n",
       "3              0                 1    91    94    92    91     89      A+\n",
       "4              0                 1    77    83    90    92     85      A+"
      ]
     },
     "execution_count": 12,
     "metadata": {},
     "output_type": "execute_result"
    }
   ],
   "source": [
    "classification_df = pd.read_csv(\"../data/quiz2-grade-toy-classification.csv\")\n",
    "classification_df.head()"
   ]
  },
  {
   "cell_type": "code",
   "execution_count": 13,
   "metadata": {},
   "outputs": [
    {
     "data": {
      "text/plain": [
       "not A+    11\n",
       "A+        10\n",
       "Name: quiz2, dtype: int64"
      ]
     },
     "execution_count": 13,
     "metadata": {},
     "output_type": "execute_result"
    }
   ],
   "source": [
    "classification_df['quiz2'].value_counts()"
   ]
  },
  {
   "cell_type": "markdown",
   "metadata": {},
   "source": [
    "Seems like \"not A+\" occurs more frequently than \"A+\". What if we predict \"not A+\" all the time? "
   ]
  },
  {
   "cell_type": "markdown",
   "metadata": {
    "slideshow": {
     "slide_type": "slide"
    }
   },
   "source": [
    "### Baselines \n",
    "\n",
    "**Baseline**\n",
    ": A simple machine learning algorithm based on simple rules of thumb. \n",
    "\n",
    "- For example, most frequent baseline always predicts the most frequent label in the training set. \n",
    "- Baselines provide a way to sanity check your machine learning model.    "
   ]
  },
  {
   "cell_type": "markdown",
   "metadata": {
    "slideshow": {
     "slide_type": "slide"
    }
   },
   "source": [
    "### `DummyClassifier` \n",
    "\n",
    "- `sklearn`'s baseline model for classification  \n",
    "- Let's train `DummyClassifier` on the grade prediction dataset. "
   ]
  },
  {
   "cell_type": "markdown",
   "metadata": {
    "slideshow": {
     "slide_type": "slide"
    }
   },
   "source": [
    "### Steps to train a classifier using `sklearn` \n",
    "\n",
    "1. Read the data\n",
    "2. Create $X$ and $y$\n",
    "3. Create a classifier object\n",
    "4. `fit` the classifier\n",
    "5. `predict` on new examples\n",
    "6. `score` the model"
   ]
  },
  {
   "cell_type": "markdown",
   "metadata": {
    "slideshow": {
     "slide_type": "slide"
    }
   },
   "source": [
    "#### Reading the data"
   ]
  },
  {
   "cell_type": "code",
   "execution_count": 14,
   "metadata": {},
   "outputs": [
    {
     "data": {
      "text/html": [
       "<div>\n",
       "<style scoped>\n",
       "    .dataframe tbody tr th:only-of-type {\n",
       "        vertical-align: middle;\n",
       "    }\n",
       "\n",
       "    .dataframe tbody tr th {\n",
       "        vertical-align: top;\n",
       "    }\n",
       "\n",
       "    .dataframe thead th {\n",
       "        text-align: right;\n",
       "    }\n",
       "</style>\n",
       "<table border=\"1\" class=\"dataframe\">\n",
       "  <thead>\n",
       "    <tr style=\"text-align: right;\">\n",
       "      <th></th>\n",
       "      <th>ml_experience</th>\n",
       "      <th>class_attendance</th>\n",
       "      <th>lab1</th>\n",
       "      <th>lab2</th>\n",
       "      <th>lab3</th>\n",
       "      <th>lab4</th>\n",
       "      <th>quiz1</th>\n",
       "      <th>quiz2</th>\n",
       "    </tr>\n",
       "  </thead>\n",
       "  <tbody>\n",
       "    <tr>\n",
       "      <th>0</th>\n",
       "      <td>1</td>\n",
       "      <td>1</td>\n",
       "      <td>92</td>\n",
       "      <td>93</td>\n",
       "      <td>84</td>\n",
       "      <td>91</td>\n",
       "      <td>92</td>\n",
       "      <td>A+</td>\n",
       "    </tr>\n",
       "    <tr>\n",
       "      <th>1</th>\n",
       "      <td>1</td>\n",
       "      <td>0</td>\n",
       "      <td>94</td>\n",
       "      <td>90</td>\n",
       "      <td>80</td>\n",
       "      <td>83</td>\n",
       "      <td>91</td>\n",
       "      <td>not A+</td>\n",
       "    </tr>\n",
       "    <tr>\n",
       "      <th>2</th>\n",
       "      <td>0</td>\n",
       "      <td>0</td>\n",
       "      <td>78</td>\n",
       "      <td>85</td>\n",
       "      <td>83</td>\n",
       "      <td>80</td>\n",
       "      <td>80</td>\n",
       "      <td>not A+</td>\n",
       "    </tr>\n",
       "    <tr>\n",
       "      <th>3</th>\n",
       "      <td>0</td>\n",
       "      <td>1</td>\n",
       "      <td>91</td>\n",
       "      <td>94</td>\n",
       "      <td>92</td>\n",
       "      <td>91</td>\n",
       "      <td>89</td>\n",
       "      <td>A+</td>\n",
       "    </tr>\n",
       "    <tr>\n",
       "      <th>4</th>\n",
       "      <td>0</td>\n",
       "      <td>1</td>\n",
       "      <td>77</td>\n",
       "      <td>83</td>\n",
       "      <td>90</td>\n",
       "      <td>92</td>\n",
       "      <td>85</td>\n",
       "      <td>A+</td>\n",
       "    </tr>\n",
       "  </tbody>\n",
       "</table>\n",
       "</div>"
      ],
      "text/plain": [
       "   ml_experience  class_attendance  lab1  lab2  lab3  lab4  quiz1   quiz2\n",
       "0              1                 1    92    93    84    91     92      A+\n",
       "1              1                 0    94    90    80    83     91  not A+\n",
       "2              0                 0    78    85    83    80     80  not A+\n",
       "3              0                 1    91    94    92    91     89      A+\n",
       "4              0                 1    77    83    90    92     85      A+"
      ]
     },
     "execution_count": 14,
     "metadata": {},
     "output_type": "execute_result"
    }
   ],
   "source": [
    "classification_df.head()"
   ]
  },
  {
   "cell_type": "markdown",
   "metadata": {
    "slideshow": {
     "slide_type": "slide"
    }
   },
   "source": [
    "#### Create $X$ and $y$\n",
    "\n",
    "- $X$ &rarr; Feature vectors\n",
    "- $y$ &rarr; Target"
   ]
  },
  {
   "cell_type": "code",
   "execution_count": 15,
   "metadata": {
    "slideshow": {
     "slide_type": "-"
    }
   },
   "outputs": [],
   "source": [
    "X = classification_df.drop(columns=[\"quiz2\"])\n",
    "y = classification_df[\"quiz2\"]"
   ]
  },
  {
   "cell_type": "markdown",
   "metadata": {
    "slideshow": {
     "slide_type": "slide"
    }
   },
   "source": [
    "#### Create a classifier object\n",
    "\n",
    "- `import` the appropriate classifier \n",
    "- Create an object of the classifier "
   ]
  },
  {
   "cell_type": "code",
   "execution_count": 16,
   "metadata": {
    "slideshow": {
     "slide_type": "-"
    }
   },
   "outputs": [],
   "source": [
    "from sklearn.dummy import DummyClassifier # import the classifier\n",
    "\n",
    "dummy_clf = DummyClassifier(strategy=\"most_frequent\") # Create a classifier object"
   ]
  },
  {
   "cell_type": "markdown",
   "metadata": {
    "slideshow": {
     "slide_type": "slide"
    }
   },
   "source": [
    "#### `fit` the classifier\n",
    "\n",
    "- The \"learning\" is carried out when we call `fit` on the classifier object. "
   ]
  },
  {
   "cell_type": "code",
   "execution_count": 17,
   "metadata": {
    "slideshow": {
     "slide_type": "-"
    }
   },
   "outputs": [],
   "source": [
    "dummy_clf.fit(X, y); # fit the classifier"
   ]
  },
  {
   "cell_type": "markdown",
   "metadata": {
    "slideshow": {
     "slide_type": "slide"
    }
   },
   "source": [
    "#### `predict` the target of given examples\n",
    "\n",
    "- We can predict the target of examples by calling `predict` on the classifier object. "
   ]
  },
  {
   "cell_type": "code",
   "execution_count": 18,
   "metadata": {
    "slideshow": {
     "slide_type": "-"
    }
   },
   "outputs": [
    {
     "data": {
      "text/plain": [
       "array(['not A+', 'not A+', 'not A+', 'not A+', 'not A+', 'not A+',\n",
       "       'not A+', 'not A+', 'not A+', 'not A+', 'not A+', 'not A+',\n",
       "       'not A+', 'not A+', 'not A+', 'not A+', 'not A+', 'not A+',\n",
       "       'not A+', 'not A+', 'not A+'], dtype='<U6')"
      ]
     },
     "execution_count": 18,
     "metadata": {},
     "output_type": "execute_result"
    }
   ],
   "source": [
    "dummy_clf.predict(X) # predict using the trained classifier"
   ]
  },
  {
   "cell_type": "markdown",
   "metadata": {
    "slideshow": {
     "slide_type": "slide"
    }
   },
   "source": [
    "#### `score` your model\n",
    "\n",
    "- How do you know how well your model is doing?\n",
    "- For classification problems, by default, `score` gives the **accuracy** of the model, i.e., proportion of correctly predicted targets.  \n",
    "\n",
    "    $accuracy = \\frac{\\text{correct predictions}}{\\text{total examples}}$   "
   ]
  },
  {
   "cell_type": "code",
   "execution_count": 19,
   "metadata": {},
   "outputs": [
    {
     "name": "stdout",
     "output_type": "stream",
     "text": [
      "The accuracy of the model on the training data: 0.524\n"
     ]
    }
   ],
   "source": [
    "print(\"The accuracy of the model on the training data: %0.3f\" % (dummy_clf.score(X, y)))"
   ]
  },
  {
   "cell_type": "markdown",
   "metadata": {
    "slideshow": {
     "slide_type": "slide"
    }
   },
   "source": [
    "- Sometimes you will also see people reporting **error**, which is usually $1 - accuracy$ \n",
    "- `score` \n",
    "    - calls `predict` on `X` \n",
    "    - compares predictions with `y` (true targets)\n",
    "    - returns the accuracy in case of classification.  "
   ]
  },
  {
   "cell_type": "code",
   "execution_count": 20,
   "metadata": {},
   "outputs": [
    {
     "name": "stdout",
     "output_type": "stream",
     "text": [
      "The error of the model on the training data: 0.476\n"
     ]
    }
   ],
   "source": [
    "print(\n",
    "    \"The error of the model on the training data: %0.3f\" % (1 - dummy_clf.score(X, y))\n",
    ")"
   ]
  },
  {
   "cell_type": "markdown",
   "metadata": {
    "slideshow": {
     "slide_type": "slide"
    }
   },
   "source": [
    "#### `fit`, `predict` , and `score` summary\n",
    "\n",
    "Here is the general pattern when we build ML models using `sklearn`. "
   ]
  },
  {
   "cell_type": "code",
   "execution_count": 21,
   "metadata": {
    "slideshow": {
     "slide_type": "-"
    }
   },
   "outputs": [
    {
     "name": "stdout",
     "output_type": "stream",
     "text": [
      "0.5238095238095238\n"
     ]
    },
    {
     "data": {
      "text/plain": [
       "array(['not A+', 'not A+'], dtype='<U6')"
      ]
     },
     "execution_count": 21,
     "metadata": {},
     "output_type": "execute_result"
    }
   ],
   "source": [
    "# Create `X` and `y` from the given data\n",
    "X = classification_df.drop(columns=[\"quiz2\"])\n",
    "y = classification_df[\"quiz2\"]\n",
    "\n",
    "clf = DummyClassifier(strategy=\"most_frequent\") # Create a class object\n",
    "clf.fit(X, y) # Train/fit the model\n",
    "print(clf.score(X, y)) # Assess the model\n",
    "\n",
    "new_examples = [[0, 1, 92, 90, 95, 93, 92], [1, 1, 92, 93, 94, 92]]\n",
    "clf.predict(new_examples) # Predict on some new data using the trained model"
   ]
  },
  {
   "cell_type": "markdown",
   "metadata": {
    "slideshow": {
     "slide_type": "slide"
    }
   },
   "source": [
    "### [`DummyRegressor`](https://scikit-learn.org/0.15/modules/generated/sklearn.dummy.DummyRegressor.html)\n",
    "\n",
    "You can also do the same thing for regression problems using `DummyRegressor`.\n",
    "\n",
    "If the DummyClassifier picked the most \"popular\" target, what should the DummyRegressor Pick?"
   ]
  },
  {
   "cell_type": "markdown",
   "metadata": {
    "slideshow": {
     "slide_type": "slide"
    }
   },
   "source": [
    "- Let's build a regression baseline model using `sklearn`. "
   ]
  },
  {
   "cell_type": "code",
   "execution_count": 22,
   "metadata": {
    "slideshow": {
     "slide_type": "-"
    }
   },
   "outputs": [
    {
     "name": "stdout",
     "output_type": "stream",
     "text": [
      "0.0\n"
     ]
    },
    {
     "data": {
      "text/plain": [
       "array([86.28571429, 86.28571429])"
      ]
     },
     "execution_count": 22,
     "metadata": {},
     "output_type": "execute_result"
    }
   ],
   "source": [
    "from sklearn.dummy import DummyRegressor\n",
    "\n",
    "regression_df = pd.read_csv(\"../data/quiz2-grade-toy-regression.csv\") # Read data \n",
    "X = regression_df.drop(columns=[\"quiz2\"]) # Create `X` and `y` from the given data\n",
    "y = regression_df[\"quiz2\"]\n",
    "reg = DummyRegressor() # Create a class object; uses mean as default strategy\n",
    "reg.fit(X, y) # Train/fit the model\n",
    "print(reg.score(X, y)) # Assess the model\n",
    "new_examples = [[0, 1, 92, 90, 95, 93, 92], [1, 1, 92, 93, 94, 92]]\n",
    "reg.predict(new_examples) # Predict on some new data using the trained model"
   ]
  },
  {
   "cell_type": "markdown",
   "metadata": {
    "slideshow": {
     "slide_type": "slide"
    }
   },
   "source": [
    "- The `fit` and `predict` paradigms similar to classification. The `score` method in the context of regression returns somethings called [$R^2$ score](https://scikit-learn.org/stable/modules/generated/sklearn.metrics.r2_score.html#sklearn.metrics.r2_score). (More on this in later videos.)     \n",
    "    - The maximum $R^2$ is 1 for perfect predictions. \n",
    "    - For `DummyRegressor` it returns the mean of the `y` values.   "
   ]
  },
  {
   "cell_type": "code",
   "execution_count": 23,
   "metadata": {},
   "outputs": [
    {
     "data": {
      "text/plain": [
       "0.0"
      ]
     },
     "execution_count": 23,
     "metadata": {},
     "output_type": "execute_result"
    }
   ],
   "source": [
    "reg.score(X, y)"
   ]
  },
  {
   "cell_type": "markdown",
   "metadata": {
    "slideshow": {
     "slide_type": "slide"
    }
   },
   "source": [
    "### ❓❓ Questions for you"
   ]
  },
  {
   "cell_type": "markdown",
   "metadata": {},
   "source": [
    "```{admonition} Exercise 2.4\n",
    "1. Order the steps below to build ML models using `sklearn`. \n",
    "    - `score` to evaluate the performance of a given model\n",
    "    - `predict` on new examples \n",
    "    - Creating a model instance\n",
    "    - Creating `X` and `y` \n",
    "    - `fit`\n",
    "2. Why do we train a Dummy Classifier?\n",
    "\n",
    "```\n",
    "\n",
    "Let's answer here: https://www.menti.com/alvzb1o23znq"
   ]
  },
  {
   "cell_type": "markdown",
   "metadata": {
    "slideshow": {
     "slide_type": "skip"
    }
   },
   "source": [
    "<br><br><br><br>"
   ]
  },
  {
   "cell_type": "markdown",
   "metadata": {
    "slideshow": {
     "slide_type": "slide"
    }
   },
   "source": [
    "## Decision trees [[video](https://youtu.be/Hcf19Ij35rA)]"
   ]
  },
  {
   "cell_type": "markdown",
   "metadata": {},
   "source": [
    "***\n",
    "Check out [the accompanying video](https://youtu.be/Hcf19Ij35rA) on this material. \n",
    "***"
   ]
  },
  {
   "cell_type": "markdown",
   "metadata": {
    "slideshow": {
     "slide_type": "slide"
    }
   },
   "source": [
    "### Writing a traditional program to predict quiz2 grade\n",
    "\n",
    "- Can we do better than the baseline? \n",
    "- Forget about ML for a second. If you are asked to write a program to predict whether a student gets an A+ or not in quiz2, how would you go for it?  \n",
    "- For simplicity, let's binarize the feature values. \n",
    "\n",
    "![](../img/quiz2-grade-toy.png)\n",
    "\n",
    "<!-- <img src=\"img/quiz2-grade-toy.png\" height=\"700\" width=\"700\">  -->\n"
   ]
  },
  {
   "cell_type": "markdown",
   "metadata": {
    "slideshow": {
     "slide_type": "slide"
    }
   },
   "source": [
    "- Is there a pattern that distinguishes yes's from no's and what does the pattern say about today? \n",
    "- How about a rule-based algorithm with a number of *if else* statements?  \n",
    "    ```\n",
    "    if class_attendance == 1 and quiz1 == 1:\n",
    "        quiz2 == \"A+\"\n",
    "    elif class_attendance == 1 and lab3 == 1 and lab4 == 1:\n",
    "        quiz2 == \"A+\"\n",
    "    ...\n",
    "    ```"
   ]
  },
  {
   "cell_type": "markdown",
   "metadata": {
    "slideshow": {
     "slide_type": "slide"
    }
   },
   "source": [
    "- How many possible rule combinations there could be with the given 7 binary features? \n",
    "    - Gets unwieldy pretty quickly "
   ]
  },
  {
   "cell_type": "markdown",
   "metadata": {
    "slideshow": {
     "slide_type": "slide"
    }
   },
   "source": [
    "### Decision tree algorithm \n",
    "\n",
    "- A machine learning algorithm to derive such rules from data in a principled way.  \n",
    "- Have you ever played [20-questions game](https://en.wikipedia.org/wiki/Twenty_questions)? Decision trees are based on the same idea! \n",
    "- Let's `fit` a decision tree using `scikit-learn` and `predict` with it.\n",
    "- Recall that `scikit-learn` uses the term `fit` for training or learning and uses `predict` for prediction. "
   ]
  },
  {
   "cell_type": "markdown",
   "metadata": {
    "slideshow": {
     "slide_type": "slide"
    }
   },
   "source": [
    "### Building decision trees with `sklearn`\n",
    "\n",
    "Let's binarize our toy dataset for simplicity. "
   ]
  },
  {
   "cell_type": "code",
   "execution_count": 24,
   "metadata": {
    "slideshow": {
     "slide_type": "slide"
    }
   },
   "outputs": [
    {
     "data": {
      "text/html": [
       "<div>\n",
       "<style scoped>\n",
       "    .dataframe tbody tr th:only-of-type {\n",
       "        vertical-align: middle;\n",
       "    }\n",
       "\n",
       "    .dataframe tbody tr th {\n",
       "        vertical-align: top;\n",
       "    }\n",
       "\n",
       "    .dataframe thead th {\n",
       "        text-align: right;\n",
       "    }\n",
       "</style>\n",
       "<table border=\"1\" class=\"dataframe\">\n",
       "  <thead>\n",
       "    <tr style=\"text-align: right;\">\n",
       "      <th></th>\n",
       "      <th>ml_experience</th>\n",
       "      <th>class_attendance</th>\n",
       "      <th>lab1</th>\n",
       "      <th>lab2</th>\n",
       "      <th>lab3</th>\n",
       "      <th>lab4</th>\n",
       "      <th>quiz1</th>\n",
       "    </tr>\n",
       "  </thead>\n",
       "  <tbody>\n",
       "    <tr>\n",
       "      <th>0</th>\n",
       "      <td>1</td>\n",
       "      <td>1</td>\n",
       "      <td>1</td>\n",
       "      <td>1</td>\n",
       "      <td>0</td>\n",
       "      <td>1</td>\n",
       "      <td>1</td>\n",
       "    </tr>\n",
       "    <tr>\n",
       "      <th>1</th>\n",
       "      <td>1</td>\n",
       "      <td>0</td>\n",
       "      <td>1</td>\n",
       "      <td>1</td>\n",
       "      <td>0</td>\n",
       "      <td>0</td>\n",
       "      <td>1</td>\n",
       "    </tr>\n",
       "    <tr>\n",
       "      <th>2</th>\n",
       "      <td>0</td>\n",
       "      <td>0</td>\n",
       "      <td>0</td>\n",
       "      <td>0</td>\n",
       "      <td>0</td>\n",
       "      <td>0</td>\n",
       "      <td>0</td>\n",
       "    </tr>\n",
       "    <tr>\n",
       "      <th>3</th>\n",
       "      <td>0</td>\n",
       "      <td>1</td>\n",
       "      <td>1</td>\n",
       "      <td>1</td>\n",
       "      <td>1</td>\n",
       "      <td>1</td>\n",
       "      <td>0</td>\n",
       "    </tr>\n",
       "    <tr>\n",
       "      <th>4</th>\n",
       "      <td>0</td>\n",
       "      <td>1</td>\n",
       "      <td>0</td>\n",
       "      <td>0</td>\n",
       "      <td>1</td>\n",
       "      <td>1</td>\n",
       "      <td>0</td>\n",
       "    </tr>\n",
       "  </tbody>\n",
       "</table>\n",
       "</div>"
      ],
      "text/plain": [
       "   ml_experience  class_attendance  lab1  lab2  lab3  lab4  quiz1\n",
       "0              1                 1     1     1     0     1      1\n",
       "1              1                 0     1     1     0     0      1\n",
       "2              0                 0     0     0     0     0      0\n",
       "3              0                 1     1     1     1     1      0\n",
       "4              0                 1     0     0     1     1      0"
      ]
     },
     "execution_count": 24,
     "metadata": {},
     "output_type": "execute_result"
    }
   ],
   "source": [
    "classification_df = pd.read_csv(\"../data/quiz2-grade-toy-classification.csv\")\n",
    "X = classification_df.drop(columns=[\"quiz2\"])\n",
    "y = classification_df[\"quiz2\"]\n",
    "\n",
    "X_binary = X.copy()\n",
    "columns = [\"lab1\", \"lab2\", \"lab3\", \"lab4\", \"quiz1\"]\n",
    "for col in columns:\n",
    "    X_binary[col] = X_binary[col].apply(lambda x: 1 if x >= 90 else 0)\n",
    "X_binary.head()"
   ]
  },
  {
   "cell_type": "code",
   "execution_count": 25,
   "metadata": {
    "slideshow": {
     "slide_type": "-"
    }
   },
   "outputs": [
    {
     "data": {
      "text/plain": [
       "0        A+\n",
       "1    not A+\n",
       "2    not A+\n",
       "3        A+\n",
       "4        A+\n",
       "Name: quiz2, dtype: object"
      ]
     },
     "execution_count": 25,
     "metadata": {},
     "output_type": "execute_result"
    }
   ],
   "source": [
    "y.head()"
   ]
  },
  {
   "cell_type": "markdown",
   "metadata": {
    "slideshow": {
     "slide_type": "slide"
    }
   },
   "source": [
    "#### `DummyClassifier` on quiz2 grade prediction toy dataset "
   ]
  },
  {
   "cell_type": "code",
   "execution_count": 26,
   "metadata": {
    "slideshow": {
     "slide_type": "-"
    }
   },
   "outputs": [
    {
     "data": {
      "text/plain": [
       "0.5238095238095238"
      ]
     },
     "execution_count": 26,
     "metadata": {},
     "output_type": "execute_result"
    }
   ],
   "source": [
    "dummy_clf = DummyClassifier(strategy=\"most_frequent\")\n",
    "dummy_clf.fit(X_binary, y)\n",
    "dummy_clf.score(X_binary, y)"
   ]
  },
  {
   "cell_type": "markdown",
   "metadata": {
    "slideshow": {
     "slide_type": "-"
    }
   },
   "source": [
    "#### `DecisionTreeClassifier` on quiz2 grade prediction toy dataset "
   ]
  },
  {
   "cell_type": "code",
   "execution_count": 27,
   "metadata": {
    "slideshow": {
     "slide_type": "-"
    }
   },
   "outputs": [
    {
     "data": {
      "text/plain": [
       "0.9047619047619048"
      ]
     },
     "execution_count": 27,
     "metadata": {},
     "output_type": "execute_result"
    }
   ],
   "source": [
    "from sklearn.tree import DecisionTreeClassifier\n",
    "\n",
    "model = DecisionTreeClassifier() # Create a decision tree\n",
    "model.fit(X_binary, y) # Fit a decision tree\n",
    "model.score(X_binary, y) # Assess the model"
   ]
  },
  {
   "cell_type": "markdown",
   "metadata": {},
   "source": [
    "The decision tree classifier is giving much higher accuracy than the dummy classifier. That's good news! "
   ]
  },
  {
   "cell_type": "code",
   "execution_count": 28,
   "metadata": {
    "slideshow": {
     "slide_type": "slide"
    }
   },
   "outputs": [
    {
     "data": {
      "image/svg+xml": [
       "<?xml version=\"1.0\" encoding=\"UTF-8\" standalone=\"no\"?>\n",
       "<!DOCTYPE svg PUBLIC \"-//W3C//DTD SVG 1.1//EN\"\n",
       " \"http://www.w3.org/Graphics/SVG/1.1/DTD/svg11.dtd\">\n",
       "<!-- Generated by graphviz version 7.0.5 (0)\n",
       " -->\n",
       "<!-- Title: Tree Pages: 1 -->\n",
       "<svg width=\"586pt\" height=\"491pt\"\n",
       " viewBox=\"0.00 0.00 585.50 491.00\" xmlns=\"http://www.w3.org/2000/svg\" xmlns:xlink=\"http://www.w3.org/1999/xlink\">\n",
       "<g id=\"graph0\" class=\"graph\" transform=\"scale(1 1) rotate(0) translate(4 487)\">\n",
       "<title>Tree</title>\n",
       "<polygon fill=\"white\" stroke=\"none\" points=\"-4,4 -4,-487 581.5,-487 581.5,4 -4,4\"/>\n",
       "<!-- 0 -->\n",
       "<g id=\"node1\" class=\"node\">\n",
       "<title>0</title>\n",
       "<polygon fill=\"none\" stroke=\"black\" points=\"324,-483 207,-483 207,-430 324,-430 324,-483\"/>\n",
       "<text text-anchor=\"middle\" x=\"265.5\" y=\"-467.8\" font-family=\"Helvetica,sans-Serif\" font-size=\"14.00\">lab4 &lt;= 0.5</text>\n",
       "<text text-anchor=\"middle\" x=\"265.5\" y=\"-452.8\" font-family=\"Helvetica,sans-Serif\" font-size=\"14.00\">counts = [10, 11]</text>\n",
       "<text text-anchor=\"middle\" x=\"265.5\" y=\"-437.8\" font-family=\"Helvetica,sans-Serif\" font-size=\"14.00\">class = not A+</text>\n",
       "</g>\n",
       "<!-- 1 -->\n",
       "<g id=\"node2\" class=\"node\">\n",
       "<title>1</title>\n",
       "<polygon fill=\"none\" stroke=\"black\" points=\"241,-394 138,-394 138,-341 241,-341 241,-394\"/>\n",
       "<text text-anchor=\"middle\" x=\"189.5\" y=\"-378.8\" font-family=\"Helvetica,sans-Serif\" font-size=\"14.00\">lab1 &lt;= 0.5</text>\n",
       "<text text-anchor=\"middle\" x=\"189.5\" y=\"-363.8\" font-family=\"Helvetica,sans-Serif\" font-size=\"14.00\">counts = [2, 7]</text>\n",
       "<text text-anchor=\"middle\" x=\"189.5\" y=\"-348.8\" font-family=\"Helvetica,sans-Serif\" font-size=\"14.00\">class = not A+</text>\n",
       "</g>\n",
       "<!-- 0&#45;&gt;1 -->\n",
       "<g id=\"edge1\" class=\"edge\">\n",
       "<title>0&#45;&gt;1</title>\n",
       "<path fill=\"none\" stroke=\"black\" d=\"M243.11,-429.87C235.68,-421.36 227.28,-411.75 219.37,-402.7\"/>\n",
       "<polygon fill=\"black\" stroke=\"black\" points=\"222.2,-400.62 212.99,-395.39 216.93,-405.22 222.2,-400.62\"/>\n",
       "<text text-anchor=\"middle\" x=\"210.31\" y=\"-415.49\" font-family=\"Helvetica,sans-Serif\" font-size=\"14.00\">True</text>\n",
       "</g>\n",
       "<!-- 8 -->\n",
       "<g id=\"node9\" class=\"node\">\n",
       "<title>8</title>\n",
       "<polygon fill=\"none\" stroke=\"black\" points=\"423.5,-394 259.5,-394 259.5,-341 423.5,-341 423.5,-394\"/>\n",
       "<text text-anchor=\"middle\" x=\"341.5\" y=\"-378.8\" font-family=\"Helvetica,sans-Serif\" font-size=\"14.00\">class_attendance &lt;= 0.5</text>\n",
       "<text text-anchor=\"middle\" x=\"341.5\" y=\"-363.8\" font-family=\"Helvetica,sans-Serif\" font-size=\"14.00\">counts = [8, 4]</text>\n",
       "<text text-anchor=\"middle\" x=\"341.5\" y=\"-348.8\" font-family=\"Helvetica,sans-Serif\" font-size=\"14.00\">class = A+</text>\n",
       "</g>\n",
       "<!-- 0&#45;&gt;8 -->\n",
       "<g id=\"edge8\" class=\"edge\">\n",
       "<title>0&#45;&gt;8</title>\n",
       "<path fill=\"none\" stroke=\"black\" d=\"M287.89,-429.87C295.32,-421.36 303.72,-411.75 311.63,-402.7\"/>\n",
       "<polygon fill=\"black\" stroke=\"black\" points=\"314.07,-405.22 318.01,-395.39 308.8,-400.62 314.07,-405.22\"/>\n",
       "<text text-anchor=\"middle\" x=\"320.69\" y=\"-415.49\" font-family=\"Helvetica,sans-Serif\" font-size=\"14.00\">False</text>\n",
       "</g>\n",
       "<!-- 2 -->\n",
       "<g id=\"node3\" class=\"node\">\n",
       "<title>2</title>\n",
       "<polygon fill=\"none\" stroke=\"black\" points=\"130,-305 27,-305 27,-252 130,-252 130,-305\"/>\n",
       "<text text-anchor=\"middle\" x=\"78.5\" y=\"-289.8\" font-family=\"Helvetica,sans-Serif\" font-size=\"14.00\">lab3 &lt;= 0.5</text>\n",
       "<text text-anchor=\"middle\" x=\"78.5\" y=\"-274.8\" font-family=\"Helvetica,sans-Serif\" font-size=\"14.00\">counts = [2, 4]</text>\n",
       "<text text-anchor=\"middle\" x=\"78.5\" y=\"-259.8\" font-family=\"Helvetica,sans-Serif\" font-size=\"14.00\">class = not A+</text>\n",
       "</g>\n",
       "<!-- 1&#45;&gt;2 -->\n",
       "<g id=\"edge2\" class=\"edge\">\n",
       "<title>1&#45;&gt;2</title>\n",
       "<path fill=\"none\" stroke=\"black\" d=\"M156.5,-340.63C145.19,-331.77 132.39,-321.74 120.47,-312.39\"/>\n",
       "<polygon fill=\"black\" stroke=\"black\" points=\"122.79,-309.77 112.76,-306.35 118.47,-315.28 122.79,-309.77\"/>\n",
       "</g>\n",
       "<!-- 7 -->\n",
       "<g id=\"node8\" class=\"node\">\n",
       "<title>7</title>\n",
       "<polygon fill=\"none\" stroke=\"black\" points=\"251,-297.5 148,-297.5 148,-259.5 251,-259.5 251,-297.5\"/>\n",
       "<text text-anchor=\"middle\" x=\"199.5\" y=\"-282.3\" font-family=\"Helvetica,sans-Serif\" font-size=\"14.00\">counts = [0, 3]</text>\n",
       "<text text-anchor=\"middle\" x=\"199.5\" y=\"-267.3\" font-family=\"Helvetica,sans-Serif\" font-size=\"14.00\">class = not A+</text>\n",
       "</g>\n",
       "<!-- 1&#45;&gt;7 -->\n",
       "<g id=\"edge7\" class=\"edge\">\n",
       "<title>1&#45;&gt;7</title>\n",
       "<path fill=\"none\" stroke=\"black\" d=\"M192.45,-340.87C193.59,-330.92 194.91,-319.47 196.09,-309.18\"/>\n",
       "<polygon fill=\"black\" stroke=\"black\" points=\"199.56,-309.62 197.23,-299.28 192.61,-308.82 199.56,-309.62\"/>\n",
       "</g>\n",
       "<!-- 3 -->\n",
       "<g id=\"node4\" class=\"node\">\n",
       "<title>3</title>\n",
       "<polygon fill=\"none\" stroke=\"black\" points=\"108,-216 5,-216 5,-163 108,-163 108,-216\"/>\n",
       "<text text-anchor=\"middle\" x=\"56.5\" y=\"-200.8\" font-family=\"Helvetica,sans-Serif\" font-size=\"14.00\">quiz1 &lt;= 0.5</text>\n",
       "<text text-anchor=\"middle\" x=\"56.5\" y=\"-185.8\" font-family=\"Helvetica,sans-Serif\" font-size=\"14.00\">counts = [1, 4]</text>\n",
       "<text text-anchor=\"middle\" x=\"56.5\" y=\"-170.8\" font-family=\"Helvetica,sans-Serif\" font-size=\"14.00\">class = not A+</text>\n",
       "</g>\n",
       "<!-- 2&#45;&gt;3 -->\n",
       "<g id=\"edge3\" class=\"edge\">\n",
       "<title>2&#45;&gt;3</title>\n",
       "<path fill=\"none\" stroke=\"black\" d=\"M72.02,-251.87C70.07,-244.15 67.88,-235.52 65.79,-227.23\"/>\n",
       "<polygon fill=\"black\" stroke=\"black\" points=\"69.23,-226.55 63.38,-217.72 62.44,-228.27 69.23,-226.55\"/>\n",
       "</g>\n",
       "<!-- 6 -->\n",
       "<g id=\"node7\" class=\"node\">\n",
       "<title>6</title>\n",
       "<polygon fill=\"none\" stroke=\"black\" points=\"228.5,-208.5 126.5,-208.5 126.5,-170.5 228.5,-170.5 228.5,-208.5\"/>\n",
       "<text text-anchor=\"middle\" x=\"177.5\" y=\"-193.3\" font-family=\"Helvetica,sans-Serif\" font-size=\"14.00\">counts = [1, 0]</text>\n",
       "<text text-anchor=\"middle\" x=\"177.5\" y=\"-178.3\" font-family=\"Helvetica,sans-Serif\" font-size=\"14.00\">class = A+</text>\n",
       "</g>\n",
       "<!-- 2&#45;&gt;6 -->\n",
       "<g id=\"edge6\" class=\"edge\">\n",
       "<title>2&#45;&gt;6</title>\n",
       "<path fill=\"none\" stroke=\"black\" d=\"M107.94,-251.63C120.62,-240.48 135.43,-227.47 148.11,-216.32\"/>\n",
       "<polygon fill=\"black\" stroke=\"black\" points=\"150.17,-219.18 155.37,-209.95 145.54,-213.92 150.17,-219.18\"/>\n",
       "</g>\n",
       "<!-- 4 -->\n",
       "<g id=\"node5\" class=\"node\">\n",
       "<title>4</title>\n",
       "<polygon fill=\"none\" stroke=\"black\" points=\"103,-119.5 0,-119.5 0,-81.5 103,-81.5 103,-119.5\"/>\n",
       "<text text-anchor=\"middle\" x=\"51.5\" y=\"-104.3\" font-family=\"Helvetica,sans-Serif\" font-size=\"14.00\">counts = [0, 4]</text>\n",
       "<text text-anchor=\"middle\" x=\"51.5\" y=\"-89.3\" font-family=\"Helvetica,sans-Serif\" font-size=\"14.00\">class = not A+</text>\n",
       "</g>\n",
       "<!-- 3&#45;&gt;4 -->\n",
       "<g id=\"edge4\" class=\"edge\">\n",
       "<title>3&#45;&gt;4</title>\n",
       "<path fill=\"none\" stroke=\"black\" d=\"M55.03,-162.87C54.46,-152.92 53.8,-141.47 53.21,-131.18\"/>\n",
       "<polygon fill=\"black\" stroke=\"black\" points=\"56.71,-131.07 52.64,-121.29 49.72,-131.47 56.71,-131.07\"/>\n",
       "</g>\n",
       "<!-- 5 -->\n",
       "<g id=\"node6\" class=\"node\">\n",
       "<title>5</title>\n",
       "<polygon fill=\"none\" stroke=\"black\" points=\"223.5,-119.5 121.5,-119.5 121.5,-81.5 223.5,-81.5 223.5,-119.5\"/>\n",
       "<text text-anchor=\"middle\" x=\"172.5\" y=\"-104.3\" font-family=\"Helvetica,sans-Serif\" font-size=\"14.00\">counts = [1, 0]</text>\n",
       "<text text-anchor=\"middle\" x=\"172.5\" y=\"-89.3\" font-family=\"Helvetica,sans-Serif\" font-size=\"14.00\">class = A+</text>\n",
       "</g>\n",
       "<!-- 3&#45;&gt;5 -->\n",
       "<g id=\"edge5\" class=\"edge\">\n",
       "<title>3&#45;&gt;5</title>\n",
       "<path fill=\"none\" stroke=\"black\" d=\"M90.99,-162.63C106.14,-151.27 123.87,-137.97 138.92,-126.68\"/>\n",
       "<polygon fill=\"black\" stroke=\"black\" points=\"140.79,-129.66 146.69,-120.86 136.59,-124.06 140.79,-129.66\"/>\n",
       "</g>\n",
       "<!-- 9 -->\n",
       "<g id=\"node10\" class=\"node\">\n",
       "<title>9</title>\n",
       "<polygon fill=\"none\" stroke=\"black\" points=\"383,-297.5 280,-297.5 280,-259.5 383,-259.5 383,-297.5\"/>\n",
       "<text text-anchor=\"middle\" x=\"331.5\" y=\"-282.3\" font-family=\"Helvetica,sans-Serif\" font-size=\"14.00\">counts = [0, 2]</text>\n",
       "<text text-anchor=\"middle\" x=\"331.5\" y=\"-267.3\" font-family=\"Helvetica,sans-Serif\" font-size=\"14.00\">class = not A+</text>\n",
       "</g>\n",
       "<!-- 8&#45;&gt;9 -->\n",
       "<g id=\"edge9\" class=\"edge\">\n",
       "<title>8&#45;&gt;9</title>\n",
       "<path fill=\"none\" stroke=\"black\" d=\"M338.55,-340.87C337.41,-330.92 336.09,-319.47 334.91,-309.18\"/>\n",
       "<polygon fill=\"black\" stroke=\"black\" points=\"338.39,-308.82 333.77,-299.28 331.44,-309.62 338.39,-308.82\"/>\n",
       "</g>\n",
       "<!-- 10 -->\n",
       "<g id=\"node11\" class=\"node\">\n",
       "<title>10</title>\n",
       "<polygon fill=\"none\" stroke=\"black\" points=\"503.5,-305 401.5,-305 401.5,-252 503.5,-252 503.5,-305\"/>\n",
       "<text text-anchor=\"middle\" x=\"452.5\" y=\"-289.8\" font-family=\"Helvetica,sans-Serif\" font-size=\"14.00\">lab2 &lt;= 0.5</text>\n",
       "<text text-anchor=\"middle\" x=\"452.5\" y=\"-274.8\" font-family=\"Helvetica,sans-Serif\" font-size=\"14.00\">counts = [8, 2]</text>\n",
       "<text text-anchor=\"middle\" x=\"452.5\" y=\"-259.8\" font-family=\"Helvetica,sans-Serif\" font-size=\"14.00\">class = A+</text>\n",
       "</g>\n",
       "<!-- 8&#45;&gt;10 -->\n",
       "<g id=\"edge10\" class=\"edge\">\n",
       "<title>8&#45;&gt;10</title>\n",
       "<path fill=\"none\" stroke=\"black\" d=\"M374.5,-340.63C385.81,-331.77 398.61,-321.74 410.53,-312.39\"/>\n",
       "<polygon fill=\"black\" stroke=\"black\" points=\"412.53,-315.28 418.24,-306.35 408.21,-309.77 412.53,-315.28\"/>\n",
       "</g>\n",
       "<!-- 11 -->\n",
       "<g id=\"node12\" class=\"node\">\n",
       "<title>11</title>\n",
       "<polygon fill=\"none\" stroke=\"black\" points=\"420.5,-208.5 318.5,-208.5 318.5,-170.5 420.5,-170.5 420.5,-208.5\"/>\n",
       "<text text-anchor=\"middle\" x=\"369.5\" y=\"-193.3\" font-family=\"Helvetica,sans-Serif\" font-size=\"14.00\">counts = [3, 0]</text>\n",
       "<text text-anchor=\"middle\" x=\"369.5\" y=\"-178.3\" font-family=\"Helvetica,sans-Serif\" font-size=\"14.00\">class = A+</text>\n",
       "</g>\n",
       "<!-- 10&#45;&gt;11 -->\n",
       "<g id=\"edge11\" class=\"edge\">\n",
       "<title>10&#45;&gt;11</title>\n",
       "<path fill=\"none\" stroke=\"black\" d=\"M428.05,-251.87C417.53,-240.84 405.24,-227.97 394.65,-216.86\"/>\n",
       "<polygon fill=\"black\" stroke=\"black\" points=\"397.42,-214.69 387.98,-209.87 392.35,-219.52 397.42,-214.69\"/>\n",
       "</g>\n",
       "<!-- 12 -->\n",
       "<g id=\"node13\" class=\"node\">\n",
       "<title>12</title>\n",
       "<polygon fill=\"none\" stroke=\"black\" points=\"540.5,-216 438.5,-216 438.5,-163 540.5,-163 540.5,-216\"/>\n",
       "<text text-anchor=\"middle\" x=\"489.5\" y=\"-200.8\" font-family=\"Helvetica,sans-Serif\" font-size=\"14.00\">quiz1 &lt;= 0.5</text>\n",
       "<text text-anchor=\"middle\" x=\"489.5\" y=\"-185.8\" font-family=\"Helvetica,sans-Serif\" font-size=\"14.00\">counts = [5, 2]</text>\n",
       "<text text-anchor=\"middle\" x=\"489.5\" y=\"-170.8\" font-family=\"Helvetica,sans-Serif\" font-size=\"14.00\">class = A+</text>\n",
       "</g>\n",
       "<!-- 10&#45;&gt;12 -->\n",
       "<g id=\"edge12\" class=\"edge\">\n",
       "<title>10&#45;&gt;12</title>\n",
       "<path fill=\"none\" stroke=\"black\" d=\"M463.4,-251.87C466.76,-243.97 470.52,-235.13 474.12,-226.67\"/>\n",
       "<polygon fill=\"black\" stroke=\"black\" points=\"477.26,-228.21 477.96,-217.64 470.82,-225.48 477.26,-228.21\"/>\n",
       "</g>\n",
       "<!-- 13 -->\n",
       "<g id=\"node14\" class=\"node\">\n",
       "<title>13</title>\n",
       "<polygon fill=\"none\" stroke=\"black\" points=\"457.5,-127 309.5,-127 309.5,-74 457.5,-74 457.5,-127\"/>\n",
       "<text text-anchor=\"middle\" x=\"383.5\" y=\"-111.8\" font-family=\"Helvetica,sans-Serif\" font-size=\"14.00\">ml_experience &lt;= 0.5</text>\n",
       "<text text-anchor=\"middle\" x=\"383.5\" y=\"-96.8\" font-family=\"Helvetica,sans-Serif\" font-size=\"14.00\">counts = [2, 2]</text>\n",
       "<text text-anchor=\"middle\" x=\"383.5\" y=\"-81.8\" font-family=\"Helvetica,sans-Serif\" font-size=\"14.00\">class = A+</text>\n",
       "</g>\n",
       "<!-- 12&#45;&gt;13 -->\n",
       "<g id=\"edge13\" class=\"edge\">\n",
       "<title>12&#45;&gt;13</title>\n",
       "<path fill=\"none\" stroke=\"black\" d=\"M457.98,-162.63C447.29,-153.86 435.2,-143.93 423.91,-134.67\"/>\n",
       "<polygon fill=\"black\" stroke=\"black\" points=\"426.2,-132.02 416.25,-128.38 421.76,-137.43 426.2,-132.02\"/>\n",
       "</g>\n",
       "<!-- 16 -->\n",
       "<g id=\"node17\" class=\"node\">\n",
       "<title>16</title>\n",
       "<polygon fill=\"none\" stroke=\"black\" points=\"577.5,-119.5 475.5,-119.5 475.5,-81.5 577.5,-81.5 577.5,-119.5\"/>\n",
       "<text text-anchor=\"middle\" x=\"526.5\" y=\"-104.3\" font-family=\"Helvetica,sans-Serif\" font-size=\"14.00\">counts = [3, 0]</text>\n",
       "<text text-anchor=\"middle\" x=\"526.5\" y=\"-89.3\" font-family=\"Helvetica,sans-Serif\" font-size=\"14.00\">class = A+</text>\n",
       "</g>\n",
       "<!-- 12&#45;&gt;16 -->\n",
       "<g id=\"edge16\" class=\"edge\">\n",
       "<title>12&#45;&gt;16</title>\n",
       "<path fill=\"none\" stroke=\"black\" d=\"M500.4,-162.87C504.77,-152.6 509.82,-140.73 514.31,-130.17\"/>\n",
       "<polygon fill=\"black\" stroke=\"black\" points=\"517.44,-131.74 518.13,-121.17 511,-129 517.44,-131.74\"/>\n",
       "</g>\n",
       "<!-- 14 -->\n",
       "<g id=\"node15\" class=\"node\">\n",
       "<title>14</title>\n",
       "<polygon fill=\"none\" stroke=\"black\" points=\"374.5,-38 272.5,-38 272.5,0 374.5,0 374.5,-38\"/>\n",
       "<text text-anchor=\"middle\" x=\"323.5\" y=\"-22.8\" font-family=\"Helvetica,sans-Serif\" font-size=\"14.00\">counts = [1, 1]</text>\n",
       "<text text-anchor=\"middle\" x=\"323.5\" y=\"-7.8\" font-family=\"Helvetica,sans-Serif\" font-size=\"14.00\">class = A+</text>\n",
       "</g>\n",
       "<!-- 13&#45;&gt;14 -->\n",
       "<g id=\"edge14\" class=\"edge\">\n",
       "<title>13&#45;&gt;14</title>\n",
       "<path fill=\"none\" stroke=\"black\" d=\"M364.19,-73.91C357.86,-65.53 350.81,-56.19 344.38,-47.67\"/>\n",
       "<polygon fill=\"black\" stroke=\"black\" points=\"347.18,-45.57 338.36,-39.7 341.59,-49.79 347.18,-45.57\"/>\n",
       "</g>\n",
       "<!-- 15 -->\n",
       "<g id=\"node16\" class=\"node\">\n",
       "<title>15</title>\n",
       "<polygon fill=\"none\" stroke=\"black\" points=\"494.5,-38 392.5,-38 392.5,0 494.5,0 494.5,-38\"/>\n",
       "<text text-anchor=\"middle\" x=\"443.5\" y=\"-22.8\" font-family=\"Helvetica,sans-Serif\" font-size=\"14.00\">counts = [1, 1]</text>\n",
       "<text text-anchor=\"middle\" x=\"443.5\" y=\"-7.8\" font-family=\"Helvetica,sans-Serif\" font-size=\"14.00\">class = A+</text>\n",
       "</g>\n",
       "<!-- 13&#45;&gt;15 -->\n",
       "<g id=\"edge15\" class=\"edge\">\n",
       "<title>13&#45;&gt;15</title>\n",
       "<path fill=\"none\" stroke=\"black\" d=\"M402.81,-73.91C409.14,-65.53 416.19,-56.19 422.62,-47.67\"/>\n",
       "<polygon fill=\"black\" stroke=\"black\" points=\"425.41,-49.79 428.64,-39.7 419.82,-45.57 425.41,-49.79\"/>\n",
       "</g>\n",
       "</g>\n",
       "</svg>\n"
      ],
      "text/plain": [
       "<graphviz.sources.Source at 0x104c1fdc0>"
      ]
     },
     "execution_count": 28,
     "metadata": {},
     "output_type": "execute_result"
    }
   ],
   "source": [
    "display_tree(X_binary.columns, model, counts=True) # model visualization"
   ]
  },
  {
   "cell_type": "code",
   "execution_count": 30,
   "metadata": {},
   "outputs": [
    {
     "data": {
      "text/html": [
       "<div>\n",
       "<style scoped>\n",
       "    .dataframe tbody tr th:only-of-type {\n",
       "        vertical-align: middle;\n",
       "    }\n",
       "\n",
       "    .dataframe tbody tr th {\n",
       "        vertical-align: top;\n",
       "    }\n",
       "\n",
       "    .dataframe thead th {\n",
       "        text-align: right;\n",
       "    }\n",
       "</style>\n",
       "<table border=\"1\" class=\"dataframe\">\n",
       "  <thead>\n",
       "    <tr style=\"text-align: right;\">\n",
       "      <th></th>\n",
       "      <th>ml_experience</th>\n",
       "      <th>class_attendance</th>\n",
       "      <th>lab1</th>\n",
       "      <th>lab2</th>\n",
       "      <th>lab3</th>\n",
       "      <th>lab4</th>\n",
       "      <th>quiz1</th>\n",
       "      <th>quiz2</th>\n",
       "    </tr>\n",
       "  </thead>\n",
       "  <tbody>\n",
       "    <tr>\n",
       "      <th>3</th>\n",
       "      <td>0</td>\n",
       "      <td>1</td>\n",
       "      <td>91</td>\n",
       "      <td>94</td>\n",
       "      <td>92</td>\n",
       "      <td>91</td>\n",
       "      <td>89</td>\n",
       "      <td>A+</td>\n",
       "    </tr>\n",
       "    <tr>\n",
       "      <th>9</th>\n",
       "      <td>1</td>\n",
       "      <td>1</td>\n",
       "      <td>95</td>\n",
       "      <td>95</td>\n",
       "      <td>94</td>\n",
       "      <td>94</td>\n",
       "      <td>85</td>\n",
       "      <td>not A+</td>\n",
       "    </tr>\n",
       "    <tr>\n",
       "      <th>14</th>\n",
       "      <td>0</td>\n",
       "      <td>1</td>\n",
       "      <td>95</td>\n",
       "      <td>90</td>\n",
       "      <td>93</td>\n",
       "      <td>95</td>\n",
       "      <td>70</td>\n",
       "      <td>not A+</td>\n",
       "    </tr>\n",
       "    <tr>\n",
       "      <th>20</th>\n",
       "      <td>1</td>\n",
       "      <td>1</td>\n",
       "      <td>96</td>\n",
       "      <td>92</td>\n",
       "      <td>92</td>\n",
       "      <td>96</td>\n",
       "      <td>87</td>\n",
       "      <td>A+</td>\n",
       "    </tr>\n",
       "  </tbody>\n",
       "</table>\n",
       "</div>"
      ],
      "text/plain": [
       "    ml_experience  class_attendance  lab1  lab2  lab3  lab4  quiz1   quiz2\n",
       "3               0                 1    91    94    92    91     89      A+\n",
       "9               1                 1    95    95    94    94     85  not A+\n",
       "14              0                 1    95    90    93    95     70  not A+\n",
       "20              1                 1    96    92    92    96     87      A+"
      ]
     },
     "execution_count": 30,
     "metadata": {},
     "output_type": "execute_result"
    }
   ],
   "source": [
    "classification_df[\n",
    "    (classification_df[\"lab4\"]>=90)\n",
    "    & (classification_df[\"class_attendance\"]> .5)\n",
    "    & (classification_df[\"lab2\"]>=90)\n",
    "    & (classification_df[\"quiz1\"]<90)\n",
    "    # & (classification_df[\"ml_experience\"]> .5)\n",
    "]"
   ]
  },
  {
   "cell_type": "markdown",
   "metadata": {
    "slideshow": {
     "slide_type": "slide"
    }
   },
   "source": [
    "### Some terminology related to trees \n",
    "\n",
    "Here is a commonly used terminology in a typical representation of decision trees. \n",
    "\n",
    "**A root node**\n",
    ": represents the first condition to check or question to ask\n",
    "\n",
    "**A branch**\n",
    ": connects a node (condition) to the next node (condition) in the tree. Each branch typically represents either true or false. \n",
    "\n",
    "**An internal node** \n",
    ": represents conditions within the tree\n",
    "\n",
    "**A leaf node**\n",
    ": represents the predicted class/value when the path from root to the leaf node is followed. \n",
    "\n",
    "**Tree depth**\n",
    ": The number of edges on the path from the root node to the farthest away leaf node."
   ]
  },
  {
   "cell_type": "markdown",
   "metadata": {
    "slideshow": {
     "slide_type": "slide"
    }
   },
   "source": [
    "### How does `predict` work? "
   ]
  },
  {
   "cell_type": "code",
   "execution_count": 28,
   "metadata": {
    "slideshow": {
     "slide_type": "-"
    }
   },
   "outputs": [
    {
     "data": {
      "text/html": [
       "<div>\n",
       "<style scoped>\n",
       "    .dataframe tbody tr th:only-of-type {\n",
       "        vertical-align: middle;\n",
       "    }\n",
       "\n",
       "    .dataframe tbody tr th {\n",
       "        vertical-align: top;\n",
       "    }\n",
       "\n",
       "    .dataframe thead th {\n",
       "        text-align: right;\n",
       "    }\n",
       "</style>\n",
       "<table border=\"1\" class=\"dataframe\">\n",
       "  <thead>\n",
       "    <tr style=\"text-align: right;\">\n",
       "      <th></th>\n",
       "      <th>ml_experience</th>\n",
       "      <th>class_attendance</th>\n",
       "      <th>lab1</th>\n",
       "      <th>lab2</th>\n",
       "      <th>lab3</th>\n",
       "      <th>lab4</th>\n",
       "      <th>quiz1</th>\n",
       "    </tr>\n",
       "  </thead>\n",
       "  <tbody>\n",
       "    <tr>\n",
       "      <th>0</th>\n",
       "      <td>0</td>\n",
       "      <td>1</td>\n",
       "      <td>0</td>\n",
       "      <td>0</td>\n",
       "      <td>1</td>\n",
       "      <td>1</td>\n",
       "      <td>1</td>\n",
       "    </tr>\n",
       "  </tbody>\n",
       "</table>\n",
       "</div>"
      ],
      "text/plain": [
       "   ml_experience  class_attendance  lab1  lab2  lab3  lab4  quiz1\n",
       "0              0                 1     0     0     1     1      1"
      ]
     },
     "execution_count": 28,
     "metadata": {},
     "output_type": "execute_result"
    }
   ],
   "source": [
    "new_example = np.array([[0, 1, 0, 0, 1, 1, 1]])\n",
    "new_example = pd.DataFrame(data=new_example, columns=X.columns)\n",
    "new_example"
   ]
  },
  {
   "cell_type": "code",
   "execution_count": 52,
   "metadata": {
    "slideshow": {
     "slide_type": "-"
    }
   },
   "outputs": [
    {
     "data": {
      "image/svg+xml": [
       "<?xml version=\"1.0\" encoding=\"UTF-8\" standalone=\"no\"?>\n",
       "<!DOCTYPE svg PUBLIC \"-//W3C//DTD SVG 1.1//EN\"\n",
       " \"http://www.w3.org/Graphics/SVG/1.1/DTD/svg11.dtd\">\n",
       "<!-- Generated by graphviz version 7.0.5 (0)\n",
       " -->\n",
       "<!-- Title: Tree Pages: 1 -->\n",
       "<svg width=\"548pt\" height=\"414pt\"\n",
       " viewBox=\"0.00 0.00 547.50 414.00\" xmlns=\"http://www.w3.org/2000/svg\" xmlns:xlink=\"http://www.w3.org/1999/xlink\">\n",
       "<g id=\"graph0\" class=\"graph\" transform=\"scale(1 1) rotate(0) translate(4 410)\">\n",
       "<title>Tree</title>\n",
       "<polygon fill=\"white\" stroke=\"none\" points=\"-4,4 -4,-410 543.5,-410 543.5,4 -4,4\"/>\n",
       "<!-- 0 -->\n",
       "<g id=\"node1\" class=\"node\">\n",
       "<title>0</title>\n",
       "<polygon fill=\"none\" stroke=\"black\" points=\"209,-406 106,-406 106,-368 209,-368 209,-406\"/>\n",
       "<text text-anchor=\"middle\" x=\"157.5\" y=\"-390.8\" font-family=\"Helvetica,sans-Serif\" font-size=\"14.00\">lab3 &lt;= 83.5</text>\n",
       "<text text-anchor=\"middle\" x=\"157.5\" y=\"-375.8\" font-family=\"Helvetica,sans-Serif\" font-size=\"14.00\">class = not A+</text>\n",
       "</g>\n",
       "<!-- 1 -->\n",
       "<g id=\"node2\" class=\"node\">\n",
       "<title>1</title>\n",
       "<polygon fill=\"none\" stroke=\"black\" points=\"150,-331 47,-331 47,-295 150,-295 150,-331\"/>\n",
       "<text text-anchor=\"middle\" x=\"98.5\" y=\"-309.3\" font-family=\"Helvetica,sans-Serif\" font-size=\"14.00\">class = not A+</text>\n",
       "</g>\n",
       "<!-- 0&#45;&gt;1 -->\n",
       "<g id=\"edge1\" class=\"edge\">\n",
       "<title>0&#45;&gt;1</title>\n",
       "<path fill=\"none\" stroke=\"black\" d=\"M142.61,-367.83C135.75,-359.46 127.48,-349.36 119.96,-340.19\"/>\n",
       "<polygon fill=\"black\" stroke=\"black\" points=\"122.78,-338.1 113.73,-332.59 117.36,-342.54 122.78,-338.1\"/>\n",
       "<text text-anchor=\"middle\" x=\"110.3\" y=\"-352.6\" font-family=\"Helvetica,sans-Serif\" font-size=\"14.00\">True</text>\n",
       "</g>\n",
       "<!-- 2 -->\n",
       "<g id=\"node3\" class=\"node\">\n",
       "<title>2</title>\n",
       "<polygon fill=\"none\" stroke=\"black\" points=\"267,-332 168,-332 168,-294 267,-294 267,-332\"/>\n",
       "<text text-anchor=\"middle\" x=\"217.5\" y=\"-316.8\" font-family=\"Helvetica,sans-Serif\" font-size=\"14.00\">quiz1 &lt;= 83.5</text>\n",
       "<text text-anchor=\"middle\" x=\"217.5\" y=\"-301.8\" font-family=\"Helvetica,sans-Serif\" font-size=\"14.00\">class = A+</text>\n",
       "</g>\n",
       "<!-- 0&#45;&gt;2 -->\n",
       "<g id=\"edge2\" class=\"edge\">\n",
       "<title>0&#45;&gt;2</title>\n",
       "<path fill=\"none\" stroke=\"black\" d=\"M172.64,-367.83C179.41,-359.71 187.53,-349.96 194.99,-341.01\"/>\n",
       "<polygon fill=\"black\" stroke=\"black\" points=\"197.47,-343.5 201.19,-333.58 192.1,-339.02 197.47,-343.5\"/>\n",
       "<text text-anchor=\"middle\" x=\"204.42\" y=\"-353.61\" font-family=\"Helvetica,sans-Serif\" font-size=\"14.00\">False</text>\n",
       "</g>\n",
       "<!-- 3 -->\n",
       "<g id=\"node4\" class=\"node\">\n",
       "<title>3</title>\n",
       "<polygon fill=\"none\" stroke=\"black\" points=\"211,-258 108,-258 108,-220 211,-220 211,-258\"/>\n",
       "<text text-anchor=\"middle\" x=\"159.5\" y=\"-242.8\" font-family=\"Helvetica,sans-Serif\" font-size=\"14.00\">lab1 &lt;= 97.5</text>\n",
       "<text text-anchor=\"middle\" x=\"159.5\" y=\"-227.8\" font-family=\"Helvetica,sans-Serif\" font-size=\"14.00\">class = not A+</text>\n",
       "</g>\n",
       "<!-- 2&#45;&gt;3 -->\n",
       "<g id=\"edge3\" class=\"edge\">\n",
       "<title>2&#45;&gt;3</title>\n",
       "<path fill=\"none\" stroke=\"black\" d=\"M202.86,-293.83C196.39,-285.79 188.63,-276.17 181.49,-267.29\"/>\n",
       "<polygon fill=\"black\" stroke=\"black\" points=\"184.28,-265.18 175.28,-259.59 178.83,-269.58 184.28,-265.18\"/>\n",
       "</g>\n",
       "<!-- 6 -->\n",
       "<g id=\"node7\" class=\"node\">\n",
       "<title>6</title>\n",
       "<polygon fill=\"none\" stroke=\"black\" points=\"321.5,-258 229.5,-258 229.5,-220 321.5,-220 321.5,-258\"/>\n",
       "<text text-anchor=\"middle\" x=\"275.5\" y=\"-242.8\" font-family=\"Helvetica,sans-Serif\" font-size=\"14.00\">lab4 &lt;= 83.5</text>\n",
       "<text text-anchor=\"middle\" x=\"275.5\" y=\"-227.8\" font-family=\"Helvetica,sans-Serif\" font-size=\"14.00\">class = A+</text>\n",
       "</g>\n",
       "<!-- 2&#45;&gt;6 -->\n",
       "<g id=\"edge6\" class=\"edge\">\n",
       "<title>2&#45;&gt;6</title>\n",
       "<path fill=\"none\" stroke=\"black\" d=\"M232.14,-293.83C238.61,-285.79 246.37,-276.17 253.51,-267.29\"/>\n",
       "<polygon fill=\"black\" stroke=\"black\" points=\"256.17,-269.58 259.72,-259.59 250.72,-265.18 256.17,-269.58\"/>\n",
       "</g>\n",
       "<!-- 4 -->\n",
       "<g id=\"node5\" class=\"node\">\n",
       "<title>4</title>\n",
       "<polygon fill=\"none\" stroke=\"black\" points=\"103,-183 0,-183 0,-147 103,-147 103,-183\"/>\n",
       "<text text-anchor=\"middle\" x=\"51.5\" y=\"-161.3\" font-family=\"Helvetica,sans-Serif\" font-size=\"14.00\">class = not A+</text>\n",
       "</g>\n",
       "<!-- 3&#45;&gt;4 -->\n",
       "<g id=\"edge4\" class=\"edge\">\n",
       "<title>3&#45;&gt;4</title>\n",
       "<path fill=\"none\" stroke=\"black\" d=\"M131.97,-219.65C118.23,-210.49 101.45,-199.3 86.78,-189.52\"/>\n",
       "<polygon fill=\"black\" stroke=\"black\" points=\"89.02,-186.8 78.75,-184.17 85.13,-192.63 89.02,-186.8\"/>\n",
       "</g>\n",
       "<!-- 5 -->\n",
       "<g id=\"node6\" class=\"node\">\n",
       "<title>5</title>\n",
       "<polygon fill=\"none\" stroke=\"black\" points=\"201.5,-183 121.5,-183 121.5,-147 201.5,-147 201.5,-183\"/>\n",
       "<text text-anchor=\"middle\" x=\"161.5\" y=\"-161.3\" font-family=\"Helvetica,sans-Serif\" font-size=\"14.00\">class = A+</text>\n",
       "</g>\n",
       "<!-- 3&#45;&gt;5 -->\n",
       "<g id=\"edge5\" class=\"edge\">\n",
       "<title>3&#45;&gt;5</title>\n",
       "<path fill=\"none\" stroke=\"black\" d=\"M160,-219.83C160.22,-212.24 160.47,-203.24 160.7,-194.79\"/>\n",
       "<polygon fill=\"black\" stroke=\"black\" points=\"164.2,-195.02 160.97,-184.93 157.2,-194.83 164.2,-195.02\"/>\n",
       "</g>\n",
       "<!-- 7 -->\n",
       "<g id=\"node8\" class=\"node\">\n",
       "<title>7</title>\n",
       "<polygon fill=\"none\" stroke=\"black\" points=\"326,-183 223,-183 223,-147 326,-147 326,-183\"/>\n",
       "<text text-anchor=\"middle\" x=\"274.5\" y=\"-161.3\" font-family=\"Helvetica,sans-Serif\" font-size=\"14.00\">class = not A+</text>\n",
       "</g>\n",
       "<!-- 6&#45;&gt;7 -->\n",
       "<g id=\"edge7\" class=\"edge\">\n",
       "<title>6&#45;&gt;7</title>\n",
       "<path fill=\"none\" stroke=\"black\" d=\"M275.25,-219.83C275.14,-212.24 275.02,-203.24 274.9,-194.79\"/>\n",
       "<polygon fill=\"black\" stroke=\"black\" points=\"278.4,-194.88 274.76,-184.93 271.4,-194.98 278.4,-194.88\"/>\n",
       "</g>\n",
       "<!-- 8 -->\n",
       "<g id=\"node9\" class=\"node\">\n",
       "<title>8</title>\n",
       "<polygon fill=\"none\" stroke=\"black\" points=\"436.5,-184 344.5,-184 344.5,-146 436.5,-146 436.5,-184\"/>\n",
       "<text text-anchor=\"middle\" x=\"390.5\" y=\"-168.8\" font-family=\"Helvetica,sans-Serif\" font-size=\"14.00\">lab2 &lt;= 94.5</text>\n",
       "<text text-anchor=\"middle\" x=\"390.5\" y=\"-153.8\" font-family=\"Helvetica,sans-Serif\" font-size=\"14.00\">class = A+</text>\n",
       "</g>\n",
       "<!-- 6&#45;&gt;8 -->\n",
       "<g id=\"edge8\" class=\"edge\">\n",
       "<title>6&#45;&gt;8</title>\n",
       "<path fill=\"none\" stroke=\"black\" d=\"M304.82,-219.65C319.01,-210.76 336.25,-199.97 351.53,-190.4\"/>\n",
       "<polygon fill=\"black\" stroke=\"black\" points=\"353.34,-193.4 359.95,-185.12 349.62,-187.46 353.34,-193.4\"/>\n",
       "</g>\n",
       "<!-- 9 -->\n",
       "<g id=\"node10\" class=\"node\">\n",
       "<title>9</title>\n",
       "<polygon fill=\"none\" stroke=\"black\" points=\"376.5,-109 296.5,-109 296.5,-73 376.5,-73 376.5,-109\"/>\n",
       "<text text-anchor=\"middle\" x=\"336.5\" y=\"-87.3\" font-family=\"Helvetica,sans-Serif\" font-size=\"14.00\">class = A+</text>\n",
       "</g>\n",
       "<!-- 8&#45;&gt;9 -->\n",
       "<g id=\"edge9\" class=\"edge\">\n",
       "<title>8&#45;&gt;9</title>\n",
       "<path fill=\"none\" stroke=\"black\" d=\"M376.87,-145.83C370.66,-137.55 363.18,-127.57 356.36,-118.47\"/>\n",
       "<polygon fill=\"black\" stroke=\"black\" points=\"359.27,-116.53 350.47,-110.63 353.67,-120.73 359.27,-116.53\"/>\n",
       "</g>\n",
       "<!-- 10 -->\n",
       "<g id=\"node11\" class=\"node\">\n",
       "<title>10</title>\n",
       "<polygon fill=\"none\" stroke=\"black\" points=\"494,-110 395,-110 395,-72 494,-72 494,-110\"/>\n",
       "<text text-anchor=\"middle\" x=\"444.5\" y=\"-94.8\" font-family=\"Helvetica,sans-Serif\" font-size=\"14.00\">quiz1 &lt;= 92.5</text>\n",
       "<text text-anchor=\"middle\" x=\"444.5\" y=\"-79.8\" font-family=\"Helvetica,sans-Serif\" font-size=\"14.00\">class = A+</text>\n",
       "</g>\n",
       "<!-- 8&#45;&gt;10 -->\n",
       "<g id=\"edge10\" class=\"edge\">\n",
       "<title>8&#45;&gt;10</title>\n",
       "<path fill=\"none\" stroke=\"black\" d=\"M404.13,-145.83C410.09,-137.88 417.22,-128.37 423.82,-119.57\"/>\n",
       "<polygon fill=\"black\" stroke=\"black\" points=\"426.58,-121.72 429.78,-111.62 420.98,-117.52 426.58,-121.72\"/>\n",
       "</g>\n",
       "<!-- 11 -->\n",
       "<g id=\"node12\" class=\"node\">\n",
       "<title>11</title>\n",
       "<polygon fill=\"none\" stroke=\"black\" points=\"441,-36 338,-36 338,0 441,0 441,-36\"/>\n",
       "<text text-anchor=\"middle\" x=\"389.5\" y=\"-14.3\" font-family=\"Helvetica,sans-Serif\" font-size=\"14.00\">class = not A+</text>\n",
       "</g>\n",
       "<!-- 10&#45;&gt;11 -->\n",
       "<g id=\"edge11\" class=\"edge\">\n",
       "<title>10&#45;&gt;11</title>\n",
       "<path fill=\"none\" stroke=\"black\" d=\"M430.34,-71.72C424.17,-63.75 416.81,-54.26 410.06,-45.54\"/>\n",
       "<polygon fill=\"black\" stroke=\"black\" points=\"412.86,-43.45 403.97,-37.68 407.33,-47.73 412.86,-43.45\"/>\n",
       "</g>\n",
       "<!-- 12 -->\n",
       "<g id=\"node13\" class=\"node\">\n",
       "<title>12</title>\n",
       "<polygon fill=\"none\" stroke=\"black\" points=\"539.5,-36 459.5,-36 459.5,0 539.5,0 539.5,-36\"/>\n",
       "<text text-anchor=\"middle\" x=\"499.5\" y=\"-14.3\" font-family=\"Helvetica,sans-Serif\" font-size=\"14.00\">class = A+</text>\n",
       "</g>\n",
       "<!-- 10&#45;&gt;12 -->\n",
       "<g id=\"edge12\" class=\"edge\">\n",
       "<title>10&#45;&gt;12</title>\n",
       "<path fill=\"none\" stroke=\"black\" d=\"M458.66,-71.72C464.83,-63.75 472.19,-54.26 478.94,-45.54\"/>\n",
       "<polygon fill=\"black\" stroke=\"black\" points=\"481.67,-47.73 485.03,-37.68 476.14,-43.45 481.67,-47.73\"/>\n",
       "</g>\n",
       "</g>\n",
       "</svg>\n"
      ],
      "text/plain": [
       "<graphviz.sources.Source at 0x1870424a0>"
      ]
     },
     "execution_count": 52,
     "metadata": {},
     "output_type": "execute_result"
    }
   ],
   "source": [
    "display_tree(X_binary.columns, model)"
   ]
  },
  {
   "cell_type": "markdown",
   "metadata": {
    "slideshow": {
     "slide_type": "slide"
    }
   },
   "source": [
    "What's the prediction for the new example?"
   ]
  },
  {
   "cell_type": "code",
   "execution_count": 30,
   "metadata": {
    "slideshow": {
     "slide_type": "-"
    }
   },
   "outputs": [
    {
     "data": {
      "text/plain": [
       "array(['A+'], dtype=object)"
      ]
     },
     "execution_count": 30,
     "metadata": {},
     "output_type": "execute_result"
    }
   ],
   "source": [
    "model.predict(new_example)"
   ]
  },
  {
   "cell_type": "markdown",
   "metadata": {
    "slideshow": {
     "slide_type": "-"
    }
   },
   "source": [
    "In summary, given a learned tree and a test example, during prediction time,  \n",
    "- Start at the top of the tree. Ask binary questions at each node and follow the appropriate path in the tree. Once you are at a leaf node, you have the prediction. \n",
    "- Note that the model only considers the features which are in the learned tree and ignores all other features. "
   ]
  },
  {
   "cell_type": "markdown",
   "metadata": {
    "slideshow": {
     "slide_type": "slide"
    }
   },
   "source": [
    "### How does `fit` work? \n",
    "\n",
    "- Decision tree is inspired by [20-questions game](https://en.wikipedia.org/wiki/Twenty_questions). \n",
    "- Each node either represents a question or an answer. The terminal nodes (called leaf nodes) represent answers. "
   ]
  },
  {
   "cell_type": "code",
   "execution_count": 31,
   "metadata": {},
   "outputs": [
    {
     "data": {
      "image/png": "[encoded data removed]",
      "text/plain": [
       "<Figure size 640x480 with 1 Axes>"
      ]
     },
     "metadata": {},
     "output_type": "display_data"
    }
   ],
   "source": [
    "plot_fruit_tree()"
   ]
  },
  {
   "cell_type": "markdown",
   "metadata": {
    "slideshow": {
     "slide_type": "slide"
    }
   },
   "source": [
    "### How does `fit` work? \n",
    "\n",
    "- Which features are most useful for classification? \n",
    "- Minimize **impurity** at each question\n",
    "- Common criteria to minimize impurity: [gini index](https://scikit-learn.org/stable/modules/tree.html#classification-criteria), information gain, cross entropy"
   ]
  },
  {
   "cell_type": "code",
   "execution_count": 36,
   "metadata": {
    "slideshow": {
     "slide_type": "slide"
    }
   },
   "outputs": [
    {
     "data": {
      "image/svg+xml": [
       "<?xml version=\"1.0\" encoding=\"UTF-8\" standalone=\"no\"?>\n",
       "<!DOCTYPE svg PUBLIC \"-//W3C//DTD SVG 1.1//EN\"\n",
       " \"http://www.w3.org/Graphics/SVG/1.1/DTD/svg11.dtd\">\n",
       "<!-- Generated by graphviz version 7.0.5 (0)\n",
       " -->\n",
       "<!-- Title: Tree Pages: 1 -->\n",
       "<svg width=\"564pt\" height=\"414pt\"\n",
       " viewBox=\"0.00 0.00 563.50 414.00\" xmlns=\"http://www.w3.org/2000/svg\" xmlns:xlink=\"http://www.w3.org/1999/xlink\">\n",
       "<g id=\"graph0\" class=\"graph\" transform=\"scale(1 1) rotate(0) translate(4 410)\">\n",
       "<title>Tree</title>\n",
       "<polygon fill=\"white\" stroke=\"none\" points=\"-4,4 -4,-410 559.5,-410 559.5,4 -4,4\"/>\n",
       "<!-- 0 -->\n",
       "<g id=\"node1\" class=\"node\">\n",
       "<title>0</title>\n",
       "<polygon fill=\"none\" stroke=\"black\" points=\"340,-406 237,-406 237,-368 340,-368 340,-406\"/>\n",
       "<text text-anchor=\"middle\" x=\"288.5\" y=\"-390.8\" font-family=\"Helvetica,sans-Serif\" font-size=\"14.00\">lab4 &lt;= 0.5</text>\n",
       "<text text-anchor=\"middle\" x=\"288.5\" y=\"-375.8\" font-family=\"Helvetica,sans-Serif\" font-size=\"14.00\">class = not A+</text>\n",
       "</g>\n",
       "<!-- 1 -->\n",
       "<g id=\"node2\" class=\"node\">\n",
       "<title>1</title>\n",
       "<polygon fill=\"none\" stroke=\"black\" points=\"279.5,-332 115.5,-332 115.5,-294 279.5,-294 279.5,-332\"/>\n",
       "<text text-anchor=\"middle\" x=\"197.5\" y=\"-316.8\" font-family=\"Helvetica,sans-Serif\" font-size=\"14.00\">class_attendance &lt;= 0.5</text>\n",
       "<text text-anchor=\"middle\" x=\"197.5\" y=\"-301.8\" font-family=\"Helvetica,sans-Serif\" font-size=\"14.00\">class = not A+</text>\n",
       "</g>\n",
       "<!-- 0&#45;&gt;1 -->\n",
       "<g id=\"edge1\" class=\"edge\">\n",
       "<title>0&#45;&gt;1</title>\n",
       "<path fill=\"none\" stroke=\"black\" d=\"M265.54,-367.83C254.63,-359.2 241.41,-348.74 229.53,-339.34\"/>\n",
       "<polygon fill=\"black\" stroke=\"black\" points=\"231.97,-336.81 221.96,-333.35 227.63,-342.3 231.97,-336.81\"/>\n",
       "<text text-anchor=\"middle\" x=\"223.67\" y=\"-353.55\" font-family=\"Helvetica,sans-Serif\" font-size=\"14.00\">True</text>\n",
       "</g>\n",
       "<!-- 10 -->\n",
       "<g id=\"node11\" class=\"node\">\n",
       "<title>10</title>\n",
       "<polygon fill=\"none\" stroke=\"black\" points=\"461.5,-332 297.5,-332 297.5,-294 461.5,-294 461.5,-332\"/>\n",
       "<text text-anchor=\"middle\" x=\"379.5\" y=\"-316.8\" font-family=\"Helvetica,sans-Serif\" font-size=\"14.00\">class_attendance &lt;= 0.5</text>\n",
       "<text text-anchor=\"middle\" x=\"379.5\" y=\"-301.8\" font-family=\"Helvetica,sans-Serif\" font-size=\"14.00\">class = A+</text>\n",
       "</g>\n",
       "<!-- 0&#45;&gt;10 -->\n",
       "<g id=\"edge10\" class=\"edge\">\n",
       "<title>0&#45;&gt;10</title>\n",
       "<path fill=\"none\" stroke=\"black\" d=\"M311.46,-367.83C322.37,-359.2 335.59,-348.74 347.47,-339.34\"/>\n",
       "<polygon fill=\"black\" stroke=\"black\" points=\"349.37,-342.3 355.04,-333.35 345.03,-336.81 349.37,-342.3\"/>\n",
       "<text text-anchor=\"middle\" x=\"353.33\" y=\"-353.55\" font-family=\"Helvetica,sans-Serif\" font-size=\"14.00\">False</text>\n",
       "</g>\n",
       "<!-- 2 -->\n",
       "<g id=\"node3\" class=\"node\">\n",
       "<title>2</title>\n",
       "<polygon fill=\"none\" stroke=\"black\" points=\"149,-258 46,-258 46,-220 149,-220 149,-258\"/>\n",
       "<text text-anchor=\"middle\" x=\"97.5\" y=\"-242.8\" font-family=\"Helvetica,sans-Serif\" font-size=\"14.00\">lab3 &lt;= 0.5</text>\n",
       "<text text-anchor=\"middle\" x=\"97.5\" y=\"-227.8\" font-family=\"Helvetica,sans-Serif\" font-size=\"14.00\">class = not A+</text>\n",
       "</g>\n",
       "<!-- 1&#45;&gt;2 -->\n",
       "<g id=\"edge2\" class=\"edge\">\n",
       "<title>1&#45;&gt;2</title>\n",
       "<path fill=\"none\" stroke=\"black\" d=\"M172.01,-293.65C159.9,-284.93 145.25,-274.38 132.15,-264.95\"/>\n",
       "<polygon fill=\"black\" stroke=\"black\" points=\"134.34,-262.21 124.17,-259.21 130.24,-267.89 134.34,-262.21\"/>\n",
       "</g>\n",
       "<!-- 9 -->\n",
       "<g id=\"node10\" class=\"node\">\n",
       "<title>9</title>\n",
       "<polygon fill=\"none\" stroke=\"black\" points=\"270,-257 167,-257 167,-221 270,-221 270,-257\"/>\n",
       "<text text-anchor=\"middle\" x=\"218.5\" y=\"-235.3\" font-family=\"Helvetica,sans-Serif\" font-size=\"14.00\">class = not A+</text>\n",
       "</g>\n",
       "<!-- 1&#45;&gt;9 -->\n",
       "<g id=\"edge9\" class=\"edge\">\n",
       "<title>1&#45;&gt;9</title>\n",
       "<path fill=\"none\" stroke=\"black\" d=\"M202.8,-293.83C205.06,-286.07 207.76,-276.83 210.27,-268.21\"/>\n",
       "<polygon fill=\"black\" stroke=\"black\" points=\"213.56,-269.45 213,-258.87 206.84,-267.49 213.56,-269.45\"/>\n",
       "</g>\n",
       "<!-- 3 -->\n",
       "<g id=\"node4\" class=\"node\">\n",
       "<title>3</title>\n",
       "<polygon fill=\"none\" stroke=\"black\" points=\"112,-184 9,-184 9,-146 112,-146 112,-184\"/>\n",
       "<text text-anchor=\"middle\" x=\"60.5\" y=\"-168.8\" font-family=\"Helvetica,sans-Serif\" font-size=\"14.00\">quiz1 &lt;= 0.5</text>\n",
       "<text text-anchor=\"middle\" x=\"60.5\" y=\"-153.8\" font-family=\"Helvetica,sans-Serif\" font-size=\"14.00\">class = not A+</text>\n",
       "</g>\n",
       "<!-- 2&#45;&gt;3 -->\n",
       "<g id=\"edge3\" class=\"edge\">\n",
       "<title>2&#45;&gt;3</title>\n",
       "<path fill=\"none\" stroke=\"black\" d=\"M88.16,-219.83C84.21,-212.13 79.5,-202.97 75.1,-194.42\"/>\n",
       "<polygon fill=\"black\" stroke=\"black\" points=\"78.34,-193.05 70.65,-185.76 72.11,-196.25 78.34,-193.05\"/>\n",
       "</g>\n",
       "<!-- 8 -->\n",
       "<g id=\"node9\" class=\"node\">\n",
       "<title>8</title>\n",
       "<polygon fill=\"none\" stroke=\"black\" points=\"210.5,-183 130.5,-183 130.5,-147 210.5,-147 210.5,-183\"/>\n",
       "<text text-anchor=\"middle\" x=\"170.5\" y=\"-161.3\" font-family=\"Helvetica,sans-Serif\" font-size=\"14.00\">class = A+</text>\n",
       "</g>\n",
       "<!-- 2&#45;&gt;8 -->\n",
       "<g id=\"edge8\" class=\"edge\">\n",
       "<title>2&#45;&gt;8</title>\n",
       "<path fill=\"none\" stroke=\"black\" d=\"M115.92,-219.83C124.68,-211.2 135.29,-200.73 144.82,-191.33\"/>\n",
       "<polygon fill=\"black\" stroke=\"black\" points=\"147.1,-193.99 151.76,-184.48 142.19,-189.01 147.1,-193.99\"/>\n",
       "</g>\n",
       "<!-- 4 -->\n",
       "<g id=\"node5\" class=\"node\">\n",
       "<title>4</title>\n",
       "<polygon fill=\"none\" stroke=\"black\" points=\"103,-109 0,-109 0,-73 103,-73 103,-109\"/>\n",
       "<text text-anchor=\"middle\" x=\"51.5\" y=\"-87.3\" font-family=\"Helvetica,sans-Serif\" font-size=\"14.00\">class = not A+</text>\n",
       "</g>\n",
       "<!-- 3&#45;&gt;4 -->\n",
       "<g id=\"edge4\" class=\"edge\">\n",
       "<title>3&#45;&gt;4</title>\n",
       "<path fill=\"none\" stroke=\"black\" d=\"M58.23,-145.83C57.28,-138.24 56.16,-129.24 55.1,-120.79\"/>\n",
       "<polygon fill=\"black\" stroke=\"black\" points=\"58.58,-120.41 53.86,-110.92 51.63,-121.28 58.58,-120.41\"/>\n",
       "</g>\n",
       "<!-- 5 -->\n",
       "<g id=\"node6\" class=\"node\">\n",
       "<title>5</title>\n",
       "<polygon fill=\"none\" stroke=\"black\" points=\"206,-110 121,-110 121,-72 206,-72 206,-110\"/>\n",
       "<text text-anchor=\"middle\" x=\"163.5\" y=\"-94.8\" font-family=\"Helvetica,sans-Serif\" font-size=\"14.00\">lab2 &lt;= 0.5</text>\n",
       "<text text-anchor=\"middle\" x=\"163.5\" y=\"-79.8\" font-family=\"Helvetica,sans-Serif\" font-size=\"14.00\">class = A+</text>\n",
       "</g>\n",
       "<!-- 3&#45;&gt;5 -->\n",
       "<g id=\"edge5\" class=\"edge\">\n",
       "<title>3&#45;&gt;5</title>\n",
       "<path fill=\"none\" stroke=\"black\" d=\"M86.76,-145.65C99.35,-136.84 114.61,-126.17 128.2,-116.67\"/>\n",
       "<polygon fill=\"black\" stroke=\"black\" points=\"129.86,-119.79 136.05,-111.19 125.85,-114.05 129.86,-119.79\"/>\n",
       "</g>\n",
       "<!-- 6 -->\n",
       "<g id=\"node7\" class=\"node\">\n",
       "<title>6</title>\n",
       "<polygon fill=\"none\" stroke=\"black\" points=\"174.5,-36 94.5,-36 94.5,0 174.5,0 174.5,-36\"/>\n",
       "<text text-anchor=\"middle\" x=\"134.5\" y=\"-14.3\" font-family=\"Helvetica,sans-Serif\" font-size=\"14.00\">class = A+</text>\n",
       "</g>\n",
       "<!-- 5&#45;&gt;6 -->\n",
       "<g id=\"edge6\" class=\"edge\">\n",
       "<title>5&#45;&gt;6</title>\n",
       "<path fill=\"none\" stroke=\"black\" d=\"M156.03,-71.72C152.95,-64.17 149.31,-55.26 145.91,-46.94\"/>\n",
       "<polygon fill=\"black\" stroke=\"black\" points=\"149.24,-45.82 142.22,-37.89 142.76,-48.47 149.24,-45.82\"/>\n",
       "</g>\n",
       "<!-- 7 -->\n",
       "<g id=\"node8\" class=\"node\">\n",
       "<title>7</title>\n",
       "<polygon fill=\"none\" stroke=\"black\" points=\"296,-36 193,-36 193,0 296,0 296,-36\"/>\n",
       "<text text-anchor=\"middle\" x=\"244.5\" y=\"-14.3\" font-family=\"Helvetica,sans-Serif\" font-size=\"14.00\">class = not A+</text>\n",
       "</g>\n",
       "<!-- 5&#45;&gt;7 -->\n",
       "<g id=\"edge7\" class=\"edge\">\n",
       "<title>5&#45;&gt;7</title>\n",
       "<path fill=\"none\" stroke=\"black\" d=\"M184.36,-71.72C194.03,-63.24 205.67,-53.04 216.12,-43.88\"/>\n",
       "<polygon fill=\"black\" stroke=\"black\" points=\"218.2,-46.71 223.41,-37.49 213.58,-41.45 218.2,-46.71\"/>\n",
       "</g>\n",
       "<!-- 11 -->\n",
       "<g id=\"node12\" class=\"node\">\n",
       "<title>11</title>\n",
       "<polygon fill=\"none\" stroke=\"black\" points=\"410,-257 307,-257 307,-221 410,-221 410,-257\"/>\n",
       "<text text-anchor=\"middle\" x=\"358.5\" y=\"-235.3\" font-family=\"Helvetica,sans-Serif\" font-size=\"14.00\">class = not A+</text>\n",
       "</g>\n",
       "<!-- 10&#45;&gt;11 -->\n",
       "<g id=\"edge11\" class=\"edge\">\n",
       "<title>10&#45;&gt;11</title>\n",
       "<path fill=\"none\" stroke=\"black\" d=\"M374.2,-293.83C371.94,-286.07 369.24,-276.83 366.73,-268.21\"/>\n",
       "<polygon fill=\"black\" stroke=\"black\" points=\"370.16,-267.49 364,-258.87 363.44,-269.45 370.16,-267.49\"/>\n",
       "</g>\n",
       "<!-- 12 -->\n",
       "<g id=\"node13\" class=\"node\">\n",
       "<title>12</title>\n",
       "<polygon fill=\"none\" stroke=\"black\" points=\"520.5,-258 428.5,-258 428.5,-220 520.5,-220 520.5,-258\"/>\n",
       "<text text-anchor=\"middle\" x=\"474.5\" y=\"-242.8\" font-family=\"Helvetica,sans-Serif\" font-size=\"14.00\">quiz1 &lt;= 0.5</text>\n",
       "<text text-anchor=\"middle\" x=\"474.5\" y=\"-227.8\" font-family=\"Helvetica,sans-Serif\" font-size=\"14.00\">class = A+</text>\n",
       "</g>\n",
       "<!-- 10&#45;&gt;12 -->\n",
       "<g id=\"edge12\" class=\"edge\">\n",
       "<title>10&#45;&gt;12</title>\n",
       "<path fill=\"none\" stroke=\"black\" d=\"M403.47,-293.83C414.86,-285.2 428.66,-274.74 441.06,-265.34\"/>\n",
       "<polygon fill=\"black\" stroke=\"black\" points=\"443.14,-268.16 449,-259.33 438.91,-262.58 443.14,-268.16\"/>\n",
       "</g>\n",
       "<!-- 13 -->\n",
       "<g id=\"node14\" class=\"node\">\n",
       "<title>13</title>\n",
       "<polygon fill=\"none\" stroke=\"black\" points=\"444,-184 359,-184 359,-146 444,-146 444,-184\"/>\n",
       "<text text-anchor=\"middle\" x=\"401.5\" y=\"-168.8\" font-family=\"Helvetica,sans-Serif\" font-size=\"14.00\">lab2 &lt;= 0.5</text>\n",
       "<text text-anchor=\"middle\" x=\"401.5\" y=\"-153.8\" font-family=\"Helvetica,sans-Serif\" font-size=\"14.00\">class = A+</text>\n",
       "</g>\n",
       "<!-- 12&#45;&gt;13 -->\n",
       "<g id=\"edge13\" class=\"edge\">\n",
       "<title>12&#45;&gt;13</title>\n",
       "<path fill=\"none\" stroke=\"black\" d=\"M456.08,-219.83C447.67,-211.54 437.55,-201.56 428.32,-192.45\"/>\n",
       "<polygon fill=\"black\" stroke=\"black\" points=\"430.82,-190.01 421.25,-185.48 425.91,-194.99 430.82,-190.01\"/>\n",
       "</g>\n",
       "<!-- 18 -->\n",
       "<g id=\"node19\" class=\"node\">\n",
       "<title>18</title>\n",
       "<polygon fill=\"none\" stroke=\"black\" points=\"542.5,-183 462.5,-183 462.5,-147 542.5,-147 542.5,-183\"/>\n",
       "<text text-anchor=\"middle\" x=\"502.5\" y=\"-161.3\" font-family=\"Helvetica,sans-Serif\" font-size=\"14.00\">class = A+</text>\n",
       "</g>\n",
       "<!-- 12&#45;&gt;18 -->\n",
       "<g id=\"edge18\" class=\"edge\">\n",
       "<title>12&#45;&gt;18</title>\n",
       "<path fill=\"none\" stroke=\"black\" d=\"M481.57,-219.83C484.62,-211.98 488.26,-202.62 491.64,-193.92\"/>\n",
       "<polygon fill=\"black\" stroke=\"black\" points=\"494.82,-195.42 495.18,-184.83 488.29,-192.88 494.82,-195.42\"/>\n",
       "</g>\n",
       "<!-- 14 -->\n",
       "<g id=\"node15\" class=\"node\">\n",
       "<title>14</title>\n",
       "<polygon fill=\"none\" stroke=\"black\" points=\"389.5,-109 309.5,-109 309.5,-73 389.5,-73 389.5,-109\"/>\n",
       "<text text-anchor=\"middle\" x=\"349.5\" y=\"-87.3\" font-family=\"Helvetica,sans-Serif\" font-size=\"14.00\">class = A+</text>\n",
       "</g>\n",
       "<!-- 13&#45;&gt;14 -->\n",
       "<g id=\"edge14\" class=\"edge\">\n",
       "<title>13&#45;&gt;14</title>\n",
       "<path fill=\"none\" stroke=\"black\" d=\"M388.38,-145.83C382.39,-137.55 375.19,-127.57 368.62,-118.47\"/>\n",
       "<polygon fill=\"black\" stroke=\"black\" points=\"371.66,-116.7 362.97,-110.64 365.98,-120.8 371.66,-116.7\"/>\n",
       "</g>\n",
       "<!-- 15 -->\n",
       "<g id=\"node16\" class=\"node\">\n",
       "<title>15</title>\n",
       "<polygon fill=\"none\" stroke=\"black\" points=\"555.5,-110 407.5,-110 407.5,-72 555.5,-72 555.5,-110\"/>\n",
       "<text text-anchor=\"middle\" x=\"481.5\" y=\"-94.8\" font-family=\"Helvetica,sans-Serif\" font-size=\"14.00\">ml_experience &lt;= 0.5</text>\n",
       "<text text-anchor=\"middle\" x=\"481.5\" y=\"-79.8\" font-family=\"Helvetica,sans-Serif\" font-size=\"14.00\">class = A+</text>\n",
       "</g>\n",
       "<!-- 13&#45;&gt;15 -->\n",
       "<g id=\"edge15\" class=\"edge\">\n",
       "<title>13&#45;&gt;15</title>\n",
       "<path fill=\"none\" stroke=\"black\" d=\"M421.69,-145.83C431.09,-137.37 442.45,-127.15 452.73,-117.9\"/>\n",
       "<polygon fill=\"black\" stroke=\"black\" points=\"454.82,-120.72 459.92,-111.43 450.14,-115.51 454.82,-120.72\"/>\n",
       "</g>\n",
       "<!-- 16 -->\n",
       "<g id=\"node17\" class=\"node\">\n",
       "<title>16</title>\n",
       "<polygon fill=\"none\" stroke=\"black\" points=\"428.5,-36 348.5,-36 348.5,0 428.5,0 428.5,-36\"/>\n",
       "<text text-anchor=\"middle\" x=\"388.5\" y=\"-14.3\" font-family=\"Helvetica,sans-Serif\" font-size=\"14.00\">class = A+</text>\n",
       "</g>\n",
       "<!-- 15&#45;&gt;16 -->\n",
       "<g id=\"edge16\" class=\"edge\">\n",
       "<title>15&#45;&gt;16</title>\n",
       "<path fill=\"none\" stroke=\"black\" d=\"M457.55,-71.72C446.23,-63.07 432.55,-52.63 420.37,-43.33\"/>\n",
       "<polygon fill=\"black\" stroke=\"black\" points=\"422.68,-40.69 412.61,-37.41 418.43,-46.26 422.68,-40.69\"/>\n",
       "</g>\n",
       "<!-- 17 -->\n",
       "<g id=\"node18\" class=\"node\">\n",
       "<title>17</title>\n",
       "<polygon fill=\"none\" stroke=\"black\" points=\"526.5,-36 446.5,-36 446.5,0 526.5,0 526.5,-36\"/>\n",
       "<text text-anchor=\"middle\" x=\"486.5\" y=\"-14.3\" font-family=\"Helvetica,sans-Serif\" font-size=\"14.00\">class = A+</text>\n",
       "</g>\n",
       "<!-- 15&#45;&gt;17 -->\n",
       "<g id=\"edge17\" class=\"edge\">\n",
       "<title>15&#45;&gt;17</title>\n",
       "<path fill=\"none\" stroke=\"black\" d=\"M482.79,-71.72C483.3,-64.43 483.9,-55.86 484.47,-47.78\"/>\n",
       "<polygon fill=\"black\" stroke=\"black\" points=\"487.95,-48.22 485.16,-38 480.97,-47.73 487.95,-48.22\"/>\n",
       "</g>\n",
       "</g>\n",
       "</svg>\n"
      ],
      "text/plain": [
       "<graphviz.sources.Source at 0x1879b90f0>"
      ]
     },
     "execution_count": 36,
     "metadata": {},
     "output_type": "execute_result"
    }
   ],
   "source": [
    "from sklearn.tree import DecisionTreeClassifier\n",
    "\n",
    "model = DecisionTreeClassifier() # Create a decision tree\n",
    "model.fit(X_binary, y) # Fit a decision tree\n",
    "display_tree(X_binary.columns, model)"
   ]
  },
  {
   "cell_type": "markdown",
   "metadata": {
    "slideshow": {
     "slide_type": "skip"
    }
   },
   "source": [
    "***\n",
    "We won't go through **how** it does this - that's CPSC 340. But it's worth noting that it support two types of inputs: \n",
    "    1. Categorical (e.g., Yes/No or more options, as shown in the tree above)\n",
    "    2. Numeric (a number)In the numeric case, the decision tree algorithm also picks the _threshold_. \n",
    "***"
   ]
  },
  {
   "cell_type": "markdown",
   "metadata": {
    "slideshow": {
     "slide_type": "slide"
    }
   },
   "source": [
    "### Decision trees with continuous features"
   ]
  },
  {
   "cell_type": "code",
   "execution_count": 33,
   "metadata": {
    "slideshow": {
     "slide_type": "-"
    }
   },
   "outputs": [
    {
     "data": {
      "text/html": [
       "<div>\n",
       "<style scoped>\n",
       "    .dataframe tbody tr th:only-of-type {\n",
       "        vertical-align: middle;\n",
       "    }\n",
       "\n",
       "    .dataframe tbody tr th {\n",
       "        vertical-align: top;\n",
       "    }\n",
       "\n",
       "    .dataframe thead th {\n",
       "        text-align: right;\n",
       "    }\n",
       "</style>\n",
       "<table border=\"1\" class=\"dataframe\">\n",
       "  <thead>\n",
       "    <tr style=\"text-align: right;\">\n",
       "      <th></th>\n",
       "      <th>ml_experience</th>\n",
       "      <th>class_attendance</th>\n",
       "      <th>lab1</th>\n",
       "      <th>lab2</th>\n",
       "      <th>lab3</th>\n",
       "      <th>lab4</th>\n",
       "      <th>quiz1</th>\n",
       "    </tr>\n",
       "  </thead>\n",
       "  <tbody>\n",
       "    <tr>\n",
       "      <th>0</th>\n",
       "      <td>1</td>\n",
       "      <td>1</td>\n",
       "      <td>92</td>\n",
       "      <td>93</td>\n",
       "      <td>84</td>\n",
       "      <td>91</td>\n",
       "      <td>92</td>\n",
       "    </tr>\n",
       "    <tr>\n",
       "      <th>1</th>\n",
       "      <td>1</td>\n",
       "      <td>0</td>\n",
       "      <td>94</td>\n",
       "      <td>90</td>\n",
       "      <td>80</td>\n",
       "      <td>83</td>\n",
       "      <td>91</td>\n",
       "    </tr>\n",
       "    <tr>\n",
       "      <th>2</th>\n",
       "      <td>0</td>\n",
       "      <td>0</td>\n",
       "      <td>78</td>\n",
       "      <td>85</td>\n",
       "      <td>83</td>\n",
       "      <td>80</td>\n",
       "      <td>80</td>\n",
       "    </tr>\n",
       "    <tr>\n",
       "      <th>3</th>\n",
       "      <td>0</td>\n",
       "      <td>1</td>\n",
       "      <td>91</td>\n",
       "      <td>94</td>\n",
       "      <td>92</td>\n",
       "      <td>91</td>\n",
       "      <td>89</td>\n",
       "    </tr>\n",
       "    <tr>\n",
       "      <th>4</th>\n",
       "      <td>0</td>\n",
       "      <td>1</td>\n",
       "      <td>77</td>\n",
       "      <td>83</td>\n",
       "      <td>90</td>\n",
       "      <td>92</td>\n",
       "      <td>85</td>\n",
       "    </tr>\n",
       "  </tbody>\n",
       "</table>\n",
       "</div>"
      ],
      "text/plain": [
       "   ml_experience  class_attendance  lab1  lab2  lab3  lab4  quiz1\n",
       "0              1                 1    92    93    84    91     92\n",
       "1              1                 0    94    90    80    83     91\n",
       "2              0                 0    78    85    83    80     80\n",
       "3              0                 1    91    94    92    91     89\n",
       "4              0                 1    77    83    90    92     85"
      ]
     },
     "execution_count": 33,
     "metadata": {},
     "output_type": "execute_result"
    }
   ],
   "source": [
    "X.head()"
   ]
  },
  {
   "cell_type": "code",
   "execution_count": 51,
   "metadata": {
    "slideshow": {
     "slide_type": "-"
    }
   },
   "outputs": [
    {
     "data": {
      "image/svg+xml": [
       "<?xml version=\"1.0\" encoding=\"UTF-8\" standalone=\"no\"?>\n",
       "<!DOCTYPE svg PUBLIC \"-//W3C//DTD SVG 1.1//EN\"\n",
       " \"http://www.w3.org/Graphics/SVG/1.1/DTD/svg11.dtd\">\n",
       "<!-- Generated by graphviz version 7.0.5 (0)\n",
       " -->\n",
       "<!-- Title: Tree Pages: 1 -->\n",
       "<svg width=\"548pt\" height=\"414pt\"\n",
       " viewBox=\"0.00 0.00 547.50 414.00\" xmlns=\"http://www.w3.org/2000/svg\" xmlns:xlink=\"http://www.w3.org/1999/xlink\">\n",
       "<g id=\"graph0\" class=\"graph\" transform=\"scale(1 1) rotate(0) translate(4 410)\">\n",
       "<title>Tree</title>\n",
       "<polygon fill=\"white\" stroke=\"none\" points=\"-4,4 -4,-410 543.5,-410 543.5,4 -4,4\"/>\n",
       "<!-- 0 -->\n",
       "<g id=\"node1\" class=\"node\">\n",
       "<title>0</title>\n",
       "<polygon fill=\"none\" stroke=\"black\" points=\"209,-406 106,-406 106,-368 209,-368 209,-406\"/>\n",
       "<text text-anchor=\"middle\" x=\"157.5\" y=\"-390.8\" font-family=\"Helvetica,sans-Serif\" font-size=\"14.00\">lab3 &lt;= 83.5</text>\n",
       "<text text-anchor=\"middle\" x=\"157.5\" y=\"-375.8\" font-family=\"Helvetica,sans-Serif\" font-size=\"14.00\">class = not A+</text>\n",
       "</g>\n",
       "<!-- 1 -->\n",
       "<g id=\"node2\" class=\"node\">\n",
       "<title>1</title>\n",
       "<polygon fill=\"none\" stroke=\"black\" points=\"150,-331 47,-331 47,-295 150,-295 150,-331\"/>\n",
       "<text text-anchor=\"middle\" x=\"98.5\" y=\"-309.3\" font-family=\"Helvetica,sans-Serif\" font-size=\"14.00\">class = not A+</text>\n",
       "</g>\n",
       "<!-- 0&#45;&gt;1 -->\n",
       "<g id=\"edge1\" class=\"edge\">\n",
       "<title>0&#45;&gt;1</title>\n",
       "<path fill=\"none\" stroke=\"black\" d=\"M142.61,-367.83C135.75,-359.46 127.48,-349.36 119.96,-340.19\"/>\n",
       "<polygon fill=\"black\" stroke=\"black\" points=\"122.78,-338.1 113.73,-332.59 117.36,-342.54 122.78,-338.1\"/>\n",
       "<text text-anchor=\"middle\" x=\"110.3\" y=\"-352.6\" font-family=\"Helvetica,sans-Serif\" font-size=\"14.00\">True</text>\n",
       "</g>\n",
       "<!-- 2 -->\n",
       "<g id=\"node3\" class=\"node\">\n",
       "<title>2</title>\n",
       "<polygon fill=\"none\" stroke=\"black\" points=\"267,-332 168,-332 168,-294 267,-294 267,-332\"/>\n",
       "<text text-anchor=\"middle\" x=\"217.5\" y=\"-316.8\" font-family=\"Helvetica,sans-Serif\" font-size=\"14.00\">quiz1 &lt;= 83.5</text>\n",
       "<text text-anchor=\"middle\" x=\"217.5\" y=\"-301.8\" font-family=\"Helvetica,sans-Serif\" font-size=\"14.00\">class = A+</text>\n",
       "</g>\n",
       "<!-- 0&#45;&gt;2 -->\n",
       "<g id=\"edge2\" class=\"edge\">\n",
       "<title>0&#45;&gt;2</title>\n",
       "<path fill=\"none\" stroke=\"black\" d=\"M172.64,-367.83C179.41,-359.71 187.53,-349.96 194.99,-341.01\"/>\n",
       "<polygon fill=\"black\" stroke=\"black\" points=\"197.47,-343.5 201.19,-333.58 192.1,-339.02 197.47,-343.5\"/>\n",
       "<text text-anchor=\"middle\" x=\"204.42\" y=\"-353.61\" font-family=\"Helvetica,sans-Serif\" font-size=\"14.00\">False</text>\n",
       "</g>\n",
       "<!-- 3 -->\n",
       "<g id=\"node4\" class=\"node\">\n",
       "<title>3</title>\n",
       "<polygon fill=\"none\" stroke=\"black\" points=\"211,-258 108,-258 108,-220 211,-220 211,-258\"/>\n",
       "<text text-anchor=\"middle\" x=\"159.5\" y=\"-242.8\" font-family=\"Helvetica,sans-Serif\" font-size=\"14.00\">lab1 &lt;= 97.5</text>\n",
       "<text text-anchor=\"middle\" x=\"159.5\" y=\"-227.8\" font-family=\"Helvetica,sans-Serif\" font-size=\"14.00\">class = not A+</text>\n",
       "</g>\n",
       "<!-- 2&#45;&gt;3 -->\n",
       "<g id=\"edge3\" class=\"edge\">\n",
       "<title>2&#45;&gt;3</title>\n",
       "<path fill=\"none\" stroke=\"black\" d=\"M202.86,-293.83C196.39,-285.79 188.63,-276.17 181.49,-267.29\"/>\n",
       "<polygon fill=\"black\" stroke=\"black\" points=\"184.28,-265.18 175.28,-259.59 178.83,-269.58 184.28,-265.18\"/>\n",
       "</g>\n",
       "<!-- 6 -->\n",
       "<g id=\"node7\" class=\"node\">\n",
       "<title>6</title>\n",
       "<polygon fill=\"none\" stroke=\"black\" points=\"321.5,-258 229.5,-258 229.5,-220 321.5,-220 321.5,-258\"/>\n",
       "<text text-anchor=\"middle\" x=\"275.5\" y=\"-242.8\" font-family=\"Helvetica,sans-Serif\" font-size=\"14.00\">lab4 &lt;= 83.5</text>\n",
       "<text text-anchor=\"middle\" x=\"275.5\" y=\"-227.8\" font-family=\"Helvetica,sans-Serif\" font-size=\"14.00\">class = A+</text>\n",
       "</g>\n",
       "<!-- 2&#45;&gt;6 -->\n",
       "<g id=\"edge6\" class=\"edge\">\n",
       "<title>2&#45;&gt;6</title>\n",
       "<path fill=\"none\" stroke=\"black\" d=\"M232.14,-293.83C238.61,-285.79 246.37,-276.17 253.51,-267.29\"/>\n",
       "<polygon fill=\"black\" stroke=\"black\" points=\"256.17,-269.58 259.72,-259.59 250.72,-265.18 256.17,-269.58\"/>\n",
       "</g>\n",
       "<!-- 4 -->\n",
       "<g id=\"node5\" class=\"node\">\n",
       "<title>4</title>\n",
       "<polygon fill=\"none\" stroke=\"black\" points=\"103,-183 0,-183 0,-147 103,-147 103,-183\"/>\n",
       "<text text-anchor=\"middle\" x=\"51.5\" y=\"-161.3\" font-family=\"Helvetica,sans-Serif\" font-size=\"14.00\">class = not A+</text>\n",
       "</g>\n",
       "<!-- 3&#45;&gt;4 -->\n",
       "<g id=\"edge4\" class=\"edge\">\n",
       "<title>3&#45;&gt;4</title>\n",
       "<path fill=\"none\" stroke=\"black\" d=\"M131.97,-219.65C118.23,-210.49 101.45,-199.3 86.78,-189.52\"/>\n",
       "<polygon fill=\"black\" stroke=\"black\" points=\"89.02,-186.8 78.75,-184.17 85.13,-192.63 89.02,-186.8\"/>\n",
       "</g>\n",
       "<!-- 5 -->\n",
       "<g id=\"node6\" class=\"node\">\n",
       "<title>5</title>\n",
       "<polygon fill=\"none\" stroke=\"black\" points=\"201.5,-183 121.5,-183 121.5,-147 201.5,-147 201.5,-183\"/>\n",
       "<text text-anchor=\"middle\" x=\"161.5\" y=\"-161.3\" font-family=\"Helvetica,sans-Serif\" font-size=\"14.00\">class = A+</text>\n",
       "</g>\n",
       "<!-- 3&#45;&gt;5 -->\n",
       "<g id=\"edge5\" class=\"edge\">\n",
       "<title>3&#45;&gt;5</title>\n",
       "<path fill=\"none\" stroke=\"black\" d=\"M160,-219.83C160.22,-212.24 160.47,-203.24 160.7,-194.79\"/>\n",
       "<polygon fill=\"black\" stroke=\"black\" points=\"164.2,-195.02 160.97,-184.93 157.2,-194.83 164.2,-195.02\"/>\n",
       "</g>\n",
       "<!-- 7 -->\n",
       "<g id=\"node8\" class=\"node\">\n",
       "<title>7</title>\n",
       "<polygon fill=\"none\" stroke=\"black\" points=\"326,-183 223,-183 223,-147 326,-147 326,-183\"/>\n",
       "<text text-anchor=\"middle\" x=\"274.5\" y=\"-161.3\" font-family=\"Helvetica,sans-Serif\" font-size=\"14.00\">class = not A+</text>\n",
       "</g>\n",
       "<!-- 6&#45;&gt;7 -->\n",
       "<g id=\"edge7\" class=\"edge\">\n",
       "<title>6&#45;&gt;7</title>\n",
       "<path fill=\"none\" stroke=\"black\" d=\"M275.25,-219.83C275.14,-212.24 275.02,-203.24 274.9,-194.79\"/>\n",
       "<polygon fill=\"black\" stroke=\"black\" points=\"278.4,-194.88 274.76,-184.93 271.4,-194.98 278.4,-194.88\"/>\n",
       "</g>\n",
       "<!-- 8 -->\n",
       "<g id=\"node9\" class=\"node\">\n",
       "<title>8</title>\n",
       "<polygon fill=\"none\" stroke=\"black\" points=\"436.5,-184 344.5,-184 344.5,-146 436.5,-146 436.5,-184\"/>\n",
       "<text text-anchor=\"middle\" x=\"390.5\" y=\"-168.8\" font-family=\"Helvetica,sans-Serif\" font-size=\"14.00\">lab2 &lt;= 94.5</text>\n",
       "<text text-anchor=\"middle\" x=\"390.5\" y=\"-153.8\" font-family=\"Helvetica,sans-Serif\" font-size=\"14.00\">class = A+</text>\n",
       "</g>\n",
       "<!-- 6&#45;&gt;8 -->\n",
       "<g id=\"edge8\" class=\"edge\">\n",
       "<title>6&#45;&gt;8</title>\n",
       "<path fill=\"none\" stroke=\"black\" d=\"M304.82,-219.65C319.01,-210.76 336.25,-199.97 351.53,-190.4\"/>\n",
       "<polygon fill=\"black\" stroke=\"black\" points=\"353.34,-193.4 359.95,-185.12 349.62,-187.46 353.34,-193.4\"/>\n",
       "</g>\n",
       "<!-- 9 -->\n",
       "<g id=\"node10\" class=\"node\">\n",
       "<title>9</title>\n",
       "<polygon fill=\"none\" stroke=\"black\" points=\"376.5,-109 296.5,-109 296.5,-73 376.5,-73 376.5,-109\"/>\n",
       "<text text-anchor=\"middle\" x=\"336.5\" y=\"-87.3\" font-family=\"Helvetica,sans-Serif\" font-size=\"14.00\">class = A+</text>\n",
       "</g>\n",
       "<!-- 8&#45;&gt;9 -->\n",
       "<g id=\"edge9\" class=\"edge\">\n",
       "<title>8&#45;&gt;9</title>\n",
       "<path fill=\"none\" stroke=\"black\" d=\"M376.87,-145.83C370.66,-137.55 363.18,-127.57 356.36,-118.47\"/>\n",
       "<polygon fill=\"black\" stroke=\"black\" points=\"359.27,-116.53 350.47,-110.63 353.67,-120.73 359.27,-116.53\"/>\n",
       "</g>\n",
       "<!-- 10 -->\n",
       "<g id=\"node11\" class=\"node\">\n",
       "<title>10</title>\n",
       "<polygon fill=\"none\" stroke=\"black\" points=\"494,-110 395,-110 395,-72 494,-72 494,-110\"/>\n",
       "<text text-anchor=\"middle\" x=\"444.5\" y=\"-94.8\" font-family=\"Helvetica,sans-Serif\" font-size=\"14.00\">quiz1 &lt;= 92.5</text>\n",
       "<text text-anchor=\"middle\" x=\"444.5\" y=\"-79.8\" font-family=\"Helvetica,sans-Serif\" font-size=\"14.00\">class = A+</text>\n",
       "</g>\n",
       "<!-- 8&#45;&gt;10 -->\n",
       "<g id=\"edge10\" class=\"edge\">\n",
       "<title>8&#45;&gt;10</title>\n",
       "<path fill=\"none\" stroke=\"black\" d=\"M404.13,-145.83C410.09,-137.88 417.22,-128.37 423.82,-119.57\"/>\n",
       "<polygon fill=\"black\" stroke=\"black\" points=\"426.58,-121.72 429.78,-111.62 420.98,-117.52 426.58,-121.72\"/>\n",
       "</g>\n",
       "<!-- 11 -->\n",
       "<g id=\"node12\" class=\"node\">\n",
       "<title>11</title>\n",
       "<polygon fill=\"none\" stroke=\"black\" points=\"441,-36 338,-36 338,0 441,0 441,-36\"/>\n",
       "<text text-anchor=\"middle\" x=\"389.5\" y=\"-14.3\" font-family=\"Helvetica,sans-Serif\" font-size=\"14.00\">class = not A+</text>\n",
       "</g>\n",
       "<!-- 10&#45;&gt;11 -->\n",
       "<g id=\"edge11\" class=\"edge\">\n",
       "<title>10&#45;&gt;11</title>\n",
       "<path fill=\"none\" stroke=\"black\" d=\"M430.34,-71.72C424.17,-63.75 416.81,-54.26 410.06,-45.54\"/>\n",
       "<polygon fill=\"black\" stroke=\"black\" points=\"412.86,-43.45 403.97,-37.68 407.33,-47.73 412.86,-43.45\"/>\n",
       "</g>\n",
       "<!-- 12 -->\n",
       "<g id=\"node13\" class=\"node\">\n",
       "<title>12</title>\n",
       "<polygon fill=\"none\" stroke=\"black\" points=\"539.5,-36 459.5,-36 459.5,0 539.5,0 539.5,-36\"/>\n",
       "<text text-anchor=\"middle\" x=\"499.5\" y=\"-14.3\" font-family=\"Helvetica,sans-Serif\" font-size=\"14.00\">class = A+</text>\n",
       "</g>\n",
       "<!-- 10&#45;&gt;12 -->\n",
       "<g id=\"edge12\" class=\"edge\">\n",
       "<title>10&#45;&gt;12</title>\n",
       "<path fill=\"none\" stroke=\"black\" d=\"M458.66,-71.72C464.83,-63.75 472.19,-54.26 478.94,-45.54\"/>\n",
       "<polygon fill=\"black\" stroke=\"black\" points=\"481.67,-47.73 485.03,-37.68 476.14,-43.45 481.67,-47.73\"/>\n",
       "</g>\n",
       "</g>\n",
       "</svg>\n"
      ],
      "text/plain": [
       "<graphviz.sources.Source at 0x10a4620e0>"
      ]
     },
     "execution_count": 51,
     "metadata": {},
     "output_type": "execute_result"
    }
   ],
   "source": [
    "model = DecisionTreeClassifier()\n",
    "model.fit(X, y)\n",
    "display_tree(X.columns, model)"
   ]
  },
  {
   "cell_type": "markdown",
   "metadata": {
    "slideshow": {
     "slide_type": "slide"
    }
   },
   "source": [
    "### Decision tree for regression problems\n",
    "\n",
    "- We can also use decision tree algorithm for regression. \n",
    "- Instead of gini, we use [some other criteria](https://scikit-learn.org/stable/modules/tree.html#mathematical-formulation) for splitting. A common one is mean squared error (MSE). (More on this in later videos.)\n",
    "- `scikit-learn` supports regression using decision trees with `DecisionTreeRegressor` \n",
    "    - `fit` and `predict` paradigms similar to classification\n",
    "    - `score` returns somethings called [$R^2$ score](https://scikit-learn.org/stable/modules/generated/sklearn.metrics.r2_score.html#sklearn.metrics.r2_score).     \n",
    "        - The maximum $R^2$ is 1 for perfect predictions. \n",
    "        - It can be negative which is very bad (worse than `DummyRegressor`). \n"
   ]
  },
  {
   "cell_type": "code",
   "execution_count": 37,
   "metadata": {
    "slideshow": {
     "slide_type": "slide"
    }
   },
   "outputs": [
    {
     "data": {
      "text/html": [
       "<div>\n",
       "<style scoped>\n",
       "    .dataframe tbody tr th:only-of-type {\n",
       "        vertical-align: middle;\n",
       "    }\n",
       "\n",
       "    .dataframe tbody tr th {\n",
       "        vertical-align: top;\n",
       "    }\n",
       "\n",
       "    .dataframe thead th {\n",
       "        text-align: right;\n",
       "    }\n",
       "</style>\n",
       "<table border=\"1\" class=\"dataframe\">\n",
       "  <thead>\n",
       "    <tr style=\"text-align: right;\">\n",
       "      <th></th>\n",
       "      <th>ml_experience</th>\n",
       "      <th>class_attendance</th>\n",
       "      <th>lab1</th>\n",
       "      <th>lab2</th>\n",
       "      <th>lab3</th>\n",
       "      <th>lab4</th>\n",
       "      <th>quiz1</th>\n",
       "      <th>quiz2</th>\n",
       "    </tr>\n",
       "  </thead>\n",
       "  <tbody>\n",
       "    <tr>\n",
       "      <th>0</th>\n",
       "      <td>1</td>\n",
       "      <td>1</td>\n",
       "      <td>92</td>\n",
       "      <td>93</td>\n",
       "      <td>84</td>\n",
       "      <td>91</td>\n",
       "      <td>92</td>\n",
       "      <td>90</td>\n",
       "    </tr>\n",
       "    <tr>\n",
       "      <th>1</th>\n",
       "      <td>1</td>\n",
       "      <td>0</td>\n",
       "      <td>94</td>\n",
       "      <td>90</td>\n",
       "      <td>80</td>\n",
       "      <td>83</td>\n",
       "      <td>91</td>\n",
       "      <td>84</td>\n",
       "    </tr>\n",
       "    <tr>\n",
       "      <th>2</th>\n",
       "      <td>0</td>\n",
       "      <td>0</td>\n",
       "      <td>78</td>\n",
       "      <td>85</td>\n",
       "      <td>83</td>\n",
       "      <td>80</td>\n",
       "      <td>80</td>\n",
       "      <td>82</td>\n",
       "    </tr>\n",
       "    <tr>\n",
       "      <th>3</th>\n",
       "      <td>0</td>\n",
       "      <td>1</td>\n",
       "      <td>91</td>\n",
       "      <td>94</td>\n",
       "      <td>92</td>\n",
       "      <td>91</td>\n",
       "      <td>89</td>\n",
       "      <td>92</td>\n",
       "    </tr>\n",
       "    <tr>\n",
       "      <th>4</th>\n",
       "      <td>0</td>\n",
       "      <td>1</td>\n",
       "      <td>77</td>\n",
       "      <td>83</td>\n",
       "      <td>90</td>\n",
       "      <td>92</td>\n",
       "      <td>85</td>\n",
       "      <td>90</td>\n",
       "    </tr>\n",
       "  </tbody>\n",
       "</table>\n",
       "</div>"
      ],
      "text/plain": [
       "   ml_experience  class_attendance  lab1  lab2  lab3  lab4  quiz1  quiz2\n",
       "0              1                 1    92    93    84    91     92     90\n",
       "1              1                 0    94    90    80    83     91     84\n",
       "2              0                 0    78    85    83    80     80     82\n",
       "3              0                 1    91    94    92    91     89     92\n",
       "4              0                 1    77    83    90    92     85     90"
      ]
     },
     "execution_count": 37,
     "metadata": {},
     "output_type": "execute_result"
    }
   ],
   "source": [
    "regression_df = pd.read_csv(\"../data/quiz2-grade-toy-regression.csv\")\n",
    "regression_df.head()"
   ]
  },
  {
   "cell_type": "code",
   "execution_count": 38,
   "metadata": {
    "slideshow": {
     "slide_type": "-"
    }
   },
   "outputs": [
    {
     "name": "stdout",
     "output_type": "stream",
     "text": [
      "R^2 score on the training data: 0.989\n",
      "\n",
      "\n"
     ]
    },
    {
     "data": {
      "text/html": [
       "<div>\n",
       "<style scoped>\n",
       "    .dataframe tbody tr th:only-of-type {\n",
       "        vertical-align: middle;\n",
       "    }\n",
       "\n",
       "    .dataframe tbody tr th {\n",
       "        vertical-align: top;\n",
       "    }\n",
       "\n",
       "    .dataframe thead th {\n",
       "        text-align: right;\n",
       "    }\n",
       "</style>\n",
       "<table border=\"1\" class=\"dataframe\">\n",
       "  <thead>\n",
       "    <tr style=\"text-align: right;\">\n",
       "      <th></th>\n",
       "      <th>ml_experience</th>\n",
       "      <th>class_attendance</th>\n",
       "      <th>lab1</th>\n",
       "      <th>lab2</th>\n",
       "      <th>lab3</th>\n",
       "      <th>lab4</th>\n",
       "      <th>quiz1</th>\n",
       "      <th>quiz2</th>\n",
       "      <th>predicted_quiz2</th>\n",
       "    </tr>\n",
       "  </thead>\n",
       "  <tbody>\n",
       "    <tr>\n",
       "      <th>0</th>\n",
       "      <td>1</td>\n",
       "      <td>1</td>\n",
       "      <td>92</td>\n",
       "      <td>93</td>\n",
       "      <td>84</td>\n",
       "      <td>91</td>\n",
       "      <td>92</td>\n",
       "      <td>90</td>\n",
       "      <td>90.333333</td>\n",
       "    </tr>\n",
       "    <tr>\n",
       "      <th>1</th>\n",
       "      <td>1</td>\n",
       "      <td>0</td>\n",
       "      <td>94</td>\n",
       "      <td>90</td>\n",
       "      <td>80</td>\n",
       "      <td>83</td>\n",
       "      <td>91</td>\n",
       "      <td>84</td>\n",
       "      <td>83.000000</td>\n",
       "    </tr>\n",
       "    <tr>\n",
       "      <th>2</th>\n",
       "      <td>0</td>\n",
       "      <td>0</td>\n",
       "      <td>78</td>\n",
       "      <td>85</td>\n",
       "      <td>83</td>\n",
       "      <td>80</td>\n",
       "      <td>80</td>\n",
       "      <td>82</td>\n",
       "      <td>83.000000</td>\n",
       "    </tr>\n",
       "    <tr>\n",
       "      <th>3</th>\n",
       "      <td>0</td>\n",
       "      <td>1</td>\n",
       "      <td>91</td>\n",
       "      <td>94</td>\n",
       "      <td>92</td>\n",
       "      <td>91</td>\n",
       "      <td>89</td>\n",
       "      <td>92</td>\n",
       "      <td>92.000000</td>\n",
       "    </tr>\n",
       "    <tr>\n",
       "      <th>4</th>\n",
       "      <td>0</td>\n",
       "      <td>1</td>\n",
       "      <td>77</td>\n",
       "      <td>83</td>\n",
       "      <td>90</td>\n",
       "      <td>92</td>\n",
       "      <td>85</td>\n",
       "      <td>90</td>\n",
       "      <td>90.333333</td>\n",
       "    </tr>\n",
       "  </tbody>\n",
       "</table>\n",
       "</div>"
      ],
      "text/plain": [
       "   ml_experience  class_attendance  lab1  lab2  lab3  lab4  quiz1  quiz2  \\\n",
       "0              1                 1    92    93    84    91     92     90   \n",
       "1              1                 0    94    90    80    83     91     84   \n",
       "2              0                 0    78    85    83    80     80     82   \n",
       "3              0                 1    91    94    92    91     89     92   \n",
       "4              0                 1    77    83    90    92     85     90   \n",
       "\n",
       "   predicted_quiz2  \n",
       "0        90.333333  \n",
       "1        83.000000  \n",
       "2        83.000000  \n",
       "3        92.000000  \n",
       "4        90.333333  "
      ]
     },
     "execution_count": 38,
     "metadata": {},
     "output_type": "execute_result"
    }
   ],
   "source": [
    "X = regression_df.drop([\"quiz2\"], axis=1)\n",
    "y = regression_df[\"quiz2\"]\n",
    "\n",
    "depth = 2\n",
    "reg_model = DecisionTreeRegressor(max_depth=depth)\n",
    "reg_model.fit(X, y); \n",
    "regression_df[\"predicted_quiz2\"] = reg_model.predict(X)\n",
    "print(\"R^2 score on the training data: %0.3f\\n\\n\" % (reg_model.score(X, y)))\n",
    "regression_df.head()"
   ]
  },
  {
   "cell_type": "markdown",
   "metadata": {
    "slideshow": {
     "slide_type": "slide"
    }
   },
   "source": [
    "### ❓❓ True of False?"
   ]
  },
  {
   "cell_type": "markdown",
   "metadata": {
    "slideshow": {
     "slide_type": "slide"
    }
   },
   "source": [
    "```{admonition} Exercise 2.6 True or False \n",
    "1. For the decision tree algorithm to work, the feature values must be numeric.  \n",
    "2. For the decision tree algorithm to work, the target values must be numeric.\n",
    "3. When working with numeric features, the tree will pick the mean as threshold value.\n",
    "``` \n",
    "\n",
    "Answer here: https://www.menti.com/albuty3ge2d4"
   ]
  },
  {
   "cell_type": "markdown",
   "metadata": {
    "jupyter": {
     "source_hidden": true
    },
    "slideshow": {
     "slide_type": "skip"
    },
    "tags": []
   },
   "source": [
    "```{admonition} Exercise 2.6: V's Solutions!\n",
    ":class: tip, dropdown\n",
    "1. False\n",
    "2. False\n",
    "3. False\n",
    "```"
   ]
  },
  {
   "cell_type": "markdown",
   "metadata": {
    "slideshow": {
     "slide_type": "slide"
    }
   },
   "source": [
    "## Break (5 min)\n",
    "\n",
    "![](../img/eva-coffee.png)\n"
   ]
  },
  {
   "cell_type": "markdown",
   "metadata": {},
   "source": [
    "<br><br><br><br>"
   ]
  },
  {
   "cell_type": "markdown",
   "metadata": {
    "slideshow": {
     "slide_type": "slide"
    }
   },
   "source": [
    "## More terminology [[video](https://youtu.be/KEtsfXn4w2E)]\n",
    "\n",
    "- Parameters and hyperparameters\n",
    "- Decision boundary \n"
   ]
  },
  {
   "cell_type": "markdown",
   "metadata": {},
   "source": [
    "***\n",
    "Check out [the accompanying video](https://youtu.be/KEtsfXn4w2E) on this material. \n",
    "***"
   ]
  },
  {
   "cell_type": "markdown",
   "metadata": {
    "slideshow": {
     "slide_type": "slide"
    }
   },
   "source": [
    "### Parameters \n",
    "\n",
    "- The decision tree algorithm primarily learns two things: \n",
    "    - the best feature to split on\n",
    "    - the threshold for the feature to split on at each node\n",
    "- These are called **parameters** of the decision tree model.  \n",
    "- When predicting on new examples, we need parameters of the model. "
   ]
  },
  {
   "cell_type": "code",
   "execution_count": 39,
   "metadata": {
    "slideshow": {
     "slide_type": "slide"
    }
   },
   "outputs": [],
   "source": [
    "classification_df = pd.read_csv(\"../data/quiz2-grade-toy-classification.csv\")\n",
    "X = classification_df.drop(columns=[\"quiz2\"])\n",
    "y = classification_df[\"quiz2\"]\n",
    "model = DecisionTreeClassifier()\n",
    "model.fit(X, y);"
   ]
  },
  {
   "cell_type": "code",
   "execution_count": 40,
   "metadata": {
    "slideshow": {
     "slide_type": "slide"
    }
   },
   "outputs": [
    {
     "data": {
      "image/svg+xml": [
       "<?xml version=\"1.0\" encoding=\"UTF-8\" standalone=\"no\"?>\n",
       "<!DOCTYPE svg PUBLIC \"-//W3C//DTD SVG 1.1//EN\"\n",
       " \"http://www.w3.org/Graphics/SVG/1.1/DTD/svg11.dtd\">\n",
       "<!-- Generated by graphviz version 7.0.5 (0)\n",
       " -->\n",
       "<!-- Title: Tree Pages: 1 -->\n",
       "<svg width=\"594pt\" height=\"491pt\"\n",
       " viewBox=\"0.00 0.00 593.50 491.00\" xmlns=\"http://www.w3.org/2000/svg\" xmlns:xlink=\"http://www.w3.org/1999/xlink\">\n",
       "<g id=\"graph0\" class=\"graph\" transform=\"scale(1 1) rotate(0) translate(4 487)\">\n",
       "<title>Tree</title>\n",
       "<polygon fill=\"white\" stroke=\"none\" points=\"-4,4 -4,-487 589.5,-487 589.5,4 -4,4\"/>\n",
       "<!-- 0 -->\n",
       "<g id=\"node1\" class=\"node\">\n",
       "<title>0</title>\n",
       "<polygon fill=\"none\" stroke=\"black\" points=\"228,-483 111,-483 111,-430 228,-430 228,-483\"/>\n",
       "<text text-anchor=\"middle\" x=\"169.5\" y=\"-467.8\" font-family=\"Helvetica,sans-Serif\" font-size=\"14.00\">lab3 &lt;= 83.5</text>\n",
       "<text text-anchor=\"middle\" x=\"169.5\" y=\"-452.8\" font-family=\"Helvetica,sans-Serif\" font-size=\"14.00\">counts = [10, 11]</text>\n",
       "<text text-anchor=\"middle\" x=\"169.5\" y=\"-437.8\" font-family=\"Helvetica,sans-Serif\" font-size=\"14.00\">class = not A+</text>\n",
       "</g>\n",
       "<!-- 1 -->\n",
       "<g id=\"node2\" class=\"node\">\n",
       "<title>1</title>\n",
       "<polygon fill=\"none\" stroke=\"black\" points=\"159,-386.5 56,-386.5 56,-348.5 159,-348.5 159,-386.5\"/>\n",
       "<text text-anchor=\"middle\" x=\"107.5\" y=\"-371.3\" font-family=\"Helvetica,sans-Serif\" font-size=\"14.00\">counts = [0, 6]</text>\n",
       "<text text-anchor=\"middle\" x=\"107.5\" y=\"-356.3\" font-family=\"Helvetica,sans-Serif\" font-size=\"14.00\">class = not A+</text>\n",
       "</g>\n",
       "<!-- 0&#45;&gt;1 -->\n",
       "<g id=\"edge1\" class=\"edge\">\n",
       "<title>0&#45;&gt;1</title>\n",
       "<path fill=\"none\" stroke=\"black\" d=\"M151.23,-429.87C143.61,-419.17 134.74,-406.72 126.99,-395.85\"/>\n",
       "<polygon fill=\"black\" stroke=\"black\" points=\"130.06,-394.12 121.4,-388.01 124.36,-398.19 130.06,-394.12\"/>\n",
       "<text text-anchor=\"middle\" x=\"116.39\" y=\"-407.73\" font-family=\"Helvetica,sans-Serif\" font-size=\"14.00\">True</text>\n",
       "</g>\n",
       "<!-- 2 -->\n",
       "<g id=\"node3\" class=\"node\">\n",
       "<title>2</title>\n",
       "<polygon fill=\"none\" stroke=\"black\" points=\"287.5,-394 177.5,-394 177.5,-341 287.5,-341 287.5,-394\"/>\n",
       "<text text-anchor=\"middle\" x=\"232.5\" y=\"-378.8\" font-family=\"Helvetica,sans-Serif\" font-size=\"14.00\">quiz1 &lt;= 83.5</text>\n",
       "<text text-anchor=\"middle\" x=\"232.5\" y=\"-363.8\" font-family=\"Helvetica,sans-Serif\" font-size=\"14.00\">counts = [10, 5]</text>\n",
       "<text text-anchor=\"middle\" x=\"232.5\" y=\"-348.8\" font-family=\"Helvetica,sans-Serif\" font-size=\"14.00\">class = A+</text>\n",
       "</g>\n",
       "<!-- 0&#45;&gt;2 -->\n",
       "<g id=\"edge2\" class=\"edge\">\n",
       "<title>0&#45;&gt;2</title>\n",
       "<path fill=\"none\" stroke=\"black\" d=\"M188.06,-429.87C194.03,-421.62 200.75,-412.34 207.13,-403.54\"/>\n",
       "<polygon fill=\"black\" stroke=\"black\" points=\"209.94,-405.63 212.97,-395.48 204.27,-401.52 209.94,-405.63\"/>\n",
       "<text text-anchor=\"middle\" x=\"217.8\" y=\"-415.24\" font-family=\"Helvetica,sans-Serif\" font-size=\"14.00\">False</text>\n",
       "</g>\n",
       "<!-- 3 -->\n",
       "<g id=\"node4\" class=\"node\">\n",
       "<title>3</title>\n",
       "<polygon fill=\"none\" stroke=\"black\" points=\"224,-305 121,-305 121,-252 224,-252 224,-305\"/>\n",
       "<text text-anchor=\"middle\" x=\"172.5\" y=\"-289.8\" font-family=\"Helvetica,sans-Serif\" font-size=\"14.00\">lab1 &lt;= 97.5</text>\n",
       "<text text-anchor=\"middle\" x=\"172.5\" y=\"-274.8\" font-family=\"Helvetica,sans-Serif\" font-size=\"14.00\">counts = [1, 3]</text>\n",
       "<text text-anchor=\"middle\" x=\"172.5\" y=\"-259.8\" font-family=\"Helvetica,sans-Serif\" font-size=\"14.00\">class = not A+</text>\n",
       "</g>\n",
       "<!-- 2&#45;&gt;3 -->\n",
       "<g id=\"edge3\" class=\"edge\">\n",
       "<title>2&#45;&gt;3</title>\n",
       "<path fill=\"none\" stroke=\"black\" d=\"M214.82,-340.87C209.14,-332.62 202.73,-323.34 196.67,-314.54\"/>\n",
       "<polygon fill=\"black\" stroke=\"black\" points=\"199.68,-312.74 191.12,-306.5 193.91,-316.71 199.68,-312.74\"/>\n",
       "</g>\n",
       "<!-- 6 -->\n",
       "<g id=\"node7\" class=\"node\">\n",
       "<title>6</title>\n",
       "<polygon fill=\"none\" stroke=\"black\" points=\"344.5,-305 242.5,-305 242.5,-252 344.5,-252 344.5,-305\"/>\n",
       "<text text-anchor=\"middle\" x=\"293.5\" y=\"-289.8\" font-family=\"Helvetica,sans-Serif\" font-size=\"14.00\">lab4 &lt;= 83.5</text>\n",
       "<text text-anchor=\"middle\" x=\"293.5\" y=\"-274.8\" font-family=\"Helvetica,sans-Serif\" font-size=\"14.00\">counts = [9, 2]</text>\n",
       "<text text-anchor=\"middle\" x=\"293.5\" y=\"-259.8\" font-family=\"Helvetica,sans-Serif\" font-size=\"14.00\">class = A+</text>\n",
       "</g>\n",
       "<!-- 2&#45;&gt;6 -->\n",
       "<g id=\"edge6\" class=\"edge\">\n",
       "<title>2&#45;&gt;6</title>\n",
       "<path fill=\"none\" stroke=\"black\" d=\"M250.47,-340.87C256.25,-332.62 262.76,-323.34 268.93,-314.54\"/>\n",
       "<polygon fill=\"black\" stroke=\"black\" points=\"271.7,-316.69 274.58,-306.49 265.97,-312.67 271.7,-316.69\"/>\n",
       "</g>\n",
       "<!-- 4 -->\n",
       "<g id=\"node5\" class=\"node\">\n",
       "<title>4</title>\n",
       "<polygon fill=\"none\" stroke=\"black\" points=\"103,-208.5 0,-208.5 0,-170.5 103,-170.5 103,-208.5\"/>\n",
       "<text text-anchor=\"middle\" x=\"51.5\" y=\"-193.3\" font-family=\"Helvetica,sans-Serif\" font-size=\"14.00\">counts = [0, 3]</text>\n",
       "<text text-anchor=\"middle\" x=\"51.5\" y=\"-178.3\" font-family=\"Helvetica,sans-Serif\" font-size=\"14.00\">class = not A+</text>\n",
       "</g>\n",
       "<!-- 3&#45;&gt;4 -->\n",
       "<g id=\"edge4\" class=\"edge\">\n",
       "<title>3&#45;&gt;4</title>\n",
       "<path fill=\"none\" stroke=\"black\" d=\"M136.52,-251.63C120.57,-240.16 101.87,-226.72 86.08,-215.36\"/>\n",
       "<polygon fill=\"black\" stroke=\"black\" points=\"88.55,-212.83 78.39,-209.83 84.47,-218.51 88.55,-212.83\"/>\n",
       "</g>\n",
       "<!-- 5 -->\n",
       "<g id=\"node6\" class=\"node\">\n",
       "<title>5</title>\n",
       "<polygon fill=\"none\" stroke=\"black\" points=\"223.5,-208.5 121.5,-208.5 121.5,-170.5 223.5,-170.5 223.5,-208.5\"/>\n",
       "<text text-anchor=\"middle\" x=\"172.5\" y=\"-193.3\" font-family=\"Helvetica,sans-Serif\" font-size=\"14.00\">counts = [1, 0]</text>\n",
       "<text text-anchor=\"middle\" x=\"172.5\" y=\"-178.3\" font-family=\"Helvetica,sans-Serif\" font-size=\"14.00\">class = A+</text>\n",
       "</g>\n",
       "<!-- 3&#45;&gt;5 -->\n",
       "<g id=\"edge5\" class=\"edge\">\n",
       "<title>3&#45;&gt;5</title>\n",
       "<path fill=\"none\" stroke=\"black\" d=\"M172.5,-251.87C172.5,-241.92 172.5,-230.47 172.5,-220.18\"/>\n",
       "<polygon fill=\"black\" stroke=\"black\" points=\"176,-220.29 172.5,-210.29 169,-220.29 176,-220.29\"/>\n",
       "</g>\n",
       "<!-- 7 -->\n",
       "<g id=\"node8\" class=\"node\">\n",
       "<title>7</title>\n",
       "<polygon fill=\"none\" stroke=\"black\" points=\"345,-208.5 242,-208.5 242,-170.5 345,-170.5 345,-208.5\"/>\n",
       "<text text-anchor=\"middle\" x=\"293.5\" y=\"-193.3\" font-family=\"Helvetica,sans-Serif\" font-size=\"14.00\">counts = [0, 1]</text>\n",
       "<text text-anchor=\"middle\" x=\"293.5\" y=\"-178.3\" font-family=\"Helvetica,sans-Serif\" font-size=\"14.00\">class = not A+</text>\n",
       "</g>\n",
       "<!-- 6&#45;&gt;7 -->\n",
       "<g id=\"edge7\" class=\"edge\">\n",
       "<title>6&#45;&gt;7</title>\n",
       "<path fill=\"none\" stroke=\"black\" d=\"M293.5,-251.87C293.5,-241.92 293.5,-230.47 293.5,-220.18\"/>\n",
       "<polygon fill=\"black\" stroke=\"black\" points=\"297,-220.29 293.5,-210.29 290,-220.29 297,-220.29\"/>\n",
       "</g>\n",
       "<!-- 8 -->\n",
       "<g id=\"node9\" class=\"node\">\n",
       "<title>8</title>\n",
       "<polygon fill=\"none\" stroke=\"black\" points=\"465.5,-216 363.5,-216 363.5,-163 465.5,-163 465.5,-216\"/>\n",
       "<text text-anchor=\"middle\" x=\"414.5\" y=\"-200.8\" font-family=\"Helvetica,sans-Serif\" font-size=\"14.00\">lab2 &lt;= 94.5</text>\n",
       "<text text-anchor=\"middle\" x=\"414.5\" y=\"-185.8\" font-family=\"Helvetica,sans-Serif\" font-size=\"14.00\">counts = [9, 1]</text>\n",
       "<text text-anchor=\"middle\" x=\"414.5\" y=\"-170.8\" font-family=\"Helvetica,sans-Serif\" font-size=\"14.00\">class = A+</text>\n",
       "</g>\n",
       "<!-- 6&#45;&gt;8 -->\n",
       "<g id=\"edge8\" class=\"edge\">\n",
       "<title>6&#45;&gt;8</title>\n",
       "<path fill=\"none\" stroke=\"black\" d=\"M329.48,-251.63C341.92,-242.68 356.03,-232.54 369.13,-223.12\"/>\n",
       "<polygon fill=\"black\" stroke=\"black\" points=\"371.15,-225.98 377.22,-217.3 367.06,-220.3 371.15,-225.98\"/>\n",
       "</g>\n",
       "<!-- 9 -->\n",
       "<g id=\"node10\" class=\"node\">\n",
       "<title>9</title>\n",
       "<polygon fill=\"none\" stroke=\"black\" points=\"405.5,-119.5 303.5,-119.5 303.5,-81.5 405.5,-81.5 405.5,-119.5\"/>\n",
       "<text text-anchor=\"middle\" x=\"354.5\" y=\"-104.3\" font-family=\"Helvetica,sans-Serif\" font-size=\"14.00\">counts = [8, 0]</text>\n",
       "<text text-anchor=\"middle\" x=\"354.5\" y=\"-89.3\" font-family=\"Helvetica,sans-Serif\" font-size=\"14.00\">class = A+</text>\n",
       "</g>\n",
       "<!-- 8&#45;&gt;9 -->\n",
       "<g id=\"edge9\" class=\"edge\">\n",
       "<title>8&#45;&gt;9</title>\n",
       "<path fill=\"none\" stroke=\"black\" d=\"M396.82,-162.87C389.52,-152.28 381.03,-139.97 373.59,-129.18\"/>\n",
       "<polygon fill=\"black\" stroke=\"black\" points=\"376.52,-127.27 367.96,-121.02 370.76,-131.24 376.52,-127.27\"/>\n",
       "</g>\n",
       "<!-- 10 -->\n",
       "<g id=\"node11\" class=\"node\">\n",
       "<title>10</title>\n",
       "<polygon fill=\"none\" stroke=\"black\" points=\"525.5,-127 423.5,-127 423.5,-74 525.5,-74 525.5,-127\"/>\n",
       "<text text-anchor=\"middle\" x=\"474.5\" y=\"-111.8\" font-family=\"Helvetica,sans-Serif\" font-size=\"14.00\">lab4 &lt;= 96.5</text>\n",
       "<text text-anchor=\"middle\" x=\"474.5\" y=\"-96.8\" font-family=\"Helvetica,sans-Serif\" font-size=\"14.00\">counts = [1, 1]</text>\n",
       "<text text-anchor=\"middle\" x=\"474.5\" y=\"-81.8\" font-family=\"Helvetica,sans-Serif\" font-size=\"14.00\">class = A+</text>\n",
       "</g>\n",
       "<!-- 8&#45;&gt;10 -->\n",
       "<g id=\"edge10\" class=\"edge\">\n",
       "<title>8&#45;&gt;10</title>\n",
       "<path fill=\"none\" stroke=\"black\" d=\"M432.18,-162.87C437.86,-154.62 444.27,-145.34 450.33,-136.54\"/>\n",
       "<polygon fill=\"black\" stroke=\"black\" points=\"453.09,-138.71 455.88,-128.5 447.32,-134.74 453.09,-138.71\"/>\n",
       "</g>\n",
       "<!-- 11 -->\n",
       "<g id=\"node12\" class=\"node\">\n",
       "<title>11</title>\n",
       "<polygon fill=\"none\" stroke=\"black\" points=\"465,-38 362,-38 362,0 465,0 465,-38\"/>\n",
       "<text text-anchor=\"middle\" x=\"413.5\" y=\"-22.8\" font-family=\"Helvetica,sans-Serif\" font-size=\"14.00\">counts = [0, 1]</text>\n",
       "<text text-anchor=\"middle\" x=\"413.5\" y=\"-7.8\" font-family=\"Helvetica,sans-Serif\" font-size=\"14.00\">class = not A+</text>\n",
       "</g>\n",
       "<!-- 10&#45;&gt;11 -->\n",
       "<g id=\"edge11\" class=\"edge\">\n",
       "<title>10&#45;&gt;11</title>\n",
       "<path fill=\"none\" stroke=\"black\" d=\"M454.86,-73.91C448.37,-65.44 441.11,-55.99 434.52,-47.39\"/>\n",
       "<polygon fill=\"black\" stroke=\"black\" points=\"437.47,-45.49 428.61,-39.69 431.92,-49.75 437.47,-45.49\"/>\n",
       "</g>\n",
       "<!-- 12 -->\n",
       "<g id=\"node13\" class=\"node\">\n",
       "<title>12</title>\n",
       "<polygon fill=\"none\" stroke=\"black\" points=\"585.5,-38 483.5,-38 483.5,0 585.5,0 585.5,-38\"/>\n",
       "<text text-anchor=\"middle\" x=\"534.5\" y=\"-22.8\" font-family=\"Helvetica,sans-Serif\" font-size=\"14.00\">counts = [1, 0]</text>\n",
       "<text text-anchor=\"middle\" x=\"534.5\" y=\"-7.8\" font-family=\"Helvetica,sans-Serif\" font-size=\"14.00\">class = A+</text>\n",
       "</g>\n",
       "<!-- 10&#45;&gt;12 -->\n",
       "<g id=\"edge12\" class=\"edge\">\n",
       "<title>10&#45;&gt;12</title>\n",
       "<path fill=\"none\" stroke=\"black\" d=\"M493.81,-73.91C500.14,-65.53 507.19,-56.19 513.62,-47.67\"/>\n",
       "<polygon fill=\"black\" stroke=\"black\" points=\"516.41,-49.79 519.64,-39.7 510.82,-45.57 516.41,-49.79\"/>\n",
       "</g>\n",
       "</g>\n",
       "</svg>\n"
      ],
      "text/plain": [
       "<graphviz.sources.Source at 0x1878a5120>"
      ]
     },
     "execution_count": 40,
     "metadata": {},
     "output_type": "execute_result"
    }
   ],
   "source": [
    "display_tree(X.columns, model, counts=True)"
   ]
  },
  {
   "cell_type": "markdown",
   "metadata": {
    "slideshow": {
     "slide_type": "slide"
    }
   },
   "source": [
    "- With the default setting, the nodes are expanded until all leaves are \"pure\" (or further splits do not improve the classification). "
   ]
  },
  {
   "cell_type": "markdown",
   "metadata": {
    "slideshow": {
     "slide_type": "slide"
    }
   },
   "source": [
    "- The decision tree is creating very specific rules, based on just one example from the data. \n",
    "- Is it possible to control the learning in any way? \n",
    "    - Yes! One way to do it is by controlling the **depth** of the tree, which is the length of the longest path from the tree root to a leaf.    "
   ]
  },
  {
   "cell_type": "markdown",
   "metadata": {
    "slideshow": {
     "slide_type": "slide"
    }
   },
   "source": [
    "### Decision tree with `max_depth=1`\n",
    "\n",
    "**Decision stump**\n",
    ": A decision tree with only one split (depth=1) is called a **decision stump**. "
   ]
  },
  {
   "cell_type": "code",
   "execution_count": 42,
   "metadata": {
    "slideshow": {
     "slide_type": "-"
    }
   },
   "outputs": [
    {
     "data": {
      "image/svg+xml": [
       "<?xml version=\"1.0\" encoding=\"UTF-8\" standalone=\"no\"?>\n",
       "<!DOCTYPE svg PUBLIC \"-//W3C//DTD SVG 1.1//EN\"\n",
       " \"http://www.w3.org/Graphics/SVG/1.1/DTD/svg11.dtd\">\n",
       "<!-- Generated by graphviz version 7.0.5 (0)\n",
       " -->\n",
       "<!-- Title: Tree Pages: 1 -->\n",
       "<svg width=\"240pt\" height=\"135pt\"\n",
       " viewBox=\"0.00 0.00 239.50 135.00\" xmlns=\"http://www.w3.org/2000/svg\" xmlns:xlink=\"http://www.w3.org/1999/xlink\">\n",
       "<g id=\"graph0\" class=\"graph\" transform=\"scale(1 1) rotate(0) translate(4 131)\">\n",
       "<title>Tree</title>\n",
       "<polygon fill=\"white\" stroke=\"none\" points=\"-4,4 -4,-131 235.5,-131 235.5,4 -4,4\"/>\n",
       "<!-- 0 -->\n",
       "<g id=\"node1\" class=\"node\">\n",
       "<title>0</title>\n",
       "<polygon fill=\"none\" stroke=\"black\" points=\"172,-127 55,-127 55,-74 172,-74 172,-127\"/>\n",
       "<text text-anchor=\"middle\" x=\"113.5\" y=\"-111.8\" font-family=\"Helvetica,sans-Serif\" font-size=\"14.00\">lab3 &lt;= 83.5</text>\n",
       "<text text-anchor=\"middle\" x=\"113.5\" y=\"-96.8\" font-family=\"Helvetica,sans-Serif\" font-size=\"14.00\">counts = [10, 11]</text>\n",
       "<text text-anchor=\"middle\" x=\"113.5\" y=\"-81.8\" font-family=\"Helvetica,sans-Serif\" font-size=\"14.00\">class = not A+</text>\n",
       "</g>\n",
       "<!-- 1 -->\n",
       "<g id=\"node2\" class=\"node\">\n",
       "<title>1</title>\n",
       "<polygon fill=\"none\" stroke=\"black\" points=\"103,-38 0,-38 0,0 103,0 103,-38\"/>\n",
       "<text text-anchor=\"middle\" x=\"51.5\" y=\"-22.8\" font-family=\"Helvetica,sans-Serif\" font-size=\"14.00\">counts = [0, 6]</text>\n",
       "<text text-anchor=\"middle\" x=\"51.5\" y=\"-7.8\" font-family=\"Helvetica,sans-Serif\" font-size=\"14.00\">class = not A+</text>\n",
       "</g>\n",
       "<!-- 0&#45;&gt;1 -->\n",
       "<g id=\"edge1\" class=\"edge\">\n",
       "<title>0&#45;&gt;1</title>\n",
       "<path fill=\"none\" stroke=\"black\" d=\"M93.54,-73.91C86.94,-65.44 79.57,-55.99 72.86,-47.39\"/>\n",
       "<polygon fill=\"black\" stroke=\"black\" points=\"75.76,-45.41 66.85,-39.68 70.24,-49.72 75.76,-45.41\"/>\n",
       "<text text-anchor=\"middle\" x=\"62.85\" y=\"-59.6\" font-family=\"Helvetica,sans-Serif\" font-size=\"14.00\">True</text>\n",
       "</g>\n",
       "<!-- 2 -->\n",
       "<g id=\"node3\" class=\"node\">\n",
       "<title>2</title>\n",
       "<polygon fill=\"none\" stroke=\"black\" points=\"231.5,-38 121.5,-38 121.5,0 231.5,0 231.5,-38\"/>\n",
       "<text text-anchor=\"middle\" x=\"176.5\" y=\"-22.8\" font-family=\"Helvetica,sans-Serif\" font-size=\"14.00\">counts = [10, 5]</text>\n",
       "<text text-anchor=\"middle\" x=\"176.5\" y=\"-7.8\" font-family=\"Helvetica,sans-Serif\" font-size=\"14.00\">class = A+</text>\n",
       "</g>\n",
       "<!-- 0&#45;&gt;2 -->\n",
       "<g id=\"edge2\" class=\"edge\">\n",
       "<title>0&#45;&gt;2</title>\n",
       "<path fill=\"none\" stroke=\"black\" d=\"M133.78,-73.91C140.49,-65.44 147.98,-55.99 154.79,-47.39\"/>\n",
       "<polygon fill=\"black\" stroke=\"black\" points=\"157.44,-49.68 160.91,-39.67 151.96,-45.34 157.44,-49.68\"/>\n",
       "<text text-anchor=\"middle\" x=\"164.73\" y=\"-59.62\" font-family=\"Helvetica,sans-Serif\" font-size=\"14.00\">False</text>\n",
       "</g>\n",
       "</g>\n",
       "</svg>\n"
      ],
      "text/plain": [
       "<graphviz.sources.Source at 0x1877cb6d0>"
      ]
     },
     "execution_count": 42,
     "metadata": {},
     "output_type": "execute_result"
    }
   ],
   "source": [
    "model = DecisionTreeClassifier(max_depth=1)\n",
    "model.fit(X, y)\n",
    "display_tree(X.columns, model, counts=True)"
   ]
  },
  {
   "cell_type": "markdown",
   "metadata": {
    "slideshow": {
     "slide_type": "slide"
    }
   },
   "source": [
    "`max_depth` is a **hyperparameter** of `DecisionTreeClassifier`. "
   ]
  },
  {
   "cell_type": "markdown",
   "metadata": {
    "slideshow": {
     "slide_type": "slide"
    }
   },
   "source": [
    "### Decision tree with `max_depth=3`"
   ]
  },
  {
   "cell_type": "code",
   "execution_count": 41,
   "metadata": {
    "slideshow": {
     "slide_type": "-"
    }
   },
   "outputs": [
    {
     "data": {
      "image/svg+xml": [
       "<?xml version=\"1.0\" encoding=\"UTF-8\" standalone=\"no\"?>\n",
       "<!DOCTYPE svg PUBLIC \"-//W3C//DTD SVG 1.1//EN\"\n",
       " \"http://www.w3.org/Graphics/SVG/1.1/DTD/svg11.dtd\">\n",
       "<!-- Generated by graphviz version 7.0.5 (0)\n",
       " -->\n",
       "<!-- Title: Tree Pages: 1 -->\n",
       "<svg width=\"473pt\" height=\"313pt\"\n",
       " viewBox=\"0.00 0.00 473.00 313.00\" xmlns=\"http://www.w3.org/2000/svg\" xmlns:xlink=\"http://www.w3.org/1999/xlink\">\n",
       "<g id=\"graph0\" class=\"graph\" transform=\"scale(1 1) rotate(0) translate(4 309)\">\n",
       "<title>Tree</title>\n",
       "<polygon fill=\"white\" stroke=\"none\" points=\"-4,4 -4,-309 469,-309 469,4 -4,4\"/>\n",
       "<!-- 0 -->\n",
       "<g id=\"node1\" class=\"node\">\n",
       "<title>0</title>\n",
       "<polygon fill=\"none\" stroke=\"black\" points=\"227.5,-305 110.5,-305 110.5,-252 227.5,-252 227.5,-305\"/>\n",
       "<text text-anchor=\"middle\" x=\"169\" y=\"-289.8\" font-family=\"Helvetica,sans-Serif\" font-size=\"14.00\">lab3 &lt;= 83.5</text>\n",
       "<text text-anchor=\"middle\" x=\"169\" y=\"-274.8\" font-family=\"Helvetica,sans-Serif\" font-size=\"14.00\">counts = [10, 11]</text>\n",
       "<text text-anchor=\"middle\" x=\"169\" y=\"-259.8\" font-family=\"Helvetica,sans-Serif\" font-size=\"14.00\">class = not A+</text>\n",
       "</g>\n",
       "<!-- 1 -->\n",
       "<g id=\"node2\" class=\"node\">\n",
       "<title>1</title>\n",
       "<polygon fill=\"none\" stroke=\"black\" points=\"158.5,-208.5 55.5,-208.5 55.5,-170.5 158.5,-170.5 158.5,-208.5\"/>\n",
       "<text text-anchor=\"middle\" x=\"107\" y=\"-193.3\" font-family=\"Helvetica,sans-Serif\" font-size=\"14.00\">counts = [0, 6]</text>\n",
       "<text text-anchor=\"middle\" x=\"107\" y=\"-178.3\" font-family=\"Helvetica,sans-Serif\" font-size=\"14.00\">class = not A+</text>\n",
       "</g>\n",
       "<!-- 0&#45;&gt;1 -->\n",
       "<g id=\"edge1\" class=\"edge\">\n",
       "<title>0&#45;&gt;1</title>\n",
       "<path fill=\"none\" stroke=\"black\" d=\"M150.73,-251.87C143.11,-241.17 134.24,-228.72 126.49,-217.85\"/>\n",
       "<polygon fill=\"black\" stroke=\"black\" points=\"129.56,-216.12 120.9,-210.01 123.86,-220.19 129.56,-216.12\"/>\n",
       "<text text-anchor=\"middle\" x=\"115.89\" y=\"-229.73\" font-family=\"Helvetica,sans-Serif\" font-size=\"14.00\">True</text>\n",
       "</g>\n",
       "<!-- 2 -->\n",
       "<g id=\"node3\" class=\"node\">\n",
       "<title>2</title>\n",
       "<polygon fill=\"none\" stroke=\"black\" points=\"287,-216 177,-216 177,-163 287,-163 287,-216\"/>\n",
       "<text text-anchor=\"middle\" x=\"232\" y=\"-200.8\" font-family=\"Helvetica,sans-Serif\" font-size=\"14.00\">quiz1 &lt;= 83.5</text>\n",
       "<text text-anchor=\"middle\" x=\"232\" y=\"-185.8\" font-family=\"Helvetica,sans-Serif\" font-size=\"14.00\">counts = [10, 5]</text>\n",
       "<text text-anchor=\"middle\" x=\"232\" y=\"-170.8\" font-family=\"Helvetica,sans-Serif\" font-size=\"14.00\">class = A+</text>\n",
       "</g>\n",
       "<!-- 0&#45;&gt;2 -->\n",
       "<g id=\"edge2\" class=\"edge\">\n",
       "<title>0&#45;&gt;2</title>\n",
       "<path fill=\"none\" stroke=\"black\" d=\"M187.56,-251.87C193.53,-243.62 200.25,-234.34 206.63,-225.54\"/>\n",
       "<polygon fill=\"black\" stroke=\"black\" points=\"209.44,-227.63 212.47,-217.48 203.77,-223.52 209.44,-227.63\"/>\n",
       "<text text-anchor=\"middle\" x=\"217.3\" y=\"-237.24\" font-family=\"Helvetica,sans-Serif\" font-size=\"14.00\">False</text>\n",
       "</g>\n",
       "<!-- 3 -->\n",
       "<g id=\"node4\" class=\"node\">\n",
       "<title>3</title>\n",
       "<polygon fill=\"none\" stroke=\"black\" points=\"223.5,-127 120.5,-127 120.5,-74 223.5,-74 223.5,-127\"/>\n",
       "<text text-anchor=\"middle\" x=\"172\" y=\"-111.8\" font-family=\"Helvetica,sans-Serif\" font-size=\"14.00\">lab2 &lt;= 88.0</text>\n",
       "<text text-anchor=\"middle\" x=\"172\" y=\"-96.8\" font-family=\"Helvetica,sans-Serif\" font-size=\"14.00\">counts = [1, 3]</text>\n",
       "<text text-anchor=\"middle\" x=\"172\" y=\"-81.8\" font-family=\"Helvetica,sans-Serif\" font-size=\"14.00\">class = not A+</text>\n",
       "</g>\n",
       "<!-- 2&#45;&gt;3 -->\n",
       "<g id=\"edge3\" class=\"edge\">\n",
       "<title>2&#45;&gt;3</title>\n",
       "<path fill=\"none\" stroke=\"black\" d=\"M214.32,-162.87C208.64,-154.62 202.23,-145.34 196.17,-136.54\"/>\n",
       "<polygon fill=\"black\" stroke=\"black\" points=\"199.18,-134.74 190.62,-128.5 193.41,-138.71 199.18,-134.74\"/>\n",
       "</g>\n",
       "<!-- 6 -->\n",
       "<g id=\"node7\" class=\"node\">\n",
       "<title>6</title>\n",
       "<polygon fill=\"none\" stroke=\"black\" points=\"344,-127 242,-127 242,-74 344,-74 344,-127\"/>\n",
       "<text text-anchor=\"middle\" x=\"293\" y=\"-111.8\" font-family=\"Helvetica,sans-Serif\" font-size=\"14.00\">lab4 &lt;= 83.5</text>\n",
       "<text text-anchor=\"middle\" x=\"293\" y=\"-96.8\" font-family=\"Helvetica,sans-Serif\" font-size=\"14.00\">counts = [9, 2]</text>\n",
       "<text text-anchor=\"middle\" x=\"293\" y=\"-81.8\" font-family=\"Helvetica,sans-Serif\" font-size=\"14.00\">class = A+</text>\n",
       "</g>\n",
       "<!-- 2&#45;&gt;6 -->\n",
       "<g id=\"edge6\" class=\"edge\">\n",
       "<title>2&#45;&gt;6</title>\n",
       "<path fill=\"none\" stroke=\"black\" d=\"M249.97,-162.87C255.75,-154.62 262.26,-145.34 268.43,-136.54\"/>\n",
       "<polygon fill=\"black\" stroke=\"black\" points=\"271.2,-138.69 274.08,-128.49 265.47,-134.67 271.2,-138.69\"/>\n",
       "</g>\n",
       "<!-- 4 -->\n",
       "<g id=\"node5\" class=\"node\">\n",
       "<title>4</title>\n",
       "<polygon fill=\"none\" stroke=\"black\" points=\"102,-38 0,-38 0,0 102,0 102,-38\"/>\n",
       "<text text-anchor=\"middle\" x=\"51\" y=\"-22.8\" font-family=\"Helvetica,sans-Serif\" font-size=\"14.00\">counts = [1, 0]</text>\n",
       "<text text-anchor=\"middle\" x=\"51\" y=\"-7.8\" font-family=\"Helvetica,sans-Serif\" font-size=\"14.00\">class = A+</text>\n",
       "</g>\n",
       "<!-- 3&#45;&gt;4 -->\n",
       "<g id=\"edge4\" class=\"edge\">\n",
       "<title>3&#45;&gt;4</title>\n",
       "<path fill=\"none\" stroke=\"black\" d=\"M132.71,-73.69C118.47,-64.33 102.44,-53.8 88.37,-44.55\"/>\n",
       "<polygon fill=\"black\" stroke=\"black\" points=\"90.53,-41.78 80.25,-39.22 86.68,-47.63 90.53,-41.78\"/>\n",
       "</g>\n",
       "<!-- 5 -->\n",
       "<g id=\"node6\" class=\"node\">\n",
       "<title>5</title>\n",
       "<polygon fill=\"none\" stroke=\"black\" points=\"223.5,-38 120.5,-38 120.5,0 223.5,0 223.5,-38\"/>\n",
       "<text text-anchor=\"middle\" x=\"172\" y=\"-22.8\" font-family=\"Helvetica,sans-Serif\" font-size=\"14.00\">counts = [0, 3]</text>\n",
       "<text text-anchor=\"middle\" x=\"172\" y=\"-7.8\" font-family=\"Helvetica,sans-Serif\" font-size=\"14.00\">class = not A+</text>\n",
       "</g>\n",
       "<!-- 3&#45;&gt;5 -->\n",
       "<g id=\"edge5\" class=\"edge\">\n",
       "<title>3&#45;&gt;5</title>\n",
       "<path fill=\"none\" stroke=\"black\" d=\"M172,-73.91C172,-66.25 172,-57.79 172,-49.88\"/>\n",
       "<polygon fill=\"black\" stroke=\"black\" points=\"175.5,-50 172,-40 168.5,-50 175.5,-50\"/>\n",
       "</g>\n",
       "<!-- 7 -->\n",
       "<g id=\"node8\" class=\"node\">\n",
       "<title>7</title>\n",
       "<polygon fill=\"none\" stroke=\"black\" points=\"344.5,-38 241.5,-38 241.5,0 344.5,0 344.5,-38\"/>\n",
       "<text text-anchor=\"middle\" x=\"293\" y=\"-22.8\" font-family=\"Helvetica,sans-Serif\" font-size=\"14.00\">counts = [0, 1]</text>\n",
       "<text text-anchor=\"middle\" x=\"293\" y=\"-7.8\" font-family=\"Helvetica,sans-Serif\" font-size=\"14.00\">class = not A+</text>\n",
       "</g>\n",
       "<!-- 6&#45;&gt;7 -->\n",
       "<g id=\"edge7\" class=\"edge\">\n",
       "<title>6&#45;&gt;7</title>\n",
       "<path fill=\"none\" stroke=\"black\" d=\"M293,-73.91C293,-66.25 293,-57.79 293,-49.88\"/>\n",
       "<polygon fill=\"black\" stroke=\"black\" points=\"296.5,-50 293,-40 289.5,-50 296.5,-50\"/>\n",
       "</g>\n",
       "<!-- 8 -->\n",
       "<g id=\"node9\" class=\"node\">\n",
       "<title>8</title>\n",
       "<polygon fill=\"none\" stroke=\"black\" points=\"465,-38 363,-38 363,0 465,0 465,-38\"/>\n",
       "<text text-anchor=\"middle\" x=\"414\" y=\"-22.8\" font-family=\"Helvetica,sans-Serif\" font-size=\"14.00\">counts = [9, 1]</text>\n",
       "<text text-anchor=\"middle\" x=\"414\" y=\"-7.8\" font-family=\"Helvetica,sans-Serif\" font-size=\"14.00\">class = A+</text>\n",
       "</g>\n",
       "<!-- 6&#45;&gt;8 -->\n",
       "<g id=\"edge8\" class=\"edge\">\n",
       "<title>6&#45;&gt;8</title>\n",
       "<path fill=\"none\" stroke=\"black\" d=\"M332.29,-73.69C346.53,-64.33 362.56,-53.8 376.63,-44.55\"/>\n",
       "<polygon fill=\"black\" stroke=\"black\" points=\"378.32,-47.63 384.75,-39.22 374.47,-41.78 378.32,-47.63\"/>\n",
       "</g>\n",
       "</g>\n",
       "</svg>\n"
      ],
      "text/plain": [
       "<graphviz.sources.Source at 0x18766f970>"
      ]
     },
     "execution_count": 41,
     "metadata": {},
     "output_type": "execute_result"
    }
   ],
   "source": [
    "model = DecisionTreeClassifier(\n",
    "    max_depth=3\n",
    ")  # Let's try another value for the hyperparameter\n",
    "model.fit(X, y)\n",
    "display_tree(X.columns, model, counts=True)"
   ]
  },
  {
   "cell_type": "markdown",
   "metadata": {
    "slideshow": {
     "slide_type": "slide"
    }
   },
   "source": [
    "### Parameters and hyperparameters: Summary \n",
    "**Parameters**\n",
    ": When you call `fit`, a bunch of values get set, like the features to split on and split thresholds. These are called **parameters**. These are learned by the algorithm from the data during training. We need them during prediction time. \n",
    "\n",
    "**Hyperparameters**\n",
    ": Even before calling `fit` on a specific data set, we can set some \"knobs\" that control the learning. These are called **hyperparameters**. These are specified based on: expert knowledge, heuristics, or systematic/automated optimization (more on this in the coming lectures).    "
   ]
  },
  {
   "cell_type": "markdown",
   "metadata": {
    "slideshow": {
     "slide_type": "skip"
    }
   },
   "source": [
    "***\n",
    "In `sklearn` hyperparameters are set in the constructor. \n",
    "***"
   ]
  },
  {
   "cell_type": "markdown",
   "metadata": {
    "slideshow": {
     "slide_type": "slide"
    }
   },
   "source": [
    "Above we looked at the `max_depth` hyperparameter. Some other commonly used hyperparameters of decision tree are:\n",
    "\n",
    "- `min_samples_split`\n",
    "- `min_samples_leaf`\n",
    "- `max_leaf_nodes`"
   ]
  },
  {
   "cell_type": "markdown",
   "metadata": {
    "slideshow": {
     "slide_type": "skip"
    }
   },
   "source": [
    "***\n",
    "See [the documentation](https://scikit-learn.org/stable/modules/generated/sklearn.tree.DecisionTreeClassifier.html) for other hyperparameters of a tree.\n",
    "***"
   ]
  },
  {
   "cell_type": "markdown",
   "metadata": {
    "slideshow": {
     "slide_type": "slide"
    },
    "tags": []
   },
   "source": [
    "### Decision boundary \n",
    "\n",
    "What do we do with learned models? So far we have been using them to predict the class of a new instance. Another way to think about them is to ask: what sort of test examples will the model classify as positive, and what sort will it classify as negative? "
   ]
  },
  {
   "cell_type": "markdown",
   "metadata": {
    "slideshow": {
     "slide_type": "slide"
    }
   },
   "source": [
    "#### Example 1: quiz 2 grade prediction \n",
    "\n",
    "For visualization purposes, let's consider a subset of the data with only two features. "
   ]
  },
  {
   "cell_type": "code",
   "execution_count": null,
   "metadata": {
    "slideshow": {
     "slide_type": "-"
    }
   },
   "outputs": [],
   "source": [
    "X_subset = X[[\"lab4\", \"quiz1\"]]\n",
    "X_subset.head()"
   ]
  },
  {
   "cell_type": "markdown",
   "metadata": {
    "slideshow": {
     "slide_type": "slide"
    }
   },
   "source": [
    "##### Decision boundary for `max_depth=1` "
   ]
  },
  {
   "cell_type": "code",
   "execution_count": null,
   "metadata": {},
   "outputs": [],
   "source": [
    "depth = 1  # decision stump\n",
    "model = DecisionTreeClassifier(max_depth=depth)\n",
    "model.fit(X_subset.to_numpy(), y)\n",
    "plot_tree_decision_boundary_and_tree(\n",
    "    model, X_subset, y, x_label=\"lab4\", y_label=\"quiz1\"\n",
    ")"
   ]
  },
  {
   "cell_type": "markdown",
   "metadata": {
    "slideshow": {
     "slide_type": "slide"
    }
   },
   "source": [
    "We assume geometric view of the data. Here, the red region corresponds to \"not A+\" class and blue region corresponds to \"A+\" class. And there is a line separating the red region and the blue region which is called the **decision boundary** of the model. Different models have different kinds of decision boundaries. \n",
    "In decision tree models, when we are working with only two features, the decision boundary is made up of horizontal and vertical lines. In the example above, the decision boundary is created by asking one question `lab4 <= 84.5`. "
   ]
  },
  {
   "cell_type": "markdown",
   "metadata": {
    "slideshow": {
     "slide_type": "slide"
    }
   },
   "source": [
    "##### Decision boundary for `max_depth=2` "
   ]
  },
  {
   "cell_type": "code",
   "execution_count": null,
   "metadata": {},
   "outputs": [],
   "source": [
    "model = DecisionTreeClassifier(max_depth=2)\n",
    "model.fit(X_subset.to_numpy(), y)\n",
    "plot_tree_decision_boundary_and_tree(\n",
    "    model, X_subset, y, x_label=\"lab4\", y_label=\"quiz1\"\n",
    ")"
   ]
  },
  {
   "cell_type": "markdown",
   "metadata": {},
   "source": [
    "The decision boundary, i.e., the model gets a bit more complicated. "
   ]
  },
  {
   "cell_type": "markdown",
   "metadata": {
    "slideshow": {
     "slide_type": "slide"
    }
   },
   "source": [
    "##### Decision boundary for `max_depth=5` "
   ]
  },
  {
   "cell_type": "code",
   "execution_count": null,
   "metadata": {},
   "outputs": [],
   "source": [
    "model = DecisionTreeClassifier(max_depth=5)\n",
    "model.fit(X_subset.to_numpy(), y)\n",
    "plot_tree_decision_boundary_and_tree(\n",
    "    model, X_subset, y, x_label=\"lab4\", y_label=\"quiz1\"\n",
    ")"
   ]
  },
  {
   "cell_type": "markdown",
   "metadata": {},
   "source": [
    "The decision boundary, i.e., the model gets even more complicated with `max_depth=5`. "
   ]
  },
  {
   "cell_type": "markdown",
   "metadata": {},
   "source": [
    "<br><br>"
   ]
  },
  {
   "cell_type": "markdown",
   "metadata": {
    "slideshow": {
     "slide_type": "slide"
    }
   },
   "source": [
    "#### Example 2: Predicting country using the longitude and latitude \n",
    "\n",
    "Imagine that you are given longitude and latitude of some border cities of USA and Canada along with which country they belong to. Using this training data, you are supposed to come up with a classification model to predict whether a given longitude and latitude combination is in the USA or Canada. "
   ]
  },
  {
   "cell_type": "code",
   "execution_count": 1,
   "metadata": {
    "slideshow": {
     "slide_type": "slide"
    }
   },
   "outputs": [
    {
     "ename": "NameError",
     "evalue": "name 'pd' is not defined",
     "output_type": "error",
     "traceback": [
      "\u001b[0;31m---------------------------------------------------------------------------\u001b[0m",
      "\u001b[0;31mNameError\u001b[0m                                 Traceback (most recent call last)",
      "Cell \u001b[0;32mIn[1], line 2\u001b[0m\n\u001b[1;32m      1\u001b[0m \u001b[38;5;66;03m# US Canada cities data\u001b[39;00m\n\u001b[0;32m----> 2\u001b[0m df \u001b[38;5;241m=\u001b[39m \u001b[43mpd\u001b[49m\u001b[38;5;241m.\u001b[39mread_csv(\u001b[38;5;124m\"\u001b[39m\u001b[38;5;124m../data/canada_usa_cities.csv\u001b[39m\u001b[38;5;124m\"\u001b[39m)\n\u001b[1;32m      3\u001b[0m df\n",
      "\u001b[0;31mNameError\u001b[0m: name 'pd' is not defined"
     ]
    }
   ],
   "source": [
    "# US Canada cities data\n",
    "df = pd.read_csv(\"../data/canada_usa_cities.csv\")\n",
    "df"
   ]
  },
  {
   "cell_type": "code",
   "execution_count": null,
   "metadata": {},
   "outputs": [],
   "source": [
    "X = df[[\"longitude\", \"latitude\"]]"
   ]
  },
  {
   "cell_type": "code",
   "execution_count": null,
   "metadata": {},
   "outputs": [],
   "source": [
    "y = df[\"country\"]"
   ]
  },
  {
   "cell_type": "code",
   "execution_count": null,
   "metadata": {
    "slideshow": {
     "slide_type": "slide"
    }
   },
   "outputs": [],
   "source": [
    "mglearn.discrete_scatter(X.iloc[:, 0], X.iloc[:, 1], y)\n",
    "plt.xlabel(\"longitude\")\n",
    "plt.ylabel(\"latitude\");"
   ]
  },
  {
   "cell_type": "markdown",
   "metadata": {
    "slideshow": {
     "slide_type": "slide"
    }
   },
   "source": [
    "##### Real boundary between Canada and USA\n",
    "\n",
    "In real life we know what's the boundary between USA and Canada. \n",
    "\n",
    "![](../img/canada-us-border.jpg)\n",
    "\n",
    "<!-- <img src=\"img/canada-us-border.jpg\" height=\"500\" width=\"500\">  -->\n",
    "\n",
    "[Source](https://sovereignlimits.com/blog/u-s-canada-border-history-disputes)\n",
    "\n",
    "Here we want to pretend that we do not know this boundary and we want to infer this boundary based on the limited training examples given to us. "
   ]
  },
  {
   "cell_type": "code",
   "execution_count": null,
   "metadata": {
    "slideshow": {
     "slide_type": "slide"
    }
   },
   "outputs": [],
   "source": [
    "model = DecisionTreeClassifier(max_depth=1)\n",
    "model.fit(X.to_numpy(), y)\n",
    "plot_tree_decision_boundary_and_tree(\n",
    "    model,\n",
    "    X,\n",
    "    y,\n",
    "    height=6,\n",
    "    width=16,\n",
    "    eps=10,\n",
    "    x_label=\"longitude\",\n",
    "    y_label=\"latitude\",\n",
    ")"
   ]
  },
  {
   "cell_type": "code",
   "execution_count": null,
   "metadata": {
    "slideshow": {
     "slide_type": "slide"
    }
   },
   "outputs": [],
   "source": [
    "model = DecisionTreeClassifier(max_depth=2)\n",
    "model.fit(X.to_numpy(), y)\n",
    "plot_tree_decision_boundary_and_tree(\n",
    "    model,\n",
    "    X,\n",
    "    y,\n",
    "    height=6,\n",
    "    width=16,\n",
    "    eps=10,\n",
    "    x_label=\"longitude\",\n",
    "    y_label=\"latitude\",\n",
    ")"
   ]
  },
  {
   "cell_type": "markdown",
   "metadata": {},
   "source": [
    "### Practice exercises \n",
    "\n",
    "- If you want more practice, check out module 2 in [this online course](https://ml-learn.mds.ubc.ca/en/module2). All the sections **without** video or notes symbol are exercises.  "
   ]
  },
  {
   "cell_type": "markdown",
   "metadata": {},
   "source": [
    "***\n",
    "If all of you are working on the exercises, especially coding exercises, at the same time, you might have to wait for the real-time feedback for a long time or you might even get an error. There is no solution for this other than waiting for a while and trying it again. \n",
    "***"
   ]
  },
  {
   "cell_type": "markdown",
   "metadata": {},
   "source": [
    "***\n",
    "Some background on [the online course](https://ml-learn.mds.ubc.ca/en/) above: This course is designed by Hayley Boyce, Mike Gelbart, and Varada Kolhatkar. It'll be a great resource at the beginning of this class, as it give you a chance to practice what we learn and the framework will provide you real-time feedback. \n",
    "***"
   ]
  },
  {
   "cell_type": "markdown",
   "metadata": {},
   "source": [
    "<br><br><br><br>"
   ]
  },
  {
   "cell_type": "markdown",
   "metadata": {
    "slideshow": {
     "slide_type": "slide"
    }
   },
   "source": [
    "## Final comments and summary\n",
    "\n",
    "What did we learn today? \n",
    "\n",
    "- There is a lot of terminology and jargon used in ML. Some of the basic \n",
    "terminology includes:\n",
    "    - Features, target, examples, training\n",
    "    - Supervised vs. Unsupervised machine learning     \n",
    "    - Classification and regression    \n",
    "    - Accuracy and error    \n",
    "    - Parameters and hyperparameters\n",
    "    - Decision boundary "
   ]
  },
  {
   "cell_type": "markdown",
   "metadata": {},
   "source": [
    "- Baselines and steps to train a supervised machine learning model \n",
    "    - Baselines serve as reference points in ML workflow. "
   ]
  },
  {
   "cell_type": "markdown",
   "metadata": {},
   "source": [
    "- Decision trees    \n",
    "    - are models that make predictions by sequentially looking at features and checking whether they are above/below a threshold\n",
    "    - learn a hierarchy of if/else questions, similar to questions you might ask in a 20-questions game.       \n",
    "    - learn axis-aligned decision boundaries (vertical and horizontal lines with 2 features)    \n",
    "    - One way to control the complexity of decision tree models is by using the depth hyperparameter (`max_depth` in `sklearn`). "
   ]
  },
  {
   "cell_type": "markdown",
   "metadata": {},
   "source": [
    "![](../img/eva-logging-off.png)\n"
   ]
  },
  {
   "cell_type": "code",
   "execution_count": null,
   "metadata": {},
   "outputs": [],
   "source": []
  }
 ],
 "metadata": {
  "celltoolbar": "Slideshow",
  "kernelspec": {
   "display_name": "Python [conda env:cpsc330]",
   "language": "python",
   "name": "conda-env-cpsc330-py"
  },
  "language_info": {
   "codemirror_mode": {
    "name": "ipython",
    "version": 3
   },
   "file_extension": ".py",
   "mimetype": "text/x-python",
   "name": "python",
   "nbconvert_exporter": "python",
   "pygments_lexer": "ipython3",
   "version": "3.10.8"
  },
  "rise": {
   "scroll": true
  }
 },
 "nbformat": 4,
 "nbformat_minor": 4
}

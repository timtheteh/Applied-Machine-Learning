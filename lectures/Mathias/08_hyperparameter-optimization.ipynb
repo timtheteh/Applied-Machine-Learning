{
 "cells": [
  {
   "cell_type": "markdown",
   "metadata": {
    "slideshow": {
     "slide_type": "slide"
    }
   },
   "source": [
    "![](../img/330-banner.png)"
   ]
  },
  {
   "cell_type": "markdown",
   "metadata": {
    "slideshow": {
     "slide_type": "-"
    }
   },
   "source": [
    "# Lecture 8: Hyperparameter Optimization and Optimization Bias\n",
    "\n",
    "UBC 2022-23\n",
    "\n",
    "Instructor: Mathias Lécuyer"
   ]
  },
  {
   "cell_type": "markdown",
   "metadata": {
    "slideshow": {
     "slide_type": "skip"
    }
   },
   "source": [
    "## Imports"
   ]
  },
  {
   "cell_type": "code",
   "execution_count": 79,
   "metadata": {
    "slideshow": {
     "slide_type": "skip"
    }
   },
   "outputs": [],
   "source": [
    "import os\n",
    "import sys\n",
    "\n",
    "sys.path.append(\"../code/.\")\n",
    "\n",
    "import IPython\n",
    "import ipywidgets as widgets\n",
    "import matplotlib.pyplot as plt\n",
    "import mglearn\n",
    "import numpy as np\n",
    "import pandas as pd\n",
    "from IPython.display import HTML, display\n",
    "from ipywidgets import interact, interactive\n",
    "from plotting_functions import *\n",
    "from sklearn.dummy import DummyClassifier\n",
    "from sklearn.feature_extraction.text import CountVectorizer, TfidfVectorizer\n",
    "from sklearn.impute import SimpleImputer\n",
    "from sklearn.model_selection import cross_val_score, cross_validate, train_test_split\n",
    "from sklearn.pipeline import Pipeline, make_pipeline\n",
    "from sklearn.preprocessing import OneHotEncoder, StandardScaler\n",
    "from sklearn.svm import SVC\n",
    "from sklearn.tree import DecisionTreeClassifier\n",
    "from utils import *\n",
    "\n",
    "%matplotlib inline\n",
    "pd.set_option(\"display.max_colwidth\", 200)"
   ]
  },
  {
   "cell_type": "markdown",
   "metadata": {
    "slideshow": {
     "slide_type": "skip"
    }
   },
   "source": [
    "<br><br>"
   ]
  },
  {
   "cell_type": "markdown",
   "metadata": {
    "slideshow": {
     "slide_type": "slide"
    }
   },
   "source": [
    "### Learning outcomes \n",
    "\n",
    "From this lecture, you will be able to \n",
    "\n",
    "- explain the need for hyperparameter optimization  \n",
    "- carry out hyperparameter optimization using `sklearn`'s `GridSearchCV` and `RandomizedSearchCV` \n",
    "- explain different hyperparameters of `GridSearchCV`\n",
    "- explain the importance of selecting a good range for the values. \n",
    "- explain optimization bias\n",
    "- identify and reason when to trust and not trust reported accuracies "
   ]
  },
  {
   "cell_type": "markdown",
   "metadata": {
    "slideshow": {
     "slide_type": "skip"
    }
   },
   "source": [
    "<br><br><br><br>"
   ]
  },
  {
   "cell_type": "markdown",
   "metadata": {
    "slideshow": {
     "slide_type": "slide"
    }
   },
   "source": [
    "## Hyperparameter optimization motivation "
   ]
  },
  {
   "cell_type": "markdown",
   "metadata": {
    "slideshow": {
     "slide_type": "slide"
    }
   },
   "source": [
    "### Motivation\n",
    "\n",
    "- Remember that the fundamental goal of supervised machine learning is to generalize beyond what we see in the training examples. \n",
    "- We have been using data splitting and cross-validation to provide a framework to approximate generalization error.  \n",
    "- With this framework, we can improve the model's generalization performance by tuning model hyperparameters using cross-validation on the training set. "
   ]
  },
  {
   "cell_type": "markdown",
   "metadata": {
    "slideshow": {
     "slide_type": "slide"
    }
   },
   "source": [
    "### Hyperparameters: the problem\n",
    "\n",
    "- In order to improve the generalization performance, finding the best values for the important hyperparameters of a model is necessary for almost all models and datasets. \n",
    "- Picking good hyperparameters is important because if we don't do it, we might end up with an underfit or overfit model. "
   ]
  },
  {
   "cell_type": "markdown",
   "metadata": {
    "slideshow": {
     "slide_type": "slide"
    }
   },
   "source": [
    "### Some ways to pick hyperparameters:\n",
    "- Manual or expert knowledge or heuristics based optimization \n",
    "- Data-driven or automated optimization"
   ]
  },
  {
   "cell_type": "markdown",
   "metadata": {
    "slideshow": {
     "slide_type": "slide"
    }
   },
   "source": [
    "#### Manual hyperparameter optimization\n",
    "\n",
    "- Advantage: we may have some intuition about what might work.\n",
    "  - E.g. if I'm massively overfitting, try decreasing `max_depth` or `C`.\n",
    "- Disadvantages\n",
    "    - it takes a lot of work\n",
    "    - not reproducible\n",
    "    - in very complicated cases, our intuition might be worse than a data-driven approach"
   ]
  },
  {
   "cell_type": "markdown",
   "metadata": {
    "slideshow": {
     "slide_type": "slide"
    }
   },
   "source": [
    "### Automated hyperparameter optimization \n",
    "\n",
    "- Formulate the hyperparamter optimization as one big search problem. \n",
    "- Often we have many hyperparameters of different types: Categorical, integer, and continuous.\n",
    "- Often, the search space is quite big and systematic search for optimal values is infeasible. "
   ]
  },
  {
   "cell_type": "markdown",
   "metadata": {
    "slideshow": {
     "slide_type": "slide"
    }
   },
   "source": [
    "In homework assignments, we have been carrying out hyperparameter search by exhaustively trying different possible combinations of the hyperparameters of interest.\n",
    "\n",
    "This is what it looks like schematically:"
   ]
  },
  {
   "cell_type": "code",
   "execution_count": null,
   "metadata": {},
   "outputs": [],
   "source": [
    "mglearn.plots.plot_grid_search_overview()"
   ]
  },
  {
   "cell_type": "markdown",
   "metadata": {
    "slideshow": {
     "slide_type": "slide"
    }
   },
   "source": [
    "Let's look at an example of tuning `max_depth` of the `DecisionTreeClassifier` on the Spotify dataset. "
   ]
  },
  {
   "cell_type": "code",
   "execution_count": null,
   "metadata": {
    "slideshow": {
     "slide_type": "-"
    }
   },
   "outputs": [],
   "source": [
    "spotify_df = pd.read_csv(\"../data/spotify.csv\", index_col=0)\n",
    "X_spotify = spotify_df.drop(columns=[\"target\", \"song_title\", \"artist\"])\n",
    "y_spotify = spotify_df[\"target\"]\n",
    "X_spotify.head()"
   ]
  },
  {
   "cell_type": "code",
   "execution_count": null,
   "metadata": {
    "slideshow": {
     "slide_type": "slide"
    }
   },
   "outputs": [],
   "source": [
    "X_train, X_test, y_train, y_test = train_test_split(\n",
    "    X_spotify, y_spotify, test_size=0.2, random_state=123\n",
    ")"
   ]
  },
  {
   "cell_type": "code",
   "execution_count": null,
   "metadata": {
    "slideshow": {
     "slide_type": "slide"
    }
   },
   "outputs": [],
   "source": [
    "best_score = 0\n",
    "\n",
    "param_grid = {\"max_depth\": np.arange(1, 20, 2)}\n",
    "\n",
    "results_dict = {\"max_depth\": [], \"mean_cv_score\": []}\n",
    "\n",
    "for depth in param_grid[\n",
    "    \"max_depth\"\n",
    "]:  # for each combination of parameters, train an SVC\n",
    "    dt = DecisionTreeClassifier(max_depth=depth)\n",
    "    scores = cross_val_score(dt, X_train, y_train)  # perform cross-validation\n",
    "    mean_score = np.mean(scores)  # compute mean cross-validation accuracy\n",
    "    if (\n",
    "        mean_score > best_score\n",
    "    ):  # if we got a better score, store the score and parameters\n",
    "        best_score = mean_score\n",
    "        best_params = {\"max_depth\": depth}\n",
    "    results_dict[\"max_depth\"].append(depth)\n",
    "    results_dict[\"mean_cv_score\"].append(mean_score)"
   ]
  },
  {
   "cell_type": "code",
   "execution_count": null,
   "metadata": {
    "slideshow": {
     "slide_type": "slide"
    }
   },
   "outputs": [],
   "source": [
    "best_params"
   ]
  },
  {
   "cell_type": "code",
   "execution_count": null,
   "metadata": {},
   "outputs": [],
   "source": [
    "best_score"
   ]
  },
  {
   "cell_type": "markdown",
   "metadata": {
    "slideshow": {
     "slide_type": "slide"
    }
   },
   "source": [
    "Let's try SVM RBF and tuning `C` and `gamma` on the same dataset. "
   ]
  },
  {
   "cell_type": "code",
   "execution_count": null,
   "metadata": {
    "slideshow": {
     "slide_type": "-"
    }
   },
   "outputs": [],
   "source": [
    "pipe_svm = make_pipeline(StandardScaler(), SVC())  # We need scaling for SVM RBF\n",
    "pipe_svm.fit(X_train, y_train)"
   ]
  },
  {
   "cell_type": "markdown",
   "metadata": {
    "slideshow": {
     "slide_type": "slide"
    }
   },
   "source": [
    "Let's try cross-validation with default hyperparameters of SVC. "
   ]
  },
  {
   "cell_type": "code",
   "execution_count": null,
   "metadata": {},
   "outputs": [],
   "source": [
    "scores = cross_validate(pipe_svm, X_train, y_train, return_train_score=True)\n",
    "pd.DataFrame(scores).mean()"
   ]
  },
  {
   "cell_type": "markdown",
   "metadata": {
    "slideshow": {
     "slide_type": "skip"
    }
   },
   "source": [
    "Now let's try exhaustive hyperparameter search using for loops. \n",
    "\n",
    "This is what we have been doing for this:\n",
    "\n",
    "```\n",
    "for gamma in [0.01, 1, 10, 100]: # for some values of gamma\n",
    "    for C in [0.01, 1, 10, 100]: # for some values of C\n",
    "        for fold in folds:\n",
    "            fit in training portion with the given C\n",
    "            score on validation portion\n",
    "        compute average score\n",
    "        \n",
    "pick hyperparameter values which yield with best average score\n",
    "```"
   ]
  },
  {
   "cell_type": "code",
   "execution_count": null,
   "metadata": {
    "slideshow": {
     "slide_type": "slide"
    }
   },
   "outputs": [],
   "source": [
    "best_score = 0\n",
    "\n",
    "param_grid = {\n",
    "    \"C\": [0.001, 0.01, 0.1, 1, 10, 100],\n",
    "    \"gamma\": [0.001, 0.01, 0.1, 1, 10, 100],\n",
    "}\n",
    "\n",
    "results_dict = {\"C\": [], \"gamma\": [], \"mean_cv_score\": []}\n",
    "\n",
    "for gamma in param_grid[\"gamma\"]:\n",
    "    for C in param_grid[\"C\"]:  # for each combination of parameters, train an SVC\n",
    "        pipe_svm = make_pipeline(StandardScaler(), SVC(gamma=gamma, C=C))\n",
    "        scores = cross_val_score(pipe_svm, X_train, y_train)  # perform cross-validation\n",
    "        mean_score = np.mean(scores)  # compute mean cross-validation accuracy\n",
    "        if (\n",
    "            mean_score > best_score\n",
    "        ):  # if we got a better score, store the score and parameters\n",
    "            best_score = mean_score\n",
    "            best_parameters = {\"C\": C, \"gamma\": gamma}\n",
    "        results_dict[\"C\"].append(C)\n",
    "        results_dict[\"gamma\"].append(gamma)\n",
    "        results_dict[\"mean_cv_score\"].append(mean_score)"
   ]
  },
  {
   "cell_type": "code",
   "execution_count": null,
   "metadata": {
    "slideshow": {
     "slide_type": "slide"
    }
   },
   "outputs": [],
   "source": [
    "best_parameters"
   ]
  },
  {
   "cell_type": "code",
   "execution_count": null,
   "metadata": {},
   "outputs": [],
   "source": [
    "best_score"
   ]
  },
  {
   "cell_type": "code",
   "execution_count": null,
   "metadata": {},
   "outputs": [],
   "source": [
    "df = pd.DataFrame(results_dict)"
   ]
  },
  {
   "cell_type": "code",
   "execution_count": null,
   "metadata": {
    "slideshow": {
     "slide_type": "-"
    }
   },
   "outputs": [],
   "source": [
    "df.sort_values(by=\"mean_cv_score\", ascending=False).head(10)"
   ]
  },
  {
   "cell_type": "code",
   "execution_count": null,
   "metadata": {
    "slideshow": {
     "slide_type": "slide"
    }
   },
   "outputs": [],
   "source": [
    "scores = np.array(df.mean_cv_score).reshape(6, 6)\n",
    "\n",
    "# plot the mean cross-validation scores\n",
    "mglearn.tools.heatmap(\n",
    "    scores,\n",
    "    xlabel=\"C\",\n",
    "    xticklabels=param_grid[\"C\"],\n",
    "    ylabel=\"gamma\",\n",
    "    yticklabels=param_grid[\"gamma\"],\n",
    "    cmap=\"viridis\",\n",
    ")"
   ]
  },
  {
   "cell_type": "markdown",
   "metadata": {
    "slideshow": {
     "slide_type": "slide"
    }
   },
   "source": [
    "- We have 6 possible values for `C` and 6 possible values for `gamma`. \n",
    "- In 5-fold cross-validation, for each combination of parameter values, five accuracies are computed.\n",
    "- So to evaluate the accuracy of the SVM using 6 values of `C` and 6 values of `gamma` using five-fold cross-validation, we need to train 36 * 5 = 180 models! "
   ]
  },
  {
   "cell_type": "code",
   "execution_count": null,
   "metadata": {},
   "outputs": [],
   "source": [
    "np.prod(list(map(len, param_grid.values())))"
   ]
  },
  {
   "cell_type": "markdown",
   "metadata": {
    "slideshow": {
     "slide_type": "slide"
    }
   },
   "source": [
    "Once we have optimized hyperparameters, we retrain a model on the full training set with these optimized hyperparameters. "
   ]
  },
  {
   "cell_type": "code",
   "execution_count": null,
   "metadata": {},
   "outputs": [],
   "source": [
    "pipe_svm = make_pipeline(StandardScaler(), SVC(**best_parameters))\n",
    "pipe_svm.fit(\n",
    "    X_train, y_train\n",
    ")  # Retrain a model with optimized hyperparameters on the combined training and validation set"
   ]
  },
  {
   "cell_type": "markdown",
   "metadata": {},
   "source": [
    "And finally evaluate the performance of this model on the test set. "
   ]
  },
  {
   "cell_type": "code",
   "execution_count": null,
   "metadata": {},
   "outputs": [],
   "source": [
    "pipe_svm.score(X_test, y_test)  # Final evaluation on the test data"
   ]
  },
  {
   "cell_type": "markdown",
   "metadata": {
    "slideshow": {
     "slide_type": "slide"
    }
   },
   "source": [
    "This process is so common that there are some standard methods in `scikit-learn` where we can carry out all of this in a more compact way. "
   ]
  },
  {
   "cell_type": "code",
   "execution_count": null,
   "metadata": {},
   "outputs": [],
   "source": [
    "mglearn.plots.plot_grid_search_overview()"
   ]
  },
  {
   "cell_type": "markdown",
   "metadata": {
    "slideshow": {
     "slide_type": "slide"
    }
   },
   "source": [
    "In this lecture we are going to talk about two such most commonly used automated optimizations methods from `scikit-learn`. \n",
    "\n",
    "- Exhaustive grid search: [`sklearn.model_selection.GridSearchCV`](http://scikit-learn.org/stable/modules/generated/sklearn.model_selection.GridSearchCV.html)\n",
    "- Randomized search: [`sklearn.model_selection.RandomizedSearchCV`](https://scikit-learn.org/stable/modules/generated/sklearn.model_selection.RandomizedSearchCV.html)\n",
    "\n",
    "The \"CV\" stands for cross-validation; these methods have built-in cross-validation."
   ]
  },
  {
   "cell_type": "markdown",
   "metadata": {
    "slideshow": {
     "slide_type": "skip"
    }
   },
   "source": [
    "<br><br><br><br>"
   ]
  },
  {
   "cell_type": "markdown",
   "metadata": {
    "slideshow": {
     "slide_type": "slide"
    }
   },
   "source": [
    "## Exhaustive grid search: [`sklearn.model_selection.GridSearchCV`](http://scikit-learn.org/stable/modules/generated/sklearn.model_selection.GridSearchCV.html)"
   ]
  },
  {
   "cell_type": "markdown",
   "metadata": {
    "slideshow": {
     "slide_type": "slide"
    }
   },
   "source": [
    "- For `GridSearchCV` we need\n",
    "    - an instantiated model or a pipeline\n",
    "    - a parameter grid: A user specifies a set of values for each hyperparameter. \n",
    "    - other optional arguments \n",
    "\n",
    "The method considers product of the sets and then evaluates each combination one by one.    "
   ]
  },
  {
   "cell_type": "code",
   "execution_count": null,
   "metadata": {
    "slideshow": {
     "slide_type": "slide"
    }
   },
   "outputs": [],
   "source": [
    "from sklearn.model_selection import GridSearchCV\n",
    "\n",
    "pipe_svm = make_pipeline(StandardScaler(), SVC())\n",
    "\n",
    "param_grid = {\n",
    "    \"svc__gamma\": [0.001, 0.01, 0.1, 1.0, 10, 100],\n",
    "    \"svc__C\": [0.001, 0.01, 0.1, 1.0, 10, 100],\n",
    "}\n",
    "\n",
    "grid_search = GridSearchCV(\n",
    "    pipe_svm, param_grid, cv=5, n_jobs=-1, return_train_score=True\n",
    ")"
   ]
  },
  {
   "cell_type": "code",
   "execution_count": null,
   "metadata": {
    "slideshow": {
     "slide_type": "slide"
    }
   },
   "outputs": [],
   "source": [
    "from sklearn import set_config\n",
    "\n",
    "set_config(display=\"diagram\")"
   ]
  },
  {
   "cell_type": "markdown",
   "metadata": {
    "slideshow": {
     "slide_type": "-"
    }
   },
   "source": [
    "The `GridSearchCV` object above behaves like a classifier. We can call `fit`, `predict` or `score` on it. "
   ]
  },
  {
   "cell_type": "code",
   "execution_count": null,
   "metadata": {
    "slideshow": {
     "slide_type": "-"
    }
   },
   "outputs": [],
   "source": [
    "grid_search.fit(X_train, y_train) # all the work is done here\n",
    "grid_search"
   ]
  },
  {
   "cell_type": "markdown",
   "metadata": {
    "slideshow": {
     "slide_type": "slide"
    }
   },
   "source": [
    "Fitting the `GridSearchCV` object \n",
    "- Searches for the best hyperparameter values\n",
    "- You can access the best score and the best hyperparameters using `best_score_` and `best_params_` attributes, respectively. "
   ]
  },
  {
   "cell_type": "code",
   "execution_count": null,
   "metadata": {
    "slideshow": {
     "slide_type": "-"
    }
   },
   "outputs": [],
   "source": [
    "grid_search.best_score_"
   ]
  },
  {
   "cell_type": "code",
   "execution_count": null,
   "metadata": {
    "slideshow": {
     "slide_type": "-"
    }
   },
   "outputs": [],
   "source": [
    "grid_search.best_params_"
   ]
  },
  {
   "cell_type": "markdown",
   "metadata": {
    "slideshow": {
     "slide_type": "slide"
    }
   },
   "source": [
    "- It is often helpful to visualize results of all cross-validation experiments. \n",
    "- You can access this information using `cv_results_` attribute of a fitted `GridSearchCV` object.  "
   ]
  },
  {
   "cell_type": "code",
   "execution_count": null,
   "metadata": {},
   "outputs": [],
   "source": [
    "results = pd.DataFrame(grid_search.cv_results_)\n",
    "results.T"
   ]
  },
  {
   "cell_type": "code",
   "execution_count": null,
   "metadata": {
    "scrolled": true,
    "slideshow": {
     "slide_type": "slide"
    }
   },
   "outputs": [],
   "source": [
    "results = (\n",
    "    pd.DataFrame(grid_search.cv_results_).set_index(\"rank_test_score\").sort_index()\n",
    ")\n",
    "results.T"
   ]
  },
  {
   "cell_type": "markdown",
   "metadata": {
    "slideshow": {
     "slide_type": "slide"
    }
   },
   "source": [
    "Let's only look at the most relevant rows. "
   ]
  },
  {
   "cell_type": "code",
   "execution_count": null,
   "metadata": {},
   "outputs": [],
   "source": [
    "pd.DataFrame(grid_search.cv_results_)[\n",
    "    [\n",
    "        \"mean_test_score\",\n",
    "        \"param_svc__gamma\",\n",
    "        \"param_svc__C\",\n",
    "        \"mean_fit_time\",\n",
    "        \"rank_test_score\",\n",
    "    ]\n",
    "].set_index(\"rank_test_score\").sort_index().T"
   ]
  },
  {
   "cell_type": "markdown",
   "metadata": {
    "slideshow": {
     "slide_type": "slide"
    }
   },
   "source": [
    "- Other than searching for best hyperparameter values, `GridSearchCV` also fits a new model on the whole training set with the parameters that yielded the best results. \n",
    "- So we can conveniently call `score` on the test set with a fitted `GridSearchCV` object. "
   ]
  },
  {
   "cell_type": "code",
   "execution_count": null,
   "metadata": {},
   "outputs": [],
   "source": [
    "grid_search.score(X_test, y_test)"
   ]
  },
  {
   "cell_type": "markdown",
   "metadata": {},
   "source": [
    "Why `best_score_` and the score above are different? "
   ]
  },
  {
   "cell_type": "markdown",
   "metadata": {
    "slideshow": {
     "slide_type": "slide"
    }
   },
   "source": [
    "### `n_jobs=-1`\n",
    "- Note the `n_jobs=-1` above.\n",
    "- Hyperparameter optimization can be done _in parallel_ for each of the configurations.\n",
    "- This is very useful when scaling up to large numbers of machines in the cloud."
   ]
  },
  {
   "cell_type": "markdown",
   "metadata": {
    "slideshow": {
     "slide_type": "skip"
    }
   },
   "source": [
    "### The `__` syntax \n",
    "\n",
    "- Above: we have a nesting of transformers.\n",
    "- We can access the parameters of the \"inner\" objects by using __ to go \"deeper\":\n",
    "- `svc__gamma`: the `gamma` of the `svc` of the pipeline\n",
    "- `svc__C`: the `C` of the `svc` of the pipeline"
   ]
  },
  {
   "cell_type": "code",
   "execution_count": null,
   "metadata": {
    "slideshow": {
     "slide_type": "skip"
    }
   },
   "outputs": [],
   "source": [
    "from sklearn.model_selection import GridSearchCV\n",
    "\n",
    "pipe_svm = make_pipeline(StandardScaler(), SVC(**best_parameters))\n",
    "\n",
    "param_grid = {\n",
    "    \"svc__gamma\": [0.001, 0.01, 0.1, 1.0, 10, 100],\n",
    "    \"svc__C\": [0.001, 0.01, 0.1, 1.0, 10, 100],\n",
    "}\n",
    "\n",
    "grid_search = GridSearchCV(\n",
    "    pipe_svm, param_grid, cv=5, n_jobs=-1, return_train_score=True\n",
    ")\n"
   ]
  },
  {
   "cell_type": "code",
   "execution_count": null,
   "metadata": {
    "slideshow": {
     "slide_type": "skip"
    }
   },
   "outputs": [],
   "source": [
    "grid_search.fit(X_train, y_train)"
   ]
  },
  {
   "cell_type": "markdown",
   "metadata": {
    "slideshow": {
     "slide_type": "slide"
    }
   },
   "source": [
    "### Visualizing the parameter grid as a heatmap "
   ]
  },
  {
   "cell_type": "code",
   "execution_count": null,
   "metadata": {},
   "outputs": [],
   "source": [
    "param_grid"
   ]
  },
  {
   "cell_type": "code",
   "execution_count": null,
   "metadata": {},
   "outputs": [],
   "source": [
    "results = pd.DataFrame(grid_search.cv_results_)\n",
    "\n",
    "scores = np.array(results.mean_test_score).reshape(6, 6)\n",
    "\n",
    "# plot the mean cross-validation scores\n",
    "mglearn.tools.heatmap(\n",
    "    scores,\n",
    "    xlabel=\"gamma\",\n",
    "    xticklabels=param_grid[\"svc__gamma\"],\n",
    "    ylabel=\"C\",\n",
    "    yticklabels=param_grid[\"svc__C\"],\n",
    "    cmap=\"viridis\",\n",
    ");"
   ]
  },
  {
   "cell_type": "markdown",
   "metadata": {
    "slideshow": {
     "slide_type": "slide"
    }
   },
   "source": [
    "- Each point in the heat map corresponds to one run of cross-validation, with a particular setting\n",
    "- Colour encodes cross-validation accuracy. \n",
    "    - Lighter colour means high accuracy\n",
    "    - Darker colour means low accuracy\n",
    "- SVC is quite sensitive to hyperparameter settings.\n",
    "- Adjusting hyperparameters can change the accuracy from 0.51 to 0.74! "
   ]
  },
  {
   "cell_type": "markdown",
   "metadata": {
    "slideshow": {
     "slide_type": "slide"
    }
   },
   "source": [
    "- Note that the range we pick for the parameters play an important role in hyperparameter optimization. \n",
    "- For example, consider the following grid and the corresponding results.  "
   ]
  },
  {
   "cell_type": "code",
   "execution_count": null,
   "metadata": {},
   "outputs": [],
   "source": [
    "def display_heatmap(param_grid, pipe, X_train, y_train):\n",
    "    grid_search = GridSearchCV(\n",
    "        pipe, param_grid, cv=5, n_jobs=-1, return_train_score=True\n",
    "    )\n",
    "    grid_search.fit(X_train, y_train)\n",
    "    results = pd.DataFrame(grid_search.cv_results_)\n",
    "    scores = np.array(results.mean_test_score).reshape(6, 6)\n",
    "\n",
    "    # plot the mean cross-validation scores\n",
    "    mglearn.tools.heatmap(\n",
    "        scores,\n",
    "        xlabel=\"gamma\",\n",
    "        xticklabels=param_grid[\"svc__gamma\"],\n",
    "        ylabel=\"C\",\n",
    "        yticklabels=param_grid[\"svc__C\"],\n",
    "        cmap=\"viridis\",\n",
    "    );"
   ]
  },
  {
   "cell_type": "markdown",
   "metadata": {
    "slideshow": {
     "slide_type": "slide"
    }
   },
   "source": [
    "### Bad range for hyperparameters "
   ]
  },
  {
   "cell_type": "code",
   "execution_count": null,
   "metadata": {},
   "outputs": [],
   "source": [
    "param_grid2 = {\"svc__gamma\": np.logspace(1, 2, 6), \"svc__C\": np.linspace(1, 2, 6)}\n",
    "display_heatmap(param_grid2, pipe_svm, X_train, y_train)\n",
    "np.logspace(1, 2, 6)"
   ]
  },
  {
   "cell_type": "markdown",
   "metadata": {
    "slideshow": {
     "slide_type": "slide"
    }
   },
   "source": [
    "### Different range for hyperparameters yields better results! "
   ]
  },
  {
   "cell_type": "code",
   "execution_count": null,
   "metadata": {},
   "outputs": [],
   "source": [
    "param_grid3 = {\"svc__gamma\": np.logspace(-3, 2, 6), \"svc__C\": np.linspace(1, 2, 6)}\n",
    "\n",
    "display_heatmap(param_grid3, pipe_svm, X_train, y_train)"
   ]
  },
  {
   "cell_type": "markdown",
   "metadata": {
    "slideshow": {
     "slide_type": "slide"
    }
   },
   "source": [
    "It seems like we are getting even better cross-validation results with `C` = 2.0 and `gamma` = 0.1 \n",
    "\n",
    "How about exploring different values of `C` close to 2.0? "
   ]
  },
  {
   "cell_type": "code",
   "execution_count": null,
   "metadata": {},
   "outputs": [],
   "source": [
    "param_grid4 = {\"svc__gamma\": np.logspace(-3, 2, 6), \"svc__C\": np.linspace(2, 3, 6)}\n",
    "\n",
    "display_heatmap(param_grid4, pipe_svm, X_train, y_train)"
   ]
  },
  {
   "cell_type": "markdown",
   "metadata": {
    "slideshow": {
     "slide_type": "slide"
    }
   },
   "source": [
    "That's good! We are finding some more options for `C` where the accuracy is 0.75. \n",
    "The tricky part is we do not know in advance what range of hyperparameters might work the best for the given problem, model, and the dataset.    "
   ]
  },
  {
   "cell_type": "markdown",
   "metadata": {
    "slideshow": {
     "slide_type": "slide"
    }
   },
   "source": [
    "### True/False \n",
    "\n",
    "- If you get optimal results at the edges of your parameter grid, it might be a good idea to adjust the range of values in your parameter grid.   \n",
    "- Grid search is guaranteed to find best hyperparameters values. "
   ]
  },
  {
   "cell_type": "markdown",
   "metadata": {
    "slideshow": {
     "slide_type": "slide"
    }
   },
   "source": [
    "***\n",
    "`GridSearchCV` allows the param_grid to be a list of dictionaries. Sometimes some hyperparameters are applicable only for certain models. \n",
    "For example, in the context of `SVC`, `C` and `gamma` are applicable when the kernel is `rbf` whereas only `C` is applicable for `kernel=\"linear\"`.    \n",
    "***"
   ]
  },
  {
   "cell_type": "markdown",
   "metadata": {
    "slideshow": {
     "slide_type": "slide"
    }
   },
   "source": [
    "### Problems with exhaustive grid search \n",
    "\n",
    "- Required number of models to evaluate grows exponentially with the dimensionally of the configuration space. \n",
    "- Example: Suppose you have\n",
    "    - 5 hyperparameters \n",
    "    - 10 different values for each hyperparameter\n",
    "    - You'll be evaluating $10^5=100,000$ models! That is you'll be calling `cross_validate` 100,000 times!\n",
    "- Exhaustive search may become infeasible fairly quickly. \n",
    "- Other options? "
   ]
  },
  {
   "cell_type": "markdown",
   "metadata": {
    "slideshow": {
     "slide_type": "skip"
    }
   },
   "source": [
    "<br><br><br><br>"
   ]
  },
  {
   "cell_type": "markdown",
   "metadata": {
    "slideshow": {
     "slide_type": "slide"
    }
   },
   "source": [
    "## Randomized hyperparameter search\n",
    "\n",
    "- Randomized hyperparameter optimization \n",
    "    - [`sklearn.model_selection.RandomizedSearchCV`](https://scikit-learn.org/stable/modules/generated/sklearn.model_selection.RandomizedSearchCV.html)\n",
    "- Samples configurations at random until certain budget (e.g., time) is exhausted "
   ]
  },
  {
   "cell_type": "code",
   "execution_count": null,
   "metadata": {
    "slideshow": {
     "slide_type": "slide"
    }
   },
   "outputs": [],
   "source": [
    "from sklearn.model_selection import RandomizedSearchCV\n",
    "\n",
    "\n",
    "param_grid = {\n",
    "    \"svc__gamma\": [0.001, 0.01, 0.1, 1.0, 10, 100],\n",
    "    \"svc__C\": [0.001, 0.01, 0.1, 1.0, 10, 100],\n",
    "}\n",
    "\n",
    "print(\"Grid size: %d\" % (np.prod(list(map(len, param_grid.values())))))\n",
    "param_grid"
   ]
  },
  {
   "cell_type": "code",
   "execution_count": null,
   "metadata": {},
   "outputs": [],
   "source": [
    "random_search = RandomizedSearchCV(\n",
    "    pipe_svm, param_distributions=param_grid, n_jobs=-1, n_iter=10, cv=5, random_state=123\n",
    ")\n",
    "random_search.fit(X_train, y_train);"
   ]
  },
  {
   "cell_type": "code",
   "execution_count": null,
   "metadata": {
    "slideshow": {
     "slide_type": "slide"
    }
   },
   "outputs": [],
   "source": [
    "pd.DataFrame(random_search.cv_results_)[\n",
    "    [\n",
    "        \"mean_test_score\",\n",
    "        \"param_svc__gamma\",\n",
    "        \"param_svc__C\",\n",
    "        \"mean_fit_time\",\n",
    "        \"rank_test_score\",\n",
    "    ]\n",
    "].set_index(\"rank_test_score\").sort_index().T"
   ]
  },
  {
   "cell_type": "markdown",
   "metadata": {
    "slideshow": {
     "slide_type": "slide"
    }
   },
   "source": [
    "### `n_iter`\n",
    "\n",
    "- Note the `n_iter`, we didn't need this for `GridSearchCV`.\n",
    "- Larger `n_iter` will take longer but it'll do more searching.\n",
    "  - Remember you still need to multiply by number of folds!\n",
    "- I have also set `random_state` but you don't have to do it."
   ]
  },
  {
   "cell_type": "markdown",
   "metadata": {
    "slideshow": {
     "slide_type": "skip"
    }
   },
   "source": [
    "### Range of `C`\n",
    "\n",
    "- Note the exponential range for `C`. This is quite common.\n",
    "- There is no point trying $C=\\{1,2,3\\ldots,100\\}$ because $C=1,2,3$ are too similar to each other.\n",
    "- Often we're trying to find an order of magnitude, e.g. $C=\\{0.01,0.1,1,10,100\\}$. \n",
    "- We can also write that as $C=\\{10^{-2},10^{-1},10^0,10^1,10^2\\}$. \n",
    "- Or, in other words, $C$ values to try are $10^n$ for $n=-2,-1,0,1,2$ which is basically what we have above."
   ]
  },
  {
   "cell_type": "markdown",
   "metadata": {
    "slideshow": {
     "slide_type": "slide"
    }
   },
   "source": [
    "(Optional) Another thing we can do is give probability distributions to draw from:"
   ]
  },
  {
   "cell_type": "code",
   "execution_count": null,
   "metadata": {},
   "outputs": [],
   "source": [
    "from scipy.stats import expon, lognorm, loguniform, randint, uniform"
   ]
  },
  {
   "cell_type": "code",
   "execution_count": null,
   "metadata": {},
   "outputs": [],
   "source": [
    "param_dist = {\n",
    "    \"svc__C\": uniform(0.1, 1e4),  # loguniform(1e-3, 1e3),\n",
    "    \"svc__gamma\": loguniform(1e-5, 1e3),\n",
    "}"
   ]
  },
  {
   "cell_type": "code",
   "execution_count": null,
   "metadata": {
    "slideshow": {
     "slide_type": "slide"
    }
   },
   "outputs": [],
   "source": [
    "random_search = RandomizedSearchCV(\n",
    "    pipe_svm, param_dist, n_iter=100, verbose=1, n_jobs=-1, random_state=123\n",
    ")"
   ]
  },
  {
   "cell_type": "code",
   "execution_count": null,
   "metadata": {
    "slideshow": {
     "slide_type": "slide"
    }
   },
   "outputs": [],
   "source": [
    "random_search.fit(X_train, y_train)"
   ]
  },
  {
   "cell_type": "code",
   "execution_count": null,
   "metadata": {
    "slideshow": {
     "slide_type": "-"
    }
   },
   "outputs": [],
   "source": [
    "random_search.best_score_"
   ]
  },
  {
   "cell_type": "code",
   "execution_count": null,
   "metadata": {
    "slideshow": {
     "slide_type": "slide"
    }
   },
   "outputs": [],
   "source": [
    "pd.DataFrame(random_search.cv_results_)[\n",
    "    [\n",
    "        \"mean_test_score\",\n",
    "        \"param_svc__gamma\",\n",
    "        \"param_svc__C\",\n",
    "        \"mean_fit_time\",\n",
    "        \"rank_test_score\",\n",
    "    ]\n",
    "].set_index(\"rank_test_score\").sort_index().T"
   ]
  },
  {
   "cell_type": "markdown",
   "metadata": {
    "slideshow": {
     "slide_type": "slide"
    }
   },
   "source": [
    "- This is a bit fancy. What's nice is that you can have it concentrate more on certain values by setting the distribution. "
   ]
  },
  {
   "cell_type": "markdown",
   "metadata": {
    "slideshow": {
     "slide_type": "slide"
    }
   },
   "source": [
    "\n",
    "### Advantages of `RandomizedSearchCV`\n",
    "\n",
    "- Faster compared to `GridSearchCV`.\n",
    "- Adding parameters that do not influence the performance does not affect efficiency.\n",
    "- Works better when some parameters are more important than others. \n",
    "- In general, I recommend using `RandomizedSearchCV` rather than `GridSearchCV`.    "
   ]
  },
  {
   "cell_type": "markdown",
   "metadata": {
    "slideshow": {
     "slide_type": "slide"
    }
   },
   "source": [
    "### Advantages of `RandomizedSearchCV`\n",
    "\n",
    "![](../img/randomsearch_bergstra.png)\n",
    "    \n",
    "Source: [Bergstra and Bengio, Random Search for Hyper-Parameter Optimization, JMLR 2012](http://www.jmlr.org/papers/volume13/bergstra12a/bergstra12a.pdf)."
   ]
  },
  {
   "cell_type": "markdown",
   "metadata": {
    "slideshow": {
     "slide_type": "slide"
    }
   },
   "source": [
    "- The yellow on the left shows how your scores are going to change when you vary the unimportant hyperparameter.\n",
    "- The green on the top shows how your scores are  going to change when you vary the important hyperparameter.\n",
    "- You don't know in advance which hyperparameters are important for your problem.\n",
    "- In the left figure, 6 of the 9 searches are useless because they are only varying the unimportant parameter.\n",
    "- In the right figure, all 9 searches are useful."
   ]
  },
  {
   "cell_type": "markdown",
   "metadata": {
    "slideshow": {
     "slide_type": "slide"
    }
   },
   "source": [
    "## Fancier methods (optional)\n",
    "- Both `GridSearchCV` and `RandomizedSearchCV` do each trial independently.\n",
    "- What if you could learn from your experience, e.g. learn that `max_depth=3` is bad?\n",
    "  - That could save time because you wouldn't try combinations involving `max_depth=3` in the future.\n",
    "- We can do this with `scikit-optimize`, which is a completely different package from `scikit-learn`\n",
    "- It uses a technique called \"model-based optimization\" and we'll specifically use \"Bayesian optimization\".\n",
    "  - In short, it uses machine learning to predict what hyperparameters will be good.\n",
    "  - Machine learning on machine learning!"
   ]
  },
  {
   "cell_type": "markdown",
   "metadata": {
    "slideshow": {
     "slide_type": "slide"
    }
   },
   "source": [
    "- This is an active research area of research, and there are sophisticated packages for this.\n",
    "\n",
    "Here are some examples \n",
    "- [hyperopt-sklearn](https://github.com/hyperopt/hyperopt-sklearn)\n",
    "- [auto-sklearn](https://github.com/automl/auto-sklearn)\n",
    "- [SigOptSearchCV](https://sigopt.com/docs/overview/scikit_learn)\n",
    "- [TPOT](https://github.com/rhiever/tpot)\n",
    "- [hyperopt](https://github.com/hyperopt/hyperopt)\n",
    "- [hyperband](https://github.com/zygmuntz/hyperband)\n",
    "- [SMAC](http://www.cs.ubc.ca/labs/beta/Projects/SMAC/)\n",
    "- [MOE](https://github.com/Yelp/MOE)\n",
    "- [pybo](https://github.com/mwhoffman/pybo)\n",
    "- [spearmint](https://github.com/HIPS/Spearmint)\n",
    "- [BayesOpt](https://github.com/rmcantin/bayesopt)"
   ]
  },
  {
   "cell_type": "code",
   "execution_count": null,
   "metadata": {
    "slideshow": {
     "slide_type": "skip"
    }
   },
   "outputs": [],
   "source": []
  },
  {
   "cell_type": "markdown",
   "metadata": {
    "slideshow": {
     "slide_type": "slide"
    }
   },
   "source": [
    "### Questions for class discussion (hyperparameter optimization)\n",
    "\n",
    "- Suppose you have 10 hyperparameters, each with 4 possible values. If you run `GridSearchCV` with this parameter grid, how many cross-validation experiments would it carry out? \n",
    "- `GridSearchCV` exhaustively searches the grid and so it's guaranteed to give you the optimal hyperparameters for the given problem. True or false?\n",
    "- Is it possible to get different hyperparameters in different runs of `RandomizedSearchCV`?\n",
    "- Suppose you have 10 hyperparameters and each takes 4 values. If you run `RandomizedSearchCV` with this parameter grid, how many cross-validation experiments it would carry out? \n"
   ]
  },
  {
   "cell_type": "markdown",
   "metadata": {},
   "source": [
    "<br><br><br><br>"
   ]
  },
  {
   "cell_type": "markdown",
   "metadata": {
    "slideshow": {
     "slide_type": "slide"
    }
   },
   "source": [
    "## Optimization bias/Overfitting of the validation set"
   ]
  },
  {
   "cell_type": "markdown",
   "metadata": {
    "slideshow": {
     "slide_type": "slide"
    }
   },
   "source": [
    "### Overfitting of the validation error \n",
    "\n",
    "- Why do we need to evaluate the model on the test set in the end?\n",
    "- Why not just use cross-validation on the whole dataset? \n",
    "- While carrying out hyperparameter optimization, we usually try over many possibilities.  \n",
    "- If our dataset is small and if your validation set is hit too many times, we suffer from **optimization bias** or **overfitting the validation set**. "
   ]
  },
  {
   "cell_type": "markdown",
   "metadata": {
    "slideshow": {
     "slide_type": "slide"
    }
   },
   "source": [
    "### Optimization bias of parameter learning\n",
    "- Overfitting of the training error\n",
    "- An example: \n",
    "    - During training, we could search over tons of different decision trees.\n",
    "    - So we can get \"lucky\" and find one with low training error by chance.\n",
    "\n",
    "    "
   ]
  },
  {
   "cell_type": "markdown",
   "metadata": {
    "slideshow": {
     "slide_type": "slide"
    }
   },
   "source": [
    "### Optimization bias of hyper-parameter learning\n",
    "\n",
    "- Overfitting of the validation error\n",
    "- An example: \n",
    "    - Here, we might optimize the validation error over 1000 values of `max_depth`.\n",
    "    - One of the 1000 trees might have low validation error by chance."
   ]
  },
  {
   "cell_type": "markdown",
   "metadata": {
    "slideshow": {
     "slide_type": "skip"
    }
   },
   "source": [
    "### Example 1: Optimization bias (optional)\n",
    "\n",
    "Consider a multiple-choice (a,b,c,d) \"test\" with 10 questions:\n",
    "- If you choose answers randomly, expected grade is 25% (no bias).\n",
    "- If you fill out two tests randomly and pick the best, expected grade is 33%.\n",
    "    - Optimization bias of ~8%.\n",
    "- If you take the best among 10 random tests, expected grade is ~47%.\n",
    "- If you take the best among 100, expected grade is ~62%.\n",
    "- If you take the best among 1000, expected grade is ~73%.\n",
    "- If you take the best among 10000, expected grade is ~82%.\n",
    "    - You have so many \"chances\" that you expect to do well.\n",
    "    \n",
    "**But on new questions the \"random choice\" accuracy is still 25%.**"
   ]
  },
  {
   "cell_type": "code",
   "execution_count": null,
   "metadata": {
    "slideshow": {
     "slide_type": "skip"
    }
   },
   "outputs": [],
   "source": [
    "# (optional) Code attribution: Rodolfo Lourenzutti\n",
    "number_tests = [1, 2, 10, 100, 1000, 10000]\n",
    "for ntests in number_tests:\n",
    "    y = np.zeros(10000)\n",
    "    for i in range(10000):\n",
    "        y[i] = np.max(np.random.binomial(10.0, 0.25, ntests))\n",
    "    print(\n",
    "        \"The expected grade among the best of %d tests is : %0.2f\"\n",
    "        % (ntests, np.mean(y) / 10.0)\n",
    "    )"
   ]
  },
  {
   "cell_type": "markdown",
   "metadata": {
    "slideshow": {
     "slide_type": "skip"
    }
   },
   "source": [
    "### Example 2: Optimization bias (optional)\n",
    "\n",
    "- If we instead used a 100-question test then:\n",
    "    - Expected grade from best over 1 randomly-filled test is 25%.\n",
    "    - Expected grade from best over 2 randomly-filled test is ~27%.\n",
    "    - Expected grade from best over 10 randomly-filled test is ~32%.\n",
    "    - Expected grade from best over 100 randomly-filled test is ~36%.\n",
    "    - Expected grade from best over 1000 randomly-filled test is ~40%.\n",
    "    - Expected grade from best over 10000 randomly-filled test is ~43%.\n",
    "\n",
    "- The optimization bias **grows with the number of things we try**.\n",
    "    - “Complexity” of the set of models we search over.\n",
    "- But, optimization bias **shrinks quickly with the number of examples**.\n",
    "    - But it’s still non-zero and growing if you over-use your validation set!    "
   ]
  },
  {
   "cell_type": "code",
   "execution_count": null,
   "metadata": {
    "slideshow": {
     "slide_type": "skip"
    }
   },
   "outputs": [],
   "source": [
    "# (optional) Code attribution: Rodolfo Lourenzutti\n",
    "number_tests = [1, 2, 10, 100, 1000, 10000]\n",
    "for ntests in number_tests:\n",
    "    y = np.zeros(10000)\n",
    "    for i in range(10000):\n",
    "        y[i] = np.max(np.random.binomial(100.0, 0.25, ntests))\n",
    "    print(\n",
    "        \"The expected grade among the best of %d tests is : %0.2f\"\n",
    "        % (ntests, np.mean(y) / 100.0)\n",
    "    )"
   ]
  },
  {
   "cell_type": "markdown",
   "metadata": {
    "slideshow": {
     "slide_type": "slide"
    }
   },
   "source": [
    "### Optimization bias on the Spotify dataset"
   ]
  },
  {
   "cell_type": "code",
   "execution_count": null,
   "metadata": {},
   "outputs": [],
   "source": [
    "X_train_tiny, X_test_big, y_train_tiny, y_test_big = train_test_split(\n",
    "    X_spotify, y_spotify, test_size=0.99, random_state=42\n",
    ")"
   ]
  },
  {
   "cell_type": "code",
   "execution_count": null,
   "metadata": {},
   "outputs": [],
   "source": [
    "X_train_tiny.shape"
   ]
  },
  {
   "cell_type": "code",
   "execution_count": null,
   "metadata": {},
   "outputs": [],
   "source": [
    "X_train_tiny.head()"
   ]
  },
  {
   "cell_type": "code",
   "execution_count": null,
   "metadata": {},
   "outputs": [],
   "source": [
    "pipe = make_pipeline(StandardScaler(), SVC())"
   ]
  },
  {
   "cell_type": "code",
   "execution_count": null,
   "metadata": {
    "slideshow": {
     "slide_type": "slide"
    }
   },
   "outputs": [],
   "source": [
    "from sklearn.model_selection import RandomizedSearchCV\n",
    "\n",
    "param_grid = {\n",
    "    \"svc__gamma\": 10.0 ** np.arange(-20, 10),\n",
    "    \"svc__C\": 10.0 ** np.arange(-20, 10),\n",
    "}\n",
    "print(\"Grid size: %d\" % (np.prod(list(map(len, param_grid.values())))))\n",
    "param_grid"
   ]
  },
  {
   "cell_type": "code",
   "execution_count": null,
   "metadata": {},
   "outputs": [],
   "source": [
    "random_search = RandomizedSearchCV(\n",
    "    pipe, param_distributions=param_grid, n_jobs=-1, n_iter=900, cv=5, random_state=123\n",
    ")\n",
    "random_search.fit(X_train_tiny, y_train_tiny);"
   ]
  },
  {
   "cell_type": "code",
   "execution_count": null,
   "metadata": {
    "slideshow": {
     "slide_type": "slide"
    }
   },
   "outputs": [],
   "source": [
    "pd.DataFrame(random_search.cv_results_)[\n",
    "    [\n",
    "        \"mean_test_score\",\n",
    "        \"param_svc__gamma\",\n",
    "        \"param_svc__C\",\n",
    "        \"mean_fit_time\",\n",
    "        \"rank_test_score\",\n",
    "    ]\n",
    "].set_index(\"rank_test_score\").sort_index().T"
   ]
  },
  {
   "cell_type": "markdown",
   "metadata": {},
   "source": [
    "Given the results: one might claim that we found a model that performs with 0.8 accuracy on our dataset. "
   ]
  },
  {
   "cell_type": "markdown",
   "metadata": {
    "slideshow": {
     "slide_type": "slide"
    }
   },
   "source": [
    "- Do we really believe that 0.80 is a good estimate of our test data?\n",
    "- Do we really believe that `gamma`=0.0 and C=1_000_000_000 are the best hyperparameters? "
   ]
  },
  {
   "cell_type": "markdown",
   "metadata": {
    "slideshow": {
     "slide_type": "slide"
    }
   },
   "source": [
    "- Let's find out the test score with this best model. "
   ]
  },
  {
   "cell_type": "code",
   "execution_count": null,
   "metadata": {
    "slideshow": {
     "slide_type": "-"
    }
   },
   "outputs": [],
   "source": [
    "random_search.score(X_test, y_test)"
   ]
  },
  {
   "cell_type": "markdown",
   "metadata": {
    "slideshow": {
     "slide_type": "slide"
    }
   },
   "source": [
    "- The results above are overly optimistic. \n",
    "    - because in each fold our training data is very small, and our validation data even smaller, \n",
    "    - and the fact that we `try` 900 times with different complexities of models,\n",
    "    - it is possible to get lucky on the validation folds! "
   ]
  },
  {
   "cell_type": "markdown",
   "metadata": {
    "slideshow": {
     "slide_type": "slide"
    }
   },
   "source": [
    "- As we suspected, the best cross-validation score is not a good estimate of our test data; it is overly optimistic. \n",
    "- We can trust this test score because the test set is of good size."
   ]
  },
  {
   "cell_type": "code",
   "execution_count": null,
   "metadata": {},
   "outputs": [],
   "source": [
    "X_test_big.shape"
   ]
  },
  {
   "cell_type": "markdown",
   "metadata": {
    "slideshow": {
     "slide_type": "slide"
    }
   },
   "source": [
    "### Overfitting of the validation data\n",
    "\n",
    "The following plot demonstrates what happens during overfitting of the validation data.  \n",
    "<center>\n",
    "<img src='../img/optimization-bias.png' width=\"600\">\n",
    "</center>\n",
    "\n",
    "\n",
    "[Source](https://amueller.github.io/COMS4995-s20/slides/aml-03-supervised-learning/#20)"
   ]
  },
  {
   "cell_type": "markdown",
   "metadata": {
    "slideshow": {
     "slide_type": "slide"
    }
   },
   "source": [
    "- Thus, not only can we not trust the cv scores, we also cannot trust cv's ability to choose of the best hyperparameters. \n"
   ]
  },
  {
   "cell_type": "markdown",
   "metadata": {
    "slideshow": {
     "slide_type": "slide"
    }
   },
   "source": [
    "### Why do we need a test set? \n",
    "- This is why we need a test set.\n",
    "- The frustrating part is that if our dataset is small, so is our test set 😔. \n",
    "- Unfortunately, we don't have much better alternatives when we have a small dataset. "
   ]
  },
  {
   "cell_type": "markdown",
   "metadata": {
    "slideshow": {
     "slide_type": "slide"
    }
   },
   "source": [
    "### When test score is much lower than CV score\n",
    "- What to do if your test score is much lower than your cross-validation score:\n",
    "    - Try simpler models and use the test set a couple of times; it's not the end of the world.\n",
    "    - Communicate this clearly when you report the results. "
   ]
  },
  {
   "cell_type": "markdown",
   "metadata": {
    "slideshow": {
     "slide_type": "slide"
    }
   },
   "source": [
    "### Large datasets solve many of these problems\n",
    "- With infinite amounts of training data, overfitting would not be a problem and you could have your test score = your train score.\n",
    "    - Overfitting happens because you only see a bit of data and you learn patterns that are overly specific to your sample.\n",
    "    - If you saw \"all\" the data, then the notion of \"overly specific\" would not apply.\n",
    "- So, more data will make your test score better and more robust. "
   ]
  },
  {
   "cell_type": "markdown",
   "metadata": {
    "slideshow": {
     "slide_type": "slide"
    }
   },
   "source": [
    "### ❓❓ Questions for you"
   ]
  },
  {
   "cell_type": "markdown",
   "metadata": {
    "slideshow": {
     "slide_type": "slide"
    }
   },
   "source": [
    "### Would you trust the model?  \n",
    "\n",
    "- You have a dataset and you give me half of it. I build a model using all the data you have given me and I tell you that the model accuracy is 0.99. Would it classify the rest of the data with similar accuracy? \n",
    "\n",
    "1. Probably \n",
    "2. Probably not "
   ]
  },
  {
   "cell_type": "markdown",
   "metadata": {
    "slideshow": {
     "slide_type": "slide"
    }
   },
   "source": [
    "### Would you trust the model?  \n",
    "\n",
    "- You have a dataset and you give me half of it. I build a model using 80% of the data given to me and report the accuracy of 0.95 on the remaining 20% of the data. Would it classify the rest of the data with similar accuracy? \n",
    "\n",
    "1. Probably \n",
    "2. Probably not "
   ]
  },
  {
   "cell_type": "markdown",
   "metadata": {
    "slideshow": {
     "slide_type": "slide"
    }
   },
   "source": [
    "### Would you trust the model?  \n",
    "\n",
    "- You have a dataset and you give me 1/10th of it. The dataset given to me is rather small and so I split it into 96% train and 4% validation split. I carry out hyperparameter optimization using a single 4% validation split and report validation accuracy of 0.97. Would it classify the rest of the data with similar accuracy? \n",
    "\n",
    "1. Probably \n",
    "2. Probably not "
   ]
  },
  {
   "cell_type": "markdown",
   "metadata": {},
   "source": [
    "## Final comments and summary"
   ]
  },
  {
   "cell_type": "markdown",
   "metadata": {},
   "source": [
    "#### Automated hyperparameter optimization\n",
    "\n",
    "- Advantages \n",
    "    - reduce human effort\n",
    "    - less prone to error and improve reproducibility\n",
    "    - data-driven approaches may be effective\n",
    "- Disadvantages\n",
    "    - may be hard to incorporate intuition\n",
    "    - be careful about overfitting on the validation set"
   ]
  },
  {
   "cell_type": "markdown",
   "metadata": {},
   "source": [
    "Often, especially on typical datasets, we get back `scikit-learn`'s default hyperparameter values. This means that the defaults are well chosen by `scikit-learn` developers!"
   ]
  },
  {
   "cell_type": "markdown",
   "metadata": {},
   "source": [
    "- The problem of finding the best values for the important hyperparameters is tricky because \n",
    "    - You may have a lot of them (e.g. deep learning). \n",
    "    - You may have multiple hyperparameters which may interact with each other in unexpected ways.    \n",
    "- The best settings depend on the specific data/problem."
   ]
  },
  {
   "cell_type": "markdown",
   "metadata": {},
   "source": [
    "## Optional readings and resources\n",
    "\n",
    "- [Preventing \"overfitting\" of cross-validation data](http://www.robotics.stanford.edu/~ang/papers/cv-final.pdf) by Andrew Ng"
   ]
  }
 ],
 "metadata": {
  "celltoolbar": "Slideshow",
  "kernelspec": {
   "display_name": "Python [conda env:cpsc330]",
   "language": "python",
   "name": "conda-env-cpsc330-py"
  },
  "language_info": {
   "codemirror_mode": {
    "name": "ipython",
    "version": 3
   },
   "file_extension": ".py",
   "mimetype": "text/x-python",
   "name": "python",
   "nbconvert_exporter": "python",
   "pygments_lexer": "ipython3",
   "version": "3.10.8"
  },
  "rise": {
   "scroll": true
  }
 },
 "nbformat": 4,
 "nbformat_minor": 4
}

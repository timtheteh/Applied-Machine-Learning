{
 "cells": [
  {
   "cell_type": "markdown",
   "metadata": {
    "slideshow": {
     "slide_type": "slide"
    }
   },
   "source": [
    "![](../img/330-banner.png)"
   ]
  },
  {
   "cell_type": "markdown",
   "metadata": {
    "slideshow": {
     "slide_type": "-"
    }
   },
   "source": [
    "Lecture 7: Linear Models\n",
    "------------\n",
    "\n",
    "UBC 2022-23 W2\n",
    "\n",
    "Instructor: Amir Abdi\n",
    " - Office Hours: Mondays 5-6 (or 5-7 if student turn-out was high)\n",
    "\n",
    "<br><br><br>\n"
   ]
  },
  {
   "cell_type": "markdown",
   "metadata": {},
   "source": [
    "## Please share your Feedback"
   ]
  },
  {
   "cell_type": "markdown",
   "metadata": {},
   "source": [
    "<img src=\"./img_aa/qr-code-feedback-Amir.png\" height=\"300\" width=\"300\"> \n",
    "\n",
    "https://forms.gle/NLKCe3BrLC6tLpkE8\n",
    "\n",
    "It's 100% **anonymous**\n",
    "\n",
    "<br><br><br><br>"
   ]
  },
  {
   "cell_type": "markdown",
   "metadata": {},
   "source": [
    "## Announcements"
   ]
  },
  {
   "cell_type": "markdown",
   "metadata": {
    "slideshow": {
     "slide_type": "slide"
    }
   },
   "source": [
    "- Homework 3 is due Feb 1, 11:59pm. \n",
    "- Homework 4 will be posted soon.\n",
    "- Midterm is coming up: Feb 15 Wednesday"
   ]
  },
  {
   "cell_type": "markdown",
   "metadata": {
    "slideshow": {
     "slide_type": "skip"
    }
   },
   "source": [
    "## Learning outcomes\n",
    "\n",
    "From this lecture, students are expected to be able to: \n",
    "\n",
    "- Explain the **general intuition** behind **linear models**;\n",
    "- Explain how `predict` works for linear regression;\n",
    "- Use `scikit-learn`'s `Ridge` model; \n",
    "- Demonstrate how the `alpha` hyperparameter of `Ridge` is related to the fundamental tradeoff; \n",
    "- Explain the difference between linear regression and logistic regression;   \n",
    "- Use `scikit-learn`'s `LogisticRegression` model and `predict_proba` to get probability scores\n",
    "- Explain the advantages of getting probability scores instead of hard predictions during classification; \n",
    "- Broadly describe linear SVMs \n",
    "- Explain how can you interpret model predictions using coefficients learned by a linear model; \n",
    "- Explain the advantages and limitations of linear classifiers. "
   ]
  },
  {
   "cell_type": "markdown",
   "metadata": {
    "slideshow": {
     "slide_type": "skip"
    }
   },
   "source": [
    "<br><br>"
   ]
  },
  {
   "cell_type": "markdown",
   "metadata": {},
   "source": [
    "## Legends\n",
    "\n",
    "    \n",
    "| <img src=\"https://upload.wikimedia.org/wikipedia/commons/f/f8/This_is_the_photo_of_Arthur_Samuel.jpg\" width=\"100\"> | <img src=\"http://www.cs.cmu.edu/~tom/TomHead2-6-22-22.jpg\" width=\"100\">  | <img src=\"https://upload.wikimedia.org/wikipedia/commons/4/49/John_McCarthy_Stanford.jpg\" width=\"100\"> | <img src=\"https://datascience.columbia.edu/wp-content/uploads/2020/08/Vapnik_web.png\" width=\"100\"> | <img src=\"https://upload.wikimedia.org/wikipedia/commons/a/a1/Alan_Turing_Aged_16.jpg\" width=\"100\">\n",
    "| :-----------: | :-----------: | :-----------: | :-----------: | :-----------: |\n",
    "| Arthur Samuel       | Tom Mitchell       |John McCarthy|  Vladimir N. Vapnik | Alan Turing |\n",
    "| (1901-1990)    | 1951 - Now       |  1927 – 2011 | 1936 - Now | 1912 – 1954 |\n",
    "| First computer learning program | 1997 ML Texbook, CMU Prof | Co-coined term AI, Lisp,<br> Time-sharing, Garbage collection | SVM | Turing Test, Turning Machine\n",
    "\n"
   ]
  },
  {
   "cell_type": "markdown",
   "metadata": {
    "slideshow": {
     "slide_type": "slide"
    }
   },
   "source": [
    "# Linear models [[video](https://youtu.be/HXd1U2q4VFA)]"
   ]
  },
  {
   "cell_type": "markdown",
   "metadata": {
    "slideshow": {
     "slide_type": "slide"
    }
   },
   "source": [
    "**Linear models** is a fundamental and widely used class of models. They are called **linear** because they make a prediction using a **linear function** of the input features.  \n",
    "\n",
    "We will talk about three linear models: \n",
    "- Linear regression \n",
    "- Logistic regression\n",
    "- Linear SVM (brief mention)"
   ]
  },
  {
   "cell_type": "markdown",
   "metadata": {
    "slideshow": {
     "slide_type": "slide"
    }
   },
   "source": [
    "## Linear regression \n",
    "\n",
    "- A very popular statistical model and has a long history.  \n",
    "- Imagine a hypothetical regression problem of predicting weight of a snake given its length. "
   ]
  },
  {
   "cell_type": "code",
   "execution_count": null,
   "metadata": {
    "slideshow": {
     "slide_type": "skip"
    }
   },
   "outputs": [],
   "source": [
    "import os\n",
    "import sys\n",
    "\n",
    "sys.path.append(\"../code/.\")\n",
    "\n",
    "import IPython\n",
    "import ipywidgets as widgets\n",
    "import matplotlib.pyplot as plt\n",
    "import mglearn\n",
    "import numpy as np\n",
    "import pandas as pd\n",
    "from IPython.display import HTML, display\n",
    "from ipywidgets import interact, interactive\n",
    "\n",
    "from sklearn.dummy import DummyClassifier\n",
    "from sklearn.feature_extraction.text import CountVectorizer, TfidfVectorizer\n",
    "from sklearn.impute import SimpleImputer\n",
    "from sklearn.model_selection import cross_val_score, cross_validate, train_test_split\n",
    "from sklearn.neighbors import KNeighborsClassifier, KNeighborsRegressor\n",
    "from sklearn.pipeline import Pipeline, make_pipeline\n",
    "from sklearn.preprocessing import OneHotEncoder, StandardScaler\n",
    "from sklearn.svm import SVC\n",
    "from sklearn.tree import DecisionTreeClassifier\n",
    "\n",
    "%matplotlib inline\n",
    "pd.set_option(\"display.max_colwidth\", 200)"
   ]
  },
  {
   "cell_type": "markdown",
   "metadata": {},
   "source": [
    "Let's generate a dataset with a **linear equation** (e.g. `y = 5 * x + 0.2`) plus some added **random noise**.\n",
    "\n",
    "For example: \n",
    "- X = Length of the snake\n",
    "- y = weight of the snake"
   ]
  },
  {
   "cell_type": "code",
   "execution_count": null,
   "metadata": {
    "slideshow": {
     "slide_type": "slide"
    }
   },
   "outputs": [],
   "source": [
    "np.random.seed(7)\n",
    "n = 100\n",
    "X_1 = np.linspace(0, 2, n) + np.random.randn(n) * 0.01\n",
    "X = pd.DataFrame(X_1[:, None], columns=[\"length\"])\n",
    "\n",
    "y = abs(np.random.randn(n, 1)) * 3 + X_1[:, None] * 5 + 0.2\n",
    "y = pd.DataFrame(y, columns=[\"weight\"])\n",
    "snakes_df = pd.concat([X, y], axis=1)\n",
    "train_df, test_df = train_test_split(snakes_df, test_size=0.2, random_state=77)\n",
    "\n",
    "X_train = train_df[[\"length\"]].values\n",
    "y_train = train_df[\"weight\"].values\n",
    "X_test = test_df[[\"length\"]].values\n",
    "y_test = test_df[\"weight\"].values\n",
    "train_df.head()"
   ]
  },
  {
   "cell_type": "markdown",
   "metadata": {
    "slideshow": {
     "slide_type": "slide"
    }
   },
   "source": [
    "Let's visualize the hypothetical snake data. "
   ]
  },
  {
   "cell_type": "code",
   "execution_count": null,
   "metadata": {},
   "outputs": [],
   "source": [
    "plt.plot(X_train, y_train, \".\", markersize=10)\n",
    "plt.xlabel(\"length\")\n",
    "plt.ylabel(\"weight (target)\");"
   ]
  },
  {
   "cell_type": "markdown",
   "metadata": {
    "slideshow": {
     "slide_type": "slide"
    }
   },
   "source": [
    "Let's plot a **linear regression** model on this dataset. "
   ]
  },
  {
   "cell_type": "code",
   "execution_count": null,
   "metadata": {},
   "outputs": [],
   "source": [
    "grid = np.linspace(min(X_train)[0], max(X_train)[0], 1000)\n",
    "grid = grid.reshape(-1, 1)"
   ]
  },
  {
   "cell_type": "code",
   "execution_count": null,
   "metadata": {
    "slideshow": {
     "slide_type": "slide"
    }
   },
   "outputs": [],
   "source": [
    "from sklearn.linear_model import Ridge\n",
    "\n",
    "# ----------- New Code ------------\n",
    "r = Ridge()\n",
    "r.fit(X_train, y_train)\n",
    "# ----------- New Code ------------\n",
    "\n",
    "plt.plot(X_train, y_train, \".\", markersize=10)\n",
    "plt.plot(grid, r.predict(grid))\n",
    "plt.grid(True)\n",
    "plt.xlabel(\"length\")\n",
    "plt.ylabel(\"weight (target)\");"
   ]
  },
  {
   "cell_type": "markdown",
   "metadata": {},
   "source": [
    "**The orange line is the learned linear model.**"
   ]
  },
  {
   "cell_type": "markdown",
   "metadata": {
    "slideshow": {
     "slide_type": "slide"
    }
   },
   "source": [
    "### Prediction of linear regression\n",
    "\n",
    "- Given a snake length, we can use the model above to predict the target (i.e., the weight of the snake). \n",
    "- The prediction will be the corresponding weight on the orange line. "
   ]
  },
  {
   "cell_type": "code",
   "execution_count": null,
   "metadata": {},
   "outputs": [],
   "source": [
    "snake_length = 0.75\n",
    "r.predict([[snake_length]])"
   ]
  },
  {
   "cell_type": "markdown",
   "metadata": {
    "slideshow": {
     "slide_type": "slide"
    }
   },
   "source": [
    "#### What are we exactly learning? \n",
    "\n",
    "- The model above is a **line**, which can be represented with a slope (i.e., coefficient or weight) and an intercept. \n",
    "- For the above model, we can access the slope (i.e., coefficient or weight) and the intercept using `coef_` and `intercept_`, respectively. "
   ]
  },
  {
   "cell_type": "code",
   "execution_count": null,
   "metadata": {},
   "outputs": [],
   "source": [
    "r.coef_  # r is our linear regression object"
   ]
  },
  {
   "cell_type": "code",
   "execution_count": null,
   "metadata": {},
   "outputs": [],
   "source": [
    "r.intercept_  # r is our linear regression object"
   ]
  },
  {
   "cell_type": "code",
   "execution_count": null,
   "metadata": {},
   "outputs": [],
   "source": [
    "# redraw the plot\n",
    "plt.plot(X_train, y_train, \".\", markersize=10)\n",
    "plt.plot(grid, r.predict(grid))\n",
    "plt.grid(True)\n",
    "plt.xlabel(\"length\")\n",
    "plt.ylabel(\"weight (target)\");"
   ]
  },
  {
   "cell_type": "markdown",
   "metadata": {
    "slideshow": {
     "slide_type": "slide"
    }
   },
   "source": [
    "### How are we making predictions? \n",
    "- Given a feature value $x_1$ and learned coefficient $w_1$ and intercept $b$, we can get the prediction $\\hat{y}$ with the following formula:\n",
    "$$\\hat{y} = w_1x_1 + b$$"
   ]
  },
  {
   "cell_type": "code",
   "execution_count": null,
   "metadata": {},
   "outputs": [],
   "source": [
    "snake_length = 0.75"
   ]
  },
  {
   "cell_type": "code",
   "execution_count": null,
   "metadata": {},
   "outputs": [],
   "source": [
    "r.predict([[snake_length]])"
   ]
  },
  {
   "cell_type": "code",
   "execution_count": null,
   "metadata": {},
   "outputs": [],
   "source": [
    "snake_length * r.coef_ + r.intercept_"
   ]
  },
  {
   "cell_type": "markdown",
   "metadata": {},
   "source": [
    "Great! Now we exactly know how the model is making the prediction. \n",
    "<br><br><br><br><br><br>"
   ]
  },
  {
   "cell_type": "markdown",
   "metadata": {
    "slideshow": {
     "slide_type": "slide"
    }
   },
   "source": [
    "### Generalizing to more features\n",
    "For more features, the model is a higher dimensional hyperplane and the general prediction formula looks as follows: \n",
    "\n",
    "$\\hat{y} =$ <font color=\"red\">$w_1$</font> <font color=\"blue\">$x_1$ </font> $+ \\dots +$ <font color=\"red\">$w_d$</font> <font color=\"blue\">$x_d$</font> + <font  color=\"green\"> $b$</font>\n",
    "\n",
    "where, \n",
    "- <font  color=\"blue\"> ($x_1, \\dots, x_d$) are input features </font>\n",
    "- <font  color=\"red\"> ($w_1, \\dots, w_d$) are coefficients or weights </font> (**learned** from the data)\n",
    "- <font  color=\"green\"> $b$ is the bias which can be used to offset your hyperplane </font> (**learned** from the data)"
   ]
  },
  {
   "cell_type": "markdown",
   "metadata": {},
   "source": [
    "Q: How many **learned** parameters does the following Linear model has?\n",
    "\n",
    "$\\hat{y} = w_1 x_1 + w_2 x_2 + b$"
   ]
  },
  {
   "cell_type": "markdown",
   "metadata": {},
   "source": [
    "Answer = ???\n",
    "<br><br><br><br>"
   ]
  },
  {
   "cell_type": "markdown",
   "metadata": {
    "slideshow": {
     "slide_type": "slide"
    },
    "tags": []
   },
   "source": [
    "### Example \n",
    "\n",
    "- Suppose these are the coefficients learned by a linear regression model on a hypothetical housing price prediction dataset. \n",
    "\n",
    "| Feature | Learned coefficient |\n",
    "|--------------------|---------------------:|\n",
    "| Bedrooms | 0.20 |\n",
    "| Bathrooms| 0.11 |\n",
    "| Square Footage | 0.002 |\n",
    "| Age | -0.02 |\n",
    "\n",
    "- Now given a new example, the target will be predicted as follows: \n",
    "| Bedrooms | Bathrooms | Square Footage | Age |\n",
    "|--------------------|---------------------|----------------|-----| \n",
    "| 3                  | 2                   | 1875           | 66  |"
   ]
  },
  {
   "cell_type": "markdown",
   "metadata": {},
   "source": [
    "$$\\hat{y} = w_1x_1 + w_2x_2 + w_3x_3 + w_4x_4 + b$$\n",
    "\n",
    "$$\\text{predicted price}=  0.20 \\times 3 + 0.11 \\times 2 + 0.002 \\times 1875 + (-0.02) \\times 66 + b$$"
   ]
  },
  {
   "cell_type": "markdown",
   "metadata": {
    "slideshow": {
     "slide_type": "skip"
    }
   },
   "source": [
    "When we call `fit`, a **coefficient (or weight)** is learned for each feature which tells us the role of that feature in prediction.  \n",
    "These **coefficients** are learned from the training data.  "
   ]
  },
  {
   "cell_type": "markdown",
   "metadata": {
    "slideshow": {
     "slide_type": "skip"
    }
   },
   "source": [
    "<br><br><br>\n",
    "In linear models for regression, the model is \n",
    "- a line for a single feature, \n",
    "- a plane for two features, and \n",
    "- a hyperplane for higher dimensions. \n",
    "\n",
    "We are not yet ready to discuss how does linear regression learn these coefficients and intercept.\n",
    "<br><br><br>"
   ]
  },
  {
   "cell_type": "markdown",
   "metadata": {},
   "source": [
    "## Regularization"
   ]
  },
  {
   "cell_type": "markdown",
   "metadata": {},
   "source": [
    "- `scikit-learn` has a model called `LinearRegression` for linear regression. \n",
    "    - But if we use this **\"no regularization\"** version of linear regression, it may result in large coefficients and unexpected results. \n",
    "    - **Objective Function:** $||y - Xw||^2_2$\n",
    "- We use a linear regression model with **$l2$ regularization** called `Ridge Regression`\n",
    "  - hyperparameter: `alpha`\n",
    "  - **Objective Function:**  $||y - Xw||^2_2 + alpha * ||w||^2_2$"
   ]
  },
  {
   "cell_type": "markdown",
   "metadata": {},
   "source": [
    "<br><br><br><br><br>\n",
    "**Regularization** controls the fundamental bias/variance tradeoff.\n",
    "\n",
    "**More regularization** -> more bias -> less variance --> less complex model --> **less chance of overfitting**\n",
    "\n",
    "<br><br><br><br><br>"
   ]
  },
  {
   "cell_type": "markdown",
   "metadata": {
    "slideshow": {
     "slide_type": "slide"
    }
   },
   "source": [
    "## `Ridge` Regression\n",
    "\n"
   ]
  },
  {
   "cell_type": "code",
   "execution_count": null,
   "metadata": {},
   "outputs": [],
   "source": [
    "from sklearn.linear_model import LinearRegression  # Linear Regression without any regularization\n",
    "from sklearn.linear_model import Ridge  # Linear Regression with l2 regularization"
   ]
  },
  {
   "cell_type": "markdown",
   "metadata": {
    "slideshow": {
     "slide_type": "slide"
    }
   },
   "source": [
    "### Sample Data "
   ]
  },
  {
   "cell_type": "markdown",
   "metadata": {},
   "source": [
    "Let's use `sklearn`'s built in regression dataset, the **Boston Housing dataset**. The task associated with this dataset is to predict the median value of homes in several Boston neighborhoods in the 1970s, using information such as crime rate in the neighbourhood, average number of rooms, proximity to the Charles River, highway accessibility, and so on."
   ]
  },
  {
   "cell_type": "code",
   "execution_count": null,
   "metadata": {
    "slideshow": {
     "slide_type": "slide"
    }
   },
   "outputs": [],
   "source": [
    "from sklearn.datasets import fetch_california_housing\n",
    "\n",
    "california = fetch_california_housing()\n",
    "\n",
    "# Create test and train data\n",
    "X_train, X_test, y_train, y_test = train_test_split(\n",
    "    california.data, california.target, test_size=0.2\n",
    ")\n",
    "pd.DataFrame(X_train, columns=california.feature_names)"
   ]
  },
  {
   "cell_type": "code",
   "execution_count": null,
   "metadata": {},
   "outputs": [],
   "source": [
    "california.target"
   ]
  },
  {
   "cell_type": "code",
   "execution_count": null,
   "metadata": {
    "slideshow": {
     "slide_type": "slide"
    }
   },
   "outputs": [],
   "source": [
    "print(california.DESCR)"
   ]
  },
  {
   "cell_type": "markdown",
   "metadata": {
    "slideshow": {
     "slide_type": "slide"
    }
   },
   "source": [
    "### `Ridge` on the California housing dataset"
   ]
  },
  {
   "cell_type": "code",
   "execution_count": null,
   "metadata": {},
   "outputs": [],
   "source": [
    "pipe = make_pipeline(StandardScaler(), Ridge())\n",
    "scores = cross_validate(pipe, X_train, y_train, return_train_score=True)\n",
    "print('validation score:', pd.DataFrame(scores)['test_score'].mean())"
   ]
  },
  {
   "cell_type": "markdown",
   "metadata": {
    "slideshow": {
     "slide_type": "slide"
    }
   },
   "source": [
    "### Hyperparameter `alpha` of `Ridge`"
   ]
  },
  {
   "cell_type": "markdown",
   "metadata": {},
   "source": [
    "- Ridge has hyperparameters just like the rest of the models we learned.\n",
    "- The alpha hyperparameter is what makes `Ridge` different from vanilla `LinearRegression`. \n",
    "- Similar to the other hyperparameters that we saw, `alpha` controls the fundamental tradeoff. "
   ]
  },
  {
   "cell_type": "markdown",
   "metadata": {
    "slideshow": {
     "slide_type": "skip"
    }
   },
   "source": [
    "\n",
    "<br><br><br><br>\n",
    "\n",
    "-----------\n",
    "\n",
    "If we set `alpha=0` of **Ridge Regression**, it is the same as using LinearRegression.\n",
    "\n",
    "\n",
    "Linear Regresion: \n",
    "- $||y - Xw||^2_2\n",
    "\n",
    "Ridge Regression (Linear Regression with $l2$ regularization): \n",
    "- $||y - Xw||^2_2 + alpha * ||w||^2_2$\n",
    "-----------\n",
    "<br><br><br><br>\n",
    "\n"
   ]
  },
  {
   "cell_type": "markdown",
   "metadata": {
    "slideshow": {
     "slide_type": "slide"
    }
   },
   "source": [
    "Let's examine the effect of `alpha` on the fundamental tradeoff. "
   ]
  },
  {
   "cell_type": "code",
   "execution_count": null,
   "metadata": {},
   "outputs": [],
   "source": [
    "scores_dict = {\n",
    "    \"alpha\": 10.0 ** np.arange(-3, 6, 1),\n",
    "    \"mean_train_scores\": list(),\n",
    "    \"mean_cv_valid_scores\": list(),\n",
    "}\n",
    "for alpha in scores_dict[\"alpha\"]:\n",
    "    pipe_ridge = make_pipeline(StandardScaler(), Ridge(alpha=alpha))\n",
    "    scores = cross_validate(pipe_ridge, X_train, y_train, return_train_score=True)\n",
    "    scores_dict[\"mean_train_scores\"].append(scores[\"train_score\"].mean())\n",
    "    scores_dict[\"mean_cv_valid_scores\"].append(scores[\"test_score\"].mean())\n",
    "\n",
    "results_df = pd.DataFrame(scores_dict)"
   ]
  },
  {
   "cell_type": "code",
   "execution_count": null,
   "metadata": {
    "slideshow": {
     "slide_type": "slide"
    }
   },
   "outputs": [],
   "source": [
    "results_df"
   ]
  },
  {
   "cell_type": "markdown",
   "metadata": {
    "slideshow": {
     "slide_type": "-"
    }
   },
   "source": [
    "Here we do not really see overfitting but in general, \n",
    "- larger `alpha` $\\rightarrow$ likely to underfit\n",
    "- smaller `alpha` $\\rightarrow$ likely to overfit"
   ]
  },
  {
   "cell_type": "markdown",
   "metadata": {
    "slideshow": {
     "slide_type": "slide"
    }
   },
   "source": [
    "#### Coefficients and intercept\n",
    "\n",
    "The model learns \n",
    "- **coefficients** ($w_i$) associated with each feature\n",
    "- **bias** ($b$) (intercept)"
   ]
  },
  {
   "cell_type": "markdown",
   "metadata": {},
   "source": [
    "Let's examine the coefficients learned by the model. "
   ]
  },
  {
   "cell_type": "code",
   "execution_count": null,
   "metadata": {},
   "outputs": [],
   "source": [
    "pipe_ridge = make_pipeline(StandardScaler(), Ridge(alpha=1.0))\n",
    "pipe_ridge.fit(X_train, y_train)\n",
    "coeffs = pipe_ridge.named_steps[\"ridge\"].coef_"
   ]
  },
  {
   "cell_type": "markdown",
   "metadata": {},
   "source": [
    "**coefficients ($w_i$) associated with each feature**"
   ]
  },
  {
   "cell_type": "code",
   "execution_count": null,
   "metadata": {
    "slideshow": {
     "slide_type": "slide"
    }
   },
   "outputs": [],
   "source": [
    "pd.DataFrame(data=coeffs, index=california.feature_names, columns=[\"Coefficients\"])"
   ]
  },
  {
   "cell_type": "markdown",
   "metadata": {
    "slideshow": {
     "slide_type": "slide"
    }
   },
   "source": [
    "**bias ($b$) (intercept)**\n",
    "- Model adds this amount irrespective of the feature values.  "
   ]
  },
  {
   "cell_type": "code",
   "execution_count": null,
   "metadata": {},
   "outputs": [],
   "source": [
    "pipe_ridge.named_steps[\"ridge\"].intercept_"
   ]
  },
  {
   "cell_type": "markdown",
   "metadata": {},
   "source": [
    "<br><br><br><br>\n",
    "\n",
    "Remember how bias and coefficients are multiplied and added with the features to predict the target value:\n",
    "\n",
    "$\\hat{y} =$ <font color=\"red\">$w_1$</font> <font color=\"blue\">$x_1$ </font> $+ \\dots +$ <font color=\"red\">$w_d$</font> <font color=\"blue\">$x_d$</font> + <font  color=\"green\"> $b$</font>\n",
    "\n",
    "<br>\n",
    "\n",
    "Q: What's the prediction of the model if all features are zero?  \n",
    "A: ????\n",
    "\n",
    "Q: Can we use the **bias** to interpret model predictions?   \n",
    "A: ????\n",
    "\n",
    "<br><br><br><br>"
   ]
  },
  {
   "cell_type": "markdown",
   "metadata": {},
   "source": [
    "**Trick question** to assess how deeply you understood pipelines:\n",
    "\n",
    "What the following two values? Why are they different?\n",
    "\n",
    "**(I'm not gonna answer this; wanna have you dig deeper into this on your own)**"
   ]
  },
  {
   "cell_type": "code",
   "execution_count": null,
   "metadata": {},
   "outputs": [],
   "source": [
    "print('what is this?\\t', pipe_ridge[1].predict(np.zeros((1,8))))\n",
    "\n",
    "print('how about this?\\t', pipe_ridge.predict(np.zeros((1,8))))"
   ]
  },
  {
   "cell_type": "markdown",
   "metadata": {},
   "source": [
    "<br><br><br><br>"
   ]
  },
  {
   "cell_type": "markdown",
   "metadata": {
    "slideshow": {
     "slide_type": "slide"
    }
   },
   "source": [
    "## ❓❓ Questions for you"
   ]
  },
  {
   "cell_type": "markdown",
   "metadata": {
    "slideshow": {
     "slide_type": "-"
    }
   },
   "source": [
    "### (iClicker) Exercise 7.1 \n",
    "\n",
    "**iClicker cloud join link: https://join.iclicker.com/EMMJ**\n",
    "\n",
    "**Select all of the following statements which are TRUE.**\n",
    "\n",
    "- (A) Increasing the hyperparameter `alpha` of `Ridge` is likely to decrease model complexity.\n",
    "- (B) `Linear Regression` can be used with datasets that have multiple features.\n",
    "- (C) With Ridge, we learn one coefficient per training example.\n",
    "- (D) If you train a linear regression model on a 2-dimensional problem (2 features), the model will learn 3 parameters: one for each feature and one for the bias term. "
   ]
  },
  {
   "cell_type": "markdown",
   "metadata": {},
   "source": [
    "Answers: ????"
   ]
  },
  {
   "cell_type": "markdown",
   "metadata": {
    "slideshow": {
     "slide_type": "skip"
    }
   },
   "source": [
    "<br><br><br><br>"
   ]
  },
  {
   "cell_type": "markdown",
   "metadata": {
    "slideshow": {
     "slide_type": "slide"
    }
   },
   "source": [
    "## Interpretation of coefficients "
   ]
  },
  {
   "cell_type": "markdown",
   "metadata": {
    "slideshow": {
     "slide_type": "slide"
    }
   },
   "source": [
    "- One of the main advantages of linear models is that they are relatively **easy to interpret**. \n",
    "- We have one coefficient per feature which kind of describes the role of the feature in the prediction according to the model. "
   ]
  },
  {
   "cell_type": "markdown",
   "metadata": {},
   "source": [
    "There are two pieces of information in the coefficients based on\n",
    "\n",
    "- Sign\n",
    "- Magnitude"
   ]
  },
  {
   "cell_type": "markdown",
   "metadata": {
    "slideshow": {
     "slide_type": "slide"
    }
   },
   "source": [
    "### Sign of the coefficients\n",
    "\n",
    "In the example below, for instance: \n",
    "- MedInc (median income) has a **positive coefficient**\n",
    "    - the prediction will be proportional to the feature value; as MedInc gets **bigger**, the median house value gets **bigger** \n",
    "- AveRooms (Average number of rooms) has a **negative coefficient**\n",
    "    - the prediction will be inversely proportional to the feature value; as AveRooms gets **bigger**, the median house value gets **smaller**"
   ]
  },
  {
   "cell_type": "code",
   "execution_count": null,
   "metadata": {
    "slideshow": {
     "slide_type": "slide"
    }
   },
   "outputs": [],
   "source": [
    "pd.DataFrame(data=coeffs, index=california.feature_names, columns=[\"Coefficients\"])"
   ]
  },
  {
   "cell_type": "markdown",
   "metadata": {
    "slideshow": {
     "slide_type": "slide"
    }
   },
   "source": [
    "### Magnitude of the coefficients\n",
    "\n",
    "- Bigger magnitude $\\rightarrow$ bigger impact on the prediction \n",
    "- In the example below, both MedInc and AveBedrms have a positive impact on the prediction but MedInc would have a bigger positive impact because it's feature value is going to be multiplied by a number with a bigger magnitude. "
   ]
  },
  {
   "cell_type": "code",
   "execution_count": null,
   "metadata": {
    "slideshow": {
     "slide_type": "slide"
    }
   },
   "outputs": [],
   "source": [
    "data = {\n",
    "    \"coefficient\": pipe_ridge.named_steps[\"ridge\"].coef_.tolist(),\n",
    "    \"magnitude\": np.absolute(pipe_ridge.named_steps[\"ridge\"].coef_.tolist()),\n",
    "}\n",
    "coef_df = pd.DataFrame(data, index=california.feature_names).sort_values(\n",
    "    \"magnitude\", ascending=False\n",
    ")\n",
    "coef_df"
   ]
  },
  {
   "cell_type": "markdown",
   "metadata": {
    "slideshow": {
     "slide_type": "slide"
    }
   },
   "source": [
    "### Importance of scaling \n",
    "- **When you are interpreting the model coefficients, scaling is crucial**\n",
    "- If you do not scale the data, features with smaller magnitude are going to get coefficients with bigger magnitude whereas features with bigger scale are going to get coefficients with smaller magnitude.\n",
    "- That said, when you scale the data, feature values become hard to interpret for humans!"
   ]
  },
  {
   "cell_type": "markdown",
   "metadata": {
    "slideshow": {
     "slide_type": "skip"
    }
   },
   "source": [
    "```{Important}\n",
    "Take these coefficients with a grain of salt. They might not always match your intuitions. Also, they do not tell us about how the world works. They only tell us about how the prediction of your model works. \n",
    "```"
   ]
  },
  {
   "cell_type": "markdown",
   "metadata": {},
   "source": [
    "<br><br>"
   ]
  },
  {
   "cell_type": "markdown",
   "metadata": {
    "slideshow": {
     "slide_type": "slide"
    }
   },
   "source": [
    "## ❓❓ Questions for you"
   ]
  },
  {
   "cell_type": "markdown",
   "metadata": {
    "slideshow": {
     "slide_type": "slide"
    }
   },
   "source": [
    "- Discuss the importance of scaling when interpreting linear regression coefficients. \n",
    "\n",
    "Answer: ???\n",
    "\n",
    "- What might be the meaning of complex vs simpler model in case of linear regression? \n",
    "\n",
    "Answer: ???"
   ]
  },
  {
   "cell_type": "markdown",
   "metadata": {},
   "source": [
    "\n",
    "\n",
    "<br><br><br><br>"
   ]
  },
  {
   "cell_type": "markdown",
   "metadata": {
    "slideshow": {
     "slide_type": "slide"
    }
   },
   "source": [
    "## Logistic regression [[video](https://youtu.be/56L5z_t22qE)]"
   ]
  },
  {
   "cell_type": "markdown",
   "metadata": {
    "slideshow": {
     "slide_type": "slide"
    },
    "tags": []
   },
   "source": [
    "### Logistic regression intuition \n",
    "\n",
    "- A linear model for **classification**. \n",
    "  - I repeat **LINEAR** model\n",
    "- Similar to linear regression, it learns weights associated with each feature and the bias. \n",
    "- It applies a **threshold** on the raw output to decide whether the class is positive or negative. \n",
    "- In this lecture we will focus on the following aspects of logistic regression.  \n",
    "    - `predict`, `predict_proba` \n",
    "    - how to use learned coefficients to interpret the model"
   ]
  },
  {
   "cell_type": "markdown",
   "metadata": {
    "slideshow": {
     "slide_type": "slide"
    }
   },
   "source": [
    "### Motivating example (not a real example!)\n",
    "\n",
    "- Consider the problem of predicting sentiment expressed in movie reviews. "
   ]
  },
  {
   "cell_type": "markdown",
   "metadata": {
    "slideshow": {
     "slide_type": "slide"
    }
   },
   "source": [
    "#### Training data for the motivating example\n",
    "\n",
    "\n",
    "<blockquote> \n",
    "    <p>Review 1: This movie was <b>excellent</b>! The performances were oscar-worthy!  👍 </p> \n",
    "    <p>Review 2: What a <b>boring</b> movie! I almost fell asleep twice while watching it. 👎 </p> \n",
    "    <p>Review 3: I enjoyed the movie. <b>Excellent</b>! 👍 </p>             \n",
    "</blockquote>  \n",
    "\n",
    "- Targets: positive 👍 and negative 👎\n",
    "- Features: words (e.g., *excellent*, *flawless*, *boring*)\n"
   ]
  },
  {
   "cell_type": "markdown",
   "metadata": {
    "slideshow": {
     "slide_type": "slide"
    }
   },
   "source": [
    "#### Learned coefficients associated with all features\n",
    "\n",
    "- Suppose our vocabulary contains only the following 7 words. \n",
    "- A linear classifier learns **weights** or **coefficients** associated with the features (words in this example).  \n",
    "- Let's ignore bias for a bit. \n",
    "\n",
    "![](../img/words_coeff.png)\n",
    "\n",
    "<!-- <center>\n",
    "<img src='./img/words_coeff.png' width=\"250\" height=\"300\" />\n",
    "</center>  \n",
    " -->"
   ]
  },
  {
   "cell_type": "markdown",
   "metadata": {
    "slideshow": {
     "slide_type": "slide"
    }
   },
   "source": [
    "#### Predicting with learned weights \n",
    "- Use these learned coefficients to make predictions. For example, consider the following review $x_i$. \n",
    "<blockquote> \n",
    "It got a bit <b>boring</b> at times but the direction was <b>excellent</b> and the acting was <b>flawless</b>.\n",
    "</blockquote>\n",
    "- Feature vector for $x_i$: [1, 0, 1, 1, 0, 0, 0]"
   ]
  },
  {
   "cell_type": "markdown",
   "metadata": {
    "slideshow": {
     "slide_type": "slide"
    }
   },
   "source": [
    "![](../img/words_coeff.png)\n",
    "<!-- <center>\n",
    "<img src='./img/words_coeff.png' width=\"250\" height=\"300\" />\n",
    "</center>  \n",
    " -->\n",
    "- $score(x_i) = $ coefficient(*boring*) $\\times 1$ + coefficient(*excellent*) $\\times 1$ + coefficient(*flawless*) $\\times 1$ = $-1.40 + 1.93 + 1.43 = 1.96$\n",
    "\n",
    "- $1.96 > 0$ so predict the review as positive 👍. "
   ]
  },
  {
   "cell_type": "code",
   "execution_count": null,
   "metadata": {
    "slideshow": {
     "slide_type": "slide"
    }
   },
   "outputs": [],
   "source": [
    "from plotting_functions import plot_logistic_regression\n",
    "x = [\"boring=1\", \"excellent=1\", \"flawless=1\"]\n",
    "w = [-1.40, 1.93, 1.43]\n",
    "display(plot_logistic_regression(x, w))"
   ]
  },
  {
   "cell_type": "markdown",
   "metadata": {
    "slideshow": {
     "slide_type": "slide"
    }
   },
   "source": [
    "- So the prediction is based on the weighted sum of the input features.\n",
    "- Some feature are pulling the prediction towards positive sentiment and some are pulling it towards negative sentiment. \n",
    "- If the **coefficient of _boring_ had a bigger magnitude** or _excellent_ and _flawless_ had smaller magnitudes, we would have predicted \"neg\".   "
   ]
  },
  {
   "cell_type": "code",
   "execution_count": null,
   "metadata": {
    "slideshow": {
     "slide_type": "skip"
    }
   },
   "outputs": [],
   "source": [
    "def f(w_0):\n",
    "    x = [\"boring=1\", \"excellent=1\", \"flawless=1\"]\n",
    "    w = [-1.40, 1.93, 1.43]\n",
    "    w[0] = w_0\n",
    "    print(w)\n",
    "    display(plot_logistic_regression(x, w))"
   ]
  },
  {
   "cell_type": "code",
   "execution_count": null,
   "metadata": {
    "slideshow": {
     "slide_type": "skip"
    }
   },
   "outputs": [],
   "source": [
    "interactive(\n",
    "    f,\n",
    "    w_0=widgets.FloatSlider(min=-6, max=2, step=0.5, value=-1.40),\n",
    ")"
   ]
  },
  {
   "cell_type": "markdown",
   "metadata": {
    "slideshow": {
     "slide_type": "skip"
    }
   },
   "source": [
    "In our case, for values for the coefficient of _boring_ < -3.36, the prediction would be negative. \n",
    "\n",
    "A linear model learns these coefficients or weights from the training data! "
   ]
  },
  {
   "cell_type": "markdown",
   "metadata": {
    "slideshow": {
     "slide_type": "slide"
    }
   },
   "source": [
    "So a linear classifier is a linear function of the input `X`, followed by a **threshold**. \n",
    "\n",
    "\\begin{equation}\n",
    "\\begin{split}\n",
    "z =& w_1x_1 + \\dots + w_dx_d + b\\\\\n",
    "=& w^Tx + b\n",
    "\\end{split}\n",
    "\\end{equation}\n",
    "\n",
    "$$\\hat{y} = \\begin{cases}\n",
    "         1, & \\text{if } z \\geq r\\\\\n",
    "         -1, & \\text{if } z < r\n",
    "\\end{cases}$$"
   ]
  },
  {
   "cell_type": "markdown",
   "metadata": {
    "slideshow": {
     "slide_type": "slide"
    }
   },
   "source": [
    "#### Components of a linear classifier\n",
    "\n",
    "1. input features ($x_1, \\dots, x_d$)\n",
    "2. coefficients (weights) ($w_1, \\dots, w_d$)\n",
    "3. bias ($b$ or $w_0$) (can be used to offset your hyperplane)\n",
    "4. threshold ($r$)\n",
    "\n",
    "(In our example before, we **assumed** $r=0$ and $b=0$)"
   ]
  },
  {
   "cell_type": "markdown",
   "metadata": {
    "slideshow": {
     "slide_type": "slide"
    }
   },
   "source": [
    "### Logistic regression on the cities data"
   ]
  },
  {
   "cell_type": "code",
   "execution_count": null,
   "metadata": {},
   "outputs": [],
   "source": [
    "cities_df = pd.read_csv(\"../data/canada_usa_cities.csv\")\n",
    "train_df, test_df = train_test_split(cities_df, test_size=0.2, random_state=123)\n",
    "X_train, y_train = train_df.drop(columns=[\"country\"]).values, train_df[\"country\"].values\n",
    "X_test, y_test = test_df.drop(columns=[\"country\"]).values, test_df[\"country\"].values\n",
    "\n",
    "cols = train_df.drop(columns=[\"country\"]).columns\n",
    "train_df.head()"
   ]
  },
  {
   "cell_type": "markdown",
   "metadata": {
    "slideshow": {
     "slide_type": "slide"
    }
   },
   "source": [
    "Let's try `LogisticRegression`"
   ]
  },
  {
   "cell_type": "code",
   "execution_count": null,
   "metadata": {
    "slideshow": {
     "slide_type": "-"
    }
   },
   "outputs": [],
   "source": [
    "from sklearn.linear_model import LogisticRegression\n",
    "\n",
    "# ------- New Code ---------------\n",
    "lr = LogisticRegression()\n",
    "# ------- New Code ---------------\n",
    "\n",
    "scores = cross_validate(lr, X_train, y_train, return_train_score=True)\n",
    "print('Average Validation Score:', pd.DataFrame(scores)['test_score'].mean())"
   ]
  },
  {
   "cell_type": "markdown",
   "metadata": {},
   "source": [
    "Logistic regression seems to be doing better than dummy classifier."
   ]
  },
  {
   "cell_type": "code",
   "execution_count": null,
   "metadata": {},
   "outputs": [],
   "source": [
    "print(pd.DataFrame(scores)['test_score'].std())\n",
    "pd.DataFrame(scores)"
   ]
  },
  {
   "cell_type": "markdown",
   "metadata": {},
   "source": [
    " But note that there is a lot of **variation** in the scores. \n"
   ]
  },
  {
   "cell_type": "markdown",
   "metadata": {
    "slideshow": {
     "slide_type": "slide"
    }
   },
   "source": [
    "### Accessing learned parameters\n",
    "\n",
    "- Recall that logistic regression learns the weights $w$ and bias or intercept $b$.\n",
    "\n",
    "- How to access these weights? \n",
    "    - Similar to `Ridge`, we can access the weights and intercept using `coef_` and `intercept_` attribute of the `LogisticRegression` object, respectively. "
   ]
  },
  {
   "cell_type": "code",
   "execution_count": null,
   "metadata": {
    "slideshow": {
     "slide_type": "slide"
    }
   },
   "outputs": [],
   "source": [
    "lr = LogisticRegression()\n",
    "lr.fit(X_train, y_train)\n",
    "print(\"Model weights: %s\" % (lr.coef_))  # these are the learned weights\n",
    "print(\"Model bias (intercept): %s\" % (lr.intercept_))  # this is the bias term\n",
    "data = {\"features\": cols, \"coefficients\": lr.coef_[0]}\n",
    "pd.DataFrame(data)"
   ]
  },
  {
   "cell_type": "markdown",
   "metadata": {},
   "source": [
    "- Both negative weights \n",
    "- The weight of latitude is larger in magnitude. \n",
    "- This makes sense because Canada as a country lies above the USA and so we expect latitude values to contribute more to a prediction than longitude. "
   ]
  },
  {
   "cell_type": "markdown",
   "metadata": {
    "slideshow": {
     "slide_type": "slide"
    }
   },
   "source": [
    "### Prediction with learned parameters\n",
    "\n",
    "Let's predict target of a test example. "
   ]
  },
  {
   "cell_type": "code",
   "execution_count": null,
   "metadata": {
    "slideshow": {
     "slide_type": "-"
    }
   },
   "outputs": [],
   "source": [
    "example = X_test[0, :]\n",
    "example"
   ]
  },
  {
   "cell_type": "markdown",
   "metadata": {
    "slideshow": {
     "slide_type": "slide"
    }
   },
   "source": [
    "#### Raw scores\n",
    "\n",
    "- Calculate the raw score as: ```y_hat = np.dot(w, x) + b```"
   ]
  },
  {
   "cell_type": "code",
   "execution_count": null,
   "metadata": {
    "slideshow": {
     "slide_type": "-"
    }
   },
   "outputs": [],
   "source": [
    "(\n",
    "    np.dot(\n",
    "        example,\n",
    "        lr.coef_.reshape(2),\n",
    "    )\n",
    "    + lr.intercept_\n",
    ")"
   ]
  },
  {
   "cell_type": "markdown",
   "metadata": {},
   "source": [
    "<br><br><br><br><br><br>\n",
    "\n",
    "------------\n",
    "\n",
    "**[Bonus]**\n",
    "\n",
    "How to get from the above to a decision?\n",
    "- Simple answer: \"zero\" is the threshold, if positive, it's USA, if negative, it's Canada\n",
    "- More complete answer: \n",
    "\n"
   ]
  },
  {
   "cell_type": "markdown",
   "metadata": {},
   "source": [
    "$$\\hat{P}(y=\\text{USA}|X) = \\frac{1}{1 + exp(-X_iw - b)} = \\frac{1}{1 + exp(-(-1.97817876))} = \\frac{1}{1 + exp(1.97817876)} = 0.12151312$$\n"
   ]
  },
  {
   "cell_type": "code",
   "execution_count": null,
   "metadata": {},
   "outputs": [],
   "source": [
    "lr.predict_proba([example])"
   ]
  },
  {
   "cell_type": "markdown",
   "metadata": {},
   "source": [
    "Learn more here: https://scikit-learn.org/stable/modules/linear_model.html#logistic-regression"
   ]
  },
  {
   "cell_type": "markdown",
   "metadata": {},
   "source": [
    "------------\n",
    "\n",
    "<br><br><br><br><br><br>"
   ]
  },
  {
   "cell_type": "markdown",
   "metadata": {
    "slideshow": {
     "slide_type": "slide"
    }
   },
   "source": [
    "- Apply the threshold to the raw score. \n",
    "- Since the prediction is < 0, predict \"negative\". \n",
    "- What is a \"negative\" class in our context? \n",
    "- With logistic regression, the model randomly assigns one of the classes as a positive class and the other as negative. \n",
    "    - Usually it would alphabetically order the target and pick the first one as negative and second one as the positive class. "
   ]
  },
  {
   "cell_type": "markdown",
   "metadata": {
    "slideshow": {
     "slide_type": "slide"
    }
   },
   "source": [
    "- The `classes_` attribute tells us which class is considered negative and which one is considered positive. - In this case, Canada is the negative class and USA is a positive class. "
   ]
  },
  {
   "cell_type": "code",
   "execution_count": null,
   "metadata": {},
   "outputs": [],
   "source": [
    "lr.classes_"
   ]
  },
  {
   "cell_type": "markdown",
   "metadata": {
    "slideshow": {
     "slide_type": "slide"
    }
   },
   "source": [
    "- So based on the negative score above (-1.978), we would predict Canada. \n",
    "- Let's check the prediction given by the model. "
   ]
  },
  {
   "cell_type": "code",
   "execution_count": null,
   "metadata": {},
   "outputs": [],
   "source": [
    "lr.predict([example])"
   ]
  },
  {
   "cell_type": "markdown",
   "metadata": {},
   "source": [
    "Great! The predictions match! We exactly know how the model is making predictions. "
   ]
  },
  {
   "cell_type": "markdown",
   "metadata": {
    "slideshow": {
     "slide_type": "slide"
    }
   },
   "source": [
    "### Decision boundary of logistic regression\n",
    "\n",
    "- The decision boundary of logistic regression is a **hyperplane** dividing the feature space in half. "
   ]
  },
  {
   "cell_type": "code",
   "execution_count": null,
   "metadata": {
    "slideshow": {
     "slide_type": "slide"
    }
   },
   "outputs": [],
   "source": [
    "lr = LogisticRegression()\n",
    "lr.fit(X_train, y_train)\n",
    "mglearn.discrete_scatter(X_train[:, 0], X_train[:, 1], y_train)\n",
    "mglearn.plots.plot_2d_separator(lr, X_train, fill=False, eps=0.5, alpha=0.7)\n",
    "plt.title(lr.__class__.__name__)\n",
    "plt.xlabel(\"longitude\")\n",
    "plt.ylabel(\"latitude\");"
   ]
  },
  {
   "cell_type": "markdown",
   "metadata": {
    "slideshow": {
     "slide_type": "slide"
    }
   },
   "source": [
    "- For $d=2$, the decision boundary is a line (1-dimensional)\n",
    "- For $d=3$, the decision boundary is a plane (2-dimensional)\n",
    "- For $d\\gt 3$, the decision boundary is a $d-1$-dimensional hyperplane"
   ]
  },
  {
   "cell_type": "code",
   "execution_count": null,
   "metadata": {
    "slideshow": {
     "slide_type": "slide"
    }
   },
   "outputs": [],
   "source": [
    "fig, axes = plt.subplots(1, 3, figsize=(20, 5))\n",
    "for model, ax in zip(\n",
    "    [KNeighborsClassifier(), SVC(gamma=0.01), LogisticRegression()], axes\n",
    "):\n",
    "    clf = model.fit(X_train, y_train)\n",
    "    mglearn.plots.plot_2d_separator(\n",
    "        clf, X_train, fill=True, eps=0.5, ax=ax, alpha=0.4\n",
    "    )\n",
    "    mglearn.discrete_scatter(X_train[:, 0], X_train[:, 1], y_train, ax=ax)\n",
    "    ax.set_title(clf.__class__.__name__)\n",
    "    ax.set_xlabel(\"longitude\")\n",
    "    ax.set_ylabel(\"latitude\")\n",
    "axes[0].legend();"
   ]
  },
  {
   "cell_type": "markdown",
   "metadata": {
    "slideshow": {
     "slide_type": "slide"
    }
   },
   "source": [
    "- Notice a **LINEAR decision boundary** (a line in our case). \n",
    "- Compare it with  KNN or SVM RBF decision boundaries. "
   ]
  },
  {
   "cell_type": "markdown",
   "metadata": {
    "slideshow": {
     "slide_type": "slide"
    }
   },
   "source": [
    "### Main hyperparameter of logistic regression \n",
    "\n",
    "- `C` is the main hyperparameter which controls the fundamental trade-off.\n",
    "- We won't really talk about the interpretation of this hyperparameter right now. \n",
    "- At a high level, the interpretation is similar to `C` of SVM RBF\n",
    "    - Similar to SVM, it is the **regularization** coefficient \n",
    "    - Similar to SVM, it is the **inverse of regularization strength**\n",
    "    - Similar to SVM, \n",
    "      - smaller `C` $\\rightarrow$ might lead to underfitting\n",
    "      - bigger `C` $\\rightarrow$ might lead to overfitting"
   ]
  },
  {
   "cell_type": "code",
   "execution_count": null,
   "metadata": {
    "slideshow": {
     "slide_type": "slide"
    }
   },
   "outputs": [],
   "source": [
    "scores_dict = {\n",
    "    \"C\": 10.0 ** np.arange(-4, 6, 1),\n",
    "    \"mean_train_scores\": list(),\n",
    "    \"mean_cv_scores\": list(),\n",
    "}\n",
    "for C in scores_dict[\"C\"]:\n",
    "    lr = LogisticRegression(C=C)\n",
    "    scores = cross_validate(lr, X_train, y_train, return_train_score=True)\n",
    "    scores_dict[\"mean_train_scores\"].append(scores[\"train_score\"].mean())\n",
    "    scores_dict[\"mean_cv_scores\"].append(scores[\"test_score\"].mean())\n",
    "\n",
    "results_df = pd.DataFrame(scores_dict)\n",
    "results_df"
   ]
  },
  {
   "cell_type": "code",
   "execution_count": null,
   "metadata": {},
   "outputs": [],
   "source": [
    "fig, axes = plt.subplots(1, 2, figsize=(20, 5))\n",
    "for model, ax in zip(\n",
    "    [LogisticRegression(C=0.0001), LogisticRegression(C=10000)], axes\n",
    "):\n",
    "    clf = model.fit(X_train, y_train)\n",
    "    mglearn.plots.plot_2d_separator(\n",
    "        clf, X_train, fill=True, eps=0.5, ax=ax, alpha=0.4\n",
    "    )\n",
    "    mglearn.discrete_scatter(X_train[:, 0], X_train[:, 1], y_train, ax=ax)\n",
    "    ax.set_title(f\"{clf.__class__.__name__}(C={clf.C}), valid_score={float(results_df[results_df.C==clf.C].mean_cv_scores):0.4}\")\n",
    "    ax.set_xlabel(\"longitude\")\n",
    "    ax.set_ylabel(\"latitude\")\n",
    "axes[0].legend();"
   ]
  },
  {
   "cell_type": "markdown",
   "metadata": {},
   "source": [
    "<br><br><br><br>"
   ]
  },
  {
   "cell_type": "markdown",
   "metadata": {
    "slideshow": {
     "slide_type": "slide"
    }
   },
   "source": [
    "## Predicting probability scores [[video](https://youtu.be/_OAK5KiGLg0)]"
   ]
  },
  {
   "cell_type": "markdown",
   "metadata": {
    "slideshow": {
     "slide_type": "slide"
    }
   },
   "source": [
    "### `predict_proba`\n",
    "\n",
    "- So far in the context of classification problems, we focused on getting \"hard\" predictions. \n",
    "- Very often it's useful to know \"soft\" predictions, i.e., how confident the model is with a given prediction.  \n",
    "- For most of the `scikit-learn` classification models we can access this **confidence score** or **probability** score using a method called `predict_proba`.  "
   ]
  },
  {
   "cell_type": "markdown",
   "metadata": {
    "slideshow": {
     "slide_type": "slide"
    }
   },
   "source": [
    "Let's look at probability scores of logistic regression model for our test example. "
   ]
  },
  {
   "cell_type": "code",
   "execution_count": null,
   "metadata": {},
   "outputs": [],
   "source": [
    "example"
   ]
  },
  {
   "cell_type": "code",
   "execution_count": null,
   "metadata": {},
   "outputs": [],
   "source": [
    "lr = LogisticRegression(random_state=123)\n",
    "lr.fit(X_train, y_train)\n",
    "lr.predict([example])  # hard prediction"
   ]
  },
  {
   "cell_type": "code",
   "execution_count": null,
   "metadata": {},
   "outputs": [],
   "source": [
    "lr.predict_proba([example])  # soft prediction"
   ]
  },
  {
   "cell_type": "code",
   "execution_count": null,
   "metadata": {},
   "outputs": [],
   "source": [
    "lr.classes_"
   ]
  },
  {
   "cell_type": "markdown",
   "metadata": {
    "slideshow": {
     "slide_type": "slide"
    }
   },
   "source": [
    "- The output of `predict_proba` is the probability of each class. \n",
    "- In binary classification, we get probabilities associated with both classes (even though this information is redundant). \n",
    "- The first entry is the estimated probability of the first class and the second entry is the estimated probability of the second class from `model.classes_`. "
   ]
  },
  {
   "cell_type": "markdown",
   "metadata": {
    "slideshow": {
     "slide_type": "slide"
    }
   },
   "source": [
    "- Because it's a probability, the sum of the entries for both classes should always sum to 1. \n",
    "- Since the probabilities for the two classes sum to 1, exactly one of the classes will have a score >=0.5, which is going to be our predicted class.  "
   ]
  },
  {
   "cell_type": "markdown",
   "metadata": {
    "slideshow": {
     "slide_type": "slide"
    }
   },
   "source": [
    "#### How does logistic regression calculate these probabilities? \n",
    "\n",
    "- The weighted sum $w_1x_1 + \\dots + w_dx_d + b$ gives us \"raw model output\".\n",
    "- For linear regression this would have been the prediction.\n",
    "- For logistic regression, you check the **sign** of this value.\n",
    "  - If positive (or 0), predict $+1$; if negative, predict $-1$.\n",
    "  - These are \"hard predictions\"."
   ]
  },
  {
   "cell_type": "markdown",
   "metadata": {
    "slideshow": {
     "slide_type": "slide"
    }
   },
   "source": [
    "- You can also have \"soft predictions\", aka **predicted probabilities**. \n",
    "  - To convert the raw model output into probabilities, instead of taking the sign, we apply the **sigmoid**."
   ]
  },
  {
   "cell_type": "markdown",
   "metadata": {
    "slideshow": {
     "slide_type": "slide"
    }
   },
   "source": [
    "#### Sigmoid Function (special/standard form of Logistic Function)\n",
    "- The sigmoid function \"squashes\" the raw model output from any number to the range $[0,1]$ using the following formula, where $x$ is the raw model output. \n",
    "$$\\frac{1}{1+e^{-x}}$$\n",
    "- Then we can interpret the output as probabilities."
   ]
  },
  {
   "cell_type": "code",
   "execution_count": null,
   "metadata": {
    "slideshow": {
     "slide_type": "slide"
    }
   },
   "outputs": [],
   "source": [
    "sigmoid = lambda x: 1 / (1 + np.exp(-x))\n",
    "raw_model_output = np.linspace(-8, 8, 1000)\n",
    "plt.plot(raw_model_output, sigmoid(raw_model_output))\n",
    "plt.plot([0, 0], [0, 0.5], \"--k\")\n",
    "plt.plot([-8, 0], [0.5, 0.5], \"--k\")\n",
    "plt.xlabel(\"raw model output, $w^Tx$\")\n",
    "plt.ylabel(\"predicted probability\")\n",
    "plt.title(\"the sigmoid function\");"
   ]
  },
  {
   "cell_type": "markdown",
   "metadata": {
    "slideshow": {
     "slide_type": "slide"
    }
   },
   "source": [
    "- Recall our hard predictions that check the sign of $w^Tx$, or, in other words, whether or not it is $\\geq 0$.\n",
    "  - The threshold $w^Tx=0$ corresponds to $p=0.5$. \n",
    "  - In other words, if our predicted probability is $\\geq 0.5$ then our hard prediction is $+1$."
   ]
  },
  {
   "cell_type": "markdown",
   "metadata": {
    "slideshow": {
     "slide_type": "slide"
    }
   },
   "source": [
    "Let's get the probability score by calling sigmoid on the raw model output for our test example."
   ]
  },
  {
   "cell_type": "code",
   "execution_count": null,
   "metadata": {},
   "outputs": [],
   "source": [
    "sigmoid(\n",
    "    np.dot(\n",
    "        example,\n",
    "        lr.coef_.reshape(\n",
    "            2,\n",
    "        ),\n",
    "    )\n",
    "    + lr.intercept_\n",
    ")"
   ]
  },
  {
   "cell_type": "markdown",
   "metadata": {},
   "source": [
    "This is the probability score of the positive class, which is USA. "
   ]
  },
  {
   "cell_type": "code",
   "execution_count": null,
   "metadata": {},
   "outputs": [],
   "source": [
    "lr.predict_proba([example])"
   ]
  },
  {
   "cell_type": "markdown",
   "metadata": {},
   "source": [
    "With `predict_proba`, we get the same probability score for USA!!"
   ]
  },
  {
   "cell_type": "markdown",
   "metadata": {
    "slideshow": {
     "slide_type": "slide"
    }
   },
   "source": [
    "- Let's visualize probability scores for some examples. "
   ]
  },
  {
   "cell_type": "code",
   "execution_count": null,
   "metadata": {
    "slideshow": {
     "slide_type": "-"
    }
   },
   "outputs": [],
   "source": [
    "data_dict = {\n",
    "    \"y\": y_train[:12],\n",
    "    \"y_hat\": lr.predict(X_train[:12]).tolist(),\n",
    "    \"probabilities\": lr.predict_proba(X_train[:12]).tolist(),\n",
    "}"
   ]
  },
  {
   "cell_type": "code",
   "execution_count": null,
   "metadata": {
    "slideshow": {
     "slide_type": "slide"
    }
   },
   "outputs": [],
   "source": [
    "pd.DataFrame(data_dict)"
   ]
  },
  {
   "cell_type": "markdown",
   "metadata": {
    "slideshow": {
     "slide_type": "-"
    }
   },
   "source": [
    "The actual `y` and `y_hat` match in most of the cases but in some cases the model is more confident about the prediction than others. "
   ]
  },
  {
   "cell_type": "markdown",
   "metadata": {
    "slideshow": {
     "slide_type": "slide"
    }
   },
   "source": [
    "#### Least confident cases \n",
    "\n",
    "Let's examine some cases where the model is least confident about the prediction. "
   ]
  },
  {
   "cell_type": "code",
   "execution_count": null,
   "metadata": {},
   "outputs": [],
   "source": [
    "least_confident_X = X_train[[127, 141]]\n",
    "least_confident_X"
   ]
  },
  {
   "cell_type": "code",
   "execution_count": null,
   "metadata": {
    "slideshow": {
     "slide_type": "-"
    }
   },
   "outputs": [],
   "source": [
    "least_confident_y = y_train[[127, 141]]\n",
    "least_confident_y"
   ]
  },
  {
   "cell_type": "code",
   "execution_count": null,
   "metadata": {
    "slideshow": {
     "slide_type": "slide"
    }
   },
   "outputs": [],
   "source": [
    "probs = lr.predict_proba(least_confident_X)\n",
    "\n",
    "data_dict = {\n",
    "    \"y\": least_confident_y,\n",
    "    \"y_hat\": lr.predict(least_confident_X).tolist(),\n",
    "    \"probability score (Canada)\": probs[:, 0],\n",
    "    \"probability score (USA)\": probs[:, 1],\n",
    "}\n",
    "pd.DataFrame(data_dict)"
   ]
  },
  {
   "cell_type": "code",
   "execution_count": null,
   "metadata": {
    "slideshow": {
     "slide_type": "slide"
    }
   },
   "outputs": [],
   "source": [
    "mglearn.discrete_scatter(\n",
    "    least_confident_X[:, 0],\n",
    "    least_confident_X[:, 1],\n",
    "    least_confident_y,\n",
    "    markers=\"o\",\n",
    ")\n",
    "mglearn.plots.plot_2d_separator(lr, X_train, fill=True, eps=0.5, alpha=0.5)"
   ]
  },
  {
   "cell_type": "markdown",
   "metadata": {},
   "source": [
    "**The points are close to the decision boundary** which makes sense. "
   ]
  },
  {
   "cell_type": "markdown",
   "metadata": {
    "slideshow": {
     "slide_type": "slide"
    },
    "tags": []
   },
   "source": [
    "#### Most confident cases \n",
    "\n",
    "Let's examine some cases where the model is most confident about the prediction. "
   ]
  },
  {
   "cell_type": "code",
   "execution_count": null,
   "metadata": {},
   "outputs": [],
   "source": [
    "most_confident_X = X_train[[37, 4]]\n",
    "most_confident_X"
   ]
  },
  {
   "cell_type": "code",
   "execution_count": null,
   "metadata": {},
   "outputs": [],
   "source": [
    "most_confident_y = y_train[[37, 165]]\n",
    "most_confident_y"
   ]
  },
  {
   "cell_type": "code",
   "execution_count": null,
   "metadata": {
    "slideshow": {
     "slide_type": "slide"
    }
   },
   "outputs": [],
   "source": [
    "probs = lr.predict_proba(most_confident_X)\n",
    "\n",
    "data_dict = {\n",
    "    \"y\": most_confident_y,\n",
    "    \"y_hat\": lr.predict(most_confident_X).tolist(),\n",
    "    \"probability score (Canada)\": probs[:, 0],\n",
    "    \"probability score (USA)\": probs[:, 1],\n",
    "}\n",
    "pd.DataFrame(data_dict)"
   ]
  },
  {
   "cell_type": "code",
   "execution_count": null,
   "metadata": {},
   "outputs": [],
   "source": [
    "most_confident_X"
   ]
  },
  {
   "cell_type": "code",
   "execution_count": null,
   "metadata": {
    "slideshow": {
     "slide_type": "slide"
    }
   },
   "outputs": [],
   "source": [
    "mglearn.discrete_scatter(\n",
    "    most_confident_X[:, 0],\n",
    "    most_confident_X[:, 1],\n",
    "    most_confident_y,\n",
    "    markers=\"o\",\n",
    ")\n",
    "mglearn.plots.plot_2d_separator(lr, X_train, fill=True, eps=0.5, alpha=0.5)"
   ]
  },
  {
   "cell_type": "markdown",
   "metadata": {},
   "source": [
    "The points are far away from the decision boundary which makes sense. "
   ]
  },
  {
   "cell_type": "markdown",
   "metadata": {
    "slideshow": {
     "slide_type": "slide"
    }
   },
   "source": [
    "#### Over confident cases\n",
    "\n",
    "Let's examine some cases where the model is **confident** about the prediction but the **prediction is wrong**. "
   ]
  },
  {
   "cell_type": "code",
   "execution_count": null,
   "metadata": {},
   "outputs": [],
   "source": [
    "np.where(X_train[:,1] > 55)"
   ]
  },
  {
   "cell_type": "code",
   "execution_count": null,
   "metadata": {},
   "outputs": [],
   "source": [
    "over_confident_X = X_train[[98, 25]]\n",
    "over_confident_X"
   ]
  },
  {
   "cell_type": "code",
   "execution_count": null,
   "metadata": {},
   "outputs": [],
   "source": [
    "over_confident_y = y_train[[0, 1]]\n",
    "over_confident_y"
   ]
  },
  {
   "cell_type": "code",
   "execution_count": null,
   "metadata": {
    "slideshow": {
     "slide_type": "slide"
    }
   },
   "outputs": [],
   "source": [
    "probs = lr.predict_proba(over_confident_X)\n",
    "\n",
    "data_dict = {\n",
    "    \"y\": over_confident_y,\n",
    "    \"y_hat\": lr.predict(over_confident_X).tolist(),\n",
    "    \"probability score (Canada)\": probs[:, 0],\n",
    "    \"probability score (USA)\": probs[:, 1],\n",
    "}\n",
    "pd.DataFrame(data_dict)"
   ]
  },
  {
   "cell_type": "code",
   "execution_count": null,
   "metadata": {
    "slideshow": {
     "slide_type": "slide"
    }
   },
   "outputs": [],
   "source": [
    "mglearn.discrete_scatter(\n",
    "    over_confident_X[:, 0],\n",
    "    over_confident_X[:, 1],\n",
    "    over_confident_y,\n",
    "    markers=\"o\",\n",
    ")\n",
    "mglearn.plots.plot_2d_separator(lr, X_train, fill=True, eps=0.5, alpha=0.5)"
   ]
  },
  {
   "cell_type": "markdown",
   "metadata": {},
   "source": [
    "- The cities are **far away from the decision boundary**. \n",
    "  - So the model is pretty **confident** about the prediction. \n",
    "- But the cities are likely to be from Alaska and our linear model is not able to capture that this part belong to the USA and not Canada."
   ]
  },
  {
   "cell_type": "markdown",
   "metadata": {
    "slideshow": {
     "slide_type": "slide"
    }
   },
   "source": [
    "Below we are using colour to represent prediction probabilities. If you are closer to the border, the model is less confident whereas the model is more confident about the mainland cities, which makes sense.  "
   ]
  },
  {
   "cell_type": "code",
   "execution_count": null,
   "metadata": {
    "slideshow": {
     "slide_type": "slide"
    }
   },
   "outputs": [],
   "source": [
    "fig, axes = plt.subplots(1, 2, figsize=(18, 5))\n",
    "from matplotlib.colors import ListedColormap\n",
    "\n",
    "for ax in axes:\n",
    "    mglearn.discrete_scatter(\n",
    "        X_train[:, 0], X_train[:, 1], y_train, markers=\"o\", ax=ax\n",
    "    )\n",
    "    ax.set_xlabel(\"longitude\")\n",
    "    ax.set_ylabel(\"latitude\")\n",
    "\n",
    "axes[0].legend([\"Train class 0\", \"Train class 1\"], ncol=2, loc=(0.1, 1.1))\n",
    "\n",
    "mglearn.plots.plot_2d_separator(\n",
    "    lr, X_train, fill=True, eps=0.5, ax=axes[0], alpha=0.5\n",
    ")\n",
    "mglearn.plots.plot_2d_separator(\n",
    "    lr, X_train, fill=False, eps=0.5, ax=axes[1], alpha=0.5\n",
    ")\n",
    "scores_image = mglearn.tools.plot_2d_scores(\n",
    "    lr, X_train, eps=0.5, ax=axes[1], alpha=0.5, cm=plt.cm.coolwarm\n",
    ")\n",
    "cbar = plt.colorbar(scores_image, ax=axes.tolist())"
   ]
  },
  {
   "cell_type": "markdown",
   "metadata": {
    "slideshow": {
     "slide_type": "slide"
    }
   },
   "source": [
    "Sometimes a complex model that is overfitted, tends to make more confident predictions, even if they are wrong, whereas a simpler model tends to make predictions with more uncertainty. "
   ]
  },
  {
   "cell_type": "markdown",
   "metadata": {
    "slideshow": {
     "slide_type": "slide"
    }
   },
   "source": [
    "To summarize, \n",
    "- With hard predictions, we only know the class. \n",
    "- With probability scores we know how confident the model is with certain predictions, which can be useful in understanding the model better. "
   ]
  },
  {
   "cell_type": "markdown",
   "metadata": {
    "slideshow": {
     "slide_type": "slide"
    }
   },
   "source": [
    "## ❓❓ Questions for you"
   ]
  },
  {
   "cell_type": "markdown",
   "metadata": {
    "slideshow": {
     "slide_type": "slide"
    }
   },
   "source": [
    "### (iClicker) Exercise 7.2 \n",
    "\n",
    "**iClicker cloud join link: https://join.iclicker.com/EMMJ**\n",
    "\n",
    "**Select all of the following statements which are TRUE.**\n",
    "\n",
    "- (A) Increasing logistic regression's `C` hyperparameter increases model complexity.\n",
    "- (B) The raw output score can be used to calculate the probability score for a given prediction. \n",
    "- (C) For linear classifier trained on $d$ features, the decision boundary is a $d-1$-dimensional hyperparlane.  \n",
    "- (D) A linear model is likely to be uncertain about the data points close to the decision boundary. "
   ]
  },
  {
   "cell_type": "markdown",
   "metadata": {},
   "source": [
    "Answer: ????"
   ]
  },
  {
   "cell_type": "markdown",
   "metadata": {},
   "source": [
    "<br><br><br><br><br><br><br><br>\n",
    "**[Bonus Question] How does Linear Regression (with or without regularizaiton) and Logistic Regression calcualte Weights ($w_i$) and Bias ($b$)?**\n",
    "\n",
    "$\\hat{y} =$ <font color=\"red\">$w_1$</font> <font color=\"blue\">$x_1$ </font> $+ \\dots +$ <font color=\"red\">$w_d$</font> <font color=\"blue\">$x_d$</font> + <font  color=\"green\"> $b$</font>\n",
    "\n",
    "Answers are here: https://scikit-learn.org/stable/modules/linear_model.html#logistic-regression\n",
    "\n",
    "TL;DR: Simplest solver is **Ordinary Least Squares**. \n",
    "\n",
    "<br><br><br><br><br><br><br><br>"
   ]
  },
  {
   "cell_type": "markdown",
   "metadata": {},
   "source": [
    "<br><br><br><br>"
   ]
  },
  {
   "cell_type": "markdown",
   "metadata": {
    "slideshow": {
     "slide_type": "slide"
    }
   },
   "source": [
    "### Linear SVM \n",
    "\n",
    "- We have seen non-linear SVM with **RBF kernel** before. This is the default SVC model in `sklearn` because it tends to work better in many cases. \n",
    "- There is also a **linear SVM**. You can pass `kernel=\"linear\"` to create a linear SVM. "
   ]
  },
  {
   "cell_type": "code",
   "execution_count": null,
   "metadata": {
    "slideshow": {
     "slide_type": "slide"
    }
   },
   "outputs": [],
   "source": [
    "cities_df = pd.read_csv(\"../data/canada_usa_cities.csv\")\n",
    "train_df, test_df = train_test_split(cities_df, test_size=0.2, random_state=123)\n",
    "X_train, y_train = train_df.drop(columns=[\"country\"]).values, train_df[\"country\"].values\n",
    "X_test, y_test = test_df.drop(columns=[\"country\"]).values, test_df[\"country\"].values"
   ]
  },
  {
   "cell_type": "code",
   "execution_count": null,
   "metadata": {
    "slideshow": {
     "slide_type": "slide"
    }
   },
   "outputs": [],
   "source": [
    "fig, axes = plt.subplots(1, 3, figsize=(18, 5))\n",
    "from matplotlib.colors import ListedColormap\n",
    "\n",
    "for (model, ax) in zip([SVC(gamma=0.01), SVC(kernel=\"linear\"), LogisticRegression(C=1)], axes):\n",
    "    mglearn.discrete_scatter(\n",
    "        X_train[:, 0], X_train[:, 1], y_train, markers=\"o\", ax=ax\n",
    "    )\n",
    "    model.fit(X_train, y_train)\n",
    "    ax.set_xlabel(\"longitude\")\n",
    "    ax.set_ylabel(\"latitude\")\n",
    "    mglearn.plots.plot_2d_separator(\n",
    "        model, X_train, fill=True, eps=0.5, ax=ax, alpha=0.5\n",
    "    )\n",
    "\n",
    "axes[0].set_title(\"SVM RBF\")\n",
    "axes[1].set_title(\"Linear SVM\");\n",
    "axes[2].set_title(\"LogisticRegression\");"
   ]
  },
  {
   "cell_type": "markdown",
   "metadata": {
    "slideshow": {
     "slide_type": "slide"
    }
   },
   "source": [
    "- `predict` method of linear SVM and logistic regression works the same way. \n",
    "- We can get `coef_` associated with the features and `intercept_` using a Linear SVM model. "
   ]
  },
  {
   "cell_type": "code",
   "execution_count": null,
   "metadata": {
    "slideshow": {
     "slide_type": "slide"
    }
   },
   "outputs": [],
   "source": [
    "linear_svc = SVC(kernel=\"linear\")\n",
    "linear_svc.fit(X_train, y_train)\n",
    "print(\"Model weights: %s\" % (linear_svc.coef_))\n",
    "print(\"Model bias (intercept): %s\" % (linear_svc.intercept_))"
   ]
  },
  {
   "cell_type": "markdown",
   "metadata": {},
   "source": [
    "<br><br>\n",
    "Let's compare that with Logistic Regression"
   ]
  },
  {
   "cell_type": "code",
   "execution_count": null,
   "metadata": {},
   "outputs": [],
   "source": [
    "lr = LogisticRegression()\n",
    "lr.fit(X_train, y_train)\n",
    "print(\"Model weights: %s\" % (lr.coef_))\n",
    "print(\"Model bias (intercept): %s\" % (lr.intercept_))"
   ]
  },
  {
   "cell_type": "markdown",
   "metadata": {},
   "source": [
    "- Note that the coefficients and intercept are slightly different for logistic regression. \n",
    "- This is because the `fit` for linear SVM and logistic regression are different. "
   ]
  },
  {
   "cell_type": "markdown",
   "metadata": {
    "slideshow": {
     "slide_type": "slide"
    }
   },
   "source": [
    "## Break (5 min)\n",
    "\n",
    "![](../img/eva-coffee.png)\n"
   ]
  },
  {
   "cell_type": "markdown",
   "metadata": {},
   "source": [
    "<br><br><br><br>"
   ]
  },
  {
   "cell_type": "markdown",
   "metadata": {
    "slideshow": {
     "slide_type": "slide"
    }
   },
   "source": [
    "# Demo: Model interpretation of linear classifiers"
   ]
  },
  {
   "cell_type": "markdown",
   "metadata": {
    "slideshow": {
     "slide_type": "slide"
    }
   },
   "source": [
    "- One of the primary advantage of linear classifiers is their ability to **interpret models**. \n",
    "- For example, with the sign and magnitude of learned coefficients we could answer questions such as which features are driving the prediction to which direction. "
   ]
  },
  {
   "cell_type": "markdown",
   "metadata": {
    "slideshow": {
     "slide_type": "slide"
    }
   },
   "source": [
    "- We'll demonstrate this by training `LogisticRegression` on the famous [IMDB movie review](https://www.kaggle.com/lakshmi25npathi/imdb-dataset-of-50k-movie-reviews) dataset. The dataset is a bit large for demonstration purposes. So I am going to put a big portion of it in the test split to speed things up. "
   ]
  },
  {
   "cell_type": "code",
   "execution_count": null,
   "metadata": {},
   "outputs": [],
   "source": [
    "imdb_df = pd.read_csv(\"../data/imdb_master.csv\", encoding=\"ISO-8859-1\")\n",
    "imdb_df = imdb_df[imdb_df[\"label\"].str.startswith((\"pos\", \"neg\"))]\n",
    "imdb_df.drop([\"Unnamed: 0\", \"type\", \"file\"], axis=1, inplace=True)\n",
    "imdb_df.head()"
   ]
  },
  {
   "cell_type": "markdown",
   "metadata": {
    "slideshow": {
     "slide_type": "slide"
    }
   },
   "source": [
    "Let's clean up the data a bit. "
   ]
  },
  {
   "cell_type": "code",
   "execution_count": null,
   "metadata": {
    "slideshow": {
     "slide_type": "-"
    }
   },
   "outputs": [],
   "source": [
    "import re\n",
    "\n",
    "\n",
    "def replace_tags(doc):\n",
    "    doc = doc.replace(\"<br />\", \" \")\n",
    "    doc = re.sub(\"https://\\S*\", \"\", doc)\n",
    "    return doc"
   ]
  },
  {
   "cell_type": "code",
   "execution_count": null,
   "metadata": {
    "slideshow": {
     "slide_type": "-"
    }
   },
   "outputs": [],
   "source": [
    "imdb_df[\"review_pp\"] = imdb_df[\"review\"].apply(replace_tags)"
   ]
  },
  {
   "cell_type": "markdown",
   "metadata": {},
   "source": [
    "Are we breaking the Golden rule here? "
   ]
  },
  {
   "cell_type": "markdown",
   "metadata": {
    "slideshow": {
     "slide_type": "slide"
    }
   },
   "source": [
    "Let's split the data and create bag of words representation. "
   ]
  },
  {
   "cell_type": "code",
   "execution_count": null,
   "metadata": {
    "slideshow": {
     "slide_type": "-"
    }
   },
   "outputs": [],
   "source": [
    "train_df, test_df = train_test_split(imdb_df, test_size=0.9, random_state=123)\n",
    "X_train, y_train = train_df[\"review_pp\"], train_df[\"label\"]\n",
    "X_test, y_test = test_df[\"review_pp\"], test_df[\"label\"]\n",
    "train_df.shape"
   ]
  },
  {
   "cell_type": "code",
   "execution_count": null,
   "metadata": {},
   "outputs": [],
   "source": [
    "vec = CountVectorizer(stop_words=\"english\", max_features=10000)\n",
    "bow = vec.fit_transform(X_train)\n",
    "bow"
   ]
  },
  {
   "cell_type": "markdown",
   "metadata": {
    "slideshow": {
     "slide_type": "slide"
    }
   },
   "source": [
    "## Examining the vocabulary"
   ]
  },
  {
   "cell_type": "markdown",
   "metadata": {
    "slideshow": {
     "slide_type": "slide"
    }
   },
   "source": [
    "- The vocabulary (mapping from feature indices to actual words) can be obtained using `get_feature_names()` on the `CountVectorizer` object. "
   ]
  },
  {
   "cell_type": "code",
   "execution_count": null,
   "metadata": {},
   "outputs": [],
   "source": [
    "vocab = vec.get_feature_names_out()"
   ]
  },
  {
   "cell_type": "code",
   "execution_count": null,
   "metadata": {
    "slideshow": {
     "slide_type": "slide"
    }
   },
   "outputs": [],
   "source": [
    "vocab[0:10]  # first few words"
   ]
  },
  {
   "cell_type": "code",
   "execution_count": null,
   "metadata": {
    "slideshow": {
     "slide_type": "slide"
    }
   },
   "outputs": [],
   "source": [
    "vocab[2000:2010]  # some middle words"
   ]
  },
  {
   "cell_type": "code",
   "execution_count": null,
   "metadata": {
    "slideshow": {
     "slide_type": "slide"
    }
   },
   "outputs": [],
   "source": [
    "vocab[::500]  # words with a step of 500"
   ]
  },
  {
   "cell_type": "markdown",
   "metadata": {
    "slideshow": {
     "slide_type": "slide"
    }
   },
   "source": [
    "## Model building on the dataset "
   ]
  },
  {
   "cell_type": "markdown",
   "metadata": {
    "slideshow": {
     "slide_type": "slide"
    }
   },
   "source": [
    "Let's try logistic regression. "
   ]
  },
  {
   "cell_type": "code",
   "execution_count": null,
   "metadata": {},
   "outputs": [],
   "source": [
    "pipe_lr = make_pipeline(\n",
    "    CountVectorizer(stop_words=\"english\", max_features=10000),\n",
    "    LogisticRegression(max_iter=1000),\n",
    ")\n",
    "scores = cross_validate(pipe_lr, X_train, y_train, return_train_score=True)\n",
    "pd.DataFrame(scores)"
   ]
  },
  {
   "cell_type": "markdown",
   "metadata": {},
   "source": [
    "<br><br><br><br>\n",
    "\n",
    "Seems like we are **overfitting**. Let's optimize the hyperparameter `C`. "
   ]
  },
  {
   "cell_type": "code",
   "execution_count": null,
   "metadata": {
    "slideshow": {
     "slide_type": "slide"
    }
   },
   "outputs": [],
   "source": [
    "scores_dict = {\n",
    "    \"C\": 10.0 ** np.arange(-3, 3, 1),\n",
    "    \"mean_train_scores\": list(),\n",
    "    \"mean_cv_scores\": list(),\n",
    "}\n",
    "for C in scores_dict[\"C\"]:\n",
    "    pipe_lr = make_pipeline(\n",
    "        CountVectorizer(stop_words=\"english\", max_features=10000),\n",
    "        LogisticRegression(max_iter=1000, C=C),\n",
    "    )\n",
    "    scores = cross_validate(pipe_lr, X_train, y_train, return_train_score=True)\n",
    "    scores_dict[\"mean_train_scores\"].append(scores[\"train_score\"].mean())\n",
    "    scores_dict[\"mean_cv_scores\"].append(scores[\"test_score\"].mean())\n",
    "\n",
    "results_df = pd.DataFrame(scores_dict)\n",
    "results_df"
   ]
  },
  {
   "cell_type": "code",
   "execution_count": null,
   "metadata": {
    "slideshow": {
     "slide_type": "slide"
    }
   },
   "outputs": [],
   "source": [
    "optimized_C = results_df[\"C\"].iloc[np.argmax(results_df[\"mean_cv_scores\"])]\n",
    "print(\n",
    "    \"The maximum validation score is %0.3f at C = %0.2f \"\n",
    "    % (\n",
    "        np.max(results_df[\"mean_cv_scores\"]),\n",
    "        optimized_C,\n",
    "    )\n",
    ")"
   ]
  },
  {
   "cell_type": "markdown",
   "metadata": {
    "slideshow": {
     "slide_type": "slide"
    }
   },
   "source": [
    "Let's train a model on the full training set with the optimized hyperparameter values. "
   ]
  },
  {
   "cell_type": "code",
   "execution_count": null,
   "metadata": {
    "slideshow": {
     "slide_type": "slide"
    }
   },
   "outputs": [],
   "source": [
    "pipe_lr = make_pipeline(\n",
    "    CountVectorizer(stop_words=\"english\", max_features=10000),\n",
    "    LogisticRegression(max_iter=1000, C=optimized_C),\n",
    ")\n",
    "pipe_lr.fit(X_train, y_train)"
   ]
  },
  {
   "cell_type": "markdown",
   "metadata": {
    "slideshow": {
     "slide_type": "slide"
    }
   },
   "source": [
    "## Examining learned coefficients "
   ]
  },
  {
   "cell_type": "markdown",
   "metadata": {
    "slideshow": {
     "slide_type": "-"
    }
   },
   "source": [
    "The learned coefficients are exposed by the `coef_` attribute of [LogisticRegression](http://scikit-learn.org/stable/modules/generated/sklearn.linear_model.LogisticRegression.html) object. "
   ]
  },
  {
   "cell_type": "code",
   "execution_count": null,
   "metadata": {},
   "outputs": [],
   "source": [
    "feature_names = np.array(pipe_lr.named_steps[\"countvectorizer\"].get_feature_names_out())\n",
    "coeffs = pipe_lr.named_steps[\"logisticregression\"].coef_.flatten()"
   ]
  },
  {
   "cell_type": "code",
   "execution_count": null,
   "metadata": {},
   "outputs": [],
   "source": [
    "feature_names"
   ]
  },
  {
   "cell_type": "code",
   "execution_count": null,
   "metadata": {},
   "outputs": [],
   "source": [
    "word_coeff_df = pd.DataFrame(coeffs, index=feature_names, columns=[\"Coefficient\"])\n",
    "word_coeff_df"
   ]
  },
  {
   "cell_type": "markdown",
   "metadata": {
    "slideshow": {
     "slide_type": "slide"
    }
   },
   "source": [
    "- Let's sort the coefficients in descending order. \n",
    "- Interpretation\n",
    "    - if $w_j > 0$ then increasing $x_{ij}$ moves us toward predicting $+1$. \n",
    "    - if $w_j < 0$ then increasing $x_{ij}$ moves us toward predicting $-1$. \n"
   ]
  },
  {
   "cell_type": "code",
   "execution_count": null,
   "metadata": {},
   "outputs": [],
   "source": [
    "word_coeff_df.sort_values(by=\"Coefficient\", ascending=False)"
   ]
  },
  {
   "cell_type": "markdown",
   "metadata": {},
   "source": [
    "- The coefficients make sense!"
   ]
  },
  {
   "cell_type": "markdown",
   "metadata": {
    "slideshow": {
     "slide_type": "slide"
    }
   },
   "source": [
    "Let's visualize the top 20 features."
   ]
  },
  {
   "cell_type": "code",
   "execution_count": null,
   "metadata": {},
   "outputs": [],
   "source": [
    "mglearn.tools.visualize_coefficients(coeffs, feature_names, n_top_features=20)"
   ]
  },
  {
   "cell_type": "markdown",
   "metadata": {
    "slideshow": {
     "slide_type": "slide"
    }
   },
   "source": [
    "Let's explore prediction of the following new review. "
   ]
  },
  {
   "cell_type": "code",
   "execution_count": null,
   "metadata": {},
   "outputs": [],
   "source": [
    "fake_review = (\n",
    "    \"It got a bit boring at times but the direction was excellent and the acting was flawless. \"\n",
    "    \"Overall I enjoyed the movie and I highly recommend it!\"\n",
    ")"
   ]
  },
  {
   "cell_type": "code",
   "execution_count": null,
   "metadata": {},
   "outputs": [],
   "source": [
    "feat_vec = pipe_lr.named_steps[\"countvectorizer\"].transform([fake_review])"
   ]
  },
  {
   "cell_type": "code",
   "execution_count": null,
   "metadata": {},
   "outputs": [],
   "source": [
    "feat_vec"
   ]
  },
  {
   "cell_type": "markdown",
   "metadata": {
    "slideshow": {
     "slide_type": "slide"
    }
   },
   "source": [
    "Let's get prediction probability scores of the fake review. "
   ]
  },
  {
   "cell_type": "code",
   "execution_count": null,
   "metadata": {},
   "outputs": [],
   "source": [
    "pipe_lr.predict_proba([fake_review])"
   ]
  },
  {
   "cell_type": "code",
   "execution_count": null,
   "metadata": {},
   "outputs": [],
   "source": [
    "pipe_lr.classes_"
   ]
  },
  {
   "cell_type": "markdown",
   "metadata": {},
   "source": [
    "<br><br><br><br><br>\n",
    "The model is 83.5% confident that it's a **positive** review. "
   ]
  },
  {
   "cell_type": "code",
   "execution_count": null,
   "metadata": {},
   "outputs": [],
   "source": [
    "pipe_lr.predict([fake_review])[0]"
   ]
  },
  {
   "cell_type": "markdown",
   "metadata": {
    "slideshow": {
     "slide_type": "slide"
    }
   },
   "source": [
    "<br><br><br><br>\n",
    "We can find **which of the vocabulary words are present**in this review:"
   ]
  },
  {
   "cell_type": "code",
   "execution_count": null,
   "metadata": {},
   "outputs": [],
   "source": [
    "print(feat_vec)"
   ]
  },
  {
   "cell_type": "code",
   "execution_count": null,
   "metadata": {},
   "outputs": [],
   "source": [
    "feature_names[226], feature_names[1007], feature_names[1133], "
   ]
  },
  {
   "cell_type": "code",
   "execution_count": null,
   "metadata": {},
   "outputs": [],
   "source": [
    "words_in_ex = feat_vec.toarray().ravel().astype(bool)\n",
    "words_in_ex"
   ]
  },
  {
   "cell_type": "markdown",
   "metadata": {},
   "source": [
    "How many of the words are in this review?"
   ]
  },
  {
   "cell_type": "code",
   "execution_count": null,
   "metadata": {},
   "outputs": [],
   "source": [
    "np.sum(words_in_ex)"
   ]
  },
  {
   "cell_type": "code",
   "execution_count": null,
   "metadata": {
    "slideshow": {
     "slide_type": "slide"
    }
   },
   "outputs": [],
   "source": [
    "np.array(feature_names)[words_in_ex]"
   ]
  },
  {
   "cell_type": "code",
   "execution_count": null,
   "metadata": {},
   "outputs": [],
   "source": [
    "ex_df = pd.DataFrame(\n",
    "    data=coeffs[words_in_ex],\n",
    "    index=np.array(feature_names)[words_in_ex],\n",
    "    columns=[\"Coefficient\"],\n",
    ")\n",
    "ex_df"
   ]
  },
  {
   "cell_type": "markdown",
   "metadata": {},
   "source": [
    "<br><br><br><br><br>"
   ]
  },
  {
   "cell_type": "markdown",
   "metadata": {
    "slideshow": {
     "slide_type": "slide"
    }
   },
   "source": [
    "Let's visualize how the words with positive and negative coefficients are driving the hard prediction. "
   ]
  },
  {
   "cell_type": "code",
   "execution_count": null,
   "metadata": {},
   "outputs": [],
   "source": [
    "mglearn.tools.visualize_coefficients(\n",
    "    coeffs[words_in_ex], np.array(feature_names)[words_in_ex], n_top_features=6\n",
    ")"
   ]
  },
  {
   "cell_type": "code",
   "execution_count": null,
   "metadata": {
    "slideshow": {
     "slide_type": "slide"
    }
   },
   "outputs": [],
   "source": [
    "# Just some helper function to further explore data\n",
    "def plot_coeff_example(feat_vect, coeffs, feature_names):\n",
    "    words_in_ex = feat_vec.toarray().ravel().astype(bool)\n",
    "\n",
    "    ex_df = pd.DataFrame(\n",
    "        data=coeffs[words_in_ex],\n",
    "        index=np.array(feature_names)[words_in_ex],\n",
    "        columns=[\"Coefficient\"],\n",
    "    )\n",
    "    return ex_df"
   ]
  },
  {
   "cell_type": "markdown",
   "metadata": {},
   "source": [
    "----------\n",
    "**[ Read this section at home on your own ]**"
   ]
  },
  {
   "cell_type": "markdown",
   "metadata": {
    "slideshow": {
     "slide_type": "slide"
    }
   },
   "source": [
    "### Most positive review "
   ]
  },
  {
   "cell_type": "markdown",
   "metadata": {},
   "source": [
    "- Remember that you can look at the probabilities (confidence) of the classifier's prediction using the `model.predict_proba` method.\n",
    "- Can we find the reviews where our classifier is most confident or least confident?"
   ]
  },
  {
   "cell_type": "code",
   "execution_count": null,
   "metadata": {},
   "outputs": [],
   "source": [
    "pos_probs = pipe_lr.predict_proba(X_train)[\n",
    "    :, 1\n",
    "]  # only get probabilities associated with pos class\n",
    "pos_probs"
   ]
  },
  {
   "cell_type": "markdown",
   "metadata": {
    "slideshow": {
     "slide_type": "slide"
    }
   },
   "source": [
    "Let's get the index of the example where the classifier is most confident (highest `predict_proba` score for positive). "
   ]
  },
  {
   "cell_type": "code",
   "execution_count": null,
   "metadata": {},
   "outputs": [],
   "source": [
    "most_positive = np.argmax(pos_probs)"
   ]
  },
  {
   "cell_type": "code",
   "execution_count": null,
   "metadata": {},
   "outputs": [],
   "source": [
    "X_train.iloc[most_positive]"
   ]
  },
  {
   "cell_type": "code",
   "execution_count": null,
   "metadata": {
    "slideshow": {
     "slide_type": "slide"
    }
   },
   "outputs": [],
   "source": [
    "print(\"True target: %s\\n\" % (y_train.iloc[most_positive]))\n",
    "print(\"Predicted target: %s\\n\" % (pipe_lr.predict(X_train.iloc[[most_positive]])[0]))\n",
    "print(\"Prediction probability: %0.4f\" % (pos_probs[most_positive]))"
   ]
  },
  {
   "cell_type": "markdown",
   "metadata": {
    "slideshow": {
     "slide_type": "slide"
    }
   },
   "source": [
    "Let's examine the features associated with the review. "
   ]
  },
  {
   "cell_type": "code",
   "execution_count": null,
   "metadata": {},
   "outputs": [],
   "source": [
    "feat_vec = pipe_lr.named_steps[\"countvectorizer\"].transform(\n",
    "    X_train.iloc[[most_positive]]\n",
    ")\n",
    "words_in_ex = feat_vec.toarray().ravel().astype(bool)\n",
    "mglearn.tools.visualize_coefficients(\n",
    "    coeffs[words_in_ex], np.array(feature_names)[words_in_ex], n_top_features=20\n",
    ")"
   ]
  },
  {
   "cell_type": "markdown",
   "metadata": {},
   "source": [
    "The review has both positive and negative words but the words with **positive** coefficients win in this case! "
   ]
  },
  {
   "cell_type": "markdown",
   "metadata": {
    "slideshow": {
     "slide_type": "slide"
    }
   },
   "source": [
    "### Most negative review "
   ]
  },
  {
   "cell_type": "code",
   "execution_count": null,
   "metadata": {},
   "outputs": [],
   "source": [
    "neg_probs = pipe_lr.predict_proba(X_train)[\n",
    "    :, 0\n",
    "]  # only get probabilities associated with pos class\n",
    "neg_probs"
   ]
  },
  {
   "cell_type": "code",
   "execution_count": null,
   "metadata": {},
   "outputs": [],
   "source": [
    "most_negative = np.argmax(neg_probs)"
   ]
  },
  {
   "cell_type": "code",
   "execution_count": null,
   "metadata": {
    "slideshow": {
     "slide_type": "slide"
    }
   },
   "outputs": [],
   "source": [
    "print(\"Review: %s\\n\" % (X_train.iloc[[most_negative]]))\n",
    "print(\"True target: %s\\n\" % (y_train.iloc[most_negative]))\n",
    "print(\"Predicted target: %s\\n\" % (pipe_lr.predict(X_train.iloc[[most_negative]])[0]))\n",
    "print(\"Prediction probability: %0.4f\" % (pos_probs[most_negative]))"
   ]
  },
  {
   "cell_type": "code",
   "execution_count": null,
   "metadata": {
    "slideshow": {
     "slide_type": "slide"
    }
   },
   "outputs": [],
   "source": [
    "feat_vec = pipe_lr.named_steps[\"countvectorizer\"].transform(\n",
    "    X_train.iloc[[most_negative]]\n",
    ")\n",
    "words_in_ex = feat_vec.toarray().ravel().astype(bool)\n",
    "mglearn.tools.visualize_coefficients(\n",
    "    coeffs[words_in_ex], np.array(feature_names)[words_in_ex], n_top_features=20\n",
    ")"
   ]
  },
  {
   "cell_type": "markdown",
   "metadata": {},
   "source": [
    "The review has both positive and negative words but the words with negative coefficients win in this case! \n",
    "\n",
    "-----------\n",
    "\n",
    "<br><br><br><br><br><br><br><br><br>"
   ]
  },
  {
   "cell_type": "markdown",
   "metadata": {
    "slideshow": {
     "slide_type": "slide"
    }
   },
   "source": [
    "## ❓❓ Questions for you"
   ]
  },
  {
   "cell_type": "markdown",
   "metadata": {
    "slideshow": {
     "slide_type": "-"
    },
    "tags": []
   },
   "source": [
    "#### Question for you to ponder on \n",
    "\n",
    "- Is it possible to identify **most important features** using $k$-NNs? What about decision trees?  \n"
   ]
  },
  {
   "cell_type": "markdown",
   "metadata": {
    "slideshow": {
     "slide_type": "skip"
    }
   },
   "source": [
    "<br><br><br><br>"
   ]
  },
  {
   "cell_type": "markdown",
   "metadata": {
    "slideshow": {
     "slide_type": "slide"
    }
   },
   "source": [
    "## Summary of linear models \n",
    "\n",
    "- Linear regression is a linear model for regression whereas logistic regression is a linear model for classification. \n",
    "- Both these models learn one coefficient per feature, plus an intercept. "
   ]
  },
  {
   "cell_type": "markdown",
   "metadata": {
    "slideshow": {
     "slide_type": "skip"
    }
   },
   "source": [
    "### Main hyperparameters \n",
    "- The main hyperparameter is the \"***regularization**\" hyperparameter controlling the fundamental tradeoff. \n",
    "    - Logistic Regression: `C`\n",
    "    - Linear SVM: `C` \n",
    "    - Ridge: `alpha`"
   ]
  },
  {
   "cell_type": "markdown",
   "metadata": {
    "slideshow": {
     "slide_type": "slide"
    }
   },
   "source": [
    "### Interpretation of coefficients in linear models \n",
    "- the $j$th coefficient tells us how feature $j$ affects the prediction\n",
    "- if $w_j > 0$ then increasing $x_{ij}$ moves us toward predicting $+1$\n",
    "- if $w_j < 0$ then increasing $x_{ij}$ moves us toward prediction $-1$\n",
    "- if $w_j == 0$ then the feature is not used in making a prediction"
   ]
  },
  {
   "cell_type": "markdown",
   "metadata": {
    "slideshow": {
     "slide_type": "slide"
    }
   },
   "source": [
    "### Strengths of linear models \n",
    "\n",
    "- **Fast** to train and predict\n",
    "- **Scale** to large datasets and work well with sparse data \n",
    "- Relatively easy to understand and **interpret** the predictions\n",
    "- **Perform relatively well (or OK!)** when there is a large number of features "
   ]
  },
  {
   "cell_type": "markdown",
   "metadata": {
    "slideshow": {
     "slide_type": "slide"
    }
   },
   "source": [
    "### Limitations of linear models \n",
    "\n",
    "- Is your data \"linearly separable\"? \n",
    "  - Can you draw a hyperplane between these datapoints that separates them with 0 error?\n",
    "    - If the training examples can be separated by a linear decision rule, they are **linearly separable**.\n",
    "- Linear models fail if data is complex and **NOT** linearly separable or  **NO linear relationship** between features and target.\n"
   ]
  },
  {
   "cell_type": "markdown",
   "metadata": {
    "slideshow": {
     "slide_type": "slide"
    }
   },
   "source": [
    "\n",
    "A few questions you might be thinking about\n",
    "- How often the real-life data is linearly separable?\n",
    "- Is the following XOR function linearly separable?  \n",
    "\n",
    "| $$x_1$$ | $$x_2$$ | target|\n",
    "|---------|---------|---------|\n",
    "| 0 | 0  | 0|\n",
    "| 0 | 1  | 1|\n",
    "| 1 | 0  | 1|\n",
    "| 1 | 1  | 0|    \n",
    "\n",
    "- Are linear classifiers very limiting because of this?     "
   ]
  }
 ],
 "metadata": {
  "celltoolbar": "Slideshow",
  "kernelspec": {
   "display_name": "Python 3 (ipykernel)",
   "language": "python",
   "name": "python3"
  },
  "language_info": {
   "codemirror_mode": {
    "name": "ipython",
    "version": 3
   },
   "file_extension": ".py",
   "mimetype": "text/x-python",
   "name": "python",
   "nbconvert_exporter": "python",
   "pygments_lexer": "ipython3",
   "version": "3.10.0"
  },
  "toc-autonumbering": true
 },
 "nbformat": 4,
 "nbformat_minor": 4
}

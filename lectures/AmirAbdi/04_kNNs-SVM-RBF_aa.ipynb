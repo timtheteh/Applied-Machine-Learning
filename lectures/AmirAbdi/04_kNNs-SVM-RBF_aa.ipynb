{
 "cells": [
  {
   "cell_type": "markdown",
   "metadata": {
    "slideshow": {
     "slide_type": "slide"
    }
   },
   "source": [
    "![](../img/330-banner.png)"
   ]
  },
  {
   "cell_type": "markdown",
   "metadata": {
    "slideshow": {
     "slide_type": "-"
    }
   },
   "source": [
    "Lecture 4: $k$-Nearest Neighbours and SVM RBFs  \n",
    "------------\n",
    "UBC 2022-23 W2\n",
    "\n",
    "Instructor: Amir Abdi\n",
    "\n",
    "iclicker link: https://join.iclicker.com/EMMJ <img src=\"img_aa/iclicker_qr_code.png\" height=\"300\" width=\"300\"> \n",
    "\n",
    "<!--\n",
    "replace (img/ wih (../img/  \n",
    "replace https://join.iclicker.com/3DP5H with https://join.iclicker.com/EMMJ\n",
    "replace \"data/ with \"../data\n",
    "copy legends\n",
    "copy setup cell\n",
    "-->"
   ]
  },
  {
   "cell_type": "markdown",
   "metadata": {
    "slideshow": {
     "slide_type": "slide"
    }
   },
   "source": [
    "## Announcements\n",
    "\n",
    "- hw2 deadline is Jan 23, 11:59pm\n",
    "- [Last day to withdraw without a W standing](https://students.ubc.ca/enrolment/dates-deadlines#2022-23-winter-session-term-2): Jan 23, 2023\n"
   ]
  },
  {
   "cell_type": "markdown",
   "metadata": {},
   "source": [
    "<br><br>"
   ]
  },
  {
   "cell_type": "markdown",
   "metadata": {
    "slideshow": {
     "slide_type": "skip"
    }
   },
   "source": [
    "### Learning outcomes\n",
    "\n",
    "From this lecture, you will be able to \n",
    "\n",
    "- explain the notion of **similarity-based algorithms**; \n",
    "- broadly describe how **$k$-NN** use distances; \n",
    "- discuss the effect of using a small/large value of the hyperparameter $k$ when using the $k$-NN algorithm; \n",
    "- describe the problem of **curse of dimensionality**; \n",
    "- explain the general idea of **SVMs** and **RBF kernel**;\n",
    "  - broadly describe the relation of `gamma` and `C` hyperparameters of SVMs with the fundamental tradeoff."
   ]
  },
  {
   "cell_type": "markdown",
   "metadata": {},
   "source": [
    "<br><br>"
   ]
  },
  {
   "cell_type": "markdown",
   "metadata": {
    "slideshow": {
     "slide_type": "slide"
    },
    "tags": []
   },
   "source": [
    "### Quick recap\n",
    "\n",
    "After last session you should know the following; if you don't go back and re-read the content:\n",
    "- **Train/Valid/Test** datasets and how they help you make better predictions on Prod data.\n",
    "- **Over-fitting** vs. **Under-fitting**\n",
    "- The **Bias** vs. **Variance** Tradeoff\n",
    "- **Golden rule of ML** (not look at test data too often)\n",
    "\n",
    "<img src=\"https://miro.medium.com/max/1240/1*feFntGUIiob7MwUX62jdCg.webp\" height=\"500\" width=\"500\"> \n",
    "\n",
    "Source: https://prvnk10.medium.com/bias-variance-tradeoff-ebf13adcea42\n",
    "\n",
    "\n",
    "Total Error of the model = $Bias_{error} + Variance_{error} + \\sigma$ \n",
    "- **Bias** of the learning method: error of simplifying assumptions built into the method (e.g. DecisionTree is a simplifying assumption)\n",
    "- **Variance** of the learning method: How much the learning method will move around its mean **as the data changes**\n",
    "- **Irreducible error**: When `X` doesn't fully determine `y`"
   ]
  },
  {
   "cell_type": "markdown",
   "metadata": {},
   "source": [
    "## Legends\n",
    "\n",
    "\n",
    "    \n",
    "| <img src=\"https://upload.wikimedia.org/wikipedia/commons/f/f8/This_is_the_photo_of_Arthur_Samuel.jpg\" width=\"100\"> | <img src=\"http://www.cs.cmu.edu/~tom/TomHead2-6-22-22.jpg\" width=\"100\">  | <img src=\"https://upload.wikimedia.org/wikipedia/commons/4/49/John_McCarthy_Stanford.jpg\" width=\"100\"> |\n",
    "| :-----------: | :-----------: | :-----------: |\n",
    "| Arthur Samuel       | Tom Mitchell       |John McCarthy|\n",
    "| (1901-1990)    | 1951 - Now       |  1927 – 2011 |\n",
    "| First computer learning program | 1997 ML Texbook, CMU Prof | Co-coined term AI, Lisp,<br> Time-sharing, Garbage collection\n",
    "\n"
   ]
  },
  {
   "cell_type": "markdown",
   "metadata": {},
   "source": [
    "<br><br>"
   ]
  },
  {
   "cell_type": "markdown",
   "metadata": {},
   "source": [
    "<br><br>"
   ]
  },
  {
   "cell_type": "markdown",
   "metadata": {
    "slideshow": {
     "slide_type": "slide"
    }
   },
   "source": [
    "---------------\n",
    "If you want to run this notebook you will have to install `ipywidgets`. \n",
    "Follow the installation instructions [here](https://ipywidgets.readthedocs.io/en/latest/user_install.html).\n",
    "\n",
    "---------------"
   ]
  },
  {
   "cell_type": "code",
   "execution_count": 1,
   "metadata": {
    "pycharm": {
     "is_executing": true
    },
    "slideshow": {
     "slide_type": "skip"
    },
    "tags": []
   },
   "outputs": [
    {
     "name": "stdout",
     "output_type": "stream",
     "text": [
      "Requirement already satisfied: ipywidgets in /Users/amirabdi/miniconda3/envs/cpsc330/lib/python3.10/site-packages (8.0.4)\n",
      "Requirement already satisfied: widgetsnbextension~=4.0 in /Users/amirabdi/miniconda3/envs/cpsc330/lib/python3.10/site-packages (from ipywidgets) (4.0.5)\n",
      "Requirement already satisfied: jupyterlab-widgets~=3.0 in /Users/amirabdi/miniconda3/envs/cpsc330/lib/python3.10/site-packages (from ipywidgets) (3.0.5)\n",
      "Requirement already satisfied: ipykernel>=4.5.1 in /Users/amirabdi/miniconda3/envs/cpsc330/lib/python3.10/site-packages (from ipywidgets) (6.14.0)\n",
      "Requirement already satisfied: ipython>=6.1.0 in /Users/amirabdi/miniconda3/envs/cpsc330/lib/python3.10/site-packages (from ipywidgets) (8.4.0)\n",
      "Requirement already satisfied: traitlets>=4.3.1 in /Users/amirabdi/miniconda3/envs/cpsc330/lib/python3.10/site-packages (from ipywidgets) (5.8.0)\n",
      "Requirement already satisfied: debugpy>=1.0 in /Users/amirabdi/miniconda3/envs/cpsc330/lib/python3.10/site-packages (from ipykernel>=4.5.1->ipywidgets) (1.6.5)\n",
      "Requirement already satisfied: matplotlib-inline>=0.1 in /Users/amirabdi/miniconda3/envs/cpsc330/lib/python3.10/site-packages (from ipykernel>=4.5.1->ipywidgets) (0.1.6)\n",
      "Requirement already satisfied: psutil in /Users/amirabdi/miniconda3/envs/cpsc330/lib/python3.10/site-packages (from ipykernel>=4.5.1->ipywidgets) (5.9.4)\n",
      "Requirement already satisfied: nest-asyncio in /Users/amirabdi/miniconda3/envs/cpsc330/lib/python3.10/site-packages (from ipykernel>=4.5.1->ipywidgets) (1.5.6)\n",
      "Requirement already satisfied: jupyter-client>=6.1.12 in /Users/amirabdi/miniconda3/envs/cpsc330/lib/python3.10/site-packages (from ipykernel>=4.5.1->ipywidgets) (7.4.8)\n",
      "Requirement already satisfied: tornado>=6.1 in /Users/amirabdi/miniconda3/envs/cpsc330/lib/python3.10/site-packages (from ipykernel>=4.5.1->ipywidgets) (6.2)\n",
      "Requirement already satisfied: appnope in /Users/amirabdi/miniconda3/envs/cpsc330/lib/python3.10/site-packages (from ipykernel>=4.5.1->ipywidgets) (0.1.3)\n",
      "Requirement already satisfied: packaging in /Users/amirabdi/miniconda3/envs/cpsc330/lib/python3.10/site-packages (from ipykernel>=4.5.1->ipywidgets) (22.0)\n",
      "Requirement already satisfied: pygments>=2.4.0 in /Users/amirabdi/miniconda3/envs/cpsc330/lib/python3.10/site-packages (from ipython>=6.1.0->ipywidgets) (2.14.0)\n",
      "Requirement already satisfied: stack-data in /Users/amirabdi/miniconda3/envs/cpsc330/lib/python3.10/site-packages (from ipython>=6.1.0->ipywidgets) (0.6.2)\n",
      "Requirement already satisfied: prompt-toolkit!=3.0.0,!=3.0.1,<3.1.0,>=2.0.0 in /Users/amirabdi/miniconda3/envs/cpsc330/lib/python3.10/site-packages (from ipython>=6.1.0->ipywidgets) (3.0.36)\n",
      "Requirement already satisfied: backcall in /Users/amirabdi/miniconda3/envs/cpsc330/lib/python3.10/site-packages (from ipython>=6.1.0->ipywidgets) (0.2.0)\n",
      "Requirement already satisfied: decorator in /Users/amirabdi/miniconda3/envs/cpsc330/lib/python3.10/site-packages (from ipython>=6.1.0->ipywidgets) (5.1.1)\n",
      "Requirement already satisfied: pexpect>4.3 in /Users/amirabdi/miniconda3/envs/cpsc330/lib/python3.10/site-packages (from ipython>=6.1.0->ipywidgets) (4.8.0)\n",
      "Requirement already satisfied: pickleshare in /Users/amirabdi/miniconda3/envs/cpsc330/lib/python3.10/site-packages (from ipython>=6.1.0->ipywidgets) (0.7.5)\n",
      "Requirement already satisfied: setuptools>=18.5 in /Users/amirabdi/miniconda3/envs/cpsc330/lib/python3.10/site-packages (from ipython>=6.1.0->ipywidgets) (65.6.3)\n",
      "Requirement already satisfied: jedi>=0.16 in /Users/amirabdi/miniconda3/envs/cpsc330/lib/python3.10/site-packages (from ipython>=6.1.0->ipywidgets) (0.18.2)\n",
      "Requirement already satisfied: parso<0.9.0,>=0.8.0 in /Users/amirabdi/miniconda3/envs/cpsc330/lib/python3.10/site-packages (from jedi>=0.16->ipython>=6.1.0->ipywidgets) (0.8.3)\n",
      "Requirement already satisfied: entrypoints in /Users/amirabdi/miniconda3/envs/cpsc330/lib/python3.10/site-packages (from jupyter-client>=6.1.12->ipykernel>=4.5.1->ipywidgets) (0.4)\n",
      "Requirement already satisfied: python-dateutil>=2.8.2 in /Users/amirabdi/miniconda3/envs/cpsc330/lib/python3.10/site-packages (from jupyter-client>=6.1.12->ipykernel>=4.5.1->ipywidgets) (2.8.2)\n",
      "Requirement already satisfied: jupyter-core>=4.9.2 in /Users/amirabdi/miniconda3/envs/cpsc330/lib/python3.10/site-packages (from jupyter-client>=6.1.12->ipykernel>=4.5.1->ipywidgets) (5.1.2)\n",
      "Requirement already satisfied: pyzmq>=23.0 in /Users/amirabdi/miniconda3/envs/cpsc330/lib/python3.10/site-packages (from jupyter-client>=6.1.12->ipykernel>=4.5.1->ipywidgets) (24.0.1)\n",
      "Requirement already satisfied: ptyprocess>=0.5 in /Users/amirabdi/miniconda3/envs/cpsc330/lib/python3.10/site-packages (from pexpect>4.3->ipython>=6.1.0->ipywidgets) (0.7.0)\n",
      "Requirement already satisfied: wcwidth in /Users/amirabdi/miniconda3/envs/cpsc330/lib/python3.10/site-packages (from prompt-toolkit!=3.0.0,!=3.0.1,<3.1.0,>=2.0.0->ipython>=6.1.0->ipywidgets) (0.2.5)\n",
      "Requirement already satisfied: asttokens>=2.1.0 in /Users/amirabdi/miniconda3/envs/cpsc330/lib/python3.10/site-packages (from stack-data->ipython>=6.1.0->ipywidgets) (2.2.1)\n",
      "Requirement already satisfied: pure-eval in /Users/amirabdi/miniconda3/envs/cpsc330/lib/python3.10/site-packages (from stack-data->ipython>=6.1.0->ipywidgets) (0.2.2)\n",
      "Requirement already satisfied: executing>=1.2.0 in /Users/amirabdi/miniconda3/envs/cpsc330/lib/python3.10/site-packages (from stack-data->ipython>=6.1.0->ipywidgets) (1.2.0)\n",
      "Requirement already satisfied: six in /Users/amirabdi/miniconda3/envs/cpsc330/lib/python3.10/site-packages (from asttokens>=2.1.0->stack-data->ipython>=6.1.0->ipywidgets) (1.16.0)\n",
      "Requirement already satisfied: platformdirs>=2.5 in /Users/amirabdi/miniconda3/envs/cpsc330/lib/python3.10/site-packages (from jupyter-core>=4.9.2->jupyter-client>=6.1.12->ipykernel>=4.5.1->ipywidgets) (2.6.2)\n"
     ]
    }
   ],
   "source": [
    "# Setup\n",
    "\n",
    "# install ipywidgets if not already installed\n",
    "!pip install ipywidgets\n",
    "\n",
    "# Some helper functions to save us time\n",
    "import sys\n",
    "sys.path.append(\"../code/.\")\n",
    "\n",
    "import glob\n",
    "import matplotlib.pyplot as plt\n",
    "from IPython.display import HTML\n",
    "import pandas as pd\n",
    "import numpy as np\n",
    "import mglearn\n",
    "\n",
    "plt.rcParams[\"font.size\"] = 16\n",
    "pd.set_option(\"display.max_colwidth\", 200)"
   ]
  },
  {
   "cell_type": "markdown",
   "metadata": {
    "slideshow": {
     "slide_type": "slide"
    }
   },
   "source": [
    "# Motivation and distances [[video](https://youtu.be/hCa3EXEUmQk)]"
   ]
  },
  {
   "cell_type": "markdown",
   "metadata": {
    "slideshow": {
     "slide_type": "slide"
    }
   },
   "source": [
    "## Similarity (Analogy)-based models\n",
    "\n",
    "- Suppose you are given the following training examples with corresponding labels and are asked to label a given test example.\n",
    "\n",
    "![](../img/knn-motivation.png)\n",
    "<!-- <img src='./img/knn-motivation.png' width=\"1000\"> -->\n",
    "\n",
    "source of image: https://vipl.ict.ac.cn/en/database.php\n",
    "\n",
    "- An intuitive way to classify the test example is by finding the most \"similar\" example(s) from the training set and using that label for the test example.  "
   ]
  },
  {
   "cell_type": "markdown",
   "metadata": {
    "slideshow": {
     "slide_type": "slide"
    }
   },
   "source": [
    "### Analogy-based algorithms in practice\n",
    "\n",
    "- High-tech Facial Recognition\n",
    "    - Feature vectors for human faces \n",
    "    - $k$-NN to identify which face is on their watch list\n",
    "- Recommendation systems     \n",
    "- Modern Machine Learning: Embeddings of a Large Language model (e.g. GPT) to find similar documents to a given document"
   ]
  },
  {
   "cell_type": "markdown",
   "metadata": {
    "slideshow": {
     "slide_type": "slide"
    }
   },
   "source": [
    "### General idea of $k$-nearest neighbours algorithm\n",
    "\n",
    "- Consider the following toy dataset with two classes.\n",
    "    - blue circles $\\rightarrow$ class 0\n",
    "    - red triangles $\\rightarrow$ class 1 \n",
    "    - green stars $\\rightarrow$ test examples"
   ]
  },
  {
   "cell_type": "code",
   "execution_count": 2,
   "metadata": {
    "slideshow": {
     "slide_type": "-"
    }
   },
   "outputs": [
    {
     "name": "stderr",
     "output_type": "stream",
     "text": [
      "/Users/amirabdi/miniconda3/envs/cpsc330/lib/python3.10/site-packages/sklearn/utils/deprecation.py:87: FutureWarning: Function make_blobs is deprecated; Please import make_blobs directly from scikit-learn\n",
      "  warnings.warn(msg, category=FutureWarning)\n"
     ]
    }
   ],
   "source": [
    "X, y = mglearn.datasets.make_forge()\n",
    "X_test = np.array([[8.2, 3.66214339], [9.9, 3.2], [11.2, 0.5]])"
   ]
  },
  {
   "cell_type": "code",
   "execution_count": 3,
   "metadata": {},
   "outputs": [
    {
     "data": {
      "image/png": "[encoded data removed]",
      "text/plain": [
       "<Figure size 640x480 with 1 Axes>"
      ]
     },
     "metadata": {},
     "output_type": "display_data"
    }
   ],
   "source": [
    "from plotting_functions import plot_train_test_points\n",
    "plot_train_test_points(X, y, X_test)"
   ]
  },
  {
   "cell_type": "markdown",
   "metadata": {
    "slideshow": {
     "slide_type": "slide"
    }
   },
   "source": [
    "- Given a new data point, predict the class of the data point by finding the \"**closest**\" data point in the training set,   \n",
    "  - Decide the class based on similarity by finding its \"**nearest neighbour**\" or \n",
    "  - **majority vote** of nearest neighbours. "
   ]
  },
  {
   "cell_type": "code",
   "execution_count": 4,
   "metadata": {
    "slideshow": {
     "slide_type": "-"
    }
   },
   "outputs": [],
   "source": [
    "from plotting_functions import plot_knn_clf\n",
    "def f(n_neighbors):\n",
    "    return plot_knn_clf(X, y, X_test, n_neighbors=n_neighbors)"
   ]
  },
  {
   "cell_type": "code",
   "execution_count": 5,
   "metadata": {},
   "outputs": [
    {
     "data": {
      "application/vnd.jupyter.widget-view+json": {
       "model_id": "587762d635834bab80b8f6c6ca825155",
       "version_major": 2,
       "version_minor": 0
      },
      "text/plain": [
       "interactive(children=(IntSlider(value=1, description='n_neighbors', max=10, min=1, step=2), Output()), _dom_cl…"
      ]
     },
     "execution_count": 5,
     "metadata": {},
     "output_type": "execute_result"
    }
   ],
   "source": [
    "import ipywidgets as widgets\n",
    "from ipywidgets import interact, interactive\n",
    "interactive(\n",
    "    f,\n",
    "    n_neighbors=widgets.IntSlider(min=1, max=10, step=2, value=1),\n",
    ")"
   ]
  },
  {
   "cell_type": "markdown",
   "metadata": {
    "slideshow": {
     "slide_type": "slide"
    },
    "tags": []
   },
   "source": [
    "## Geometric view of features (What is a Dimension?)\n",
    "\n",
    "- To understand similarity (analogy)-based algorithms it's useful to think of data as points in a high dimensional space. \n",
    "- Our `X` represents the problem in terms of relevant **features** ($d$) with one dimension for each **feature** (column).\n",
    "- Examples are **points in a $d$-dimensional space**. "
   ]
  },
  {
   "cell_type": "markdown",
   "metadata": {
    "slideshow": {
     "slide_type": "-"
    }
   },
   "source": [
    "How many dimensions (features) are there in the cities data?"
   ]
  },
  {
   "cell_type": "code",
   "execution_count": 7,
   "metadata": {
    "slideshow": {
     "slide_type": "-"
    }
   },
   "outputs": [],
   "source": [
    "cities_df = pd.read_csv(\"../data/canada_usa_cities.csv\")\n",
    "X_cities = cities_df[[\"longitude\", \"latitude\"]]\n",
    "y_cities = cities_df[\"country\"]"
   ]
  },
  {
   "cell_type": "code",
   "execution_count": 8,
   "metadata": {
    "slideshow": {
     "slide_type": "slide"
    }
   },
   "outputs": [
    {
     "data": {
      "image/png": "[encoded data removed]",
      "text/plain": [
       "<Figure size 640x480 with 1 Axes>"
      ]
     },
     "metadata": {},
     "output_type": "display_data"
    }
   ],
   "source": [
    "mglearn.discrete_scatter(X_cities.iloc[:, 0], X_cities.iloc[:, 1], y_cities)\n",
    "plt.xlabel(\"longitude\")\n",
    "plt.ylabel(\"latitude\");"
   ]
  },
  {
   "cell_type": "markdown",
   "metadata": {
    "slideshow": {
     "slide_type": "slide"
    }
   },
   "source": [
    "In the [Spotify Song Attributes](https://www.kaggle.com/geomack/spotifyclassification/home), how many dimensions does it have?\n"
   ]
  },
  {
   "cell_type": "code",
   "execution_count": 9,
   "metadata": {
    "slideshow": {
     "slide_type": "-"
    }
   },
   "outputs": [
    {
     "data": {
      "text/html": [
       "<div>\n",
       "<style scoped>\n",
       "    .dataframe tbody tr th:only-of-type {\n",
       "        vertical-align: middle;\n",
       "    }\n",
       "\n",
       "    .dataframe tbody tr th {\n",
       "        vertical-align: top;\n",
       "    }\n",
       "\n",
       "    .dataframe thead th {\n",
       "        text-align: right;\n",
       "    }\n",
       "</style>\n",
       "<table border=\"1\" class=\"dataframe\">\n",
       "  <thead>\n",
       "    <tr style=\"text-align: right;\">\n",
       "      <th></th>\n",
       "      <th>acousticness</th>\n",
       "      <th>danceability</th>\n",
       "      <th>duration_ms</th>\n",
       "      <th>energy</th>\n",
       "      <th>instrumentalness</th>\n",
       "      <th>key</th>\n",
       "      <th>liveness</th>\n",
       "      <th>loudness</th>\n",
       "      <th>mode</th>\n",
       "      <th>speechiness</th>\n",
       "      <th>tempo</th>\n",
       "      <th>time_signature</th>\n",
       "      <th>valence</th>\n",
       "    </tr>\n",
       "  </thead>\n",
       "  <tbody>\n",
       "    <tr>\n",
       "      <th>0</th>\n",
       "      <td>0.0102</td>\n",
       "      <td>0.833</td>\n",
       "      <td>204600</td>\n",
       "      <td>0.434</td>\n",
       "      <td>0.021900</td>\n",
       "      <td>2</td>\n",
       "      <td>0.1650</td>\n",
       "      <td>-8.795</td>\n",
       "      <td>1</td>\n",
       "      <td>0.4310</td>\n",
       "      <td>150.062</td>\n",
       "      <td>4.0</td>\n",
       "      <td>0.286</td>\n",
       "    </tr>\n",
       "    <tr>\n",
       "      <th>1</th>\n",
       "      <td>0.1990</td>\n",
       "      <td>0.743</td>\n",
       "      <td>326933</td>\n",
       "      <td>0.359</td>\n",
       "      <td>0.006110</td>\n",
       "      <td>1</td>\n",
       "      <td>0.1370</td>\n",
       "      <td>-10.401</td>\n",
       "      <td>1</td>\n",
       "      <td>0.0794</td>\n",
       "      <td>160.083</td>\n",
       "      <td>4.0</td>\n",
       "      <td>0.588</td>\n",
       "    </tr>\n",
       "    <tr>\n",
       "      <th>2</th>\n",
       "      <td>0.0344</td>\n",
       "      <td>0.838</td>\n",
       "      <td>185707</td>\n",
       "      <td>0.412</td>\n",
       "      <td>0.000234</td>\n",
       "      <td>2</td>\n",
       "      <td>0.1590</td>\n",
       "      <td>-7.148</td>\n",
       "      <td>1</td>\n",
       "      <td>0.2890</td>\n",
       "      <td>75.044</td>\n",
       "      <td>4.0</td>\n",
       "      <td>0.173</td>\n",
       "    </tr>\n",
       "    <tr>\n",
       "      <th>3</th>\n",
       "      <td>0.6040</td>\n",
       "      <td>0.494</td>\n",
       "      <td>199413</td>\n",
       "      <td>0.338</td>\n",
       "      <td>0.510000</td>\n",
       "      <td>5</td>\n",
       "      <td>0.0922</td>\n",
       "      <td>-15.236</td>\n",
       "      <td>1</td>\n",
       "      <td>0.0261</td>\n",
       "      <td>86.468</td>\n",
       "      <td>4.0</td>\n",
       "      <td>0.230</td>\n",
       "    </tr>\n",
       "    <tr>\n",
       "      <th>4</th>\n",
       "      <td>0.1800</td>\n",
       "      <td>0.678</td>\n",
       "      <td>392893</td>\n",
       "      <td>0.561</td>\n",
       "      <td>0.512000</td>\n",
       "      <td>5</td>\n",
       "      <td>0.4390</td>\n",
       "      <td>-11.648</td>\n",
       "      <td>0</td>\n",
       "      <td>0.0694</td>\n",
       "      <td>174.004</td>\n",
       "      <td>4.0</td>\n",
       "      <td>0.904</td>\n",
       "    </tr>\n",
       "  </tbody>\n",
       "</table>\n",
       "</div>"
      ],
      "text/plain": [
       "   acousticness  danceability  duration_ms  energy  instrumentalness  key  \\\n",
       "0        0.0102         0.833       204600   0.434          0.021900    2   \n",
       "1        0.1990         0.743       326933   0.359          0.006110    1   \n",
       "2        0.0344         0.838       185707   0.412          0.000234    2   \n",
       "3        0.6040         0.494       199413   0.338          0.510000    5   \n",
       "4        0.1800         0.678       392893   0.561          0.512000    5   \n",
       "\n",
       "   liveness  loudness  mode  speechiness    tempo  time_signature  valence  \n",
       "0    0.1650    -8.795     1       0.4310  150.062             4.0    0.286  \n",
       "1    0.1370   -10.401     1       0.0794  160.083             4.0    0.588  \n",
       "2    0.1590    -7.148     1       0.2890   75.044             4.0    0.173  \n",
       "3    0.0922   -15.236     1       0.0261   86.468             4.0    0.230  \n",
       "4    0.4390   -11.648     0       0.0694  174.004             4.0    0.904  "
      ]
     },
     "execution_count": 9,
     "metadata": {},
     "output_type": "execute_result"
    }
   ],
   "source": [
    "spotify_df = pd.read_csv(\"../data/spotify.csv\", index_col=0)\n",
    "X_spotify = spotify_df.drop(columns=[\"target\", \"song_title\", \"artist\"])\n",
    "X_spotify.head()\n"
   ]
  },
  {
   "cell_type": "code",
   "execution_count": 10,
   "metadata": {},
   "outputs": [
    {
     "name": "stdout",
     "output_type": "stream",
     "text": [
      "The number of features in the Spotify dataset: 13\n"
     ]
    }
   ],
   "source": [
    "print(\"The number of features in the Spotify dataset: %d\" % X_spotify.shape[1])"
   ]
  },
  {
   "cell_type": "markdown",
   "metadata": {},
   "source": [
    "The [mnist dataset](https://en.wikipedia.org/wiki/MNIST_database#cite_note-1) is an important (but basic) computer vision dataset\n",
    "- Characters 0 to 9\n",
    "- You can develop a solution for MNIST in 5 minutes with 99% accuracy :)\n",
    "- Each image is **128 x 128** pixels (????)\n",
    "- **Classification** problem\n",
    "\n",
    "\n",
    "<img src=\"https://storage.googleapis.com/tfds-data/visualization/fig/mnist-3.0.1.png\" width=\"300\"> <img src=\"https://upload.wikimedia.org/wikipedia/commons/2/27/MnistExamples.png\" width=\"500\">\n",
    "\n",
    "\n",
    "**Question for you:**\n",
    "Number of features in MNIST dataset?"
   ]
  },
  {
   "cell_type": "markdown",
   "metadata": {
    "slideshow": {
     "slide_type": "slide"
    },
    "tags": []
   },
   "source": [
    "### Dimensions in ML problems \n",
    "\n",
    "Very naively put (**don't quote me on this**):\n",
    "\n",
    "- $d \\approx 20$ is considered low dimensional\n",
    "- $d \\approx 1000$ is considered medium dimensional \n",
    "- $d \\approx 100,000$ is considered high dimensional \n",
    "  - If you have an image input of `1024 x 768`, that's a 800k dimension feature space."
   ]
  },
  {
   "cell_type": "markdown",
   "metadata": {
    "slideshow": {
     "slide_type": "slide"
    }
   },
   "source": [
    "### Feature vectors \n",
    "\n",
    "**Feature vector**\n",
    ": is composed of feature values associated with an example.\n",
    "\n",
    "Some example feature vectors are shown below. "
   ]
  },
  {
   "cell_type": "code",
   "execution_count": 11,
   "metadata": {
    "slideshow": {
     "slide_type": "-"
    }
   },
   "outputs": [
    {
     "name": "stdout",
     "output_type": "stream",
     "text": [
      "An example feature vector from the Spotify dataset: \n",
      "\n",
      "[ 1.02000e-02  8.33000e-01  2.04600e+05  4.34000e-01  2.19000e-02\n",
      "  2.00000e+00  1.65000e-01 -8.79500e+00  1.00000e+00  4.31000e-01\n",
      "  1.50062e+02  4.00000e+00  2.86000e-01]\n"
     ]
    },
    {
     "data": {
      "text/html": [
       "<div>\n",
       "<style scoped>\n",
       "    .dataframe tbody tr th:only-of-type {\n",
       "        vertical-align: middle;\n",
       "    }\n",
       "\n",
       "    .dataframe tbody tr th {\n",
       "        vertical-align: top;\n",
       "    }\n",
       "\n",
       "    .dataframe thead th {\n",
       "        text-align: right;\n",
       "    }\n",
       "</style>\n",
       "<table border=\"1\" class=\"dataframe\">\n",
       "  <thead>\n",
       "    <tr style=\"text-align: right;\">\n",
       "      <th></th>\n",
       "      <th>acousticness</th>\n",
       "      <th>danceability</th>\n",
       "      <th>duration_ms</th>\n",
       "      <th>energy</th>\n",
       "      <th>instrumentalness</th>\n",
       "      <th>key</th>\n",
       "      <th>liveness</th>\n",
       "      <th>loudness</th>\n",
       "      <th>mode</th>\n",
       "      <th>speechiness</th>\n",
       "      <th>tempo</th>\n",
       "      <th>time_signature</th>\n",
       "      <th>valence</th>\n",
       "    </tr>\n",
       "  </thead>\n",
       "  <tbody>\n",
       "    <tr>\n",
       "      <th>0</th>\n",
       "      <td>0.0102</td>\n",
       "      <td>0.833</td>\n",
       "      <td>204600</td>\n",
       "      <td>0.434</td>\n",
       "      <td>0.021900</td>\n",
       "      <td>2</td>\n",
       "      <td>0.1650</td>\n",
       "      <td>-8.795</td>\n",
       "      <td>1</td>\n",
       "      <td>0.4310</td>\n",
       "      <td>150.062</td>\n",
       "      <td>4.0</td>\n",
       "      <td>0.286</td>\n",
       "    </tr>\n",
       "    <tr>\n",
       "      <th>1</th>\n",
       "      <td>0.1990</td>\n",
       "      <td>0.743</td>\n",
       "      <td>326933</td>\n",
       "      <td>0.359</td>\n",
       "      <td>0.006110</td>\n",
       "      <td>1</td>\n",
       "      <td>0.1370</td>\n",
       "      <td>-10.401</td>\n",
       "      <td>1</td>\n",
       "      <td>0.0794</td>\n",
       "      <td>160.083</td>\n",
       "      <td>4.0</td>\n",
       "      <td>0.588</td>\n",
       "    </tr>\n",
       "    <tr>\n",
       "      <th>2</th>\n",
       "      <td>0.0344</td>\n",
       "      <td>0.838</td>\n",
       "      <td>185707</td>\n",
       "      <td>0.412</td>\n",
       "      <td>0.000234</td>\n",
       "      <td>2</td>\n",
       "      <td>0.1590</td>\n",
       "      <td>-7.148</td>\n",
       "      <td>1</td>\n",
       "      <td>0.2890</td>\n",
       "      <td>75.044</td>\n",
       "      <td>4.0</td>\n",
       "      <td>0.173</td>\n",
       "    </tr>\n",
       "    <tr>\n",
       "      <th>3</th>\n",
       "      <td>0.6040</td>\n",
       "      <td>0.494</td>\n",
       "      <td>199413</td>\n",
       "      <td>0.338</td>\n",
       "      <td>0.510000</td>\n",
       "      <td>5</td>\n",
       "      <td>0.0922</td>\n",
       "      <td>-15.236</td>\n",
       "      <td>1</td>\n",
       "      <td>0.0261</td>\n",
       "      <td>86.468</td>\n",
       "      <td>4.0</td>\n",
       "      <td>0.230</td>\n",
       "    </tr>\n",
       "    <tr>\n",
       "      <th>4</th>\n",
       "      <td>0.1800</td>\n",
       "      <td>0.678</td>\n",
       "      <td>392893</td>\n",
       "      <td>0.561</td>\n",
       "      <td>0.512000</td>\n",
       "      <td>5</td>\n",
       "      <td>0.4390</td>\n",
       "      <td>-11.648</td>\n",
       "      <td>0</td>\n",
       "      <td>0.0694</td>\n",
       "      <td>174.004</td>\n",
       "      <td>4.0</td>\n",
       "      <td>0.904</td>\n",
       "    </tr>\n",
       "  </tbody>\n",
       "</table>\n",
       "</div>"
      ],
      "text/plain": [
       "   acousticness  danceability  duration_ms  energy  instrumentalness  key  \\\n",
       "0        0.0102         0.833       204600   0.434          0.021900    2   \n",
       "1        0.1990         0.743       326933   0.359          0.006110    1   \n",
       "2        0.0344         0.838       185707   0.412          0.000234    2   \n",
       "3        0.6040         0.494       199413   0.338          0.510000    5   \n",
       "4        0.1800         0.678       392893   0.561          0.512000    5   \n",
       "\n",
       "   liveness  loudness  mode  speechiness    tempo  time_signature  valence  \n",
       "0    0.1650    -8.795     1       0.4310  150.062             4.0    0.286  \n",
       "1    0.1370   -10.401     1       0.0794  160.083             4.0    0.588  \n",
       "2    0.1590    -7.148     1       0.2890   75.044             4.0    0.173  \n",
       "3    0.0922   -15.236     1       0.0261   86.468             4.0    0.230  \n",
       "4    0.4390   -11.648     0       0.0694  174.004             4.0    0.904  "
      ]
     },
     "execution_count": 11,
     "metadata": {},
     "output_type": "execute_result"
    }
   ],
   "source": [
    "print(\n",
    "    \"An example feature vector from the Spotify dataset: \\n\\n%s\"\n",
    "    % (X_spotify.iloc[0].to_numpy())\n",
    ")\n",
    "\n",
    "X_spotify.head()"
   ]
  },
  {
   "cell_type": "markdown",
   "metadata": {
    "slideshow": {
     "slide_type": "slide"
    },
    "tags": []
   },
   "source": [
    "### Similarity between examples\n",
    "\n",
    "Let's take 2 points (two feature vectors) from the cities dataset."
   ]
  },
  {
   "cell_type": "code",
   "execution_count": 13,
   "metadata": {
    "slideshow": {
     "slide_type": "-"
    }
   },
   "outputs": [
    {
     "data": {
      "text/html": [
       "<div>\n",
       "<style scoped>\n",
       "    .dataframe tbody tr th:only-of-type {\n",
       "        vertical-align: middle;\n",
       "    }\n",
       "\n",
       "    .dataframe tbody tr th {\n",
       "        vertical-align: top;\n",
       "    }\n",
       "\n",
       "    .dataframe thead th {\n",
       "        text-align: right;\n",
       "    }\n",
       "</style>\n",
       "<table border=\"1\" class=\"dataframe\">\n",
       "  <thead>\n",
       "    <tr style=\"text-align: right;\">\n",
       "      <th></th>\n",
       "      <th>longitude</th>\n",
       "      <th>latitude</th>\n",
       "    </tr>\n",
       "  </thead>\n",
       "  <tbody>\n",
       "    <tr>\n",
       "      <th>69</th>\n",
       "      <td>-104.8253</td>\n",
       "      <td>38.8340</td>\n",
       "    </tr>\n",
       "    <tr>\n",
       "      <th>35</th>\n",
       "      <td>-112.0741</td>\n",
       "      <td>33.4484</td>\n",
       "    </tr>\n",
       "  </tbody>\n",
       "</table>\n",
       "</div>"
      ],
      "text/plain": [
       "    longitude  latitude\n",
       "69  -104.8253   38.8340\n",
       "35  -112.0741   33.4484"
      ]
     },
     "execution_count": 13,
     "metadata": {},
     "output_type": "execute_result"
    }
   ],
   "source": [
    "two_cities = X_cities.sample(2, random_state=120)\n",
    "two_cities"
   ]
  },
  {
   "cell_type": "markdown",
   "metadata": {
    "slideshow": {
     "slide_type": "slide"
    }
   },
   "source": [
    "The two sampled points are shown as big black circles."
   ]
  },
  {
   "cell_type": "code",
   "execution_count": 14,
   "metadata": {},
   "outputs": [
    {
     "data": {
      "image/png": "[encoded data removed]",
      "text/plain": [
       "<Figure size 640x480 with 1 Axes>"
      ]
     },
     "metadata": {},
     "output_type": "display_data"
    }
   ],
   "source": [
    "mglearn.discrete_scatter(\n",
    "    X_cities.iloc[:, 0], X_cities.iloc[:, 1], y_cities, s=8, alpha=0.3\n",
    ")\n",
    "mglearn.discrete_scatter(\n",
    "    two_cities.iloc[:, 0], two_cities.iloc[:, 1], markers=\"o\", c=\"k\", s=18\n",
    ");"
   ]
  },
  {
   "cell_type": "markdown",
   "metadata": {
    "slideshow": {
     "slide_type": "slide"
    },
    "tags": []
   },
   "source": [
    "## Similarity Metrics and Similarity Criterions"
   ]
  },
  {
   "cell_type": "markdown",
   "metadata": {
    "slideshow": {
     "slide_type": "slide"
    }
   },
   "source": [
    "### Euclidean distance \n",
    "\n",
    "$distance(u, v) = \\sqrt{\\sum_{i =1}^{n} (u_i - v_i)^2}$  \n",
    "$u = <u_1, u_2, \\dots, u_n>$\n",
    "$v = <v_1, v_2, \\dots, v_n>$\n",
    "\n",
    "where\n",
    "- $u$, $v$ are feature vectors of two samples\n",
    "- $n$ is the dimensionality of data\n"
   ]
  },
  {
   "cell_type": "markdown",
   "metadata": {},
   "source": [
    "For the cities, **Euclidean Distance** makes a lot of sense.\n",
    "\n",
    "For the cities at the two big circles, what is the _distance_ between them?"
   ]
  },
  {
   "cell_type": "code",
   "execution_count": null,
   "metadata": {
    "slideshow": {
     "slide_type": "-"
    }
   },
   "outputs": [],
   "source": [
    "two_cities"
   ]
  },
  {
   "cell_type": "markdown",
   "metadata": {
    "slideshow": {
     "slide_type": "skip"
    }
   },
   "source": [
    "- Subtract the two cities\n",
    "- Square the difference\n",
    "- Sum them up \n",
    "- Take the square root "
   ]
  },
  {
   "cell_type": "code",
   "execution_count": 15,
   "metadata": {},
   "outputs": [
    {
     "name": "stdout",
     "output_type": "stream",
     "text": [
      "Subtract the cities: \n",
      "[-7.248800000000003, -5.385600000000004]\n",
      "\n",
      "Sum of squares: 81.5498\n",
      "Euclidean distance between cities: 9.0305\n"
     ]
    }
   ],
   "source": [
    "# Subtract the two cities\n",
    "print(\"Subtract the cities: \\n%s\\n\" % list((two_cities.iloc[1] - two_cities.iloc[0])))\n",
    "\n",
    "# Squared sum of the difference\n",
    "print(\n",
    "    \"Sum of squares: %0.4f\" % (np.sum((two_cities.iloc[1] - two_cities.iloc[0]) ** 2))\n",
    ")\n",
    "\n",
    "# Take the square root\n",
    "print(\n",
    "    \"Euclidean distance between cities: %0.4f\"\n",
    "    % (np.sqrt(np.sum((two_cities.iloc[1] - two_cities.iloc[0]) ** 2)))\n",
    ")"
   ]
  },
  {
   "cell_type": "code",
   "execution_count": 16,
   "metadata": {
    "slideshow": {
     "slide_type": "-"
    }
   },
   "outputs": [
    {
     "data": {
      "text/plain": [
       "array([[0.        , 9.03049217],\n",
       "       [9.03049217, 0.        ]])"
      ]
     },
     "execution_count": 16,
     "metadata": {},
     "output_type": "execute_result"
    }
   ],
   "source": [
    "# Euclidean distance using sklearn\n",
    "from sklearn.metrics.pairwise import euclidean_distances\n",
    "\n",
    "euclidean_distances(two_cities)"
   ]
  },
  {
   "cell_type": "code",
   "execution_count": 17,
   "metadata": {},
   "outputs": [
    {
     "data": {
      "text/plain": [
       "array([[0.        , 9.03049217],\n",
       "       [9.03049217, 0.        ]])"
      ]
     },
     "execution_count": 17,
     "metadata": {},
     "output_type": "execute_result"
    }
   ],
   "source": [
    "import sklearn\n",
    "sklearn.metrics.pairwise_distances(two_cities, metric='euclidean')"
   ]
  },
  {
   "cell_type": "code",
   "execution_count": 18,
   "metadata": {},
   "outputs": [
    {
     "data": {
      "text/plain": [
       "array([[ 0.    , 12.6344],\n",
       "       [12.6344,  0.    ]])"
      ]
     },
     "execution_count": 18,
     "metadata": {},
     "output_type": "execute_result"
    }
   ],
   "source": [
    "sklearn.metrics.pairwise_distances(two_cities, metric='l1')"
   ]
  },
  {
   "cell_type": "markdown",
   "metadata": {
    "slideshow": {
     "slide_type": "-"
    }
   },
   "source": [
    "\n",
    "### Other Similarity Metrics\n",
    "Note: `scikit-learn` supports a number of other [distance metrics](https://scikit-learn.org/stable/modules/generated/sklearn.neighbors.DistanceMetric.html).\n",
    "\n",
    "In the order I expect you to prioritize learning them:\n",
    "- euclidean (l2)\n",
    "- manhattan (l1) (cityblock) (sum of absolute distances: ${\\sum_{i =1}^{n}|u_i - v_i|}$  \n",
    "- **cosine**\n",
    "- mahalanobis\n",
    "- haversine (angular distance between two points on a surface of a sphere)\n",
    "- and a few more (chebyshev, minkowski, wminkowski, seuclidean, ...)\n",
    "\n",
    "Check scikit-learn to learn more:\n",
    "-  https://scikit-learn.org/stable/modules/generated/sklearn.metrics.pairwise_distances.html\n",
    "- https://scikit-learn.org/stable/modules/generated/sklearn.metrics.DistanceMetric.html"
   ]
  },
  {
   "cell_type": "markdown",
   "metadata": {
    "slideshow": {
     "slide_type": "slide"
    }
   },
   "source": [
    "### Finding the nearest neighbour of City 0\n",
    "\n",
    "- Let's look at distances from all cities to all other cities"
   ]
  },
  {
   "cell_type": "code",
   "execution_count": 20,
   "metadata": {},
   "outputs": [
    {
     "data": {
      "text/html": [
       "<div>\n",
       "<style scoped>\n",
       "    .dataframe tbody tr th:only-of-type {\n",
       "        vertical-align: middle;\n",
       "    }\n",
       "\n",
       "    .dataframe tbody tr th {\n",
       "        vertical-align: top;\n",
       "    }\n",
       "\n",
       "    .dataframe thead th {\n",
       "        text-align: right;\n",
       "    }\n",
       "</style>\n",
       "<table border=\"1\" class=\"dataframe\">\n",
       "  <thead>\n",
       "    <tr style=\"text-align: right;\">\n",
       "      <th></th>\n",
       "      <th>longitude</th>\n",
       "      <th>latitude</th>\n",
       "    </tr>\n",
       "  </thead>\n",
       "  <tbody>\n",
       "    <tr>\n",
       "      <th>0</th>\n",
       "      <td>-130.0437</td>\n",
       "      <td>55.9773</td>\n",
       "    </tr>\n",
       "    <tr>\n",
       "      <th>1</th>\n",
       "      <td>-134.4197</td>\n",
       "      <td>58.3019</td>\n",
       "    </tr>\n",
       "    <tr>\n",
       "      <th>2</th>\n",
       "      <td>-123.0780</td>\n",
       "      <td>48.9854</td>\n",
       "    </tr>\n",
       "    <tr>\n",
       "      <th>3</th>\n",
       "      <td>-122.7436</td>\n",
       "      <td>48.9881</td>\n",
       "    </tr>\n",
       "    <tr>\n",
       "      <th>4</th>\n",
       "      <td>-122.2691</td>\n",
       "      <td>48.9951</td>\n",
       "    </tr>\n",
       "    <tr>\n",
       "      <th>...</th>\n",
       "      <td>...</td>\n",
       "      <td>...</td>\n",
       "    </tr>\n",
       "    <tr>\n",
       "      <th>204</th>\n",
       "      <td>-72.7218</td>\n",
       "      <td>45.3990</td>\n",
       "    </tr>\n",
       "    <tr>\n",
       "      <th>205</th>\n",
       "      <td>-66.6458</td>\n",
       "      <td>45.9664</td>\n",
       "    </tr>\n",
       "    <tr>\n",
       "      <th>206</th>\n",
       "      <td>-79.2506</td>\n",
       "      <td>42.9931</td>\n",
       "    </tr>\n",
       "    <tr>\n",
       "      <th>207</th>\n",
       "      <td>-72.9406</td>\n",
       "      <td>45.6275</td>\n",
       "    </tr>\n",
       "    <tr>\n",
       "      <th>208</th>\n",
       "      <td>-79.4608</td>\n",
       "      <td>46.3092</td>\n",
       "    </tr>\n",
       "  </tbody>\n",
       "</table>\n",
       "<p>209 rows × 2 columns</p>\n",
       "</div>"
      ],
      "text/plain": [
       "     longitude  latitude\n",
       "0    -130.0437   55.9773\n",
       "1    -134.4197   58.3019\n",
       "2    -123.0780   48.9854\n",
       "3    -122.7436   48.9881\n",
       "4    -122.2691   48.9951\n",
       "..         ...       ...\n",
       "204   -72.7218   45.3990\n",
       "205   -66.6458   45.9664\n",
       "206   -79.2506   42.9931\n",
       "207   -72.9406   45.6275\n",
       "208   -79.4608   46.3092\n",
       "\n",
       "[209 rows x 2 columns]"
      ]
     },
     "execution_count": 20,
     "metadata": {},
     "output_type": "execute_result"
    }
   ],
   "source": [
    "X_cities"
   ]
  },
  {
   "cell_type": "code",
   "execution_count": 21,
   "metadata": {
    "slideshow": {
     "slide_type": "-"
    }
   },
   "outputs": [
    {
     "data": {
      "text/plain": [
       "(209, 209)"
      ]
     },
     "execution_count": 21,
     "metadata": {},
     "output_type": "execute_result"
    }
   ],
   "source": [
    "dists = euclidean_distances(X_cities)\n",
    "dists.shape"
   ]
  },
  {
   "cell_type": "code",
   "execution_count": 22,
   "metadata": {},
   "outputs": [
    {
     "data": {
      "text/html": [
       "<div>\n",
       "<style scoped>\n",
       "    .dataframe tbody tr th:only-of-type {\n",
       "        vertical-align: middle;\n",
       "    }\n",
       "\n",
       "    .dataframe tbody tr th {\n",
       "        vertical-align: top;\n",
       "    }\n",
       "\n",
       "    .dataframe thead th {\n",
       "        text-align: right;\n",
       "    }\n",
       "</style>\n",
       "<table border=\"1\" class=\"dataframe\">\n",
       "  <thead>\n",
       "    <tr style=\"text-align: right;\">\n",
       "      <th></th>\n",
       "      <th>0</th>\n",
       "      <th>1</th>\n",
       "      <th>2</th>\n",
       "      <th>3</th>\n",
       "      <th>4</th>\n",
       "      <th>5</th>\n",
       "      <th>6</th>\n",
       "      <th>7</th>\n",
       "      <th>8</th>\n",
       "      <th>9</th>\n",
       "      <th>...</th>\n",
       "      <th>199</th>\n",
       "      <th>200</th>\n",
       "      <th>201</th>\n",
       "      <th>202</th>\n",
       "      <th>203</th>\n",
       "      <th>204</th>\n",
       "      <th>205</th>\n",
       "      <th>206</th>\n",
       "      <th>207</th>\n",
       "      <th>208</th>\n",
       "    </tr>\n",
       "  </thead>\n",
       "  <tbody>\n",
       "    <tr>\n",
       "      <th>0</th>\n",
       "      <td>0.000000</td>\n",
       "      <td>4.955113</td>\n",
       "      <td>9.869531</td>\n",
       "      <td>10.106452</td>\n",
       "      <td>10.449666</td>\n",
       "      <td>19.381676</td>\n",
       "      <td>28.366626</td>\n",
       "      <td>33.283857</td>\n",
       "      <td>33.572105</td>\n",
       "      <td>36.180388</td>\n",
       "      <td>...</td>\n",
       "      <td>9.834455</td>\n",
       "      <td>58.807684</td>\n",
       "      <td>16.925593</td>\n",
       "      <td>56.951696</td>\n",
       "      <td>59.384127</td>\n",
       "      <td>58.289799</td>\n",
       "      <td>64.183423</td>\n",
       "      <td>52.426410</td>\n",
       "      <td>58.033459</td>\n",
       "      <td>51.498562</td>\n",
       "    </tr>\n",
       "    <tr>\n",
       "      <th>1</th>\n",
       "      <td>4.955113</td>\n",
       "      <td>0.000000</td>\n",
       "      <td>14.677579</td>\n",
       "      <td>14.935802</td>\n",
       "      <td>15.305346</td>\n",
       "      <td>24.308448</td>\n",
       "      <td>33.200978</td>\n",
       "      <td>38.082949</td>\n",
       "      <td>38.359992</td>\n",
       "      <td>40.957919</td>\n",
       "      <td>...</td>\n",
       "      <td>14.668787</td>\n",
       "      <td>63.533498</td>\n",
       "      <td>21.656349</td>\n",
       "      <td>61.691640</td>\n",
       "      <td>64.045304</td>\n",
       "      <td>63.032656</td>\n",
       "      <td>68.887343</td>\n",
       "      <td>57.253724</td>\n",
       "      <td>62.771969</td>\n",
       "      <td>56.252160</td>\n",
       "    </tr>\n",
       "    <tr>\n",
       "      <th>2</th>\n",
       "      <td>9.869531</td>\n",
       "      <td>14.677579</td>\n",
       "      <td>0.000000</td>\n",
       "      <td>0.334411</td>\n",
       "      <td>0.808958</td>\n",
       "      <td>11.115406</td>\n",
       "      <td>20.528403</td>\n",
       "      <td>25.525757</td>\n",
       "      <td>25.873103</td>\n",
       "      <td>28.479109</td>\n",
       "      <td>...</td>\n",
       "      <td>0.277381</td>\n",
       "      <td>51.076798</td>\n",
       "      <td>10.783789</td>\n",
       "      <td>49.169693</td>\n",
       "      <td>51.934205</td>\n",
       "      <td>50.483751</td>\n",
       "      <td>56.512897</td>\n",
       "      <td>44.235152</td>\n",
       "      <td>50.249720</td>\n",
       "      <td>43.699224</td>\n",
       "    </tr>\n",
       "    <tr>\n",
       "      <th>3</th>\n",
       "      <td>10.106452</td>\n",
       "      <td>14.935802</td>\n",
       "      <td>0.334411</td>\n",
       "      <td>0.000000</td>\n",
       "      <td>0.474552</td>\n",
       "      <td>10.781004</td>\n",
       "      <td>20.194002</td>\n",
       "      <td>25.191396</td>\n",
       "      <td>25.538702</td>\n",
       "      <td>28.144750</td>\n",
       "      <td>...</td>\n",
       "      <td>0.275352</td>\n",
       "      <td>50.743133</td>\n",
       "      <td>10.480249</td>\n",
       "      <td>48.836189</td>\n",
       "      <td>51.599860</td>\n",
       "      <td>50.150395</td>\n",
       "      <td>56.179123</td>\n",
       "      <td>43.904226</td>\n",
       "      <td>49.916254</td>\n",
       "      <td>43.365623</td>\n",
       "    </tr>\n",
       "    <tr>\n",
       "      <th>4</th>\n",
       "      <td>10.449666</td>\n",
       "      <td>15.305346</td>\n",
       "      <td>0.808958</td>\n",
       "      <td>0.474552</td>\n",
       "      <td>0.000000</td>\n",
       "      <td>10.306500</td>\n",
       "      <td>19.719500</td>\n",
       "      <td>24.716985</td>\n",
       "      <td>25.064200</td>\n",
       "      <td>27.670344</td>\n",
       "      <td>...</td>\n",
       "      <td>0.675814</td>\n",
       "      <td>50.269880</td>\n",
       "      <td>10.051472</td>\n",
       "      <td>48.363192</td>\n",
       "      <td>51.125476</td>\n",
       "      <td>49.677629</td>\n",
       "      <td>55.705696</td>\n",
       "      <td>43.435186</td>\n",
       "      <td>49.443317</td>\n",
       "      <td>42.892477</td>\n",
       "    </tr>\n",
       "    <tr>\n",
       "      <th>...</th>\n",
       "      <td>...</td>\n",
       "      <td>...</td>\n",
       "      <td>...</td>\n",
       "      <td>...</td>\n",
       "      <td>...</td>\n",
       "      <td>...</td>\n",
       "      <td>...</td>\n",
       "      <td>...</td>\n",
       "      <td>...</td>\n",
       "      <td>...</td>\n",
       "      <td>...</td>\n",
       "      <td>...</td>\n",
       "      <td>...</td>\n",
       "      <td>...</td>\n",
       "      <td>...</td>\n",
       "      <td>...</td>\n",
       "      <td>...</td>\n",
       "      <td>...</td>\n",
       "      <td>...</td>\n",
       "      <td>...</td>\n",
       "      <td>...</td>\n",
       "    </tr>\n",
       "    <tr>\n",
       "      <th>204</th>\n",
       "      <td>58.289799</td>\n",
       "      <td>63.032656</td>\n",
       "      <td>50.483751</td>\n",
       "      <td>50.150395</td>\n",
       "      <td>49.677629</td>\n",
       "      <td>39.405415</td>\n",
       "      <td>30.043890</td>\n",
       "      <td>25.057003</td>\n",
       "      <td>24.746328</td>\n",
       "      <td>22.127878</td>\n",
       "      <td>...</td>\n",
       "      <td>50.333340</td>\n",
       "      <td>0.873356</td>\n",
       "      <td>41.380643</td>\n",
       "      <td>1.345136</td>\n",
       "      <td>3.373031</td>\n",
       "      <td>0.000000</td>\n",
       "      <td>6.102435</td>\n",
       "      <td>6.957987</td>\n",
       "      <td>0.316363</td>\n",
       "      <td>6.800190</td>\n",
       "    </tr>\n",
       "    <tr>\n",
       "      <th>205</th>\n",
       "      <td>64.183423</td>\n",
       "      <td>68.887343</td>\n",
       "      <td>56.512897</td>\n",
       "      <td>56.179123</td>\n",
       "      <td>55.705696</td>\n",
       "      <td>45.418031</td>\n",
       "      <td>36.031385</td>\n",
       "      <td>31.032874</td>\n",
       "      <td>30.709185</td>\n",
       "      <td>28.088948</td>\n",
       "      <td>...</td>\n",
       "      <td>56.358333</td>\n",
       "      <td>5.442806</td>\n",
       "      <td>47.259286</td>\n",
       "      <td>7.369875</td>\n",
       "      <td>5.108681</td>\n",
       "      <td>6.102435</td>\n",
       "      <td>0.000000</td>\n",
       "      <td>12.950733</td>\n",
       "      <td>6.303916</td>\n",
       "      <td>12.819584</td>\n",
       "    </tr>\n",
       "    <tr>\n",
       "      <th>206</th>\n",
       "      <td>52.426410</td>\n",
       "      <td>57.253724</td>\n",
       "      <td>44.235152</td>\n",
       "      <td>43.904226</td>\n",
       "      <td>43.435186</td>\n",
       "      <td>33.258427</td>\n",
       "      <td>24.059863</td>\n",
       "      <td>19.187663</td>\n",
       "      <td>18.932124</td>\n",
       "      <td>16.380495</td>\n",
       "      <td>...</td>\n",
       "      <td>44.100248</td>\n",
       "      <td>7.767852</td>\n",
       "      <td>35.637982</td>\n",
       "      <td>5.930561</td>\n",
       "      <td>9.731583</td>\n",
       "      <td>6.957987</td>\n",
       "      <td>12.950733</td>\n",
       "      <td>0.000000</td>\n",
       "      <td>6.837848</td>\n",
       "      <td>3.322755</td>\n",
       "    </tr>\n",
       "    <tr>\n",
       "      <th>207</th>\n",
       "      <td>58.033459</td>\n",
       "      <td>62.771969</td>\n",
       "      <td>50.249720</td>\n",
       "      <td>49.916254</td>\n",
       "      <td>49.443317</td>\n",
       "      <td>39.167214</td>\n",
       "      <td>29.799983</td>\n",
       "      <td>24.810368</td>\n",
       "      <td>24.497386</td>\n",
       "      <td>21.878183</td>\n",
       "      <td>...</td>\n",
       "      <td>50.098326</td>\n",
       "      <td>0.930123</td>\n",
       "      <td>41.121628</td>\n",
       "      <td>1.082749</td>\n",
       "      <td>3.286821</td>\n",
       "      <td>0.316363</td>\n",
       "      <td>6.303916</td>\n",
       "      <td>6.837848</td>\n",
       "      <td>0.000000</td>\n",
       "      <td>6.555740</td>\n",
       "    </tr>\n",
       "    <tr>\n",
       "      <th>208</th>\n",
       "      <td>51.498562</td>\n",
       "      <td>56.252160</td>\n",
       "      <td>43.699224</td>\n",
       "      <td>43.365623</td>\n",
       "      <td>42.892477</td>\n",
       "      <td>32.612755</td>\n",
       "      <td>23.244592</td>\n",
       "      <td>18.256813</td>\n",
       "      <td>17.946783</td>\n",
       "      <td>15.328953</td>\n",
       "      <td>...</td>\n",
       "      <td>43.546610</td>\n",
       "      <td>7.378764</td>\n",
       "      <td>34.596810</td>\n",
       "      <td>5.473691</td>\n",
       "      <td>8.568009</td>\n",
       "      <td>6.800190</td>\n",
       "      <td>12.819584</td>\n",
       "      <td>3.322755</td>\n",
       "      <td>6.555740</td>\n",
       "      <td>0.000000</td>\n",
       "    </tr>\n",
       "  </tbody>\n",
       "</table>\n",
       "<p>209 rows × 209 columns</p>\n",
       "</div>"
      ],
      "text/plain": [
       "           0          1          2          3          4          5    \\\n",
       "0     0.000000   4.955113   9.869531  10.106452  10.449666  19.381676   \n",
       "1     4.955113   0.000000  14.677579  14.935802  15.305346  24.308448   \n",
       "2     9.869531  14.677579   0.000000   0.334411   0.808958  11.115406   \n",
       "3    10.106452  14.935802   0.334411   0.000000   0.474552  10.781004   \n",
       "4    10.449666  15.305346   0.808958   0.474552   0.000000  10.306500   \n",
       "..         ...        ...        ...        ...        ...        ...   \n",
       "204  58.289799  63.032656  50.483751  50.150395  49.677629  39.405415   \n",
       "205  64.183423  68.887343  56.512897  56.179123  55.705696  45.418031   \n",
       "206  52.426410  57.253724  44.235152  43.904226  43.435186  33.258427   \n",
       "207  58.033459  62.771969  50.249720  49.916254  49.443317  39.167214   \n",
       "208  51.498562  56.252160  43.699224  43.365623  42.892477  32.612755   \n",
       "\n",
       "           6          7          8          9    ...        199        200  \\\n",
       "0    28.366626  33.283857  33.572105  36.180388  ...   9.834455  58.807684   \n",
       "1    33.200978  38.082949  38.359992  40.957919  ...  14.668787  63.533498   \n",
       "2    20.528403  25.525757  25.873103  28.479109  ...   0.277381  51.076798   \n",
       "3    20.194002  25.191396  25.538702  28.144750  ...   0.275352  50.743133   \n",
       "4    19.719500  24.716985  25.064200  27.670344  ...   0.675814  50.269880   \n",
       "..         ...        ...        ...        ...  ...        ...        ...   \n",
       "204  30.043890  25.057003  24.746328  22.127878  ...  50.333340   0.873356   \n",
       "205  36.031385  31.032874  30.709185  28.088948  ...  56.358333   5.442806   \n",
       "206  24.059863  19.187663  18.932124  16.380495  ...  44.100248   7.767852   \n",
       "207  29.799983  24.810368  24.497386  21.878183  ...  50.098326   0.930123   \n",
       "208  23.244592  18.256813  17.946783  15.328953  ...  43.546610   7.378764   \n",
       "\n",
       "           201        202        203        204        205        206  \\\n",
       "0    16.925593  56.951696  59.384127  58.289799  64.183423  52.426410   \n",
       "1    21.656349  61.691640  64.045304  63.032656  68.887343  57.253724   \n",
       "2    10.783789  49.169693  51.934205  50.483751  56.512897  44.235152   \n",
       "3    10.480249  48.836189  51.599860  50.150395  56.179123  43.904226   \n",
       "4    10.051472  48.363192  51.125476  49.677629  55.705696  43.435186   \n",
       "..         ...        ...        ...        ...        ...        ...   \n",
       "204  41.380643   1.345136   3.373031   0.000000   6.102435   6.957987   \n",
       "205  47.259286   7.369875   5.108681   6.102435   0.000000  12.950733   \n",
       "206  35.637982   5.930561   9.731583   6.957987  12.950733   0.000000   \n",
       "207  41.121628   1.082749   3.286821   0.316363   6.303916   6.837848   \n",
       "208  34.596810   5.473691   8.568009   6.800190  12.819584   3.322755   \n",
       "\n",
       "           207        208  \n",
       "0    58.033459  51.498562  \n",
       "1    62.771969  56.252160  \n",
       "2    50.249720  43.699224  \n",
       "3    49.916254  43.365623  \n",
       "4    49.443317  42.892477  \n",
       "..         ...        ...  \n",
       "204   0.316363   6.800190  \n",
       "205   6.303916  12.819584  \n",
       "206   6.837848   3.322755  \n",
       "207   0.000000   6.555740  \n",
       "208   6.555740   0.000000  \n",
       "\n",
       "[209 rows x 209 columns]"
      ]
     },
     "execution_count": 22,
     "metadata": {},
     "output_type": "execute_result"
    }
   ],
   "source": [
    "pd.DataFrame(dists)"
   ]
  },
  {
   "cell_type": "code",
   "execution_count": 23,
   "metadata": {},
   "outputs": [
    {
     "data": {
      "text/html": [
       "<div>\n",
       "<style scoped>\n",
       "    .dataframe tbody tr th:only-of-type {\n",
       "        vertical-align: middle;\n",
       "    }\n",
       "\n",
       "    .dataframe tbody tr th {\n",
       "        vertical-align: top;\n",
       "    }\n",
       "\n",
       "    .dataframe thead th {\n",
       "        text-align: right;\n",
       "    }\n",
       "</style>\n",
       "<table border=\"1\" class=\"dataframe\">\n",
       "  <thead>\n",
       "    <tr style=\"text-align: right;\">\n",
       "      <th></th>\n",
       "      <th>0</th>\n",
       "      <th>1</th>\n",
       "      <th>2</th>\n",
       "      <th>3</th>\n",
       "      <th>4</th>\n",
       "      <th>5</th>\n",
       "      <th>6</th>\n",
       "      <th>7</th>\n",
       "      <th>8</th>\n",
       "      <th>9</th>\n",
       "      <th>...</th>\n",
       "      <th>199</th>\n",
       "      <th>200</th>\n",
       "      <th>201</th>\n",
       "      <th>202</th>\n",
       "      <th>203</th>\n",
       "      <th>204</th>\n",
       "      <th>205</th>\n",
       "      <th>206</th>\n",
       "      <th>207</th>\n",
       "      <th>208</th>\n",
       "    </tr>\n",
       "  </thead>\n",
       "  <tbody>\n",
       "    <tr>\n",
       "      <th>0</th>\n",
       "      <td>inf</td>\n",
       "      <td>4.955113</td>\n",
       "      <td>9.869531</td>\n",
       "      <td>10.106452</td>\n",
       "      <td>10.449666</td>\n",
       "      <td>19.381676</td>\n",
       "      <td>28.366626</td>\n",
       "      <td>33.283857</td>\n",
       "      <td>33.572105</td>\n",
       "      <td>36.180388</td>\n",
       "      <td>...</td>\n",
       "      <td>9.834455</td>\n",
       "      <td>58.807684</td>\n",
       "      <td>16.925593</td>\n",
       "      <td>56.951696</td>\n",
       "      <td>59.384127</td>\n",
       "      <td>58.289799</td>\n",
       "      <td>64.183423</td>\n",
       "      <td>52.426410</td>\n",
       "      <td>58.033459</td>\n",
       "      <td>51.498562</td>\n",
       "    </tr>\n",
       "    <tr>\n",
       "      <th>1</th>\n",
       "      <td>4.955113</td>\n",
       "      <td>inf</td>\n",
       "      <td>14.677579</td>\n",
       "      <td>14.935802</td>\n",
       "      <td>15.305346</td>\n",
       "      <td>24.308448</td>\n",
       "      <td>33.200978</td>\n",
       "      <td>38.082949</td>\n",
       "      <td>38.359992</td>\n",
       "      <td>40.957919</td>\n",
       "      <td>...</td>\n",
       "      <td>14.668787</td>\n",
       "      <td>63.533498</td>\n",
       "      <td>21.656349</td>\n",
       "      <td>61.691640</td>\n",
       "      <td>64.045304</td>\n",
       "      <td>63.032656</td>\n",
       "      <td>68.887343</td>\n",
       "      <td>57.253724</td>\n",
       "      <td>62.771969</td>\n",
       "      <td>56.252160</td>\n",
       "    </tr>\n",
       "    <tr>\n",
       "      <th>2</th>\n",
       "      <td>9.869531</td>\n",
       "      <td>14.677579</td>\n",
       "      <td>inf</td>\n",
       "      <td>0.334411</td>\n",
       "      <td>0.808958</td>\n",
       "      <td>11.115406</td>\n",
       "      <td>20.528403</td>\n",
       "      <td>25.525757</td>\n",
       "      <td>25.873103</td>\n",
       "      <td>28.479109</td>\n",
       "      <td>...</td>\n",
       "      <td>0.277381</td>\n",
       "      <td>51.076798</td>\n",
       "      <td>10.783789</td>\n",
       "      <td>49.169693</td>\n",
       "      <td>51.934205</td>\n",
       "      <td>50.483751</td>\n",
       "      <td>56.512897</td>\n",
       "      <td>44.235152</td>\n",
       "      <td>50.249720</td>\n",
       "      <td>43.699224</td>\n",
       "    </tr>\n",
       "    <tr>\n",
       "      <th>3</th>\n",
       "      <td>10.106452</td>\n",
       "      <td>14.935802</td>\n",
       "      <td>0.334411</td>\n",
       "      <td>inf</td>\n",
       "      <td>0.474552</td>\n",
       "      <td>10.781004</td>\n",
       "      <td>20.194002</td>\n",
       "      <td>25.191396</td>\n",
       "      <td>25.538702</td>\n",
       "      <td>28.144750</td>\n",
       "      <td>...</td>\n",
       "      <td>0.275352</td>\n",
       "      <td>50.743133</td>\n",
       "      <td>10.480249</td>\n",
       "      <td>48.836189</td>\n",
       "      <td>51.599860</td>\n",
       "      <td>50.150395</td>\n",
       "      <td>56.179123</td>\n",
       "      <td>43.904226</td>\n",
       "      <td>49.916254</td>\n",
       "      <td>43.365623</td>\n",
       "    </tr>\n",
       "    <tr>\n",
       "      <th>4</th>\n",
       "      <td>10.449666</td>\n",
       "      <td>15.305346</td>\n",
       "      <td>0.808958</td>\n",
       "      <td>0.474552</td>\n",
       "      <td>inf</td>\n",
       "      <td>10.306500</td>\n",
       "      <td>19.719500</td>\n",
       "      <td>24.716985</td>\n",
       "      <td>25.064200</td>\n",
       "      <td>27.670344</td>\n",
       "      <td>...</td>\n",
       "      <td>0.675814</td>\n",
       "      <td>50.269880</td>\n",
       "      <td>10.051472</td>\n",
       "      <td>48.363192</td>\n",
       "      <td>51.125476</td>\n",
       "      <td>49.677629</td>\n",
       "      <td>55.705696</td>\n",
       "      <td>43.435186</td>\n",
       "      <td>49.443317</td>\n",
       "      <td>42.892477</td>\n",
       "    </tr>\n",
       "    <tr>\n",
       "      <th>...</th>\n",
       "      <td>...</td>\n",
       "      <td>...</td>\n",
       "      <td>...</td>\n",
       "      <td>...</td>\n",
       "      <td>...</td>\n",
       "      <td>...</td>\n",
       "      <td>...</td>\n",
       "      <td>...</td>\n",
       "      <td>...</td>\n",
       "      <td>...</td>\n",
       "      <td>...</td>\n",
       "      <td>...</td>\n",
       "      <td>...</td>\n",
       "      <td>...</td>\n",
       "      <td>...</td>\n",
       "      <td>...</td>\n",
       "      <td>...</td>\n",
       "      <td>...</td>\n",
       "      <td>...</td>\n",
       "      <td>...</td>\n",
       "      <td>...</td>\n",
       "    </tr>\n",
       "    <tr>\n",
       "      <th>204</th>\n",
       "      <td>58.289799</td>\n",
       "      <td>63.032656</td>\n",
       "      <td>50.483751</td>\n",
       "      <td>50.150395</td>\n",
       "      <td>49.677629</td>\n",
       "      <td>39.405415</td>\n",
       "      <td>30.043890</td>\n",
       "      <td>25.057003</td>\n",
       "      <td>24.746328</td>\n",
       "      <td>22.127878</td>\n",
       "      <td>...</td>\n",
       "      <td>50.333340</td>\n",
       "      <td>0.873356</td>\n",
       "      <td>41.380643</td>\n",
       "      <td>1.345136</td>\n",
       "      <td>3.373031</td>\n",
       "      <td>inf</td>\n",
       "      <td>6.102435</td>\n",
       "      <td>6.957987</td>\n",
       "      <td>0.316363</td>\n",
       "      <td>6.800190</td>\n",
       "    </tr>\n",
       "    <tr>\n",
       "      <th>205</th>\n",
       "      <td>64.183423</td>\n",
       "      <td>68.887343</td>\n",
       "      <td>56.512897</td>\n",
       "      <td>56.179123</td>\n",
       "      <td>55.705696</td>\n",
       "      <td>45.418031</td>\n",
       "      <td>36.031385</td>\n",
       "      <td>31.032874</td>\n",
       "      <td>30.709185</td>\n",
       "      <td>28.088948</td>\n",
       "      <td>...</td>\n",
       "      <td>56.358333</td>\n",
       "      <td>5.442806</td>\n",
       "      <td>47.259286</td>\n",
       "      <td>7.369875</td>\n",
       "      <td>5.108681</td>\n",
       "      <td>6.102435</td>\n",
       "      <td>inf</td>\n",
       "      <td>12.950733</td>\n",
       "      <td>6.303916</td>\n",
       "      <td>12.819584</td>\n",
       "    </tr>\n",
       "    <tr>\n",
       "      <th>206</th>\n",
       "      <td>52.426410</td>\n",
       "      <td>57.253724</td>\n",
       "      <td>44.235152</td>\n",
       "      <td>43.904226</td>\n",
       "      <td>43.435186</td>\n",
       "      <td>33.258427</td>\n",
       "      <td>24.059863</td>\n",
       "      <td>19.187663</td>\n",
       "      <td>18.932124</td>\n",
       "      <td>16.380495</td>\n",
       "      <td>...</td>\n",
       "      <td>44.100248</td>\n",
       "      <td>7.767852</td>\n",
       "      <td>35.637982</td>\n",
       "      <td>5.930561</td>\n",
       "      <td>9.731583</td>\n",
       "      <td>6.957987</td>\n",
       "      <td>12.950733</td>\n",
       "      <td>inf</td>\n",
       "      <td>6.837848</td>\n",
       "      <td>3.322755</td>\n",
       "    </tr>\n",
       "    <tr>\n",
       "      <th>207</th>\n",
       "      <td>58.033459</td>\n",
       "      <td>62.771969</td>\n",
       "      <td>50.249720</td>\n",
       "      <td>49.916254</td>\n",
       "      <td>49.443317</td>\n",
       "      <td>39.167214</td>\n",
       "      <td>29.799983</td>\n",
       "      <td>24.810368</td>\n",
       "      <td>24.497386</td>\n",
       "      <td>21.878183</td>\n",
       "      <td>...</td>\n",
       "      <td>50.098326</td>\n",
       "      <td>0.930123</td>\n",
       "      <td>41.121628</td>\n",
       "      <td>1.082749</td>\n",
       "      <td>3.286821</td>\n",
       "      <td>0.316363</td>\n",
       "      <td>6.303916</td>\n",
       "      <td>6.837848</td>\n",
       "      <td>inf</td>\n",
       "      <td>6.555740</td>\n",
       "    </tr>\n",
       "    <tr>\n",
       "      <th>208</th>\n",
       "      <td>51.498562</td>\n",
       "      <td>56.252160</td>\n",
       "      <td>43.699224</td>\n",
       "      <td>43.365623</td>\n",
       "      <td>42.892477</td>\n",
       "      <td>32.612755</td>\n",
       "      <td>23.244592</td>\n",
       "      <td>18.256813</td>\n",
       "      <td>17.946783</td>\n",
       "      <td>15.328953</td>\n",
       "      <td>...</td>\n",
       "      <td>43.546610</td>\n",
       "      <td>7.378764</td>\n",
       "      <td>34.596810</td>\n",
       "      <td>5.473691</td>\n",
       "      <td>8.568009</td>\n",
       "      <td>6.800190</td>\n",
       "      <td>12.819584</td>\n",
       "      <td>3.322755</td>\n",
       "      <td>6.555740</td>\n",
       "      <td>inf</td>\n",
       "    </tr>\n",
       "  </tbody>\n",
       "</table>\n",
       "<p>209 rows × 209 columns</p>\n",
       "</div>"
      ],
      "text/plain": [
       "           0          1          2          3          4          5    \\\n",
       "0          inf   4.955113   9.869531  10.106452  10.449666  19.381676   \n",
       "1     4.955113        inf  14.677579  14.935802  15.305346  24.308448   \n",
       "2     9.869531  14.677579        inf   0.334411   0.808958  11.115406   \n",
       "3    10.106452  14.935802   0.334411        inf   0.474552  10.781004   \n",
       "4    10.449666  15.305346   0.808958   0.474552        inf  10.306500   \n",
       "..         ...        ...        ...        ...        ...        ...   \n",
       "204  58.289799  63.032656  50.483751  50.150395  49.677629  39.405415   \n",
       "205  64.183423  68.887343  56.512897  56.179123  55.705696  45.418031   \n",
       "206  52.426410  57.253724  44.235152  43.904226  43.435186  33.258427   \n",
       "207  58.033459  62.771969  50.249720  49.916254  49.443317  39.167214   \n",
       "208  51.498562  56.252160  43.699224  43.365623  42.892477  32.612755   \n",
       "\n",
       "           6          7          8          9    ...        199        200  \\\n",
       "0    28.366626  33.283857  33.572105  36.180388  ...   9.834455  58.807684   \n",
       "1    33.200978  38.082949  38.359992  40.957919  ...  14.668787  63.533498   \n",
       "2    20.528403  25.525757  25.873103  28.479109  ...   0.277381  51.076798   \n",
       "3    20.194002  25.191396  25.538702  28.144750  ...   0.275352  50.743133   \n",
       "4    19.719500  24.716985  25.064200  27.670344  ...   0.675814  50.269880   \n",
       "..         ...        ...        ...        ...  ...        ...        ...   \n",
       "204  30.043890  25.057003  24.746328  22.127878  ...  50.333340   0.873356   \n",
       "205  36.031385  31.032874  30.709185  28.088948  ...  56.358333   5.442806   \n",
       "206  24.059863  19.187663  18.932124  16.380495  ...  44.100248   7.767852   \n",
       "207  29.799983  24.810368  24.497386  21.878183  ...  50.098326   0.930123   \n",
       "208  23.244592  18.256813  17.946783  15.328953  ...  43.546610   7.378764   \n",
       "\n",
       "           201        202        203        204        205        206  \\\n",
       "0    16.925593  56.951696  59.384127  58.289799  64.183423  52.426410   \n",
       "1    21.656349  61.691640  64.045304  63.032656  68.887343  57.253724   \n",
       "2    10.783789  49.169693  51.934205  50.483751  56.512897  44.235152   \n",
       "3    10.480249  48.836189  51.599860  50.150395  56.179123  43.904226   \n",
       "4    10.051472  48.363192  51.125476  49.677629  55.705696  43.435186   \n",
       "..         ...        ...        ...        ...        ...        ...   \n",
       "204  41.380643   1.345136   3.373031        inf   6.102435   6.957987   \n",
       "205  47.259286   7.369875   5.108681   6.102435        inf  12.950733   \n",
       "206  35.637982   5.930561   9.731583   6.957987  12.950733        inf   \n",
       "207  41.121628   1.082749   3.286821   0.316363   6.303916   6.837848   \n",
       "208  34.596810   5.473691   8.568009   6.800190  12.819584   3.322755   \n",
       "\n",
       "           207        208  \n",
       "0    58.033459  51.498562  \n",
       "1    62.771969  56.252160  \n",
       "2    50.249720  43.699224  \n",
       "3    49.916254  43.365623  \n",
       "4    49.443317  42.892477  \n",
       "..         ...        ...  \n",
       "204   0.316363   6.800190  \n",
       "205   6.303916  12.819584  \n",
       "206   6.837848   3.322755  \n",
       "207        inf   6.555740  \n",
       "208   6.555740        inf  \n",
       "\n",
       "[209 rows x 209 columns]"
      ]
     },
     "execution_count": 23,
     "metadata": {},
     "output_type": "execute_result"
    }
   ],
   "source": [
    "np.fill_diagonal(dists, np.inf)\n",
    "pd.DataFrame(dists)"
   ]
  },
  {
   "cell_type": "markdown",
   "metadata": {
    "slideshow": {
     "slide_type": "slide"
    }
   },
   "source": [
    "Let's look at the distances between **City 0** and some other cities. "
   ]
  },
  {
   "cell_type": "markdown",
   "metadata": {},
   "source": [
    "Which city is the closest to **City 0** based on the **Euclidean Distance**?"
   ]
  },
  {
   "cell_type": "code",
   "execution_count": 27,
   "metadata": {},
   "outputs": [
    {
     "name": "stdout",
     "output_type": "stream",
     "text": [
      "0.06540068802871671\n"
     ]
    },
    {
     "data": {
      "text/plain": [
       "81"
      ]
     },
     "execution_count": 27,
     "metadata": {},
     "output_type": "execute_result"
    }
   ],
   "source": [
    "print(dists[0][81])\n",
    "dists[0].argmin()"
   ]
  },
  {
   "cell_type": "code",
   "execution_count": 28,
   "metadata": {
    "slideshow": {
     "slide_type": "-"
    }
   },
   "outputs": [
    {
     "name": "stdout",
     "output_type": "stream",
     "text": [
      "The closest city from city 0 is: 81 \n",
      "\n",
      "with feature vector: \n",
      "longitude   -129.9912\n",
      "latitude      55.9383\n",
      "Name: 81, dtype: float64\n"
     ]
    }
   ],
   "source": [
    "# Uncomment the following if to learn more details\n",
    "# print(\"Feature vector for city 0: \\n%s\\n\" % (X_cities.iloc[0]))\n",
    "# print(\"Distances from city 0 to the first 5 cities: %s\" % (dists[0][:5]))\n",
    "\n",
    "# We can find the closest city with `np.argmin`:\n",
    "print(\n",
    "    \"The closest city from city 0 is: %d \\n\\nwith feature vector: \\n%s\"\n",
    "    % (np.argmin(dists[0]), X_cities.iloc[np.argmin(dists[0])])\n",
    ")"
   ]
  },
  {
   "cell_type": "markdown",
   "metadata": {
    "slideshow": {
     "slide_type": "slide"
    }
   },
   "source": [
    "**Question**\n",
    "\n",
    "- Would we get the same results if we used a different metric (example, `l1` or `haversine`)?"
   ]
  },
  {
   "cell_type": "code",
   "execution_count": 34,
   "metadata": {},
   "outputs": [
    {
     "data": {
      "text/plain": [
       "146"
      ]
     },
     "execution_count": 34,
     "metadata": {},
     "output_type": "execute_result"
    }
   ],
   "source": [
    "# sklearn.metrics.pairwise_distances(X_cities, metric='l1')[0][1:].argmin() + 1\n",
    "sklearn.metrics.pairwise_distances(X_cities, metric='haversine')[0][1:].argmin() + 1"
   ]
  },
  {
   "cell_type": "markdown",
   "metadata": {
    "slideshow": {
     "slide_type": "slide"
    }
   },
   "source": [
    "### Finding the nearest neighbor of a query point (city)\n",
    "\n",
    "We can also find the distances to a new \"test\" or \"query\" city:"
   ]
  },
  {
   "cell_type": "code",
   "execution_count": 36,
   "metadata": {},
   "outputs": [
    {
     "name": "stdout",
     "output_type": "stream",
     "text": [
      "(209, 1)\n"
     ]
    },
    {
     "data": {
      "text/plain": [
       "array([[58.85545875],\n",
       "       [63.80062924],\n",
       "       [49.30530902],\n",
       "       [49.01473536],\n",
       "       [48.60495488],\n",
       "       [39.96834506],\n",
       "       [32.92852376],\n",
       "       [29.53520104],\n",
       "       [29.52881619],\n",
       "       [27.84679073]])"
      ]
     },
     "execution_count": 36,
     "metadata": {},
     "output_type": "execute_result"
    }
   ],
   "source": [
    "# Let's find a city that's closest to the a query city\n",
    "query_point = [[-80, 25]]\n",
    "\n",
    "dists = euclidean_distances(X_cities, query_point)\n",
    "print(dists.shape)\n",
    "dists[0:10]"
   ]
  },
  {
   "cell_type": "code",
   "execution_count": 37,
   "metadata": {},
   "outputs": [
    {
     "name": "stdout",
     "output_type": "stream",
     "text": [
      "The query point [[-80, 25]] is closest to the city with index 72 and the distance between them is: 0.7982\n"
     ]
    }
   ],
   "source": [
    "# The query point is closest to\n",
    "print(\n",
    "    \"The query point %s is closest to the city with index %d and the distance between them is: %0.4f\"\n",
    "    % (query_point, np.argmin(dists), dists[np.argmin(dists)])\n",
    ")"
   ]
  },
  {
   "cell_type": "markdown",
   "metadata": {
    "slideshow": {
     "slide_type": "skip"
    }
   },
   "source": [
    "<br><br>"
   ]
  },
  {
   "cell_type": "markdown",
   "metadata": {
    "slideshow": {
     "slide_type": "slide"
    }
   },
   "source": [
    "# $k$-Nearest Neighbours ($k$-NNs) [[video](https://youtu.be/bENDqXKJLmg)]"
   ]
  },
  {
   "cell_type": "markdown",
   "metadata": {},
   "source": [
    "Evelyn Fix and Joseph Hodges are credited with the initial ideas around the KNN model [in this 1951 paper](https://apps.dtic.mil/sti/pdfs/ADA800276.pdf),  \n",
    "while Thomas Cover expands on their concept in [his research](https://isl.stanford.edu/~cover/papers/transIT/0021cove.pdf) “Nearest Neighbor Pattern Classification.”\n",
    "> Reference: https://www.ibm.com/topics/knn"
   ]
  },
  {
   "cell_type": "code",
   "execution_count": 38,
   "metadata": {
    "slideshow": {
     "slide_type": "slide"
    }
   },
   "outputs": [],
   "source": [
    "small_cities = cities_df.sample(30, random_state=90)\n",
    "one_city = small_cities.sample(1, random_state=44)\n",
    "small_train_df = pd.concat([small_cities, one_city]).drop_duplicates(keep=False)"
   ]
  },
  {
   "cell_type": "code",
   "execution_count": 39,
   "metadata": {},
   "outputs": [],
   "source": [
    "X_small_cities = small_train_df.drop(columns=[\"country\"]).to_numpy()\n",
    "y_small_cities = small_train_df[\"country\"].to_numpy()\n",
    "test_point = one_city[[\"longitude\", \"latitude\"]].to_numpy()"
   ]
  },
  {
   "cell_type": "code",
   "execution_count": 40,
   "metadata": {
    "slideshow": {
     "slide_type": "-"
    }
   },
   "outputs": [
    {
     "data": {
      "image/png": "[encoded data removed]",
      "text/plain": [
       "<Figure size 640x480 with 1 Axes>"
      ]
     },
     "metadata": {},
     "output_type": "display_data"
    }
   ],
   "source": [
    "plot_train_test_points(\n",
    "    X_small_cities,\n",
    "    y_small_cities,\n",
    "    test_point,\n",
    "    class_names=[\"Canada\", \"USA\"],\n",
    "    test_format=\"circle\",\n",
    ")"
   ]
  },
  {
   "cell_type": "markdown",
   "metadata": {
    "slideshow": {
     "slide_type": "slide"
    }
   },
   "source": [
    "- Given a new data point, predict the class of the data point by finding the \"closest\" data point in the training set, i.e., by finding its \"nearest neighbour\" or majority vote of nearest neighbours. "
   ]
  },
  {
   "cell_type": "markdown",
   "metadata": {
    "slideshow": {
     "slide_type": "slide"
    }
   },
   "source": [
    "Suppose we want to predict the class of the black point.  \n",
    "- An intuitive way to do this is predict the same label as the \"closest\" point ($k = 1$) (1-nearest neighbour)\n",
    "- We would predict a target of **USA** in this case."
   ]
  },
  {
   "cell_type": "code",
   "execution_count": 41,
   "metadata": {},
   "outputs": [
    {
     "name": "stdout",
     "output_type": "stream",
     "text": [
      "n_neighbors 1\n"
     ]
    },
    {
     "data": {
      "image/png": "[encoded data removed]",
      "text/plain": [
       "<Figure size 640x480 with 1 Axes>"
      ]
     },
     "metadata": {},
     "output_type": "display_data"
    }
   ],
   "source": [
    "plot_knn_clf(\n",
    "    X_small_cities,\n",
    "    y_small_cities,\n",
    "    test_point,\n",
    "    n_neighbors=1,\n",
    "    class_names=[\"Canada\", \"USA\"],\n",
    "    test_format=\"circle\",\n",
    ")"
   ]
  },
  {
   "cell_type": "markdown",
   "metadata": {
    "slideshow": {
     "slide_type": "slide"
    }
   },
   "source": [
    "How about using $k > 1$ to get a more robust estimate? \n",
    "- For example, we could also use the 3 closest points (*k* = 3) and let them **vote** on the correct class.  \n",
    "- The **Canada** class would win in this case. "
   ]
  },
  {
   "cell_type": "code",
   "execution_count": 42,
   "metadata": {},
   "outputs": [
    {
     "name": "stdout",
     "output_type": "stream",
     "text": [
      "n_neighbors 3\n"
     ]
    },
    {
     "data": {
      "image/png": "[encoded data removed]",
      "text/plain": [
       "<Figure size 640x480 with 1 Axes>"
      ]
     },
     "metadata": {},
     "output_type": "display_data"
    }
   ],
   "source": [
    "plot_knn_clf(\n",
    "    X_small_cities,\n",
    "    y_small_cities,\n",
    "    test_point,\n",
    "    n_neighbors=3,\n",
    "    class_names=[\"Canada\", \"USA\"],\n",
    "    test_format=\"circle\",\n",
    ")"
   ]
  },
  {
   "cell_type": "code",
   "execution_count": 43,
   "metadata": {
    "slideshow": {
     "slide_type": "slide"
    }
   },
   "outputs": [
    {
     "name": "stdout",
     "output_type": "stream",
     "text": [
      "Prediction of the black dot with 1 neighbours: ['USA']\n",
      "Prediction of the black dot with 3 neighbours: ['Canada']\n",
      "Prediction of the black dot with 5 neighbours: ['USA']\n"
     ]
    }
   ],
   "source": [
    "from sklearn.neighbors import KNeighborsClassifier\n",
    "\n",
    "k_values = [1, 3, 5]\n",
    "for k in k_values:\n",
    "\n",
    "    # ---- New function ------\n",
    "    neigh = KNeighborsClassifier(n_neighbors=k)\n",
    "    neigh.fit(X_small_cities, y_small_cities)\n",
    "    # -----------------------\n",
    "    \n",
    "    print(\n",
    "        \"Prediction of the black dot with %d neighbours: %s\"\n",
    "        % (k, neigh.predict(test_point))\n",
    "    )"
   ]
  },
  {
   "cell_type": "markdown",
   "metadata": {},
   "source": [
    "<br><br><br><br><br><br>\n",
    "In the KNN algorithm, `k` matters!\n",
    "\n",
    "is `k` a **hyper-parameter** or **parameter**?\n",
    "\n",
    "Hyper-parameter\n",
    "<br><br><br><br><br><br>"
   ]
  },
  {
   "cell_type": "code",
   "execution_count": null,
   "metadata": {},
   "outputs": [],
   "source": []
  },
  {
   "cell_type": "markdown",
   "metadata": {
    "slideshow": {
     "slide_type": "slide"
    }
   },
   "source": [
    "## Choosing `n_neighbors`\n",
    "\n",
    "- The primary hyperparameter of the model is `n_neighbors` ($k$) which decides how many neighbours should vote during prediction? \n",
    "- What happens when we play around with `n_neighbors`?\n",
    "- Are we more likely to **overfit** with a low `n_neighbors` or a high `n_neighbors`?\n",
    "- Let's examine the effect of the hyperparameter on our cities data. "
   ]
  },
  {
   "cell_type": "code",
   "execution_count": 44,
   "metadata": {
    "slideshow": {
     "slide_type": "slide"
    }
   },
   "outputs": [],
   "source": [
    "from sklearn.model_selection import train_test_split, cross_validate\n",
    "\n",
    "X = cities_df.drop(columns=[\"country\"])\n",
    "y = cities_df[\"country\"]\n",
    "\n",
    "# split the dataset into train and test sets\n",
    "X_train, X_test, y_train, y_test = train_test_split(\n",
    "    X, y, train_size=0.9, random_state=123\n",
    ")\n",
    "\n",
    "# split train into train and valid\n",
    "X_train, X_valid, y_train, y_valid = train_test_split(\n",
    "    X_train, y_train, train_size=0.8, random_state=123\n",
    ")"
   ]
  },
  {
   "cell_type": "code",
   "execution_count": 45,
   "metadata": {
    "slideshow": {
     "slide_type": "slide"
    }
   },
   "outputs": [
    {
     "name": "stdout",
     "output_type": "stream",
     "text": [
      "Validation Accuracy: 0.7894736842105263\n"
     ]
    }
   ],
   "source": [
    "k = 1\n",
    "knn1 = KNeighborsClassifier(n_neighbors=k)\n",
    "score = knn1.fit(X_train, y_train).score(X_valid, y_valid)\n",
    "print('Validation Accuracy:', score)"
   ]
  },
  {
   "cell_type": "code",
   "execution_count": 46,
   "metadata": {
    "slideshow": {
     "slide_type": "-"
    }
   },
   "outputs": [
    {
     "name": "stdout",
     "output_type": "stream",
     "text": [
      "Validation Accuracy: 0.8421052631578947\n"
     ]
    }
   ],
   "source": [
    "k = 10\n",
    "knn100 = KNeighborsClassifier(n_neighbors=k)\n",
    "score = knn100.fit(X_train, y_train).score(X_valid, y_valid)\n",
    "print('Validation Accuracy:', score)"
   ]
  },
  {
   "cell_type": "code",
   "execution_count": 47,
   "metadata": {},
   "outputs": [
    {
     "name": "stdout",
     "output_type": "stream",
     "text": [
      "Validation Accuracy: 0.8157894736842105\n"
     ]
    }
   ],
   "source": [
    "k = 20\n",
    "knn20 = KNeighborsClassifier(n_neighbors=k)\n",
    "score = knn20.fit(X_train, y_train).score(X_valid, y_valid)\n",
    "print('Validation Accuracy:', score)"
   ]
  },
  {
   "cell_type": "code",
   "execution_count": null,
   "metadata": {
    "slideshow": {
     "slide_type": "slide"
    }
   },
   "outputs": [],
   "source": [
    "# For students: Play around with this for fun!\n",
    "# ------------- To be skipped ----------------\n",
    "def f(n_neighbors=1):\n",
    "    knn = KNeighborsClassifier(n_neighbors=n_neighbors)\n",
    "    knn.fit(X_train, y_train)\n",
    "    score_valid = knn.score(X_valid, y_valid)\n",
    "    score_train = knn.score(X_train, y_train)\n",
    "    print('n_neighbors:', n_neighbors)\n",
    "    print('train score:', score_train)\n",
    "    print('valid score:', score_valid)\n",
    "\n",
    "interactive(\n",
    "    f,\n",
    "    n_neighbors=widgets.IntSlider(min=1, max=101, step=5, value=1),\n",
    ")\n",
    "# ------------- To be skipped ----------------"
   ]
  },
  {
   "cell_type": "code",
   "execution_count": 48,
   "metadata": {},
   "outputs": [
    {
     "name": "stderr",
     "output_type": "stream",
     "text": [
      "/Users/amirabdi/miniconda3/envs/cpsc330/lib/python3.10/site-packages/sklearn/base.py:450: UserWarning: X does not have valid feature names, but KNeighborsClassifier was fitted with feature names\n",
      "  warnings.warn(\n",
      "/Users/amirabdi/miniconda3/envs/cpsc330/lib/python3.10/site-packages/sklearn/base.py:450: UserWarning: X does not have valid feature names, but KNeighborsClassifier was fitted with feature names\n",
      "  warnings.warn(\n",
      "/Users/amirabdi/miniconda3/envs/cpsc330/lib/python3.10/site-packages/sklearn/base.py:450: UserWarning: X does not have valid feature names, but KNeighborsClassifier was fitted with feature names\n",
      "  warnings.warn(\n"
     ]
    },
    {
     "data": {
      "image/png": "[encoded data removed]",
      "text/plain": [
       "<Figure size 1500x400 with 3 Axes>"
      ]
     },
     "metadata": {},
     "output_type": "display_data"
    }
   ],
   "source": [
    "import matplotlib\n",
    "from plotting_functions import plot_knn_decision_boundaries\n",
    "matplotlib.rc('font', **{'size'   : 10})\n",
    "\n",
    "plot_knn_decision_boundaries(X_train, y_train, k_values=[1, 10, 20])"
   ]
  },
  {
   "cell_type": "code",
   "execution_count": 49,
   "metadata": {},
   "outputs": [
    {
     "data": {
      "image/png": "[encoded data removed]",
      "text/plain": [
       "<Figure size 640x480 with 1 Axes>"
      ]
     },
     "metadata": {},
     "output_type": "display_data"
    }
   ],
   "source": [
    "scores_valid, scores_train = list(), list()\n",
    "\n",
    "n_neighbors_list = range(1, 50, 5)\n",
    "for n_neighbors in n_neighbors_list:\n",
    "    knn = KNeighborsClassifier(n_neighbors=n_neighbors)\n",
    "    knn.fit(X_train, y_train)\n",
    "    \n",
    "    scores_valid.append(knn.score(X_valid, y_valid))\n",
    "    scores_train.append(knn.score(X_train, y_train))\n",
    "\n",
    "results_df = pd.DataFrame({'train_accuracy': scores_train, 'valid_accuracy': scores_valid, 'n_neighbors': n_neighbors_list}).set_index('n_neighbors')\n",
    "results_df.plot();"
   ]
  },
  {
   "cell_type": "markdown",
   "metadata": {},
   "source": [
    "<br><br><br><br>\n",
    "**Question**:\n",
    "Why at `n_neighbors=1`, Train Accuracy is 100%?\n",
    "<br><br><br><br><br><br><br><br><br><br>"
   ]
  },
  {
   "cell_type": "markdown",
   "metadata": {
    "slideshow": {
     "slide_type": "slide"
    }
   },
   "source": [
    "## What's the performance of the best model on test set?\n",
    "\n",
    "- `n_neighbors` is a hyperparameter\n",
    "- We can use hyperparameter optimization to choose `n_neighbors`."
   ]
  },
  {
   "cell_type": "code",
   "execution_count": 51,
   "metadata": {},
   "outputs": [
    {
     "data": {
      "text/html": [
       "<div>\n",
       "<style scoped>\n",
       "    .dataframe tbody tr th:only-of-type {\n",
       "        vertical-align: middle;\n",
       "    }\n",
       "\n",
       "    .dataframe tbody tr th {\n",
       "        vertical-align: top;\n",
       "    }\n",
       "\n",
       "    .dataframe thead th {\n",
       "        text-align: right;\n",
       "    }\n",
       "</style>\n",
       "<table border=\"1\" class=\"dataframe\">\n",
       "  <thead>\n",
       "    <tr style=\"text-align: right;\">\n",
       "      <th></th>\n",
       "      <th>train_accuracy</th>\n",
       "      <th>valid_accuracy</th>\n",
       "    </tr>\n",
       "    <tr>\n",
       "      <th>n_neighbors</th>\n",
       "      <th></th>\n",
       "      <th></th>\n",
       "    </tr>\n",
       "  </thead>\n",
       "  <tbody>\n",
       "    <tr>\n",
       "      <th>1</th>\n",
       "      <td>1.000000</td>\n",
       "      <td>0.789474</td>\n",
       "    </tr>\n",
       "    <tr>\n",
       "      <th>6</th>\n",
       "      <td>0.840000</td>\n",
       "      <td>0.815789</td>\n",
       "    </tr>\n",
       "    <tr>\n",
       "      <th>11</th>\n",
       "      <td>0.826667</td>\n",
       "      <td>0.815789</td>\n",
       "    </tr>\n",
       "    <tr>\n",
       "      <th>16</th>\n",
       "      <td>0.806667</td>\n",
       "      <td>0.842105</td>\n",
       "    </tr>\n",
       "    <tr>\n",
       "      <th>21</th>\n",
       "      <td>0.786667</td>\n",
       "      <td>0.815789</td>\n",
       "    </tr>\n",
       "    <tr>\n",
       "      <th>26</th>\n",
       "      <td>0.740000</td>\n",
       "      <td>0.763158</td>\n",
       "    </tr>\n",
       "    <tr>\n",
       "      <th>31</th>\n",
       "      <td>0.733333</td>\n",
       "      <td>0.736842</td>\n",
       "    </tr>\n",
       "    <tr>\n",
       "      <th>36</th>\n",
       "      <td>0.720000</td>\n",
       "      <td>0.710526</td>\n",
       "    </tr>\n",
       "    <tr>\n",
       "      <th>41</th>\n",
       "      <td>0.706667</td>\n",
       "      <td>0.710526</td>\n",
       "    </tr>\n",
       "    <tr>\n",
       "      <th>46</th>\n",
       "      <td>0.700000</td>\n",
       "      <td>0.710526</td>\n",
       "    </tr>\n",
       "  </tbody>\n",
       "</table>\n",
       "</div>"
      ],
      "text/plain": [
       "             train_accuracy  valid_accuracy\n",
       "n_neighbors                                \n",
       "1                  1.000000        0.789474\n",
       "6                  0.840000        0.815789\n",
       "11                 0.826667        0.815789\n",
       "16                 0.806667        0.842105\n",
       "21                 0.786667        0.815789\n",
       "26                 0.740000        0.763158\n",
       "31                 0.733333        0.736842\n",
       "36                 0.720000        0.710526\n",
       "41                 0.706667        0.710526\n",
       "46                 0.700000        0.710526"
      ]
     },
     "execution_count": 51,
     "metadata": {},
     "output_type": "execute_result"
    }
   ],
   "source": [
    "results_df"
   ]
  },
  {
   "cell_type": "code",
   "execution_count": 53,
   "metadata": {},
   "outputs": [
    {
     "data": {
      "text/plain": [
       "train_accuracy     1\n",
       "valid_accuracy    16\n",
       "dtype: int64"
      ]
     },
     "execution_count": 53,
     "metadata": {},
     "output_type": "execute_result"
    }
   ],
   "source": [
    "results_df.idxmax()"
   ]
  },
  {
   "cell_type": "markdown",
   "metadata": {},
   "source": [
    "**Question**: Do you notice some weird pattern above? How do you explain that?"
   ]
  },
  {
   "cell_type": "markdown",
   "metadata": {
    "slideshow": {
     "slide_type": "slide"
    }
   },
   "source": [
    "------------------\n",
    "Now, we will evaluate our best model on **test data** to report to our stakeholders (customer, product manager, marketting, etc.):"
   ]
  },
  {
   "cell_type": "code",
   "execution_count": 54,
   "metadata": {},
   "outputs": [
    {
     "data": {
      "text/plain": [
       "203    Canada\n",
       "125    Canada\n",
       "110    Canada\n",
       "53        USA\n",
       "128    Canada\n",
       "        ...  \n",
       "169    Canada\n",
       "104    Canada\n",
       "129    Canada\n",
       "94     Canada\n",
       "131    Canada\n",
       "Name: country, Length: 188, dtype: object"
      ]
     },
     "execution_count": 54,
     "metadata": {},
     "output_type": "execute_result"
    }
   ],
   "source": [
    "pd.concat((y_train, y_valid))"
   ]
  },
  {
   "cell_type": "code",
   "execution_count": 55,
   "metadata": {
    "slideshow": {
     "slide_type": "-"
    }
   },
   "outputs": [
    {
     "name": "stdout",
     "output_type": "stream",
     "text": [
      "Test accuracy: 0.857\n"
     ]
    }
   ],
   "source": [
    "best_n_neighbours = results_df.idxmax()['valid_accuracy']\n",
    "knn = KNeighborsClassifier(n_neighbors=best_n_neighbours)\n",
    "\n",
    "# Let's use the entire Train + Valid dataset to train a new model\n",
    "knn.fit(pd.concat((X_train, X_valid)), pd.concat((y_train, y_valid)))\n",
    "\n",
    "print(\"Test accuracy: %0.3f\" % (knn.score(X_test, y_test)))"
   ]
  },
  {
   "cell_type": "markdown",
   "metadata": {},
   "source": [
    "<br><br>"
   ]
  },
  {
   "cell_type": "markdown",
   "metadata": {
    "slideshow": {
     "slide_type": "slide"
    }
   },
   "source": [
    "## ❓❓ Questions for you "
   ]
  },
  {
   "cell_type": "markdown",
   "metadata": {},
   "source": [
    "### (iClicker) Exercise 4.1 \n",
    "\n",
    "**iClicker cloud join link: https://join.iclicker.com/EMMJ**\n",
    "\n",
    "**Select all of the following statements which are TRUE.**\n",
    "\n",
    "1. Similarity (analogy)-based models find examples from the **test set** that are most similar to the query example we are predicting.\n",
    "2. We more likely to **overfit** with a low `n_neighbors` than a high `n_neighbors` --> debatable, but, if have to answer, I'd say: FALSE\n",
    "3. With $k$-NN, setting the hyperparameter $k$ to larger values typically reduces training error. \n",
    "4. In $k$-NN, with $k > 1$, the classification of the closest neighbour to the test example always contributes the most to the prediction.\n",
    "5. KNN is such an old algorithm, oh dear! Why am I learning this? :)"
   ]
  },
  {
   "cell_type": "markdown",
   "metadata": {
    "slideshow": {
     "slide_type": "slide"
    }
   },
   "source": [
    "## Break (5 min)\n",
    "\n",
    "![](../img/eva-coffee.png)\n"
   ]
  },
  {
   "cell_type": "markdown",
   "metadata": {},
   "source": [
    "<br><br><br><br><br><br><br><br><br><br><br><br><br><br>\n",
    "```python\n",
    "knn = KNeighborsClassifier(n_neighbors=10)\n",
    "knn.fit(X_train, y_train)\n",
    "```\n",
    "What's KNN learning when we call the `.fit()` function?\n",
    "<br><br><br><br><br><br><br><br><br><br><br><br><br><br>"
   ]
  },
  {
   "cell_type": "markdown",
   "metadata": {},
   "source": [
    "- **Lazy learning**: Takes no time to `fit`, i.e, **no fitting!** \n",
    "- There is no learning happening\n",
    "- Has no learning process\n",
    "- model = all the training data"
   ]
  },
  {
   "cell_type": "markdown",
   "metadata": {},
   "source": [
    "Compuational complexity of prediction on a new sample? \n",
    "\n",
    "- Have to **iterate** over all the sample one-by-one and calculate the **distance** to all, and get the **top k** samples.\n",
    "- Can be potentially be **VERY slow** during prediction time, especially when the training set is very large."
   ]
  },
  {
   "cell_type": "markdown",
   "metadata": {},
   "source": [
    "<br><br><br><br><br><br><br><br><br><br>"
   ]
  },
  {
   "cell_type": "markdown",
   "metadata": {
    "slideshow": {
     "slide_type": "slide"
    }
   },
   "source": [
    "## [Study on your own!]\n",
    "### More on $k$-NNs [[video](https://youtu.be/IRGbqi5S9gQ)]"
   ]
  },
  {
   "cell_type": "markdown",
   "metadata": {
    "slideshow": {
     "slide_type": "slide"
    }
   },
   "source": [
    "### Other useful arguments of `KNeighborsClassifier`\n",
    "\n",
    "- `weights` $\\rightarrow$ When predicting label, **you can assign higher weight to the examples which are closer to the query example**.  \n",
    "- **Exercise for you**: Play around with this argument. Do you get a better validation score? "
   ]
  },
  {
   "cell_type": "markdown",
   "metadata": {
    "slideshow": {
     "slide_type": "slide"
    }
   },
   "source": [
    "### Regression with $k$-nearest neighbours ($k$-NNs)\n",
    "\n",
    "- Can we solve regression problems with $k$-nearest neighbours algorithm? \n",
    "- In $k$-NN regression we take the average of the $k$-nearest neighbours. \n",
    "- We can also have **weighted regression**. \n",
    "\n",
    "See an example of regression in the lecture notes. "
   ]
  },
  {
   "cell_type": "code",
   "execution_count": 56,
   "metadata": {
    "slideshow": {
     "slide_type": "skip"
    }
   },
   "outputs": [
    {
     "data": {
      "image/png": "[encoded data removed]",
      "text/plain": [
       "<Figure size 1000x600 with 1 Axes>"
      ]
     },
     "metadata": {},
     "output_type": "display_data"
    }
   ],
   "source": [
    "mglearn.plots.plot_knn_regression(n_neighbors=1)"
   ]
  },
  {
   "cell_type": "code",
   "execution_count": 57,
   "metadata": {
    "slideshow": {
     "slide_type": "skip"
    }
   },
   "outputs": [
    {
     "data": {
      "image/png": "[encoded data removed]",
      "text/plain": [
       "<Figure size 1000x600 with 1 Axes>"
      ]
     },
     "metadata": {},
     "output_type": "display_data"
    }
   ],
   "source": [
    "mglearn.plots.plot_knn_regression(n_neighbors=3)"
   ]
  },
  {
   "cell_type": "markdown",
   "metadata": {
    "slideshow": {
     "slide_type": "slide"
    }
   },
   "source": [
    "### Pros of $k$-NNs for supervised learning\n",
    "\n",
    "- Easy to understand, interpret.\n",
    "- Simple hyperparameter $k$ (`n_neighbors`) controlling the fundamental tradeoff.\n",
    "- Can learn very complex functions given enough data."
   ]
  },
  {
   "cell_type": "markdown",
   "metadata": {
    "slideshow": {
     "slide_type": "slide"
    }
   },
   "source": [
    "### Cons of $k$-NNs for supervised learning\n",
    "\n",
    "- Can be potentially be VERY slow during prediction time, especially when the training set is very large. \n",
    "- Often not that great test accuracy compared to the modern approaches.\n",
    "- It does not work well on datasets with many features or where most feature values are 0 most of the time (sparse datasets).    "
   ]
  },
  {
   "cell_type": "markdown",
   "metadata": {
    "slideshow": {
     "slide_type": "skip"
    }
   },
   "source": [
    "\n",
    "For regular $k$-NN for supervised learning (not with sparse matrices), you should normalize (scale) your features.   \n",
    "We'll be looking into it soon. \n"
   ]
  },
  {
   "cell_type": "markdown",
   "metadata": {
    "slideshow": {
     "slide_type": "slide"
    }
   },
   "source": [
    "# Parametric vs Non-parametric Models\n",
    "\n",
    "- **Parametric Model:** Learning **finite number of learnable parameters** during training.\n",
    "  - Eventually, as we add more data, we get to a point where more data doesn’t help (too much bias, model is too simple).\n",
    "- **Non-parametric Model:** The number of **parameters can be potentially infinite**.\n",
    "\n",
    "A simplied explanation of **non-parametric model**: The model (what is stored with the model) **increases with the size of data**\n",
    "\n"
   ]
  },
  {
   "cell_type": "markdown",
   "metadata": {},
   "source": [
    "**Non-parametric example**: $k$-NN is a classic example of non-parametric models.     "
   ]
  },
  {
   "cell_type": "markdown",
   "metadata": {},
   "source": [
    "**Question**: Are **DecisionTrees** parametric or non-parametric?\n",
    "\n",
    "Answer: Non-Parametric (in general)"
   ]
  },
  {
   "cell_type": "markdown",
   "metadata": {},
   "source": [
    "\n",
    "\n",
    "- If you want to know more about this, find some reading material \n",
    "  - https://www.cs.ubc.ca/~schmidtm/Courses/340-F16/L6.pdf\n",
    "  - http://mlss.tuebingen.mpg.de/2015/slides/ghahramani/gp-neural-nets15.pdf\n",
    "  - https://machinelearningmastery.com/parametric-and-nonparametric-machine-learning-algorithms/\n",
    "- By the way, the terms \"parametric\" and \"non-paramteric\" are often used differently by statisticians, see [here](https://help.xlstat.com/s/article/what-is-the-difference-between-a-parametric-and-a-nonparametric-test?language=en_US) for more..."
   ]
  },
  {
   "cell_type": "markdown",
   "metadata": {
    "slideshow": {
     "slide_type": "slide"
    }
   },
   "source": [
    "<br><br><br><br><br><br><br><br>\n",
    "# Curse of dimensionality\n",
    "\n",
    "**When more features HARM rather than HELP**\n",
    "\n",
    "- Affects all learners but especially bad for similarity-based models. "
   ]
  },
  {
   "cell_type": "markdown",
   "metadata": {},
   "source": [
    "## Curse of Dimensionality on KNN"
   ]
  },
  {
   "cell_type": "markdown",
   "metadata": {},
   "source": [
    "- $k$-NN usually works well when the number of dimensions $d$ is small but things fall apart quickly as $d$ goes up.\n",
    "  - **Because $k$-NN cannot ignore any features**\n",
    "- If there are many irrelevant attributes, $k$-NN is hopelessly confused because all of them contribute to finding similarity between examples. \n",
    "- With enough irrelevant attributes the accidental similarity swamps out meaningful similarity and $k$-NN is no better than random guessing.  "
   ]
  },
  {
   "cell_type": "code",
   "execution_count": 58,
   "metadata": {},
   "outputs": [
    {
     "data": {
      "text/plain": [
       "array([[-0.15836572,  0.01677597, -0.15846676,  0.14258461],\n",
       "       [ 1.43015811,  2.47607029, -1.8062561 ,  1.93564619],\n",
       "       [ 1.39572448, -0.02695912,  1.24766795, -1.10833963],\n",
       "       [ 1.49930647,  2.62557045, -1.93028184,  2.06576886],\n",
       "       [-1.92370042, -2.93048388,  1.93667871, -2.11285816],\n",
       "       [-2.56572306, -4.06837461,  2.7799908 , -3.01411497],\n",
       "       [-1.25845821, -0.37249584, -0.63607637,  0.51257052],\n",
       "       [-0.58369299, -0.32959233, -0.10180704,  0.04536086],\n",
       "       [-0.5356727 , -0.27498415, -0.12730409,  0.07535485],\n",
       "       [ 0.7650448 ,  1.36186022, -1.01221176,  1.08122797],\n",
       "       [-2.80648029,  0.2453873 , -2.74431664,  2.46313815],\n",
       "       [ 1.32930463,  2.25512203, -1.62178929,  1.74230247],\n",
       "       [ 2.25536343,  0.07813046,  1.86618321, -1.64169148],\n",
       "       [ 1.28954873,  2.15602639, -1.53428993,  1.65136797],\n",
       "       [-0.92223374,  0.16328704, -1.00363689,  0.91079765],\n",
       "       [-0.63762337, -0.13114785, -0.3932289 ,  0.33034452],\n",
       "       [-1.24215825, -2.10752203,  1.51576516, -1.62837646],\n",
       "       [ 1.41410037,  2.43624301, -1.77115866,  1.89916022],\n",
       "       [ 1.10025927,  1.75018822, -1.19897765,  1.29934751],\n",
       "       [ 0.14433866,  0.03801193,  0.07875944, -0.06456879],\n",
       "       [-0.73486869, -0.11783407, -0.49424772,  0.42159473],\n",
       "       [-1.45438619,  0.0619194 , -1.34178409,  1.19641915],\n",
       "       [ 0.64004877,  0.72788971, -0.33988324,  0.39982149],\n",
       "       [ 1.70033707,  0.00910025,  1.46829118, -1.29877895],\n",
       "       [ 0.38049458, -0.20341506,  0.58169709, -0.54266674],\n",
       "       [-0.12069005,  0.55229102, -0.78547162,  0.77048566],\n",
       "       [ 0.94858562,  1.39776736, -0.89674837,  0.9838758 ],\n",
       "       [ 0.88231762, -0.13411888,  0.93296796, -0.84426507],\n",
       "       [-2.57484267,  0.12167277, -2.39033942,  2.1329212 ],\n",
       "       [ 1.65332163, -0.00990482,  1.45079734, -1.28587205]])"
      ]
     },
     "execution_count": 58,
     "metadata": {},
     "output_type": "execute_result"
    }
   ],
   "source": [
    "from sklearn.datasets import make_classification\n",
    "X, y = make_classification(n_samples=30, n_features=4, n_classes=2)\n",
    "X"
   ]
  },
  {
   "cell_type": "markdown",
   "metadata": {},
   "source": [
    "```python\n",
    "from sklearn.dummy import DummyClassifier\n",
    "```\n",
    "Randomly selects one of the two classes; it's expected accuracy is 50% on binary classification"
   ]
  },
  {
   "cell_type": "code",
   "execution_count": 59,
   "metadata": {
    "slideshow": {
     "slide_type": "slide"
    }
   },
   "outputs": [],
   "source": [
    "from sklearn.dummy import DummyClassifier\n",
    "from sklearn.datasets import make_classification\n",
    "\n",
    "nfeats_accuracy = {\"nfeats\": [], \"dummy_valid_accuracy\": [], \"KNN_valid_accuracy\": []}\n",
    "for n_feats in range(4, 2000, 100):\n",
    "    X, y = make_classification(n_samples=2000, n_features=n_feats, n_classes=2)\n",
    "    X_train, X_test, y_train, y_test = train_test_split(X, y, test_size=0.2, random_state=123)\n",
    "\n",
    "    # DummyClassifier \n",
    "    dummy = DummyClassifier(strategy=\"most_frequent\")\n",
    "    dummy_scores = cross_validate(dummy, X_train, y_train, return_train_score=True)\n",
    "\n",
    "    # KNeighborsClassifier \n",
    "    knn = KNeighborsClassifier()\n",
    "    scores = cross_validate(knn, X_train, y_train, return_train_score=True)\n",
    "    \n",
    "    nfeats_accuracy[\"nfeats\"].append(n_feats)\n",
    "    nfeats_accuracy[\"KNN_valid_accuracy\"].append(np.mean(scores[\"test_score\"]))\n",
    "    nfeats_accuracy[\"dummy_valid_accuracy\"].append(np.mean(dummy_scores[\"test_score\"]))"
   ]
  },
  {
   "cell_type": "code",
   "execution_count": 60,
   "metadata": {},
   "outputs": [
    {
     "data": {
      "text/html": [
       "<div>\n",
       "<style scoped>\n",
       "    .dataframe tbody tr th:only-of-type {\n",
       "        vertical-align: middle;\n",
       "    }\n",
       "\n",
       "    .dataframe tbody tr th {\n",
       "        vertical-align: top;\n",
       "    }\n",
       "\n",
       "    .dataframe thead th {\n",
       "        text-align: right;\n",
       "    }\n",
       "</style>\n",
       "<table border=\"1\" class=\"dataframe\">\n",
       "  <thead>\n",
       "    <tr style=\"text-align: right;\">\n",
       "      <th></th>\n",
       "      <th>nfeats</th>\n",
       "      <th>dummy_valid_accuracy</th>\n",
       "      <th>KNN_valid_accuracy</th>\n",
       "    </tr>\n",
       "  </thead>\n",
       "  <tbody>\n",
       "    <tr>\n",
       "      <th>0</th>\n",
       "      <td>4</td>\n",
       "      <td>0.506250</td>\n",
       "      <td>0.940000</td>\n",
       "    </tr>\n",
       "    <tr>\n",
       "      <th>1</th>\n",
       "      <td>104</td>\n",
       "      <td>0.510625</td>\n",
       "      <td>0.781250</td>\n",
       "    </tr>\n",
       "    <tr>\n",
       "      <th>2</th>\n",
       "      <td>204</td>\n",
       "      <td>0.511875</td>\n",
       "      <td>0.668125</td>\n",
       "    </tr>\n",
       "    <tr>\n",
       "      <th>3</th>\n",
       "      <td>304</td>\n",
       "      <td>0.501875</td>\n",
       "      <td>0.652500</td>\n",
       "    </tr>\n",
       "    <tr>\n",
       "      <th>4</th>\n",
       "      <td>404</td>\n",
       "      <td>0.500000</td>\n",
       "      <td>0.686250</td>\n",
       "    </tr>\n",
       "    <tr>\n",
       "      <th>5</th>\n",
       "      <td>504</td>\n",
       "      <td>0.505000</td>\n",
       "      <td>0.614375</td>\n",
       "    </tr>\n",
       "    <tr>\n",
       "      <th>6</th>\n",
       "      <td>604</td>\n",
       "      <td>0.502500</td>\n",
       "      <td>0.581875</td>\n",
       "    </tr>\n",
       "    <tr>\n",
       "      <th>7</th>\n",
       "      <td>704</td>\n",
       "      <td>0.500625</td>\n",
       "      <td>0.600625</td>\n",
       "    </tr>\n",
       "    <tr>\n",
       "      <th>8</th>\n",
       "      <td>804</td>\n",
       "      <td>0.503125</td>\n",
       "      <td>0.617500</td>\n",
       "    </tr>\n",
       "    <tr>\n",
       "      <th>9</th>\n",
       "      <td>904</td>\n",
       "      <td>0.502500</td>\n",
       "      <td>0.633125</td>\n",
       "    </tr>\n",
       "    <tr>\n",
       "      <th>10</th>\n",
       "      <td>1004</td>\n",
       "      <td>0.506875</td>\n",
       "      <td>0.618125</td>\n",
       "    </tr>\n",
       "    <tr>\n",
       "      <th>11</th>\n",
       "      <td>1104</td>\n",
       "      <td>0.508750</td>\n",
       "      <td>0.603125</td>\n",
       "    </tr>\n",
       "    <tr>\n",
       "      <th>12</th>\n",
       "      <td>1204</td>\n",
       "      <td>0.500000</td>\n",
       "      <td>0.601875</td>\n",
       "    </tr>\n",
       "    <tr>\n",
       "      <th>13</th>\n",
       "      <td>1304</td>\n",
       "      <td>0.508125</td>\n",
       "      <td>0.630625</td>\n",
       "    </tr>\n",
       "    <tr>\n",
       "      <th>14</th>\n",
       "      <td>1404</td>\n",
       "      <td>0.502500</td>\n",
       "      <td>0.630000</td>\n",
       "    </tr>\n",
       "    <tr>\n",
       "      <th>15</th>\n",
       "      <td>1504</td>\n",
       "      <td>0.504375</td>\n",
       "      <td>0.579375</td>\n",
       "    </tr>\n",
       "    <tr>\n",
       "      <th>16</th>\n",
       "      <td>1604</td>\n",
       "      <td>0.509375</td>\n",
       "      <td>0.596875</td>\n",
       "    </tr>\n",
       "    <tr>\n",
       "      <th>17</th>\n",
       "      <td>1704</td>\n",
       "      <td>0.506875</td>\n",
       "      <td>0.597500</td>\n",
       "    </tr>\n",
       "    <tr>\n",
       "      <th>18</th>\n",
       "      <td>1804</td>\n",
       "      <td>0.499375</td>\n",
       "      <td>0.620000</td>\n",
       "    </tr>\n",
       "    <tr>\n",
       "      <th>19</th>\n",
       "      <td>1904</td>\n",
       "      <td>0.501250</td>\n",
       "      <td>0.591875</td>\n",
       "    </tr>\n",
       "  </tbody>\n",
       "</table>\n",
       "</div>"
      ],
      "text/plain": [
       "    nfeats  dummy_valid_accuracy  KNN_valid_accuracy\n",
       "0        4              0.506250            0.940000\n",
       "1      104              0.510625            0.781250\n",
       "2      204              0.511875            0.668125\n",
       "3      304              0.501875            0.652500\n",
       "4      404              0.500000            0.686250\n",
       "5      504              0.505000            0.614375\n",
       "6      604              0.502500            0.581875\n",
       "7      704              0.500625            0.600625\n",
       "8      804              0.503125            0.617500\n",
       "9      904              0.502500            0.633125\n",
       "10    1004              0.506875            0.618125\n",
       "11    1104              0.508750            0.603125\n",
       "12    1204              0.500000            0.601875\n",
       "13    1304              0.508125            0.630625\n",
       "14    1404              0.502500            0.630000\n",
       "15    1504              0.504375            0.579375\n",
       "16    1604              0.509375            0.596875\n",
       "17    1704              0.506875            0.597500\n",
       "18    1804              0.499375            0.620000\n",
       "19    1904              0.501250            0.591875"
      ]
     },
     "execution_count": 60,
     "metadata": {},
     "output_type": "execute_result"
    }
   ],
   "source": [
    "pd.DataFrame(nfeats_accuracy)"
   ]
  },
  {
   "cell_type": "markdown",
   "metadata": {},
   "source": [
    "<br><br>"
   ]
  },
  {
   "cell_type": "markdown",
   "metadata": {
    "slideshow": {
     "slide_type": "slide"
    }
   },
   "source": [
    "# Support Vector Machines (SVMs) with RBF kernel [[video](https://youtu.be/ic_zqOhi020)]\n",
    "\n",
    "\n",
    "<img src=\"https://datascience.columbia.edu/wp-content/uploads/2020/08/Vapnik_web.png\" width=\"300\">\n",
    "\n",
    "Vladimir N. Vapnik, 1936 (age 86)\n",
    "\n",
    "> The original SVM algorithm was invented by **Vladimir N. Vapnik** and Alexey Ya. Chervonenkis** in 1963.   \n",
    "In 1992, **Bernhard Boser, Isabelle Guyon and Vladimir Vapnik** suggested a way to create nonlinear classifiers by applying the kernel trick to maximum-margin hyperplanes.\n",
    "\n",
    "- Very high-level overview\n",
    "- Our goals here are\n",
    "    - Use `scikit-learn`'s SVM model. \n",
    "    - Broadly explain the notion of support vectors.  \n",
    "    - Broadly explain the similarities and differences between $k$-NNs and SVM RBFs.\n",
    "    - Explain how `C` and `gamma` hyperparameters control the fundamental tradeoff.\n",
    "    \n",
    "> (Optional) RBF stands for radial basis functions. We won't go into what it means in this session. Refer to [this video](https://www.youtube.com/watch?v=Qc5IyLW_hns) if you want to know more. "
   ]
  },
  {
   "cell_type": "markdown",
   "metadata": {
    "tags": []
   },
   "source": [
    "## What is a Support Vector?\n",
    "\n",
    "Samples on the **boundaries** that determine the **margin hyperplane**\n",
    "\n",
    "\n",
    "A **hyperplane** can be defined as: \n",
    "\n",
    "${\\displaystyle \\mathbf {w} ^{\\mathsf {T}}\\mathbf {x} -b=0}$\n",
    "\n",
    "$w$ and $b$ are learnable parameters, and learned during training of SVM\n",
    "<br><br><br><br><br>\n",
    "\n",
    "This is is a **Linear HARD SVM** \n",
    "\n",
    "<img src=\"https://upload.wikimedia.org/wikipedia/commons/thumb/7/72/SVM_margin.png/1920px-SVM_margin.png\" width=\"500\">\n",
    "\n",
    "[img source](https://en.wikipedia.org/wiki/Support_vector_machine)"
   ]
  },
  {
   "cell_type": "markdown",
   "metadata": {},
   "source": [
    "**HARD**: No misclassification can happen  \n",
    "**SOFT**: Misclassification can happen, and each miscalssification will be penalized relative to `C`\n"
   ]
  },
  {
   "cell_type": "markdown",
   "metadata": {},
   "source": [
    "Check this interactive demo: https://greitemann.dev/svm-demo"
   ]
  },
  {
   "cell_type": "markdown",
   "metadata": {
    "slideshow": {
     "slide_type": "slide"
    }
   },
   "source": [
    "## Overview\n",
    "\n",
    "- Another popular similarity-based algorithm is Support Vector Machines with RBF Kernel (SVM RBFs)\n",
    "- Superficially, SVM RBFs are more like weighted $k$-NNs.\n",
    "    - The decision boundary is defined by **a set of positive and negative examples** and **their weights** together with **their similarity measure**. "
   ]
  },
  {
   "cell_type": "markdown",
   "metadata": {
    "slideshow": {
     "slide_type": "slide"
    }
   },
   "source": [
    "- The primary difference between $k$-NNs and SVM RBFs is that \n",
    "    - Unlike $k$-NNs, SVM RBFs only remember the key examples (**support vectors**). \n",
    "    - SVMs use a different similarity metric which is called a \"kernel\". \n",
    "      - A popular kernel is Radial Basis Functions (RBFs)\n",
    "    - They usually perform better than $k$-NNs"
   ]
  },
  {
   "cell_type": "markdown",
   "metadata": {},
   "source": [
    "Check this interactive demo: https://greitemann.dev/svm-demo"
   ]
  },
  {
   "cell_type": "markdown",
   "metadata": {
    "slideshow": {
     "slide_type": "slide"
    },
    "tags": []
   },
   "source": [
    "#### More practice questions \n",
    "\n",
    "- Check out some more practice questions [here](https://ml-learn.mds.ubc.ca/en/module4)."
   ]
  },
  {
   "cell_type": "markdown",
   "metadata": {
    "slideshow": {
     "slide_type": "slide"
    }
   },
   "source": [
    "## Summary\n",
    "\n",
    "- We have **KNNs and SVMs as supervised learning** techniques in our toolbox.\n",
    "- These are similarity (analogy)-based learners and the idea is to assign nearby points the same label.\n",
    "- **Unlike decision trees, all features are equally important**\n",
    "- Both can be used for **classification** or **regression** (much like the other methods we've seen)."
   ]
  },
  {
   "cell_type": "markdown",
   "metadata": {
    "slideshow": {
     "slide_type": "slide"
    }
   },
   "source": [
    "### Coming up:\n",
    "\n",
    "Lingering questions: \n",
    "- Are we ready to do machine learning on real-world datasets?\n",
    "- What would happen if we use $k$-NNs or SVM RBFs on the spotify dataset from hw1?  \n",
    "- What happens if we have missing values in our data? \n",
    "- What do we do if we have features with categories or string values?\n"
   ]
  },
  {
   "cell_type": "markdown",
   "metadata": {
    "slideshow": {
     "slide_type": "slide"
    },
    "tags": []
   },
   "source": [
    "![](../img/eva-seeyou.png)"
   ]
  }
 ],
 "metadata": {
  "celltoolbar": "Slideshow",
  "kernelspec": {
   "display_name": "Python 3 (ipykernel)",
   "language": "python",
   "name": "python3"
  },
  "language_info": {
   "codemirror_mode": {
    "name": "ipython",
    "version": 3
   },
   "file_extension": ".py",
   "mimetype": "text/x-python",
   "name": "python",
   "nbconvert_exporter": "python",
   "pygments_lexer": "ipython3",
   "version": "3.10.0"
  }
 },
 "nbformat": 4,
 "nbformat_minor": 4
}

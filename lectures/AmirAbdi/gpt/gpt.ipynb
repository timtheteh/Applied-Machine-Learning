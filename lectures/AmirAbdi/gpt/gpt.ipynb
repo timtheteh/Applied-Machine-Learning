{
 "cells": [
  {
   "cell_type": "markdown",
   "id": "7fd9b2b2-0a47-44cb-b532-1ea8338887c2",
   "metadata": {},
   "source": [
    "# Fantastic GPTs and Where to Find Them"
   ]
  },
  {
   "cell_type": "markdown",
   "id": "bc6a5499-1511-4092-be62-42aa7eb65191",
   "metadata": {},
   "source": [
    "Let's start by learning about GPT here:\n",
    "https://jalammar.github.io/illustrated-gpt2/"
   ]
  },
  {
   "cell_type": "markdown",
   "id": "91654a57-8ca3-4a0f-8741-b4d7957f0656",
   "metadata": {},
   "source": [
    "## New Libraries to be installed\n",
    "Install dependencies:"
   ]
  },
  {
   "cell_type": "code",
   "execution_count": null,
   "id": "5202f13a-93d4-46d2-8f8c-39ee45d931ab",
   "metadata": {
    "tags": []
   },
   "outputs": [],
   "source": [
    "# !pip install datasets\n",
    "# !pip install tiktoken"
   ]
  },
  {
   "cell_type": "markdown",
   "id": "0f58de55-e609-42ef-88e0-99b7ec92b25d",
   "metadata": {},
   "source": [
    "Clone repositories:"
   ]
  },
  {
   "cell_type": "markdown",
   "id": "968667e6-38cd-4b52-ae16-41989bab0d97",
   "metadata": {},
   "source": [
    "- https://github.com/karpathy/nanoGPT\n",
    "- https://github.com/karpathy/minGPT"
   ]
  },
  {
   "cell_type": "markdown",
   "id": "1a79c951-6552-494c-ac9b-02956fa068e6",
   "metadata": {},
   "source": [
    "<br><br><br><br><br><br>\n",
    "## Toy Demo\n",
    "Let's continue with this small \"Sorting Demo\" with GPT\n",
    "<br><br>"
   ]
  },
  {
   "cell_type": "code",
   "execution_count": null,
   "id": "272e33d8-be51-40f4-b008-f6f2795193c2",
   "metadata": {},
   "outputs": [],
   "source": [
    "import torch\n",
    "from torch.utils.data import Dataset\n",
    "from torch.utils.data.dataloader import DataLoader\n",
    "from mingpt.utils import set_seed\n",
    "set_seed(3407)"
   ]
  },
  {
   "cell_type": "code",
   "execution_count": null,
   "id": "03b955b2-7e74-47ff-9b69-abdc1d7eccac",
   "metadata": {},
   "outputs": [],
   "source": [
    "import pickle\n",
    "\n",
    "class SortDataset(Dataset):\n",
    "    \"\"\" \n",
    "    Dataset for the Sort problem. E.g. for problem length 6:\n",
    "    Input: 0 0 2 1 0 1 -> Output: 0 0 0 1 1 2\n",
    "    Which will feed into the transformer concatenated as:\n",
    "    input:  0 0 2 1 0 1 0 0 0 1 1\n",
    "    output: I I I I I 0 0 0 1 1 2\n",
    "    where I is \"ignore\", as the transformer is reading the input sequence\n",
    "    \"\"\"\n",
    "\n",
    "    def __init__(self, split, length=6, num_digits=3):\n",
    "        assert split in {'train', 'test'}\n",
    "        self.split = split\n",
    "        self.length = length\n",
    "        self.num_digits = num_digits\n",
    "    \n",
    "    def __len__(self):\n",
    "        return 10000 # ...\n",
    "    \n",
    "    def get_vocab_size(self):\n",
    "        return self.num_digits\n",
    "    \n",
    "    def get_block_size(self):\n",
    "        # the length of the sequence that will feed into transformer, \n",
    "        # containing concatenated input and the output, but -1 because\n",
    "        # the transformer starts making predictions at the last input element\n",
    "        return self.length * 2 - 1\n",
    "\n",
    "    def __getitem__(self, idx):\n",
    "        \n",
    "        # use rejection sampling to generate an input example from the desired split\n",
    "        while True:\n",
    "            # generate some random integers\n",
    "            inp = torch.randint(self.num_digits, size=(self.length,), dtype=torch.long)\n",
    "            # half of the time let's try to boost the number of examples that \n",
    "            # have a large number of repeats, as this is what the model seems to struggle\n",
    "            # with later in training, and they are kind of rate\n",
    "            if torch.rand(1).item() < 0.5:\n",
    "                if inp.unique().nelement() > self.length // 2:\n",
    "                    # too many unqiue digits, re-sample\n",
    "                    continue\n",
    "            # figure out if this generated example is train or test based on its hash\n",
    "            h = hash(pickle.dumps(inp.tolist()))\n",
    "            inp_split = 'test' if h % 4 == 0 else 'train' # designate 25% of examples as test\n",
    "            if inp_split == self.split:\n",
    "                break # ok\n",
    "        \n",
    "        # solve the task: i.e. sort\n",
    "        sol = torch.sort(inp)[0]\n",
    "\n",
    "        # concatenate the problem specification and the solution\n",
    "        cat = torch.cat((inp, sol), dim=0)\n",
    "\n",
    "        # the inputs to the transformer will be the offset sequence\n",
    "        x = cat[:-1].clone()\n",
    "        y = cat[1:].clone()\n",
    "        # we only want to predict at output locations, mask out the loss at the input locations\n",
    "        y[:self.length-1] = -1\n",
    "        return x, y\n"
   ]
  },
  {
   "cell_type": "code",
   "execution_count": null,
   "id": "a1848c63-b9cd-412f-8c2b-6714cc2e0888",
   "metadata": {},
   "outputs": [],
   "source": [
    "# print an example instance of the dataset\n",
    "train_dataset = SortDataset('train')\n",
    "test_dataset = SortDataset('test')\n",
    "x, y = train_dataset[0]\n",
    "for a, b in zip(x,y):\n",
    "    print(int(a),int(b))"
   ]
  },
  {
   "cell_type": "code",
   "execution_count": null,
   "id": "8a547ceb-77d0-4d00-ba9f-d1223fbdb066",
   "metadata": {},
   "outputs": [],
   "source": [
    "train_dataset.get_block_size()"
   ]
  },
  {
   "cell_type": "code",
   "execution_count": null,
   "id": "08c81b09-de0e-4c1b-a0a5-2d31cc70b525",
   "metadata": {},
   "outputs": [],
   "source": [
    "train_dataset.get_vocab_size()"
   ]
  },
  {
   "cell_type": "code",
   "execution_count": null,
   "id": "a21d350c-6907-4301-bfb8-ebab9a4c2f12",
   "metadata": {},
   "outputs": [],
   "source": [
    "# create a GPT instance\n",
    "from mingpt.model import GPT\n",
    "\n",
    "model_config = GPT.get_default_config()\n",
    "model_config.model_type = 'gpt-nano'\n",
    "model_config.vocab_size = train_dataset.get_vocab_size()\n",
    "model_config.block_size = train_dataset.get_block_size()\n",
    "model = GPT(model_config)"
   ]
  },
  {
   "cell_type": "code",
   "execution_count": null,
   "id": "fcf8c454-664d-4363-a6e4-c0ba50fad95a",
   "metadata": {},
   "outputs": [],
   "source": [
    "model_config.__dict__"
   ]
  },
  {
   "cell_type": "code",
   "execution_count": null,
   "id": "a426d296-6210-42fe-ae06-b618d9bfe4d7",
   "metadata": {},
   "outputs": [],
   "source": [
    "# create a Trainer object\n",
    "from mingpt.trainer import Trainer\n",
    "\n",
    "train_config = Trainer.get_default_config()\n",
    "train_config.learning_rate = 5e-4 # the model we're using is so small that we can go a bit faster\n",
    "train_config.max_iters = 2000\n",
    "train_config.num_workers = 0\n",
    "trainer = Trainer(train_config, model, train_dataset)"
   ]
  },
  {
   "cell_type": "code",
   "execution_count": null,
   "id": "51d7fe76-3032-4a68-a67c-4cbeb4d71753",
   "metadata": {},
   "outputs": [],
   "source": [
    "def batch_end_callback(trainer):\n",
    "    if trainer.iter_num % 100 == 0:\n",
    "        print(f\"iter_dt {trainer.iter_dt * 1000:.2f}ms; iter {trainer.iter_num}: train loss {trainer.loss.item():.5f}\")\n",
    "trainer.set_callback('on_batch_end', batch_end_callback)\n",
    "\n",
    "trainer.run()"
   ]
  },
  {
   "cell_type": "code",
   "execution_count": null,
   "id": "958db6c1-a5e1-4893-9a6e-4bc694782692",
   "metadata": {},
   "outputs": [],
   "source": [
    "# now let's perform some evaluation\n",
    "model.eval();"
   ]
  },
  {
   "cell_type": "code",
   "execution_count": null,
   "id": "672f5424-dc90-4f6a-a871-2f3fbaab9f98",
   "metadata": {},
   "outputs": [],
   "source": [
    "def eval_split(trainer, split, max_batches):\n",
    "    dataset = {'train':train_dataset, 'test':test_dataset}[split]\n",
    "    n = train_dataset.length # naugy direct access shrug\n",
    "    results = []\n",
    "    mistakes_printed_already = 0\n",
    "    loader = DataLoader(dataset, batch_size=100, num_workers=0, drop_last=False)\n",
    "    for b, (x, y) in enumerate(loader):\n",
    "        x = x.to(trainer.device)\n",
    "        y = y.to(trainer.device)\n",
    "        # isolate the input pattern alone\n",
    "        inp = x[:, :n]\n",
    "        sol = y[:, -n:]\n",
    "        # let the model sample the rest of the sequence\n",
    "        cat = model.generate(inp, n, do_sample=False) # using greedy argmax, not sampling\n",
    "        sol_candidate = cat[:, n:] # isolate the filled in sequence\n",
    "        # compare the predicted sequence to the true sequence\n",
    "        correct = (sol == sol_candidate).all(1).cpu() # Software 1.0 vs. Software 2.0 fight RIGHT on this line haha\n",
    "        for i in range(x.size(0)):\n",
    "            results.append(int(correct[i]))\n",
    "            if not correct[i] and mistakes_printed_already < 3: # only print up to 5 mistakes to get a sense\n",
    "                mistakes_printed_already += 1\n",
    "                print(\"GPT claims that %s sorted is %s but gt is %s\" % (inp[i].tolist(), sol_candidate[i].tolist(), sol[i].tolist()))\n",
    "        if max_batches is not None and b+1 >= max_batches:\n",
    "            break\n",
    "    rt = torch.tensor(results, dtype=torch.float)\n",
    "    print(\"%s final score: %d/%d = %.2f%% correct\" % (split, rt.sum(), len(results), 100*rt.mean()))\n",
    "    return rt.sum()\n",
    "\n",
    "# run a lot of examples from both train and test through the model and verify the output correctness\n",
    "with torch.no_grad():\n",
    "    train_score = eval_split(trainer, 'train', max_batches=50)\n",
    "    test_score  = eval_split(trainer, 'test',  max_batches=50)"
   ]
  },
  {
   "cell_type": "code",
   "execution_count": null,
   "id": "6eb03a8a-4ee7-4a07-9c87-43234060a041",
   "metadata": {},
   "outputs": [],
   "source": [
    "# let's run a random given sequence through the model as well\n",
    "n = train_dataset.length # naugy direct access shrug\n",
    "inp = torch.tensor([[0, 0, 2, 1, 0, 1]], dtype=torch.long).to(trainer.device)\n",
    "assert inp[0].nelement() == n\n",
    "with torch.no_grad():\n",
    "    cat = model.generate(inp, n, do_sample=False)\n",
    "sol = torch.sort(inp[0])[0]\n",
    "sol_candidate = cat[:, n:]\n",
    "print('input sequence  :', inp.tolist())\n",
    "print('predicted sorted:', sol_candidate.tolist())\n",
    "print('gt sort         :', sol.tolist())\n",
    "print('matches         :', bool((sol == sol_candidate).all()))"
   ]
  },
  {
   "cell_type": "markdown",
   "id": "e90793ca-79f2-4d32-89fb-9a74df44f1b5",
   "metadata": {},
   "source": [
    "## Actual Demo\n",
    "\n",
    "This code is not ready yet..."
   ]
  },
  {
   "cell_type": "code",
   "execution_count": null,
   "id": "a019283f-6d7a-4636-ab84-aaf166bd39d1",
   "metadata": {},
   "outputs": [],
   "source": [
    "from mingpt.model import GPT\n",
    "\n",
    "model_conafig = GPT.get_default_config()"
   ]
  },
  {
   "cell_type": "code",
   "execution_count": null,
   "id": "63dbb099-ebcc-4ccf-bdb5-16c6aefc5f87",
   "metadata": {},
   "outputs": [],
   "source": [
    "model_config.model_type = 'gpt2'\n",
    "model_config.vocab_size = 50257 # openai's model vocabulary\n",
    "model_config.block_size = 64  # openai's model block_size (i.e. input context length)"
   ]
  },
  {
   "cell_type": "code",
   "execution_count": null,
   "id": "cbaaeee4-4641-4908-9e41-001d01b9e8fe",
   "metadata": {},
   "outputs": [],
   "source": [
    "model = GPT(model_config)"
   ]
  },
  {
   "cell_type": "code",
   "execution_count": null,
   "id": "6e808e80-ebd5-434f-ac6e-bd6bd1440856",
   "metadata": {},
   "outputs": [],
   "source": [
    "model_config.__dict__"
   ]
  },
  {
   "cell_type": "code",
   "execution_count": null,
   "id": "2b48c41c-0212-48c1-a234-30ee3215bb1b",
   "metadata": {},
   "outputs": [],
   "source": [
    "# train_dataset = ...\n",
    "\n",
    "# from mingpt.trainer import Trainer\n",
    "# train_config = Trainer.get_default_config()\n",
    "# train_config.learning_rate = 5e-4 # many possible options, see the file\n",
    "# train_config.max_iters = 1000\n",
    "# train_config.batch_size = 32\n",
    "# trainer = Trainer(train_config, model, train_dataset)\n",
    "# trainer.run()"
   ]
  },
  {
   "cell_type": "code",
   "execution_count": null,
   "id": "272b4299-f56f-4f20-bd2d-6f1b7924c678",
   "metadata": {},
   "outputs": [],
   "source": []
  }
 ],
 "metadata": {
  "kernelspec": {
   "display_name": "Python 3 (ipykernel)",
   "language": "python",
   "name": "python3"
  },
  "language_info": {
   "codemirror_mode": {
    "name": "ipython",
    "version": 3
   },
   "file_extension": ".py",
   "mimetype": "text/x-python",
   "name": "python",
   "nbconvert_exporter": "python",
   "pygments_lexer": "ipython3",
   "version": "3.10.0"
  }
 },
 "nbformat": 4,
 "nbformat_minor": 5
}

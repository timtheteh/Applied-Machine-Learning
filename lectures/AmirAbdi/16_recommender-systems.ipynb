{
 "cells": [
  {
   "cell_type": "markdown",
   "metadata": {
    "slideshow": {
     "slide_type": "slide"
    }
   },
   "source": [
    "![](../img/330-banner.png)"
   ]
  },
  {
   "cell_type": "markdown",
   "metadata": {
    "slideshow": {
     "slide_type": "-"
    }
   },
   "source": [
    "Lecture 16: Recommender Systems\n",
    "-------------\n",
    "\n",
    "UBC 2022-23 W2\n",
    "\n",
    "Instructor: Amir Abdi"
   ]
  },
  {
   "cell_type": "markdown",
   "metadata": {
    "slideshow": {
     "slide_type": "skip"
    }
   },
   "source": [
    "## Imports"
   ]
  },
  {
   "cell_type": "code",
   "execution_count": 2,
   "metadata": {
    "slideshow": {
     "slide_type": "skip"
    }
   },
   "outputs": [],
   "source": [
    "import os\n",
    "import random\n",
    "import sys\n",
    "import time\n",
    "\n",
    "import numpy as np\n",
    "\n",
    "sys.path.append(\"../code/.\")\n",
    "import matplotlib.pyplot as plt\n",
    "from plotting_functions import *\n",
    "from plotting_functions_unsup import *\n",
    "from sklearn.decomposition import PCA\n",
    "from sklearn.model_selection import cross_validate, train_test_split\n",
    "from sklearn.preprocessing import StandardScaler\n",
    "import pandas as pd\n",
    "\n",
    "plt.rcParams[\"font.size\"] = 16\n",
    "import matplotlib.cm as cm\n",
    "\n",
    "# plt.style.use(\"seaborn\")\n",
    "%matplotlib inline\n",
    "pd.set_option(\"display.max_colwidth\", 0)"
   ]
  },
  {
   "cell_type": "markdown",
   "metadata": {
    "slideshow": {
     "slide_type": "skip"
    }
   },
   "source": [
    "## Learning outcomes <a name=\"lo\"></a>\n",
    "\n",
    "From this lecture, students are expected to be able to:\n",
    "\n",
    "- State the problem of **recommender systems**. \n",
    "- Describe components of a **utility matrix**. \n",
    "- Create a utility matrix given ratings data. \n",
    "- Describe a common approach to **evaluate recommender systems**. \n",
    "- Implement some baseline approaches to complete the utility matrix. \n",
    "- Explain the idea of **collaborative filtering**. \n",
    "- Explain some serious consequences of recommendation systems. "
   ]
  },
  {
   "cell_type": "markdown",
   "metadata": {
    "slideshow": {
     "slide_type": "slide"
    }
   },
   "source": [
    "## Announcements\n",
    "\n",
    "- HW6 was due last night\n",
    "- HW7 is out, due Mar 22, 11:59pm"
   ]
  },
  {
   "cell_type": "markdown",
   "metadata": {},
   "source": [
    "<br><br>"
   ]
  },
  {
   "cell_type": "markdown",
   "metadata": {
    "slideshow": {
     "slide_type": "slide"
    }
   },
   "source": [
    "## Recommender systems motivation"
   ]
  },
  {
   "cell_type": "markdown",
   "metadata": {
    "slideshow": {
     "slide_type": "slide"
    }
   },
   "source": [
    "### What is a recommender system? \n",
    "\n",
    "- A recommender or a recommendation system **recommends** a particular product or service to users they are likely to consume. \n",
    "\n",
    "![](../img/recommendation_system.png)\n",
    "\n",
    "<!-- <img src=\"img/recommendation_system.png\" alt=\"\" height=\"900\" width=\"900\">  -->\n"
   ]
  },
  {
   "cell_type": "markdown",
   "metadata": {
    "slideshow": {
     "slide_type": "slide"
    }
   },
   "source": [
    "### Example: Recommender Systems\n",
    "- A client goes to Amazon to buy products. \n",
    "- Amazon has some information about the client. They also have information about other clients buying similar products. \n",
    "- What should they recommend to the client, so that they buy more products? \n",
    "- There's no \"right\" answer (**no actual groudntruth label**). \n",
    "- The whole idea is to **understand user behavior** and **similarities across users** in order to recommend them products they are likely to consume. "
   ]
  },
  {
   "cell_type": "markdown",
   "metadata": {},
   "source": [
    "<img src=\"../img/utility_matrix.png\" alt=\"\" width=\"500\"> "
   ]
  },
  {
   "cell_type": "markdown",
   "metadata": {
    "slideshow": {
     "slide_type": "slide"
    }
   },
   "source": [
    "### Why should we care about recommendation systems? \n",
    "\n",
    "- Almost everything we buy or consume today is in some way or the other influenced by recommendation systems. \n",
    "    - Music (Spotify), videos (YouTube), news, books and products (Amazon), movies (Netflix), jokes, restaurants, dating , friends (Facebook), professional connections (Linkedin)\n",
    "- Recommendation systems are at the core of the success of many companies. \n",
    "    - Amazon\n",
    "    - [Netflix](https://help.netflix.com/en/node/100639)\n"
   ]
  },
  {
   "cell_type": "markdown",
   "metadata": {
    "slideshow": {
     "slide_type": "slide"
    }
   },
   "source": [
    "### What kind of data we need to build recommendation systems? \n",
    "\n",
    "- **User rating or interacting with the item** (most common)\n",
    "  - Customer purchase history data\n",
    "- **Features related to items or users** \n"
   ]
  },
  {
   "cell_type": "markdown",
   "metadata": {
    "slideshow": {
     "slide_type": "slide"
    }
   },
   "source": [
    "### Main approaches\n",
    "\n",
    "- Collaborative filtering \n",
    "  - \"Unsupervised\" learning \n",
    "  - We only have labels $y_{ij}$ (rating of user $i$ for item $j$). \n",
    "  - We learn features.  \n",
    "- Content-based recommenders \n",
    "    - Supervised learning\n",
    "    - Extract features $x_i$ of users and/or items and building a model to predict rating $y_i$ given $x_i$. \n",
    "    - Apply **model.predict()** to predict for new users/items. \n",
    "- Hybrid \n",
    "    - Combining collaborative filtering with content-based filtering\n",
    "    "
   ]
  },
  {
   "cell_type": "markdown",
   "metadata": {
    "slideshow": {
     "slide_type": "slide"
    }
   },
   "source": [
    "### The Netflix prize\n",
    "\n",
    "<!-- ![](../img/netflix.png) -->\n",
    "<img src=\"../img/netflix.png\" width=\"600\">\n",
    "\n",
    "[Source](https://netflixtechblog.com/netflix-recommendations-beyond-the-5-stars-part-1-55838468f429)"
   ]
  },
  {
   "cell_type": "markdown",
   "metadata": {
    "slideshow": {
     "slide_type": "slide"
    }
   },
   "source": [
    "### The Netflix prize\n",
    "\n",
    "- 100M ratings from 0.5M users on 18k movies.\n",
    "- Grand prize was **\\$1M for first team to reduce squared error at least by 10%**.\n",
    "- Winning entry (and most entries) used collaborative filtering:\n",
    "    - Methods that only looks at ratings, not features of movies/users.\n",
    "- A simple collaborative filtering method that does really well:\n",
    "   - Now adopted by many companies."
   ]
  },
  {
   "cell_type": "markdown",
   "metadata": {},
   "source": [
    "<br><br><br><br>"
   ]
  },
  {
   "cell_type": "markdown",
   "metadata": {
    "slideshow": {
     "slide_type": "slide"
    }
   },
   "source": [
    "## Recommender systems problem "
   ]
  },
  {
   "cell_type": "markdown",
   "metadata": {
    "slideshow": {
     "slide_type": "slide"
    }
   },
   "source": [
    "### Problem formulation\n",
    "\n",
    "- Most often the data for recommender systems come in as **ratings** for a set of items from a set of users. \n",
    "- We have two entities: $N$ **users** and $M$ **items**. \n",
    "- **Users** are consumers. \n",
    "- **Items** are the products or services offered.  \n",
    "    - E.g., movies (Netflix), books (Amazon), songs (spotify), people (tinder)  \n",
    "    \n",
    "<!-- ![](../img/utility_matrix.png) -->\n",
    "\n",
    "<img src=\"../img/utility_matrix.png\" alt=\"\" height=\"900\" width=\"900\"> \n"
   ]
  },
  {
   "cell_type": "markdown",
   "metadata": {
    "slideshow": {
     "slide_type": "slide"
    }
   },
   "source": [
    "### Utility matrix \n",
    "\n",
    "- A **utility matrix** is the matrix that captures **interactions** between $N$ **users** and $M$ **items**. \n",
    "- The interaction may come in different forms: \n",
    "    - ratings, clicks, purchases\n",
    "\n",
    "<!-- ![](../img/utility_matrix.png) -->\n",
    "\n",
    "<!-- <img src=\"../img/utility_mat.png\" alt=\"\" height=\"900\" width=\"900\">  -->"
   ]
  },
  {
   "cell_type": "markdown",
   "metadata": {
    "slideshow": {
     "slide_type": "slide"
    }
   },
   "source": [
    "### Utility matrix\n",
    "\n",
    "- Below is a toy utility matrix. Here $N$ = 6 and $M$ = 5.  \n",
    "- Each entry $y_{ij}$ ($i^{th}$ row and $j^{th}$ column) denotes the rating given by the user $i$ to item $j$. \n",
    "- We represent users in terms of items and items in terms of users. \n",
    "\n",
    "<!-- ![](../img/utility_matrix.png) -->\n",
    "\n",
    "<!-- <img src=\"../img/utility_matrix.png\" alt=\"\" height=\"900\" width=\"900\">  -->"
   ]
  },
  {
   "cell_type": "markdown",
   "metadata": {
    "slideshow": {
     "slide_type": "slide"
    }
   },
   "source": [
    "### Sparsity of utility matrix\n",
    "\n",
    "- The utility matrix **can be very sparse** because **usually users only interact with a few items**. \n",
    "- For example: \n",
    "    - all Netflix users will have rated only a small percentage of content available on Netflix\n",
    "    - all amazon clients will have rated only a small fraction of items among all items available on Amazon"
   ]
  },
  {
   "cell_type": "markdown",
   "metadata": {
    "slideshow": {
     "slide_type": "slide"
    }
   },
   "source": [
    "### What do we predict? \n",
    "Given a utility matrix of $N$ users and $M$ items, **complete the utility matrix**. In other words, **predict missing values in the matrix**. \n",
    "\n",
    "<!-- ![](../img/utility_matrix.png) -->\n",
    "\n",
    "<img src=\"../img/utility_matrix.png\" alt=\"\" height=\"900\" width=\"900\"> "
   ]
  },
  {
   "cell_type": "markdown",
   "metadata": {},
   "source": [
    "- Once we have predicted ratings, we can recommend items to users they are likely to rate higher. "
   ]
  },
  {
   "cell_type": "markdown",
   "metadata": {
    "slideshow": {
     "slide_type": "slide"
    }
   },
   "source": [
    "### Example dataset: [Jester 1.7M jokes ratings dataset](https://www.kaggle.com/vikashrajluhaniwal/jester-17m-jokes-ratings-dataset?select=jester_ratings.csv)\n",
    "\n",
    "- We'll use a sample of [Jester 1.7M jokes ratings dataset](https://www.kaggle.com/vikashrajluhaniwal/jester-17m-jokes-ratings-dataset) to demonstrate different recommendation systems. \n",
    "\n",
    "The dataset comes with two CSVs\n",
    "- A CSV containing ratings (-10.0 to +10.0) of 150 jokes from 59,132 users. \n",
    "- A CSV containing joke IDs and the actual text of jokes. \n",
    "\n",
    "> Some jokes might be offensive. Please do not look too much into the actual text data if you are sensitive to such language."
   ]
  },
  {
   "cell_type": "markdown",
   "metadata": {
    "slideshow": {
     "slide_type": "slide"
    }
   },
   "source": [
    "- Recommendation systems are most effective when you have a large amount of data.\n",
    "- But we are only taking a sample here for speed."
   ]
  },
  {
   "cell_type": "code",
   "execution_count": 3,
   "metadata": {
    "slideshow": {
     "slide_type": "-"
    }
   },
   "outputs": [
    {
     "name": "stdout",
     "output_type": "stream",
     "text": [
      "total number of users:  59132\n"
     ]
    }
   ],
   "source": [
    "filename = \"../data/jester_ratings.csv\"\n",
    "ratings_full = pd.read_csv(filename)\n",
    "\n",
    "print('total number of users: ', len(ratings_full.userId.unique()))"
   ]
  },
  {
   "cell_type": "code",
   "execution_count": 4,
   "metadata": {},
   "outputs": [
    {
     "name": "stdout",
     "output_type": "stream",
     "text": [
      "total number of users:  3635\n"
     ]
    }
   ],
   "source": [
    "# limit to at most 4000 users\n",
    "ratings = ratings_full[ratings_full[\"userId\"] <= 4000]\n",
    "print('total number of users: ', len(ratings.userId.unique()))"
   ]
  },
  {
   "cell_type": "code",
   "execution_count": 5,
   "metadata": {},
   "outputs": [
    {
     "data": {
      "text/html": [
       "<div>\n",
       "<style scoped>\n",
       "    .dataframe tbody tr th:only-of-type {\n",
       "        vertical-align: middle;\n",
       "    }\n",
       "\n",
       "    .dataframe tbody tr th {\n",
       "        vertical-align: top;\n",
       "    }\n",
       "\n",
       "    .dataframe thead th {\n",
       "        text-align: right;\n",
       "    }\n",
       "</style>\n",
       "<table border=\"1\" class=\"dataframe\">\n",
       "  <thead>\n",
       "    <tr style=\"text-align: right;\">\n",
       "      <th></th>\n",
       "      <th>userId</th>\n",
       "      <th>jokeId</th>\n",
       "      <th>rating</th>\n",
       "    </tr>\n",
       "  </thead>\n",
       "  <tbody>\n",
       "    <tr>\n",
       "      <th>0</th>\n",
       "      <td>1</td>\n",
       "      <td>5</td>\n",
       "      <td>0.219</td>\n",
       "    </tr>\n",
       "    <tr>\n",
       "      <th>1</th>\n",
       "      <td>1</td>\n",
       "      <td>7</td>\n",
       "      <td>-9.281</td>\n",
       "    </tr>\n",
       "    <tr>\n",
       "      <th>2</th>\n",
       "      <td>1</td>\n",
       "      <td>8</td>\n",
       "      <td>-9.281</td>\n",
       "    </tr>\n",
       "    <tr>\n",
       "      <th>3</th>\n",
       "      <td>1</td>\n",
       "      <td>13</td>\n",
       "      <td>-6.781</td>\n",
       "    </tr>\n",
       "    <tr>\n",
       "      <th>4</th>\n",
       "      <td>1</td>\n",
       "      <td>15</td>\n",
       "      <td>0.875</td>\n",
       "    </tr>\n",
       "  </tbody>\n",
       "</table>\n",
       "</div>"
      ],
      "text/plain": [
       "   userId  jokeId  rating\n",
       "0  1       5       0.219 \n",
       "1  1       7      -9.281 \n",
       "2  1       8      -9.281 \n",
       "3  1       13     -6.781 \n",
       "4  1       15      0.875 "
      ]
     },
     "execution_count": 5,
     "metadata": {},
     "output_type": "execute_result"
    }
   ],
   "source": [
    "ratings.head()"
   ]
  },
  {
   "cell_type": "code",
   "execution_count": 6,
   "metadata": {},
   "outputs": [],
   "source": [
    "user_key = \"userId\"\n",
    "item_key = \"jokeId\""
   ]
  },
  {
   "cell_type": "code",
   "execution_count": 7,
   "metadata": {},
   "outputs": [
    {
     "data": {
      "text/plain": [
       "140"
      ]
     },
     "execution_count": 7,
     "metadata": {},
     "output_type": "execute_result"
    }
   ],
   "source": [
    "len(ratings.jokeId.unique())"
   ]
  },
  {
   "cell_type": "markdown",
   "metadata": {
    "slideshow": {
     "slide_type": "slide"
    }
   },
   "source": [
    "### Dataset stats "
   ]
  },
  {
   "cell_type": "code",
   "execution_count": 8,
   "metadata": {
    "slideshow": {
     "slide_type": "skip"
    }
   },
   "outputs": [
    {
     "name": "stdout",
     "output_type": "stream",
     "text": [
      "<class 'pandas.core.frame.DataFrame'>\n",
      "Int64Index: 141362 entries, 0 to 141361\n",
      "Data columns (total 3 columns):\n",
      " #   Column  Non-Null Count   Dtype  \n",
      "---  ------  --------------   -----  \n",
      " 0   userId  141362 non-null  int64  \n",
      " 1   jokeId  141362 non-null  int64  \n",
      " 2   rating  141362 non-null  float64\n",
      "dtypes: float64(1), int64(2)\n",
      "memory usage: 4.3 MB\n"
     ]
    }
   ],
   "source": [
    "ratings.info()"
   ]
  },
  {
   "cell_type": "code",
   "execution_count": 9,
   "metadata": {
    "slideshow": {
     "slide_type": "-"
    }
   },
   "outputs": [
    {
     "name": "stdout",
     "output_type": "stream",
     "text": [
      "Number of ratings: 141362\n",
      "Average rating:  1.200\n",
      "Number of users (N): 3635\n",
      "Number of items (M): 140\n",
      "Fraction non-nan ratings: 0.278\n"
     ]
    }
   ],
   "source": [
    "def get_stats(ratings, item_key=\"jokeId\", user_key=\"userId\"):\n",
    "    print(\"Number of ratings:\", len(ratings))\n",
    "    print(\"Average rating:  %0.3f\" % (np.mean(ratings[\"rating\"])))\n",
    "    N = len(np.unique(ratings[user_key]))\n",
    "    M = len(np.unique(ratings[item_key]))\n",
    "    print(\"Number of users (N): %d\" % N)\n",
    "    print(\"Number of items (M): %d\" % M)\n",
    "    print(\"Fraction non-nan ratings: %0.3f\" % (len(ratings) / (N * M)))\n",
    "    return N, M\n",
    "\n",
    "N, M = get_stats(ratings)"
   ]
  },
  {
   "cell_type": "markdown",
   "metadata": {
    "slideshow": {
     "slide_type": "slide"
    }
   },
   "source": [
    "### Creating utility matrix\n",
    "\n",
    "- Let's construct utility matrix with `number of users` rows and `number of items` columns from the ratings data. \n",
    "\n",
    "> Note we are constructing a non-sparse matrix for demonstration purpose here. In real life it's recommended that you work with sparse matrices. "
   ]
  },
  {
   "cell_type": "code",
   "execution_count": 10,
   "metadata": {},
   "outputs": [],
   "source": [
    "user_mapper = dict(zip(np.unique(ratings[user_key]), list(range(N))))\n",
    "item_mapper = dict(zip(np.unique(ratings[item_key]), list(range(M))))\n",
    "user_inverse_mapper = dict(zip(list(range(N)), np.unique(ratings[user_key])))\n",
    "item_inverse_mapper = dict(zip(list(range(M)), np.unique(ratings[item_key])))"
   ]
  },
  {
   "cell_type": "code",
   "execution_count": 11,
   "metadata": {
    "slideshow": {
     "slide_type": "slide"
    }
   },
   "outputs": [],
   "source": [
    "# Function to create a utility matrix\n",
    "def create_Y_from_ratings(\n",
    "    data, N, M, user_mapper, item_mapper, user_key=\"userId\", item_key=\"jokeId\"\n",
    "):  \n",
    "    Y = np.zeros((N, M))\n",
    "    Y.fill(np.nan)\n",
    "    for index, val in data.iterrows():\n",
    "        n = user_mapper[val[user_key]]\n",
    "        m = item_mapper[val[item_key]]\n",
    "        Y[n, m] = val[\"rating\"]\n",
    "\n",
    "    return Y"
   ]
  },
  {
   "cell_type": "markdown",
   "metadata": {
    "slideshow": {
     "slide_type": "slide"
    }
   },
   "source": [
    "### Utility matrix for the example problem\n",
    "- Rows represent users.\n",
    "- Columns represent items (jokes in our case).\n",
    "- Each cell gives the rating given by the user to the corresponding joke. \n",
    "- Users are features for jokes and jokes are features for users.\n",
    "- We want to predict the missing entries. "
   ]
  },
  {
   "cell_type": "code",
   "execution_count": 12,
   "metadata": {},
   "outputs": [
    {
     "data": {
      "text/plain": [
       "(3635, 140)"
      ]
     },
     "execution_count": 12,
     "metadata": {},
     "output_type": "execute_result"
    }
   ],
   "source": [
    "Y_mat = create_Y_from_ratings(ratings, N, M, user_mapper, item_mapper)\n",
    "Y_mat.shape"
   ]
  },
  {
   "cell_type": "code",
   "execution_count": 13,
   "metadata": {},
   "outputs": [
    {
     "data": {
      "text/html": [
       "<div>\n",
       "<style scoped>\n",
       "    .dataframe tbody tr th:only-of-type {\n",
       "        vertical-align: middle;\n",
       "    }\n",
       "\n",
       "    .dataframe tbody tr th {\n",
       "        vertical-align: top;\n",
       "    }\n",
       "\n",
       "    .dataframe thead th {\n",
       "        text-align: right;\n",
       "    }\n",
       "</style>\n",
       "<table border=\"1\" class=\"dataframe\">\n",
       "  <thead>\n",
       "    <tr style=\"text-align: right;\">\n",
       "      <th></th>\n",
       "      <th>0</th>\n",
       "      <th>1</th>\n",
       "      <th>2</th>\n",
       "      <th>3</th>\n",
       "      <th>4</th>\n",
       "      <th>5</th>\n",
       "      <th>6</th>\n",
       "      <th>7</th>\n",
       "      <th>8</th>\n",
       "      <th>9</th>\n",
       "      <th>...</th>\n",
       "      <th>130</th>\n",
       "      <th>131</th>\n",
       "      <th>132</th>\n",
       "      <th>133</th>\n",
       "      <th>134</th>\n",
       "      <th>135</th>\n",
       "      <th>136</th>\n",
       "      <th>137</th>\n",
       "      <th>138</th>\n",
       "      <th>139</th>\n",
       "    </tr>\n",
       "  </thead>\n",
       "  <tbody>\n",
       "    <tr>\n",
       "      <th>0</th>\n",
       "      <td>0.219</td>\n",
       "      <td>-9.281</td>\n",
       "      <td>-9.281</td>\n",
       "      <td>-6.781</td>\n",
       "      <td>0.875</td>\n",
       "      <td>-9.656</td>\n",
       "      <td>-9.031</td>\n",
       "      <td>-7.469</td>\n",
       "      <td>-8.719</td>\n",
       "      <td>-9.156</td>\n",
       "      <td>...</td>\n",
       "      <td>NaN</td>\n",
       "      <td>NaN</td>\n",
       "      <td>NaN</td>\n",
       "      <td>NaN</td>\n",
       "      <td>NaN</td>\n",
       "      <td>NaN</td>\n",
       "      <td>NaN</td>\n",
       "      <td>NaN</td>\n",
       "      <td>NaN</td>\n",
       "      <td>NaN</td>\n",
       "    </tr>\n",
       "    <tr>\n",
       "      <th>1</th>\n",
       "      <td>-9.688</td>\n",
       "      <td>9.938</td>\n",
       "      <td>9.531</td>\n",
       "      <td>9.938</td>\n",
       "      <td>0.406</td>\n",
       "      <td>3.719</td>\n",
       "      <td>9.656</td>\n",
       "      <td>-2.688</td>\n",
       "      <td>-9.562</td>\n",
       "      <td>-9.125</td>\n",
       "      <td>...</td>\n",
       "      <td>NaN</td>\n",
       "      <td>NaN</td>\n",
       "      <td>NaN</td>\n",
       "      <td>NaN</td>\n",
       "      <td>NaN</td>\n",
       "      <td>NaN</td>\n",
       "      <td>NaN</td>\n",
       "      <td>NaN</td>\n",
       "      <td>NaN</td>\n",
       "      <td>NaN</td>\n",
       "    </tr>\n",
       "    <tr>\n",
       "      <th>2</th>\n",
       "      <td>-9.844</td>\n",
       "      <td>-9.844</td>\n",
       "      <td>-7.219</td>\n",
       "      <td>-2.031</td>\n",
       "      <td>-9.938</td>\n",
       "      <td>-9.969</td>\n",
       "      <td>-9.875</td>\n",
       "      <td>-9.812</td>\n",
       "      <td>-9.781</td>\n",
       "      <td>-6.844</td>\n",
       "      <td>...</td>\n",
       "      <td>NaN</td>\n",
       "      <td>NaN</td>\n",
       "      <td>NaN</td>\n",
       "      <td>NaN</td>\n",
       "      <td>NaN</td>\n",
       "      <td>NaN</td>\n",
       "      <td>NaN</td>\n",
       "      <td>NaN</td>\n",
       "      <td>NaN</td>\n",
       "      <td>NaN</td>\n",
       "    </tr>\n",
       "    <tr>\n",
       "      <th>3</th>\n",
       "      <td>-5.812</td>\n",
       "      <td>-4.500</td>\n",
       "      <td>-4.906</td>\n",
       "      <td>NaN</td>\n",
       "      <td>NaN</td>\n",
       "      <td>NaN</td>\n",
       "      <td>NaN</td>\n",
       "      <td>NaN</td>\n",
       "      <td>NaN</td>\n",
       "      <td>NaN</td>\n",
       "      <td>...</td>\n",
       "      <td>NaN</td>\n",
       "      <td>NaN</td>\n",
       "      <td>NaN</td>\n",
       "      <td>NaN</td>\n",
       "      <td>NaN</td>\n",
       "      <td>NaN</td>\n",
       "      <td>NaN</td>\n",
       "      <td>NaN</td>\n",
       "      <td>NaN</td>\n",
       "      <td>NaN</td>\n",
       "    </tr>\n",
       "    <tr>\n",
       "      <th>4</th>\n",
       "      <td>6.906</td>\n",
       "      <td>4.750</td>\n",
       "      <td>-5.906</td>\n",
       "      <td>-0.406</td>\n",
       "      <td>-4.031</td>\n",
       "      <td>3.875</td>\n",
       "      <td>6.219</td>\n",
       "      <td>5.656</td>\n",
       "      <td>6.094</td>\n",
       "      <td>5.406</td>\n",
       "      <td>...</td>\n",
       "      <td>NaN</td>\n",
       "      <td>NaN</td>\n",
       "      <td>NaN</td>\n",
       "      <td>NaN</td>\n",
       "      <td>NaN</td>\n",
       "      <td>NaN</td>\n",
       "      <td>NaN</td>\n",
       "      <td>NaN</td>\n",
       "      <td>NaN</td>\n",
       "      <td>NaN</td>\n",
       "    </tr>\n",
       "    <tr>\n",
       "      <th>...</th>\n",
       "      <td>...</td>\n",
       "      <td>...</td>\n",
       "      <td>...</td>\n",
       "      <td>...</td>\n",
       "      <td>...</td>\n",
       "      <td>...</td>\n",
       "      <td>...</td>\n",
       "      <td>...</td>\n",
       "      <td>...</td>\n",
       "      <td>...</td>\n",
       "      <td>...</td>\n",
       "      <td>...</td>\n",
       "      <td>...</td>\n",
       "      <td>...</td>\n",
       "      <td>...</td>\n",
       "      <td>...</td>\n",
       "      <td>...</td>\n",
       "      <td>...</td>\n",
       "      <td>...</td>\n",
       "      <td>...</td>\n",
       "      <td>...</td>\n",
       "    </tr>\n",
       "    <tr>\n",
       "      <th>3630</th>\n",
       "      <td>NaN</td>\n",
       "      <td>-9.812</td>\n",
       "      <td>-0.062</td>\n",
       "      <td>NaN</td>\n",
       "      <td>NaN</td>\n",
       "      <td>NaN</td>\n",
       "      <td>NaN</td>\n",
       "      <td>NaN</td>\n",
       "      <td>NaN</td>\n",
       "      <td>NaN</td>\n",
       "      <td>...</td>\n",
       "      <td>NaN</td>\n",
       "      <td>NaN</td>\n",
       "      <td>NaN</td>\n",
       "      <td>NaN</td>\n",
       "      <td>NaN</td>\n",
       "      <td>NaN</td>\n",
       "      <td>NaN</td>\n",
       "      <td>NaN</td>\n",
       "      <td>NaN</td>\n",
       "      <td>NaN</td>\n",
       "    </tr>\n",
       "    <tr>\n",
       "      <th>3631</th>\n",
       "      <td>NaN</td>\n",
       "      <td>-9.844</td>\n",
       "      <td>7.531</td>\n",
       "      <td>-9.719</td>\n",
       "      <td>-9.344</td>\n",
       "      <td>3.875</td>\n",
       "      <td>9.812</td>\n",
       "      <td>8.938</td>\n",
       "      <td>8.375</td>\n",
       "      <td>NaN</td>\n",
       "      <td>...</td>\n",
       "      <td>NaN</td>\n",
       "      <td>NaN</td>\n",
       "      <td>NaN</td>\n",
       "      <td>NaN</td>\n",
       "      <td>NaN</td>\n",
       "      <td>NaN</td>\n",
       "      <td>NaN</td>\n",
       "      <td>NaN</td>\n",
       "      <td>NaN</td>\n",
       "      <td>NaN</td>\n",
       "    </tr>\n",
       "    <tr>\n",
       "      <th>3632</th>\n",
       "      <td>NaN</td>\n",
       "      <td>-1.906</td>\n",
       "      <td>3.969</td>\n",
       "      <td>-2.312</td>\n",
       "      <td>-0.344</td>\n",
       "      <td>-8.844</td>\n",
       "      <td>4.188</td>\n",
       "      <td>NaN</td>\n",
       "      <td>NaN</td>\n",
       "      <td>NaN</td>\n",
       "      <td>...</td>\n",
       "      <td>NaN</td>\n",
       "      <td>NaN</td>\n",
       "      <td>NaN</td>\n",
       "      <td>NaN</td>\n",
       "      <td>NaN</td>\n",
       "      <td>NaN</td>\n",
       "      <td>NaN</td>\n",
       "      <td>NaN</td>\n",
       "      <td>NaN</td>\n",
       "      <td>NaN</td>\n",
       "    </tr>\n",
       "    <tr>\n",
       "      <th>3633</th>\n",
       "      <td>NaN</td>\n",
       "      <td>-8.875</td>\n",
       "      <td>-9.156</td>\n",
       "      <td>-9.156</td>\n",
       "      <td>NaN</td>\n",
       "      <td>NaN</td>\n",
       "      <td>NaN</td>\n",
       "      <td>NaN</td>\n",
       "      <td>NaN</td>\n",
       "      <td>NaN</td>\n",
       "      <td>...</td>\n",
       "      <td>NaN</td>\n",
       "      <td>NaN</td>\n",
       "      <td>NaN</td>\n",
       "      <td>NaN</td>\n",
       "      <td>NaN</td>\n",
       "      <td>NaN</td>\n",
       "      <td>NaN</td>\n",
       "      <td>NaN</td>\n",
       "      <td>NaN</td>\n",
       "      <td>NaN</td>\n",
       "    </tr>\n",
       "    <tr>\n",
       "      <th>3634</th>\n",
       "      <td>NaN</td>\n",
       "      <td>-6.312</td>\n",
       "      <td>1.281</td>\n",
       "      <td>-3.531</td>\n",
       "      <td>2.125</td>\n",
       "      <td>-5.812</td>\n",
       "      <td>5.562</td>\n",
       "      <td>-6.062</td>\n",
       "      <td>0.125</td>\n",
       "      <td>NaN</td>\n",
       "      <td>...</td>\n",
       "      <td>NaN</td>\n",
       "      <td>NaN</td>\n",
       "      <td>4.188</td>\n",
       "      <td>NaN</td>\n",
       "      <td>NaN</td>\n",
       "      <td>NaN</td>\n",
       "      <td>NaN</td>\n",
       "      <td>NaN</td>\n",
       "      <td>NaN</td>\n",
       "      <td>NaN</td>\n",
       "    </tr>\n",
       "  </tbody>\n",
       "</table>\n",
       "<p>3635 rows × 140 columns</p>\n",
       "</div>"
      ],
      "text/plain": [
       "          0      1      2      3      4      5      6      7      8      9  \\\n",
       "0     0.219 -9.281 -9.281 -6.781  0.875 -9.656 -9.031 -7.469 -8.719 -9.156   \n",
       "1    -9.688  9.938  9.531  9.938  0.406  3.719  9.656 -2.688 -9.562 -9.125   \n",
       "2    -9.844 -9.844 -7.219 -2.031 -9.938 -9.969 -9.875 -9.812 -9.781 -6.844   \n",
       "3    -5.812 -4.500 -4.906 NaN    NaN    NaN    NaN    NaN    NaN    NaN      \n",
       "4     6.906  4.750 -5.906 -0.406 -4.031  3.875  6.219  5.656  6.094  5.406   \n",
       "...     ...    ...    ...    ...    ...    ...    ...    ...    ...    ...   \n",
       "3630 NaN    -9.812 -0.062 NaN    NaN    NaN    NaN    NaN    NaN    NaN      \n",
       "3631 NaN    -9.844  7.531 -9.719 -9.344  3.875  9.812  8.938  8.375 NaN      \n",
       "3632 NaN    -1.906  3.969 -2.312 -0.344 -8.844  4.188 NaN    NaN    NaN      \n",
       "3633 NaN    -8.875 -9.156 -9.156 NaN    NaN    NaN    NaN    NaN    NaN      \n",
       "3634 NaN    -6.312  1.281 -3.531  2.125 -5.812  5.562 -6.062  0.125 NaN      \n",
       "\n",
       "      ...  130  131    132  133  134  135  136  137  138  139  \n",
       "0     ... NaN  NaN  NaN    NaN  NaN  NaN  NaN  NaN  NaN  NaN   \n",
       "1     ... NaN  NaN  NaN    NaN  NaN  NaN  NaN  NaN  NaN  NaN   \n",
       "2     ... NaN  NaN  NaN    NaN  NaN  NaN  NaN  NaN  NaN  NaN   \n",
       "3     ... NaN  NaN  NaN    NaN  NaN  NaN  NaN  NaN  NaN  NaN   \n",
       "4     ... NaN  NaN  NaN    NaN  NaN  NaN  NaN  NaN  NaN  NaN   \n",
       "...   ...  ..   ..   ..     ..   ..   ..   ..   ..   ..   ..   \n",
       "3630  ... NaN  NaN  NaN    NaN  NaN  NaN  NaN  NaN  NaN  NaN   \n",
       "3631  ... NaN  NaN  NaN    NaN  NaN  NaN  NaN  NaN  NaN  NaN   \n",
       "3632  ... NaN  NaN  NaN    NaN  NaN  NaN  NaN  NaN  NaN  NaN   \n",
       "3633  ... NaN  NaN  NaN    NaN  NaN  NaN  NaN  NaN  NaN  NaN   \n",
       "3634  ... NaN  NaN   4.188 NaN  NaN  NaN  NaN  NaN  NaN  NaN   \n",
       "\n",
       "[3635 rows x 140 columns]"
      ]
     },
     "execution_count": 13,
     "metadata": {},
     "output_type": "execute_result"
    }
   ],
   "source": [
    "pd.DataFrame(Y_mat)"
   ]
  },
  {
   "cell_type": "markdown",
   "metadata": {
    "slideshow": {
     "slide_type": "skip"
    }
   },
   "source": [
    "<br><br><br><br>"
   ]
  },
  {
   "cell_type": "markdown",
   "metadata": {
    "slideshow": {
     "slide_type": "slide"
    }
   },
   "source": [
    "## Simple Solutions (Baselines)\n"
   ]
  },
  {
   "cell_type": "markdown",
   "metadata": {
    "slideshow": {
     "slide_type": "slide"
    }
   },
   "source": [
    "- Recall that our goal is to predict missing entries in the utility matrix. "
   ]
  },
  {
   "cell_type": "markdown",
   "metadata": {
    "slideshow": {
     "slide_type": "slide"
    }
   },
   "source": [
    "### Evaluation\n",
    "\n",
    "- We'll try a number of methods to do this. \n",
    "- Although there is no notion of \"accurate\" recommendations, we need a way to **evaluate** our predictions so that we'll be able to compare different methods.\n",
    "- Although we are doing unsupervised learning, we'll split the data and evaluate our predictions as follows.  "
   ]
  },
  {
   "cell_type": "markdown",
   "metadata": {
    "slideshow": {
     "slide_type": "slide"
    }
   },
   "source": [
    "### Data splitting \n",
    "\n",
    "- We split the ratings into train and validation sets. \n",
    "- **It's easier to split the ratings data instead of splitting the utility matrix.**"
   ]
  },
  {
   "cell_type": "code",
   "execution_count": 14,
   "metadata": {},
   "outputs": [
    {
     "data": {
      "text/plain": [
       "((113089, 3), (28273, 3))"
      ]
     },
     "execution_count": 14,
     "metadata": {},
     "output_type": "execute_result"
    }
   ],
   "source": [
    "X = ratings.copy()\n",
    "y = ratings[user_key]\n",
    "X_train, X_valid, y_train, y_valid = train_test_split(\n",
    "    X, y, test_size=0.2, random_state=42\n",
    ")\n",
    "\n",
    "X_train.shape, X_valid.shape"
   ]
  },
  {
   "cell_type": "markdown",
   "metadata": {
    "slideshow": {
     "slide_type": "slide"
    }
   },
   "source": [
    "Now we will create utility matrices for train and validation splits. "
   ]
  },
  {
   "cell_type": "code",
   "execution_count": 15,
   "metadata": {
    "slideshow": {
     "slide_type": "-"
    }
   },
   "outputs": [],
   "source": [
    "train_mat = create_Y_from_ratings(X_train, N, M, user_mapper, item_mapper)\n",
    "valid_mat = create_Y_from_ratings(X_valid, N, M, user_mapper, item_mapper)"
   ]
  },
  {
   "cell_type": "code",
   "execution_count": 16,
   "metadata": {},
   "outputs": [
    {
     "data": {
      "text/plain": [
       "((3635, 140), (3635, 140))"
      ]
     },
     "execution_count": 16,
     "metadata": {},
     "output_type": "execute_result"
    }
   ],
   "source": [
    "train_mat.shape, valid_mat.shape"
   ]
  },
  {
   "cell_type": "markdown",
   "metadata": {},
   "source": [
    "Notice that both matrices have the **same shape** (same number of users, same number of products)"
   ]
  },
  {
   "cell_type": "markdown",
   "metadata": {},
   "source": [
    "Valid utility matrix has x4 more nulls than the train utility matrix"
   ]
  },
  {
   "cell_type": "markdown",
   "metadata": {},
   "source": [
    "- `train_mat` has only ratings from the train set and `valid_mat` has only ratings from the valid set.\n",
    "- During training we assume that we do not have access to some of the available ratings. We predict these ratings and evaluate them against ratings in the validation set. "
   ]
  },
  {
   "cell_type": "markdown",
   "metadata": {
    "slideshow": {
     "slide_type": "slide"
    }
   },
   "source": [
    "### Questions for you\n",
    "\n",
    "- How do train and validation utility matrices differ? \n",
    "- Why are utility matrices for train and validation sets are of the same shape?\n",
    "<br><br>"
   ]
  },
  {
   "cell_type": "markdown",
   "metadata": {
    "slideshow": {
     "slide_type": "skip"
    }
   },
   "source": [
    "**Answer:** \n",
    "\n",
    "- The training matrix `train_mat` is of shape N by M but only has ratings from `X_train` and all other ratings missing. \n",
    "- The validation matrix `valid_mat` is also of shape N by M but it only has ratings `X_valid` and all other ratings missing. \n",
    "- They have the same shape because both have the same number of users and items; that's how we have constructed them. "
   ]
  },
  {
   "cell_type": "markdown",
   "metadata": {
    "slideshow": {
     "slide_type": "slide"
    }
   },
   "source": [
    "### Evaluation\n",
    "\n",
    "- Now that we have train and validation sets, how do we evaluate our predictions?\n",
    "- You can calculate the **error between actual ratings and predicted ratings** with metrics of your choice. \n",
    "    - Most common ones are MSE or RMSE. "
   ]
  },
  {
   "cell_type": "markdown",
   "metadata": {
    "slideshow": {
     "slide_type": "slide"
    }
   },
   "source": [
    "- The `error` function below calculates RMSE and `evaluate` function prints train and validation RMSE.  "
   ]
  },
  {
   "cell_type": "code",
   "execution_count": 18,
   "metadata": {},
   "outputs": [],
   "source": [
    "def error(X1, X2):\n",
    "    \"\"\"\n",
    "    Returns the root mean squared error.\n",
    "    \"\"\"\n",
    "    # np.nanmean([2, 4, np.nan]) --> 3\n",
    "    return np.sqrt(np.nanmean((X1 - X2) ** 2))\n",
    "\n",
    "\n",
    "def evaluate(pred_X, train_X, valid_X, model_name=\"Global average\"):\n",
    "    print(\"%s train RMSE: %0.2f\" % (model_name, error(pred_X, train_X)))\n",
    "    print(\"%s valid RMSE: %0.2f\" % (model_name, error(pred_X, valid_X)))"
   ]
  },
  {
   "cell_type": "markdown",
   "metadata": {
    "slideshow": {
     "slide_type": "slide"
    }
   },
   "source": [
    "### Baselines\n",
    "\n",
    "Let's first try some simple approaches to predict missing entries. \n",
    "\n",
    "1. Global average baseline\n",
    "2. [$k$-Nearest Neighbours imputation](https://scikit-learn.org/stable/modules/generated/sklearn.impute.KNNImputer.html)    \n",
    "    "
   ]
  },
  {
   "cell_type": "markdown",
   "metadata": {
    "slideshow": {
     "slide_type": "slide"
    }
   },
   "source": [
    "### Global average baseline\n",
    "\n",
    "- Let's examine RMSE of the global average baseline. \n",
    "- In this baseline we predict everything as the global average rating"
   ]
  },
  {
   "cell_type": "code",
   "execution_count": 19,
   "metadata": {},
   "outputs": [
    {
     "data": {
      "text/html": [
       "<div>\n",
       "<style scoped>\n",
       "    .dataframe tbody tr th:only-of-type {\n",
       "        vertical-align: middle;\n",
       "    }\n",
       "\n",
       "    .dataframe tbody tr th {\n",
       "        vertical-align: top;\n",
       "    }\n",
       "\n",
       "    .dataframe thead th {\n",
       "        text-align: right;\n",
       "    }\n",
       "</style>\n",
       "<table border=\"1\" class=\"dataframe\">\n",
       "  <thead>\n",
       "    <tr style=\"text-align: right;\">\n",
       "      <th></th>\n",
       "      <th>0</th>\n",
       "      <th>1</th>\n",
       "      <th>2</th>\n",
       "      <th>3</th>\n",
       "      <th>4</th>\n",
       "      <th>5</th>\n",
       "      <th>6</th>\n",
       "      <th>7</th>\n",
       "      <th>8</th>\n",
       "      <th>9</th>\n",
       "      <th>...</th>\n",
       "      <th>130</th>\n",
       "      <th>131</th>\n",
       "      <th>132</th>\n",
       "      <th>133</th>\n",
       "      <th>134</th>\n",
       "      <th>135</th>\n",
       "      <th>136</th>\n",
       "      <th>137</th>\n",
       "      <th>138</th>\n",
       "      <th>139</th>\n",
       "    </tr>\n",
       "  </thead>\n",
       "  <tbody>\n",
       "    <tr>\n",
       "      <th>0</th>\n",
       "      <td>1.20741</td>\n",
       "      <td>1.20741</td>\n",
       "      <td>1.20741</td>\n",
       "      <td>1.20741</td>\n",
       "      <td>1.20741</td>\n",
       "      <td>1.20741</td>\n",
       "      <td>1.20741</td>\n",
       "      <td>1.20741</td>\n",
       "      <td>1.20741</td>\n",
       "      <td>1.20741</td>\n",
       "      <td>...</td>\n",
       "      <td>1.20741</td>\n",
       "      <td>1.20741</td>\n",
       "      <td>1.20741</td>\n",
       "      <td>1.20741</td>\n",
       "      <td>1.20741</td>\n",
       "      <td>1.20741</td>\n",
       "      <td>1.20741</td>\n",
       "      <td>1.20741</td>\n",
       "      <td>1.20741</td>\n",
       "      <td>1.20741</td>\n",
       "    </tr>\n",
       "    <tr>\n",
       "      <th>1</th>\n",
       "      <td>1.20741</td>\n",
       "      <td>1.20741</td>\n",
       "      <td>1.20741</td>\n",
       "      <td>1.20741</td>\n",
       "      <td>1.20741</td>\n",
       "      <td>1.20741</td>\n",
       "      <td>1.20741</td>\n",
       "      <td>1.20741</td>\n",
       "      <td>1.20741</td>\n",
       "      <td>1.20741</td>\n",
       "      <td>...</td>\n",
       "      <td>1.20741</td>\n",
       "      <td>1.20741</td>\n",
       "      <td>1.20741</td>\n",
       "      <td>1.20741</td>\n",
       "      <td>1.20741</td>\n",
       "      <td>1.20741</td>\n",
       "      <td>1.20741</td>\n",
       "      <td>1.20741</td>\n",
       "      <td>1.20741</td>\n",
       "      <td>1.20741</td>\n",
       "    </tr>\n",
       "    <tr>\n",
       "      <th>2</th>\n",
       "      <td>1.20741</td>\n",
       "      <td>1.20741</td>\n",
       "      <td>1.20741</td>\n",
       "      <td>1.20741</td>\n",
       "      <td>1.20741</td>\n",
       "      <td>1.20741</td>\n",
       "      <td>1.20741</td>\n",
       "      <td>1.20741</td>\n",
       "      <td>1.20741</td>\n",
       "      <td>1.20741</td>\n",
       "      <td>...</td>\n",
       "      <td>1.20741</td>\n",
       "      <td>1.20741</td>\n",
       "      <td>1.20741</td>\n",
       "      <td>1.20741</td>\n",
       "      <td>1.20741</td>\n",
       "      <td>1.20741</td>\n",
       "      <td>1.20741</td>\n",
       "      <td>1.20741</td>\n",
       "      <td>1.20741</td>\n",
       "      <td>1.20741</td>\n",
       "    </tr>\n",
       "    <tr>\n",
       "      <th>3</th>\n",
       "      <td>1.20741</td>\n",
       "      <td>1.20741</td>\n",
       "      <td>1.20741</td>\n",
       "      <td>1.20741</td>\n",
       "      <td>1.20741</td>\n",
       "      <td>1.20741</td>\n",
       "      <td>1.20741</td>\n",
       "      <td>1.20741</td>\n",
       "      <td>1.20741</td>\n",
       "      <td>1.20741</td>\n",
       "      <td>...</td>\n",
       "      <td>1.20741</td>\n",
       "      <td>1.20741</td>\n",
       "      <td>1.20741</td>\n",
       "      <td>1.20741</td>\n",
       "      <td>1.20741</td>\n",
       "      <td>1.20741</td>\n",
       "      <td>1.20741</td>\n",
       "      <td>1.20741</td>\n",
       "      <td>1.20741</td>\n",
       "      <td>1.20741</td>\n",
       "    </tr>\n",
       "    <tr>\n",
       "      <th>4</th>\n",
       "      <td>1.20741</td>\n",
       "      <td>1.20741</td>\n",
       "      <td>1.20741</td>\n",
       "      <td>1.20741</td>\n",
       "      <td>1.20741</td>\n",
       "      <td>1.20741</td>\n",
       "      <td>1.20741</td>\n",
       "      <td>1.20741</td>\n",
       "      <td>1.20741</td>\n",
       "      <td>1.20741</td>\n",
       "      <td>...</td>\n",
       "      <td>1.20741</td>\n",
       "      <td>1.20741</td>\n",
       "      <td>1.20741</td>\n",
       "      <td>1.20741</td>\n",
       "      <td>1.20741</td>\n",
       "      <td>1.20741</td>\n",
       "      <td>1.20741</td>\n",
       "      <td>1.20741</td>\n",
       "      <td>1.20741</td>\n",
       "      <td>1.20741</td>\n",
       "    </tr>\n",
       "  </tbody>\n",
       "</table>\n",
       "<p>5 rows × 140 columns</p>\n",
       "</div>"
      ],
      "text/plain": [
       "         0        1        2        3        4        5        6        7  \\\n",
       "0  1.20741  1.20741  1.20741  1.20741  1.20741  1.20741  1.20741  1.20741   \n",
       "1  1.20741  1.20741  1.20741  1.20741  1.20741  1.20741  1.20741  1.20741   \n",
       "2  1.20741  1.20741  1.20741  1.20741  1.20741  1.20741  1.20741  1.20741   \n",
       "3  1.20741  1.20741  1.20741  1.20741  1.20741  1.20741  1.20741  1.20741   \n",
       "4  1.20741  1.20741  1.20741  1.20741  1.20741  1.20741  1.20741  1.20741   \n",
       "\n",
       "         8        9  ...      130      131      132      133      134  \\\n",
       "0  1.20741  1.20741  ...  1.20741  1.20741  1.20741  1.20741  1.20741   \n",
       "1  1.20741  1.20741  ...  1.20741  1.20741  1.20741  1.20741  1.20741   \n",
       "2  1.20741  1.20741  ...  1.20741  1.20741  1.20741  1.20741  1.20741   \n",
       "3  1.20741  1.20741  ...  1.20741  1.20741  1.20741  1.20741  1.20741   \n",
       "4  1.20741  1.20741  ...  1.20741  1.20741  1.20741  1.20741  1.20741   \n",
       "\n",
       "       135      136      137      138      139  \n",
       "0  1.20741  1.20741  1.20741  1.20741  1.20741  \n",
       "1  1.20741  1.20741  1.20741  1.20741  1.20741  \n",
       "2  1.20741  1.20741  1.20741  1.20741  1.20741  \n",
       "3  1.20741  1.20741  1.20741  1.20741  1.20741  \n",
       "4  1.20741  1.20741  1.20741  1.20741  1.20741  \n",
       "\n",
       "[5 rows x 140 columns]"
      ]
     },
     "execution_count": 19,
     "metadata": {},
     "output_type": "execute_result"
    }
   ],
   "source": [
    "# Compute the arithmetic mean along the specified axis, ignoring NaNs and ignoring axis\n",
    "avg = np.nanmean(train_mat)\n",
    "\n",
    "# predict everything as average\n",
    "pred_g = np.zeros(train_mat.shape) + avg\n",
    "\n",
    "pd.DataFrame(pred_g).head()"
   ]
  },
  {
   "cell_type": "code",
   "execution_count": 20,
   "metadata": {},
   "outputs": [
    {
     "name": "stdout",
     "output_type": "stream",
     "text": [
      "Global average train RMSE: 5.75\n",
      "Global average valid RMSE: 5.77\n"
     ]
    }
   ],
   "source": [
    "evaluate(pred_g, train_mat, valid_mat, model_name=\"Global average\")"
   ]
  },
  {
   "cell_type": "markdown",
   "metadata": {},
   "source": [
    "<br><br><br><br>\n",
    "\n",
    "We can improve a little and calculate Average per item (joke):"
   ]
  },
  {
   "cell_type": "code",
   "execution_count": 21,
   "metadata": {},
   "outputs": [
    {
     "data": {
      "text/html": [
       "<div>\n",
       "<style scoped>\n",
       "    .dataframe tbody tr th:only-of-type {\n",
       "        vertical-align: middle;\n",
       "    }\n",
       "\n",
       "    .dataframe tbody tr th {\n",
       "        vertical-align: top;\n",
       "    }\n",
       "\n",
       "    .dataframe thead th {\n",
       "        text-align: right;\n",
       "    }\n",
       "</style>\n",
       "<table border=\"1\" class=\"dataframe\">\n",
       "  <thead>\n",
       "    <tr style=\"text-align: right;\">\n",
       "      <th></th>\n",
       "      <th>0</th>\n",
       "      <th>1</th>\n",
       "      <th>2</th>\n",
       "      <th>3</th>\n",
       "      <th>4</th>\n",
       "      <th>5</th>\n",
       "      <th>6</th>\n",
       "      <th>7</th>\n",
       "      <th>8</th>\n",
       "      <th>9</th>\n",
       "      <th>...</th>\n",
       "      <th>130</th>\n",
       "      <th>131</th>\n",
       "      <th>132</th>\n",
       "      <th>133</th>\n",
       "      <th>134</th>\n",
       "      <th>135</th>\n",
       "      <th>136</th>\n",
       "      <th>137</th>\n",
       "      <th>138</th>\n",
       "      <th>139</th>\n",
       "    </tr>\n",
       "  </thead>\n",
       "  <tbody>\n",
       "    <tr>\n",
       "      <th>0</th>\n",
       "      <td>-1.73545</td>\n",
       "      <td>-2.513847</td>\n",
       "      <td>-0.781443</td>\n",
       "      <td>-1.540152</td>\n",
       "      <td>-1.71734</td>\n",
       "      <td>-1.851271</td>\n",
       "      <td>1.613225</td>\n",
       "      <td>-0.672315</td>\n",
       "      <td>1.130707</td>\n",
       "      <td>-0.39359</td>\n",
       "      <td>...</td>\n",
       "      <td>-3.247649</td>\n",
       "      <td>1.973836</td>\n",
       "      <td>2.5381</td>\n",
       "      <td>1.162853</td>\n",
       "      <td>2.483755</td>\n",
       "      <td>-0.266783</td>\n",
       "      <td>1.532257</td>\n",
       "      <td>2.617535</td>\n",
       "      <td>2.102236</td>\n",
       "      <td>2.429098</td>\n",
       "    </tr>\n",
       "    <tr>\n",
       "      <th>1</th>\n",
       "      <td>-1.73545</td>\n",
       "      <td>-2.513847</td>\n",
       "      <td>-0.781443</td>\n",
       "      <td>-1.540152</td>\n",
       "      <td>-1.71734</td>\n",
       "      <td>-1.851271</td>\n",
       "      <td>1.613225</td>\n",
       "      <td>-0.672315</td>\n",
       "      <td>1.130707</td>\n",
       "      <td>-0.39359</td>\n",
       "      <td>...</td>\n",
       "      <td>-3.247649</td>\n",
       "      <td>1.973836</td>\n",
       "      <td>2.5381</td>\n",
       "      <td>1.162853</td>\n",
       "      <td>2.483755</td>\n",
       "      <td>-0.266783</td>\n",
       "      <td>1.532257</td>\n",
       "      <td>2.617535</td>\n",
       "      <td>2.102236</td>\n",
       "      <td>2.429098</td>\n",
       "    </tr>\n",
       "    <tr>\n",
       "      <th>2</th>\n",
       "      <td>-1.73545</td>\n",
       "      <td>-2.513847</td>\n",
       "      <td>-0.781443</td>\n",
       "      <td>-1.540152</td>\n",
       "      <td>-1.71734</td>\n",
       "      <td>-1.851271</td>\n",
       "      <td>1.613225</td>\n",
       "      <td>-0.672315</td>\n",
       "      <td>1.130707</td>\n",
       "      <td>-0.39359</td>\n",
       "      <td>...</td>\n",
       "      <td>-3.247649</td>\n",
       "      <td>1.973836</td>\n",
       "      <td>2.5381</td>\n",
       "      <td>1.162853</td>\n",
       "      <td>2.483755</td>\n",
       "      <td>-0.266783</td>\n",
       "      <td>1.532257</td>\n",
       "      <td>2.617535</td>\n",
       "      <td>2.102236</td>\n",
       "      <td>2.429098</td>\n",
       "    </tr>\n",
       "    <tr>\n",
       "      <th>3</th>\n",
       "      <td>-1.73545</td>\n",
       "      <td>-2.513847</td>\n",
       "      <td>-0.781443</td>\n",
       "      <td>-1.540152</td>\n",
       "      <td>-1.71734</td>\n",
       "      <td>-1.851271</td>\n",
       "      <td>1.613225</td>\n",
       "      <td>-0.672315</td>\n",
       "      <td>1.130707</td>\n",
       "      <td>-0.39359</td>\n",
       "      <td>...</td>\n",
       "      <td>-3.247649</td>\n",
       "      <td>1.973836</td>\n",
       "      <td>2.5381</td>\n",
       "      <td>1.162853</td>\n",
       "      <td>2.483755</td>\n",
       "      <td>-0.266783</td>\n",
       "      <td>1.532257</td>\n",
       "      <td>2.617535</td>\n",
       "      <td>2.102236</td>\n",
       "      <td>2.429098</td>\n",
       "    </tr>\n",
       "    <tr>\n",
       "      <th>4</th>\n",
       "      <td>-1.73545</td>\n",
       "      <td>-2.513847</td>\n",
       "      <td>-0.781443</td>\n",
       "      <td>-1.540152</td>\n",
       "      <td>-1.71734</td>\n",
       "      <td>-1.851271</td>\n",
       "      <td>1.613225</td>\n",
       "      <td>-0.672315</td>\n",
       "      <td>1.130707</td>\n",
       "      <td>-0.39359</td>\n",
       "      <td>...</td>\n",
       "      <td>-3.247649</td>\n",
       "      <td>1.973836</td>\n",
       "      <td>2.5381</td>\n",
       "      <td>1.162853</td>\n",
       "      <td>2.483755</td>\n",
       "      <td>-0.266783</td>\n",
       "      <td>1.532257</td>\n",
       "      <td>2.617535</td>\n",
       "      <td>2.102236</td>\n",
       "      <td>2.429098</td>\n",
       "    </tr>\n",
       "  </tbody>\n",
       "</table>\n",
       "<p>5 rows × 140 columns</p>\n",
       "</div>"
      ],
      "text/plain": [
       "         0         1         2         3        4         5         6  \\\n",
       "0 -1.73545 -2.513847 -0.781443 -1.540152 -1.71734 -1.851271  1.613225   \n",
       "1 -1.73545 -2.513847 -0.781443 -1.540152 -1.71734 -1.851271  1.613225   \n",
       "2 -1.73545 -2.513847 -0.781443 -1.540152 -1.71734 -1.851271  1.613225   \n",
       "3 -1.73545 -2.513847 -0.781443 -1.540152 -1.71734 -1.851271  1.613225   \n",
       "4 -1.73545 -2.513847 -0.781443 -1.540152 -1.71734 -1.851271  1.613225   \n",
       "\n",
       "          7         8        9  ...       130       131     132       133  \\\n",
       "0 -0.672315  1.130707 -0.39359  ... -3.247649  1.973836  2.5381  1.162853   \n",
       "1 -0.672315  1.130707 -0.39359  ... -3.247649  1.973836  2.5381  1.162853   \n",
       "2 -0.672315  1.130707 -0.39359  ... -3.247649  1.973836  2.5381  1.162853   \n",
       "3 -0.672315  1.130707 -0.39359  ... -3.247649  1.973836  2.5381  1.162853   \n",
       "4 -0.672315  1.130707 -0.39359  ... -3.247649  1.973836  2.5381  1.162853   \n",
       "\n",
       "        134       135       136       137       138       139  \n",
       "0  2.483755 -0.266783  1.532257  2.617535  2.102236  2.429098  \n",
       "1  2.483755 -0.266783  1.532257  2.617535  2.102236  2.429098  \n",
       "2  2.483755 -0.266783  1.532257  2.617535  2.102236  2.429098  \n",
       "3  2.483755 -0.266783  1.532257  2.617535  2.102236  2.429098  \n",
       "4  2.483755 -0.266783  1.532257  2.617535  2.102236  2.429098  \n",
       "\n",
       "[5 rows x 140 columns]"
      ]
     },
     "execution_count": 21,
     "metadata": {},
     "output_type": "execute_result"
    }
   ],
   "source": [
    "avg = np.nanmean(train_mat, axis=0)\n",
    "pred_g = np.zeros(train_mat.shape) + avg\n",
    "pd.DataFrame(pred_g).head()"
   ]
  },
  {
   "cell_type": "code",
   "execution_count": 22,
   "metadata": {},
   "outputs": [
    {
     "name": "stdout",
     "output_type": "stream",
     "text": [
      "Global average train RMSE: 5.50\n",
      "Global average valid RMSE: 5.53\n"
     ]
    }
   ],
   "source": [
    "evaluate(pred_g, train_mat, valid_mat, model_name=\"Global average\")"
   ]
  },
  {
   "cell_type": "markdown",
   "metadata": {
    "slideshow": {
     "slide_type": "slide"
    }
   },
   "source": [
    "### [$k$-nearest neighbours imputation](https://scikit-learn.org/stable/modules/generated/sklearn.impute.KNNImputer.html)\n",
    "\n",
    "- Can we try $k$-nearest neighbours type imputation? \n",
    "- Impute missing values using the mean value from **$k$ nearest neighbours found in the training set**. \n",
    "- Calculate distances between examples using features where neither value is missing. \n",
    "\n",
    "<!-- ![](../img/utility_matrix.png) -->\n",
    "\n",
    "<img src=\"../img/utility_matrix.png\" alt=\"\" height=\"900\" width=\"900\"> "
   ]
  },
  {
   "cell_type": "markdown",
   "metadata": {},
   "source": [
    "KNNImputer:\n",
    "\n",
    "> Each sample’s missing values are imputed using the mean value from n_neighbors nearest neighbors found in the training set.   \n",
    "> **Two samples are close if the features that neither is missing are close.**"
   ]
  },
  {
   "cell_type": "markdown",
   "metadata": {},
   "source": [
    "Note:\n",
    "- This is similar to **\"User-based Collaborative Filtering\"** which we will shortly discuss"
   ]
  },
  {
   "cell_type": "code",
   "execution_count": 23,
   "metadata": {
    "slideshow": {
     "slide_type": "slide"
    }
   },
   "outputs": [],
   "source": [
    "from sklearn.impute import KNNImputer\n",
    "\n",
    "imputer = KNNImputer(n_neighbors=10)\n",
    "train_mat_imp = imputer.fit_transform(train_mat)"
   ]
  },
  {
   "cell_type": "code",
   "execution_count": 26,
   "metadata": {},
   "outputs": [
    {
     "data": {
      "text/html": [
       "<div>\n",
       "<style scoped>\n",
       "    .dataframe tbody tr th:only-of-type {\n",
       "        vertical-align: middle;\n",
       "    }\n",
       "\n",
       "    .dataframe tbody tr th {\n",
       "        vertical-align: top;\n",
       "    }\n",
       "\n",
       "    .dataframe thead th {\n",
       "        text-align: right;\n",
       "    }\n",
       "</style>\n",
       "<table border=\"1\" class=\"dataframe\">\n",
       "  <thead>\n",
       "    <tr style=\"text-align: right;\">\n",
       "      <th></th>\n",
       "      <th>userId</th>\n",
       "      <th>jokeId</th>\n",
       "      <th>rating</th>\n",
       "    </tr>\n",
       "  </thead>\n",
       "  <tbody>\n",
       "    <tr>\n",
       "      <th>31743</th>\n",
       "      <td>832</td>\n",
       "      <td>25</td>\n",
       "      <td>9.344</td>\n",
       "    </tr>\n",
       "    <tr>\n",
       "      <th>66654</th>\n",
       "      <td>1740</td>\n",
       "      <td>19</td>\n",
       "      <td>-4.781</td>\n",
       "    </tr>\n",
       "    <tr>\n",
       "      <th>122254</th>\n",
       "      <td>3223</td>\n",
       "      <td>8</td>\n",
       "      <td>-7.188</td>\n",
       "    </tr>\n",
       "    <tr>\n",
       "      <th>119775</th>\n",
       "      <td>3156</td>\n",
       "      <td>33</td>\n",
       "      <td>5.344</td>\n",
       "    </tr>\n",
       "    <tr>\n",
       "      <th>94842</th>\n",
       "      <td>2483</td>\n",
       "      <td>136</td>\n",
       "      <td>5.375</td>\n",
       "    </tr>\n",
       "    <tr>\n",
       "      <th>...</th>\n",
       "      <td>...</td>\n",
       "      <td>...</td>\n",
       "      <td>...</td>\n",
       "    </tr>\n",
       "    <tr>\n",
       "      <th>110268</th>\n",
       "      <td>2892</td>\n",
       "      <td>19</td>\n",
       "      <td>-5.188</td>\n",
       "    </tr>\n",
       "    <tr>\n",
       "      <th>119879</th>\n",
       "      <td>3158</td>\n",
       "      <td>144</td>\n",
       "      <td>-9.781</td>\n",
       "    </tr>\n",
       "    <tr>\n",
       "      <th>103694</th>\n",
       "      <td>2690</td>\n",
       "      <td>95</td>\n",
       "      <td>-9.062</td>\n",
       "    </tr>\n",
       "    <tr>\n",
       "      <th>131932</th>\n",
       "      <td>3603</td>\n",
       "      <td>15</td>\n",
       "      <td>-9.156</td>\n",
       "    </tr>\n",
       "    <tr>\n",
       "      <th>121958</th>\n",
       "      <td>3215</td>\n",
       "      <td>67</td>\n",
       "      <td>0.625</td>\n",
       "    </tr>\n",
       "  </tbody>\n",
       "</table>\n",
       "<p>113089 rows × 3 columns</p>\n",
       "</div>"
      ],
      "text/plain": [
       "        userId  jokeId  rating\n",
       "31743   832     25      9.344 \n",
       "66654   1740    19     -4.781 \n",
       "122254  3223    8      -7.188 \n",
       "119775  3156    33      5.344 \n",
       "94842   2483    136     5.375 \n",
       "...      ...    ...       ... \n",
       "110268  2892    19     -5.188 \n",
       "119879  3158    144    -9.781 \n",
       "103694  2690    95     -9.062 \n",
       "131932  3603    15     -9.156 \n",
       "121958  3215    67      0.625 \n",
       "\n",
       "[113089 rows x 3 columns]"
      ]
     },
     "execution_count": 26,
     "metadata": {},
     "output_type": "execute_result"
    }
   ],
   "source": [
    "X_train"
   ]
  },
  {
   "cell_type": "code",
   "execution_count": 28,
   "metadata": {},
   "outputs": [
    {
     "data": {
      "text/html": [
       "<div>\n",
       "<style scoped>\n",
       "    .dataframe tbody tr th:only-of-type {\n",
       "        vertical-align: middle;\n",
       "    }\n",
       "\n",
       "    .dataframe tbody tr th {\n",
       "        vertical-align: top;\n",
       "    }\n",
       "\n",
       "    .dataframe thead th {\n",
       "        text-align: right;\n",
       "    }\n",
       "</style>\n",
       "<table border=\"1\" class=\"dataframe\">\n",
       "  <thead>\n",
       "    <tr style=\"text-align: right;\">\n",
       "      <th></th>\n",
       "      <th>0</th>\n",
       "      <th>1</th>\n",
       "      <th>2</th>\n",
       "      <th>3</th>\n",
       "      <th>4</th>\n",
       "      <th>5</th>\n",
       "      <th>6</th>\n",
       "      <th>7</th>\n",
       "      <th>8</th>\n",
       "      <th>9</th>\n",
       "      <th>...</th>\n",
       "      <th>130</th>\n",
       "      <th>131</th>\n",
       "      <th>132</th>\n",
       "      <th>133</th>\n",
       "      <th>134</th>\n",
       "      <th>135</th>\n",
       "      <th>136</th>\n",
       "      <th>137</th>\n",
       "      <th>138</th>\n",
       "      <th>139</th>\n",
       "    </tr>\n",
       "  </thead>\n",
       "  <tbody>\n",
       "    <tr>\n",
       "      <th>0</th>\n",
       "      <td>NaN</td>\n",
       "      <td>-9.281</td>\n",
       "      <td>-9.281</td>\n",
       "      <td>-6.781</td>\n",
       "      <td>0.875</td>\n",
       "      <td>-9.656</td>\n",
       "      <td>-9.031</td>\n",
       "      <td>-7.469</td>\n",
       "      <td>-8.719</td>\n",
       "      <td>-9.156</td>\n",
       "      <td>...</td>\n",
       "      <td>NaN</td>\n",
       "      <td>NaN</td>\n",
       "      <td>NaN</td>\n",
       "      <td>NaN</td>\n",
       "      <td>NaN</td>\n",
       "      <td>NaN</td>\n",
       "      <td>NaN</td>\n",
       "      <td>NaN</td>\n",
       "      <td>NaN</td>\n",
       "      <td>NaN</td>\n",
       "    </tr>\n",
       "    <tr>\n",
       "      <th>1</th>\n",
       "      <td>NaN</td>\n",
       "      <td>9.938</td>\n",
       "      <td>9.531</td>\n",
       "      <td>9.938</td>\n",
       "      <td>0.406</td>\n",
       "      <td>3.719</td>\n",
       "      <td>9.656</td>\n",
       "      <td>-2.688</td>\n",
       "      <td>NaN</td>\n",
       "      <td>-9.125</td>\n",
       "      <td>...</td>\n",
       "      <td>NaN</td>\n",
       "      <td>NaN</td>\n",
       "      <td>NaN</td>\n",
       "      <td>NaN</td>\n",
       "      <td>NaN</td>\n",
       "      <td>NaN</td>\n",
       "      <td>NaN</td>\n",
       "      <td>NaN</td>\n",
       "      <td>NaN</td>\n",
       "      <td>NaN</td>\n",
       "    </tr>\n",
       "    <tr>\n",
       "      <th>2</th>\n",
       "      <td>-9.844</td>\n",
       "      <td>NaN</td>\n",
       "      <td>-7.219</td>\n",
       "      <td>-2.031</td>\n",
       "      <td>-9.938</td>\n",
       "      <td>-9.969</td>\n",
       "      <td>-9.875</td>\n",
       "      <td>-9.812</td>\n",
       "      <td>-9.781</td>\n",
       "      <td>-6.844</td>\n",
       "      <td>...</td>\n",
       "      <td>NaN</td>\n",
       "      <td>NaN</td>\n",
       "      <td>NaN</td>\n",
       "      <td>NaN</td>\n",
       "      <td>NaN</td>\n",
       "      <td>NaN</td>\n",
       "      <td>NaN</td>\n",
       "      <td>NaN</td>\n",
       "      <td>NaN</td>\n",
       "      <td>NaN</td>\n",
       "    </tr>\n",
       "    <tr>\n",
       "      <th>3</th>\n",
       "      <td>-5.812</td>\n",
       "      <td>NaN</td>\n",
       "      <td>-4.906</td>\n",
       "      <td>NaN</td>\n",
       "      <td>NaN</td>\n",
       "      <td>NaN</td>\n",
       "      <td>NaN</td>\n",
       "      <td>NaN</td>\n",
       "      <td>NaN</td>\n",
       "      <td>NaN</td>\n",
       "      <td>...</td>\n",
       "      <td>NaN</td>\n",
       "      <td>NaN</td>\n",
       "      <td>NaN</td>\n",
       "      <td>NaN</td>\n",
       "      <td>NaN</td>\n",
       "      <td>NaN</td>\n",
       "      <td>NaN</td>\n",
       "      <td>NaN</td>\n",
       "      <td>NaN</td>\n",
       "      <td>NaN</td>\n",
       "    </tr>\n",
       "    <tr>\n",
       "      <th>4</th>\n",
       "      <td>NaN</td>\n",
       "      <td>4.750</td>\n",
       "      <td>NaN</td>\n",
       "      <td>-0.406</td>\n",
       "      <td>NaN</td>\n",
       "      <td>3.875</td>\n",
       "      <td>6.219</td>\n",
       "      <td>NaN</td>\n",
       "      <td>6.094</td>\n",
       "      <td>5.406</td>\n",
       "      <td>...</td>\n",
       "      <td>NaN</td>\n",
       "      <td>NaN</td>\n",
       "      <td>NaN</td>\n",
       "      <td>NaN</td>\n",
       "      <td>NaN</td>\n",
       "      <td>NaN</td>\n",
       "      <td>NaN</td>\n",
       "      <td>NaN</td>\n",
       "      <td>NaN</td>\n",
       "      <td>NaN</td>\n",
       "    </tr>\n",
       "    <tr>\n",
       "      <th>...</th>\n",
       "      <td>...</td>\n",
       "      <td>...</td>\n",
       "      <td>...</td>\n",
       "      <td>...</td>\n",
       "      <td>...</td>\n",
       "      <td>...</td>\n",
       "      <td>...</td>\n",
       "      <td>...</td>\n",
       "      <td>...</td>\n",
       "      <td>...</td>\n",
       "      <td>...</td>\n",
       "      <td>...</td>\n",
       "      <td>...</td>\n",
       "      <td>...</td>\n",
       "      <td>...</td>\n",
       "      <td>...</td>\n",
       "      <td>...</td>\n",
       "      <td>...</td>\n",
       "      <td>...</td>\n",
       "      <td>...</td>\n",
       "      <td>...</td>\n",
       "    </tr>\n",
       "    <tr>\n",
       "      <th>3630</th>\n",
       "      <td>NaN</td>\n",
       "      <td>-9.812</td>\n",
       "      <td>-0.062</td>\n",
       "      <td>NaN</td>\n",
       "      <td>NaN</td>\n",
       "      <td>NaN</td>\n",
       "      <td>NaN</td>\n",
       "      <td>NaN</td>\n",
       "      <td>NaN</td>\n",
       "      <td>NaN</td>\n",
       "      <td>...</td>\n",
       "      <td>NaN</td>\n",
       "      <td>NaN</td>\n",
       "      <td>NaN</td>\n",
       "      <td>NaN</td>\n",
       "      <td>NaN</td>\n",
       "      <td>NaN</td>\n",
       "      <td>NaN</td>\n",
       "      <td>NaN</td>\n",
       "      <td>NaN</td>\n",
       "      <td>NaN</td>\n",
       "    </tr>\n",
       "    <tr>\n",
       "      <th>3631</th>\n",
       "      <td>NaN</td>\n",
       "      <td>NaN</td>\n",
       "      <td>NaN</td>\n",
       "      <td>-9.719</td>\n",
       "      <td>-9.344</td>\n",
       "      <td>NaN</td>\n",
       "      <td>NaN</td>\n",
       "      <td>8.938</td>\n",
       "      <td>8.375</td>\n",
       "      <td>NaN</td>\n",
       "      <td>...</td>\n",
       "      <td>NaN</td>\n",
       "      <td>NaN</td>\n",
       "      <td>NaN</td>\n",
       "      <td>NaN</td>\n",
       "      <td>NaN</td>\n",
       "      <td>NaN</td>\n",
       "      <td>NaN</td>\n",
       "      <td>NaN</td>\n",
       "      <td>NaN</td>\n",
       "      <td>NaN</td>\n",
       "    </tr>\n",
       "    <tr>\n",
       "      <th>3632</th>\n",
       "      <td>NaN</td>\n",
       "      <td>-1.906</td>\n",
       "      <td>3.969</td>\n",
       "      <td>NaN</td>\n",
       "      <td>-0.344</td>\n",
       "      <td>-8.844</td>\n",
       "      <td>4.188</td>\n",
       "      <td>NaN</td>\n",
       "      <td>NaN</td>\n",
       "      <td>NaN</td>\n",
       "      <td>...</td>\n",
       "      <td>NaN</td>\n",
       "      <td>NaN</td>\n",
       "      <td>NaN</td>\n",
       "      <td>NaN</td>\n",
       "      <td>NaN</td>\n",
       "      <td>NaN</td>\n",
       "      <td>NaN</td>\n",
       "      <td>NaN</td>\n",
       "      <td>NaN</td>\n",
       "      <td>NaN</td>\n",
       "    </tr>\n",
       "    <tr>\n",
       "      <th>3633</th>\n",
       "      <td>NaN</td>\n",
       "      <td>NaN</td>\n",
       "      <td>NaN</td>\n",
       "      <td>-9.156</td>\n",
       "      <td>NaN</td>\n",
       "      <td>NaN</td>\n",
       "      <td>NaN</td>\n",
       "      <td>NaN</td>\n",
       "      <td>NaN</td>\n",
       "      <td>NaN</td>\n",
       "      <td>...</td>\n",
       "      <td>NaN</td>\n",
       "      <td>NaN</td>\n",
       "      <td>NaN</td>\n",
       "      <td>NaN</td>\n",
       "      <td>NaN</td>\n",
       "      <td>NaN</td>\n",
       "      <td>NaN</td>\n",
       "      <td>NaN</td>\n",
       "      <td>NaN</td>\n",
       "      <td>NaN</td>\n",
       "    </tr>\n",
       "    <tr>\n",
       "      <th>3634</th>\n",
       "      <td>NaN</td>\n",
       "      <td>-6.312</td>\n",
       "      <td>1.281</td>\n",
       "      <td>-3.531</td>\n",
       "      <td>2.125</td>\n",
       "      <td>-5.812</td>\n",
       "      <td>5.562</td>\n",
       "      <td>NaN</td>\n",
       "      <td>0.125</td>\n",
       "      <td>NaN</td>\n",
       "      <td>...</td>\n",
       "      <td>NaN</td>\n",
       "      <td>NaN</td>\n",
       "      <td>4.188</td>\n",
       "      <td>NaN</td>\n",
       "      <td>NaN</td>\n",
       "      <td>NaN</td>\n",
       "      <td>NaN</td>\n",
       "      <td>NaN</td>\n",
       "      <td>NaN</td>\n",
       "      <td>NaN</td>\n",
       "    </tr>\n",
       "  </tbody>\n",
       "</table>\n",
       "<p>3635 rows × 140 columns</p>\n",
       "</div>"
      ],
      "text/plain": [
       "          0      1      2      3      4      5      6      7      8      9  \\\n",
       "0    NaN    -9.281 -9.281 -6.781  0.875 -9.656 -9.031 -7.469 -8.719 -9.156   \n",
       "1    NaN     9.938  9.531  9.938  0.406  3.719  9.656 -2.688 NaN    -9.125   \n",
       "2    -9.844 NaN    -7.219 -2.031 -9.938 -9.969 -9.875 -9.812 -9.781 -6.844   \n",
       "3    -5.812 NaN    -4.906 NaN    NaN    NaN    NaN    NaN    NaN    NaN      \n",
       "4    NaN     4.750 NaN    -0.406 NaN     3.875  6.219 NaN     6.094  5.406   \n",
       "...   ..       ...  ..       ...  ..       ...    ...  ..       ...    ...   \n",
       "3630 NaN    -9.812 -0.062 NaN    NaN    NaN    NaN    NaN    NaN    NaN      \n",
       "3631 NaN    NaN    NaN    -9.719 -9.344 NaN    NaN     8.938  8.375 NaN      \n",
       "3632 NaN    -1.906  3.969 NaN    -0.344 -8.844  4.188 NaN    NaN    NaN      \n",
       "3633 NaN    NaN    NaN    -9.156 NaN    NaN    NaN    NaN    NaN    NaN      \n",
       "3634 NaN    -6.312  1.281 -3.531  2.125 -5.812  5.562 NaN     0.125 NaN      \n",
       "\n",
       "      ...  130  131    132  133  134  135  136  137  138  139  \n",
       "0     ... NaN  NaN  NaN    NaN  NaN  NaN  NaN  NaN  NaN  NaN   \n",
       "1     ... NaN  NaN  NaN    NaN  NaN  NaN  NaN  NaN  NaN  NaN   \n",
       "2     ... NaN  NaN  NaN    NaN  NaN  NaN  NaN  NaN  NaN  NaN   \n",
       "3     ... NaN  NaN  NaN    NaN  NaN  NaN  NaN  NaN  NaN  NaN   \n",
       "4     ... NaN  NaN  NaN    NaN  NaN  NaN  NaN  NaN  NaN  NaN   \n",
       "...   ...  ..   ..   ..     ..   ..   ..   ..   ..   ..   ..   \n",
       "3630  ... NaN  NaN  NaN    NaN  NaN  NaN  NaN  NaN  NaN  NaN   \n",
       "3631  ... NaN  NaN  NaN    NaN  NaN  NaN  NaN  NaN  NaN  NaN   \n",
       "3632  ... NaN  NaN  NaN    NaN  NaN  NaN  NaN  NaN  NaN  NaN   \n",
       "3633  ... NaN  NaN  NaN    NaN  NaN  NaN  NaN  NaN  NaN  NaN   \n",
       "3634  ... NaN  NaN   4.188 NaN  NaN  NaN  NaN  NaN  NaN  NaN   \n",
       "\n",
       "[3635 rows x 140 columns]"
      ]
     },
     "execution_count": 28,
     "metadata": {},
     "output_type": "execute_result"
    }
   ],
   "source": [
    "pd.DataFrame(train_mat)"
   ]
  },
  {
   "cell_type": "code",
   "execution_count": 24,
   "metadata": {
    "slideshow": {
     "slide_type": "-"
    }
   },
   "outputs": [
    {
     "data": {
      "text/html": [
       "<div>\n",
       "<style scoped>\n",
       "    .dataframe tbody tr th:only-of-type {\n",
       "        vertical-align: middle;\n",
       "    }\n",
       "\n",
       "    .dataframe tbody tr th {\n",
       "        vertical-align: top;\n",
       "    }\n",
       "\n",
       "    .dataframe thead th {\n",
       "        text-align: right;\n",
       "    }\n",
       "</style>\n",
       "<table border=\"1\" class=\"dataframe\">\n",
       "  <thead>\n",
       "    <tr style=\"text-align: right;\">\n",
       "      <th></th>\n",
       "      <th>0</th>\n",
       "      <th>1</th>\n",
       "      <th>2</th>\n",
       "      <th>3</th>\n",
       "      <th>4</th>\n",
       "      <th>5</th>\n",
       "      <th>6</th>\n",
       "      <th>7</th>\n",
       "      <th>8</th>\n",
       "      <th>9</th>\n",
       "      <th>...</th>\n",
       "      <th>130</th>\n",
       "      <th>131</th>\n",
       "      <th>132</th>\n",
       "      <th>133</th>\n",
       "      <th>134</th>\n",
       "      <th>135</th>\n",
       "      <th>136</th>\n",
       "      <th>137</th>\n",
       "      <th>138</th>\n",
       "      <th>139</th>\n",
       "    </tr>\n",
       "  </thead>\n",
       "  <tbody>\n",
       "    <tr>\n",
       "      <th>0</th>\n",
       "      <td>-5.9406</td>\n",
       "      <td>-9.2810</td>\n",
       "      <td>-9.2810</td>\n",
       "      <td>-6.7810</td>\n",
       "      <td>0.8750</td>\n",
       "      <td>-9.6560</td>\n",
       "      <td>-9.0310</td>\n",
       "      <td>-7.4690</td>\n",
       "      <td>-8.7190</td>\n",
       "      <td>-9.1560</td>\n",
       "      <td>...</td>\n",
       "      <td>-4.5311</td>\n",
       "      <td>1.8968</td>\n",
       "      <td>0.6905</td>\n",
       "      <td>-3.1218</td>\n",
       "      <td>1.2843</td>\n",
       "      <td>-2.6063</td>\n",
       "      <td>-0.1812</td>\n",
       "      <td>-1.3937</td>\n",
       "      <td>1.7625</td>\n",
       "      <td>-0.4092</td>\n",
       "    </tr>\n",
       "    <tr>\n",
       "      <th>1</th>\n",
       "      <td>2.3405</td>\n",
       "      <td>9.9380</td>\n",
       "      <td>9.5310</td>\n",
       "      <td>9.9380</td>\n",
       "      <td>0.4060</td>\n",
       "      <td>3.7190</td>\n",
       "      <td>9.6560</td>\n",
       "      <td>-2.6880</td>\n",
       "      <td>4.3438</td>\n",
       "      <td>-9.1250</td>\n",
       "      <td>...</td>\n",
       "      <td>2.2437</td>\n",
       "      <td>3.1719</td>\n",
       "      <td>5.0251</td>\n",
       "      <td>5.1812</td>\n",
       "      <td>8.2407</td>\n",
       "      <td>5.9311</td>\n",
       "      <td>5.8375</td>\n",
       "      <td>6.3812</td>\n",
       "      <td>1.1687</td>\n",
       "      <td>6.2532</td>\n",
       "    </tr>\n",
       "    <tr>\n",
       "      <th>2</th>\n",
       "      <td>-9.8440</td>\n",
       "      <td>-3.5750</td>\n",
       "      <td>-7.2190</td>\n",
       "      <td>-2.0310</td>\n",
       "      <td>-9.9380</td>\n",
       "      <td>-9.9690</td>\n",
       "      <td>-9.8750</td>\n",
       "      <td>-9.8120</td>\n",
       "      <td>-9.7810</td>\n",
       "      <td>-6.8440</td>\n",
       "      <td>...</td>\n",
       "      <td>-4.4186</td>\n",
       "      <td>-3.1156</td>\n",
       "      <td>-1.5655</td>\n",
       "      <td>-5.6250</td>\n",
       "      <td>0.3720</td>\n",
       "      <td>-4.0439</td>\n",
       "      <td>-6.0500</td>\n",
       "      <td>-5.5563</td>\n",
       "      <td>-5.4125</td>\n",
       "      <td>-5.5874</td>\n",
       "    </tr>\n",
       "    <tr>\n",
       "      <th>3</th>\n",
       "      <td>-5.8120</td>\n",
       "      <td>-2.4624</td>\n",
       "      <td>-4.9060</td>\n",
       "      <td>-2.7781</td>\n",
       "      <td>-0.0532</td>\n",
       "      <td>-3.8594</td>\n",
       "      <td>1.7031</td>\n",
       "      <td>-0.3687</td>\n",
       "      <td>1.8469</td>\n",
       "      <td>0.0593</td>\n",
       "      <td>...</td>\n",
       "      <td>-2.0344</td>\n",
       "      <td>2.1469</td>\n",
       "      <td>2.8875</td>\n",
       "      <td>1.6845</td>\n",
       "      <td>1.2437</td>\n",
       "      <td>-0.0156</td>\n",
       "      <td>1.2595</td>\n",
       "      <td>3.8219</td>\n",
       "      <td>3.1971</td>\n",
       "      <td>5.0249</td>\n",
       "    </tr>\n",
       "    <tr>\n",
       "      <th>4</th>\n",
       "      <td>1.3157</td>\n",
       "      <td>4.7500</td>\n",
       "      <td>1.8658</td>\n",
       "      <td>-0.4060</td>\n",
       "      <td>1.7937</td>\n",
       "      <td>3.8750</td>\n",
       "      <td>6.2190</td>\n",
       "      <td>1.9220</td>\n",
       "      <td>6.0940</td>\n",
       "      <td>5.4060</td>\n",
       "      <td>...</td>\n",
       "      <td>-0.2844</td>\n",
       "      <td>1.1313</td>\n",
       "      <td>4.0157</td>\n",
       "      <td>3.0344</td>\n",
       "      <td>4.0406</td>\n",
       "      <td>0.5218</td>\n",
       "      <td>4.3594</td>\n",
       "      <td>4.0968</td>\n",
       "      <td>3.9250</td>\n",
       "      <td>3.9657</td>\n",
       "    </tr>\n",
       "    <tr>\n",
       "      <th>...</th>\n",
       "      <td>...</td>\n",
       "      <td>...</td>\n",
       "      <td>...</td>\n",
       "      <td>...</td>\n",
       "      <td>...</td>\n",
       "      <td>...</td>\n",
       "      <td>...</td>\n",
       "      <td>...</td>\n",
       "      <td>...</td>\n",
       "      <td>...</td>\n",
       "      <td>...</td>\n",
       "      <td>...</td>\n",
       "      <td>...</td>\n",
       "      <td>...</td>\n",
       "      <td>...</td>\n",
       "      <td>...</td>\n",
       "      <td>...</td>\n",
       "      <td>...</td>\n",
       "      <td>...</td>\n",
       "      <td>...</td>\n",
       "      <td>...</td>\n",
       "    </tr>\n",
       "    <tr>\n",
       "      <th>3630</th>\n",
       "      <td>-0.7750</td>\n",
       "      <td>-9.8120</td>\n",
       "      <td>-0.0620</td>\n",
       "      <td>-2.8218</td>\n",
       "      <td>-4.1470</td>\n",
       "      <td>-4.8281</td>\n",
       "      <td>2.2718</td>\n",
       "      <td>-2.8782</td>\n",
       "      <td>-1.0125</td>\n",
       "      <td>0.0688</td>\n",
       "      <td>...</td>\n",
       "      <td>-6.6844</td>\n",
       "      <td>3.0531</td>\n",
       "      <td>2.8687</td>\n",
       "      <td>1.5281</td>\n",
       "      <td>4.5002</td>\n",
       "      <td>-0.1878</td>\n",
       "      <td>2.0031</td>\n",
       "      <td>4.0908</td>\n",
       "      <td>2.3563</td>\n",
       "      <td>5.0406</td>\n",
       "    </tr>\n",
       "    <tr>\n",
       "      <th>3631</th>\n",
       "      <td>2.5188</td>\n",
       "      <td>-5.0625</td>\n",
       "      <td>-0.4001</td>\n",
       "      <td>-9.7190</td>\n",
       "      <td>-9.3440</td>\n",
       "      <td>-1.6408</td>\n",
       "      <td>-4.1187</td>\n",
       "      <td>8.9380</td>\n",
       "      <td>8.3750</td>\n",
       "      <td>-0.9314</td>\n",
       "      <td>...</td>\n",
       "      <td>-4.0344</td>\n",
       "      <td>7.9155</td>\n",
       "      <td>3.4282</td>\n",
       "      <td>4.2968</td>\n",
       "      <td>6.7968</td>\n",
       "      <td>7.3999</td>\n",
       "      <td>1.8500</td>\n",
       "      <td>5.8219</td>\n",
       "      <td>5.1812</td>\n",
       "      <td>2.8437</td>\n",
       "    </tr>\n",
       "    <tr>\n",
       "      <th>3632</th>\n",
       "      <td>0.1749</td>\n",
       "      <td>-1.9060</td>\n",
       "      <td>3.9690</td>\n",
       "      <td>-1.3844</td>\n",
       "      <td>-0.3440</td>\n",
       "      <td>-8.8440</td>\n",
       "      <td>4.1880</td>\n",
       "      <td>-1.5564</td>\n",
       "      <td>5.0593</td>\n",
       "      <td>0.3343</td>\n",
       "      <td>...</td>\n",
       "      <td>-4.0126</td>\n",
       "      <td>2.8344</td>\n",
       "      <td>2.4499</td>\n",
       "      <td>2.9312</td>\n",
       "      <td>2.3750</td>\n",
       "      <td>-0.4062</td>\n",
       "      <td>1.4375</td>\n",
       "      <td>3.9750</td>\n",
       "      <td>-1.2220</td>\n",
       "      <td>2.8375</td>\n",
       "    </tr>\n",
       "    <tr>\n",
       "      <th>3633</th>\n",
       "      <td>-4.5937</td>\n",
       "      <td>-6.4907</td>\n",
       "      <td>-6.1594</td>\n",
       "      <td>-9.1560</td>\n",
       "      <td>-7.1437</td>\n",
       "      <td>-6.5406</td>\n",
       "      <td>3.8718</td>\n",
       "      <td>-1.7782</td>\n",
       "      <td>-3.7406</td>\n",
       "      <td>-0.6406</td>\n",
       "      <td>...</td>\n",
       "      <td>-4.6938</td>\n",
       "      <td>4.8061</td>\n",
       "      <td>4.9968</td>\n",
       "      <td>-0.1626</td>\n",
       "      <td>2.4187</td>\n",
       "      <td>-0.7750</td>\n",
       "      <td>4.6781</td>\n",
       "      <td>1.7658</td>\n",
       "      <td>0.4595</td>\n",
       "      <td>0.1843</td>\n",
       "    </tr>\n",
       "    <tr>\n",
       "      <th>3634</th>\n",
       "      <td>-0.0812</td>\n",
       "      <td>-6.3120</td>\n",
       "      <td>1.2810</td>\n",
       "      <td>-3.5310</td>\n",
       "      <td>2.1250</td>\n",
       "      <td>-5.8120</td>\n",
       "      <td>5.5620</td>\n",
       "      <td>0.2218</td>\n",
       "      <td>0.1250</td>\n",
       "      <td>-1.1874</td>\n",
       "      <td>...</td>\n",
       "      <td>-3.8156</td>\n",
       "      <td>4.1812</td>\n",
       "      <td>4.1880</td>\n",
       "      <td>3.7280</td>\n",
       "      <td>3.0750</td>\n",
       "      <td>2.1033</td>\n",
       "      <td>2.8156</td>\n",
       "      <td>5.5312</td>\n",
       "      <td>3.8283</td>\n",
       "      <td>4.1219</td>\n",
       "    </tr>\n",
       "  </tbody>\n",
       "</table>\n",
       "<p>3635 rows × 140 columns</p>\n",
       "</div>"
      ],
      "text/plain": [
       "           0       1       2       3       4       5       6       7       8  \\\n",
       "0    -5.9406 -9.2810 -9.2810 -6.7810  0.8750 -9.6560 -9.0310 -7.4690 -8.7190   \n",
       "1     2.3405  9.9380  9.5310  9.9380  0.4060  3.7190  9.6560 -2.6880  4.3438   \n",
       "2    -9.8440 -3.5750 -7.2190 -2.0310 -9.9380 -9.9690 -9.8750 -9.8120 -9.7810   \n",
       "3    -5.8120 -2.4624 -4.9060 -2.7781 -0.0532 -3.8594  1.7031 -0.3687  1.8469   \n",
       "4     1.3157  4.7500  1.8658 -0.4060  1.7937  3.8750  6.2190  1.9220  6.0940   \n",
       "...      ...     ...     ...     ...     ...     ...     ...     ...     ...   \n",
       "3630 -0.7750 -9.8120 -0.0620 -2.8218 -4.1470 -4.8281  2.2718 -2.8782 -1.0125   \n",
       "3631  2.5188 -5.0625 -0.4001 -9.7190 -9.3440 -1.6408 -4.1187  8.9380  8.3750   \n",
       "3632  0.1749 -1.9060  3.9690 -1.3844 -0.3440 -8.8440  4.1880 -1.5564  5.0593   \n",
       "3633 -4.5937 -6.4907 -6.1594 -9.1560 -7.1437 -6.5406  3.8718 -1.7782 -3.7406   \n",
       "3634 -0.0812 -6.3120  1.2810 -3.5310  2.1250 -5.8120  5.5620  0.2218  0.1250   \n",
       "\n",
       "           9  ...     130     131     132     133     134     135     136  \\\n",
       "0    -9.1560  ... -4.5311  1.8968  0.6905 -3.1218  1.2843 -2.6063 -0.1812   \n",
       "1    -9.1250  ...  2.2437  3.1719  5.0251  5.1812  8.2407  5.9311  5.8375   \n",
       "2    -6.8440  ... -4.4186 -3.1156 -1.5655 -5.6250  0.3720 -4.0439 -6.0500   \n",
       "3     0.0593  ... -2.0344  2.1469  2.8875  1.6845  1.2437 -0.0156  1.2595   \n",
       "4     5.4060  ... -0.2844  1.1313  4.0157  3.0344  4.0406  0.5218  4.3594   \n",
       "...      ...  ...     ...     ...     ...     ...     ...     ...     ...   \n",
       "3630  0.0688  ... -6.6844  3.0531  2.8687  1.5281  4.5002 -0.1878  2.0031   \n",
       "3631 -0.9314  ... -4.0344  7.9155  3.4282  4.2968  6.7968  7.3999  1.8500   \n",
       "3632  0.3343  ... -4.0126  2.8344  2.4499  2.9312  2.3750 -0.4062  1.4375   \n",
       "3633 -0.6406  ... -4.6938  4.8061  4.9968 -0.1626  2.4187 -0.7750  4.6781   \n",
       "3634 -1.1874  ... -3.8156  4.1812  4.1880  3.7280  3.0750  2.1033  2.8156   \n",
       "\n",
       "         137     138     139  \n",
       "0    -1.3937  1.7625 -0.4092  \n",
       "1     6.3812  1.1687  6.2532  \n",
       "2    -5.5563 -5.4125 -5.5874  \n",
       "3     3.8219  3.1971  5.0249  \n",
       "4     4.0968  3.9250  3.9657  \n",
       "...      ...     ...     ...  \n",
       "3630  4.0908  2.3563  5.0406  \n",
       "3631  5.8219  5.1812  2.8437  \n",
       "3632  3.9750 -1.2220  2.8375  \n",
       "3633  1.7658  0.4595  0.1843  \n",
       "3634  5.5312  3.8283  4.1219  \n",
       "\n",
       "[3635 rows x 140 columns]"
      ]
     },
     "execution_count": 24,
     "metadata": {},
     "output_type": "execute_result"
    }
   ],
   "source": [
    "pd.DataFrame(train_mat_imp)"
   ]
  },
  {
   "cell_type": "code",
   "execution_count": 25,
   "metadata": {},
   "outputs": [
    {
     "name": "stdout",
     "output_type": "stream",
     "text": [
      "KNN imputer train RMSE: 0.00\n",
      "KNN imputer valid RMSE: 4.79\n"
     ]
    }
   ],
   "source": [
    "evaluate(train_mat_imp, train_mat, valid_mat, model_name=\"KNN imputer\")"
   ]
  },
  {
   "cell_type": "markdown",
   "metadata": {
    "slideshow": {
     "slide_type": "slide"
    }
   },
   "source": [
    "<br><br>\n",
    "\n",
    "Alternative Approaches:\n",
    "- You can also use [nearest neighbors](https://scikit-learn.org/stable/modules/generated/sklearn.neighbors.NearestNeighbors.html) module of SkLearn\n",
    "- We can look at nearest neighbours of a query items (here, jokes) instead of the users \n",
    "  - In this approach, columns are items, and users are features for jokes, and we'll have to find nearest neighbours of columns vectors (as opposed to the previous approach where we found nearest neighbors for row vectors) \n",
    "  - In other words, we apply KNN on the transpose of the original matrix\n",
    "  - This is similar to **\"Item-based Collaborative Filtering\"** which we will shortly discuss"
   ]
  },
  {
   "cell_type": "markdown",
   "metadata": {
    "slideshow": {
     "slide_type": "slide"
    }
   },
   "source": [
    "### (Optional) $k$-nearest neighbours on a query joke\n",
    "- Let's transpose the matrix.  "
   ]
  },
  {
   "cell_type": "code",
   "execution_count": null,
   "metadata": {
    "slideshow": {
     "slide_type": "-"
    }
   },
   "outputs": [],
   "source": [
    "item_user_mat = train_mat_imp.T"
   ]
  },
  {
   "cell_type": "code",
   "execution_count": null,
   "metadata": {},
   "outputs": [],
   "source": [
    "jokes_df = pd.read_csv(\"../data/jester_items.csv\")\n",
    "jokes_df.head()"
   ]
  },
  {
   "cell_type": "code",
   "execution_count": null,
   "metadata": {
    "slideshow": {
     "slide_type": "-"
    }
   },
   "outputs": [],
   "source": [
    "id_joke_map = dict(zip(jokes_df.jokeId, jokes_df.jokeText))"
   ]
  },
  {
   "cell_type": "code",
   "execution_count": null,
   "metadata": {
    "slideshow": {
     "slide_type": "slide"
    }
   },
   "outputs": [],
   "source": [
    "from sklearn.neighbors import NearestNeighbors\n",
    "\n",
    "\n",
    "def get_topk_recommendations(X, query_ind=0, metric=\"cosine\", k=5):\n",
    "    query_idx = item_inverse_mapper[query_ind]\n",
    "    model = NearestNeighbors(n_neighbors=k, metric=\"cosine\")\n",
    "    model.fit(X)\n",
    "    neigh_ind = model.kneighbors([X[query_ind]], k, return_distance=False).flatten()\n",
    "    neigh_ind = np.delete(neigh_ind, np.where(query_ind == query_ind))\n",
    "    recs = [id_joke_map[item_inverse_mapper[i]] for i in neigh_ind]\n",
    "    print(\"Query joke: \", id_joke_map[query_idx])\n",
    "\n",
    "    return pd.DataFrame(data=recs, columns=[\"top recommendations\"])\n",
    "\n",
    "\n",
    "get_topk_recommendations(item_user_mat, query_ind=8, metric=\"cosine\", k=5)"
   ]
  },
  {
   "cell_type": "markdown",
   "metadata": {
    "slideshow": {
     "slide_type": "slide"
    }
   },
   "source": [
    "**Question**\n",
    "- Instead of imputation, what would be the consequences if we replace `nan` with zeros so that we can calculate distances between vectors? \n",
    "\n",
    "<br><br>\n",
    "**Answer**\n",
    "\n",
    "It's not a good idea replace ratings with 0, because 0 can be an actual rating value in our case. "
   ]
  },
  {
   "cell_type": "markdown",
   "metadata": {
    "slideshow": {
     "slide_type": "slide"
    }
   },
   "source": [
    "### What to do with predictions? \n",
    "\n",
    "Once you have predictions, we can \n",
    "- **sort them based on ratings** and \n",
    "- **recommend a subset of top items with highest ratings** to users."
   ]
  },
  {
   "cell_type": "markdown",
   "metadata": {},
   "source": [
    "<br><br><br><br>"
   ]
  },
  {
   "cell_type": "markdown",
   "metadata": {
    "slideshow": {
     "slide_type": "slide"
    }
   },
   "source": [
    "## Break (5 min)\n",
    "\n",
    "![](../img/eva-coffee.png)"
   ]
  },
  {
   "cell_type": "markdown",
   "metadata": {
    "slideshow": {
     "slide_type": "slide"
    }
   },
   "source": [
    "## Collaborative filtering "
   ]
  },
  {
   "cell_type": "markdown",
   "metadata": {
    "slideshow": {
     "slide_type": "slide"
    }
   },
   "source": [
    "### Collaborative filtering \n",
    "- One of the most popular approach for recommendation systems. \n",
    "- Approach used by the winning entry (and most of the entries) in the Netflix competition. \n",
    "- An **unsupervised** approach\n",
    "    - Only uses the user-item interactions given in the ratings matrix. \n",
    "- **Intuition**\n",
    "    - We may have **similar users** and **similar items** which can help us predict missing entries. \n",
    "    - Leverage social information to provide recommendations. "
   ]
  },
  {
   "cell_type": "markdown",
   "metadata": {
    "slideshow": {
     "slide_type": "slide"
    }
   },
   "source": [
    "### Problem \n",
    "\n",
    "- Given a utility matrix with many missing entries, how can we predict missing ratings?  \n",
    "\n",
    "$$\n",
    "\\begin{bmatrix} \n",
    "? & ? & \\checkmark  & ? & \\checkmark\\\\\n",
    "\\checkmark & ? & ?  & ? & ?\\\\\n",
    "? & \\checkmark & \\checkmark  & ? & \\checkmark\\\\\n",
    "? & ? & ?  & ? & ?\\\\\n",
    "? & ? & ? & \\checkmark & ?\\\\\n",
    "? & \\checkmark & \\checkmark  & ? & \\checkmark\n",
    "\\end{bmatrix}\n",
    "$$\n",
    "\n",
    "> Note: rating prediction $\\neq$ Classification or regression "
   ]
  },
  {
   "cell_type": "markdown",
   "metadata": {
    "slideshow": {
     "slide_type": "slide"
    }
   },
   "source": [
    "### Classification or regression\n",
    "\n",
    "- We have $X$ and targets for some rows in $X$. \n",
    "- We want to predict the target column.  \n",
    "\n",
    "$$\n",
    "\\begin{bmatrix} \n",
    "\\checkmark & \\checkmark & \\checkmark  & \\checkmark & \\checkmark\\\\\n",
    "\\checkmark & \\checkmark & \\checkmark  & \\checkmark & \\checkmark\\\\\n",
    "\\checkmark & \\checkmark & \\checkmark  & \\checkmark & \\checkmark\\\\\n",
    "\\checkmark & \\checkmark & \\checkmark  & \\checkmark & ?\\\\\n",
    "\\checkmark & \\checkmark & \\checkmark  & \\checkmark & ?\\\\\n",
    "\\checkmark & \\checkmark & \\checkmark  & \\checkmark & ?\\\\\n",
    "\\end{bmatrix}\n",
    "$$"
   ]
  },
  {
   "cell_type": "markdown",
   "metadata": {
    "slideshow": {
     "slide_type": "slide"
    },
    "tags": []
   },
   "source": [
    "### Rating prediction \n",
    "\n",
    "- Ratings data has many missing values in the utility matrix. There is no special target column. We want to predict the missing entries in the matrix. \n",
    "- Since our goal is to **predict** ratings, usually the utility matrix is referred to as $Y$ matrix. \n",
    "\n",
    "$$\n",
    "\\begin{bmatrix} \n",
    "? & ? & \\checkmark  & ? & \\checkmark\\\\\n",
    "\\checkmark & ? & ?  & ? & ?\\\\\n",
    "? & \\checkmark & \\checkmark  & ? & \\checkmark\\\\\n",
    "? & ? & ?  & ? & ?\\\\\n",
    "? & ? & ? & \\checkmark & ?\\\\\n",
    "? & \\checkmark & \\checkmark  & ? & \\checkmark\n",
    "\\end{bmatrix}\n",
    "$$\n"
   ]
  },
  {
   "cell_type": "markdown",
   "metadata": {},
   "source": [
    "### Types?"
   ]
  },
  {
   "cell_type": "markdown",
   "metadata": {},
   "source": [
    "- **User-based Collaborative Filtering:** find similarities between users\n",
    "- **Item-based Collaborative Filtering:** find similarities between items"
   ]
  },
  {
   "cell_type": "markdown",
   "metadata": {
    "slideshow": {
     "slide_type": "skip"
    }
   },
   "source": [
    "<br><br>"
   ]
  },
  {
   "cell_type": "markdown",
   "metadata": {},
   "source": [
    "- We don't have sufficient background to understand how collaborative filtering works under-the-hood.\n",
    "- Let's look at an example to understand this at a high level. "
   ]
  },
  {
   "cell_type": "code",
   "execution_count": 29,
   "metadata": {},
   "outputs": [
    {
     "data": {
      "text/html": [
       "<div>\n",
       "<style scoped>\n",
       "    .dataframe tbody tr th:only-of-type {\n",
       "        vertical-align: middle;\n",
       "    }\n",
       "\n",
       "    .dataframe tbody tr th {\n",
       "        vertical-align: top;\n",
       "    }\n",
       "\n",
       "    .dataframe thead th {\n",
       "        text-align: right;\n",
       "    }\n",
       "</style>\n",
       "<table border=\"1\" class=\"dataframe\">\n",
       "  <thead>\n",
       "    <tr style=\"text-align: right;\">\n",
       "      <th></th>\n",
       "      <th>user_id</th>\n",
       "      <th>movie_id</th>\n",
       "      <th>rating</th>\n",
       "    </tr>\n",
       "  </thead>\n",
       "  <tbody>\n",
       "    <tr>\n",
       "      <th>0</th>\n",
       "      <td>Sam</td>\n",
       "      <td>Lion King</td>\n",
       "      <td>5</td>\n",
       "    </tr>\n",
       "    <tr>\n",
       "      <th>1</th>\n",
       "      <td>Sam</td>\n",
       "      <td>Toy Story</td>\n",
       "      <td>4</td>\n",
       "    </tr>\n",
       "    <tr>\n",
       "      <th>2</th>\n",
       "      <td>Sam</td>\n",
       "      <td>The Little Mermaid</td>\n",
       "      <td>5</td>\n",
       "    </tr>\n",
       "    <tr>\n",
       "      <th>3</th>\n",
       "      <td>Sam</td>\n",
       "      <td>Bambi</td>\n",
       "      <td>5</td>\n",
       "    </tr>\n",
       "    <tr>\n",
       "      <th>4</th>\n",
       "      <td>Sam</td>\n",
       "      <td>The Social Dilemma</td>\n",
       "      <td>1</td>\n",
       "    </tr>\n",
       "    <tr>\n",
       "      <th>5</th>\n",
       "      <td>Eva</td>\n",
       "      <td>Toy Story</td>\n",
       "      <td>1</td>\n",
       "    </tr>\n",
       "    <tr>\n",
       "      <th>6</th>\n",
       "      <td>Eva</td>\n",
       "      <td>The Social Dilemma</td>\n",
       "      <td>5</td>\n",
       "    </tr>\n",
       "    <tr>\n",
       "      <th>7</th>\n",
       "      <td>Eva</td>\n",
       "      <td>Man on Wire</td>\n",
       "      <td>5</td>\n",
       "    </tr>\n",
       "    <tr>\n",
       "      <th>8</th>\n",
       "      <td>Pat</td>\n",
       "      <td>The Little Mermaid</td>\n",
       "      <td>4</td>\n",
       "    </tr>\n",
       "    <tr>\n",
       "      <th>9</th>\n",
       "      <td>Pat</td>\n",
       "      <td>Lion King</td>\n",
       "      <td>5</td>\n",
       "    </tr>\n",
       "    <tr>\n",
       "      <th>10</th>\n",
       "      <td>Pat</td>\n",
       "      <td>Bambi</td>\n",
       "      <td>5</td>\n",
       "    </tr>\n",
       "    <tr>\n",
       "      <th>11</th>\n",
       "      <td>Jim</td>\n",
       "      <td>The Social Dilemma</td>\n",
       "      <td>5</td>\n",
       "    </tr>\n",
       "    <tr>\n",
       "      <th>12</th>\n",
       "      <td>Jim</td>\n",
       "      <td>Malcolm x</td>\n",
       "      <td>4</td>\n",
       "    </tr>\n",
       "    <tr>\n",
       "      <th>13</th>\n",
       "      <td>Jim</td>\n",
       "      <td>Man on Wire</td>\n",
       "      <td>5</td>\n",
       "    </tr>\n",
       "  </tbody>\n",
       "</table>\n",
       "</div>"
      ],
      "text/plain": [
       "   user_id            movie_id  rating\n",
       "0   Sam     Lion King           5     \n",
       "1   Sam     Toy Story           4     \n",
       "2   Sam     The Little Mermaid  5     \n",
       "3   Sam     Bambi               5     \n",
       "4   Sam     The Social Dilemma  1     \n",
       "5   Eva     Toy Story           1     \n",
       "6   Eva     The Social Dilemma  5     \n",
       "7   Eva     Man on Wire         5     \n",
       "8   Pat     The Little Mermaid  4     \n",
       "9   Pat     Lion King           5     \n",
       "10  Pat     Bambi               5     \n",
       "11  Jim     The Social Dilemma  5     \n",
       "12  Jim     Malcolm x           4     \n",
       "13  Jim     Man on Wire         5     "
      ]
     },
     "execution_count": 29,
     "metadata": {},
     "output_type": "execute_result"
    }
   ],
   "source": [
    "toy_ratings = pd.read_csv(\"../data/toy-movie-ratings.csv\")\n",
    "toy_ratings"
   ]
  },
  {
   "cell_type": "code",
   "execution_count": 30,
   "metadata": {},
   "outputs": [
    {
     "name": "stdout",
     "output_type": "stream",
     "text": [
      "Number of users (N)                : 4\n",
      "Number of movies (M)               : 7\n"
     ]
    }
   ],
   "source": [
    "N_toy = len(np.unique(toy_ratings[\"user_id\"]))\n",
    "M_toy = len(np.unique(toy_ratings[\"movie_id\"]))\n",
    "print(\"Number of users (N)                : %d\" % N_toy)\n",
    "print(\"Number of movies (M)               : %d\" % M_toy)"
   ]
  },
  {
   "cell_type": "code",
   "execution_count": 31,
   "metadata": {},
   "outputs": [],
   "source": [
    "user_mapper_toy = dict(zip(np.unique(toy_ratings[\"user_id\"]), list(range(N_toy))))\n",
    "item_mapper_toy = dict(zip(np.unique(toy_ratings[\"movie_id\"]), list(range(M_toy))))\n",
    "user_inverse_mapper_toy = dict(\n",
    "    zip(list(range(N_toy)), np.unique(toy_ratings[\"user_id\"]))\n",
    ")\n",
    "item_inverse_mapper_toy = dict(\n",
    "    zip(list(range(M_toy)), np.unique(toy_ratings[\"movie_id\"]))\n",
    ")"
   ]
  },
  {
   "cell_type": "code",
   "execution_count": 32,
   "metadata": {},
   "outputs": [
    {
     "data": {
      "text/html": [
       "<div>\n",
       "<style scoped>\n",
       "    .dataframe tbody tr th:only-of-type {\n",
       "        vertical-align: middle;\n",
       "    }\n",
       "\n",
       "    .dataframe tbody tr th {\n",
       "        vertical-align: top;\n",
       "    }\n",
       "\n",
       "    .dataframe thead th {\n",
       "        text-align: right;\n",
       "    }\n",
       "</style>\n",
       "<table border=\"1\" class=\"dataframe\">\n",
       "  <thead>\n",
       "    <tr style=\"text-align: right;\">\n",
       "      <th></th>\n",
       "      <th>Bambi</th>\n",
       "      <th>Lion King</th>\n",
       "      <th>Malcolm x</th>\n",
       "      <th>Man on Wire</th>\n",
       "      <th>The Little Mermaid</th>\n",
       "      <th>The Social Dilemma</th>\n",
       "      <th>Toy Story</th>\n",
       "    </tr>\n",
       "  </thead>\n",
       "  <tbody>\n",
       "    <tr>\n",
       "      <th>Eva</th>\n",
       "      <td>NaN</td>\n",
       "      <td>NaN</td>\n",
       "      <td>NaN</td>\n",
       "      <td>5.0</td>\n",
       "      <td>NaN</td>\n",
       "      <td>5.0</td>\n",
       "      <td>1.0</td>\n",
       "    </tr>\n",
       "    <tr>\n",
       "      <th>Jim</th>\n",
       "      <td>NaN</td>\n",
       "      <td>NaN</td>\n",
       "      <td>4.0</td>\n",
       "      <td>5.0</td>\n",
       "      <td>NaN</td>\n",
       "      <td>5.0</td>\n",
       "      <td>NaN</td>\n",
       "    </tr>\n",
       "    <tr>\n",
       "      <th>Pat</th>\n",
       "      <td>5.0</td>\n",
       "      <td>5.0</td>\n",
       "      <td>NaN</td>\n",
       "      <td>NaN</td>\n",
       "      <td>4.0</td>\n",
       "      <td>NaN</td>\n",
       "      <td>NaN</td>\n",
       "    </tr>\n",
       "    <tr>\n",
       "      <th>Sam</th>\n",
       "      <td>5.0</td>\n",
       "      <td>5.0</td>\n",
       "      <td>NaN</td>\n",
       "      <td>NaN</td>\n",
       "      <td>5.0</td>\n",
       "      <td>1.0</td>\n",
       "      <td>4.0</td>\n",
       "    </tr>\n",
       "  </tbody>\n",
       "</table>\n",
       "</div>"
      ],
      "text/plain": [
       "     Bambi  Lion King  Malcolm x  Man on Wire  The Little Mermaid  \\\n",
       "Eva NaN    NaN        NaN         5.0         NaN                   \n",
       "Jim NaN    NaN         4.0        5.0         NaN                   \n",
       "Pat  5.0    5.0       NaN        NaN           4.0                  \n",
       "Sam  5.0    5.0       NaN        NaN           5.0                  \n",
       "\n",
       "     The Social Dilemma  Toy Story  \n",
       "Eva  5.0                 1.0        \n",
       "Jim  5.0                NaN         \n",
       "Pat NaN                 NaN         \n",
       "Sam  1.0                 4.0        "
      ]
     },
     "execution_count": 32,
     "metadata": {},
     "output_type": "execute_result"
    }
   ],
   "source": [
    "Y_toy = create_Y_from_ratings(\n",
    "    toy_ratings, N_toy, M_toy, user_mapper_toy, item_mapper_toy, user_key=\"user_id\", item_key=\"movie_id\"\n",
    ")\n",
    "utility_mat_toy = pd.DataFrame(\n",
    "    Y_toy, columns=item_mapper_toy.keys(), index=user_mapper_toy.keys()\n",
    ")\n",
    "utility_mat_toy"
   ]
  },
  {
   "cell_type": "markdown",
   "metadata": {},
   "source": [
    "- In this toy example, we see clear groups of movies and users.\n",
    "    - For movies: Children movies and documentaries \n",
    "    - For users: Children movie lovers and documentary lovers  \n",
    "- There are some unsupervised models which identify such latent features. \n",
    "- I'll show you how to use a package which implements this popular algorithm for collaborative filtering. "
   ]
  },
  {
   "cell_type": "markdown",
   "metadata": {
    "slideshow": {
     "slide_type": "slide"
    }
   },
   "source": [
    "### Rating prediction using the surprise package\n",
    "\n",
    "- We'll be using a package called [Surprise](https://surprise.readthedocs.io/en/stable/index.html). \n",
    "  - https://github.com/NicolasHug/Surprise\n",
    "- The collaborative filtering algorithm we use in this package is called `SVD` (Singular Value Decomposition). \n",
    "\n",
    "```\n",
    "pip install scikit-surprise\n",
    "```"
   ]
  },
  {
   "cell_type": "code",
   "execution_count": null,
   "metadata": {},
   "outputs": [],
   "source": [
    "!pip install scikit-surprise"
   ]
  },
  {
   "cell_type": "markdown",
   "metadata": {},
   "source": [
    "<br><br><br><br>\n",
    "An even more comprehensive library and reference for other libraries is the Recommenders by Microsoft:\n",
    "- https://github.com/microsoft/recommenders    \n",
    "\n",
    "Try it out."
   ]
  },
  {
   "cell_type": "markdown",
   "metadata": {},
   "source": [
    "<br><br><br><br>\n",
    "**(Optional)**\n",
    "\n",
    "**What is Singular Value Decomposition (SVD)?**\n",
    "\n",
    "- It's a factorization approach for matrices. \n",
    "- It is one of the most general purposes linear algebra tools\n",
    "- Used for dimensionality reduction (similar to PCA)\n",
    "  - It reduces the data into its **main correlations**\n",
    "- It is a data driven generalization of the Fast Fourier Transform (FFT)\n",
    "  - It finds the tailored transformation that fits best for our data (as opposed to FFT which uses sine and cosines which may not be the best fit)\n",
    "\n",
    "\n",
    "Best tutorial I've found out there on SVD is this 4-session mini-series (!):\n",
    "- https://www.youtube.com/watch?v=gXbThCXjZFM\n",
    "- https://www.youtube.com/watch?v=nbBvuuNVfco\n",
    "- https://www.youtube.com/watch?v=xy3QyyhiuY4\n",
    "- https://www.youtube.com/watch?v=WmDnaoY2Ivs\n",
    "\n",
    "-------------"
   ]
  },
  {
   "cell_type": "markdown",
   "metadata": {},
   "source": [
    "Collaborative filtering with SVD belongs to the family of **\"Matrix Factorization-based Collaborative Filtering\"**"
   ]
  },
  {
   "cell_type": "markdown",
   "metadata": {
    "slideshow": {
     "slide_type": "slide"
    }
   },
   "source": [
    "Let's try it out on our Jester dataset utility matrix.  "
   ]
  },
  {
   "cell_type": "code",
   "execution_count": 33,
   "metadata": {},
   "outputs": [],
   "source": [
    "import surprise\n",
    "from surprise import SVD, Dataset, Reader, accuracy"
   ]
  },
  {
   "cell_type": "code",
   "execution_count": 34,
   "metadata": {},
   "outputs": [],
   "source": [
    "reader = Reader()\n",
    "data = Dataset.load_from_df(ratings, reader)  # Load the data\n",
    "trainset, validset = surprise.model_selection.train_test_split(\n",
    "    data, test_size=0.2, random_state=42\n",
    ")"
   ]
  },
  {
   "cell_type": "code",
   "execution_count": 35,
   "metadata": {},
   "outputs": [
    {
     "name": "stdout",
     "output_type": "stream",
     "text": [
      "RMSE: 5.2556\n"
     ]
    },
    {
     "data": {
      "text/plain": [
       "5.255623300656445"
      ]
     },
     "execution_count": 35,
     "metadata": {},
     "output_type": "execute_result"
    }
   ],
   "source": [
    "k = 5\n",
    "svd_alg = SVD(n_factors=k, random_state=42)\n",
    "\n",
    "svd_alg.fit(trainset)\n",
    "\n",
    "svd_preds = svd_alg.test(validset)\n",
    "accuracy.rmse(svd_preds, verbose=True)"
   ]
  },
  {
   "cell_type": "code",
   "execution_count": 36,
   "metadata": {
    "collapsed": true,
    "jupyter": {
     "outputs_hidden": true
    },
    "tags": []
   },
   "outputs": [
    {
     "data": {
      "text/plain": [
       "[Prediction(uid=1825, iid=49, r_ui=-6.468999999999999, est=1, details={'was_impossible': False}),\n",
       " Prediction(uid=2359, iid=139, r_ui=-5.531000000000001, est=1, details={'was_impossible': False}),\n",
       " Prediction(uid=2492, iid=138, r_ui=-4.562, est=5, details={'was_impossible': False}),\n",
       " Prediction(uid=3328, iid=7, r_ui=9.156, est=1, details={'was_impossible': False}),\n",
       " Prediction(uid=2060, iid=81, r_ui=-6.468999999999999, est=1, details={'was_impossible': False}),\n",
       " Prediction(uid=429, iid=13, r_ui=-7.0, est=1, details={'was_impossible': False}),\n",
       " Prediction(uid=3845, iid=66, r_ui=2.656, est=4.387023275728253, details={'was_impossible': False}),\n",
       " Prediction(uid=1612, iid=62, r_ui=0.5, est=1, details={'was_impossible': False}),\n",
       " Prediction(uid=3234, iid=16, r_ui=-6.968999999999999, est=1.8748428319210615, details={'was_impossible': False}),\n",
       " Prediction(uid=450, iid=49, r_ui=3.219, est=2.765617530148115, details={'was_impossible': False}),\n",
       " Prediction(uid=503, iid=20, r_ui=-0.688, est=1, details={'was_impossible': False}),\n",
       " Prediction(uid=3221, iid=141, r_ui=0.531, est=1, details={'was_impossible': False}),\n",
       " Prediction(uid=232, iid=27, r_ui=5.406000000000001, est=1.6061937910911999, details={'was_impossible': False}),\n",
       " Prediction(uid=1226, iid=66, r_ui=2.0, est=1.2812080082313535, details={'was_impossible': False}),\n",
       " Prediction(uid=2248, iid=54, r_ui=-8.094, est=4.706104355738352, details={'was_impossible': False}),\n",
       " Prediction(uid=2374, iid=78, r_ui=1.812, est=1, details={'was_impossible': False}),\n",
       " Prediction(uid=2482, iid=33, r_ui=9.812, est=5, details={'was_impossible': False}),\n",
       " Prediction(uid=714, iid=80, r_ui=-9.812, est=1, details={'was_impossible': False}),\n",
       " Prediction(uid=792, iid=36, r_ui=-2.562, est=1, details={'was_impossible': False}),\n",
       " Prediction(uid=397, iid=121, r_ui=1.719, est=2.672492167527243, details={'was_impossible': False}),\n",
       " Prediction(uid=2844, iid=21, r_ui=5.781000000000001, est=5, details={'was_impossible': False}),\n",
       " Prediction(uid=1138, iid=134, r_ui=0.2189999999999999, est=1, details={'was_impossible': False}),\n",
       " Prediction(uid=1390, iid=140, r_ui=2.344, est=2.5840246129943822, details={'was_impossible': False}),\n",
       " Prediction(uid=1564, iid=146, r_ui=-1.125, est=1.1203831615116882, details={'was_impossible': False}),\n",
       " Prediction(uid=2953, iid=48, r_ui=1.094, est=3.062874828257319, details={'was_impossible': False}),\n",
       " Prediction(uid=3084, iid=140, r_ui=-0.7809999999999999, est=2.0277885089160397, details={'was_impossible': False}),\n",
       " Prediction(uid=3184, iid=16, r_ui=8.094, est=1, details={'was_impossible': False}),\n",
       " Prediction(uid=2992, iid=96, r_ui=0.125, est=1, details={'was_impossible': False}),\n",
       " Prediction(uid=1188, iid=149, r_ui=2.562, est=1, details={'was_impossible': False}),\n",
       " Prediction(uid=1161, iid=85, r_ui=5.531000000000001, est=5, details={'was_impossible': False}),\n",
       " Prediction(uid=2820, iid=132, r_ui=2.906, est=5, details={'was_impossible': False}),\n",
       " Prediction(uid=2742, iid=135, r_ui=1.719, est=3.9266461934997583, details={'was_impossible': False}),\n",
       " Prediction(uid=2238, iid=18, r_ui=1.0, est=1, details={'was_impossible': False}),\n",
       " Prediction(uid=2134, iid=33, r_ui=-3.281, est=1, details={'was_impossible': False}),\n",
       " Prediction(uid=3724, iid=72, r_ui=6.438, est=3.070937530186926, details={'was_impossible': False}),\n",
       " Prediction(uid=1474, iid=38, r_ui=8.375, est=5, details={'was_impossible': False}),\n",
       " Prediction(uid=2675, iid=138, r_ui=3.281, est=1, details={'was_impossible': False}),\n",
       " Prediction(uid=1258, iid=133, r_ui=-1.4380000000000002, est=1.4019504060591381, details={'was_impossible': False}),\n",
       " Prediction(uid=597, iid=117, r_ui=-2.094, est=1.117655884827902, details={'was_impossible': False}),\n",
       " Prediction(uid=1059, iid=91, r_ui=3.0, est=1.697076383218925, details={'was_impossible': False}),\n",
       " Prediction(uid=1720, iid=95, r_ui=-3.0, est=1, details={'was_impossible': False}),\n",
       " Prediction(uid=2579, iid=99, r_ui=2.938, est=1, details={'was_impossible': False}),\n",
       " Prediction(uid=3075, iid=90, r_ui=-0.094, est=1.1171639345233686, details={'was_impossible': False}),\n",
       " Prediction(uid=212, iid=62, r_ui=-5.906000000000001, est=1, details={'was_impossible': False}),\n",
       " Prediction(uid=1751, iid=123, r_ui=-9.594, est=1, details={'was_impossible': False}),\n",
       " Prediction(uid=2459, iid=97, r_ui=-1.4380000000000002, est=1, details={'was_impossible': False}),\n",
       " Prediction(uid=1373, iid=17, r_ui=0.2189999999999999, est=1, details={'was_impossible': False}),\n",
       " Prediction(uid=3599, iid=41, r_ui=-6.062, est=1.0495768779337151, details={'was_impossible': False}),\n",
       " Prediction(uid=2025, iid=66, r_ui=-4.75, est=1, details={'was_impossible': False}),\n",
       " Prediction(uid=1409, iid=53, r_ui=3.688, est=2.2939301386135926, details={'was_impossible': False}),\n",
       " Prediction(uid=1606, iid=26, r_ui=-1.5619999999999998, est=1, details={'was_impossible': False}),\n",
       " Prediction(uid=1407, iid=7, r_ui=3.75, est=2.244560698404055, details={'was_impossible': False}),\n",
       " Prediction(uid=3936, iid=53, r_ui=9.969, est=5, details={'was_impossible': False}),\n",
       " Prediction(uid=1595, iid=85, r_ui=-4.093999999999999, est=1.243507858489399, details={'was_impossible': False}),\n",
       " Prediction(uid=1779, iid=143, r_ui=4.125, est=4.547365901118655, details={'was_impossible': False}),\n",
       " Prediction(uid=3731, iid=15, r_ui=8.844, est=1, details={'was_impossible': False}),\n",
       " Prediction(uid=1320, iid=150, r_ui=0.531, est=1, details={'was_impossible': False}),\n",
       " Prediction(uid=1178, iid=16, r_ui=9.969, est=1, details={'was_impossible': False}),\n",
       " Prediction(uid=323, iid=114, r_ui=7.812, est=4.858544559045782, details={'was_impossible': False}),\n",
       " Prediction(uid=631, iid=52, r_ui=4.812, est=1, details={'was_impossible': False}),\n",
       " Prediction(uid=1059, iid=140, r_ui=-8.375, est=2.0044476850283566, details={'was_impossible': False}),\n",
       " Prediction(uid=2111, iid=71, r_ui=-5.343999999999999, est=1, details={'was_impossible': False}),\n",
       " Prediction(uid=1793, iid=144, r_ui=4.093999999999999, est=1.4625700690535055, details={'was_impossible': False}),\n",
       " Prediction(uid=1784, iid=69, r_ui=3.625, est=1.1325293299882029, details={'was_impossible': False}),\n",
       " Prediction(uid=1863, iid=118, r_ui=-8.906, est=1, details={'was_impossible': False}),\n",
       " Prediction(uid=904, iid=105, r_ui=6.281000000000001, est=1.4659408267618967, details={'was_impossible': False}),\n",
       " Prediction(uid=1292, iid=72, r_ui=9.375, est=5, details={'was_impossible': False}),\n",
       " Prediction(uid=761, iid=145, r_ui=1.125, est=2.3055924508529344, details={'was_impossible': False}),\n",
       " Prediction(uid=1620, iid=87, r_ui=1.469, est=1, details={'was_impossible': False}),\n",
       " Prediction(uid=1804, iid=132, r_ui=7.375, est=5, details={'was_impossible': False}),\n",
       " Prediction(uid=2038, iid=19, r_ui=0.188, est=1, details={'was_impossible': False}),\n",
       " Prediction(uid=1564, iid=113, r_ui=5.375, est=3.120065983965975, details={'was_impossible': False}),\n",
       " Prediction(uid=1201, iid=23, r_ui=-6.562, est=1, details={'was_impossible': False}),\n",
       " Prediction(uid=2980, iid=97, r_ui=7.5, est=4.146529750493883, details={'was_impossible': False}),\n",
       " Prediction(uid=533, iid=5, r_ui=9.781, est=4.086949962233014, details={'was_impossible': False}),\n",
       " Prediction(uid=7, iid=49, r_ui=2.438, est=1.3488838268924632, details={'was_impossible': False}),\n",
       " Prediction(uid=1984, iid=18, r_ui=1.406, est=2.6152994096169984, details={'was_impossible': False}),\n",
       " Prediction(uid=1620, iid=69, r_ui=-6.75, est=1, details={'was_impossible': False}),\n",
       " Prediction(uid=3054, iid=56, r_ui=-2.906, est=5, details={'was_impossible': False}),\n",
       " Prediction(uid=2692, iid=8, r_ui=-7.188, est=1, details={'was_impossible': False}),\n",
       " Prediction(uid=3357, iid=137, r_ui=-9.75, est=1, details={'was_impossible': False}),\n",
       " Prediction(uid=260, iid=124, r_ui=-8.0, est=3.305895638013906, details={'was_impossible': False}),\n",
       " Prediction(uid=2030, iid=53, r_ui=7.406000000000001, est=5, details={'was_impossible': False}),\n",
       " Prediction(uid=3118, iid=17, r_ui=9.875, est=5, details={'was_impossible': False}),\n",
       " Prediction(uid=2321, iid=69, r_ui=0.2189999999999999, est=1.9675099035666233, details={'was_impossible': False}),\n",
       " Prediction(uid=3436, iid=15, r_ui=9.875, est=5, details={'was_impossible': False}),\n",
       " Prediction(uid=2265, iid=144, r_ui=5.75, est=3.026411993316583, details={'was_impossible': False}),\n",
       " Prediction(uid=967, iid=121, r_ui=4.875, est=1.3779849943669111, details={'was_impossible': False}),\n",
       " Prediction(uid=1658, iid=128, r_ui=-6.812, est=1, details={'was_impossible': False}),\n",
       " Prediction(uid=3540, iid=17, r_ui=-3.781, est=1.4204579100413381, details={'was_impossible': False}),\n",
       " Prediction(uid=454, iid=16, r_ui=-1.125, est=1, details={'was_impossible': False}),\n",
       " Prediction(uid=2813, iid=79, r_ui=4.093999999999999, est=1, details={'was_impossible': False}),\n",
       " Prediction(uid=3203, iid=62, r_ui=9.688, est=5, details={'was_impossible': False}),\n",
       " Prediction(uid=1793, iid=137, r_ui=-3.594, est=1.8649035557721851, details={'was_impossible': False}),\n",
       " Prediction(uid=171, iid=116, r_ui=-4.531000000000001, est=1, details={'was_impossible': False}),\n",
       " Prediction(uid=696, iid=29, r_ui=-6.406000000000001, est=1.8011686096044195, details={'was_impossible': False}),\n",
       " Prediction(uid=907, iid=13, r_ui=-7.062, est=1, details={'was_impossible': False}),\n",
       " Prediction(uid=694, iid=125, r_ui=-0.562, est=1, details={'was_impossible': False}),\n",
       " Prediction(uid=1573, iid=44, r_ui=7.188, est=1, details={'was_impossible': False}),\n",
       " Prediction(uid=3851, iid=13, r_ui=2.812, est=1, details={'was_impossible': False}),\n",
       " Prediction(uid=659, iid=19, r_ui=7.531000000000001, est=4.765107812385383, details={'was_impossible': False}),\n",
       " Prediction(uid=191, iid=114, r_ui=3.219, est=2.373332931395112, details={'was_impossible': False}),\n",
       " Prediction(uid=1877, iid=7, r_ui=-3.094, est=1, details={'was_impossible': False}),\n",
       " Prediction(uid=72, iid=68, r_ui=5.062, est=5, details={'was_impossible': False}),\n",
       " Prediction(uid=1087, iid=96, r_ui=0.062, est=1, details={'was_impossible': False}),\n",
       " Prediction(uid=3880, iid=17, r_ui=5.343999999999999, est=5, details={'was_impossible': False}),\n",
       " Prediction(uid=40, iid=85, r_ui=1.906, est=1, details={'was_impossible': False}),\n",
       " Prediction(uid=228, iid=16, r_ui=7.062, est=1, details={'was_impossible': False}),\n",
       " Prediction(uid=2827, iid=99, r_ui=3.625, est=3.0554182761714324, details={'was_impossible': False}),\n",
       " Prediction(uid=2035, iid=133, r_ui=-2.438, est=1, details={'was_impossible': False}),\n",
       " Prediction(uid=292, iid=67, r_ui=2.312, est=2.7887088166273344, details={'was_impossible': False}),\n",
       " Prediction(uid=2089, iid=13, r_ui=-9.469, est=1, details={'was_impossible': False}),\n",
       " Prediction(uid=1317, iid=111, r_ui=2.281, est=3.9797431090765563, details={'was_impossible': False}),\n",
       " Prediction(uid=1691, iid=141, r_ui=-2.906, est=1, details={'was_impossible': False}),\n",
       " Prediction(uid=2793, iid=96, r_ui=-2.812, est=1.1361227227956978, details={'was_impossible': False}),\n",
       " Prediction(uid=2355, iid=138, r_ui=8.562000000000001, est=1.8727378621736115, details={'was_impossible': False}),\n",
       " Prediction(uid=3602, iid=36, r_ui=2.5, est=3.9303745870725373, details={'was_impossible': False}),\n",
       " Prediction(uid=848, iid=148, r_ui=5.438, est=1.74899289857791, details={'was_impossible': False}),\n",
       " Prediction(uid=2514, iid=13, r_ui=5.468999999999999, est=1.8023290248422668, details={'was_impossible': False}),\n",
       " Prediction(uid=2650, iid=92, r_ui=4.25, est=2.901423627391079, details={'was_impossible': False}),\n",
       " Prediction(uid=2818, iid=15, r_ui=4.218999999999999, est=1, details={'was_impossible': False}),\n",
       " Prediction(uid=3703, iid=53, r_ui=9.5, est=5, details={'was_impossible': False}),\n",
       " Prediction(uid=2274, iid=19, r_ui=-9.844, est=1, details={'was_impossible': False}),\n",
       " Prediction(uid=567, iid=68, r_ui=8.187999999999999, est=4.861655545416706, details={'was_impossible': False}),\n",
       " Prediction(uid=914, iid=81, r_ui=2.281, est=3.2903852807923504, details={'was_impossible': False}),\n",
       " Prediction(uid=2905, iid=17, r_ui=7.688, est=5, details={'was_impossible': False}),\n",
       " Prediction(uid=1011, iid=13, r_ui=9.375, est=1, details={'was_impossible': False}),\n",
       " Prediction(uid=946, iid=8, r_ui=-4.781000000000001, est=1, details={'was_impossible': False}),\n",
       " Prediction(uid=167, iid=69, r_ui=2.0, est=1, details={'was_impossible': False}),\n",
       " Prediction(uid=1881, iid=50, r_ui=-4.781000000000001, est=1, details={'was_impossible': False}),\n",
       " Prediction(uid=2354, iid=136, r_ui=1.938, est=1, details={'was_impossible': False}),\n",
       " Prediction(uid=3056, iid=32, r_ui=-1.5619999999999998, est=1.3694429571272957, details={'was_impossible': False}),\n",
       " Prediction(uid=3061, iid=125, r_ui=-3.031, est=1, details={'was_impossible': False}),\n",
       " Prediction(uid=2632, iid=105, r_ui=7.5, est=5, details={'was_impossible': False}),\n",
       " Prediction(uid=1985, iid=78, r_ui=-4.406000000000001, est=2.465562095791886, details={'was_impossible': False}),\n",
       " Prediction(uid=1634, iid=53, r_ui=-0.062, est=1, details={'was_impossible': False}),\n",
       " Prediction(uid=1825, iid=146, r_ui=-8.5, est=1, details={'was_impossible': False}),\n",
       " Prediction(uid=3955, iid=93, r_ui=3.375, est=4.318477655613834, details={'was_impossible': False}),\n",
       " Prediction(uid=263, iid=7, r_ui=-9.5, est=1, details={'was_impossible': False}),\n",
       " Prediction(uid=64, iid=32, r_ui=3.375, est=4.608673009865377, details={'was_impossible': False}),\n",
       " Prediction(uid=1804, iid=133, r_ui=2.906, est=3.5099444330048706, details={'was_impossible': False}),\n",
       " Prediction(uid=1645, iid=8, r_ui=-1.281, est=1, details={'was_impossible': False}),\n",
       " Prediction(uid=2581, iid=150, r_ui=-6.968999999999999, est=1, details={'was_impossible': False}),\n",
       " Prediction(uid=1049, iid=107, r_ui=5.718999999999999, est=3.704094310705561, details={'was_impossible': False}),\n",
       " Prediction(uid=228, iid=68, r_ui=3.594, est=2.778424736728175, details={'was_impossible': False}),\n",
       " Prediction(uid=211, iid=50, r_ui=2.812, est=1.0784473738286828, details={'was_impossible': False}),\n",
       " Prediction(uid=1590, iid=133, r_ui=2.188, est=1, details={'was_impossible': False}),\n",
       " Prediction(uid=1860, iid=57, r_ui=2.906, est=5, details={'was_impossible': False}),\n",
       " Prediction(uid=3219, iid=53, r_ui=9.781, est=5, details={'was_impossible': False}),\n",
       " Prediction(uid=3297, iid=83, r_ui=1.406, est=1.8757483779073711, details={'was_impossible': False}),\n",
       " Prediction(uid=1653, iid=55, r_ui=-1.3119999999999998, est=1, details={'was_impossible': False}),\n",
       " Prediction(uid=1216, iid=25, r_ui=-7.218999999999999, est=1, details={'was_impossible': False}),\n",
       " Prediction(uid=2677, iid=101, r_ui=4.343999999999999, est=1, details={'was_impossible': False}),\n",
       " Prediction(uid=551, iid=77, r_ui=9.094, est=2.365416096114603, details={'was_impossible': False}),\n",
       " Prediction(uid=2096, iid=127, r_ui=2.969, est=1, details={'was_impossible': False}),\n",
       " Prediction(uid=454, iid=80, r_ui=5.656000000000001, est=1, details={'was_impossible': False}),\n",
       " Prediction(uid=327, iid=29, r_ui=-1.625, est=1, details={'was_impossible': False}),\n",
       " Prediction(uid=450, iid=67, r_ui=4.781000000000001, est=1.9117530141533776, details={'was_impossible': False}),\n",
       " Prediction(uid=2555, iid=32, r_ui=6.156000000000001, est=5, details={'was_impossible': False}),\n",
       " Prediction(uid=2893, iid=41, r_ui=-6.062, est=1, details={'was_impossible': False}),\n",
       " Prediction(uid=1573, iid=40, r_ui=4.718999999999999, est=1.622647224728306, details={'was_impossible': False}),\n",
       " Prediction(uid=2073, iid=82, r_ui=1.188, est=1, details={'was_impossible': False}),\n",
       " Prediction(uid=1751, iid=74, r_ui=-9.594, est=1, details={'was_impossible': False}),\n",
       " Prediction(uid=3334, iid=134, r_ui=8.125, est=5, details={'was_impossible': False}),\n",
       " Prediction(uid=3512, iid=15, r_ui=-9.469, est=1, details={'was_impossible': False}),\n",
       " Prediction(uid=893, iid=93, r_ui=-7.562, est=4.064718292520476, details={'was_impossible': False}),\n",
       " Prediction(uid=2576, iid=138, r_ui=9.156, est=4.836343290114403, details={'was_impossible': False}),\n",
       " Prediction(uid=324, iid=120, r_ui=-4.968999999999999, est=1, details={'was_impossible': False}),\n",
       " Prediction(uid=1652, iid=53, r_ui=4.312, est=2.299623688364143, details={'was_impossible': False}),\n",
       " Prediction(uid=3356, iid=39, r_ui=-9.656, est=1, details={'was_impossible': False}),\n",
       " Prediction(uid=2953, iid=75, r_ui=3.219, est=2.642134320705521, details={'was_impossible': False}),\n",
       " Prediction(uid=477, iid=111, r_ui=9.312, est=5, details={'was_impossible': False}),\n",
       " Prediction(uid=655, iid=31, r_ui=3.75, est=5, details={'was_impossible': False}),\n",
       " Prediction(uid=3165, iid=7, r_ui=-2.0, est=1, details={'was_impossible': False}),\n",
       " Prediction(uid=8, iid=38, r_ui=3.844, est=2.87779840049926, details={'was_impossible': False}),\n",
       " Prediction(uid=374, iid=5, r_ui=-5.375, est=1, details={'was_impossible': False}),\n",
       " Prediction(uid=1226, iid=83, r_ui=9.031, est=1, details={'was_impossible': False}),\n",
       " Prediction(uid=353, iid=13, r_ui=1.5, est=1, details={'was_impossible': False}),\n",
       " Prediction(uid=1900, iid=53, r_ui=6.218999999999999, est=4.112334216137839, details={'was_impossible': False}),\n",
       " Prediction(uid=1532, iid=16, r_ui=8.625, est=5, details={'was_impossible': False}),\n",
       " Prediction(uid=1618, iid=7, r_ui=-8.844, est=1, details={'was_impossible': False}),\n",
       " Prediction(uid=1998, iid=131, r_ui=1.594, est=1, details={'was_impossible': False}),\n",
       " Prediction(uid=927, iid=16, r_ui=6.562, est=1.0515140082812486, details={'was_impossible': False}),\n",
       " Prediction(uid=1528, iid=81, r_ui=9.562, est=5, details={'was_impossible': False}),\n",
       " Prediction(uid=1194, iid=65, r_ui=-9.906, est=5, details={'was_impossible': False}),\n",
       " Prediction(uid=2692, iid=60, r_ui=-0.156, est=1, details={'was_impossible': False}),\n",
       " Prediction(uid=1559, iid=18, r_ui=3.062, est=1.037196439184409, details={'was_impossible': False}),\n",
       " Prediction(uid=2495, iid=88, r_ui=-0.125, est=1, details={'was_impossible': False}),\n",
       " Prediction(uid=714, iid=119, r_ui=-9.469, est=1, details={'was_impossible': False}),\n",
       " Prediction(uid=3395, iid=8, r_ui=-6.75, est=1, details={'was_impossible': False}),\n",
       " Prediction(uid=1658, iid=91, r_ui=-6.938, est=1, details={'was_impossible': False}),\n",
       " Prediction(uid=1658, iid=85, r_ui=-8.469, est=1, details={'was_impossible': False}),\n",
       " Prediction(uid=2555, iid=67, r_ui=2.094, est=1.1910041499704414, details={'was_impossible': False}),\n",
       " Prediction(uid=693, iid=129, r_ui=5.312, est=3.7100761067373096, details={'was_impossible': False}),\n",
       " Prediction(uid=984, iid=85, r_ui=-7.0, est=1, details={'was_impossible': False}),\n",
       " Prediction(uid=1737, iid=71, r_ui=-3.219, est=1, details={'was_impossible': False}),\n",
       " Prediction(uid=897, iid=133, r_ui=3.156, est=1.6915939242197957, details={'was_impossible': False}),\n",
       " Prediction(uid=25, iid=119, r_ui=3.656, est=2.9592611672546267, details={'was_impossible': False}),\n",
       " Prediction(uid=3112, iid=66, r_ui=2.312, est=4.025937488152243, details={'was_impossible': False}),\n",
       " Prediction(uid=1716, iid=117, r_ui=-0.094, est=1, details={'was_impossible': False}),\n",
       " Prediction(uid=1165, iid=82, r_ui=5.125, est=5, details={'was_impossible': False}),\n",
       " Prediction(uid=1552, iid=71, r_ui=2.625, est=1.9445438824538581, details={'was_impossible': False}),\n",
       " Prediction(uid=1537, iid=127, r_ui=9.625, est=1.0830597890049265, details={'was_impossible': False}),\n",
       " Prediction(uid=89, iid=49, r_ui=-0.375, est=1, details={'was_impossible': False}),\n",
       " Prediction(uid=265, iid=97, r_ui=3.375, est=2.6932318036399563, details={'was_impossible': False}),\n",
       " Prediction(uid=2151, iid=141, r_ui=-2.531, est=1, details={'was_impossible': False}),\n",
       " Prediction(uid=3300, iid=19, r_ui=4.968999999999999, est=1, details={'was_impossible': False}),\n",
       " Prediction(uid=19, iid=16, r_ui=4.406000000000001, est=1, details={'was_impossible': False}),\n",
       " Prediction(uid=3057, iid=35, r_ui=-2.625, est=1, details={'was_impossible': False}),\n",
       " Prediction(uid=1393, iid=97, r_ui=-1.3119999999999998, est=1, details={'was_impossible': False}),\n",
       " Prediction(uid=548, iid=5, r_ui=9.156, est=1, details={'was_impossible': False}),\n",
       " Prediction(uid=3055, iid=72, r_ui=7.968999999999999, est=5, details={'was_impossible': False}),\n",
       " Prediction(uid=2234, iid=138, r_ui=-0.2189999999999999, est=1, details={'was_impossible': False}),\n",
       " Prediction(uid=2100, iid=127, r_ui=4.375, est=3.6754049696930102, details={'was_impossible': False}),\n",
       " Prediction(uid=2894, iid=39, r_ui=6.781000000000001, est=4.839212368277892, details={'was_impossible': False}),\n",
       " Prediction(uid=1590, iid=54, r_ui=0.469, est=2.818040824080209, details={'was_impossible': False}),\n",
       " Prediction(uid=2495, iid=71, r_ui=-0.531, est=1, details={'was_impossible': False}),\n",
       " Prediction(uid=1879, iid=33, r_ui=-4.343999999999999, est=1, details={'was_impossible': False}),\n",
       " Prediction(uid=1686, iid=101, r_ui=4.468999999999999, est=1, details={'was_impossible': False}),\n",
       " Prediction(uid=201, iid=49, r_ui=6.625, est=1, details={'was_impossible': False}),\n",
       " Prediction(uid=1818, iid=41, r_ui=5.468999999999999, est=3.3536472413922915, details={'was_impossible': False}),\n",
       " Prediction(uid=3046, iid=41, r_ui=-2.25, est=1.5098547323979292, details={'was_impossible': False}),\n",
       " Prediction(uid=3935, iid=17, r_ui=-9.781, est=1, details={'was_impossible': False}),\n",
       " Prediction(uid=346, iid=38, r_ui=-2.344, est=5, details={'was_impossible': False}),\n",
       " Prediction(uid=2600, iid=18, r_ui=-3.219, est=1, details={'was_impossible': False}),\n",
       " Prediction(uid=2132, iid=86, r_ui=3.531, est=1, details={'was_impossible': False}),\n",
       " Prediction(uid=3214, iid=21, r_ui=9.938, est=5, details={'was_impossible': False}),\n",
       " Prediction(uid=343, iid=25, r_ui=-0.344, est=1.5814311144037438, details={'was_impossible': False}),\n",
       " Prediction(uid=2265, iid=81, r_ui=-3.875, est=3.170228378564355, details={'was_impossible': False}),\n",
       " Prediction(uid=2362, iid=110, r_ui=3.938, est=3.6703809708868294, details={'was_impossible': False}),\n",
       " Prediction(uid=976, iid=45, r_ui=-3.75, est=1, details={'was_impossible': False}),\n",
       " Prediction(uid=72, iid=50, r_ui=9.969, est=5, details={'was_impossible': False}),\n",
       " Prediction(uid=1388, iid=132, r_ui=6.218999999999999, est=4.040238220126123, details={'was_impossible': False}),\n",
       " Prediction(uid=628, iid=13, r_ui=-0.594, est=1, details={'was_impossible': False}),\n",
       " Prediction(uid=2521, iid=53, r_ui=3.156, est=4.476751769512372, details={'was_impossible': False}),\n",
       " Prediction(uid=2299, iid=69, r_ui=6.968999999999999, est=5, details={'was_impossible': False}),\n",
       " Prediction(uid=1761, iid=55, r_ui=-5.031000000000001, est=1, details={'was_impossible': False}),\n",
       " Prediction(uid=363, iid=16, r_ui=-9.656, est=1, details={'was_impossible': False}),\n",
       " Prediction(uid=395, iid=50, r_ui=0.531, est=3.186181427530884, details={'was_impossible': False}),\n",
       " Prediction(uid=639, iid=25, r_ui=9.812, est=5, details={'was_impossible': False}),\n",
       " Prediction(uid=2540, iid=15, r_ui=-5.125, est=1, details={'was_impossible': False}),\n",
       " Prediction(uid=2261, iid=90, r_ui=8.969, est=5, details={'was_impossible': False}),\n",
       " Prediction(uid=664, iid=49, r_ui=3.375, est=4.236175300513162, details={'was_impossible': False}),\n",
       " Prediction(uid=1546, iid=25, r_ui=7.812, est=5, details={'was_impossible': False}),\n",
       " Prediction(uid=631, iid=34, r_ui=-6.281000000000001, est=1, details={'was_impossible': False}),\n",
       " Prediction(uid=155, iid=17, r_ui=9.656, est=1, details={'was_impossible': False}),\n",
       " Prediction(uid=151, iid=130, r_ui=-4.562, est=5, details={'was_impossible': False}),\n",
       " Prediction(uid=1267, iid=17, r_ui=10.0, est=1, details={'was_impossible': False}),\n",
       " Prediction(uid=3739, iid=13, r_ui=-4.343999999999999, est=1, details={'was_impossible': False}),\n",
       " Prediction(uid=2239, iid=88, r_ui=-4.562, est=1, details={'was_impossible': False}),\n",
       " Prediction(uid=3564, iid=21, r_ui=-8.281, est=1, details={'was_impossible': False}),\n",
       " Prediction(uid=130, iid=123, r_ui=2.188, est=1, details={'was_impossible': False}),\n",
       " Prediction(uid=2981, iid=89, r_ui=8.781, est=4.523237573568522, details={'was_impossible': False}),\n",
       " Prediction(uid=3760, iid=26, r_ui=9.75, est=4.403860026965676, details={'was_impossible': False}),\n",
       " Prediction(uid=1810, iid=136, r_ui=0.0, est=1, details={'was_impossible': False}),\n",
       " Prediction(uid=1612, iid=110, r_ui=-5.812, est=1, details={'was_impossible': False}),\n",
       " Prediction(uid=3209, iid=128, r_ui=6.468999999999999, est=4.4389991830594, details={'was_impossible': False}),\n",
       " Prediction(uid=449, iid=93, r_ui=9.188, est=5, details={'was_impossible': False}),\n",
       " Prediction(uid=514, iid=26, r_ui=-2.938, est=1, details={'was_impossible': False}),\n",
       " Prediction(uid=169, iid=97, r_ui=5.625, est=1, details={'was_impossible': False}),\n",
       " Prediction(uid=457, iid=44, r_ui=4.938, est=1, details={'was_impossible': False}),\n",
       " Prediction(uid=3599, iid=126, r_ui=-9.688, est=2.457723972542672, details={'was_impossible': False}),\n",
       " Prediction(uid=2580, iid=113, r_ui=3.625, est=1.9475512661492984, details={'was_impossible': False}),\n",
       " Prediction(uid=1554, iid=150, r_ui=8.844, est=5, details={'was_impossible': False}),\n",
       " Prediction(uid=2468, iid=133, r_ui=2.688, est=1, details={'was_impossible': False}),\n",
       " Prediction(uid=1311, iid=69, r_ui=-2.688, est=1, details={'was_impossible': False}),\n",
       " Prediction(uid=1705, iid=67, r_ui=1.125, est=1, details={'was_impossible': False}),\n",
       " Prediction(uid=2763, iid=127, r_ui=8.906, est=5, details={'was_impossible': False}),\n",
       " Prediction(uid=40, iid=87, r_ui=5.531000000000001, est=1, details={'was_impossible': False}),\n",
       " Prediction(uid=1755, iid=104, r_ui=-1.469, est=4.368365414078608, details={'was_impossible': False}),\n",
       " Prediction(uid=1929, iid=146, r_ui=-0.4379999999999999, est=1, details={'was_impossible': False}),\n",
       " Prediction(uid=1077, iid=137, r_ui=5.0, est=3.3514922798147815, details={'was_impossible': False}),\n",
       " Prediction(uid=3184, iid=36, r_ui=9.75, est=3.133011027265632, details={'was_impossible': False}),\n",
       " Prediction(uid=2579, iid=124, r_ui=-5.312, est=1, details={'was_impossible': False}),\n",
       " Prediction(uid=1711, iid=47, r_ui=1.4380000000000002, est=1.3913583995215424, details={'was_impossible': False}),\n",
       " Prediction(uid=1277, iid=17, r_ui=-3.562, est=1, details={'was_impossible': False}),\n",
       " Prediction(uid=368, iid=64, r_ui=0.469, est=1, details={'was_impossible': False}),\n",
       " Prediction(uid=391, iid=119, r_ui=7.031000000000001, est=3.9055062136366017, details={'was_impossible': False}),\n",
       " Prediction(uid=2618, iid=147, r_ui=8.312000000000001, est=1.5281537786158526, details={'was_impossible': False}),\n",
       " Prediction(uid=983, iid=93, r_ui=4.718999999999999, est=1.9346548337224303, details={'was_impossible': False}),\n",
       " Prediction(uid=3805, iid=54, r_ui=6.688, est=1, details={'was_impossible': False}),\n",
       " Prediction(uid=54, iid=128, r_ui=9.625, est=5, details={'was_impossible': False}),\n",
       " Prediction(uid=3449, iid=77, r_ui=1.625, est=1.3439082127964137, details={'was_impossible': False}),\n",
       " Prediction(uid=1797, iid=104, r_ui=4.968999999999999, est=3.6459938365536884, details={'was_impossible': False}),\n",
       " Prediction(uid=1939, iid=15, r_ui=-2.125, est=1, details={'was_impossible': False}),\n",
       " Prediction(uid=458, iid=21, r_ui=9.031, est=4.56864465818353, details={'was_impossible': False}),\n",
       " Prediction(uid=2860, iid=128, r_ui=4.468999999999999, est=5, details={'was_impossible': False}),\n",
       " Prediction(uid=186, iid=62, r_ui=-2.5, est=1, details={'was_impossible': False}),\n",
       " Prediction(uid=2373, iid=7, r_ui=-8.781, est=1.1341732030830203, details={'was_impossible': False}),\n",
       " Prediction(uid=1955, iid=50, r_ui=4.343999999999999, est=3.4334187337899755, details={'was_impossible': False}),\n",
       " Prediction(uid=1701, iid=44, r_ui=6.468999999999999, est=1, details={'was_impossible': False}),\n",
       " Prediction(uid=133, iid=7, r_ui=-0.969, est=1, details={'was_impossible': False}),\n",
       " Prediction(uid=3915, iid=147, r_ui=2.062, est=1, details={'was_impossible': False}),\n",
       " Prediction(uid=353, iid=36, r_ui=4.531000000000001, est=3.2637526175319564, details={'was_impossible': False}),\n",
       " Prediction(uid=1588, iid=8, r_ui=-4.156000000000001, est=1, details={'was_impossible': False}),\n",
       " Prediction(uid=1825, iid=136, r_ui=-2.75, est=1, details={'was_impossible': False}),\n",
       " Prediction(uid=2027, iid=62, r_ui=4.188, est=5, details={'was_impossible': False}),\n",
       " Prediction(uid=2581, iid=7, r_ui=-8.719, est=1, details={'was_impossible': False}),\n",
       " Prediction(uid=1313, iid=40, r_ui=-2.5, est=1, details={'was_impossible': False}),\n",
       " Prediction(uid=3082, iid=88, r_ui=0.7809999999999999, est=2.729747151574827, details={'was_impossible': False}),\n",
       " Prediction(uid=1899, iid=112, r_ui=-4.656000000000001, est=2.8586851120647987, details={'was_impossible': False}),\n",
       " Prediction(uid=2043, iid=53, r_ui=1.656, est=2.8369275456610086, details={'was_impossible': False}),\n",
       " Prediction(uid=1341, iid=82, r_ui=-4.281000000000001, est=1, details={'was_impossible': False}),\n",
       " Prediction(uid=1529, iid=119, r_ui=-1.469, est=3.787788009884903, details={'was_impossible': False}),\n",
       " Prediction(uid=3817, iid=69, r_ui=-6.188, est=1, details={'was_impossible': False}),\n",
       " Prediction(uid=16, iid=23, r_ui=-8.875, est=1, details={'was_impossible': False}),\n",
       " Prediction(uid=1584, iid=143, r_ui=2.531, est=3.536243119369402, details={'was_impossible': False}),\n",
       " Prediction(uid=143, iid=45, r_ui=2.844, est=1.2348308989822376, details={'was_impossible': False}),\n",
       " Prediction(uid=1911, iid=144, r_ui=1.5619999999999998, est=1.6369027615374256, details={'was_impossible': False}),\n",
       " Prediction(uid=2735, iid=13, r_ui=-4.093999999999999, est=1, details={'was_impossible': False}),\n",
       " Prediction(uid=246, iid=66, r_ui=1.5619999999999998, est=2.655510909479636, details={'was_impossible': False}),\n",
       " Prediction(uid=3807, iid=19, r_ui=5.468999999999999, est=5, details={'was_impossible': False}),\n",
       " Prediction(uid=605, iid=13, r_ui=4.062, est=1, details={'was_impossible': False}),\n",
       " Prediction(uid=1323, iid=15, r_ui=-5.0, est=1.6692432351414523, details={'was_impossible': False}),\n",
       " Prediction(uid=478, iid=40, r_ui=3.656, est=2.4449583416125673, details={'was_impossible': False}),\n",
       " Prediction(uid=2963, iid=87, r_ui=3.938, est=1, details={'was_impossible': False}),\n",
       " Prediction(uid=3877, iid=147, r_ui=9.875, est=5, details={'was_impossible': False}),\n",
       " Prediction(uid=1398, iid=8, r_ui=0.031, est=5, details={'was_impossible': False}),\n",
       " Prediction(uid=9, iid=7, r_ui=9.0, est=5, details={'was_impossible': False}),\n",
       " Prediction(uid=1271, iid=25, r_ui=8.906, est=5, details={'was_impossible': False}),\n",
       " Prediction(uid=2265, iid=99, r_ui=-3.781, est=2.4975664812604617, details={'was_impossible': False}),\n",
       " Prediction(uid=2863, iid=137, r_ui=-9.281, est=1, details={'was_impossible': False}),\n",
       " Prediction(uid=3275, iid=129, r_ui=9.844, est=5, details={'was_impossible': False}),\n",
       " Prediction(uid=215, iid=8, r_ui=6.843999999999999, est=1, details={'was_impossible': False}),\n",
       " Prediction(uid=596, iid=71, r_ui=8.031, est=3.453509294998929, details={'was_impossible': False}),\n",
       " Prediction(uid=1409, iid=93, r_ui=-4.812, est=1, details={'was_impossible': False}),\n",
       " Prediction(uid=2217, iid=15, r_ui=-7.156000000000001, est=1, details={'was_impossible': False}),\n",
       " Prediction(uid=260, iid=25, r_ui=9.781, est=5, details={'was_impossible': False}),\n",
       " Prediction(uid=639, iid=41, r_ui=0.062, est=3.976161577535769, details={'was_impossible': False}),\n",
       " Prediction(uid=161, iid=60, r_ui=-5.218999999999999, est=1, details={'was_impossible': False}),\n",
       " Prediction(uid=3515, iid=70, r_ui=0.594, est=1, details={'was_impossible': False}),\n",
       " Prediction(uid=3192, iid=26, r_ui=9.969, est=5, details={'was_impossible': False}),\n",
       " Prediction(uid=1678, iid=107, r_ui=0.938, est=1, details={'was_impossible': False}),\n",
       " Prediction(uid=425, iid=15, r_ui=0.562, est=1.1575532225199612, details={'was_impossible': False}),\n",
       " Prediction(uid=1767, iid=145, r_ui=2.656, est=2.924979020386999, details={'was_impossible': False}),\n",
       " Prediction(uid=179, iid=8, r_ui=0.688, est=1, details={'was_impossible': False}),\n",
       " Prediction(uid=1593, iid=50, r_ui=7.625, est=5, details={'was_impossible': False}),\n",
       " Prediction(uid=1564, iid=85, r_ui=5.562, est=1.5017519056182587, details={'was_impossible': False}),\n",
       " Prediction(uid=3603, iid=135, r_ui=-7.968999999999999, est=1, details={'was_impossible': False}),\n",
       " Prediction(uid=348, iid=35, r_ui=8.25, est=3.666336302204124, details={'was_impossible': False}),\n",
       " Prediction(uid=1446, iid=133, r_ui=5.75, est=4.245889368485518, details={'was_impossible': False}),\n",
       " Prediction(uid=564, iid=27, r_ui=8.375, est=1.9568364413383885, details={'was_impossible': False}),\n",
       " Prediction(uid=1131, iid=19, r_ui=3.719, est=5, details={'was_impossible': False}),\n",
       " Prediction(uid=2110, iid=28, r_ui=4.531000000000001, est=1, details={'was_impossible': False}),\n",
       " Prediction(uid=1090, iid=7, r_ui=-0.7190000000000001, est=1, details={'was_impossible': False}),\n",
       " Prediction(uid=3353, iid=91, r_ui=4.438, est=1, details={'was_impossible': False}),\n",
       " Prediction(uid=2884, iid=106, r_ui=6.218999999999999, est=1.8769722248720553, details={'was_impossible': False}),\n",
       " Prediction(uid=3686, iid=143, r_ui=-7.156000000000001, est=1, details={'was_impossible': False}),\n",
       " Prediction(uid=3903, iid=92, r_ui=5.25, est=4.92194092695485, details={'was_impossible': False}),\n",
       " Prediction(uid=3621, iid=21, r_ui=8.906, est=5, details={'was_impossible': False}),\n",
       " Prediction(uid=2384, iid=64, r_ui=-7.093999999999999, est=1, details={'was_impossible': False}),\n",
       " Prediction(uid=3970, iid=135, r_ui=-7.188, est=1, details={'was_impossible': False}),\n",
       " Prediction(uid=2763, iid=13, r_ui=-9.625, est=1, details={'was_impossible': False}),\n",
       " Prediction(uid=2568, iid=50, r_ui=9.812, est=5, details={'was_impossible': False}),\n",
       " Prediction(uid=3167, iid=99, r_ui=-9.0, est=1, details={'was_impossible': False}),\n",
       " Prediction(uid=1596, iid=134, r_ui=7.5, est=5, details={'was_impossible': False}),\n",
       " Prediction(uid=2384, iid=121, r_ui=-6.406000000000001, est=2.270645408595314, details={'was_impossible': False}),\n",
       " Prediction(uid=3602, iid=59, r_ui=2.812, est=2.692084816081872, details={'was_impossible': False}),\n",
       " Prediction(uid=1241, iid=89, r_ui=6.093999999999999, est=5, details={'was_impossible': False}),\n",
       " Prediction(uid=1760, iid=91, r_ui=0.344, est=1, details={'was_impossible': False}),\n",
       " Prediction(uid=217, iid=99, r_ui=9.938, est=1.5101390306703006, details={'was_impossible': False}),\n",
       " Prediction(uid=780, iid=117, r_ui=9.312, est=5, details={'was_impossible': False}),\n",
       " Prediction(uid=2035, iid=114, r_ui=-2.625, est=1, details={'was_impossible': False}),\n",
       " Prediction(uid=2345, iid=141, r_ui=1.344, est=1.122261691518203, details={'was_impossible': False}),\n",
       " Prediction(uid=1895, iid=141, r_ui=-7.406000000000001, est=1, details={'was_impossible': False}),\n",
       " Prediction(uid=3285, iid=72, r_ui=2.531, est=2.3849480094795616, details={'was_impossible': False}),\n",
       " Prediction(uid=2222, iid=122, r_ui=-8.375, est=1, details={'was_impossible': False}),\n",
       " Prediction(uid=2368, iid=87, r_ui=-1.531, est=1.2857471793596476, details={'was_impossible': False}),\n",
       " Prediction(uid=1625, iid=15, r_ui=0.688, est=1, details={'was_impossible': False}),\n",
       " Prediction(uid=3155, iid=122, r_ui=1.531, est=4.258720912765712, details={'was_impossible': False}),\n",
       " Prediction(uid=851, iid=13, r_ui=-9.875, est=5, details={'was_impossible': False}),\n",
       " Prediction(uid=1185, iid=87, r_ui=1.156, est=4.204843870109704, details={'was_impossible': False}),\n",
       " Prediction(uid=2390, iid=114, r_ui=-5.375, est=5, details={'was_impossible': False}),\n",
       " Prediction(uid=132, iid=105, r_ui=5.656000000000001, est=4.683874465064533, details={'was_impossible': False}),\n",
       " Prediction(uid=1150, iid=87, r_ui=-6.812, est=1, details={'was_impossible': False}),\n",
       " Prediction(uid=3726, iid=13, r_ui=3.875, est=3.1528115243383485, details={'was_impossible': False}),\n",
       " Prediction(uid=1156, iid=98, r_ui=1.094, est=1, details={'was_impossible': False}),\n",
       " Prediction(uid=1717, iid=29, r_ui=9.906, est=3.2142603602050377, details={'was_impossible': False}),\n",
       " Prediction(uid=1246, iid=144, r_ui=-6.156000000000001, est=1, details={'was_impossible': False}),\n",
       " Prediction(uid=41, iid=36, r_ui=9.906, est=5, details={'was_impossible': False}),\n",
       " Prediction(uid=3203, iid=54, r_ui=5.062, est=5, details={'was_impossible': False}),\n",
       " Prediction(uid=3192, iid=133, r_ui=9.938, est=1, details={'was_impossible': False}),\n",
       " Prediction(uid=2285, iid=50, r_ui=9.406, est=5, details={'was_impossible': False}),\n",
       " Prediction(uid=2979, iid=38, r_ui=-9.281, est=3.9157628415515275, details={'was_impossible': False}),\n",
       " Prediction(uid=1142, iid=110, r_ui=0.469, est=3.5759988574399815, details={'was_impossible': False}),\n",
       " Prediction(uid=1385, iid=121, r_ui=10.0, est=3.895995928369116, details={'was_impossible': False}),\n",
       " Prediction(uid=599, iid=63, r_ui=-0.156, est=1.4361253559487, details={'was_impossible': False}),\n",
       " Prediction(uid=1818, iid=128, r_ui=4.875, est=3.190825684363627, details={'was_impossible': False}),\n",
       " Prediction(uid=839, iid=47, r_ui=5.375, est=5, details={'was_impossible': False}),\n",
       " Prediction(uid=997, iid=144, r_ui=2.656, est=2.346643451320943, details={'was_impossible': False}),\n",
       " Prediction(uid=3155, iid=25, r_ui=6.781000000000001, est=5, details={'was_impossible': False}),\n",
       " Prediction(uid=945, iid=19, r_ui=2.812, est=1, details={'was_impossible': False}),\n",
       " Prediction(uid=3608, iid=149, r_ui=-1.531, est=1, details={'was_impossible': False}),\n",
       " Prediction(uid=1110, iid=106, r_ui=9.844, est=1.3876762854246678, details={'was_impossible': False}),\n",
       " Prediction(uid=565, iid=125, r_ui=6.375, est=5, details={'was_impossible': False}),\n",
       " Prediction(uid=863, iid=107, r_ui=3.531, est=1, details={'was_impossible': False}),\n",
       " Prediction(uid=1932, iid=8, r_ui=-9.562, est=1, details={'was_impossible': False}),\n",
       " Prediction(uid=1577, iid=16, r_ui=-9.281, est=1, details={'was_impossible': False}),\n",
       " Prediction(uid=1388, iid=146, r_ui=-1.844, est=1, details={'was_impossible': False}),\n",
       " Prediction(uid=2960, iid=143, r_ui=-7.562, est=1, details={'was_impossible': False}),\n",
       " Prediction(uid=2719, iid=131, r_ui=3.312, est=2.6837170830195434, details={'was_impossible': False}),\n",
       " Prediction(uid=1506, iid=47, r_ui=-4.812, est=1, details={'was_impossible': False}),\n",
       " Prediction(uid=1374, iid=92, r_ui=0.125, est=1, details={'was_impossible': False}),\n",
       " Prediction(uid=3138, iid=114, r_ui=9.844, est=1, details={'was_impossible': False}),\n",
       " Prediction(uid=839, iid=107, r_ui=-3.688, est=5, details={'was_impossible': False}),\n",
       " Prediction(uid=1804, iid=89, r_ui=3.906, est=4.883185223435793, details={'was_impossible': False}),\n",
       " Prediction(uid=3028, iid=82, r_ui=-3.125, est=1, details={'was_impossible': False}),\n",
       " Prediction(uid=3920, iid=89, r_ui=2.625, est=3.619432981980947, details={'was_impossible': False}),\n",
       " Prediction(uid=925, iid=28, r_ui=-9.344, est=1, details={'was_impossible': False}),\n",
       " Prediction(uid=2284, iid=57, r_ui=-4.188, est=1, details={'was_impossible': False}),\n",
       " Prediction(uid=2959, iid=93, r_ui=7.25, est=4.86948632960447, details={'was_impossible': False}),\n",
       " Prediction(uid=2330, iid=15, r_ui=-9.719, est=1.4853183618093058, details={'was_impossible': False}),\n",
       " Prediction(uid=592, iid=49, r_ui=8.781, est=5, details={'was_impossible': False}),\n",
       " Prediction(uid=2680, iid=145, r_ui=-0.031, est=1, details={'was_impossible': False}),\n",
       " Prediction(uid=772, iid=44, r_ui=-8.406, est=1, details={'was_impossible': False}),\n",
       " Prediction(uid=2957, iid=123, r_ui=-0.031, est=1.3011079519815056, details={'was_impossible': False}),\n",
       " Prediction(uid=3515, iid=146, r_ui=0.4379999999999999, est=1, details={'was_impossible': False}),\n",
       " Prediction(uid=1055, iid=124, r_ui=-9.781, est=1, details={'was_impossible': False}),\n",
       " Prediction(uid=117, iid=8, r_ui=1.344, est=5, details={'was_impossible': False}),\n",
       " Prediction(uid=2096, iid=16, r_ui=-9.781, est=1, details={'was_impossible': False}),\n",
       " Prediction(uid=2124, iid=86, r_ui=2.969, est=1, details={'was_impossible': False}),\n",
       " Prediction(uid=1821, iid=33, r_ui=-4.0, est=1, details={'was_impossible': False}),\n",
       " Prediction(uid=2183, iid=33, r_ui=-0.5, est=1, details={'was_impossible': False}),\n",
       " Prediction(uid=546, iid=29, r_ui=-8.562000000000001, est=2.400871503546949, details={'was_impossible': False}),\n",
       " Prediction(uid=1067, iid=34, r_ui=0.0, est=1, details={'was_impossible': False}),\n",
       " Prediction(uid=897, iid=7, r_ui=-2.062, est=1, details={'was_impossible': False}),\n",
       " Prediction(uid=454, iid=102, r_ui=-3.094, est=1, details={'was_impossible': False}),\n",
       " Prediction(uid=3924, iid=32, r_ui=9.125, est=5, details={'was_impossible': False}),\n",
       " Prediction(uid=144, iid=119, r_ui=1.625, est=1.2266848294393706, details={'was_impossible': False}),\n",
       " Prediction(uid=1946, iid=136, r_ui=-2.875, est=3.5554238915494727, details={'was_impossible': False}),\n",
       " Prediction(uid=3695, iid=135, r_ui=9.594, est=5, details={'was_impossible': False}),\n",
       " Prediction(uid=1156, iid=37, r_ui=-0.531, est=1, details={'was_impossible': False}),\n",
       " Prediction(uid=1404, iid=126, r_ui=6.406000000000001, est=4.9915616176872515, details={'was_impossible': False}),\n",
       " Prediction(uid=3672, iid=18, r_ui=1.6880000000000002, est=1, details={'was_impossible': False}),\n",
       " Prediction(uid=2079, iid=125, r_ui=8.094, est=4.246490640233848, details={'was_impossible': False}),\n",
       " Prediction(uid=791, iid=98, r_ui=-0.75, est=3.1940892522551616, details={'was_impossible': False}),\n",
       " Prediction(uid=1309, iid=143, r_ui=-2.844, est=1, details={'was_impossible': False}),\n",
       " Prediction(uid=319, iid=20, r_ui=5.125, est=5, details={'was_impossible': False}),\n",
       " Prediction(uid=2892, iid=147, r_ui=-5.218999999999999, est=1, details={'was_impossible': False}),\n",
       " Prediction(uid=1896, iid=139, r_ui=5.438, est=2.316911273426161, details={'was_impossible': False}),\n",
       " Prediction(uid=396, iid=37, r_ui=-0.5, est=1, details={'was_impossible': False}),\n",
       " Prediction(uid=2605, iid=69, r_ui=-3.094, est=4.167553561040647, details={'was_impossible': False}),\n",
       " Prediction(uid=2355, iid=62, r_ui=7.438, est=1, details={'was_impossible': False}),\n",
       " Prediction(uid=2987, iid=105, r_ui=9.719, est=2.481240148787215, details={'was_impossible': False}),\n",
       " Prediction(uid=1077, iid=34, r_ui=5.406000000000001, est=3.830606467475831, details={'was_impossible': False}),\n",
       " Prediction(uid=1996, iid=117, r_ui=-8.406, est=1, details={'was_impossible': False}),\n",
       " Prediction(uid=1817, iid=13, r_ui=-7.5, est=1, details={'was_impossible': False}),\n",
       " Prediction(uid=437, iid=68, r_ui=3.156, est=2.519680224144583, details={'was_impossible': False}),\n",
       " Prediction(uid=1527, iid=29, r_ui=5.562, est=5, details={'was_impossible': False}),\n",
       " Prediction(uid=910, iid=115, r_ui=-2.312, est=1, details={'was_impossible': False}),\n",
       " Prediction(uid=605, iid=7, r_ui=-0.688, est=4.940579995125249, details={'was_impossible': False}),\n",
       " Prediction(uid=2719, iid=34, r_ui=-1.531, est=1, details={'was_impossible': False}),\n",
       " Prediction(uid=870, iid=97, r_ui=9.625, est=2.0525563032726217, details={'was_impossible': False}),\n",
       " Prediction(uid=3903, iid=99, r_ui=9.594, est=4.098431306088062, details={'was_impossible': False}),\n",
       " Prediction(uid=3820, iid=139, r_ui=-7.062, est=1, details={'was_impossible': False}),\n",
       " Prediction(uid=2975, iid=33, r_ui=-9.375, est=1, details={'was_impossible': False}),\n",
       " Prediction(uid=2501, iid=102, r_ui=9.75, est=5, details={'was_impossible': False}),\n",
       " Prediction(uid=1494, iid=21, r_ui=-3.781, est=2.034944434627709, details={'was_impossible': False}),\n",
       " Prediction(uid=1351, iid=114, r_ui=8.937999999999999, est=5, details={'was_impossible': False}),\n",
       " Prediction(uid=3960, iid=70, r_ui=-2.406, est=1, details={'was_impossible': False}),\n",
       " Prediction(uid=3657, iid=13, r_ui=8.844, est=5, details={'was_impossible': False}),\n",
       " Prediction(uid=1654, iid=29, r_ui=-1.344, est=5, details={'was_impossible': False}),\n",
       " Prediction(uid=3200, iid=93, r_ui=-7.938, est=1, details={'was_impossible': False}),\n",
       " Prediction(uid=3075, iid=89, r_ui=10.0, est=5, details={'was_impossible': False}),\n",
       " Prediction(uid=1454, iid=55, r_ui=-6.75, est=1, details={'was_impossible': False}),\n",
       " Prediction(uid=3921, iid=134, r_ui=5.438, est=5, details={'was_impossible': False}),\n",
       " Prediction(uid=1593, iid=29, r_ui=8.875, est=4.07617601560038, details={'was_impossible': False}),\n",
       " Prediction(uid=454, iid=113, r_ui=3.219, est=2.076717781965497, details={'was_impossible': False}),\n",
       " Prediction(uid=1407, iid=131, r_ui=-4.718999999999999, est=1.3008299667965868, details={'was_impossible': False}),\n",
       " Prediction(uid=2453, iid=26, r_ui=5.281000000000001, est=2.079987069033648, details={'was_impossible': False}),\n",
       " Prediction(uid=2002, iid=29, r_ui=6.438, est=5, details={'was_impossible': False}),\n",
       " Prediction(uid=1313, iid=88, r_ui=-3.656, est=1.016915125186573, details={'was_impossible': False}),\n",
       " Prediction(uid=678, iid=79, r_ui=-3.344, est=2.86485078271935, details={'was_impossible': False}),\n",
       " Prediction(uid=898, iid=64, r_ui=2.625, est=1, details={'was_impossible': False}),\n",
       " Prediction(uid=1918, iid=33, r_ui=-8.594, est=1, details={'was_impossible': False}),\n",
       " Prediction(uid=3254, iid=34, r_ui=1.5, est=1, details={'was_impossible': False}),\n",
       " Prediction(uid=2423, iid=17, r_ui=9.938, est=5, details={'was_impossible': False}),\n",
       " Prediction(uid=1702, iid=86, r_ui=-2.125, est=1.7669086028922032, details={'was_impossible': False}),\n",
       " Prediction(uid=65, iid=41, r_ui=10.0, est=5, details={'was_impossible': False}),\n",
       " Prediction(uid=1069, iid=46, r_ui=-5.031000000000001, est=1.861311730418838, details={'was_impossible': False}),\n",
       " Prediction(uid=1810, iid=142, r_ui=0.0, est=1, details={'was_impossible': False}),\n",
       " Prediction(uid=2102, iid=15, r_ui=8.781, est=5, details={'was_impossible': False}),\n",
       " Prediction(uid=1239, iid=8, r_ui=-1.219, est=1, details={'was_impossible': False}),\n",
       " Prediction(uid=553, iid=105, r_ui=6.656000000000001, est=5, details={'was_impossible': False}),\n",
       " Prediction(uid=2236, iid=132, r_ui=5.875, est=5, details={'was_impossible': False}),\n",
       " Prediction(uid=1737, iid=13, r_ui=-6.718999999999999, est=1, details={'was_impossible': False}),\n",
       " Prediction(uid=3233, iid=63, r_ui=-6.156000000000001, est=1, details={'was_impossible': False}),\n",
       " Prediction(uid=630, iid=36, r_ui=3.0, est=1, details={'was_impossible': False}),\n",
       " Prediction(uid=3863, iid=134, r_ui=2.938, est=3.6080876908852506, details={'was_impossible': False}),\n",
       " Prediction(uid=574, iid=36, r_ui=9.312, est=4.09980685861297, details={'was_impossible': False}),\n",
       " Prediction(uid=2391, iid=114, r_ui=0.125, est=1, details={'was_impossible': False}),\n",
       " Prediction(uid=2060, iid=111, r_ui=-4.875, est=1, details={'was_impossible': False}),\n",
       " Prediction(uid=438, iid=130, r_ui=-4.281000000000001, est=1, details={'was_impossible': False}),\n",
       " Prediction(uid=350, iid=7, r_ui=-4.875, est=3.513270539414335, details={'was_impossible': False}),\n",
       " Prediction(uid=2971, iid=78, r_ui=9.188, est=5, details={'was_impossible': False}),\n",
       " Prediction(uid=2516, iid=148, r_ui=5.0, est=2.299489092726292, details={'was_impossible': False}),\n",
       " Prediction(uid=608, iid=29, r_ui=3.219, est=1.2090276546603687, details={'was_impossible': False}),\n",
       " Prediction(uid=1334, iid=150, r_ui=6.438, est=5, details={'was_impossible': False}),\n",
       " Prediction(uid=1216, iid=143, r_ui=-7.531000000000001, est=1, details={'was_impossible': False}),\n",
       " Prediction(uid=2296, iid=103, r_ui=0.156, est=1, details={'was_impossible': False}),\n",
       " Prediction(uid=2210, iid=18, r_ui=5.156000000000001, est=2.496583786627947, details={'was_impossible': False}),\n",
       " Prediction(uid=13, iid=119, r_ui=6.25, est=1, details={'was_impossible': False}),\n",
       " Prediction(uid=317, iid=61, r_ui=1.062, est=5, details={'was_impossible': False}),\n",
       " Prediction(uid=50, iid=55, r_ui=5.656000000000001, est=2.547144684767907, details={'was_impossible': False}),\n",
       " Prediction(uid=3668, iid=13, r_ui=8.781, est=5, details={'was_impossible': False}),\n",
       " Prediction(uid=1678, iid=111, r_ui=0.25, est=1, details={'was_impossible': False}),\n",
       " Prediction(uid=2826, iid=48, r_ui=-3.938, est=1, details={'was_impossible': False}),\n",
       " Prediction(uid=682, iid=126, r_ui=1.062, est=1, details={'was_impossible': False}),\n",
       " Prediction(uid=3253, iid=24, r_ui=4.625, est=1.7634192489732554, details={'was_impossible': False}),\n",
       " Prediction(uid=3252, iid=16, r_ui=-8.969, est=1, details={'was_impossible': False}),\n",
       " Prediction(uid=2623, iid=107, r_ui=7.438, est=5, details={'was_impossible': False}),\n",
       " Prediction(uid=2943, iid=29, r_ui=1.531, est=1, details={'was_impossible': False}),\n",
       " Prediction(uid=653, iid=120, r_ui=8.0, est=5, details={'was_impossible': False}),\n",
       " Prediction(uid=3745, iid=29, r_ui=-1.844, est=1, details={'was_impossible': False}),\n",
       " Prediction(uid=3255, iid=13, r_ui=0.344, est=5, details={'was_impossible': False}),\n",
       " Prediction(uid=1929, iid=36, r_ui=-3.281, est=1, details={'was_impossible': False}),\n",
       " Prediction(uid=1267, iid=7, r_ui=-8.844, est=1, details={'was_impossible': False}),\n",
       " Prediction(uid=3553, iid=17, r_ui=-8.0, est=1, details={'was_impossible': False}),\n",
       " Prediction(uid=1103, iid=137, r_ui=-0.25, est=1.3559294233467905, details={'was_impossible': False}),\n",
       " Prediction(uid=2025, iid=8, r_ui=-4.093999999999999, est=1, details={'was_impossible': False}),\n",
       " Prediction(uid=64, iid=89, r_ui=4.093999999999999, est=5, details={'was_impossible': False}),\n",
       " Prediction(uid=3577, iid=89, r_ui=7.156000000000001, est=5, details={'was_impossible': False}),\n",
       " Prediction(uid=217, iid=141, r_ui=-9.094, est=2.836964600454783, details={'was_impossible': False}),\n",
       " Prediction(uid=3080, iid=57, r_ui=-5.562, est=1, details={'was_impossible': False}),\n",
       " Prediction(uid=1830, iid=8, r_ui=-6.593999999999999, est=1, details={'was_impossible': False}),\n",
       " Prediction(uid=1761, iid=33, r_ui=-2.812, est=1, details={'was_impossible': False}),\n",
       " Prediction(uid=1919, iid=139, r_ui=7.312, est=2.860934564832919, details={'was_impossible': False}),\n",
       " Prediction(uid=2950, iid=42, r_ui=0.4379999999999999, est=4.822240146634194, details={'was_impossible': False}),\n",
       " Prediction(uid=2979, iid=34, r_ui=-9.656, est=1, details={'was_impossible': False}),\n",
       " Prediction(uid=1136, iid=7, r_ui=-9.844, est=1, details={'was_impossible': False}),\n",
       " Prediction(uid=2545, iid=101, r_ui=-4.312, est=1, details={'was_impossible': False}),\n",
       " Prediction(uid=1023, iid=117, r_ui=9.125, est=5, details={'was_impossible': False}),\n",
       " Prediction(uid=2467, iid=144, r_ui=1.531, est=3.0031745338356037, details={'was_impossible': False}),\n",
       " Prediction(uid=163, iid=36, r_ui=5.156000000000001, est=2.724232441523417, details={'was_impossible': False}),\n",
       " Prediction(uid=1562, iid=39, r_ui=-1.25, est=3.3310631462442615, details={'was_impossible': False}),\n",
       " Prediction(uid=2194, iid=113, r_ui=1.781, est=2.4503534460002347, details={'was_impossible': False}),\n",
       " Prediction(uid=106, iid=121, r_ui=-0.469, est=5, details={'was_impossible': False}),\n",
       " Prediction(uid=2523, iid=76, r_ui=-2.031, est=1, details={'was_impossible': False}),\n",
       " Prediction(uid=1860, iid=26, r_ui=5.031000000000001, est=5, details={'was_impossible': False}),\n",
       " Prediction(uid=636, iid=44, r_ui=9.156, est=5, details={'was_impossible': False}),\n",
       " Prediction(uid=3887, iid=53, r_ui=3.0, est=1, details={'was_impossible': False}),\n",
       " Prediction(uid=1323, iid=109, r_ui=8.781, est=5, details={'was_impossible': False}),\n",
       " Prediction(uid=2001, iid=87, r_ui=-2.125, est=1, details={'was_impossible': False}),\n",
       " Prediction(uid=1537, iid=103, r_ui=9.625, est=1, details={'was_impossible': False}),\n",
       " Prediction(uid=917, iid=122, r_ui=-8.25, est=1, details={'was_impossible': False}),\n",
       " Prediction(uid=313, iid=101, r_ui=-9.594, est=1.89289169610671, details={'was_impossible': False}),\n",
       " Prediction(uid=501, iid=79, r_ui=-8.75, est=3.1175703534488814, details={'was_impossible': False}),\n",
       " Prediction(uid=2757, iid=83, r_ui=8.281, est=5, details={'was_impossible': False}),\n",
       " Prediction(uid=458, iid=66, r_ui=-1.3119999999999998, est=5, details={'was_impossible': False}),\n",
       " Prediction(uid=3215, iid=77, r_ui=4.5, est=1, details={'was_impossible': False}),\n",
       " Prediction(uid=1900, iid=78, r_ui=2.906, est=1.212831488452748, details={'was_impossible': False}),\n",
       " Prediction(uid=2067, iid=126, r_ui=-1.6880000000000002, est=1, details={'was_impossible': False}),\n",
       " Prediction(uid=1413, iid=103, r_ui=4.375, est=3.6932269903494848, details={'was_impossible': False}),\n",
       " Prediction(uid=1219, iid=66, r_ui=4.593999999999999, est=5, details={'was_impossible': False}),\n",
       " Prediction(uid=1171, iid=56, r_ui=9.812, est=5, details={'was_impossible': False}),\n",
       " Prediction(uid=2211, iid=66, r_ui=1.25, est=3.186496234135265, details={'was_impossible': False}),\n",
       " Prediction(uid=3244, iid=138, r_ui=9.75, est=5, details={'was_impossible': False}),\n",
       " Prediction(uid=3046, iid=47, r_ui=9.719, est=5, details={'was_impossible': False}),\n",
       " Prediction(uid=1979, iid=143, r_ui=-5.938, est=5, details={'was_impossible': False}),\n",
       " Prediction(uid=2550, iid=7, r_ui=1.938, est=1, details={'was_impossible': False}),\n",
       " Prediction(uid=1258, iid=7, r_ui=-1.156, est=1, details={'was_impossible': False}),\n",
       " Prediction(uid=1039, iid=84, r_ui=-3.969, est=1.0594965925233666, details={'was_impossible': False}),\n",
       " Prediction(uid=1581, iid=114, r_ui=3.375, est=4.157213009618599, details={'was_impossible': False}),\n",
       " Prediction(uid=1628, iid=19, r_ui=-6.718999999999999, est=1, details={'was_impossible': False}),\n",
       " Prediction(uid=3550, iid=76, r_ui=1.781, est=4.078260338838826, details={'was_impossible': False}),\n",
       " Prediction(uid=680, iid=102, r_ui=-2.938, est=1, details={'was_impossible': False}),\n",
       " Prediction(uid=2577, iid=119, r_ui=7.25, est=4.053504181306959, details={'was_impossible': False}),\n",
       " Prediction(uid=3277, iid=18, r_ui=-4.188, est=1, details={'was_impossible': False}),\n",
       " Prediction(uid=3887, iid=56, r_ui=-4.562, est=1, details={'was_impossible': False}),\n",
       " Prediction(uid=673, iid=60, r_ui=-0.7809999999999999, est=2.9433251899195776, details={'was_impossible': False}),\n",
       " Prediction(uid=3144, iid=38, r_ui=9.719, est=2.949500274070192, details={'was_impossible': False}),\n",
       " Prediction(uid=3298, iid=131, r_ui=2.469, est=3.625106120187481, details={'was_impossible': False}),\n",
       " Prediction(uid=2638, iid=26, r_ui=6.718999999999999, est=3.3480468524335625, details={'was_impossible': False}),\n",
       " Prediction(uid=2844, iid=114, r_ui=5.343999999999999, est=2.2629459017735227, details={'was_impossible': False}),\n",
       " Prediction(uid=2626, iid=85, r_ui=-1.531, est=2.1569322828634134, details={'was_impossible': False}),\n",
       " Prediction(uid=848, iid=128, r_ui=1.344, est=1, details={'was_impossible': False}),\n",
       " Prediction(uid=1841, iid=127, r_ui=2.844, est=1.0878525367509242, details={'was_impossible': False}),\n",
       " Prediction(uid=2912, iid=13, r_ui=-9.719, est=5, details={'was_impossible': False}),\n",
       " Prediction(uid=453, iid=53, r_ui=9.812, est=5, details={'was_impossible': False}),\n",
       " Prediction(uid=2539, iid=150, r_ui=-5.343999999999999, est=1, details={'was_impossible': False}),\n",
       " Prediction(uid=2030, iid=128, r_ui=2.281, est=2.70938214682612, details={'was_impossible': False}),\n",
       " Prediction(uid=1784, iid=79, r_ui=0.312, est=1, details={'was_impossible': False}),\n",
       " Prediction(uid=2626, iid=47, r_ui=5.968999999999999, est=5, details={'was_impossible': False}),\n",
       " Prediction(uid=1505, iid=126, r_ui=-0.2189999999999999, est=3.343285319171782, details={'was_impossible': False}),\n",
       " Prediction(uid=1815, iid=84, r_ui=-1.062, est=1, details={'was_impossible': False}),\n",
       " Prediction(uid=1998, iid=103, r_ui=1.938, est=1.316894365521565, details={'was_impossible': False}),\n",
       " Prediction(uid=292, iid=75, r_ui=-4.593999999999999, est=1.5621486956371216, details={'was_impossible': False}),\n",
       " Prediction(uid=1451, iid=127, r_ui=2.062, est=1, details={'was_impossible': False}),\n",
       " Prediction(uid=3571, iid=59, r_ui=-2.094, est=1, details={'was_impossible': False}),\n",
       " Prediction(uid=2025, iid=32, r_ui=-3.406, est=1, details={'was_impossible': False}),\n",
       " Prediction(uid=2275, iid=17, r_ui=3.281, est=5, details={'was_impossible': False}),\n",
       " Prediction(uid=650, iid=107, r_ui=1.25, est=1, details={'was_impossible': False}),\n",
       " Prediction(uid=1929, iid=59, r_ui=-2.031, est=1, details={'was_impossible': False}),\n",
       " Prediction(uid=1494, iid=108, r_ui=2.969, est=1, details={'was_impossible': False}),\n",
       " Prediction(uid=180, iid=46, r_ui=-0.625, est=1, details={'was_impossible': False}),\n",
       " Prediction(uid=2804, iid=13, r_ui=-3.5, est=1, details={'was_impossible': False}),\n",
       " Prediction(uid=278, iid=119, r_ui=-3.25, est=5, details={'was_impossible': False}),\n",
       " Prediction(uid=2492, iid=150, r_ui=7.125, est=4.057906573722684, details={'was_impossible': False}),\n",
       " Prediction(uid=2386, iid=140, r_ui=0.4379999999999999, est=1, details={'was_impossible': False}),\n",
       " Prediction(uid=461, iid=18, r_ui=-0.562, est=1, details={'was_impossible': False}),\n",
       " Prediction(uid=435, iid=13, r_ui=-0.312, est=5, details={'was_impossible': False}),\n",
       " Prediction(uid=2206, iid=75, r_ui=-4.406000000000001, est=1, details={'was_impossible': False}),\n",
       " Prediction(uid=2639, iid=17, r_ui=-4.593999999999999, est=1, details={'was_impossible': False}),\n",
       " Prediction(uid=993, iid=138, r_ui=3.25, est=5, details={'was_impossible': False}),\n",
       " Prediction(uid=1784, iid=99, r_ui=0.594, est=1, details={'was_impossible': False}),\n",
       " Prediction(uid=1863, iid=18, r_ui=-6.281000000000001, est=1, details={'was_impossible': False}),\n",
       " Prediction(uid=135, iid=67, r_ui=-4.343999999999999, est=1, details={'was_impossible': False}),\n",
       " Prediction(uid=3423, iid=134, r_ui=6.093999999999999, est=5, details={'was_impossible': False}),\n",
       " Prediction(uid=1559, iid=86, r_ui=2.125, est=3.055111369267239, details={'was_impossible': False}),\n",
       " Prediction(uid=151, iid=41, r_ui=0.625, est=1.7009541373946284, details={'was_impossible': False}),\n",
       " Prediction(uid=1957, iid=23, r_ui=-3.688, est=1, details={'was_impossible': False}),\n",
       " Prediction(uid=3109, iid=82, r_ui=-9.25, est=1, details={'was_impossible': False}),\n",
       " Prediction(uid=626, iid=25, r_ui=-1.625, est=1, details={'was_impossible': False}),\n",
       " Prediction(uid=1475, iid=13, r_ui=-4.5, est=3.3467182307086265, details={'was_impossible': False}),\n",
       " Prediction(uid=1956, iid=103, r_ui=8.062000000000001, est=5, details={'was_impossible': False}),\n",
       " Prediction(uid=2056, iid=129, r_ui=0.094, est=1, details={'was_impossible': False}),\n",
       " Prediction(uid=2530, iid=119, r_ui=9.812, est=5, details={'was_impossible': False}),\n",
       " Prediction(uid=2655, iid=91, r_ui=-3.844, est=1, details={'was_impossible': False}),\n",
       " Prediction(uid=2382, iid=15, r_ui=6.593999999999999, est=1, details={'was_impossible': False}),\n",
       " Prediction(uid=777, iid=16, r_ui=-5.343999999999999, est=1, details={'was_impossible': False}),\n",
       " Prediction(uid=2878, iid=16, r_ui=-3.781, est=1, details={'was_impossible': False}),\n",
       " Prediction(uid=2031, iid=101, r_ui=-0.344, est=1.0165321337336926, details={'was_impossible': False}),\n",
       " Prediction(uid=3892, iid=26, r_ui=0.8440000000000001, est=1, details={'was_impossible': False}),\n",
       " Prediction(uid=1699, iid=18, r_ui=3.938, est=1, details={'was_impossible': False}),\n",
       " Prediction(uid=102, iid=17, r_ui=2.938, est=2.5619191878765646, details={'was_impossible': False}),\n",
       " Prediction(uid=731, iid=106, r_ui=1.344, est=4.011054560547786, details={'was_impossible': False}),\n",
       " Prediction(uid=2175, iid=146, r_ui=-9.844, est=1, details={'was_impossible': False}),\n",
       " Prediction(uid=2786, iid=16, r_ui=-8.094, est=4.626560571386706, details={'was_impossible': False}),\n",
       " Prediction(uid=3975, iid=119, r_ui=4.781000000000001, est=5, details={'was_impossible': False}),\n",
       " Prediction(uid=1002, iid=111, r_ui=4.781000000000001, est=4.288262232737596, details={'was_impossible': False}),\n",
       " Prediction(uid=1716, iid=45, r_ui=0.688, est=1, details={'was_impossible': False}),\n",
       " Prediction(uid=680, iid=94, r_ui=-4.031000000000001, est=1, details={'was_impossible': False}),\n",
       " Prediction(uid=2685, iid=128, r_ui=0.2189999999999999, est=1, details={'was_impossible': False}),\n",
       " Prediction(uid=3107, iid=37, r_ui=-5.5, est=1, details={'was_impossible': False}),\n",
       " Prediction(uid=3205, iid=15, r_ui=-6.843999999999999, est=1, details={'was_impossible': False}),\n",
       " Prediction(uid=3615, iid=50, r_ui=8.125, est=3.7254386091361953, details={'was_impossible': False}),\n",
       " Prediction(uid=3054, iid=26, r_ui=8.594, est=5, details={'was_impossible': False}),\n",
       " Prediction(uid=915, iid=134, r_ui=-1.344, est=1, details={'was_impossible': False}),\n",
       " Prediction(uid=196, iid=50, r_ui=4.468999999999999, est=3.5184099991880395, details={'was_impossible': False}),\n",
       " Prediction(uid=3766, iid=53, r_ui=1.75, est=1, details={'was_impossible': False}),\n",
       " Prediction(uid=2701, iid=40, r_ui=-7.938, est=1, details={'was_impossible': False}),\n",
       " Prediction(uid=1628, iid=120, r_ui=-6.0, est=2.1123270725022705, details={'was_impossible': False}),\n",
       " Prediction(uid=489, iid=89, r_ui=9.938, est=1.9718689966566836, details={'was_impossible': False}),\n",
       " Prediction(uid=1284, iid=130, r_ui=6.718999999999999, est=5, details={'was_impossible': False}),\n",
       " Prediction(uid=3234, iid=74, r_ui=-6.281000000000001, est=1, details={'was_impossible': False}),\n",
       " Prediction(uid=1612, iid=101, r_ui=-9.562, est=1, details={'was_impossible': False}),\n",
       " Prediction(uid=2299, iid=47, r_ui=1.344, est=4.886679384236476, details={'was_impossible': False}),\n",
       " Prediction(uid=907, iid=16, r_ui=2.75, est=1, details={'was_impossible': False}),\n",
       " Prediction(uid=553, iid=23, r_ui=9.25, est=5, details={'was_impossible': False}),\n",
       " Prediction(uid=3820, iid=40, r_ui=-8.5, est=1, details={'was_impossible': False}),\n",
       " Prediction(uid=3680, iid=19, r_ui=7.25, est=1, details={'was_impossible': False}),\n",
       " Prediction(uid=2003, iid=106, r_ui=-9.719, est=1, details={'was_impossible': False}),\n",
       " Prediction(uid=2209, iid=24, r_ui=8.344, est=2.0047812154995768, details={'was_impossible': False}),\n",
       " Prediction(uid=1223, iid=19, r_ui=-3.312, est=2.232965870030336, details={'was_impossible': False}),\n",
       " Prediction(uid=2290, iid=123, r_ui=-9.625, est=1, details={'was_impossible': False}),\n",
       " Prediction(uid=1023, iid=96, r_ui=2.281, est=5, details={'was_impossible': False}),\n",
       " Prediction(uid=3643, iid=69, r_ui=6.938, est=5, details={'was_impossible': False}),\n",
       " Prediction(uid=624, iid=100, r_ui=3.875, est=1.852527369585558, details={'was_impossible': False}),\n",
       " Prediction(uid=3143, iid=40, r_ui=-3.062, est=1, details={'was_impossible': False}),\n",
       " Prediction(uid=1967, iid=19, r_ui=8.25, est=5, details={'was_impossible': False}),\n",
       " Prediction(uid=2317, iid=127, r_ui=-9.375, est=1, details={'was_impossible': False}),\n",
       " Prediction(uid=743, iid=44, r_ui=-9.25, est=1, details={'was_impossible': False}),\n",
       " Prediction(uid=411, iid=148, r_ui=1.5, est=1, details={'was_impossible': False}),\n",
       " Prediction(uid=1242, iid=141, r_ui=-5.218999999999999, est=1, details={'was_impossible': False}),\n",
       " Prediction(uid=3244, iid=108, r_ui=6.625, est=4.57204864230054, details={'was_impossible': False}),\n",
       " Prediction(uid=1979, iid=36, r_ui=9.844, est=2.9961935013852137, details={'was_impossible': False}),\n",
       " Prediction(uid=1678, iid=138, r_ui=-3.312, est=1, details={'was_impossible': False}),\n",
       " Prediction(uid=3936, iid=94, r_ui=9.094, est=5, details={'was_impossible': False}),\n",
       " Prediction(uid=3254, iid=143, r_ui=5.438, est=1, details={'was_impossible': False}),\n",
       " Prediction(uid=2575, iid=110, r_ui=-4.968999999999999, est=5, details={'was_impossible': False}),\n",
       " Prediction(uid=778, iid=54, r_ui=0.188, est=1, details={'was_impossible': False}),\n",
       " Prediction(uid=1559, iid=117, r_ui=5.531000000000001, est=4.295841164649668, details={'was_impossible': False}),\n",
       " Prediction(uid=2602, iid=144, r_ui=-4.5, est=4.9315661536321915, details={'was_impossible': False}),\n",
       " Prediction(uid=3814, iid=144, r_ui=0.969, est=1, details={'was_impossible': False}),\n",
       " Prediction(uid=3559, iid=68, r_ui=3.188, est=1.58861939443845, details={'was_impossible': False}),\n",
       " Prediction(uid=983, iid=127, r_ui=9.594, est=3.587310651603354, details={'was_impossible': False}),\n",
       " Prediction(uid=3295, iid=55, r_ui=3.438, est=1, details={'was_impossible': False}),\n",
       " Prediction(uid=525, iid=110, r_ui=7.438, est=5, details={'was_impossible': False}),\n",
       " Prediction(uid=3219, iid=134, r_ui=8.75, est=5, details={'was_impossible': False}),\n",
       " Prediction(uid=181, iid=73, r_ui=0.938, est=5, details={'was_impossible': False}),\n",
       " Prediction(uid=88, iid=83, r_ui=3.25, est=3.505728488296314, details={'was_impossible': False}),\n",
       " Prediction(uid=146, iid=126, r_ui=4.718999999999999, est=2.9178825246977964, details={'was_impossible': False}),\n",
       " Prediction(uid=2402, iid=75, r_ui=9.219, est=5, details={'was_impossible': False}),\n",
       " Prediction(uid=2029, iid=128, r_ui=4.875, est=1, details={'was_impossible': False}),\n",
       " Prediction(uid=1126, iid=21, r_ui=3.406, est=5, details={'was_impossible': False}),\n",
       " Prediction(uid=3434, iid=130, r_ui=7.938, est=5, details={'was_impossible': False}),\n",
       " Prediction(uid=531, iid=124, r_ui=-2.594, est=1, details={'was_impossible': False}),\n",
       " Prediction(uid=89, iid=123, r_ui=9.625, est=1, details={'was_impossible': False}),\n",
       " Prediction(uid=1851, iid=50, r_ui=7.125, est=4.616033166250593, details={'was_impossible': False}),\n",
       " Prediction(uid=1171, iid=148, r_ui=9.656, est=5, details={'was_impossible': False}),\n",
       " Prediction(uid=2980, iid=76, r_ui=6.438, est=3.9028613854500738, details={'was_impossible': False}),\n",
       " Prediction(uid=2824, iid=23, r_ui=-0.125, est=5, details={'was_impossible': False}),\n",
       " Prediction(uid=2124, iid=38, r_ui=1.219, est=1, details={'was_impossible': False}),\n",
       " Prediction(uid=3412, iid=13, r_ui=7.843999999999999, est=5, details={'was_impossible': False}),\n",
       " Prediction(uid=1022, iid=141, r_ui=-4.938, est=1, details={'was_impossible': False}),\n",
       " Prediction(uid=1145, iid=146, r_ui=3.406, est=1, details={'was_impossible': False}),\n",
       " Prediction(uid=1654, iid=36, r_ui=6.688, est=5, details={'was_impossible': False}),\n",
       " Prediction(uid=1242, iid=78, r_ui=3.531, est=4.208392294852519, details={'was_impossible': False}),\n",
       " Prediction(uid=1181, iid=136, r_ui=-3.031, est=1.5924861479608277, details={'was_impossible': False}),\n",
       " Prediction(uid=2577, iid=89, r_ui=2.125, est=4.555196837228683, details={'was_impossible': False}),\n",
       " Prediction(uid=2939, iid=134, r_ui=0.7809999999999999, est=1.2946014699411075, details={'was_impossible': False}),\n",
       " Prediction(uid=930, iid=120, r_ui=4.938, est=1, details={'was_impossible': False}),\n",
       " Prediction(uid=3093, iid=128, r_ui=3.531, est=4.298401958786281, details={'was_impossible': False}),\n",
       " Prediction(uid=2498, iid=16, r_ui=9.469, est=1.7872108486786091, details={'was_impossible': False}),\n",
       " Prediction(uid=1625, iid=34, r_ui=6.156000000000001, est=1, details={'was_impossible': False}),\n",
       " Prediction(uid=2610, iid=19, r_ui=8.656, est=1, details={'was_impossible': False}),\n",
       " Prediction(uid=73, iid=53, r_ui=-0.875, est=2.810599208062477, details={'was_impossible': False}),\n",
       " Prediction(uid=3101, iid=104, r_ui=9.594, est=5, details={'was_impossible': False}),\n",
       " Prediction(uid=1582, iid=110, r_ui=-8.75, est=1, details={'was_impossible': False}),\n",
       " Prediction(uid=1154, iid=55, r_ui=5.406000000000001, est=4.621677687717188, details={'was_impossible': False}),\n",
       " Prediction(uid=3208, iid=16, r_ui=5.375, est=1, details={'was_impossible': False}),\n",
       " Prediction(uid=2559, iid=78, r_ui=-1.0, est=3.685206016786479, details={'was_impossible': False}),\n",
       " Prediction(uid=864, iid=134, r_ui=2.875, est=1.120252234040999, details={'was_impossible': False}),\n",
       " Prediction(uid=2219, iid=140, r_ui=5.438, est=1, details={'was_impossible': False}),\n",
       " Prediction(uid=1284, iid=96, r_ui=9.188, est=5, details={'was_impossible': False}),\n",
       " Prediction(uid=1615, iid=93, r_ui=-3.375, est=1.3164737983044077, details={'was_impossible': False}),\n",
       " Prediction(uid=2338, iid=122, r_ui=8.656, est=2.4340549993627367, details={'was_impossible': False}),\n",
       " Prediction(uid=1676, iid=129, r_ui=-4.688, est=1, details={'was_impossible': False}),\n",
       " Prediction(uid=3355, iid=119, r_ui=8.969, est=3.2979022985908037, details={'was_impossible': False}),\n",
       " Prediction(uid=2610, iid=89, r_ui=-9.344, est=1, details={'was_impossible': False}),\n",
       " Prediction(uid=365, iid=5, r_ui=9.031, est=2.926478370673181, details={'was_impossible': False}),\n",
       " Prediction(uid=1341, iid=92, r_ui=2.188, est=1, details={'was_impossible': False}),\n",
       " Prediction(uid=3959, iid=128, r_ui=2.938, est=1, details={'was_impossible': False}),\n",
       " Prediction(uid=3673, iid=68, r_ui=8.344, est=5, details={'was_impossible': False}),\n",
       " Prediction(uid=1979, iid=48, r_ui=6.75, est=3.058062247444913, details={'was_impossible': False}),\n",
       " Prediction(uid=2870, iid=33, r_ui=0.625, est=3.9773495982058162, details={'was_impossible': False}),\n",
       " Prediction(uid=3698, iid=93, r_ui=9.25, est=1, details={'was_impossible': False}),\n",
       " Prediction(uid=2816, iid=47, r_ui=2.562, est=4.516475122159973, details={'was_impossible': False}),\n",
       " Prediction(uid=660, iid=42, r_ui=-3.156, est=1, details={'was_impossible': False}),\n",
       " Prediction(uid=3641, iid=104, r_ui=1.531, est=1.5679481190917883, details={'was_impossible': False}),\n",
       " Prediction(uid=2517, iid=42, r_ui=9.594, est=5, details={'was_impossible': False}),\n",
       " Prediction(uid=2821, iid=40, r_ui=1.781, est=1, details={'was_impossible': False}),\n",
       " Prediction(uid=2362, iid=65, r_ui=1.969, est=3.437890104488544, details={'was_impossible': False}),\n",
       " Prediction(uid=1682, iid=90, r_ui=4.938, est=1.0039417253584757, details={'was_impossible': False}),\n",
       " Prediction(uid=1048, iid=19, r_ui=-0.2189999999999999, est=1, details={'was_impossible': False}),\n",
       " Prediction(uid=3240, iid=81, r_ui=1.094, est=3.844080837332835, details={'was_impossible': False}),\n",
       " Prediction(uid=3250, iid=72, r_ui=8.937999999999999, est=3.7749505251308335, details={'was_impossible': False}),\n",
       " Prediction(uid=2182, iid=141, r_ui=-7.406000000000001, est=1, details={'was_impossible': False}),\n",
       " Prediction(uid=2427, iid=134, r_ui=9.281, est=1, details={'was_impossible': False}),\n",
       " Prediction(uid=2977, iid=17, r_ui=7.812, est=5, details={'was_impossible': False}),\n",
       " Prediction(uid=2185, iid=15, r_ui=-9.25, est=1, details={'was_impossible': False}),\n",
       " Prediction(uid=2054, iid=111, r_ui=6.406000000000001, est=2.5020119555394857, details={'was_impossible': False}),\n",
       " Prediction(uid=1169, iid=19, r_ui=-5.843999999999999, est=1, details={'was_impossible': False}),\n",
       " Prediction(uid=409, iid=120, r_ui=3.812, est=1, details={'was_impossible': False}),\n",
       " Prediction(uid=2971, iid=146, r_ui=5.968999999999999, est=5, details={'was_impossible': False}),\n",
       " Prediction(uid=3903, iid=140, r_ui=9.594, est=1, details={'was_impossible': False}),\n",
       " Prediction(uid=3505, iid=7, r_ui=-5.343999999999999, est=1, details={'was_impossible': False}),\n",
       " Prediction(uid=1426, iid=148, r_ui=-7.718999999999999, est=1, details={'was_impossible': False}),\n",
       " Prediction(uid=1906, iid=36, r_ui=-0.969, est=1, details={'was_impossible': False}),\n",
       " Prediction(uid=1400, iid=76, r_ui=4.188, est=1.3964513494286557, details={'was_impossible': False}),\n",
       " Prediction(uid=2555, iid=117, r_ui=6.281000000000001, est=5, details={'was_impossible': False}),\n",
       " Prediction(uid=3527, iid=8, r_ui=-2.875, est=1, details={'was_impossible': False}),\n",
       " Prediction(uid=395, iid=48, r_ui=-1.5, est=2.37537439058739, details={'was_impossible': False}),\n",
       " Prediction(uid=1654, iid=18, r_ui=-3.688, est=1.5214136790217758, details={'was_impossible': False}),\n",
       " Prediction(uid=2983, iid=129, r_ui=3.156, est=1.4437596730287625, details={'was_impossible': False}),\n",
       " Prediction(uid=2286, iid=30, r_ui=-0.156, est=1, details={'was_impossible': False}),\n",
       " Prediction(uid=866, iid=62, r_ui=-0.5, est=1, details={'was_impossible': False}),\n",
       " Prediction(uid=2229, iid=75, r_ui=8.25, est=2.931144796304479, details={'was_impossible': False}),\n",
       " Prediction(uid=2692, iid=150, r_ui=0.531, est=1, details={'was_impossible': False}),\n",
       " Prediction(uid=1652, iid=58, r_ui=-3.938, est=1, details={'was_impossible': False}),\n",
       " Prediction(uid=3101, iid=23, r_ui=8.875, est=5, details={'was_impossible': False}),\n",
       " Prediction(uid=1548, iid=103, r_ui=0.469, est=1.7388672163133823, details={'was_impossible': False}),\n",
       " Prediction(uid=2539, iid=98, r_ui=3.438, est=1.4803327855120276, details={'was_impossible': False}),\n",
       " Prediction(uid=3117, iid=26, r_ui=-8.875, est=1, details={'was_impossible': False}),\n",
       " Prediction(uid=1196, iid=17, r_ui=1.406, est=5, details={'was_impossible': False}),\n",
       " Prediction(uid=2701, iid=15, r_ui=-8.719, est=1, details={'was_impossible': False}),\n",
       " Prediction(uid=1907, iid=8, r_ui=4.656000000000001, est=1, details={'was_impossible': False}),\n",
       " Prediction(uid=2763, iid=64, r_ui=-2.094, est=1, details={'was_impossible': False}),\n",
       " Prediction(uid=1158, iid=8, r_ui=-9.594, est=1, details={'was_impossible': False}),\n",
       " Prediction(uid=2905, iid=146, r_ui=3.344, est=1.0723807900599682, details={'was_impossible': False}),\n",
       " Prediction(uid=3695, iid=106, r_ui=9.844, est=5, details={'was_impossible': False}),\n",
       " Prediction(uid=460, iid=102, r_ui=-4.938, est=1, details={'was_impossible': False}),\n",
       " Prediction(uid=1760, iid=96, r_ui=4.468999999999999, est=1, details={'was_impossible': False}),\n",
       " Prediction(uid=861, iid=7, r_ui=-9.812, est=1, details={'was_impossible': False}),\n",
       " Prediction(uid=3761, iid=110, r_ui=1.844, est=1, details={'was_impossible': False}),\n",
       " Prediction(uid=2568, iid=71, r_ui=-9.438, est=1, details={'was_impossible': False}),\n",
       " Prediction(uid=1157, iid=48, r_ui=6.625, est=3.50958843370894, details={'was_impossible': False}),\n",
       " Prediction(uid=559, iid=120, r_ui=3.0, est=4.414712300574365, details={'was_impossible': False}),\n",
       " Prediction(uid=2534, iid=140, r_ui=-6.156000000000001, est=1, details={'was_impossible': False}),\n",
       " Prediction(uid=3552, iid=150, r_ui=3.812, est=3.772034092300089, details={'was_impossible': False}),\n",
       " Prediction(uid=1658, iid=68, r_ui=-5.062, est=1, details={'was_impossible': False}),\n",
       " Prediction(uid=655, iid=97, r_ui=7.125, est=4.496749087534663, details={'was_impossible': False}),\n",
       " Prediction(uid=1798, iid=7, r_ui=-9.812, est=1, details={'was_impossible': False}),\n",
       " Prediction(uid=2295, iid=15, r_ui=-5.312, est=1, details={'was_impossible': False}),\n",
       " Prediction(uid=2162, iid=90, r_ui=-7.375, est=1.0100075446590504, details={'was_impossible': False}),\n",
       " Prediction(uid=2528, iid=142, r_ui=1.5619999999999998, est=1, details={'was_impossible': False}),\n",
       " Prediction(uid=2518, iid=56, r_ui=-1.656, est=1, details={'was_impossible': False}),\n",
       " Prediction(uid=2549, iid=8, r_ui=-9.875, est=5, details={'was_impossible': False}),\n",
       " Prediction(uid=2968, iid=17, r_ui=2.188, est=1.9025001028264987, details={'was_impossible': False}),\n",
       " Prediction(uid=1858, iid=95, r_ui=-7.125, est=1, details={'was_impossible': False}),\n",
       " Prediction(uid=1642, iid=64, r_ui=-0.125, est=2.8677125939526036, details={'was_impossible': False}),\n",
       " Prediction(uid=1425, iid=50, r_ui=2.875, est=1.8302062296769601, details={'was_impossible': False}),\n",
       " Prediction(uid=916, iid=142, r_ui=-8.594, est=1, details={'was_impossible': False}),\n",
       " Prediction(uid=2025, iid=15, r_ui=3.375, est=1, details={'was_impossible': False}),\n",
       " Prediction(uid=761, iid=15, r_ui=-0.281, est=1, details={'was_impossible': False}),\n",
       " Prediction(uid=1592, iid=138, r_ui=3.438, est=1, details={'was_impossible': False}),\n",
       " Prediction(uid=2530, iid=140, r_ui=6.562, est=5, details={'was_impossible': False}),\n",
       " Prediction(uid=1068, iid=90, r_ui=3.438, est=1, details={'was_impossible': False}),\n",
       " Prediction(uid=941, iid=54, r_ui=9.812, est=5, details={'was_impossible': False}),\n",
       " Prediction(uid=778, iid=117, r_ui=3.25, est=1, details={'was_impossible': False}),\n",
       " Prediction(uid=3313, iid=106, r_ui=0.75, est=1.1021004919351174, details={'was_impossible': False}),\n",
       " Prediction(uid=415, iid=35, r_ui=5.438, est=1.533001538835481, details={'was_impossible': False}),\n",
       " Prediction(uid=352, iid=7, r_ui=9.969, est=2.4880685356414833, details={'was_impossible': False}),\n",
       " Prediction(uid=1534, iid=148, r_ui=3.031, est=1, details={'was_impossible': False}),\n",
       " Prediction(uid=1661, iid=15, r_ui=-6.343999999999999, est=1, details={'was_impossible': False}),\n",
       " Prediction(uid=458, iid=126, r_ui=5.531000000000001, est=5, details={'was_impossible': False}),\n",
       " Prediction(uid=1323, iid=94, r_ui=2.0, est=1, details={'was_impossible': False}),\n",
       " Prediction(uid=66, iid=44, r_ui=-5.875, est=1, details={'was_impossible': False}),\n",
       " Prediction(uid=510, iid=69, r_ui=-1.3119999999999998, est=1.8058026627520247, details={'was_impossible': False}),\n",
       " Prediction(uid=3529, iid=92, r_ui=-7.562, est=4.162975644690918, details={'was_impossible': False}),\n",
       " Prediction(uid=1455, iid=127, r_ui=-8.937999999999999, est=5, details={'was_impossible': False}),\n",
       " Prediction(uid=1943, iid=84, r_ui=6.875, est=1.7780849682975828, details={'was_impossible': False}),\n",
       " Prediction(uid=1887, iid=142, r_ui=2.406, est=2.39805716095784, details={'was_impossible': False}),\n",
       " Prediction(uid=1552, iid=95, r_ui=2.188, est=2.145038022911251, details={'was_impossible': False}),\n",
       " Prediction(uid=838, iid=114, r_ui=3.531, est=4.570452857595397, details={'was_impossible': False}),\n",
       " Prediction(uid=1919, iid=144, r_ui=-0.6559999999999999, est=1.222180439744419, details={'was_impossible': False}),\n",
       " Prediction(uid=1801, iid=59, r_ui=-3.031, est=1, details={'was_impossible': False}),\n",
       " Prediction(uid=2924, iid=136, r_ui=-1.5619999999999998, est=1, details={'was_impossible': False}),\n",
       " Prediction(uid=857, iid=69, r_ui=-4.375, est=1.7889935177092042, details={'was_impossible': False}),\n",
       " Prediction(uid=3296, iid=126, r_ui=3.812, est=1.6623142867816945, details={'was_impossible': False}),\n",
       " Prediction(uid=2657, iid=53, r_ui=8.156, est=5, details={'was_impossible': False}),\n",
       " Prediction(uid=981, iid=111, r_ui=4.093999999999999, est=5, details={'was_impossible': False}),\n",
       " Prediction(uid=1809, iid=90, r_ui=1.188, est=1.8419731408711937, details={'was_impossible': False}),\n",
       " Prediction(uid=2904, iid=124, r_ui=-5.125, est=1, details={'was_impossible': False}),\n",
       " Prediction(uid=1361, iid=108, r_ui=8.219, est=1.7613863472927407, details={'was_impossible': False}),\n",
       " Prediction(uid=865, iid=76, r_ui=9.844, est=5, details={'was_impossible': False}),\n",
       " Prediction(uid=3177, iid=147, r_ui=-0.031, est=2.2299362489103416, details={'was_impossible': False}),\n",
       " Prediction(uid=196, iid=112, r_ui=-4.281000000000001, est=2.3424724802813897, details={'was_impossible': False}),\n",
       " Prediction(uid=2521, iid=148, r_ui=5.0, est=2.665664786072997, details={'was_impossible': False}),\n",
       " Prediction(uid=3236, iid=123, r_ui=-8.312000000000001, est=1, details={'was_impossible': False}),\n",
       " Prediction(uid=1883, iid=83, r_ui=7.25, est=1.8122887714628375, details={'was_impossible': False}),\n",
       " Prediction(uid=1653, iid=85, r_ui=-4.562, est=1, details={'was_impossible': False}),\n",
       " Prediction(uid=3093, iid=32, r_ui=8.687999999999999, est=4.6999631467399485, details={'was_impossible': False}),\n",
       " Prediction(uid=2131, iid=64, r_ui=5.0, est=2.2478561550401834, details={'was_impossible': False}),\n",
       " Prediction(uid=3175, iid=133, r_ui=4.688, est=3.2357750414924937, details={'was_impossible': False}),\n",
       " Prediction(uid=909, iid=106, r_ui=2.219, est=3.91660265625721, details={'was_impossible': False}),\n",
       " Prediction(uid=3936, iid=22, r_ui=6.812, est=5, details={'was_impossible': False}),\n",
       " Prediction(uid=2852, iid=26, r_ui=-3.938, est=1, details={'was_impossible': False}),\n",
       " Prediction(uid=1745, iid=60, r_ui=2.969, est=1, details={'was_impossible': False}),\n",
       " Prediction(uid=278, iid=7, r_ui=-2.406, est=1, details={'was_impossible': False}),\n",
       " Prediction(uid=2599, iid=16, r_ui=3.406, est=1, details={'was_impossible': False}),\n",
       " Prediction(uid=2321, iid=67, r_ui=-3.125, est=1, details={'was_impossible': False}),\n",
       " Prediction(uid=817, iid=107, r_ui=-9.5, est=1, details={'was_impossible': False}),\n",
       " Prediction(uid=2689, iid=139, r_ui=1.75, est=1, details={'was_impossible': False}),\n",
       " Prediction(uid=3564, iid=133, r_ui=0.4379999999999999, est=1, details={'was_impossible': False}),\n",
       " Prediction(uid=1534, iid=48, r_ui=-3.156, est=2.362383247859373, details={'was_impossible': False}),\n",
       " Prediction(uid=278, iid=124, r_ui=-9.781, est=1, details={'was_impossible': False}),\n",
       " Prediction(uid=1735, iid=90, r_ui=-4.312, est=1, details={'was_impossible': False}),\n",
       " Prediction(uid=2043, iid=17, r_ui=-5.468999999999999, est=2.0798302722230986, details={'was_impossible': False}),\n",
       " Prediction(uid=809, iid=105, r_ui=9.438, est=4.011682440691365, details={'was_impossible': False}),\n",
       " Prediction(uid=567, iid=118, r_ui=-1.25, est=2.0540491047234988, details={'was_impossible': False}),\n",
       " Prediction(uid=3631, iid=53, r_ui=-5.593999999999999, est=4.126859146308319, details={'was_impossible': False}),\n",
       " Prediction(uid=2605, iid=32, r_ui=4.593999999999999, est=5, details={'was_impossible': False}),\n",
       " Prediction(uid=1897, iid=32, r_ui=-0.344, est=1, details={'was_impossible': False}),\n",
       " Prediction(uid=1058, iid=137, r_ui=1.469, est=1, details={'was_impossible': False}),\n",
       " Prediction(uid=2046, iid=38, r_ui=5.468999999999999, est=3.2305393485220835, details={'was_impossible': False}),\n",
       " Prediction(uid=1754, iid=33, r_ui=-1.156, est=1, details={'was_impossible': False}),\n",
       " Prediction(uid=2555, iid=139, r_ui=8.031, est=4.806263110618808, details={'was_impossible': False}),\n",
       " Prediction(uid=3007, iid=78, r_ui=6.75, est=4.760588072265946, details={'was_impossible': False}),\n",
       " Prediction(uid=832, iid=150, r_ui=1.375, est=5, details={'was_impossible': False}),\n",
       " Prediction(uid=3054, iid=149, r_ui=9.656, est=5, details={'was_impossible': False}),\n",
       " Prediction(uid=1975, iid=77, r_ui=8.187999999999999, est=1.422463429976384, details={'was_impossible': False}),\n",
       " Prediction(uid=2832, iid=13, r_ui=-7.843999999999999, est=1, details={'was_impossible': False}),\n",
       " Prediction(uid=64, iid=119, r_ui=6.812, est=5, details={'was_impossible': False}),\n",
       " Prediction(uid=3681, iid=17, r_ui=7.25, est=1, details={'was_impossible': False}),\n",
       " Prediction(uid=576, iid=55, r_ui=1.031, est=1, details={'was_impossible': False}),\n",
       " Prediction(uid=386, iid=84, r_ui=4.093999999999999, est=1, details={'was_impossible': False}),\n",
       " Prediction(uid=2230, iid=132, r_ui=2.375, est=1.592391599232761, details={'was_impossible': False}),\n",
       " Prediction(uid=3057, iid=22, r_ui=-2.688, est=1, details={'was_impossible': False}),\n",
       " Prediction(uid=96, iid=92, r_ui=-0.062, est=2.5949234115834408, details={'was_impossible': False}),\n",
       " Prediction(uid=2478, iid=59, r_ui=-6.593999999999999, est=1, details={'was_impossible': False}),\n",
       " Prediction(uid=1768, iid=23, r_ui=-4.812, est=1, details={'was_impossible': False}),\n",
       " Prediction(uid=2355, iid=75, r_ui=7.218999999999999, est=1, details={'was_impossible': False}),\n",
       " Prediction(uid=1126, iid=111, r_ui=3.594, est=4.724211084646492, details={'was_impossible': False}),\n",
       " Prediction(uid=3896, iid=74, r_ui=5.093999999999999, est=1, details={'was_impossible': False}),\n",
       " Prediction(uid=177, iid=75, r_ui=7.938, est=1.1459936874681333, details={'was_impossible': False}),\n",
       " Prediction(uid=244, iid=115, r_ui=0.594, est=1.7455483721682907, details={'was_impossible': False}),\n",
       " Prediction(uid=3599, iid=93, r_ui=-3.125, est=1, details={'was_impossible': False}),\n",
       " Prediction(uid=1170, iid=78, r_ui=9.156, est=3.209287499189037, details={'was_impossible': False}),\n",
       " Prediction(uid=2126, iid=93, r_ui=0.625, est=1, details={'was_impossible': False}),\n",
       " Prediction(uid=2126, iid=18, r_ui=3.375, est=1, details={'was_impossible': False}),\n",
       " Prediction(uid=3316, iid=125, r_ui=-1.094, est=2.2433007290747207, details={'was_impossible': False}),\n",
       " Prediction(uid=1061, iid=148, r_ui=1.844, est=1, details={'was_impossible': False}),\n",
       " Prediction(uid=1920, iid=22, r_ui=1.5, est=1, details={'was_impossible': False}),\n",
       " Prediction(uid=342, iid=7, r_ui=5.125, est=3.1425316702286668, details={'was_impossible': False}),\n",
       " Prediction(uid=1399, iid=76, r_ui=3.062, est=1.431461518967592, details={'was_impossible': False}),\n",
       " Prediction(uid=551, iid=21, r_ui=-9.75, est=3.2507914874330845, details={'was_impossible': False}),\n",
       " Prediction(uid=3582, iid=138, r_ui=-0.969, est=1.0849556341575628, details={'was_impossible': False}),\n",
       " Prediction(uid=1704, iid=81, r_ui=5.75, est=5, details={'was_impossible': False}),\n",
       " Prediction(uid=1317, iid=125, r_ui=5.75, est=1.7988118139537344, details={'was_impossible': False}),\n",
       " Prediction(uid=1528, iid=71, r_ui=9.031, est=5, details={'was_impossible': False}),\n",
       " Prediction(uid=1911, iid=92, r_ui=1.75, est=1.1354183967680176, details={'was_impossible': False}),\n",
       " Prediction(uid=1874, iid=113, r_ui=-3.781, est=1, details={'was_impossible': False}),\n",
       " Prediction(uid=3675, iid=134, r_ui=9.219, est=5, details={'was_impossible': False}),\n",
       " Prediction(uid=413, iid=101, r_ui=0.594, est=1, details={'was_impossible': False}),\n",
       " Prediction(uid=2703, iid=71, r_ui=0.625, est=4.258710441272329, details={'was_impossible': False}),\n",
       " Prediction(uid=1350, iid=47, r_ui=-8.5, est=1, details={'was_impossible': False}),\n",
       " Prediction(uid=211, iid=64, r_ui=-2.969, est=1, details={'was_impossible': False}),\n",
       " Prediction(uid=3527, iid=7, r_ui=-2.719, est=1, details={'was_impossible': False}),\n",
       " Prediction(uid=3947, iid=49, r_ui=7.281000000000001, est=5, details={'was_impossible': False}),\n",
       " Prediction(uid=192, iid=15, r_ui=4.312, est=4.255365316768657, details={'was_impossible': False}),\n",
       " Prediction(uid=2949, iid=104, r_ui=6.25, est=5, details={'was_impossible': False}),\n",
       " Prediction(uid=2497, iid=124, r_ui=1.5619999999999998, est=1, details={'was_impossible': False}),\n",
       " Prediction(uid=3495, iid=135, r_ui=2.25, est=1, details={'was_impossible': False}),\n",
       " Prediction(uid=2267, iid=105, r_ui=6.188, est=3.7809022789297835, details={'was_impossible': False}),\n",
       " Prediction(uid=1971, iid=29, r_ui=-1.219, est=1, details={'was_impossible': False}),\n",
       " Prediction(uid=1122, iid=150, r_ui=5.5, est=2.500902826974868, details={'was_impossible': False}),\n",
       " Prediction(uid=2252, iid=53, r_ui=9.0, est=5, details={'was_impossible': False}),\n",
       " Prediction(uid=2559, iid=84, r_ui=-0.281, est=1.6442564570093698, details={'was_impossible': False}),\n",
       " Prediction(uid=3436, iid=139, r_ui=9.781, est=5, details={'was_impossible': False}),\n",
       " Prediction(uid=1798, iid=129, r_ui=2.938, est=1, details={'was_impossible': False}),\n",
       " Prediction(uid=107, iid=15, r_ui=-0.6559999999999999, est=1, details={'was_impossible': False}),\n",
       " Prediction(uid=2537, iid=34, r_ui=5.188, est=1, details={'was_impossible': False}),\n",
       " Prediction(uid=1779, iid=87, r_ui=3.094, est=3.1187896622522704, details={'was_impossible': False}),\n",
       " Prediction(uid=731, iid=125, r_ui=2.312, est=1.7758597090440729, details={'was_impossible': False}),\n",
       " Prediction(uid=2522, iid=98, r_ui=1.344, est=2.003013675512448, details={'was_impossible': False}),\n",
       " Prediction(uid=3115, iid=47, r_ui=2.156, est=2.131654561944917, details={'was_impossible': False}),\n",
       " Prediction(uid=1949, iid=36, r_ui=3.375, est=2.096410751406652, details={'was_impossible': False}),\n",
       " Prediction(uid=3230, iid=13, r_ui=-1.5, est=1, details={'was_impossible': False}),\n",
       " Prediction(uid=947, iid=7, r_ui=-6.156000000000001, est=1, details={'was_impossible': False}),\n",
       " Prediction(uid=2186, iid=18, r_ui=5.718999999999999, est=1, details={'was_impossible': False}),\n",
       " Prediction(uid=2462, iid=75, r_ui=-6.375, est=2.1335676177937093, details={'was_impossible': False}),\n",
       " Prediction(uid=3170, iid=22, r_ui=1.094, est=1, details={'was_impossible': False}),\n",
       " Prediction(uid=593, iid=31, r_ui=0.5, est=1, details={'was_impossible': False}),\n",
       " Prediction(uid=461, iid=16, r_ui=-9.562, est=1, details={'was_impossible': False}),\n",
       " Prediction(uid=553, iid=62, r_ui=6.218999999999999, est=5, details={'was_impossible': False}),\n",
       " Prediction(uid=3745, iid=19, r_ui=-2.719, est=1, details={'was_impossible': False}),\n",
       " Prediction(uid=3559, iid=113, r_ui=0.562, est=1, details={'was_impossible': False}),\n",
       " Prediction(uid=832, iid=78, r_ui=7.875, est=5, details={'was_impossible': False}),\n",
       " Prediction(uid=97, iid=31, r_ui=-1.375, est=1, details={'was_impossible': False}),\n",
       " Prediction(uid=3451, iid=19, r_ui=9.5, est=5, details={'was_impossible': False}),\n",
       " Prediction(uid=1442, iid=115, r_ui=-1.156, est=1, details={'was_impossible': False}),\n",
       " Prediction(uid=2244, iid=111, r_ui=9.406, est=5, details={'was_impossible': False}),\n",
       " Prediction(uid=1874, iid=32, r_ui=6.938, est=1.7115804765045348, details={'was_impossible': False}),\n",
       " Prediction(uid=857, iid=54, r_ui=4.343999999999999, est=1, details={'was_impossible': False}),\n",
       " Prediction(uid=2257, iid=84, r_ui=0.688, est=1, details={'was_impossible': False}),\n",
       " Prediction(uid=1238, iid=89, r_ui=-2.656, est=4.411619608059473, details={'was_impossible': False}),\n",
       " Prediction(uid=1491, iid=45, r_ui=4.688, est=1, details={'was_impossible': False}),\n",
       " Prediction(uid=2056, iid=87, r_ui=0.312, est=1, details={'was_impossible': False}),\n",
       " Prediction(uid=2647, iid=114, r_ui=-9.812, est=1, details={'was_impossible': False}),\n",
       " Prediction(uid=2824, iid=33, r_ui=-1.812, est=4.7044126952347085, details={'was_impossible': False}),\n",
       " Prediction(uid=3845, iid=69, r_ui=3.375, est=2.576438059547501, details={'was_impossible': False}),\n",
       " Prediction(uid=3250, iid=67, r_ui=5.593999999999999, est=1.8428019306458945, details={'was_impossible': False}),\n",
       " Prediction(uid=596, iid=35, r_ui=8.781, est=5, details={'was_impossible': False}),\n",
       " Prediction(uid=948, iid=105, r_ui=-1.625, est=1, details={'was_impossible': False}),\n",
       " Prediction(uid=3824, iid=28, r_ui=7.625, est=5, details={'was_impossible': False}),\n",
       " Prediction(uid=2637, iid=147, r_ui=8.406, est=5, details={'was_impossible': False}),\n",
       " Prediction(uid=1388, iid=77, r_ui=8.781, est=1, details={'was_impossible': False}),\n",
       " Prediction(uid=1155, iid=121, r_ui=9.75, est=5, details={'was_impossible': False}),\n",
       " Prediction(uid=907, iid=7, r_ui=-5.343999999999999, est=1, details={'was_impossible': False}),\n",
       " Prediction(uid=2349, iid=46, r_ui=-5.343999999999999, est=1, details={'was_impossible': False}),\n",
       " Prediction(uid=304, iid=42, r_ui=3.094, est=1, details={'was_impossible': False}),\n",
       " Prediction(uid=3782, iid=21, r_ui=-4.438, est=1, details={'was_impossible': False}),\n",
       " Prediction(uid=1173, iid=92, r_ui=0.125, est=3.3623769551454146, details={'was_impossible': False}),\n",
       " Prediction(uid=837, iid=72, r_ui=-3.594, est=1, details={'was_impossible': False}),\n",
       " Prediction(uid=257, iid=94, r_ui=4.281000000000001, est=3.0824944469549016, details={'was_impossible': False}),\n",
       " Prediction(uid=2328, iid=7, r_ui=5.875, est=1, details={'was_impossible': False}),\n",
       " Prediction(uid=3805, iid=66, r_ui=-1.031, est=3.146490120461241, details={'was_impossible': False}),\n",
       " Prediction(uid=1590, iid=37, r_ui=5.718999999999999, est=1, details={'was_impossible': False}),\n",
       " Prediction(uid=2650, iid=82, r_ui=-1.406, est=1, details={'was_impossible': False}),\n",
       " Prediction(uid=906, iid=122, r_ui=2.75, est=4.985433464569802, details={'was_impossible': False}),\n",
       " Prediction(uid=1876, iid=132, r_ui=0.125, est=2.199762176848033, details={'was_impossible': False}),\n",
       " Prediction(uid=3959, iid=101, r_ui=-0.594, est=1, details={'was_impossible': False}),\n",
       " Prediction(uid=3096, iid=148, r_ui=1.781, est=1, details={'was_impossible': False}),\n",
       " Prediction(uid=2379, iid=17, r_ui=-1.781, est=1, details={'was_impossible': False}),\n",
       " Prediction(uid=65, iid=24, r_ui=6.843999999999999, est=5, details={'was_impossible': False}),\n",
       " Prediction(uid=2555, iid=59, r_ui=-0.375, est=5, details={'was_impossible': False}),\n",
       " Prediction(uid=646, iid=78, r_ui=9.688, est=4.056100914696304, details={'was_impossible': False}),\n",
       " Prediction(uid=2017, iid=13, r_ui=2.875, est=1, details={'was_impossible': False}),\n",
       " Prediction(uid=2998, iid=15, r_ui=-9.594, est=1, details={'was_impossible': False}),\n",
       " Prediction(uid=459, iid=13, r_ui=-9.875, est=1, details={'was_impossible': False}),\n",
       " Prediction(uid=1479, iid=57, r_ui=2.656, est=1, details={'was_impossible': False}),\n",
       " Prediction(uid=2627, iid=143, r_ui=10.0, est=4.230823642456494, details={'was_impossible': False}),\n",
       " Prediction(uid=1809, iid=141, r_ui=-0.5, est=1, details={'was_impossible': False}),\n",
       " Prediction(uid=1064, iid=136, r_ui=-3.25, est=1, details={'was_impossible': False}),\n",
       " Prediction(uid=1628, iid=133, r_ui=-0.25, est=4.304964049763848, details={'was_impossible': False}),\n",
       " Prediction(uid=1776, iid=76, r_ui=9.906, est=5, details={'was_impossible': False}),\n",
       " Prediction(uid=1234, iid=37, r_ui=3.781, est=3.9270450375605206, details={'was_impossible': False}),\n",
       " Prediction(uid=161, iid=19, r_ui=2.375, est=5, details={'was_impossible': False}),\n",
       " Prediction(uid=535, iid=21, r_ui=8.844, est=5, details={'was_impossible': False}),\n",
       " Prediction(uid=3555, iid=113, r_ui=4.562, est=2.5199283180831578, details={'was_impossible': False}),\n",
       " Prediction(uid=3084, iid=56, r_ui=2.688, est=3.4892315473702658, details={'was_impossible': False}),\n",
       " Prediction(uid=1892, iid=22, r_ui=1.125, est=1.9170875305771227, details={'was_impossible': False}),\n",
       " Prediction(uid=65, iid=129, r_ui=9.938, est=5, details={'was_impossible': False}),\n",
       " Prediction(uid=619, iid=69, r_ui=-7.343999999999999, est=1, details={'was_impossible': False}),\n",
       " Prediction(uid=3203, iid=117, r_ui=9.469, est=5, details={'was_impossible': False}),\n",
       " Prediction(uid=1719, iid=19, r_ui=-8.281, est=1, details={'was_impossible': False}),\n",
       " Prediction(uid=984, iid=42, r_ui=3.5, est=1, details={'was_impossible': False}),\n",
       " Prediction(uid=1038, iid=117, r_ui=0.812, est=3.7298817707634306, details={'was_impossible': False}),\n",
       " Prediction(uid=3434, iid=97, r_ui=9.469, est=5, details={'was_impossible': False}),\n",
       " Prediction(uid=783, iid=18, r_ui=2.281, est=1, details={'was_impossible': False}),\n",
       " Prediction(uid=323, iid=30, r_ui=5.281000000000001, est=2.761681315692541, details={'was_impossible': False}),\n",
       " Prediction(uid=2676, iid=118, r_ui=5.781000000000001, est=5, details={'was_impossible': False}),\n",
       " Prediction(uid=3112, iid=121, r_ui=3.125, est=3.385910160366825, details={'was_impossible': False}),\n",
       " Prediction(uid=2025, iid=78, r_ui=-4.718999999999999, est=1, details={'was_impossible': False}),\n",
       " Prediction(uid=3214, iid=47, r_ui=7.188, est=5, details={'was_impossible': False}),\n",
       " Prediction(uid=302, iid=7, r_ui=-8.937999999999999, est=1, details={'was_impossible': False}),\n",
       " Prediction(uid=1926, iid=119, r_ui=5.718999999999999, est=3.9155190166753187, details={'was_impossible': False}),\n",
       " Prediction(uid=2497, iid=17, r_ui=2.875, est=5, details={'was_impossible': False}),\n",
       " Prediction(uid=2562, iid=119, r_ui=-0.156, est=1.8028691670654797, details={'was_impossible': False}),\n",
       " ...]"
      ]
     },
     "execution_count": 36,
     "metadata": {},
     "output_type": "execute_result"
    }
   ],
   "source": [
    "svd_preds"
   ]
  },
  {
   "cell_type": "markdown",
   "metadata": {},
   "source": [
    "- Improvement but not a big improvement over the global baseline (RMSE=5.77). "
   ]
  },
  {
   "cell_type": "markdown",
   "metadata": {},
   "source": [
    "Make predictions for a single user and a single item:"
   ]
  },
  {
   "cell_type": "code",
   "execution_count": 37,
   "metadata": {},
   "outputs": [
    {
     "data": {
      "text/plain": [
       "Prediction(uid=1825, iid=49, r_ui=None, est=1, details={'was_impossible': False})"
      ]
     },
     "execution_count": 37,
     "metadata": {},
     "output_type": "execute_result"
    }
   ],
   "source": [
    "svd_alg.predict(uid=1825, iid=49)"
   ]
  },
  {
   "cell_type": "markdown",
   "metadata": {},
   "source": [
    "<br><br><br>\n",
    "Surprise comes with many other collaborative filtering and matrix factorization algorithms. \n",
    "\n",
    "For example,  `KNNBasic` (https://surprise.readthedocs.io/en/stable/knn_inspired.html#surprise.prediction_algorithms.knns.KNNBasic):"
   ]
  },
  {
   "cell_type": "code",
   "execution_count": 38,
   "metadata": {},
   "outputs": [
    {
     "name": "stdout",
     "output_type": "stream",
     "text": [
      "Computing the msd similarity matrix...\n",
      "Done computing similarity matrix.\n",
      "RMSE: 5.2354\n"
     ]
    },
    {
     "data": {
      "text/plain": [
       "5.235433351220015"
      ]
     },
     "execution_count": 38,
     "metadata": {},
     "output_type": "execute_result"
    }
   ],
   "source": [
    "k = 10\n",
    "from surprise import KNNBasic\n",
    "algo = KNNBasic()\n",
    "algo.fit(trainset)\n",
    "\n",
    "knn_preds = algo.test(validset)\n",
    "accuracy.rmse(knn_preds, verbose=True)"
   ]
  },
  {
   "cell_type": "markdown",
   "metadata": {
    "slideshow": {
     "slide_type": "slide"
    }
   },
   "source": [
    "### Cross-validation for recommender systems\n",
    "\n",
    "- We can also carry out cross-validation and grid search with this package. \n",
    "- Let's look at an example of cross-validation. "
   ]
  },
  {
   "cell_type": "code",
   "execution_count": 39,
   "metadata": {},
   "outputs": [
    {
     "name": "stdout",
     "output_type": "stream",
     "text": [
      "Computing the msd similarity matrix...\n",
      "Done computing similarity matrix.\n",
      "Computing the msd similarity matrix...\n",
      "Done computing similarity matrix.\n",
      "Computing the msd similarity matrix...\n",
      "Done computing similarity matrix.\n",
      "Computing the msd similarity matrix...\n",
      "Done computing similarity matrix.\n",
      "Computing the msd similarity matrix...\n",
      "Done computing similarity matrix.\n",
      "Evaluating RMSE, MAE of algorithm KNNBasic on 5 split(s).\n",
      "\n",
      "                  Fold 1  Fold 2  Fold 3  Fold 4  Fold 5  Mean    Std     \n",
      "RMSE (testset)    5.2332  5.2427  5.1993  5.2299  5.2708  5.2352  0.0230  \n",
      "MAE (testset)     4.2032  4.2100  4.1697  4.1969  4.2345  4.2029  0.0209  \n",
      "Fit time          5.05    5.13    5.07    5.38    5.52    5.23    0.18    \n",
      "Test time         17.71   19.01   17.96   19.00   18.27   18.39   0.53    \n"
     ]
    },
    {
     "data": {
      "text/html": [
       "<div>\n",
       "<style scoped>\n",
       "    .dataframe tbody tr th:only-of-type {\n",
       "        vertical-align: middle;\n",
       "    }\n",
       "\n",
       "    .dataframe tbody tr th {\n",
       "        vertical-align: top;\n",
       "    }\n",
       "\n",
       "    .dataframe thead th {\n",
       "        text-align: right;\n",
       "    }\n",
       "</style>\n",
       "<table border=\"1\" class=\"dataframe\">\n",
       "  <thead>\n",
       "    <tr style=\"text-align: right;\">\n",
       "      <th></th>\n",
       "      <th>test_rmse</th>\n",
       "      <th>test_mae</th>\n",
       "      <th>fit_time</th>\n",
       "      <th>test_time</th>\n",
       "    </tr>\n",
       "  </thead>\n",
       "  <tbody>\n",
       "    <tr>\n",
       "      <th>0</th>\n",
       "      <td>5.233220</td>\n",
       "      <td>4.203163</td>\n",
       "      <td>5.049064</td>\n",
       "      <td>17.713553</td>\n",
       "    </tr>\n",
       "    <tr>\n",
       "      <th>1</th>\n",
       "      <td>5.242727</td>\n",
       "      <td>4.210024</td>\n",
       "      <td>5.133666</td>\n",
       "      <td>19.009758</td>\n",
       "    </tr>\n",
       "    <tr>\n",
       "      <th>2</th>\n",
       "      <td>5.199258</td>\n",
       "      <td>4.169701</td>\n",
       "      <td>5.072310</td>\n",
       "      <td>17.955176</td>\n",
       "    </tr>\n",
       "    <tr>\n",
       "      <th>3</th>\n",
       "      <td>5.229864</td>\n",
       "      <td>4.196918</td>\n",
       "      <td>5.378431</td>\n",
       "      <td>19.003894</td>\n",
       "    </tr>\n",
       "    <tr>\n",
       "      <th>4</th>\n",
       "      <td>5.270767</td>\n",
       "      <td>4.234493</td>\n",
       "      <td>5.516108</td>\n",
       "      <td>18.270685</td>\n",
       "    </tr>\n",
       "  </tbody>\n",
       "</table>\n",
       "</div>"
      ],
      "text/plain": [
       "   test_rmse  test_mae  fit_time  test_time\n",
       "0  5.233220   4.203163  5.049064  17.713553\n",
       "1  5.242727   4.210024  5.133666  19.009758\n",
       "2  5.199258   4.169701  5.072310  17.955176\n",
       "3  5.229864   4.196918  5.378431  19.003894\n",
       "4  5.270767   4.234493  5.516108  18.270685"
      ]
     },
     "execution_count": 39,
     "metadata": {},
     "output_type": "execute_result"
    }
   ],
   "source": [
    "from surprise.model_selection import cross_validate\n",
    "\n",
    "pd.DataFrame(cross_validate(algo, data, measures=[\"RMSE\", \"MAE\"], cv=5, verbose=True))"
   ]
  },
  {
   "cell_type": "markdown",
   "metadata": {},
   "source": [
    "----------\n",
    "**[Study on your own]**\n",
    "\n",
    "#### Other built-in datasets shipped with the Surprise library"
   ]
  },
  {
   "cell_type": "markdown",
   "metadata": {
    "slideshow": {
     "slide_type": "slide"
    }
   },
   "source": [
    "- Jester dataset is available as one of the built-in datasets in this package and you can load it as follows and run cross-validation as follows. "
   ]
  },
  {
   "cell_type": "code",
   "execution_count": null,
   "metadata": {},
   "outputs": [],
   "source": [
    "data = Dataset.load_builtin(\"jester\")\n",
    "\n",
    "pd.DataFrame(cross_validate(algo, data, measures=[\"RMSE\", \"MAE\"], cv=5, verbose=True))"
   ]
  },
  {
   "cell_type": "markdown",
   "metadata": {},
   "source": [
    "**[Study on your own]**\n",
    "\n",
    "----------"
   ]
  },
  {
   "cell_type": "markdown",
   "metadata": {},
   "source": [
    "<br><br><br><br>"
   ]
  },
  {
   "cell_type": "markdown",
   "metadata": {},
   "source": [
    "## Content-based filtering"
   ]
  },
  {
   "cell_type": "markdown",
   "metadata": {
    "slideshow": {
     "slide_type": "slide"
    }
   },
   "source": [
    "### What is content-based filtering? \n",
    "\n",
    "Going back here: https://help.netflix.com/en/node/100639\n",
    "\n",
    "- Supervised machine learning approach\n",
    "- In collaborative filtering we assumed that we only have ratings data. \n",
    "- Usually there is some information on items and users available. \n",
    "- Examples\n",
    "    - Netflix can describe movies as action, romance, comedy, documentaries. \n",
    "    - Amazon could describe books according to topics: math, languages, history. \n",
    "    - Tinder could describe people according to age, location, employment.\n",
    "- Can we use this information to predict ratings in the utility matrix?   \n",
    "    - Yes!"
   ]
  },
  {
   "cell_type": "markdown",
   "metadata": {
    "slideshow": {
     "slide_type": "slide"
    }
   },
   "source": [
    "### Toy example: Movie recommendation\n",
    "\n",
    "- Let's consider movie recommendation problem with the following toy data."
   ]
  },
  {
   "cell_type": "markdown",
   "metadata": {
    "slideshow": {
     "slide_type": "slide"
    }
   },
   "source": [
    "### Ratings data"
   ]
  },
  {
   "cell_type": "code",
   "execution_count": 40,
   "metadata": {
    "slideshow": {
     "slide_type": "-"
    }
   },
   "outputs": [
    {
     "data": {
      "text/html": [
       "<div>\n",
       "<style scoped>\n",
       "    .dataframe tbody tr th:only-of-type {\n",
       "        vertical-align: middle;\n",
       "    }\n",
       "\n",
       "    .dataframe tbody tr th {\n",
       "        vertical-align: top;\n",
       "    }\n",
       "\n",
       "    .dataframe thead th {\n",
       "        text-align: right;\n",
       "    }\n",
       "</style>\n",
       "<table border=\"1\" class=\"dataframe\">\n",
       "  <thead>\n",
       "    <tr style=\"text-align: right;\">\n",
       "      <th></th>\n",
       "      <th>user_id</th>\n",
       "      <th>movie_id</th>\n",
       "      <th>rating</th>\n",
       "    </tr>\n",
       "  </thead>\n",
       "  <tbody>\n",
       "    <tr>\n",
       "      <th>0</th>\n",
       "      <td>Sam</td>\n",
       "      <td>Lion King</td>\n",
       "      <td>4</td>\n",
       "    </tr>\n",
       "    <tr>\n",
       "      <th>1</th>\n",
       "      <td>Sam</td>\n",
       "      <td>Jerry Maguire</td>\n",
       "      <td>4</td>\n",
       "    </tr>\n",
       "    <tr>\n",
       "      <th>2</th>\n",
       "      <td>Sam</td>\n",
       "      <td>Roman Holidays</td>\n",
       "      <td>5</td>\n",
       "    </tr>\n",
       "    <tr>\n",
       "      <th>3</th>\n",
       "      <td>Sam</td>\n",
       "      <td>Downfall</td>\n",
       "      <td>1</td>\n",
       "    </tr>\n",
       "    <tr>\n",
       "      <th>4</th>\n",
       "      <td>Eva</td>\n",
       "      <td>Titanic</td>\n",
       "      <td>2</td>\n",
       "    </tr>\n",
       "    <tr>\n",
       "      <th>5</th>\n",
       "      <td>Eva</td>\n",
       "      <td>Jerry Maguire</td>\n",
       "      <td>1</td>\n",
       "    </tr>\n",
       "    <tr>\n",
       "      <th>6</th>\n",
       "      <td>Eva</td>\n",
       "      <td>Inception</td>\n",
       "      <td>4</td>\n",
       "    </tr>\n",
       "    <tr>\n",
       "      <th>7</th>\n",
       "      <td>Eva</td>\n",
       "      <td>Man on Wire</td>\n",
       "      <td>5</td>\n",
       "    </tr>\n",
       "    <tr>\n",
       "      <th>8</th>\n",
       "      <td>Eva</td>\n",
       "      <td>The Social Dilemma</td>\n",
       "      <td>5</td>\n",
       "    </tr>\n",
       "    <tr>\n",
       "      <th>9</th>\n",
       "      <td>Pat</td>\n",
       "      <td>Titanic</td>\n",
       "      <td>3</td>\n",
       "    </tr>\n",
       "    <tr>\n",
       "      <th>10</th>\n",
       "      <td>Pat</td>\n",
       "      <td>Lion King</td>\n",
       "      <td>4</td>\n",
       "    </tr>\n",
       "    <tr>\n",
       "      <th>11</th>\n",
       "      <td>Pat</td>\n",
       "      <td>Bambi</td>\n",
       "      <td>4</td>\n",
       "    </tr>\n",
       "    <tr>\n",
       "      <th>12</th>\n",
       "      <td>Pat</td>\n",
       "      <td>Cast Away</td>\n",
       "      <td>3</td>\n",
       "    </tr>\n",
       "    <tr>\n",
       "      <th>13</th>\n",
       "      <td>Pat</td>\n",
       "      <td>Jerry Maguire</td>\n",
       "      <td>5</td>\n",
       "    </tr>\n",
       "    <tr>\n",
       "      <th>14</th>\n",
       "      <td>Pat</td>\n",
       "      <td>Downfall</td>\n",
       "      <td>2</td>\n",
       "    </tr>\n",
       "    <tr>\n",
       "      <th>15</th>\n",
       "      <td>Pat</td>\n",
       "      <td>A Beautiful Mind</td>\n",
       "      <td>3</td>\n",
       "    </tr>\n",
       "    <tr>\n",
       "      <th>16</th>\n",
       "      <td>Jim</td>\n",
       "      <td>Titanic</td>\n",
       "      <td>2</td>\n",
       "    </tr>\n",
       "    <tr>\n",
       "      <th>17</th>\n",
       "      <td>Jim</td>\n",
       "      <td>Lion King</td>\n",
       "      <td>3</td>\n",
       "    </tr>\n",
       "    <tr>\n",
       "      <th>18</th>\n",
       "      <td>Jim</td>\n",
       "      <td>The Social Dilemma</td>\n",
       "      <td>5</td>\n",
       "    </tr>\n",
       "    <tr>\n",
       "      <th>19</th>\n",
       "      <td>Jim</td>\n",
       "      <td>Malcolm x</td>\n",
       "      <td>4</td>\n",
       "    </tr>\n",
       "    <tr>\n",
       "      <th>20</th>\n",
       "      <td>Jim</td>\n",
       "      <td>Man on Wire</td>\n",
       "      <td>5</td>\n",
       "    </tr>\n",
       "  </tbody>\n",
       "</table>\n",
       "</div>"
      ],
      "text/plain": [
       "   user_id            movie_id  rating\n",
       "0   Sam     Lion King           4     \n",
       "1   Sam     Jerry Maguire       4     \n",
       "2   Sam     Roman Holidays      5     \n",
       "3   Sam     Downfall            1     \n",
       "4   Eva     Titanic             2     \n",
       "5   Eva     Jerry Maguire       1     \n",
       "6   Eva     Inception           4     \n",
       "7   Eva     Man on Wire         5     \n",
       "8   Eva     The Social Dilemma  5     \n",
       "9   Pat     Titanic             3     \n",
       "10  Pat     Lion King           4     \n",
       "11  Pat     Bambi               4     \n",
       "12  Pat     Cast Away           3     \n",
       "13  Pat     Jerry Maguire       5     \n",
       "14  Pat     Downfall            2     \n",
       "15  Pat     A Beautiful Mind    3     \n",
       "16  Jim     Titanic             2     \n",
       "17  Jim     Lion King           3     \n",
       "18  Jim     The Social Dilemma  5     \n",
       "19  Jim     Malcolm x           4     \n",
       "20  Jim     Man on Wire         5     "
      ]
     },
     "execution_count": 40,
     "metadata": {},
     "output_type": "execute_result"
    }
   ],
   "source": [
    "toy_ratings = pd.read_csv(\"../data/toy_ratings.csv\")\n",
    "toy_ratings"
   ]
  },
  {
   "cell_type": "code",
   "execution_count": 41,
   "metadata": {},
   "outputs": [
    {
     "name": "stdout",
     "output_type": "stream",
     "text": [
      "Number of users (N)                : 4\n",
      "Number of movies (M)               : 12\n"
     ]
    }
   ],
   "source": [
    "N = len(np.unique(toy_ratings[\"user_id\"]))\n",
    "M = len(np.unique(toy_ratings[\"movie_id\"]))\n",
    "print(\"Number of users (N)                : %d\" % N)\n",
    "print(\"Number of movies (M)               : %d\" % M)"
   ]
  },
  {
   "cell_type": "code",
   "execution_count": 42,
   "metadata": {
    "slideshow": {
     "slide_type": "slide"
    }
   },
   "outputs": [],
   "source": [
    "user_key = \"user_id\"\n",
    "item_key = \"movie_id\""
   ]
  },
  {
   "cell_type": "code",
   "execution_count": 43,
   "metadata": {},
   "outputs": [],
   "source": [
    "user_mapper = dict(zip(np.unique(toy_ratings[user_key]), list(range(N))))\n",
    "item_mapper = dict(zip(np.unique(toy_ratings[item_key]), list(range(M))))\n",
    "user_inverse_mapper = dict(zip(list(range(N)), np.unique(toy_ratings[user_key])))\n",
    "item_inverse_mapper = dict(zip(list(range(M)), np.unique(toy_ratings[item_key])))"
   ]
  },
  {
   "cell_type": "markdown",
   "metadata": {
    "slideshow": {
     "slide_type": "slide"
    }
   },
   "source": [
    "### Utility matrix\n",
    "\n",
    "Let's create a dense utility matrix for our toy dataset. "
   ]
  },
  {
   "cell_type": "code",
   "execution_count": 44,
   "metadata": {
    "slideshow": {
     "slide_type": "-"
    }
   },
   "outputs": [],
   "source": [
    "def create_Y_from_ratings(data, N, M):\n",
    "    Y = np.zeros((N, M))\n",
    "    Y.fill(np.nan)\n",
    "    for index, val in data.iterrows():\n",
    "        n = user_mapper[val[user_key]]\n",
    "        m = item_mapper[val[item_key]]\n",
    "        Y[n, m] = val[\"rating\"]\n",
    "\n",
    "    return Y"
   ]
  },
  {
   "cell_type": "markdown",
   "metadata": {
    "slideshow": {
     "slide_type": "slide"
    }
   },
   "source": [
    "### Utility matrix"
   ]
  },
  {
   "cell_type": "code",
   "execution_count": 45,
   "metadata": {
    "slideshow": {
     "slide_type": "-"
    }
   },
   "outputs": [
    {
     "data": {
      "text/html": [
       "<div>\n",
       "<style scoped>\n",
       "    .dataframe tbody tr th:only-of-type {\n",
       "        vertical-align: middle;\n",
       "    }\n",
       "\n",
       "    .dataframe tbody tr th {\n",
       "        vertical-align: top;\n",
       "    }\n",
       "\n",
       "    .dataframe thead th {\n",
       "        text-align: right;\n",
       "    }\n",
       "</style>\n",
       "<table border=\"1\" class=\"dataframe\">\n",
       "  <thead>\n",
       "    <tr style=\"text-align: right;\">\n",
       "      <th></th>\n",
       "      <th>A Beautiful Mind</th>\n",
       "      <th>Bambi</th>\n",
       "      <th>Cast Away</th>\n",
       "      <th>Downfall</th>\n",
       "      <th>Inception</th>\n",
       "      <th>Jerry Maguire</th>\n",
       "      <th>Lion King</th>\n",
       "      <th>Malcolm x</th>\n",
       "      <th>Man on Wire</th>\n",
       "      <th>Roman Holidays</th>\n",
       "      <th>The Social Dilemma</th>\n",
       "      <th>Titanic</th>\n",
       "    </tr>\n",
       "  </thead>\n",
       "  <tbody>\n",
       "    <tr>\n",
       "      <th>Eva</th>\n",
       "      <td>NaN</td>\n",
       "      <td>NaN</td>\n",
       "      <td>NaN</td>\n",
       "      <td>NaN</td>\n",
       "      <td>4.0</td>\n",
       "      <td>1.0</td>\n",
       "      <td>NaN</td>\n",
       "      <td>NaN</td>\n",
       "      <td>5.0</td>\n",
       "      <td>NaN</td>\n",
       "      <td>5.0</td>\n",
       "      <td>2.0</td>\n",
       "    </tr>\n",
       "    <tr>\n",
       "      <th>Jim</th>\n",
       "      <td>NaN</td>\n",
       "      <td>NaN</td>\n",
       "      <td>NaN</td>\n",
       "      <td>NaN</td>\n",
       "      <td>NaN</td>\n",
       "      <td>NaN</td>\n",
       "      <td>3.0</td>\n",
       "      <td>4.0</td>\n",
       "      <td>5.0</td>\n",
       "      <td>NaN</td>\n",
       "      <td>5.0</td>\n",
       "      <td>2.0</td>\n",
       "    </tr>\n",
       "    <tr>\n",
       "      <th>Pat</th>\n",
       "      <td>3.0</td>\n",
       "      <td>4.0</td>\n",
       "      <td>3.0</td>\n",
       "      <td>2.0</td>\n",
       "      <td>NaN</td>\n",
       "      <td>5.0</td>\n",
       "      <td>4.0</td>\n",
       "      <td>NaN</td>\n",
       "      <td>NaN</td>\n",
       "      <td>NaN</td>\n",
       "      <td>NaN</td>\n",
       "      <td>3.0</td>\n",
       "    </tr>\n",
       "    <tr>\n",
       "      <th>Sam</th>\n",
       "      <td>NaN</td>\n",
       "      <td>NaN</td>\n",
       "      <td>NaN</td>\n",
       "      <td>1.0</td>\n",
       "      <td>NaN</td>\n",
       "      <td>4.0</td>\n",
       "      <td>4.0</td>\n",
       "      <td>NaN</td>\n",
       "      <td>NaN</td>\n",
       "      <td>5.0</td>\n",
       "      <td>NaN</td>\n",
       "      <td>NaN</td>\n",
       "    </tr>\n",
       "  </tbody>\n",
       "</table>\n",
       "</div>"
      ],
      "text/plain": [
       "     A Beautiful Mind  Bambi  Cast Away  Downfall  Inception  Jerry Maguire  \\\n",
       "Eva NaN               NaN    NaN        NaN        4.0        1.0             \n",
       "Jim NaN               NaN    NaN        NaN       NaN        NaN              \n",
       "Pat  3.0               4.0    3.0        2.0      NaN         5.0             \n",
       "Sam NaN               NaN    NaN         1.0      NaN         4.0             \n",
       "\n",
       "     Lion King  Malcolm x  Man on Wire  Roman Holidays  The Social Dilemma  \\\n",
       "Eva NaN        NaN         5.0         NaN              5.0                  \n",
       "Jim  3.0        4.0        5.0         NaN              5.0                  \n",
       "Pat  4.0       NaN        NaN          NaN             NaN                   \n",
       "Sam  4.0       NaN        NaN           5.0            NaN                   \n",
       "\n",
       "     Titanic  \n",
       "Eva  2.0      \n",
       "Jim  2.0      \n",
       "Pat  3.0      \n",
       "Sam NaN       "
      ]
     },
     "execution_count": 45,
     "metadata": {},
     "output_type": "execute_result"
    }
   ],
   "source": [
    "Y = create_Y_from_ratings(toy_ratings, N, M)\n",
    "utility_mat = pd.DataFrame(Y, columns=item_mapper.keys(), index=user_mapper.keys())\n",
    "utility_mat"
   ]
  },
  {
   "cell_type": "code",
   "execution_count": 46,
   "metadata": {},
   "outputs": [
    {
     "data": {
      "text/plain": [
       "3.5238095238095237"
      ]
     },
     "execution_count": 46,
     "metadata": {},
     "output_type": "execute_result"
    }
   ],
   "source": [
    "avg = np.nanmean(Y)\n",
    "avg"
   ]
  },
  {
   "cell_type": "markdown",
   "metadata": {},
   "source": [
    "**Goal**: Predict missing entries in the utility matrix. "
   ]
  },
  {
   "cell_type": "code",
   "execution_count": 47,
   "metadata": {},
   "outputs": [],
   "source": [
    "import surprise\n",
    "from surprise import SVD, Dataset, Reader, accuracy"
   ]
  },
  {
   "cell_type": "markdown",
   "metadata": {
    "slideshow": {
     "slide_type": "slide"
    }
   },
   "source": [
    "Let's predict ratings with collaborative filtering."
   ]
  },
  {
   "cell_type": "code",
   "execution_count": 48,
   "metadata": {},
   "outputs": [],
   "source": [
    "reader = Reader()\n",
    "data = Dataset.load_from_df(toy_ratings, reader)  # Load the data\n",
    "\n",
    "trainset, validset = surprise.model_selection.train_test_split(\n",
    "    data, test_size=0.01, random_state=42\n",
    ")  # Split the data"
   ]
  },
  {
   "cell_type": "code",
   "execution_count": 49,
   "metadata": {},
   "outputs": [],
   "source": [
    "k = 2\n",
    "algo = SVD(n_factors=k, random_state=42)\n",
    "algo.fit(trainset)\n",
    "preds = algo.test(trainset.build_testset())"
   ]
  },
  {
   "cell_type": "code",
   "execution_count": 50,
   "metadata": {},
   "outputs": [
    {
     "data": {
      "text/plain": [
       "[Prediction(uid='Sam', iid='Lion King', r_ui=4.0, est=3.5442874862516582, details={'was_impossible': False}),\n",
       " Prediction(uid='Sam', iid='Jerry Maguire', r_ui=4.0, est=3.471958396420975, details={'was_impossible': False}),\n",
       " Prediction(uid='Sam', iid='Downfall', r_ui=1.0, est=3.141157981632877, details={'was_impossible': False}),\n",
       " Prediction(uid='Sam', iid='Roman Holidays', r_ui=5.0, est=3.6555436348053982, details={'was_impossible': False}),\n",
       " Prediction(uid='Jim', iid='Lion King', r_ui=3.0, est=3.6494404051925047, details={'was_impossible': False}),\n",
       " Prediction(uid='Jim', iid='The Social Dilemma', r_ui=5.0, est=3.8739407581035588, details={'was_impossible': False}),\n",
       " Prediction(uid='Jim', iid='Titanic', r_ui=2.0, est=3.295718235231984, details={'was_impossible': False}),\n",
       " Prediction(uid='Jim', iid='Man on Wire', r_ui=5.0, est=3.8839492577938532, details={'was_impossible': False}),\n",
       " Prediction(uid='Jim', iid='Malcolm x', r_ui=4.0, est=3.6435176323135128, details={'was_impossible': False}),\n",
       " Prediction(uid='Pat', iid='A Beautiful Mind', r_ui=3.0, est=3.4463313322323263, details={'was_impossible': False}),\n",
       " Prediction(uid='Pat', iid='Bambi', r_ui=4.0, est=3.540418795140043, details={'was_impossible': False}),\n",
       " Prediction(uid='Pat', iid='Jerry Maguire', r_ui=5.0, est=3.4582870107738803, details={'was_impossible': False}),\n",
       " Prediction(uid='Pat', iid='Titanic', r_ui=3.0, est=3.1872411557123517, details={'was_impossible': False}),\n",
       " Prediction(uid='Pat', iid='Cast Away', r_ui=3.0, est=3.4442142132704827, details={'was_impossible': False}),\n",
       " Prediction(uid='Pat', iid='Lion King', r_ui=4.0, est=3.5286392016604875, details={'was_impossible': False}),\n",
       " Prediction(uid='Pat', iid='Downfall', r_ui=2.0, est=3.133747883605952, details={'was_impossible': False}),\n",
       " Prediction(uid='Eva', iid='The Social Dilemma', r_ui=5.0, est=3.6665140635371194, details={'was_impossible': False}),\n",
       " Prediction(uid='Eva', iid='Jerry Maguire', r_ui=1.0, est=3.3423360343482957, details={'was_impossible': False}),\n",
       " Prediction(uid='Eva', iid='Titanic', r_ui=2.0, est=3.113324069881786, details={'was_impossible': False}),\n",
       " Prediction(uid='Eva', iid='Man on Wire', r_ui=5.0, est=3.685575559931666, details={'was_impossible': False})]"
      ]
     },
     "execution_count": 50,
     "metadata": {},
     "output_type": "execute_result"
    }
   ],
   "source": [
    "preds"
   ]
  },
  {
   "cell_type": "code",
   "execution_count": 51,
   "metadata": {},
   "outputs": [
    {
     "data": {
      "text/html": [
       "<div>\n",
       "<style scoped>\n",
       "    .dataframe tbody tr th:only-of-type {\n",
       "        vertical-align: middle;\n",
       "    }\n",
       "\n",
       "    .dataframe tbody tr th {\n",
       "        vertical-align: top;\n",
       "    }\n",
       "\n",
       "    .dataframe thead th {\n",
       "        text-align: right;\n",
       "    }\n",
       "</style>\n",
       "<table border=\"1\" class=\"dataframe\">\n",
       "  <thead>\n",
       "    <tr style=\"text-align: right;\">\n",
       "      <th></th>\n",
       "      <th>A Beautiful Mind</th>\n",
       "      <th>Bambi</th>\n",
       "      <th>Cast Away</th>\n",
       "      <th>Downfall</th>\n",
       "      <th>Inception</th>\n",
       "      <th>Jerry Maguire</th>\n",
       "      <th>Lion King</th>\n",
       "      <th>Malcolm x</th>\n",
       "      <th>Man on Wire</th>\n",
       "      <th>Roman Holidays</th>\n",
       "      <th>The Social Dilemma</th>\n",
       "      <th>Titanic</th>\n",
       "    </tr>\n",
       "  </thead>\n",
       "  <tbody>\n",
       "    <tr>\n",
       "      <th>Eva</th>\n",
       "      <td>NaN</td>\n",
       "      <td>NaN</td>\n",
       "      <td>NaN</td>\n",
       "      <td>NaN</td>\n",
       "      <td>4.0</td>\n",
       "      <td>1.0</td>\n",
       "      <td>NaN</td>\n",
       "      <td>NaN</td>\n",
       "      <td>5.0</td>\n",
       "      <td>NaN</td>\n",
       "      <td>5.0</td>\n",
       "      <td>2.0</td>\n",
       "    </tr>\n",
       "    <tr>\n",
       "      <th>Jim</th>\n",
       "      <td>NaN</td>\n",
       "      <td>NaN</td>\n",
       "      <td>NaN</td>\n",
       "      <td>NaN</td>\n",
       "      <td>NaN</td>\n",
       "      <td>NaN</td>\n",
       "      <td>3.0</td>\n",
       "      <td>4.0</td>\n",
       "      <td>5.0</td>\n",
       "      <td>NaN</td>\n",
       "      <td>5.0</td>\n",
       "      <td>2.0</td>\n",
       "    </tr>\n",
       "    <tr>\n",
       "      <th>Pat</th>\n",
       "      <td>3.0</td>\n",
       "      <td>4.0</td>\n",
       "      <td>3.0</td>\n",
       "      <td>2.0</td>\n",
       "      <td>NaN</td>\n",
       "      <td>5.0</td>\n",
       "      <td>4.0</td>\n",
       "      <td>NaN</td>\n",
       "      <td>NaN</td>\n",
       "      <td>NaN</td>\n",
       "      <td>NaN</td>\n",
       "      <td>3.0</td>\n",
       "    </tr>\n",
       "    <tr>\n",
       "      <th>Sam</th>\n",
       "      <td>NaN</td>\n",
       "      <td>NaN</td>\n",
       "      <td>NaN</td>\n",
       "      <td>1.0</td>\n",
       "      <td>NaN</td>\n",
       "      <td>4.0</td>\n",
       "      <td>4.0</td>\n",
       "      <td>NaN</td>\n",
       "      <td>NaN</td>\n",
       "      <td>5.0</td>\n",
       "      <td>NaN</td>\n",
       "      <td>NaN</td>\n",
       "    </tr>\n",
       "  </tbody>\n",
       "</table>\n",
       "</div>"
      ],
      "text/plain": [
       "     A Beautiful Mind  Bambi  Cast Away  Downfall  Inception  Jerry Maguire  \\\n",
       "Eva NaN               NaN    NaN        NaN        4.0        1.0             \n",
       "Jim NaN               NaN    NaN        NaN       NaN        NaN              \n",
       "Pat  3.0               4.0    3.0        2.0      NaN         5.0             \n",
       "Sam NaN               NaN    NaN         1.0      NaN         4.0             \n",
       "\n",
       "     Lion King  Malcolm x  Man on Wire  Roman Holidays  The Social Dilemma  \\\n",
       "Eva NaN        NaN         5.0         NaN              5.0                  \n",
       "Jim  3.0        4.0        5.0         NaN              5.0                  \n",
       "Pat  4.0       NaN        NaN          NaN             NaN                   \n",
       "Sam  4.0       NaN        NaN           5.0            NaN                   \n",
       "\n",
       "     Titanic  \n",
       "Eva  2.0      \n",
       "Jim  2.0      \n",
       "Pat  3.0      \n",
       "Sam NaN       "
      ]
     },
     "execution_count": 51,
     "metadata": {},
     "output_type": "execute_result"
    }
   ],
   "source": [
    "utility_mat"
   ]
  },
  {
   "cell_type": "code",
   "execution_count": 52,
   "metadata": {},
   "outputs": [
    {
     "data": {
      "text/plain": [
       "Prediction(uid='Sam', iid='Bambi', r_ui=None, est=3.5511489489069694, details={'was_impossible': False})"
      ]
     },
     "execution_count": 52,
     "metadata": {},
     "output_type": "execute_result"
    }
   ],
   "source": [
    "algo.predict(uid='Sam', iid='Bambi')"
   ]
  },
  {
   "cell_type": "markdown",
   "metadata": {
    "slideshow": {
     "slide_type": "slide"
    }
   },
   "source": [
    "### Movie features\n",
    "\n",
    "- Suppose we also have movie features. "
   ]
  },
  {
   "cell_type": "code",
   "execution_count": 53,
   "metadata": {},
   "outputs": [
    {
     "data": {
      "text/html": [
       "<div>\n",
       "<style scoped>\n",
       "    .dataframe tbody tr th:only-of-type {\n",
       "        vertical-align: middle;\n",
       "    }\n",
       "\n",
       "    .dataframe tbody tr th {\n",
       "        vertical-align: top;\n",
       "    }\n",
       "\n",
       "    .dataframe thead th {\n",
       "        text-align: right;\n",
       "    }\n",
       "</style>\n",
       "<table border=\"1\" class=\"dataframe\">\n",
       "  <thead>\n",
       "    <tr style=\"text-align: right;\">\n",
       "      <th></th>\n",
       "      <th>Action</th>\n",
       "      <th>Romance</th>\n",
       "      <th>Drama</th>\n",
       "      <th>Comedy</th>\n",
       "      <th>Children</th>\n",
       "      <th>Documentary</th>\n",
       "    </tr>\n",
       "  </thead>\n",
       "  <tbody>\n",
       "    <tr>\n",
       "      <th>A Beautiful Mind</th>\n",
       "      <td>0</td>\n",
       "      <td>1</td>\n",
       "      <td>1</td>\n",
       "      <td>0</td>\n",
       "      <td>0</td>\n",
       "      <td>0</td>\n",
       "    </tr>\n",
       "    <tr>\n",
       "      <th>Bambi</th>\n",
       "      <td>0</td>\n",
       "      <td>0</td>\n",
       "      <td>1</td>\n",
       "      <td>0</td>\n",
       "      <td>1</td>\n",
       "      <td>0</td>\n",
       "    </tr>\n",
       "    <tr>\n",
       "      <th>Cast Away</th>\n",
       "      <td>0</td>\n",
       "      <td>1</td>\n",
       "      <td>1</td>\n",
       "      <td>0</td>\n",
       "      <td>0</td>\n",
       "      <td>0</td>\n",
       "    </tr>\n",
       "    <tr>\n",
       "      <th>Downfall</th>\n",
       "      <td>0</td>\n",
       "      <td>0</td>\n",
       "      <td>0</td>\n",
       "      <td>0</td>\n",
       "      <td>0</td>\n",
       "      <td>1</td>\n",
       "    </tr>\n",
       "    <tr>\n",
       "      <th>Inception</th>\n",
       "      <td>1</td>\n",
       "      <td>0</td>\n",
       "      <td>1</td>\n",
       "      <td>0</td>\n",
       "      <td>0</td>\n",
       "      <td>0</td>\n",
       "    </tr>\n",
       "    <tr>\n",
       "      <th>Jerry Maguire</th>\n",
       "      <td>0</td>\n",
       "      <td>1</td>\n",
       "      <td>1</td>\n",
       "      <td>1</td>\n",
       "      <td>0</td>\n",
       "      <td>0</td>\n",
       "    </tr>\n",
       "    <tr>\n",
       "      <th>Lion King</th>\n",
       "      <td>0</td>\n",
       "      <td>0</td>\n",
       "      <td>1</td>\n",
       "      <td>0</td>\n",
       "      <td>1</td>\n",
       "      <td>0</td>\n",
       "    </tr>\n",
       "    <tr>\n",
       "      <th>Malcolm x</th>\n",
       "      <td>0</td>\n",
       "      <td>0</td>\n",
       "      <td>0</td>\n",
       "      <td>0</td>\n",
       "      <td>0</td>\n",
       "      <td>1</td>\n",
       "    </tr>\n",
       "    <tr>\n",
       "      <th>Man on Wire</th>\n",
       "      <td>0</td>\n",
       "      <td>0</td>\n",
       "      <td>0</td>\n",
       "      <td>0</td>\n",
       "      <td>0</td>\n",
       "      <td>1</td>\n",
       "    </tr>\n",
       "    <tr>\n",
       "      <th>Roman Holidays</th>\n",
       "      <td>0</td>\n",
       "      <td>1</td>\n",
       "      <td>1</td>\n",
       "      <td>1</td>\n",
       "      <td>0</td>\n",
       "      <td>0</td>\n",
       "    </tr>\n",
       "    <tr>\n",
       "      <th>The Social Dilemma</th>\n",
       "      <td>0</td>\n",
       "      <td>0</td>\n",
       "      <td>0</td>\n",
       "      <td>0</td>\n",
       "      <td>0</td>\n",
       "      <td>1</td>\n",
       "    </tr>\n",
       "    <tr>\n",
       "      <th>Titanic</th>\n",
       "      <td>0</td>\n",
       "      <td>1</td>\n",
       "      <td>1</td>\n",
       "      <td>0</td>\n",
       "      <td>0</td>\n",
       "      <td>0</td>\n",
       "    </tr>\n",
       "  </tbody>\n",
       "</table>\n",
       "</div>"
      ],
      "text/plain": [
       "                    Action  Romance  Drama  Comedy  Children  Documentary\n",
       "A Beautiful Mind    0       1        1      0       0         0          \n",
       "Bambi               0       0        1      0       1         0          \n",
       "Cast Away           0       1        1      0       0         0          \n",
       "Downfall            0       0        0      0       0         1          \n",
       "Inception           1       0        1      0       0         0          \n",
       "Jerry Maguire       0       1        1      1       0         0          \n",
       "Lion King           0       0        1      0       1         0          \n",
       "Malcolm x           0       0        0      0       0         1          \n",
       "Man on Wire         0       0        0      0       0         1          \n",
       "Roman Holidays      0       1        1      1       0         0          \n",
       "The Social Dilemma  0       0        0      0       0         1          \n",
       "Titanic             0       1        1      0       0         0          "
      ]
     },
     "execution_count": 53,
     "metadata": {},
     "output_type": "execute_result"
    }
   ],
   "source": [
    "movie_feats_df = pd.read_csv(\"../data/toy_movie_feats.csv\", index_col=0)\n",
    "movie_feats_df"
   ]
  },
  {
   "cell_type": "code",
   "execution_count": 54,
   "metadata": {},
   "outputs": [
    {
     "data": {
      "text/plain": [
       "(12, 6)"
      ]
     },
     "execution_count": 54,
     "metadata": {},
     "output_type": "execute_result"
    }
   ],
   "source": [
    "Z = movie_feats_df.to_numpy()\n",
    "Z.shape"
   ]
  },
  {
   "cell_type": "markdown",
   "metadata": {},
   "source": [
    "- How can we use these features to predict missing ratings? "
   ]
  },
  {
   "cell_type": "markdown",
   "metadata": {
    "slideshow": {
     "slide_type": "slide"
    }
   },
   "source": [
    "### Overall idea\n",
    "\n",
    "- Using the ratings data and movie features, we'll build **profiles for different users**. \n",
    "- Let's consider an example user **Pat**. "
   ]
  },
  {
   "cell_type": "markdown",
   "metadata": {
    "slideshow": {
     "slide_type": "slide"
    }
   },
   "source": [
    "### Pat's ratings\n",
    "\n",
    "- We don't know anything about Pat but we know her ratings to movies. "
   ]
  },
  {
   "cell_type": "code",
   "execution_count": 55,
   "metadata": {
    "slideshow": {
     "slide_type": "-"
    }
   },
   "outputs": [
    {
     "data": {
      "text/plain": [
       "A Beautiful Mind      3.0\n",
       "Bambi                 4.0\n",
       "Cast Away             3.0\n",
       "Downfall              2.0\n",
       "Inception            NaN \n",
       "Jerry Maguire         5.0\n",
       "Lion King             4.0\n",
       "Malcolm x            NaN \n",
       "Man on Wire          NaN \n",
       "Roman Holidays       NaN \n",
       "The Social Dilemma   NaN \n",
       "Titanic               3.0\n",
       "Name: Pat, dtype: float64"
      ]
     },
     "execution_count": 55,
     "metadata": {},
     "output_type": "execute_result"
    }
   ],
   "source": [
    "utility_mat.loc[\"Pat\"]"
   ]
  },
  {
   "cell_type": "markdown",
   "metadata": {
    "slideshow": {
     "slide_type": "slide"
    }
   },
   "source": [
    "- We also know about movies and their features. \n",
    "- If Pat gave a high rating to _Lion King_, it means that she liked the features of the movie. "
   ]
  },
  {
   "cell_type": "code",
   "execution_count": 56,
   "metadata": {},
   "outputs": [
    {
     "data": {
      "text/plain": [
       "Action         0\n",
       "Romance        0\n",
       "Drama          1\n",
       "Comedy         0\n",
       "Children       1\n",
       "Documentary    0\n",
       "Name: Lion King, dtype: int64"
      ]
     },
     "execution_count": 56,
     "metadata": {},
     "output_type": "execute_result"
    }
   ],
   "source": [
    "movie_feats_df.loc[\"Lion King\"]"
   ]
  },
  {
   "cell_type": "markdown",
   "metadata": {
    "slideshow": {
     "slide_type": "slide"
    }
   },
   "source": [
    "### Supervised approach to rating prediction \n",
    "\n",
    "- We treat ratings prediction problem as a set of regression problems. \n",
    "- Given movie information, **we create user profile for each user**.\n",
    "- Build regression model for each user and learn regression weights for each user. "
   ]
  },
  {
   "cell_type": "markdown",
   "metadata": {},
   "source": [
    "- We build a **profile** for users based on \n",
    "    - the movies they have watched\n",
    "    - their rating for the movies\n",
    "    - the features of the movies"
   ]
  },
  {
   "cell_type": "markdown",
   "metadata": {
    "slideshow": {
     "slide_type": "slide"
    }
   },
   "source": [
    "\n",
    "### Supervised approach to rating prediction \n",
    "\n",
    "For each user $i$ create a user profile as follows. \n",
    "\n",
    "- Consider all movies rated by $i$ and create `X` and `y` for the user: \n",
    "    - Each row in `X` contains the **movie features** of movie $j$ **rated by $i$**. \n",
    "    - Each value in `y` is the corresponding rating given to the movie $j$ **by user $i$**. \n",
    "- Fit a regression model using `X` and `y`. \n",
    "- Apply the model to predict ratings for new items! "
   ]
  },
  {
   "cell_type": "markdown",
   "metadata": {
    "slideshow": {
     "slide_type": "slide"
    }
   },
   "source": [
    "### Let's build user profiles \n",
    "\n",
    "- Build `X` and `y` for all users. "
   ]
  },
  {
   "cell_type": "code",
   "execution_count": 57,
   "metadata": {
    "slideshow": {
     "slide_type": "-"
    }
   },
   "outputs": [],
   "source": [
    "from collections import defaultdict\n",
    "\n",
    "\n",
    "def get_lr_data_per_user(ratings_df, d):\n",
    "    lr_y = defaultdict(list)\n",
    "    lr_X = defaultdict(list)\n",
    "    lr_items = defaultdict(list)\n",
    "\n",
    "    for index, val in ratings_df.iterrows():\n",
    "        n = user_mapper[val[user_key]]\n",
    "        m = item_mapper[val[item_key]]\n",
    "        lr_X[n].append(Z[m])\n",
    "        lr_y[n].append(val[\"rating\"])\n",
    "        lr_items[n].append(m)\n",
    "\n",
    "    for n in lr_X:\n",
    "        lr_X[n] = np.array(lr_X[n])\n",
    "        lr_y[n] = np.array(lr_y[n])\n",
    "\n",
    "    return lr_X, lr_y, lr_items"
   ]
  },
  {
   "cell_type": "code",
   "execution_count": 58,
   "metadata": {
    "slideshow": {
     "slide_type": "slide"
    }
   },
   "outputs": [],
   "source": [
    "d = movie_feats_df.shape[1]\n",
    "X_train_usr, y_train_usr, rated_items = get_lr_data_per_user(toy_ratings, d)"
   ]
  },
  {
   "cell_type": "markdown",
   "metadata": {},
   "source": [
    "- What's the shape of each `X` and `y`?"
   ]
  },
  {
   "cell_type": "code",
   "execution_count": 59,
   "metadata": {},
   "outputs": [
    {
     "data": {
      "text/plain": [
       "defaultdict(list,\n",
       "            {3: array([[0, 0, 1, 0, 1, 0],\n",
       "                    [0, 1, 1, 1, 0, 0],\n",
       "                    [0, 1, 1, 1, 0, 0],\n",
       "                    [0, 0, 0, 0, 0, 1]]),\n",
       "             0: array([[0, 1, 1, 0, 0, 0],\n",
       "                    [0, 1, 1, 1, 0, 0],\n",
       "                    [1, 0, 1, 0, 0, 0],\n",
       "                    [0, 0, 0, 0, 0, 1],\n",
       "                    [0, 0, 0, 0, 0, 1]]),\n",
       "             2: array([[0, 1, 1, 0, 0, 0],\n",
       "                    [0, 0, 1, 0, 1, 0],\n",
       "                    [0, 0, 1, 0, 1, 0],\n",
       "                    [0, 1, 1, 0, 0, 0],\n",
       "                    [0, 1, 1, 1, 0, 0],\n",
       "                    [0, 0, 0, 0, 0, 1],\n",
       "                    [0, 1, 1, 0, 0, 0]]),\n",
       "             1: array([[0, 1, 1, 0, 0, 0],\n",
       "                    [0, 0, 1, 0, 1, 0],\n",
       "                    [0, 0, 0, 0, 0, 1],\n",
       "                    [0, 0, 0, 0, 0, 1],\n",
       "                    [0, 0, 0, 0, 0, 1]])})"
      ]
     },
     "execution_count": 59,
     "metadata": {},
     "output_type": "execute_result"
    }
   ],
   "source": [
    "X_train_usr"
   ]
  },
  {
   "cell_type": "code",
   "execution_count": 60,
   "metadata": {},
   "outputs": [
    {
     "data": {
      "text/plain": [
       "defaultdict(list,\n",
       "            {3: array([4, 4, 5, 1]),\n",
       "             0: array([2, 1, 4, 5, 5]),\n",
       "             2: array([3, 4, 4, 3, 5, 2, 3]),\n",
       "             1: array([2, 3, 5, 4, 5])})"
      ]
     },
     "execution_count": 60,
     "metadata": {},
     "output_type": "execute_result"
    }
   ],
   "source": [
    "y_train_usr"
   ]
  },
  {
   "cell_type": "markdown",
   "metadata": {
    "slideshow": {
     "slide_type": "slide"
    }
   },
   "source": [
    "### Examine user profiles \n",
    "\n",
    "- Let's examine some user profiles. "
   ]
  },
  {
   "cell_type": "code",
   "execution_count": 61,
   "metadata": {
    "slideshow": {
     "slide_type": "-"
    }
   },
   "outputs": [],
   "source": [
    "def get_user_profile(user_name):\n",
    "    X = X_train_usr[user_mapper[user_name]]\n",
    "    y = y_train_usr[user_mapper[user_name]]\n",
    "    items = rated_items[user_mapper[user_name]]\n",
    "    movie_names = [item_inverse_mapper[item] for item in items]\n",
    "    print(\"Profile for user: \", user_name)\n",
    "    profile_df = pd.DataFrame(X, columns=movie_feats_df.columns, index=movie_names)\n",
    "    profile_df[\"ratings\"] = y\n",
    "    return profile_df"
   ]
  },
  {
   "cell_type": "markdown",
   "metadata": {
    "slideshow": {
     "slide_type": "slide"
    }
   },
   "source": [
    "### Pat's profile"
   ]
  },
  {
   "cell_type": "code",
   "execution_count": 62,
   "metadata": {
    "scrolled": true,
    "slideshow": {
     "slide_type": "-"
    }
   },
   "outputs": [
    {
     "name": "stdout",
     "output_type": "stream",
     "text": [
      "Profile for user:  Pat\n"
     ]
    },
    {
     "data": {
      "text/html": [
       "<div>\n",
       "<style scoped>\n",
       "    .dataframe tbody tr th:only-of-type {\n",
       "        vertical-align: middle;\n",
       "    }\n",
       "\n",
       "    .dataframe tbody tr th {\n",
       "        vertical-align: top;\n",
       "    }\n",
       "\n",
       "    .dataframe thead th {\n",
       "        text-align: right;\n",
       "    }\n",
       "</style>\n",
       "<table border=\"1\" class=\"dataframe\">\n",
       "  <thead>\n",
       "    <tr style=\"text-align: right;\">\n",
       "      <th></th>\n",
       "      <th>Action</th>\n",
       "      <th>Romance</th>\n",
       "      <th>Drama</th>\n",
       "      <th>Comedy</th>\n",
       "      <th>Children</th>\n",
       "      <th>Documentary</th>\n",
       "      <th>ratings</th>\n",
       "    </tr>\n",
       "  </thead>\n",
       "  <tbody>\n",
       "    <tr>\n",
       "      <th>Titanic</th>\n",
       "      <td>0</td>\n",
       "      <td>1</td>\n",
       "      <td>1</td>\n",
       "      <td>0</td>\n",
       "      <td>0</td>\n",
       "      <td>0</td>\n",
       "      <td>3</td>\n",
       "    </tr>\n",
       "    <tr>\n",
       "      <th>Lion King</th>\n",
       "      <td>0</td>\n",
       "      <td>0</td>\n",
       "      <td>1</td>\n",
       "      <td>0</td>\n",
       "      <td>1</td>\n",
       "      <td>0</td>\n",
       "      <td>4</td>\n",
       "    </tr>\n",
       "    <tr>\n",
       "      <th>Bambi</th>\n",
       "      <td>0</td>\n",
       "      <td>0</td>\n",
       "      <td>1</td>\n",
       "      <td>0</td>\n",
       "      <td>1</td>\n",
       "      <td>0</td>\n",
       "      <td>4</td>\n",
       "    </tr>\n",
       "    <tr>\n",
       "      <th>Cast Away</th>\n",
       "      <td>0</td>\n",
       "      <td>1</td>\n",
       "      <td>1</td>\n",
       "      <td>0</td>\n",
       "      <td>0</td>\n",
       "      <td>0</td>\n",
       "      <td>3</td>\n",
       "    </tr>\n",
       "    <tr>\n",
       "      <th>Jerry Maguire</th>\n",
       "      <td>0</td>\n",
       "      <td>1</td>\n",
       "      <td>1</td>\n",
       "      <td>1</td>\n",
       "      <td>0</td>\n",
       "      <td>0</td>\n",
       "      <td>5</td>\n",
       "    </tr>\n",
       "    <tr>\n",
       "      <th>Downfall</th>\n",
       "      <td>0</td>\n",
       "      <td>0</td>\n",
       "      <td>0</td>\n",
       "      <td>0</td>\n",
       "      <td>0</td>\n",
       "      <td>1</td>\n",
       "      <td>2</td>\n",
       "    </tr>\n",
       "    <tr>\n",
       "      <th>A Beautiful Mind</th>\n",
       "      <td>0</td>\n",
       "      <td>1</td>\n",
       "      <td>1</td>\n",
       "      <td>0</td>\n",
       "      <td>0</td>\n",
       "      <td>0</td>\n",
       "      <td>3</td>\n",
       "    </tr>\n",
       "  </tbody>\n",
       "</table>\n",
       "</div>"
      ],
      "text/plain": [
       "                  Action  Romance  Drama  Comedy  Children  Documentary  \\\n",
       "Titanic           0       1        1      0       0         0             \n",
       "Lion King         0       0        1      0       1         0             \n",
       "Bambi             0       0        1      0       1         0             \n",
       "Cast Away         0       1        1      0       0         0             \n",
       "Jerry Maguire     0       1        1      1       0         0             \n",
       "Downfall          0       0        0      0       0         1             \n",
       "A Beautiful Mind  0       1        1      0       0         0             \n",
       "\n",
       "                  ratings  \n",
       "Titanic           3        \n",
       "Lion King         4        \n",
       "Bambi             4        \n",
       "Cast Away         3        \n",
       "Jerry Maguire     5        \n",
       "Downfall          2        \n",
       "A Beautiful Mind  3        "
      ]
     },
     "execution_count": 62,
     "metadata": {},
     "output_type": "execute_result"
    }
   ],
   "source": [
    "get_user_profile(\"Pat\")"
   ]
  },
  {
   "cell_type": "markdown",
   "metadata": {},
   "source": [
    "- Pat seems to like Children's movies and movies with Comedy. \n",
    "- Seems like she's not so much into romantic movies.  \n"
   ]
  },
  {
   "cell_type": "markdown",
   "metadata": {
    "slideshow": {
     "slide_type": "slide"
    }
   },
   "source": [
    "### Eva's profile"
   ]
  },
  {
   "cell_type": "code",
   "execution_count": 63,
   "metadata": {
    "slideshow": {
     "slide_type": "-"
    }
   },
   "outputs": [
    {
     "name": "stdout",
     "output_type": "stream",
     "text": [
      "Profile for user:  Eva\n"
     ]
    },
    {
     "data": {
      "text/html": [
       "<div>\n",
       "<style scoped>\n",
       "    .dataframe tbody tr th:only-of-type {\n",
       "        vertical-align: middle;\n",
       "    }\n",
       "\n",
       "    .dataframe tbody tr th {\n",
       "        vertical-align: top;\n",
       "    }\n",
       "\n",
       "    .dataframe thead th {\n",
       "        text-align: right;\n",
       "    }\n",
       "</style>\n",
       "<table border=\"1\" class=\"dataframe\">\n",
       "  <thead>\n",
       "    <tr style=\"text-align: right;\">\n",
       "      <th></th>\n",
       "      <th>Action</th>\n",
       "      <th>Romance</th>\n",
       "      <th>Drama</th>\n",
       "      <th>Comedy</th>\n",
       "      <th>Children</th>\n",
       "      <th>Documentary</th>\n",
       "      <th>ratings</th>\n",
       "    </tr>\n",
       "  </thead>\n",
       "  <tbody>\n",
       "    <tr>\n",
       "      <th>Titanic</th>\n",
       "      <td>0</td>\n",
       "      <td>1</td>\n",
       "      <td>1</td>\n",
       "      <td>0</td>\n",
       "      <td>0</td>\n",
       "      <td>0</td>\n",
       "      <td>2</td>\n",
       "    </tr>\n",
       "    <tr>\n",
       "      <th>Jerry Maguire</th>\n",
       "      <td>0</td>\n",
       "      <td>1</td>\n",
       "      <td>1</td>\n",
       "      <td>1</td>\n",
       "      <td>0</td>\n",
       "      <td>0</td>\n",
       "      <td>1</td>\n",
       "    </tr>\n",
       "    <tr>\n",
       "      <th>Inception</th>\n",
       "      <td>1</td>\n",
       "      <td>0</td>\n",
       "      <td>1</td>\n",
       "      <td>0</td>\n",
       "      <td>0</td>\n",
       "      <td>0</td>\n",
       "      <td>4</td>\n",
       "    </tr>\n",
       "    <tr>\n",
       "      <th>Man on Wire</th>\n",
       "      <td>0</td>\n",
       "      <td>0</td>\n",
       "      <td>0</td>\n",
       "      <td>0</td>\n",
       "      <td>0</td>\n",
       "      <td>1</td>\n",
       "      <td>5</td>\n",
       "    </tr>\n",
       "    <tr>\n",
       "      <th>The Social Dilemma</th>\n",
       "      <td>0</td>\n",
       "      <td>0</td>\n",
       "      <td>0</td>\n",
       "      <td>0</td>\n",
       "      <td>0</td>\n",
       "      <td>1</td>\n",
       "      <td>5</td>\n",
       "    </tr>\n",
       "  </tbody>\n",
       "</table>\n",
       "</div>"
      ],
      "text/plain": [
       "                    Action  Romance  Drama  Comedy  Children  Documentary  \\\n",
       "Titanic             0       1        1      0       0         0             \n",
       "Jerry Maguire       0       1        1      1       0         0             \n",
       "Inception           1       0        1      0       0         0             \n",
       "Man on Wire         0       0        0      0       0         1             \n",
       "The Social Dilemma  0       0        0      0       0         1             \n",
       "\n",
       "                    ratings  \n",
       "Titanic             2        \n",
       "Jerry Maguire       1        \n",
       "Inception           4        \n",
       "Man on Wire         5        \n",
       "The Social Dilemma  5        "
      ]
     },
     "execution_count": 63,
     "metadata": {},
     "output_type": "execute_result"
    }
   ],
   "source": [
    "get_user_profile(\"Eva\")"
   ]
  },
  {
   "cell_type": "markdown",
   "metadata": {},
   "source": [
    "- Eva hasn't rated many movies. There are not many rows. \n",
    "- Eva seems to like documentaries and action movies. \n",
    "- Seems like she's not so much into romantic movies.  "
   ]
  },
  {
   "cell_type": "markdown",
   "metadata": {
    "slideshow": {
     "slide_type": "slide"
    }
   },
   "source": [
    "### Regression models for users"
   ]
  },
  {
   "cell_type": "markdown",
   "metadata": {},
   "source": [
    "We can train **a Regression model for ratings of each user**"
   ]
  },
  {
   "cell_type": "code",
   "execution_count": 64,
   "metadata": {
    "slideshow": {
     "slide_type": "-"
    }
   },
   "outputs": [],
   "source": [
    "from sklearn.linear_model import Ridge\n",
    "\n",
    "\n",
    "def train_for_usr(user_name, model=Ridge()):\n",
    "    X = X_train_usr[user_mapper[user_name]]\n",
    "    y = y_train_usr[user_mapper[user_name]]\n",
    "    model.fit(X, y)\n",
    "    return model\n",
    "\n",
    "\n",
    "def predict_for_usr(model, movie_names):\n",
    "    feat_vecs = movie_feats_df.loc[movie_names].values\n",
    "    preds = model.predict(feat_vecs)\n",
    "    return preds"
   ]
  },
  {
   "cell_type": "markdown",
   "metadata": {
    "slideshow": {
     "slide_type": "slide"
    }
   },
   "source": [
    "### Regression model for Pat \n",
    "\n",
    "- What are the regression weights learned for Pat? "
   ]
  },
  {
   "cell_type": "code",
   "execution_count": 65,
   "metadata": {},
   "outputs": [
    {
     "data": {
      "text/html": [
       "<div>\n",
       "<style scoped>\n",
       "    .dataframe tbody tr th:only-of-type {\n",
       "        vertical-align: middle;\n",
       "    }\n",
       "\n",
       "    .dataframe tbody tr th {\n",
       "        vertical-align: top;\n",
       "    }\n",
       "\n",
       "    .dataframe thead th {\n",
       "        text-align: right;\n",
       "    }\n",
       "</style>\n",
       "<table border=\"1\" class=\"dataframe\">\n",
       "  <thead>\n",
       "    <tr style=\"text-align: right;\">\n",
       "      <th></th>\n",
       "      <th>Coefficients for Pat</th>\n",
       "    </tr>\n",
       "  </thead>\n",
       "  <tbody>\n",
       "    <tr>\n",
       "      <th>Action</th>\n",
       "      <td>0.000000</td>\n",
       "    </tr>\n",
       "    <tr>\n",
       "      <th>Romance</th>\n",
       "      <td>-0.020833</td>\n",
       "    </tr>\n",
       "    <tr>\n",
       "      <th>Drama</th>\n",
       "      <td>0.437500</td>\n",
       "    </tr>\n",
       "    <tr>\n",
       "      <th>Comedy</th>\n",
       "      <td>0.854167</td>\n",
       "    </tr>\n",
       "    <tr>\n",
       "      <th>Children</th>\n",
       "      <td>0.458333</td>\n",
       "    </tr>\n",
       "    <tr>\n",
       "      <th>Documentary</th>\n",
       "      <td>-0.437500</td>\n",
       "    </tr>\n",
       "  </tbody>\n",
       "</table>\n",
       "</div>"
      ],
      "text/plain": [
       "             Coefficients for Pat\n",
       "Action       0.000000            \n",
       "Romance     -0.020833            \n",
       "Drama        0.437500            \n",
       "Comedy       0.854167            \n",
       "Children     0.458333            \n",
       "Documentary -0.437500            "
      ]
     },
     "execution_count": 65,
     "metadata": {},
     "output_type": "execute_result"
    }
   ],
   "source": [
    "user_name = \"Pat\"\n",
    "pat_model = train_for_usr(user_name)\n",
    "col = \"Coefficients for %s\" % user_name\n",
    "pd.DataFrame(pat_model.coef_, index=movie_feats_df.columns, columns=[col])"
   ]
  },
  {
   "cell_type": "markdown",
   "metadata": {
    "slideshow": {
     "slide_type": "slide"
    }
   },
   "source": [
    "### Predictions for Pat\n",
    "- How would Pat rate some movies she hasn't seen? "
   ]
  },
  {
   "cell_type": "code",
   "execution_count": 66,
   "metadata": {},
   "outputs": [
    {
     "data": {
      "text/html": [
       "<div>\n",
       "<style scoped>\n",
       "    .dataframe tbody tr th:only-of-type {\n",
       "        vertical-align: middle;\n",
       "    }\n",
       "\n",
       "    .dataframe tbody tr th {\n",
       "        vertical-align: top;\n",
       "    }\n",
       "\n",
       "    .dataframe thead th {\n",
       "        text-align: right;\n",
       "    }\n",
       "</style>\n",
       "<table border=\"1\" class=\"dataframe\">\n",
       "  <thead>\n",
       "    <tr style=\"text-align: right;\">\n",
       "      <th></th>\n",
       "      <th>Action</th>\n",
       "      <th>Romance</th>\n",
       "      <th>Drama</th>\n",
       "      <th>Comedy</th>\n",
       "      <th>Children</th>\n",
       "      <th>Documentary</th>\n",
       "    </tr>\n",
       "  </thead>\n",
       "  <tbody>\n",
       "    <tr>\n",
       "      <th>Roman Holidays</th>\n",
       "      <td>0</td>\n",
       "      <td>1</td>\n",
       "      <td>1</td>\n",
       "      <td>1</td>\n",
       "      <td>0</td>\n",
       "      <td>0</td>\n",
       "    </tr>\n",
       "    <tr>\n",
       "      <th>Malcolm x</th>\n",
       "      <td>0</td>\n",
       "      <td>0</td>\n",
       "      <td>0</td>\n",
       "      <td>0</td>\n",
       "      <td>0</td>\n",
       "      <td>1</td>\n",
       "    </tr>\n",
       "  </tbody>\n",
       "</table>\n",
       "</div>"
      ],
      "text/plain": [
       "                Action  Romance  Drama  Comedy  Children  Documentary\n",
       "Roman Holidays  0       1        1      1       0         0          \n",
       "Malcolm x       0       0        0      0       0         1          "
      ]
     },
     "execution_count": 66,
     "metadata": {},
     "output_type": "execute_result"
    }
   ],
   "source": [
    "movies_to_pred = [\"Roman Holidays\", \"Malcolm x\"]\n",
    "pred_df = movie_feats_df.loc[movies_to_pred]\n",
    "pred_df"
   ]
  },
  {
   "cell_type": "code",
   "execution_count": 67,
   "metadata": {},
   "outputs": [
    {
     "data": {
      "text/html": [
       "<div>\n",
       "<style scoped>\n",
       "    .dataframe tbody tr th:only-of-type {\n",
       "        vertical-align: middle;\n",
       "    }\n",
       "\n",
       "    .dataframe tbody tr th {\n",
       "        vertical-align: top;\n",
       "    }\n",
       "\n",
       "    .dataframe thead th {\n",
       "        text-align: right;\n",
       "    }\n",
       "</style>\n",
       "<table border=\"1\" class=\"dataframe\">\n",
       "  <thead>\n",
       "    <tr style=\"text-align: right;\">\n",
       "      <th></th>\n",
       "      <th>Action</th>\n",
       "      <th>Romance</th>\n",
       "      <th>Drama</th>\n",
       "      <th>Comedy</th>\n",
       "      <th>Children</th>\n",
       "      <th>Documentary</th>\n",
       "      <th>Pat's predicted ratings</th>\n",
       "    </tr>\n",
       "  </thead>\n",
       "  <tbody>\n",
       "    <tr>\n",
       "      <th>Roman Holidays</th>\n",
       "      <td>0</td>\n",
       "      <td>1</td>\n",
       "      <td>1</td>\n",
       "      <td>1</td>\n",
       "      <td>0</td>\n",
       "      <td>0</td>\n",
       "      <td>4.145833</td>\n",
       "    </tr>\n",
       "    <tr>\n",
       "      <th>Malcolm x</th>\n",
       "      <td>0</td>\n",
       "      <td>0</td>\n",
       "      <td>0</td>\n",
       "      <td>0</td>\n",
       "      <td>0</td>\n",
       "      <td>1</td>\n",
       "      <td>2.437500</td>\n",
       "    </tr>\n",
       "  </tbody>\n",
       "</table>\n",
       "</div>"
      ],
      "text/plain": [
       "                Action  Romance  Drama  Comedy  Children  Documentary  \\\n",
       "Roman Holidays  0       1        1      1       0         0             \n",
       "Malcolm x       0       0        0      0       0         1             \n",
       "\n",
       "                Pat's predicted ratings  \n",
       "Roman Holidays  4.145833                 \n",
       "Malcolm x       2.437500                 "
      ]
     },
     "execution_count": 67,
     "metadata": {},
     "output_type": "execute_result"
    }
   ],
   "source": [
    "user_name = \"Pat\"\n",
    "preds = predict_for_usr(pat_model, movies_to_pred)\n",
    "pred_df[user_name + \"'s predicted ratings\"] = preds\n",
    "pred_df"
   ]
  },
  {
   "cell_type": "markdown",
   "metadata": {
    "slideshow": {
     "slide_type": "slide"
    }
   },
   "source": [
    "### Regression model for Eva \n",
    "\n",
    "- What are the regression weights learned for Eva? "
   ]
  },
  {
   "cell_type": "code",
   "execution_count": 68,
   "metadata": {},
   "outputs": [
    {
     "data": {
      "text/html": [
       "<div>\n",
       "<style scoped>\n",
       "    .dataframe tbody tr th:only-of-type {\n",
       "        vertical-align: middle;\n",
       "    }\n",
       "\n",
       "    .dataframe tbody tr th {\n",
       "        vertical-align: top;\n",
       "    }\n",
       "\n",
       "    .dataframe thead th {\n",
       "        text-align: right;\n",
       "    }\n",
       "</style>\n",
       "<table border=\"1\" class=\"dataframe\">\n",
       "  <thead>\n",
       "    <tr style=\"text-align: right;\">\n",
       "      <th></th>\n",
       "      <th>Coefficients for Eva</th>\n",
       "    </tr>\n",
       "  </thead>\n",
       "  <tbody>\n",
       "    <tr>\n",
       "      <th>Action</th>\n",
       "      <td>0.333333</td>\n",
       "    </tr>\n",
       "    <tr>\n",
       "      <th>Romance</th>\n",
       "      <td>-1.000000</td>\n",
       "    </tr>\n",
       "    <tr>\n",
       "      <th>Drama</th>\n",
       "      <td>-0.666667</td>\n",
       "    </tr>\n",
       "    <tr>\n",
       "      <th>Comedy</th>\n",
       "      <td>-0.666667</td>\n",
       "    </tr>\n",
       "    <tr>\n",
       "      <th>Children</th>\n",
       "      <td>0.000000</td>\n",
       "    </tr>\n",
       "    <tr>\n",
       "      <th>Documentary</th>\n",
       "      <td>0.666667</td>\n",
       "    </tr>\n",
       "  </tbody>\n",
       "</table>\n",
       "</div>"
      ],
      "text/plain": [
       "             Coefficients for Eva\n",
       "Action       0.333333            \n",
       "Romance     -1.000000            \n",
       "Drama       -0.666667            \n",
       "Comedy      -0.666667            \n",
       "Children     0.000000            \n",
       "Documentary  0.666667            "
      ]
     },
     "execution_count": 68,
     "metadata": {},
     "output_type": "execute_result"
    }
   ],
   "source": [
    "user_name = \"Eva\"\n",
    "eva_model = train_for_usr(user_name)\n",
    "col = \"Coefficients for %s\" % user_name\n",
    "pd.DataFrame(eva_model.coef_, index=movie_feats_df.columns, columns=[col])"
   ]
  },
  {
   "cell_type": "markdown",
   "metadata": {
    "slideshow": {
     "slide_type": "slide"
    }
   },
   "source": [
    "### Predictions for Eva\n",
    "\n",
    "- What are the predicted ratings for Eva for a list of movies?"
   ]
  },
  {
   "cell_type": "code",
   "execution_count": 69,
   "metadata": {},
   "outputs": [
    {
     "data": {
      "text/html": [
       "<div>\n",
       "<style scoped>\n",
       "    .dataframe tbody tr th:only-of-type {\n",
       "        vertical-align: middle;\n",
       "    }\n",
       "\n",
       "    .dataframe tbody tr th {\n",
       "        vertical-align: top;\n",
       "    }\n",
       "\n",
       "    .dataframe thead th {\n",
       "        text-align: right;\n",
       "    }\n",
       "</style>\n",
       "<table border=\"1\" class=\"dataframe\">\n",
       "  <thead>\n",
       "    <tr style=\"text-align: right;\">\n",
       "      <th></th>\n",
       "      <th>Action</th>\n",
       "      <th>Romance</th>\n",
       "      <th>Drama</th>\n",
       "      <th>Comedy</th>\n",
       "      <th>Children</th>\n",
       "      <th>Documentary</th>\n",
       "      <th>Pat's predicted ratings</th>\n",
       "      <th>Eva's predicted ratings</th>\n",
       "    </tr>\n",
       "  </thead>\n",
       "  <tbody>\n",
       "    <tr>\n",
       "      <th>Roman Holidays</th>\n",
       "      <td>0</td>\n",
       "      <td>1</td>\n",
       "      <td>1</td>\n",
       "      <td>1</td>\n",
       "      <td>0</td>\n",
       "      <td>0</td>\n",
       "      <td>4.145833</td>\n",
       "      <td>1.666667</td>\n",
       "    </tr>\n",
       "    <tr>\n",
       "      <th>Malcolm x</th>\n",
       "      <td>0</td>\n",
       "      <td>0</td>\n",
       "      <td>0</td>\n",
       "      <td>0</td>\n",
       "      <td>0</td>\n",
       "      <td>1</td>\n",
       "      <td>2.437500</td>\n",
       "      <td>4.666667</td>\n",
       "    </tr>\n",
       "  </tbody>\n",
       "</table>\n",
       "</div>"
      ],
      "text/plain": [
       "                Action  Romance  Drama  Comedy  Children  Documentary  \\\n",
       "Roman Holidays  0       1        1      1       0         0             \n",
       "Malcolm x       0       0        0      0       0         1             \n",
       "\n",
       "                Pat's predicted ratings  Eva's predicted ratings  \n",
       "Roman Holidays  4.145833                 1.666667                 \n",
       "Malcolm x       2.437500                 4.666667                 "
      ]
     },
     "execution_count": 69,
     "metadata": {},
     "output_type": "execute_result"
    }
   ],
   "source": [
    "user_name = \"Eva\"\n",
    "preds = predict_for_usr(eva_model, movies_to_pred)\n",
    "pred_df[user_name + \"'s predicted ratings\"] = preds\n",
    "pred_df"
   ]
  },
  {
   "cell_type": "markdown",
   "metadata": {},
   "source": [
    "### Completing the utility matrix with content-based filtering\n",
    "\n",
    "Here is the original utility matrix.  "
   ]
  },
  {
   "cell_type": "code",
   "execution_count": 70,
   "metadata": {},
   "outputs": [
    {
     "data": {
      "text/html": [
       "<div>\n",
       "<style scoped>\n",
       "    .dataframe tbody tr th:only-of-type {\n",
       "        vertical-align: middle;\n",
       "    }\n",
       "\n",
       "    .dataframe tbody tr th {\n",
       "        vertical-align: top;\n",
       "    }\n",
       "\n",
       "    .dataframe thead th {\n",
       "        text-align: right;\n",
       "    }\n",
       "</style>\n",
       "<table border=\"1\" class=\"dataframe\">\n",
       "  <thead>\n",
       "    <tr style=\"text-align: right;\">\n",
       "      <th></th>\n",
       "      <th>A Beautiful Mind</th>\n",
       "      <th>Bambi</th>\n",
       "      <th>Cast Away</th>\n",
       "      <th>Downfall</th>\n",
       "      <th>Inception</th>\n",
       "      <th>Jerry Maguire</th>\n",
       "      <th>Lion King</th>\n",
       "      <th>Malcolm x</th>\n",
       "      <th>Man on Wire</th>\n",
       "      <th>Roman Holidays</th>\n",
       "      <th>The Social Dilemma</th>\n",
       "      <th>Titanic</th>\n",
       "    </tr>\n",
       "  </thead>\n",
       "  <tbody>\n",
       "    <tr>\n",
       "      <th>Eva</th>\n",
       "      <td>NaN</td>\n",
       "      <td>NaN</td>\n",
       "      <td>NaN</td>\n",
       "      <td>NaN</td>\n",
       "      <td>4.0</td>\n",
       "      <td>1.0</td>\n",
       "      <td>NaN</td>\n",
       "      <td>NaN</td>\n",
       "      <td>5.0</td>\n",
       "      <td>NaN</td>\n",
       "      <td>5.0</td>\n",
       "      <td>2.0</td>\n",
       "    </tr>\n",
       "    <tr>\n",
       "      <th>Jim</th>\n",
       "      <td>NaN</td>\n",
       "      <td>NaN</td>\n",
       "      <td>NaN</td>\n",
       "      <td>NaN</td>\n",
       "      <td>NaN</td>\n",
       "      <td>NaN</td>\n",
       "      <td>3.0</td>\n",
       "      <td>4.0</td>\n",
       "      <td>5.0</td>\n",
       "      <td>NaN</td>\n",
       "      <td>5.0</td>\n",
       "      <td>2.0</td>\n",
       "    </tr>\n",
       "    <tr>\n",
       "      <th>Pat</th>\n",
       "      <td>3.0</td>\n",
       "      <td>4.0</td>\n",
       "      <td>3.0</td>\n",
       "      <td>2.0</td>\n",
       "      <td>NaN</td>\n",
       "      <td>5.0</td>\n",
       "      <td>4.0</td>\n",
       "      <td>NaN</td>\n",
       "      <td>NaN</td>\n",
       "      <td>NaN</td>\n",
       "      <td>NaN</td>\n",
       "      <td>3.0</td>\n",
       "    </tr>\n",
       "    <tr>\n",
       "      <th>Sam</th>\n",
       "      <td>NaN</td>\n",
       "      <td>NaN</td>\n",
       "      <td>NaN</td>\n",
       "      <td>1.0</td>\n",
       "      <td>NaN</td>\n",
       "      <td>4.0</td>\n",
       "      <td>4.0</td>\n",
       "      <td>NaN</td>\n",
       "      <td>NaN</td>\n",
       "      <td>5.0</td>\n",
       "      <td>NaN</td>\n",
       "      <td>NaN</td>\n",
       "    </tr>\n",
       "  </tbody>\n",
       "</table>\n",
       "</div>"
      ],
      "text/plain": [
       "     A Beautiful Mind  Bambi  Cast Away  Downfall  Inception  Jerry Maguire  \\\n",
       "Eva NaN               NaN    NaN        NaN        4.0        1.0             \n",
       "Jim NaN               NaN    NaN        NaN       NaN        NaN              \n",
       "Pat  3.0               4.0    3.0        2.0      NaN         5.0             \n",
       "Sam NaN               NaN    NaN         1.0      NaN         4.0             \n",
       "\n",
       "     Lion King  Malcolm x  Man on Wire  Roman Holidays  The Social Dilemma  \\\n",
       "Eva NaN        NaN         5.0         NaN              5.0                  \n",
       "Jim  3.0        4.0        5.0         NaN              5.0                  \n",
       "Pat  4.0       NaN        NaN          NaN             NaN                   \n",
       "Sam  4.0       NaN        NaN           5.0            NaN                   \n",
       "\n",
       "     Titanic  \n",
       "Eva  2.0      \n",
       "Jim  2.0      \n",
       "Pat  3.0      \n",
       "Sam NaN       "
      ]
     },
     "execution_count": 70,
     "metadata": {},
     "output_type": "execute_result"
    }
   ],
   "source": [
    "utility_mat"
   ]
  },
  {
   "cell_type": "markdown",
   "metadata": {},
   "source": [
    "- Using predictions per user, we can fill in missing entries in the utility matrix. "
   ]
  },
  {
   "cell_type": "code",
   "execution_count": 71,
   "metadata": {},
   "outputs": [],
   "source": [
    "from sklearn.linear_model import Ridge\n",
    "\n",
    "models = dict()\n",
    "pred_lin_reg = np.zeros((N, M))\n",
    "\n",
    "# features of each movie\n",
    "Z = movie_feats_df.to_numpy()\n",
    "\n",
    "# iterate over all users\n",
    "for n in range(N):\n",
    "    \n",
    "    # train a model for each user\n",
    "    models[n] = Ridge()\n",
    "    models[n].fit(X_train_usr[n], y_train_usr[n])\n",
    "    \n",
    "    # predict \n",
    "    pred_lin_reg[n] = models[n].predict(Z)"
   ]
  },
  {
   "cell_type": "code",
   "execution_count": 72,
   "metadata": {},
   "outputs": [
    {
     "data": {
      "text/html": [
       "<div>\n",
       "<style scoped>\n",
       "    .dataframe tbody tr th:only-of-type {\n",
       "        vertical-align: middle;\n",
       "    }\n",
       "\n",
       "    .dataframe tbody tr th {\n",
       "        vertical-align: top;\n",
       "    }\n",
       "\n",
       "    .dataframe thead th {\n",
       "        text-align: right;\n",
       "    }\n",
       "</style>\n",
       "<table border=\"1\" class=\"dataframe\">\n",
       "  <thead>\n",
       "    <tr style=\"text-align: right;\">\n",
       "      <th></th>\n",
       "      <th>A Beautiful Mind</th>\n",
       "      <th>Bambi</th>\n",
       "      <th>Cast Away</th>\n",
       "      <th>Downfall</th>\n",
       "      <th>Inception</th>\n",
       "      <th>Jerry Maguire</th>\n",
       "      <th>Lion King</th>\n",
       "      <th>Malcolm x</th>\n",
       "      <th>Man on Wire</th>\n",
       "      <th>Roman Holidays</th>\n",
       "      <th>The Social Dilemma</th>\n",
       "      <th>Titanic</th>\n",
       "    </tr>\n",
       "  </thead>\n",
       "  <tbody>\n",
       "    <tr>\n",
       "      <th>Eva</th>\n",
       "      <td>2.333333</td>\n",
       "      <td>3.333333</td>\n",
       "      <td>2.333333</td>\n",
       "      <td>4.666667</td>\n",
       "      <td>3.666667</td>\n",
       "      <td>1.666667</td>\n",
       "      <td>3.333333</td>\n",
       "      <td>4.666667</td>\n",
       "      <td>4.666667</td>\n",
       "      <td>1.666667</td>\n",
       "      <td>4.666667</td>\n",
       "      <td>2.333333</td>\n",
       "    </tr>\n",
       "    <tr>\n",
       "      <th>Jim</th>\n",
       "      <td>2.575000</td>\n",
       "      <td>3.075000</td>\n",
       "      <td>2.575000</td>\n",
       "      <td>4.450000</td>\n",
       "      <td>3.150000</td>\n",
       "      <td>2.575000</td>\n",
       "      <td>3.075000</td>\n",
       "      <td>4.450000</td>\n",
       "      <td>4.450000</td>\n",
       "      <td>2.575000</td>\n",
       "      <td>4.450000</td>\n",
       "      <td>2.575000</td>\n",
       "    </tr>\n",
       "    <tr>\n",
       "      <th>Pat</th>\n",
       "      <td>3.291667</td>\n",
       "      <td>3.770833</td>\n",
       "      <td>3.291667</td>\n",
       "      <td>2.437500</td>\n",
       "      <td>3.312500</td>\n",
       "      <td>4.145833</td>\n",
       "      <td>3.770833</td>\n",
       "      <td>2.437500</td>\n",
       "      <td>2.437500</td>\n",
       "      <td>4.145833</td>\n",
       "      <td>2.437500</td>\n",
       "      <td>3.291667</td>\n",
       "    </tr>\n",
       "    <tr>\n",
       "      <th>Sam</th>\n",
       "      <td>3.810811</td>\n",
       "      <td>3.675676</td>\n",
       "      <td>3.810811</td>\n",
       "      <td>1.783784</td>\n",
       "      <td>3.351351</td>\n",
       "      <td>4.270270</td>\n",
       "      <td>3.675676</td>\n",
       "      <td>1.783784</td>\n",
       "      <td>1.783784</td>\n",
       "      <td>4.270270</td>\n",
       "      <td>1.783784</td>\n",
       "      <td>3.810811</td>\n",
       "    </tr>\n",
       "  </tbody>\n",
       "</table>\n",
       "</div>"
      ],
      "text/plain": [
       "     A Beautiful Mind     Bambi  Cast Away  Downfall  Inception  \\\n",
       "Eva  2.333333          3.333333  2.333333   4.666667  3.666667    \n",
       "Jim  2.575000          3.075000  2.575000   4.450000  3.150000    \n",
       "Pat  3.291667          3.770833  3.291667   2.437500  3.312500    \n",
       "Sam  3.810811          3.675676  3.810811   1.783784  3.351351    \n",
       "\n",
       "     Jerry Maguire  Lion King  Malcolm x  Man on Wire  Roman Holidays  \\\n",
       "Eva  1.666667       3.333333   4.666667   4.666667     1.666667         \n",
       "Jim  2.575000       3.075000   4.450000   4.450000     2.575000         \n",
       "Pat  4.145833       3.770833   2.437500   2.437500     4.145833         \n",
       "Sam  4.270270       3.675676   1.783784   1.783784     4.270270         \n",
       "\n",
       "     The Social Dilemma   Titanic  \n",
       "Eva  4.666667            2.333333  \n",
       "Jim  4.450000            2.575000  \n",
       "Pat  2.437500            3.291667  \n",
       "Sam  1.783784            3.810811  "
      ]
     },
     "execution_count": 72,
     "metadata": {},
     "output_type": "execute_result"
    }
   ],
   "source": [
    "pd.DataFrame(pred_lin_reg, columns=item_mapper.keys(), index=user_mapper.keys())"
   ]
  },
  {
   "cell_type": "markdown",
   "metadata": {
    "slideshow": {
     "slide_type": "slide"
    }
   },
   "source": [
    "### More comments on content-based filtering\n",
    "\n",
    "- The feature matrix for movies can contain different types of features.\n",
    "    - Example: Plot of the movie (text features), actors (categorical features), year of the movie, budget and revenue of the movie (numerical features). \n",
    "    - You'll apply our usual preprocessing techniques to these features. \n",
    "- If you have enough data, you could also carry out hyperparameter tuning with cross-validation for each model.\n",
    "- Finally, although we have been talking about linear models above, **you can use any regression model of your choice**. "
   ]
  },
  {
   "cell_type": "markdown",
   "metadata": {
    "slideshow": {
     "slide_type": "slide"
    }
   },
   "source": [
    "### Advantages of content-based filtering \n",
    "\n",
    "- We don't need many users to provide ratings for an item. \n",
    "- **Each user is modeled separately, so you might be able to capture personalization**. \n",
    "- Since you can obtain the features of the items, you can immediately recommend new items. \n",
    "    - This would not have been possible with collaborative filtering (**what to do in collaboration filtering cold-start when a new item just added?**)\n",
    "- Recommendations are interpretable.\n",
    "    - You can explain to the user why you are recommending an item because you have learned weights. \n",
    "    "
   ]
  },
  {
   "cell_type": "markdown",
   "metadata": {
    "slideshow": {
     "slide_type": "slide"
    }
   },
   "source": [
    "### Disadvantages of content-based filtering \n",
    "\n",
    "- Feature acquisition and feature engineering\n",
    "    - What features should we use to explain the difference in ratings? \n",
    "    - Obtaining those features for each item might be very expensive. \n",
    "- Less diversity: hardly recommend an item outside the user's profile. \n",
    "- **Cold start: When a new user shows up, you don't have any information about them.**"
   ]
  },
  {
   "cell_type": "markdown",
   "metadata": {},
   "source": [
    "### Hybrid filtering\n",
    "\n",
    "- Combining advantages of collaborative filtering and content-based filtering"
   ]
  },
  {
   "cell_type": "markdown",
   "metadata": {
    "slideshow": {
     "slide_type": "slide"
    }
   },
   "source": [
    "<br><br><br><br>"
   ]
  },
  {
   "cell_type": "markdown",
   "metadata": {
    "slideshow": {
     "slide_type": "slide"
    }
   },
   "source": [
    "## Final comments and summary <a name=\"1\"></a>"
   ]
  },
  {
   "cell_type": "markdown",
   "metadata": {
    "slideshow": {
     "slide_type": "slide"
    }
   },
   "source": [
    "### Formulating the problem of recommender systems \n",
    "\n",
    "- We are given ratings data. \n",
    "- We use this data to create **utility matrix** which encodes interactions between users and items. \n",
    "- The utility matrix has many missing entries. \n",
    "- We defined recommendation systems problem as **matrix completion problem**. "
   ]
  },
  {
   "cell_type": "markdown",
   "metadata": {
    "slideshow": {
     "slide_type": "slide"
    }
   },
   "source": [
    "### What did we cover? \n",
    "\n",
    "- There is a big world of recommendation systems out there. We talked about some basic traditional approaches to recommender systems. \n",
    "    - collaborative filtering \n",
    "    - content-based filtering "
   ]
  },
  {
   "cell_type": "markdown",
   "metadata": {},
   "source": [
    "If you want to know more advanced approaches to recommender systems, watch this 4-hour summer school tutorial by Xavier Amatriain, Research/Engineering Director @ Netflix.  \n",
    "\n",
    "- [Part1](https://www.youtube.com/watch?v=bLhq63ygoU8)\n",
    "- [Part2](https://www.youtube.com/watch?v=mRToFXlNBpQ)\n"
   ]
  },
  {
   "cell_type": "markdown",
   "metadata": {
    "slideshow": {
     "slide_type": "slide"
    }
   },
   "source": [
    "### Evaluation \n",
    "\n",
    "- We split the data similar to supervised systems. \n",
    "- We evaluate recommendation systems using traditional regression metrics such as MSE or RMSE. \n",
    "- But **real evaluation of recommender system can be very tricky because there is no ground truth**. \n",
    "- We have been using RMSE due to the lack of a better measure.  \n",
    "- What we actually want to measure is the **interest that our user has in the recommended items**. "
   ]
  },
  {
   "cell_type": "markdown",
   "metadata": {
    "slideshow": {
     "slide_type": "slide"
    }
   },
   "source": [
    "### Beyond error rate in recommendation systems \n",
    "\n",
    "- If a system gives the best RMSE it doesn't necessarily mean that it's going to give best recommendations. \n",
    "- In recommendation systems we do not have ground truth.\n",
    "- Just training your model and evaluating it offline is not ideal. \n",
    "- Other aspects such as simplicity and **interpretation** are equally (if not more) important than best validation error. \n",
    "- Winning system of Netflix Challenge was never adopted.\n",
    "    - **Big mess of ensembles was not really maintainable**  "
   ]
  },
  {
   "cell_type": "markdown",
   "metadata": {
    "slideshow": {
     "slide_type": "slide"
    }
   },
   "source": [
    "### Other issues important in recommender systems"
   ]
  },
  {
   "cell_type": "markdown",
   "metadata": {},
   "source": [
    "### Are these good recommendations? \n",
    "\n",
    "You are looking for water shoes and at the moment you are looking at [VIFUUR Water Sports Shoes](https://www.amazon.ca/VIFUUR-Barefoot-Quick-Dry-Blue-38-39/dp/B0753DL15Y), are these good recommendations? \n",
    "\n",
    "![](../img/reco-diversity.png)\n"
   ]
  },
  {
   "cell_type": "markdown",
   "metadata": {},
   "source": [
    "Now suppose you've recently bought VIFUUR Water Sports Shoes and rated them highly. Are these good recommendations now? \n",
    "- Not really. Even though you really liked them you don't need them anymore. You want some non-Water Sports Shoes recommendations.\n",
    "- **Diversity** is about how different are the recommendations. \n",
    "    - Another example: Even if you really really like Star Wars, you might want non-Star-Wars suggestions.    \n",
    "- **We need a balance between Exploration and Exploitation**"
   ]
  },
  {
   "cell_type": "markdown",
   "metadata": {},
   "source": [
    "<br><br><br><br><br>\n",
    "**We need a balance between Exploration and Exploitation**  \n",
    "What are they?\n",
    "\n",
    "<br><br><br><br><br>"
   ]
  },
  {
   "cell_type": "markdown",
   "metadata": {},
   "source": [
    "### Are these good recommendations? \n",
    "\n",
    "![](../img/freshness.png)\n",
    "\n",
    "- Some of these books don't have many ratings but it might be a good idea to recommend \"fresh\" things. \n",
    "- **Freshness**: people tend to get more excited about new/surprising things.    "
   ]
  },
  {
   "cell_type": "markdown",
   "metadata": {},
   "source": [
    "- But again you need a balance here. What would happen if you keep surprising the user all the time? \n",
    "- There might be **trust** issues. \n",
    "- Another aspect of trust is **explaining** your recommendation, i.e., telling the user why you made a recommendation. This gives the user an opportunity to understand why your recommendations could be interesting to them.   \n",
    "  - **We are recommeding you THIS item because you liked ANOTHER item**\n",
    "    \n"
   ]
  },
  {
   "cell_type": "markdown",
   "metadata": {},
   "source": [
    "**Persistence**: how long should recommendations last?\n",
    "- If you keep not clicking on a recommendation, should it remain a recommendation?"
   ]
  },
  {
   "cell_type": "markdown",
   "metadata": {
    "slideshow": {
     "slide_type": "slide"
    }
   },
   "source": [
    "**Social recommendation**: what did your friends watch?\n",
    "- Many recommenders\tare\tnow\tconnected to social\tnetworks.\n",
    "- \"Login using you Facebook\taccount\".\n",
    "- Often, people\tlike similar movies\tto their friends.\n",
    "- If we get a new user, then recommendations are based on friend's preferences. "
   ]
  },
  {
   "cell_type": "markdown",
   "metadata": {
    "slideshow": {
     "slide_type": "slide"
    }
   },
   "source": [
    "### Types of data \n",
    "\n",
    "- Explicit data: ratings, thumbs up, etc. \n",
    "- Implicit data: collected from the users' behaviour (e.g., mouse clicks, purchases, time spent doing something)\n",
    "- Trust implicit data that costs something, like time or even money. \n",
    "    - this makes it harder to fraud"
   ]
  },
  {
   "cell_type": "markdown",
   "metadata": {
    "slideshow": {
     "slide_type": "slide"
    }
   },
   "source": [
    "### Some thoughts on recommendation systems  \n",
    "- Be mindful of the consequences of recommendation systems. \n",
    "    - Recommendation systems can have terrible consequences. \n",
    "- **All for-profit companies (small tech / big tech)**, which extensively use recommendation systems, are **profit-driven**\n",
    "  - They make decisions to infinitely increase profit margins of the company\n",
    "  - All actions of a company has roots in profit\n",
    "  - Product design in a for-profit company, including the recommendation systems, are no exception; they are intended to maximize user attention/engagement\n",
    "- There are tons of news and research articles on serious consequences of recommendation systems.  "
   ]
  },
  {
   "cell_type": "markdown",
   "metadata": {
    "slideshow": {
     "slide_type": "slide"
    }
   },
   "source": [
    "### Some thoughts on recommendation systems  \n",
    "\n",
    "- Some weird stories which got media attention.   \n",
    "[How Target Figured Out A Teen Girl Was Pregnant Before Her Father Did](https://www.forbes.com/sites/kashmirhill/2012/02/16/how-target-figured-out-a-teen-girl-was-pregnant-before-her-father-did/?sh=3171af136668)\n",
    "- More serious consequences are in political contexts. \n",
    "    - [Facebook Admits It Was Used to Incite Violence in Myanmar](https://www.nytimes.com/2018/11/06/technology/myanmar-facebook.html)\n",
    "    - [YouTube Extremism and the Long Tail](https://www.theatlantic.com/politics/archive/2018/03/youtube-extremism-and-the-long-tail/555350/)    "
   ]
  },
  {
   "cell_type": "markdown",
   "metadata": {
    "slideshow": {
     "slide_type": "slide"
    }
   },
   "source": [
    "### My advice\n",
    "\n",
    "- Ask hard and uncomfortable questions from **yourself (and from your employer where possible)** before implementing and deploying such systems.  \n",
    "\n"
   ]
  },
  {
   "cell_type": "markdown",
   "metadata": {
    "slideshow": {
     "slide_type": "slide"
    }
   },
   "source": [
    "### Resources \n",
    "\n",
    "- [Collaborative filtering for recommendation systems in Python, by N. Hug](https://www.youtube.com/watch?v=z0dx-YckFko)\n",
    "- [An interesting talk: The paradox of choice](https://www.ted.com/talks/barry_schwartz_the_paradox_of_choice)\n",
    "- [How Netflix’s Recommendations System Works](https://help.netflix.com/en/node/100639)\n",
    "- [Hands on Recommendation Systems with Python](https://learning.oreilly.com/library/view/hands-on-recommendation-systems/9781788993753/)"
   ]
  },
  {
   "cell_type": "markdown",
   "metadata": {},
   "source": [
    "<br><br><br><br>"
   ]
  }
 ],
 "metadata": {
  "celltoolbar": "Slideshow",
  "kernelspec": {
   "display_name": "Python 3 (ipykernel)",
   "language": "python",
   "name": "python3"
  },
  "language_info": {
   "codemirror_mode": {
    "name": "ipython",
    "version": 3
   },
   "file_extension": ".py",
   "mimetype": "text/x-python",
   "name": "python",
   "nbconvert_exporter": "python",
   "pygments_lexer": "ipython3",
   "version": "3.10.0"
  }
 },
 "nbformat": 4,
 "nbformat_minor": 4
}

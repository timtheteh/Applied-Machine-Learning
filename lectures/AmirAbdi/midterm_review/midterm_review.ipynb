{
 "cells": [
  {
   "cell_type": "code",
   "execution_count": 2,
   "id": "0c457b8a-094c-4f77-916a-da9b9af64206",
   "metadata": {},
   "outputs": [
    {
     "name": "stdout",
     "output_type": "stream",
     "text": [
      "accuracuy: 0.996548748921484\n",
      "precision: 0.625\n",
      "recall: 0.8333333333333334\n"
     ]
    }
   ],
   "source": [
    "# Midterm Review\n",
    "\n",
    "# Problem 1\n",
    "\n",
    "TP = 50\n",
    "FP = 30\n",
    "FN = 10\n",
    "TN = 11500\n",
    "\n",
    "accuracy = (TP + TN) / (TP + TN + FP + FN)\n",
    "precision = TP / (TP + FP) # quality\n",
    "recall = TP / (TP + FN) # quantity\n",
    "print(\"accuracuy:\", accuracy)\n",
    "print(\"precision:\", precision)\n",
    "print(\"recall:\", recall)"
   ]
  },
  {
   "cell_type": "markdown",
   "id": "0465849e-d521-4f3f-9999-e501db1dc8e3",
   "metadata": {},
   "source": [
    "2.\n",
    "\n",
    "Recall is the most important one, because in this business problem we are trying to find \"defective items\"  (spotting problem)\n",
    "and defective items are costing the business a lot of money.\n",
    "\n",
    "So, we want to make sure we \"identify (spot)\" as many defective items as possible."
   ]
  },
  {
   "cell_type": "markdown",
   "id": "d11b774b-8f70-45e9-9b3d-50f64b536431",
   "metadata": {},
   "source": [
    "3. \n",
    "\n",
    "The model is \"relatively good\" because of its high recall; but, can we do better?\n",
    "\n",
    "The penalty of Even a single \"False Negative\" exceeds penalty of 10 x False Positives."
   ]
  },
  {
   "cell_type": "code",
   "execution_count": 6,
   "id": "ba86e608-08f2-4f69-a705-996a9ea9a5c9",
   "metadata": {},
   "outputs": [
    {
     "name": "stdout",
     "output_type": "stream",
     "text": [
      "penalty of bad recall: 16666.666666666664\n"
     ]
    }
   ],
   "source": [
    "total_pr = 100\n",
    "\n",
    "print('penalty of bad recall:', (100 * (1 - recall)) * 1000)"
   ]
  },
  {
   "cell_type": "code",
   "execution_count": 7,
   "id": "68ff3b2f-33b7-4aad-9098-c228bf444afb",
   "metadata": {},
   "outputs": [
    {
     "name": "stdout",
     "output_type": "stream",
     "text": [
      "penalty of bad precision: 3000.0\n"
     ]
    }
   ],
   "source": [
    "print('penalty of bad precision:', (100 * (1 - precision)) * 80)"
   ]
  },
  {
   "cell_type": "markdown",
   "id": "38c4cec8-b46e-4c2e-9053-694b4a970a12",
   "metadata": {},
   "source": [
    "How to increase recall?\n",
    "\n",
    "a) if we are dealing with a model with probabiblity of predictions and a threshold (e.g. Logistic Regression), we would lower the threshold to detect more positives.\n",
    "\n",
    "b) Do some HParam Optimization, focusing on **recall** as the primary metric to optimize; then, the resultant model **might** have a higher recall on the Test set.\n",
    "\n",
    "c) use `class_weights` (e.g. `balanced`) make up for the fact that the dataset is very imbalanced."
   ]
  },
  {
   "cell_type": "markdown",
   "id": "c2456018-a211-415d-b7f5-3e92886bebb9",
   "metadata": {
    "slideshow": {
     "slide_type": "slide"
    }
   },
   "source": [
    "<img src='../img/evaluation-metrics.png' width=\"1000\" height=\"1000\" />"
   ]
  },
  {
   "cell_type": "markdown",
   "id": "ddc7803f-b982-4c6e-aa38-f0100b8d44e1",
   "metadata": {},
   "source": [
    "# Question 2"
   ]
  },
  {
   "cell_type": "code",
   "execution_count": 8,
   "id": "48c82c29-24a1-413b-a1fb-74f606cc1d3b",
   "metadata": {},
   "outputs": [
    {
     "name": "stdout",
     "output_type": "stream",
     "text": [
      "55.0\n"
     ]
    }
   ],
   "source": [
    "# Optimize C and Gamma\n",
    "\n",
    "# how many models can I train in 1 week\n",
    "num_valid_models = (7 * 24) / 3 - 1\n",
    "print(num_valid_models)"
   ]
  },
  {
   "cell_type": "code",
   "execution_count": null,
   "id": "c1a0110a-f93d-4a64-acb9-41c6927cbaa3",
   "metadata": {},
   "outputs": [],
   "source": [
    "# How many different values of C and gamma could you test using grid search?\n",
    "# 7 of C values\n",
    "# 7  of Gamma values\n",
    "# total of 49\n",
    "# c_vals = np.sqrt(55)\n",
    "# gamma_vals = np.sqrt(55)"
   ]
  },
  {
   "cell_type": "code",
   "execution_count": 9,
   "id": "71e5a36c-573f-454a-8558-e4801ae7a0e2",
   "metadata": {},
   "outputs": [],
   "source": [
    "# How many different models could you test using random search?\n",
    "# Same number (55)\n",
    "\n",
    "# c_vals = list of more than 7 possible values\n",
    "# gamma_vals = list of more than 7 possible values\n",
    "\n",
    "# or\n",
    "\n",
    "# c_vals = sampled from a disribution of choice\n",
    "# gamma_vals = sampled from a disribution of choice\n"
   ]
  },
  {
   "cell_type": "markdown",
   "id": "eed69f6d-492e-4d4a-9eb3-bf1de58f123d",
   "metadata": {},
   "source": [
    "As usual, we often prefer **Random Search** over **Grid Search**"
   ]
  }
 ],
 "metadata": {
  "kernelspec": {
   "display_name": "Python 3 (ipykernel)",
   "language": "python",
   "name": "python3"
  },
  "language_info": {
   "codemirror_mode": {
    "name": "ipython",
    "version": 3
   },
   "file_extension": ".py",
   "mimetype": "text/x-python",
   "name": "python",
   "nbconvert_exporter": "python",
   "pygments_lexer": "ipython3",
   "version": "3.10.0"
  }
 },
 "nbformat": 4,
 "nbformat_minor": 5
}
